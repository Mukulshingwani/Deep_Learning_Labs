{
  "nbformat": 4,
  "nbformat_minor": 0,
  "metadata": {
    "colab": {
      "provenance": []
    },
    "kernelspec": {
      "name": "python3",
      "display_name": "Python 3"
    },
    "language_info": {
      "name": "python"
    },
    "accelerator": "GPU",
    "gpuClass": "standard"
  },
  "cells": [
    {
      "cell_type": "markdown",
      "source": [
        "<h2> DL Lab 4\n",
        "<h3> Mukul Shingwani\n",
        "<h3> B20AI023"
      ],
      "metadata": {
        "id": "-uiipY6TqG4G"
      }
    },
    {
      "cell_type": "markdown",
      "source": [
        "<h4> Note : I have used some of the codes given in demo colab "
      ],
      "metadata": {
        "id": "WlTYfq6ZqLlV"
      }
    },
    {
      "cell_type": "markdown",
      "source": [
        "## Dependancies"
      ],
      "metadata": {
        "id": "hO5fkFAes1Nr"
      }
    },
    {
      "cell_type": "code",
      "source": [
        "import torch\n",
        "import torchvision.transforms as transforms\n",
        "import torchvision.datasets as datasets\n",
        "import torch.optim as optim\n",
        "import torch.nn as nn\n",
        "import matplotlib.pyplot as plt\n",
        "import torchvision\n",
        "import torch.nn.functional as F\n",
        "from timeit import default_timer as timer \n",
        "import os\n",
        "from torch.autograd import Variable\n",
        "import shutil\n",
        "import glob\n",
        "import time\n",
        "from tqdm import tqdm\n",
        "from torchvision.datasets import ImageFolder\n",
        "from torchvision.datasets.utils import verify_str_arg\n",
        "from torchvision.datasets.utils import download_and_extract_archive\n",
        "import torch.optim as optim\n",
        "from torch.utils.data import DataLoader, Dataset\n",
        "from torch.nn.utils.rnn import pad_sequence"
      ],
      "metadata": {
        "id": "irqj7ambs8o1"
      },
      "execution_count": null,
      "outputs": []
    },
    {
      "cell_type": "code",
      "source": [
        "device = torch.device('cuda' if torch.cuda.is_available() else 'cpu')"
      ],
      "metadata": {
        "id": "RWK_r1FjtVor"
      },
      "execution_count": null,
      "outputs": []
    },
    {
      "cell_type": "code",
      "source": [
        "from google.colab import drive\n",
        "drive.mount('/content/drive')"
      ],
      "metadata": {
        "colab": {
          "base_uri": "https://localhost:8080/"
        },
        "id": "cBemdT9ppJWY",
        "outputId": "f039acbe-5057-4c6b-ca24-29bd82f3ec9f"
      },
      "execution_count": null,
      "outputs": [
        {
          "output_type": "stream",
          "name": "stdout",
          "text": [
            "Mounted at /content/drive\n"
          ]
        }
      ]
    },
    {
      "cell_type": "markdown",
      "source": [
        "## Part 1"
      ],
      "metadata": {
        "id": "4ykBkbQ_xKQP"
      }
    },
    {
      "cell_type": "code",
      "source": [
        "import glob\n",
        "import unicodedata\n",
        "import string\n",
        "import torch\n",
        "import random\n",
        "\n",
        "class DataProcessor:\n",
        "    def __init__(self, data_dir):\n",
        "        self.data_dir = data_dir\n",
        "        self.all_letters = string.ascii_letters + \" .,;'\"\n",
        "        self.n_letters = len(self.all_letters)\n",
        "        self.text_files = glob.glob(f'{data_dir}/names/*.txt')\n",
        "        self.category_languages = {}\n",
        "        self.all_categories = []\n",
        "        self.data_points = []\n",
        "\n",
        "    def unicode_to_ascii(self, text):\n",
        "        text = unicodedata.normalize('NFD', text)\n",
        "        text = ''.join(c for c in text if unicodedata.category(c) != 'Mn')\n",
        "        text = text.encode('ascii', 'ignore').decode('ascii')\n",
        "        text = text.strip()\n",
        "        return text\n",
        "\n",
        "    def read_lines(self, filename):\n",
        "        with open(filename, 'r') as f:\n",
        "            lines = f.read().strip().split('\\n')\n",
        "        return [self.unicode_to_ascii(line) for line in lines]\n",
        "\n",
        "    def letter_to_tensor(self, letter):\n",
        "        tensor = torch.zeros(1, self.n_letters)\n",
        "        tensor[0, self.all_letters.find(letter)] = 1\n",
        "        return tensor\n",
        "\n",
        "    def line_to_tensor(self, line):\n",
        "        tensor = torch.zeros(len(line), 1, self.n_letters)\n",
        "        for i, letter in enumerate(line):\n",
        "            tensor[i][0][self.all_letters.find(letter)] = 1\n",
        "        return tensor\n",
        "\n",
        "    def process_data(self):\n",
        "        for filename in self.text_files:\n",
        "            category = filename.split('/')[-1].split('.')[0]\n",
        "            self.all_categories.append(category)\n",
        "            languages = self.read_lines(filename)\n",
        "            self.category_languages[category] = languages\n",
        "\n",
        "        self.no_of_languages = len(self.all_categories)\n",
        "\n",
        "        for category in self.all_categories:\n",
        "            name_list = self.category_languages[category]\n",
        "            labelled_name_list = [(x, category) for x in name_list]\n",
        "            self.data_points += labelled_name_list\n",
        "\n",
        "        random.shuffle(self.data_points)\n",
        "\n",
        "        training_cut = int(len(self.data_points) * 0.8)\n",
        "        val_cut = training_cut + int(len(self.data_points) * 0.1)\n",
        "\n",
        "        self.training_samples = self.data_points[:training_cut+1]\n",
        "        self.validation_samples = self.data_points[training_cut+1:val_cut+1]\n",
        "        self.test_samples = self.data_points[val_cut+1:]\n"
      ],
      "metadata": {
        "id": "qsEql-gqwOed"
      },
      "execution_count": null,
      "outputs": []
    },
    {
      "cell_type": "code",
      "source": [
        "processor = DataProcessor('/content/drive/MyDrive/Deep Learning/Lab4/data')\n",
        "processor.process_data()\n",
        "\n",
        "# Access the processed data\n",
        "train_data = processor.training_samples\n",
        "val_data = processor.validation_samples\n",
        "test_data = processor.test_samples\n"
      ],
      "metadata": {
        "id": "RLDJO5nQwZN0"
      },
      "execution_count": null,
      "outputs": []
    },
    {
      "cell_type": "code",
      "source": [
        "print('no. of languages : ',len(processor.all_categories))"
      ],
      "metadata": {
        "colab": {
          "base_uri": "https://localhost:8080/"
        },
        "id": "CE5eug3Xwqud",
        "outputId": "098604ae-57e1-4832-af47-690052f1fb5d"
      },
      "execution_count": null,
      "outputs": [
        {
          "output_type": "stream",
          "name": "stdout",
          "text": [
            "no. of languages :  18\n"
          ]
        }
      ]
    },
    {
      "cell_type": "code",
      "source": [
        "print(len(train_data))\n",
        "print(len(val_data))\n",
        "print(len(test_data))"
      ],
      "metadata": {
        "colab": {
          "base_uri": "https://localhost:8080/"
        },
        "id": "GkqU_MtQw6lc",
        "outputId": "395db6be-097b-416c-96eb-1df8b434e146"
      },
      "execution_count": null,
      "outputs": [
        {
          "output_type": "stream",
          "name": "stdout",
          "text": [
            "16060\n",
            "2007\n",
            "2007\n"
          ]
        }
      ]
    },
    {
      "cell_type": "markdown",
      "source": [
        "## RNN architecture"
      ],
      "metadata": {
        "id": "4zdsn7OcqEUP"
      }
    },
    {
      "cell_type": "code",
      "source": [
        "\n",
        "class RNN(nn.Module):\n",
        "    def __init__(self, input_size, hidden_size, output_size):\n",
        "        super(RNN, self).__init__()\n",
        "        \n",
        "        self.input_size = input_size\n",
        "        self.hidden_size = hidden_size\n",
        "        self.output_size = output_size\n",
        "        \n",
        "        self.i2h = nn.Linear(input_size + hidden_size, hidden_size)\n",
        "        self.i2o = nn.Linear(input_size + hidden_size, output_size)\n",
        "        self.softmax = nn.LogSoftmax(dim=1)\n",
        "    \n",
        "    def forward(self, input, hidden):\n",
        "        combined = torch.cat((input, hidden), 1)\n",
        "        hidden = self.i2h(combined)\n",
        "        output = self.i2o(combined)\n",
        "        output = self.softmax(output)\n",
        "        return output, hidden\n",
        "\n",
        "    def init_hidden(self):\n",
        "        return Variable(torch.zeros(1, self.hidden_size))"
      ],
      "metadata": {
        "id": "ERQlOCjj5ZTl"
      },
      "execution_count": null,
      "outputs": []
    },
    {
      "cell_type": "code",
      "source": [
        "no_of_languages = len(processor.all_categories)\n",
        "n_letters = len(processor.all_letters)\n",
        "n_hidden = 128"
      ],
      "metadata": {
        "id": "TehXdtuI5toM"
      },
      "execution_count": null,
      "outputs": []
    },
    {
      "cell_type": "code",
      "source": [
        "rnn = RNN(n_letters, n_hidden, no_of_languages)\n",
        "criterion = nn.NLLLoss()\n",
        " \n",
        "learning_rate = 9e-4\n",
        "optimizer = torch.optim.Adam(rnn.parameters(), lr=learning_rate)\n",
        "num_epochs=10"
      ],
      "metadata": {
        "id": "p-nXKIoA5rBA"
      },
      "execution_count": null,
      "outputs": []
    },
    {
      "cell_type": "code",
      "source": [
        "def category_from_output(output):\n",
        "    top_n, top_i = output.data.topk(1) \n",
        "    category_i = top_i[0][0]\n",
        "    return processor.all_categories[category_i], category_i"
      ],
      "metadata": {
        "id": "E8Hei02IDZU_"
      },
      "execution_count": null,
      "outputs": []
    },
    {
      "cell_type": "code",
      "source": [
        "# processor.all_categories.index('Arabic')"
      ],
      "metadata": {
        "id": "2BhKHJ7nOOKw"
      },
      "execution_count": null,
      "outputs": []
    },
    {
      "cell_type": "code",
      "source": [
        "def train(model, device, optimizer, epochs):\n",
        "    train_loss = []\n",
        "    test_loss = []\n",
        "    train_acc = []\n",
        "    test_acc = []\n",
        "    \n",
        "    for epoch in range(1, epochs+1):\n",
        "        print(f\"Epoch: {epoch}\")\n",
        "        running_loss = 0\n",
        "        correct_train = 0\n",
        "\n",
        "        # Train loop\n",
        "        model.train()\n",
        "        with tqdm(total=len(train_data), desc=f'Training Epoch {epoch}/{epochs}') as pbar:\n",
        "            for i, (name, lang) in enumerate(train_data):\n",
        "                category_tensor = torch.tensor([processor.all_categories.index(lang)], dtype=torch.long).to(device)\n",
        "                line_tensor = torch.tensor(processor.line_to_tensor(name), dtype=torch.float32).to(device)\n",
        "\n",
        "                model.zero_grad()\n",
        "                hidden = model.init_hidden().to(device)\n",
        "\n",
        "                for i in range(line_tensor.size()[0]):\n",
        "                    output, hidden = model(line_tensor[i], hidden)\n",
        "\n",
        "                loss = criterion(output, category_tensor)\n",
        "                loss.backward()\n",
        "\n",
        "                optimizer.step()\n",
        "                running_loss += loss.item()\n",
        "                pbar.set_postfix(loss=running_loss/(i+1))\n",
        "                pbar.update(1)\n",
        "\n",
        "                guess, _ = category_from_output(output)\n",
        "                if guess == lang:\n",
        "                    correct_train += 1\n",
        "\n",
        "            train_loss.append(running_loss/len(train_data))\n",
        "            train_acc.append(100 * correct_train / len(train_data))\n",
        "        \n",
        "        # Evaluation loop\n",
        "        model.eval()\n",
        "        with torch.no_grad(), tqdm(total=len(val_data), desc=f'Testing Epoch {epoch}/{epochs}') as pbar:\n",
        "            running_loss = 0\n",
        "            correct_test = 0\n",
        "            for i, (name, lang) in enumerate(val_data):\n",
        "                category_tensor = torch.tensor([processor.all_categories.index(lang)], dtype=torch.long).to(device)\n",
        "                line_tensor = torch.tensor(processor.line_to_tensor(name), dtype=torch.float32).to(device)\n",
        "\n",
        "                hidden = model.init_hidden().to(device)\n",
        "                for i in range(line_tensor.size()[0]):\n",
        "                    output, hidden = model(line_tensor[i], hidden)\n",
        "\n",
        "                loss = criterion(output, category_tensor)\n",
        "                running_loss += loss.item()\n",
        "                pbar.set_postfix(loss=running_loss/(i+1))\n",
        "                pbar.update(1)\n",
        "\n",
        "                guess, _ = category_from_output(output)\n",
        "                if guess == lang:\n",
        "                    correct_test += 1\n",
        "\n",
        "            test_loss.append(running_loss/len(val_data))\n",
        "            test_acc.append(100 * correct_test / len(val_data))\n",
        "\n",
        "        # Print statistics for this epoch\n",
        "        print(f\"Train loss: {train_loss[-1]:.5f}, Train Acc: {train_acc[-1]:.5f} | Test loss: {test_loss[-1]:.5f}, Test acc: {test_acc[-1]:.5f}\")\n",
        "\n",
        "    return train_loss, train_acc, test_loss, test_acc"
      ],
      "metadata": {
        "id": "hlILDC0moYJb"
      },
      "execution_count": null,
      "outputs": []
    },
    {
      "cell_type": "markdown",
      "source": [
        "## varying hyper params"
      ],
      "metadata": {
        "id": "0ZpoBXPqwaHd"
      }
    },
    {
      "cell_type": "code",
      "source": [
        "learning_rates = [1e-2, 1e-3, 1e-4, 1e-5, 1e-6]\n",
        "epochs = 5\n",
        "\n",
        "train_loss_list, train_acc_list, test_loss_list, test_acc_list = [], [], [], []\n",
        "\n",
        "for lr in learning_rates:\n",
        "    print(f\"Training with learning rate {lr}\")\n",
        "    model = RNN(n_letters, n_hidden, no_of_languages)\n",
        "    model.to(device)\n",
        "    criterion = nn.NLLLoss()\n",
        "    optimizer = optim.Adam(model.parameters(), lr=lr)\n",
        "\n",
        "    train_loss, train_acc, test_loss, test_acc = train(model, device, optimizer, epochs)\n",
        "\n",
        "    train_loss_list.append(train_loss)\n",
        "    train_acc_list.append(train_acc)\n",
        "    test_loss_list.append(test_loss)\n",
        "    test_acc_list.append(test_acc)\n",
        "\n",
        "# Plotting the Losses for all Learning Rates\n",
        "plt.figure(figsize=(10, 5))\n",
        "for i in range(len(learning_rates)):\n",
        "    plt.plot(test_loss_list[i], label=f\"LR={learning_rates[i]}\")\n",
        "plt.xlabel(\"Epoch\")\n",
        "plt.ylabel(\"Loss\")\n",
        "plt.title(f\"Testing Loss for all Learning Rates\")\n",
        "plt.legend()\n",
        "plt.show()\n",
        "\n",
        "# Plotting the Accuracies for all Learning Rates\n",
        "plt.figure(figsize=(10, 5))\n",
        "for i in range(len(learning_rates)):\n",
        "    plt.plot(test_acc_list[i], label=f\"LR={learning_rates[i]}\")\n",
        "plt.xlabel(\"Epoch\")\n",
        "plt.ylabel(\"Accuracy\")\n",
        "plt.title(f\"Testing Accuracy for all Learning Rates\")\n",
        "plt.legend()\n",
        "plt.show()\n"
      ],
      "metadata": {
        "colab": {
          "base_uri": "https://localhost:8080/",
          "height": 1000
        },
        "id": "jA1vR8yGTPBp",
        "outputId": "80c99328-9390-4cd3-ac65-325ddcd2ff26"
      },
      "execution_count": null,
      "outputs": [
        {
          "output_type": "stream",
          "name": "stdout",
          "text": [
            "Training with learning rate 0.01\n",
            "Epoch: 1\n"
          ]
        },
        {
          "output_type": "stream",
          "name": "stderr",
          "text": [
            "Training Epoch 1/5:   0%|          | 0/16060 [00:00<?, ?it/s]<ipython-input-13-1631c5e6452c>:17: UserWarning: To copy construct from a tensor, it is recommended to use sourceTensor.clone().detach() or sourceTensor.clone().detach().requires_grad_(True), rather than torch.tensor(sourceTensor).\n",
            "  line_tensor = torch.tensor(processor.line_to_tensor(name), dtype=torch.float32).to(device)\n",
            "Training Epoch 1/5: 100%|██████████| 16060/16060 [01:32<00:00, 173.01it/s, loss=2.4e+21]\n",
            "Testing Epoch 1/5:   0%|          | 0/2007 [00:00<?, ?it/s]<ipython-input-13-1631c5e6452c>:47: UserWarning: To copy construct from a tensor, it is recommended to use sourceTensor.clone().detach() or sourceTensor.clone().detach().requires_grad_(True), rather than torch.tensor(sourceTensor).\n",
            "  line_tensor = torch.tensor(processor.line_to_tensor(name), dtype=torch.float32).to(device)\n",
            "Testing Epoch 1/5: 100%|██████████| 2007/2007 [00:07<00:00, 277.55it/s, loss=1.24e+23]\n"
          ]
        },
        {
          "output_type": "stream",
          "name": "stdout",
          "text": [
            "Train loss: 1345494111502460160.00000, Train Acc: 32.56538 | Test loss: 555206341436466069504.00000, Test acc: 22.12257\n",
            "Epoch: 2\n"
          ]
        },
        {
          "output_type": "stream",
          "name": "stderr",
          "text": [
            "Training Epoch 2/5: 100%|██████████| 16060/16060 [01:32<00:00, 173.60it/s, loss=6.77e+21]\n",
            "Testing Epoch 2/5: 100%|██████████| 2007/2007 [00:07<00:00, 266.69it/s, loss=3.98e+23]\n"
          ]
        },
        {
          "output_type": "stream",
          "name": "stdout",
          "text": [
            "Train loss: 3793630460975245824.00000, Train Acc: 17.13574 | Test loss: 1785639135203326164992.00000, Test acc: 9.86547\n",
            "Epoch: 3\n"
          ]
        },
        {
          "output_type": "stream",
          "name": "stderr",
          "text": [
            "Training Epoch 3/5: 100%|██████████| 16060/16060 [01:31<00:00, 174.92it/s, loss=7.45e+21]\n",
            "Testing Epoch 3/5: 100%|██████████| 2007/2007 [00:07<00:00, 265.26it/s, loss=6.36e+22]\n"
          ]
        },
        {
          "output_type": "stream",
          "name": "stdout",
          "text": [
            "Train loss: 4176445895903778304.00000, Train Acc: 10.64757 | Test loss: 285145156872388935680.00000, Test acc: 10.06477\n",
            "Epoch: 4\n"
          ]
        },
        {
          "output_type": "stream",
          "name": "stderr",
          "text": [
            "Training Epoch 4/5: 100%|██████████| 16060/16060 [01:32<00:00, 173.24it/s, loss=7.38e+21]\n",
            "Testing Epoch 4/5: 100%|██████████| 2007/2007 [00:07<00:00, 260.20it/s, loss=9.09e+22]\n"
          ]
        },
        {
          "output_type": "stream",
          "name": "stdout",
          "text": [
            "Train loss: 4135199039412817408.00000, Train Acc: 13.05106 | Test loss: 407503187318173728768.00000, Test acc: 9.96512\n",
            "Epoch: 5\n"
          ]
        },
        {
          "output_type": "stream",
          "name": "stderr",
          "text": [
            "Training Epoch 5/5: 100%|██████████| 16060/16060 [01:33<00:00, 172.26it/s, loss=7.91e+21]\n",
            "Testing Epoch 5/5: 100%|██████████| 2007/2007 [00:07<00:00, 261.45it/s, loss=1.86e+23]\n"
          ]
        },
        {
          "output_type": "stream",
          "name": "stdout",
          "text": [
            "Train loss: 4432940943396636160.00000, Train Acc: 9.90660 | Test loss: 834140524732880388096.00000, Test acc: 4.23518\n",
            "Training with learning rate 0.001\n",
            "Epoch: 1\n"
          ]
        },
        {
          "output_type": "stream",
          "name": "stderr",
          "text": [
            "Training Epoch 1/5: 100%|██████████| 16060/16060 [01:37<00:00, 165.40it/s, loss=2.12e+3]\n",
            "Testing Epoch 1/5: 100%|██████████| 2007/2007 [00:07<00:00, 262.23it/s, loss=229]\n"
          ]
        },
        {
          "output_type": "stream",
          "name": "stdout",
          "text": [
            "Train loss: 1.18905, Train Acc: 64.93151 | Test loss: 1.02808, Test acc: 70.55306\n",
            "Epoch: 2\n"
          ]
        },
        {
          "output_type": "stream",
          "name": "stderr",
          "text": [
            "Training Epoch 2/5: 100%|██████████| 16060/16060 [01:34<00:00, 169.78it/s, loss=1.67e+3]\n",
            "Testing Epoch 2/5: 100%|██████████| 2007/2007 [00:07<00:00, 274.17it/s, loss=216]\n"
          ]
        },
        {
          "output_type": "stream",
          "name": "stdout",
          "text": [
            "Train loss: 0.93463, Train Acc: 71.02740 | Test loss: 0.96818, Test acc: 71.99801\n",
            "Epoch: 3\n"
          ]
        },
        {
          "output_type": "stream",
          "name": "stderr",
          "text": [
            "Training Epoch 3/5: 100%|██████████| 16060/16060 [01:32<00:00, 172.75it/s, loss=1.56e+3]\n",
            "Testing Epoch 3/5: 100%|██████████| 2007/2007 [00:07<00:00, 269.46it/s, loss=204]\n"
          ]
        },
        {
          "output_type": "stream",
          "name": "stdout",
          "text": [
            "Train loss: 0.87693, Train Acc: 72.73973 | Test loss: 0.91691, Test acc: 72.79522\n",
            "Epoch: 4\n"
          ]
        },
        {
          "output_type": "stream",
          "name": "stderr",
          "text": [
            "Training Epoch 4/5: 100%|██████████| 16060/16060 [01:35<00:00, 168.24it/s, loss=1.52e+3]\n",
            "Testing Epoch 4/5: 100%|██████████| 2007/2007 [00:07<00:00, 266.26it/s, loss=206]\n"
          ]
        },
        {
          "output_type": "stream",
          "name": "stdout",
          "text": [
            "Train loss: 0.85156, Train Acc: 73.49938 | Test loss: 0.92599, Test acc: 73.19382\n",
            "Epoch: 5\n"
          ]
        },
        {
          "output_type": "stream",
          "name": "stderr",
          "text": [
            "Training Epoch 5/5: 100%|██████████| 16060/16060 [01:36<00:00, 166.91it/s, loss=1.48e+3]\n",
            "Testing Epoch 5/5: 100%|██████████| 2007/2007 [00:07<00:00, 259.15it/s, loss=200]\n"
          ]
        },
        {
          "output_type": "stream",
          "name": "stdout",
          "text": [
            "Train loss: 0.83024, Train Acc: 73.99128 | Test loss: 0.89529, Test acc: 74.48929\n",
            "Training with learning rate 0.0001\n",
            "Epoch: 1\n"
          ]
        },
        {
          "output_type": "stream",
          "name": "stderr",
          "text": [
            "Training Epoch 1/5: 100%|██████████| 16060/16060 [01:34<00:00, 169.69it/s, loss=2.71e+3]\n",
            "Testing Epoch 1/5: 100%|██████████| 2007/2007 [00:07<00:00, 273.74it/s, loss=289]\n"
          ]
        },
        {
          "output_type": "stream",
          "name": "stdout",
          "text": [
            "Train loss: 1.51982, Train Acc: 55.39228 | Test loss: 1.29691, Test acc: 63.72696\n",
            "Epoch: 2\n"
          ]
        },
        {
          "output_type": "stream",
          "name": "stderr",
          "text": [
            "Training Epoch 2/5: 100%|██████████| 16060/16060 [01:35<00:00, 168.37it/s, loss=2.13e+3]\n",
            "Testing Epoch 2/5: 100%|██████████| 2007/2007 [00:07<00:00, 277.20it/s, loss=252]\n"
          ]
        },
        {
          "output_type": "stream",
          "name": "stdout",
          "text": [
            "Train loss: 1.19175, Train Acc: 65.36115 | Test loss: 1.13036, Test acc: 68.06178\n",
            "Epoch: 3\n"
          ]
        },
        {
          "output_type": "stream",
          "name": "stderr",
          "text": [
            "Training Epoch 3/5: 100%|██████████| 16060/16060 [01:32<00:00, 173.05it/s, loss=1.89e+3]\n",
            "Testing Epoch 3/5: 100%|██████████| 2007/2007 [00:07<00:00, 264.77it/s, loss=230]\n"
          ]
        },
        {
          "output_type": "stream",
          "name": "stdout",
          "text": [
            "Train loss: 1.06105, Train Acc: 68.93524 | Test loss: 1.03287, Test acc: 71.20080\n",
            "Epoch: 4\n"
          ]
        },
        {
          "output_type": "stream",
          "name": "stderr",
          "text": [
            "Training Epoch 4/5: 100%|██████████| 16060/16060 [01:33<00:00, 171.36it/s, loss=1.74e+3]\n",
            "Testing Epoch 4/5: 100%|██████████| 2007/2007 [00:07<00:00, 275.57it/s, loss=215]\n"
          ]
        },
        {
          "output_type": "stream",
          "name": "stdout",
          "text": [
            "Train loss: 0.97523, Train Acc: 71.48817 | Test loss: 0.96619, Test acc: 72.89487\n",
            "Epoch: 5\n"
          ]
        },
        {
          "output_type": "stream",
          "name": "stderr",
          "text": [
            "Training Epoch 5/5: 100%|██████████| 16060/16060 [01:34<00:00, 170.32it/s, loss=1.63e+3]\n",
            "Testing Epoch 5/5: 100%|██████████| 2007/2007 [00:07<00:00, 264.44it/s, loss=205]\n"
          ]
        },
        {
          "output_type": "stream",
          "name": "stdout",
          "text": [
            "Train loss: 0.91455, Train Acc: 72.75218 | Test loss: 0.91850, Test acc: 74.43946\n",
            "Training with learning rate 1e-05\n",
            "Epoch: 1\n"
          ]
        },
        {
          "output_type": "stream",
          "name": "stderr",
          "text": [
            "Training Epoch 1/5: 100%|██████████| 16060/16060 [01:33<00:00, 171.00it/s, loss=3.41e+3]\n",
            "Testing Epoch 1/5: 100%|██████████| 2007/2007 [00:07<00:00, 273.61it/s, loss=378]\n"
          ]
        },
        {
          "output_type": "stream",
          "name": "stdout",
          "text": [
            "Train loss: 1.90852, Train Acc: 44.46451 | Test loss: 1.69674, Test acc: 47.03538\n",
            "Epoch: 2\n"
          ]
        },
        {
          "output_type": "stream",
          "name": "stderr",
          "text": [
            "Training Epoch 2/5: 100%|██████████| 16060/16060 [01:33<00:00, 171.73it/s, loss=2.97e+3]\n",
            "Testing Epoch 2/5: 100%|██████████| 2007/2007 [00:07<00:00, 270.33it/s, loss=360]\n"
          ]
        },
        {
          "output_type": "stream",
          "name": "stdout",
          "text": [
            "Train loss: 1.66493, Train Acc: 48.66127 | Test loss: 1.61547, Test acc: 50.37369\n",
            "Epoch: 3\n"
          ]
        },
        {
          "output_type": "stream",
          "name": "stderr",
          "text": [
            "Training Epoch 3/5: 100%|██████████| 16060/16060 [01:34<00:00, 170.15it/s, loss=2.84e+3]\n",
            "Testing Epoch 3/5: 100%|██████████| 2007/2007 [00:07<00:00, 272.10it/s, loss=347]\n"
          ]
        },
        {
          "output_type": "stream",
          "name": "stdout",
          "text": [
            "Train loss: 1.59373, Train Acc: 51.54421 | Test loss: 1.55813, Test acc: 52.61584\n",
            "Epoch: 4\n"
          ]
        },
        {
          "output_type": "stream",
          "name": "stderr",
          "text": [
            "Training Epoch 4/5: 100%|██████████| 16060/16060 [01:33<00:00, 171.88it/s, loss=2.75e+3]\n",
            "Testing Epoch 4/5: 100%|██████████| 2007/2007 [00:07<00:00, 272.69it/s, loss=338]\n"
          ]
        },
        {
          "output_type": "stream",
          "name": "stdout",
          "text": [
            "Train loss: 1.54349, Train Acc: 53.51183 | Test loss: 1.51503, Test acc: 54.21026\n",
            "Epoch: 5\n"
          ]
        },
        {
          "output_type": "stream",
          "name": "stderr",
          "text": [
            "Training Epoch 5/5: 100%|██████████| 16060/16060 [01:32<00:00, 173.42it/s, loss=2.68e+3]\n",
            "Testing Epoch 5/5: 100%|██████████| 2007/2007 [00:07<00:00, 275.54it/s, loss=329]\n"
          ]
        },
        {
          "output_type": "stream",
          "name": "stdout",
          "text": [
            "Train loss: 1.50087, Train Acc: 55.10585 | Test loss: 1.47615, Test acc: 55.75486\n",
            "Training with learning rate 1e-06\n",
            "Epoch: 1\n"
          ]
        },
        {
          "output_type": "stream",
          "name": "stderr",
          "text": [
            "Training Epoch 1/5: 100%|██████████| 16060/16060 [01:32<00:00, 172.86it/s, loss=4.95e+3]\n",
            "Testing Epoch 1/5: 100%|██████████| 2007/2007 [00:07<00:00, 281.13it/s, loss=512]\n"
          ]
        },
        {
          "output_type": "stream",
          "name": "stdout",
          "text": [
            "Train loss: 2.77474, Train Acc: 23.63014 | Test loss: 2.29813, Test acc: 46.58695\n",
            "Epoch: 2\n"
          ]
        },
        {
          "output_type": "stream",
          "name": "stderr",
          "text": [
            "Training Epoch 2/5: 100%|██████████| 16060/16060 [01:33<00:00, 172.63it/s, loss=3.58e+3]\n",
            "Testing Epoch 2/5: 100%|██████████| 2007/2007 [00:07<00:00, 279.53it/s, loss=428]\n"
          ]
        },
        {
          "output_type": "stream",
          "name": "stdout",
          "text": [
            "Train loss: 2.00699, Train Acc: 46.90535 | Test loss: 1.91720, Test acc: 46.63677\n",
            "Epoch: 3\n"
          ]
        },
        {
          "output_type": "stream",
          "name": "stderr",
          "text": [
            "Training Epoch 3/5: 100%|██████████| 16060/16060 [01:32<00:00, 174.03it/s, loss=3.4e+3]\n",
            "Testing Epoch 3/5: 100%|██████████| 2007/2007 [00:07<00:00, 261.55it/s, loss=416]\n"
          ]
        },
        {
          "output_type": "stream",
          "name": "stdout",
          "text": [
            "Train loss: 1.90685, Train Acc: 46.89290 | Test loss: 1.86365, Test acc: 46.63677\n",
            "Epoch: 4\n"
          ]
        },
        {
          "output_type": "stream",
          "name": "stderr",
          "text": [
            "Training Epoch 4/5: 100%|██████████| 16060/16060 [01:32<00:00, 174.18it/s, loss=3.32e+3]\n",
            "Testing Epoch 4/5: 100%|██████████| 2007/2007 [00:07<00:00, 271.70it/s, loss=407]\n"
          ]
        },
        {
          "output_type": "stream",
          "name": "stdout",
          "text": [
            "Train loss: 1.86174, Train Acc: 46.89290 | Test loss: 1.82579, Test acc: 46.63677\n",
            "Epoch: 5\n"
          ]
        },
        {
          "output_type": "stream",
          "name": "stderr",
          "text": [
            "Training Epoch 5/5: 100%|██████████| 16060/16060 [01:32<00:00, 174.03it/s, loss=3.26e+3]\n",
            "Testing Epoch 5/5: 100%|██████████| 2007/2007 [00:07<00:00, 278.09it/s, loss=400]\n"
          ]
        },
        {
          "output_type": "stream",
          "name": "stdout",
          "text": [
            "Train loss: 1.82731, Train Acc: 46.89290 | Test loss: 1.79584, Test acc: 46.63677\n"
          ]
        },
        {
          "output_type": "display_data",
          "data": {
            "text/plain": [
              "<Figure size 720x360 with 1 Axes>"
            ],
            "image/png": "[encoded data removed]"
          },
          "metadata": {
            "needs_background": "light"
          }
        },
        {
          "output_type": "display_data",
          "data": {
            "text/plain": [
              "<Figure size 720x360 with 1 Axes>"
            ],
            "image/png": "[encoded data removed]"
          },
          "metadata": {
            "needs_background": "light"
          }
        }
      ]
    },
    {
      "cell_type": "markdown",
      "source": [
        "<h4> so the best learning rate seems to be in order of e-4, so training a model as per that and saving it"
      ],
      "metadata": {
        "id": "yDqaiEw3P7bt"
      }
    },
    {
      "cell_type": "markdown",
      "source": [
        "## training and saving the best model"
      ],
      "metadata": {
        "id": "DQ7wx8n9qeja"
      }
    },
    {
      "cell_type": "code",
      "source": [
        "rnn = RNN(n_letters, n_hidden, no_of_languages)\n",
        "criterion = nn.NLLLoss()\n",
        " \n",
        "learning_rate = 2e-4\n",
        "optimizer = torch.optim.Adam(rnn.parameters(), lr=learning_rate)\n",
        "num_epochs=10"
      ],
      "metadata": {
        "id": "W1-Ys5fgoeX8"
      },
      "execution_count": null,
      "outputs": []
    },
    {
      "cell_type": "code",
      "source": [
        "train_loss_rnn, train_acc_rnn, test_loss_rnn, test_acc_rnn = train(rnn.to(device), device, optimizer, 10)"
      ],
      "metadata": {
        "colab": {
          "base_uri": "https://localhost:8080/"
        },
        "outputId": "18230648-b9ab-41a1-8657-9290387ecd91",
        "id": "SiyGmx4OQNVI"
      },
      "execution_count": null,
      "outputs": [
        {
          "output_type": "stream",
          "name": "stdout",
          "text": [
            "Epoch: 1\n"
          ]
        },
        {
          "output_type": "stream",
          "name": "stderr",
          "text": [
            "\rTraining Epoch 1/10:   0%|          | 0/16060 [00:00<?, ?it/s]<ipython-input-34-1631c5e6452c>:17: UserWarning: To copy construct from a tensor, it is recommended to use sourceTensor.clone().detach() or sourceTensor.clone().detach().requires_grad_(True), rather than torch.tensor(sourceTensor).\n",
            "  line_tensor = torch.tensor(processor.line_to_tensor(name), dtype=torch.float32).to(device)\n",
            "Training Epoch 1/10: 100%|██████████| 16060/16060 [01:52<00:00, 143.30it/s, loss=2.5e+3]\n",
            "Testing Epoch 1/10:   0%|          | 0/2007 [00:00<?, ?it/s]<ipython-input-34-1631c5e6452c>:47: UserWarning: To copy construct from a tensor, it is recommended to use sourceTensor.clone().detach() or sourceTensor.clone().detach().requires_grad_(True), rather than torch.tensor(sourceTensor).\n",
            "  line_tensor = torch.tensor(processor.line_to_tensor(name), dtype=torch.float32).to(device)\n",
            "Testing Epoch 1/10: 100%|██████████| 2007/2007 [00:07<00:00, 264.78it/s, loss=314]\n"
          ]
        },
        {
          "output_type": "stream",
          "name": "stdout",
          "text": [
            "Train loss: 1.39852, Train Acc: 59.14695 | Test loss: 1.09360, Test acc: 69.95516\n",
            "Epoch: 2\n"
          ]
        },
        {
          "output_type": "stream",
          "name": "stderr",
          "text": [
            "Training Epoch 2/10: 100%|██████████| 16060/16060 [01:38<00:00, 162.24it/s, loss=1.88e+3]\n",
            "Testing Epoch 2/10: 100%|██████████| 2007/2007 [00:08<00:00, 248.90it/s, loss=262]\n"
          ]
        },
        {
          "output_type": "stream",
          "name": "stdout",
          "text": [
            "Train loss: 1.05368, Train Acc: 69.30262 | Test loss: 0.91300, Test acc: 74.63876\n",
            "Epoch: 3\n"
          ]
        },
        {
          "output_type": "stream",
          "name": "stderr",
          "text": [
            "Training Epoch 3/10: 100%|██████████| 16060/16060 [01:41<00:00, 157.85it/s, loss=1.65e+3]\n",
            "Testing Epoch 3/10: 100%|██████████| 2007/2007 [00:08<00:00, 239.51it/s, loss=241]\n"
          ]
        },
        {
          "output_type": "stream",
          "name": "stdout",
          "text": [
            "Train loss: 0.92614, Train Acc: 72.45953 | Test loss: 0.84107, Test acc: 75.73493\n",
            "Epoch: 4\n"
          ]
        },
        {
          "output_type": "stream",
          "name": "stderr",
          "text": [
            "Training Epoch 4/10: 100%|██████████| 16060/16060 [01:49<00:00, 147.14it/s, loss=1.53e+3]\n",
            "Testing Epoch 4/10: 100%|██████████| 2007/2007 [00:12<00:00, 157.31it/s, loss=231]\n"
          ]
        },
        {
          "output_type": "stream",
          "name": "stdout",
          "text": [
            "Train loss: 0.85822, Train Acc: 74.06600 | Test loss: 0.80439, Test acc: 75.88440\n",
            "Epoch: 5\n"
          ]
        },
        {
          "output_type": "stream",
          "name": "stderr",
          "text": [
            "Training Epoch 5/10: 100%|██████████| 16060/16060 [01:46<00:00, 150.57it/s, loss=1.45e+3]\n",
            "Testing Epoch 5/10: 100%|██████████| 2007/2007 [00:08<00:00, 232.16it/s, loss=224]\n"
          ]
        },
        {
          "output_type": "stream",
          "name": "stdout",
          "text": [
            "Train loss: 0.81531, Train Acc: 75.05604 | Test loss: 0.78285, Test acc: 76.38266\n",
            "Epoch: 6\n"
          ]
        },
        {
          "output_type": "stream",
          "name": "stderr",
          "text": [
            "Training Epoch 6/10: 100%|██████████| 16060/16060 [01:40<00:00, 160.36it/s, loss=1.4e+3]\n",
            "Testing Epoch 6/10: 100%|██████████| 2007/2007 [00:07<00:00, 265.47it/s, loss=220]\n"
          ]
        },
        {
          "output_type": "stream",
          "name": "stdout",
          "text": [
            "Train loss: 0.78657, Train Acc: 75.75965 | Test loss: 0.76756, Test acc: 76.93074\n",
            "Epoch: 7\n"
          ]
        },
        {
          "output_type": "stream",
          "name": "stderr",
          "text": [
            "Training Epoch 7/10: 100%|██████████| 16060/16060 [01:34<00:00, 170.68it/s, loss=1.37e+3]\n",
            "Testing Epoch 7/10: 100%|██████████| 2007/2007 [00:07<00:00, 273.44it/s, loss=217]\n"
          ]
        },
        {
          "output_type": "stream",
          "name": "stdout",
          "text": [
            "Train loss: 0.76580, Train Acc: 76.25156 | Test loss: 0.75797, Test acc: 76.78127\n",
            "Epoch: 8\n"
          ]
        },
        {
          "output_type": "stream",
          "name": "stderr",
          "text": [
            "Training Epoch 8/10: 100%|██████████| 16060/16060 [01:34<00:00, 169.09it/s, loss=1.34e+3]\n",
            "Testing Epoch 8/10: 100%|██████████| 2007/2007 [00:07<00:00, 270.31it/s, loss=215]\n"
          ]
        },
        {
          "output_type": "stream",
          "name": "stdout",
          "text": [
            "Train loss: 0.75013, Train Acc: 76.69988 | Test loss: 0.74828, Test acc: 76.78127\n",
            "Epoch: 9\n"
          ]
        },
        {
          "output_type": "stream",
          "name": "stderr",
          "text": [
            "Training Epoch 9/10: 100%|██████████| 16060/16060 [01:33<00:00, 171.43it/s, loss=1.31e+3]\n",
            "Testing Epoch 9/10: 100%|██████████| 2007/2007 [00:07<00:00, 266.12it/s, loss=213]\n"
          ]
        },
        {
          "output_type": "stream",
          "name": "stdout",
          "text": [
            "Train loss: 0.73690, Train Acc: 77.09838 | Test loss: 0.74343, Test acc: 76.98057\n",
            "Epoch: 10\n"
          ]
        },
        {
          "output_type": "stream",
          "name": "stderr",
          "text": [
            "Training Epoch 10/10: 100%|██████████| 16060/16060 [01:33<00:00, 171.48it/s, loss=1.3e+3]\n",
            "Testing Epoch 10/10: 100%|██████████| 2007/2007 [00:07<00:00, 275.19it/s, loss=213]"
          ]
        },
        {
          "output_type": "stream",
          "name": "stdout",
          "text": [
            "Train loss: 0.72594, Train Acc: 77.41594 | Test loss: 0.74119, Test acc: 76.88092\n"
          ]
        },
        {
          "output_type": "stream",
          "name": "stderr",
          "text": [
            "\n"
          ]
        }
      ]
    },
    {
      "cell_type": "code",
      "source": [
        "fig = plt.figure(figsize=(5,5))\n",
        "plt.plot(train_loss_rnn,'r-', label = \"Train Loss\")\n",
        "plt.plot(test_loss_rnn, 'b-',label = \"Test Loss\")\n",
        "plt.xlabel(\"Num of epochs\")\n",
        "plt.legend()\n",
        "plt.show()\n"
      ],
      "metadata": {
        "colab": {
          "base_uri": "https://localhost:8080/",
          "height": 334
        },
        "outputId": "cc069a49-57d3-44b8-d6f0-4db24c615968",
        "id": "9lDZN6iXQNVJ"
      },
      "execution_count": null,
      "outputs": [
        {
          "output_type": "display_data",
          "data": {
            "text/plain": [
              "<Figure size 360x360 with 1 Axes>"
            ],
            "image/png": "[encoded data removed]"
          },
          "metadata": {
            "needs_background": "light"
          }
        }
      ]
    },
    {
      "cell_type": "code",
      "source": [
        "fig = plt.figure(figsize=(5,5))\n",
        "plt.plot(train_acc_rnn, 'r-',label = \"Train Acc\")\n",
        "plt.plot(test_acc_rnn, 'b-',label = \"Test Acc\")\n",
        "plt.xlabel(\"Num of epochs\")\n",
        "plt.legend()\n",
        "plt.show()\n"
      ],
      "metadata": {
        "colab": {
          "base_uri": "https://localhost:8080/",
          "height": 334
        },
        "outputId": "24adc96d-7b97-456b-c6b5-73c8b57c57b2",
        "id": "6Biz7nL0QNVK"
      },
      "execution_count": null,
      "outputs": [
        {
          "output_type": "display_data",
          "data": {
            "text/plain": [
              "<Figure size 360x360 with 1 Axes>"
            ],
            "image/png": "[encoded data removed]"
          },
          "metadata": {
            "needs_background": "light"
          }
        }
      ]
    },
    {
      "cell_type": "code",
      "source": [
        "def evaluate(model, line_tensor):\n",
        "    model = model.to(device)\n",
        "    hidden = model.init_hidden().to(device)\n",
        "    line_tensor = line_tensor.to(device)\n",
        "    for i in range(line_tensor.size()[0]):\n",
        "        output, hidden = model(line_tensor[i], hidden)\n",
        "    return output\n"
      ],
      "metadata": {
        "id": "lM_zZNaHQNVK"
      },
      "execution_count": null,
      "outputs": []
    },
    {
      "cell_type": "markdown",
      "source": [
        "## confusion matrix"
      ],
      "metadata": {
        "id": "QfbHDuOUqmOD"
      }
    },
    {
      "cell_type": "code",
      "source": [
        "confusion = torch.zeros(no_of_languages, no_of_languages)\n",
        "n_confusion = 10000\n",
        "import matplotlib.pyplot as plt\n",
        "import matplotlib.ticker as ticker\n",
        "\n",
        "correct = 0\n",
        "with torch.no_grad():\n",
        "    for (name, lang) in val_data:\n",
        "        category_tensor = torch.tensor([processor.all_categories.index(lang)], dtype=torch.long)\n",
        "        line_tensor = processor.line_to_tensor(name).to(device)\n",
        "        output = rnn(line_tensor)\n",
        "        guess, guess_i = category_from_output(output)\n",
        "        if(guess == lang):\n",
        "            correct+=1\n",
        "        category_i = processor.all_categories.index(lang)\n",
        "        confusion[category_i][guess_i] += 1\n",
        "\n",
        "confusion = confusion / confusion.sum(dim=1, keepdim=True)\n",
        "\n",
        "fig = plt.figure(figsize=(8,8))\n",
        "ax = fig.add_subplot(111)\n",
        "cax = ax.matshow(confusion.cpu().numpy())\n",
        "fig.colorbar(cax)\n",
        "\n",
        "ax.set_xticklabels([''] + processor.all_categories, rotation=90)\n",
        "ax.set_yticklabels([''] + processor.all_categories)\n",
        "\n",
        "ax.xaxis.set_major_locator(ticker.MultipleLocator(1))\n",
        "ax.yaxis.set_major_locator(ticker.MultipleLocator(1))\n",
        "\n",
        "plt.show()\n"
      ],
      "metadata": {
        "colab": {
          "base_uri": "https://localhost:8080/",
          "height": 567
        },
        "outputId": "68350058-ca20-4b0b-8e06-dd086b757a68",
        "id": "mHL5SYHSQNVK"
      },
      "execution_count": null,
      "outputs": [
        {
          "output_type": "stream",
          "name": "stderr",
          "text": [
            "<ipython-input-43-b32f128d48d2>:25: UserWarning: FixedFormatter should only be used together with FixedLocator\n",
            "  ax.set_xticklabels([''] + processor.all_categories, rotation=90)\n",
            "<ipython-input-43-b32f128d48d2>:26: UserWarning: FixedFormatter should only be used together with FixedLocator\n",
            "  ax.set_yticklabels([''] + processor.all_categories)\n"
          ]
        },
        {
          "output_type": "display_data",
          "data": {
            "text/plain": [
              "<Figure size 576x576 with 2 Axes>"
            ],
            "image/png": "[encoded data removed]"
          },
          "metadata": {
            "needs_background": "light"
          }
        }
      ]
    },
    {
      "cell_type": "markdown",
      "source": [
        "<h4> saving the model"
      ],
      "metadata": {
        "id": "rkImXFeFrhYV"
      }
    },
    {
      "cell_type": "code",
      "source": [
        "torch.save(rnn.state_dict(), '/content/drive/MyDrive/Deep Learning/Lab4/rnn_best.pth')"
      ],
      "metadata": {
        "id": "MnpPxKjRw6Cv"
      },
      "execution_count": null,
      "outputs": []
    },
    {
      "cell_type": "markdown",
      "source": [
        "## Part 4 : added more layers"
      ],
      "metadata": {
        "id": "keuQbuvmplN3"
      }
    },
    {
      "cell_type": "code",
      "source": [
        "class RNN_new(nn.Module):\n",
        "    def __init__(self, input_size, hidden_size, output_size):\n",
        "        super(RNN_new, self).__init__()\n",
        "\n",
        "        self.hidden_size = hidden_size\n",
        "        self.i2h1 = nn.Linear(input_size + hidden_size, hidden_size)\n",
        "        self.i2h2 = nn.Linear(hidden_size, hidden_size)\n",
        "        self.i2h3 = nn.Linear(hidden_size, hidden_size)\n",
        "        self.i2o = nn.Linear(hidden_size, output_size)\n",
        "        self.softmax = nn.LogSoftmax(dim=1)\n",
        "\n",
        "    def forward(self, input, hidden):\n",
        "        combined = torch.cat((input, hidden), 1)\n",
        "        hidden = self.i2h1(combined)\n",
        "        hidden = self.i2h2(hidden)\n",
        "        hidden = self.i2h3(hidden)\n",
        "        output = self.i2o(hidden)\n",
        "        output = self.softmax(output)\n",
        "        return output, hidden\n",
        "\n",
        "    def init_hidden(self):\n",
        "        return torch.zeros(1, self.hidden_size)\n"
      ],
      "metadata": {
        "id": "K0reAAcvpmjY"
      },
      "execution_count": null,
      "outputs": []
    },
    {
      "cell_type": "code",
      "source": [
        "rnn_new = RNN_new(n_letters, n_hidden, no_of_languages).to(device)\n",
        "criterion = nn.NLLLoss()\n",
        " \n",
        "learning_rate = 2e-4\n",
        "optimizer = torch.optim.Adam(rnn_new.parameters(), lr=learning_rate)"
      ],
      "metadata": {
        "id": "VzNEQ7yHpsJS"
      },
      "execution_count": null,
      "outputs": []
    },
    {
      "cell_type": "code",
      "source": [
        "train_loss_rnn2, train_acc_rnn2, test_loss_rnn2, test_acc_rnn2 = train(rnn_new, device, optimizer, 10)"
      ],
      "metadata": {
        "colab": {
          "base_uri": "https://localhost:8080/"
        },
        "id": "8SQgPQc2qAqR",
        "outputId": "17a30547-3edb-4250-aea0-6a12e57373ed"
      },
      "execution_count": null,
      "outputs": [
        {
          "metadata": {
            "tags": null
          },
          "name": "stdout",
          "output_type": "stream",
          "text": [
            "Epoch: 1\n"
          ]
        },
        {
          "metadata": {
            "tags": null
          },
          "name": "stderr",
          "output_type": "stream",
          "text": [
            "Training Epoch 1/10:   0%|          | 0/16060 [00:00<?, ?it/s]<ipython-input-34-1631c5e6452c>:17: UserWarning: To copy construct from a tensor, it is recommended to use sourceTensor.clone().detach() or sourceTensor.clone().detach().requires_grad_(True), rather than torch.tensor(sourceTensor).\n",
            "  line_tensor = torch.tensor(processor.line_to_tensor(name), dtype=torch.float32).to(device)\n",
            "Training Epoch 1/10: 100%|██████████| 16060/16060 [02:05<00:00, 127.73it/s, loss=2.14e+3]\n",
            "Testing Epoch 1/10:   0%|          | 0/2007 [00:00<?, ?it/s]<ipython-input-34-1631c5e6452c>:47: UserWarning: To copy construct from a tensor, it is recommended to use sourceTensor.clone().detach() or sourceTensor.clone().detach().requires_grad_(True), rather than torch.tensor(sourceTensor).\n",
            "  line_tensor = torch.tensor(processor.line_to_tensor(name), dtype=torch.float32).to(device)\n",
            "Testing Epoch 1/10: 100%|██████████| 2007/2007 [00:08<00:00, 226.70it/s, loss=307]\n"
          ]
        },
        {
          "metadata": {
            "tags": null
          },
          "name": "stdout",
          "output_type": "stream",
          "text": [
            "Train loss: 1.19649, Train Acc: 63.87920 | Test loss: 1.07144, Test acc: 69.80568\n",
            "Epoch: 2\n"
          ]
        },
        {
          "metadata": {
            "tags": null
          },
          "name": "stderr",
          "output_type": "stream",
          "text": [
            "Training Epoch 2/10: 100%|██████████| 16060/16060 [02:05<00:00, 128.07it/s, loss=1.91e+3]\n",
            "Testing Epoch 2/10: 100%|██████████| 2007/2007 [00:08<00:00, 228.83it/s, loss=292]\n"
          ]
        },
        {
          "metadata": {
            "tags": null
          },
          "name": "stdout",
          "output_type": "stream",
          "text": [
            "Train loss: 1.06804, Train Acc: 67.48443 | Test loss: 1.01835, Test acc: 70.50324\n",
            "Epoch: 3\n"
          ]
        },
        {
          "metadata": {
            "tags": null
          },
          "name": "stderr",
          "output_type": "stream",
          "text": [
            "Training Epoch 3/10: 100%|██████████| 16060/16060 [01:59<00:00, 134.72it/s, loss=1.82e+3]\n",
            "Testing Epoch 3/10: 100%|██████████| 2007/2007 [00:08<00:00, 238.08it/s, loss=290]\n"
          ]
        },
        {
          "metadata": {
            "tags": null
          },
          "name": "stdout",
          "output_type": "stream",
          "text": [
            "Train loss: 1.02163, Train Acc: 68.91656 | Test loss: 1.01075, Test acc: 71.30045\n",
            "Epoch: 4\n"
          ]
        },
        {
          "metadata": {
            "tags": null
          },
          "name": "stderr",
          "output_type": "stream",
          "text": [
            "Training Epoch 4/10: 100%|██████████| 16060/16060 [01:58<00:00, 135.18it/s, loss=1.77e+3]\n",
            "Testing Epoch 4/10: 100%|██████████| 2007/2007 [00:08<00:00, 240.88it/s, loss=291]\n"
          ]
        },
        {
          "metadata": {
            "tags": null
          },
          "name": "stdout",
          "output_type": "stream",
          "text": [
            "Train loss: 0.99385, Train Acc: 69.67621 | Test loss: 1.01630, Test acc: 70.70254\n",
            "Epoch: 5\n"
          ]
        },
        {
          "metadata": {
            "tags": null
          },
          "name": "stderr",
          "output_type": "stream",
          "text": [
            "Training Epoch 5/10: 100%|██████████| 16060/16060 [01:58<00:00, 135.54it/s, loss=1.73e+3]\n",
            "Testing Epoch 5/10: 100%|██████████| 2007/2007 [00:08<00:00, 246.49it/s, loss=318]\n"
          ]
        },
        {
          "metadata": {
            "tags": null
          },
          "name": "stdout",
          "output_type": "stream",
          "text": [
            "Train loss: 0.97144, Train Acc: 70.20548 | Test loss: 1.10898, Test acc: 67.86248\n",
            "Epoch: 6\n"
          ]
        },
        {
          "output_type": "stream",
          "name": "stderr",
          "text": [
            "Training Epoch 6/10: 100%|██████████| 16060/16060 [02:03<00:00, 129.70it/s, loss=1.7e+3]\n",
            "Testing Epoch 6/10: 100%|██████████| 2007/2007 [00:08<00:00, 236.16it/s, loss=320]\n"
          ]
        },
        {
          "output_type": "stream",
          "name": "stdout",
          "text": [
            "Train loss: 0.95462, Train Acc: 70.52927 | Test loss: 1.11633, Test acc: 67.61335\n",
            "Epoch: 7\n"
          ]
        },
        {
          "output_type": "stream",
          "name": "stderr",
          "text": [
            "Training Epoch 7/10: 100%|██████████| 16060/16060 [02:15<00:00, 118.76it/s, loss=1.68e+3]\n",
            "Testing Epoch 7/10: 100%|██████████| 2007/2007 [00:08<00:00, 232.75it/s, loss=320]\n"
          ]
        },
        {
          "output_type": "stream",
          "name": "stdout",
          "text": [
            "Train loss: 0.93945, Train Acc: 70.90909 | Test loss: 1.11646, Test acc: 67.61335\n",
            "Epoch: 8\n"
          ]
        },
        {
          "output_type": "stream",
          "name": "stderr",
          "text": [
            "Training Epoch 8/10: 100%|██████████| 16060/16060 [02:14<00:00, 119.38it/s, loss=1.65e+3]\n",
            "Testing Epoch 8/10: 100%|██████████| 2007/2007 [00:08<00:00, 226.88it/s, loss=317]\n"
          ]
        },
        {
          "output_type": "stream",
          "name": "stdout",
          "text": [
            "Train loss: 0.92557, Train Acc: 71.33873 | Test loss: 1.10533, Test acc: 67.96213\n",
            "Epoch: 9\n"
          ]
        },
        {
          "output_type": "stream",
          "name": "stderr",
          "text": [
            "Training Epoch 9/10: 100%|██████████| 16060/16060 [02:15<00:00, 118.34it/s, loss=1.63e+3]\n",
            "Testing Epoch 9/10: 100%|██████████| 2007/2007 [00:08<00:00, 228.77it/s, loss=316]\n"
          ]
        },
        {
          "output_type": "stream",
          "name": "stdout",
          "text": [
            "Train loss: 0.91413, Train Acc: 71.78082 | Test loss: 1.10071, Test acc: 68.41056\n",
            "Epoch: 10\n"
          ]
        },
        {
          "output_type": "stream",
          "name": "stderr",
          "text": [
            "Training Epoch 10/10: 100%|██████████| 16060/16060 [02:14<00:00, 119.23it/s, loss=1.61e+3]\n",
            "Testing Epoch 10/10: 100%|██████████| 2007/2007 [00:08<00:00, 229.42it/s, loss=314]"
          ]
        },
        {
          "output_type": "stream",
          "name": "stdout",
          "text": [
            "Train loss: 0.90327, Train Acc: 72.15442 | Test loss: 1.09370, Test acc: 68.16143\n"
          ]
        },
        {
          "output_type": "stream",
          "name": "stderr",
          "text": [
            "\n"
          ]
        }
      ]
    },
    {
      "cell_type": "code",
      "source": [
        "fig = plt.figure(figsize=(5,5))\n",
        "plt.plot(train_loss_rnn2,'r-', label = \"Train Loss on new rnn\")\n",
        "plt.plot(test_loss_rnn2, 'b-',label = \"Test Loss on new rnn\")\n",
        "plt.xlabel(\"Num of epochs\")\n",
        "plt.legend()\n",
        "plt.show()\n"
      ],
      "metadata": {
        "colab": {
          "base_uri": "https://localhost:8080/",
          "height": 334
        },
        "outputId": "f1edf784-b55e-4739-f278-563b4223a572",
        "id": "bNOrnHZtt6QA"
      },
      "execution_count": null,
      "outputs": [
        {
          "output_type": "display_data",
          "data": {
            "text/plain": [
              "<Figure size 360x360 with 1 Axes>"
            ],
            "image/png": "[encoded data removed]"
          },
          "metadata": {
            "needs_background": "light"
          }
        }
      ]
    },
    {
      "cell_type": "code",
      "source": [
        "fig = plt.figure(figsize=(5,5))\n",
        "plt.plot(train_acc_rnn2, 'r-',label = \"Train Acc on new rnn\")\n",
        "plt.plot(test_acc_rnn2, 'b-',label = \"Test Acc on new rnn\")\n",
        "plt.xlabel(\"Num of epochs\")\n",
        "plt.legend()\n",
        "plt.show()\n"
      ],
      "metadata": {
        "colab": {
          "base_uri": "https://localhost:8080/",
          "height": 334
        },
        "outputId": "d7bf2d18-a816-45ac-8bc4-26c5bbb5fceb",
        "id": "NvNkJiHlt6QD"
      },
      "execution_count": null,
      "outputs": [
        {
          "output_type": "display_data",
          "data": {
            "text/plain": [
              "<Figure size 360x360 with 1 Axes>"
            ],
            "image/png": "[encoded data removed]"
          },
          "metadata": {
            "needs_background": "light"
          }
        }
      ]
    },
    {
      "cell_type": "code",
      "source": [
        "confusion = torch.zeros(no_of_languages, no_of_languages)\n",
        "n_confusion = 10000\n",
        "import matplotlib.pyplot as plt\n",
        "import matplotlib.ticker as ticker\n",
        "\n",
        "correct = 0\n",
        "with torch.no_grad():\n",
        "    for (name, lang) in val_data:\n",
        "        category_tensor = torch.tensor([processor.all_categories.index(lang)], dtype=torch.long)\n",
        "        line_tensor = processor.line_to_tensor(name).to(device)\n",
        "        output = rnn(line_tensor)\n",
        "        guess, guess_i = category_from_output(output)\n",
        "        if(guess == lang):\n",
        "            correct+=1\n",
        "        category_i = processor.all_categories.index(lang)\n",
        "        confusion[category_i][guess_i] += 1\n",
        "\n",
        "confusion = confusion / confusion.sum(dim=1, keepdim=True)\n",
        "\n",
        "fig = plt.figure(figsize=(8,8))\n",
        "ax = fig.add_subplot(111)\n",
        "cax = ax.matshow(confusion.cpu().numpy())\n",
        "fig.colorbar(cax)\n",
        "\n",
        "ax.set_xticklabels([''] + processor.all_categories, rotation=90)\n",
        "ax.set_yticklabels([''] + processor.all_categories)\n",
        "\n",
        "ax.xaxis.set_major_locator(ticker.MultipleLocator(1))\n",
        "ax.yaxis.set_major_locator(ticker.MultipleLocator(1))\n",
        "\n",
        "plt.show()\n"
      ],
      "metadata": {
        "colab": {
          "base_uri": "https://localhost:8080/",
          "height": 468
        },
        "id": "M0SWMgqNqIny",
        "outputId": "72955751-ea47-410d-dc83-c1420cfbca61"
      },
      "execution_count": null,
      "outputs": [
        {
          "output_type": "stream",
          "name": "stderr",
          "text": [
            "<ipython-input-53-29d95f42a683>:24: UserWarning: FixedFormatter should only be used together with FixedLocator\n",
            "  ax.set_xticklabels([''] + processor.all_categories, rotation=90)\n",
            "<ipython-input-53-29d95f42a683>:25: UserWarning: FixedFormatter should only be used together with FixedLocator\n",
            "  ax.set_yticklabels([''] + processor.all_categories)\n"
          ]
        },
        {
          "output_type": "display_data",
          "data": {
            "text/plain": [
              "<Figure size 432x432 with 2 Axes>"
            ],
            "image/png": "[encoded data removed]"
          },
          "metadata": {
            "needs_background": "light"
          }
        }
      ]
    },
    {
      "cell_type": "code",
      "source": [
        "learning_rates = [1e-2, 1e-3, 1e-4, 1e-5, 1e-6]\n",
        "epochs = 5\n",
        "\n",
        "train_loss_list, train_acc_list, test_loss_list, test_acc_list = [], [], [], []\n",
        "\n",
        "for lr in learning_rates:\n",
        "    print(f\"Training with learning rate {lr}\")\n",
        "    model = RNN_new(n_letters, n_hidden, no_of_languages)\n",
        "    model.to(device)\n",
        "    criterion = nn.NLLLoss()\n",
        "    optimizer = optim.Adam(model.parameters(), lr=lr)\n",
        "\n",
        "    train_loss, train_acc, test_loss, test_acc = train(model, device, optimizer, epochs)\n",
        "\n",
        "    train_loss_list.append(train_loss)\n",
        "    train_acc_list.append(train_acc)\n",
        "    test_loss_list.append(test_loss)\n",
        "    test_acc_list.append(test_acc)\n",
        "\n",
        "# Plotting the Losses for all Learning Rates\n",
        "plt.figure(figsize=(10, 5))\n",
        "for i in range(len(learning_rates)):\n",
        "    plt.plot(test_loss_list[i], label=f\"LR={learning_rates[i]}\")\n",
        "plt.xlabel(\"Epoch\")\n",
        "plt.ylabel(\"Loss\")\n",
        "plt.title(f\"Testing Loss for all Learning Rates\")\n",
        "plt.legend()\n",
        "plt.show()\n",
        "\n",
        "# Plotting the Accuracies for all Learning Rates\n",
        "plt.figure(figsize=(10, 5))\n",
        "for i in range(len(learning_rates)):\n",
        "    plt.plot(test_acc_list[i], label=f\"LR={learning_rates[i]}\")\n",
        "plt.xlabel(\"Epoch\")\n",
        "plt.ylabel(\"Accuracy\")\n",
        "plt.title(f\"Testing Accuracy for all Learning Rates\")\n",
        "plt.legend()\n",
        "plt.show()\n"
      ],
      "metadata": {
        "colab": {
          "base_uri": "https://localhost:8080/",
          "height": 1000
        },
        "id": "M7gxEyvRysrr",
        "outputId": "78886e37-d6fa-4984-8ae3-23a7608f6546"
      },
      "execution_count": null,
      "outputs": [
        {
          "output_type": "stream",
          "name": "stdout",
          "text": [
            "Training with learning rate 0.01\n",
            "Epoch: 1\n"
          ]
        },
        {
          "output_type": "stream",
          "name": "stderr",
          "text": [
            "Training Epoch 1/5:   0%|          | 0/16060 [00:00<?, ?it/s]<ipython-input-34-1631c5e6452c>:17: UserWarning: To copy construct from a tensor, it is recommended to use sourceTensor.clone().detach() or sourceTensor.clone().detach().requires_grad_(True), rather than torch.tensor(sourceTensor).\n",
            "  line_tensor = torch.tensor(processor.line_to_tensor(name), dtype=torch.float32).to(device)\n",
            "Training Epoch 1/5: 100%|██████████| 16060/16060 [02:13<00:00, 120.49it/s, loss=7.38e+35]\n",
            "Testing Epoch 1/5:   0%|          | 0/2007 [00:00<?, ?it/s]<ipython-input-34-1631c5e6452c>:47: UserWarning: To copy construct from a tensor, it is recommended to use sourceTensor.clone().detach() or sourceTensor.clone().detach().requires_grad_(True), rather than torch.tensor(sourceTensor).\n",
            "  line_tensor = torch.tensor(processor.line_to_tensor(name), dtype=torch.float32).to(device)\n",
            "Testing Epoch 1/5: 100%|██████████| 2007/2007 [00:08<00:00, 244.02it/s, loss=2.6e+30]\n"
          ]
        },
        {
          "output_type": "stream",
          "name": "stdout",
          "text": [
            "Train loss: 413823373639493763001890497363968.00000, Train Acc: 7.98879 | Test loss: 9069268451270398679080501248.00000, Test acc: 7.67314\n",
            "Epoch: 2\n"
          ]
        },
        {
          "output_type": "stream",
          "name": "stderr",
          "text": [
            "Training Epoch 2/5: 100%|██████████| 16060/16060 [02:03<00:00, 129.89it/s, loss=7.38e+35]\n",
            "Testing Epoch 2/5: 100%|██████████| 2007/2007 [00:08<00:00, 239.80it/s, loss=2.6e+30]\n"
          ]
        },
        {
          "output_type": "stream",
          "name": "stdout",
          "text": [
            "Train loss: 413823574594886770930918753304576.00000, Train Acc: 7.37235 | Test loss: 9069268454067421020212428800.00000, Test acc: 7.87245\n",
            "Epoch: 3\n"
          ]
        },
        {
          "output_type": "stream",
          "name": "stderr",
          "text": [
            "Training Epoch 3/5: 100%|██████████| 16060/16060 [02:04<00:00, 128.99it/s, loss=7.38e+35]\n",
            "Testing Epoch 3/5: 100%|██████████| 2007/2007 [00:08<00:00, 239.85it/s, loss=2.6e+30]\n"
          ]
        },
        {
          "output_type": "stream",
          "name": "stdout",
          "text": [
            "Train loss: 413823579045984010306281814360064.00000, Train Acc: 7.41594 | Test loss: 9069268474933163242796613632.00000, Test acc: 7.67314\n",
            "Epoch: 4\n"
          ]
        },
        {
          "output_type": "stream",
          "name": "stderr",
          "text": [
            "Training Epoch 4/5: 100%|██████████| 16060/16060 [02:04<00:00, 128.67it/s, loss=7.38e+35]\n",
            "Testing Epoch 4/5: 100%|██████████| 2007/2007 [00:08<00:00, 236.84it/s, loss=2.6e+30]\n"
          ]
        },
        {
          "output_type": "stream",
          "name": "stdout",
          "text": [
            "Train loss: 413823579045984010306281814360064.00000, Train Acc: 7.44085 | Test loss: 9069268477821450546592088064.00000, Test acc: 7.62332\n",
            "Epoch: 5\n"
          ]
        },
        {
          "output_type": "stream",
          "name": "stderr",
          "text": [
            "Training Epoch 5/5: 100%|██████████| 16060/16060 [02:04<00:00, 128.77it/s, loss=7.38e+35]\n",
            "Testing Epoch 5/5: 100%|██████████| 2007/2007 [00:08<00:00, 238.06it/s, loss=2.6e+30]\n"
          ]
        },
        {
          "output_type": "stream",
          "name": "stdout",
          "text": [
            "Train loss: 413823579045983938248687776432128.00000, Train Acc: 7.65878 | Test loss: 9069268480715586152735703040.00000, Test acc: 7.97210\n",
            "Training with learning rate 0.001\n",
            "Epoch: 1\n"
          ]
        },
        {
          "output_type": "stream",
          "name": "stderr",
          "text": [
            "Training Epoch 1/5: 100%|██████████| 16060/16060 [02:05<00:00, 127.56it/s, loss=2.56e+3]\n",
            "Testing Epoch 1/5: 100%|██████████| 2007/2007 [00:08<00:00, 238.35it/s, loss=366]\n"
          ]
        },
        {
          "output_type": "stream",
          "name": "stdout",
          "text": [
            "Train loss: 1.43329, Train Acc: 56.17061 | Test loss: 1.27540, Test acc: 61.58445\n",
            "Epoch: 2\n"
          ]
        },
        {
          "output_type": "stream",
          "name": "stderr",
          "text": [
            "Training Epoch 2/5: 100%|██████████| 16060/16060 [02:05<00:00, 127.81it/s, loss=4.77e+6]\n",
            "Testing Epoch 2/5: 100%|██████████| 2007/2007 [00:08<00:00, 238.42it/s, loss=966]\n"
          ]
        },
        {
          "output_type": "stream",
          "name": "stdout",
          "text": [
            "Train loss: 2672.56482, Train Acc: 51.41968 | Test loss: 3.36987, Test acc: 50.97160\n",
            "Epoch: 3\n"
          ]
        },
        {
          "output_type": "stream",
          "name": "stderr",
          "text": [
            "Training Epoch 3/5: 100%|██████████| 16060/16060 [02:05<00:00, 128.19it/s, loss=1.76e+22]\n",
            "Testing Epoch 3/5: 100%|██████████| 2007/2007 [00:08<00:00, 243.19it/s, loss=3.56e+17]\n"
          ]
        },
        {
          "output_type": "stream",
          "name": "stdout",
          "text": [
            "Train loss: 9839526606320699392.00000, Train Acc: 23.35616 | Test loss: 1240773380300661.75000, Test acc: 10.41355\n",
            "Epoch: 4\n"
          ]
        },
        {
          "output_type": "stream",
          "name": "stderr",
          "text": [
            "Training Epoch 4/5: 100%|██████████| 16060/16060 [02:05<00:00, 128.23it/s, loss=4.05e+22]\n",
            "Testing Epoch 4/5: 100%|██████████| 2007/2007 [00:08<00:00, 238.81it/s, loss=1.62e+17]\n"
          ]
        },
        {
          "output_type": "stream",
          "name": "stdout",
          "text": [
            "Train loss: 22719033886784638976.00000, Train Acc: 8.31258 | Test loss: 564298414685402.00000, Test acc: 6.87593\n",
            "Epoch: 5\n"
          ]
        },
        {
          "output_type": "stream",
          "name": "stderr",
          "text": [
            "Training Epoch 5/5: 100%|██████████| 16060/16060 [02:06<00:00, 127.21it/s, loss=4.06e+22]\n",
            "Testing Epoch 5/5: 100%|██████████| 2007/2007 [00:08<00:00, 239.36it/s, loss=8.79e+16]\n"
          ]
        },
        {
          "output_type": "stream",
          "name": "stdout",
          "text": [
            "Train loss: 22725737664306774016.00000, Train Acc: 8.66750 | Test loss: 306479422835880.37500, Test acc: 7.07524\n",
            "Training with learning rate 0.0001\n",
            "Epoch: 1\n"
          ]
        },
        {
          "output_type": "stream",
          "name": "stderr",
          "text": [
            "Training Epoch 1/5: 100%|██████████| 16060/16060 [02:05<00:00, 127.86it/s, loss=2.56e+3]\n",
            "Testing Epoch 1/5: 100%|██████████| 2007/2007 [00:08<00:00, 240.81it/s, loss=331]\n"
          ]
        },
        {
          "output_type": "stream",
          "name": "stdout",
          "text": [
            "Train loss: 1.43394, Train Acc: 57.23537 | Test loss: 1.15467, Test acc: 67.16492\n",
            "Epoch: 2\n"
          ]
        },
        {
          "output_type": "stream",
          "name": "stderr",
          "text": [
            "Training Epoch 2/5: 100%|██████████| 16060/16060 [02:06<00:00, 127.02it/s, loss=2.02e+3]\n",
            "Testing Epoch 2/5: 100%|██████████| 2007/2007 [00:08<00:00, 229.23it/s, loss=298]\n"
          ]
        },
        {
          "output_type": "stream",
          "name": "stdout",
          "text": [
            "Train loss: 1.13179, Train Acc: 66.26401 | Test loss: 1.04000, Test acc: 70.60289\n",
            "Epoch: 3\n"
          ]
        },
        {
          "output_type": "stream",
          "name": "stderr",
          "text": [
            "Training Epoch 3/5: 100%|██████████| 16060/16060 [02:06<00:00, 126.99it/s, loss=1.88e+3]\n",
            "Testing Epoch 3/5: 100%|██████████| 2007/2007 [00:08<00:00, 235.19it/s, loss=288]\n"
          ]
        },
        {
          "output_type": "stream",
          "name": "stdout",
          "text": [
            "Train loss: 1.05142, Train Acc: 68.57410 | Test loss: 1.00307, Test acc: 71.79870\n",
            "Epoch: 4\n"
          ]
        },
        {
          "output_type": "stream",
          "name": "stderr",
          "text": [
            "Training Epoch 4/5: 100%|██████████| 16060/16060 [02:05<00:00, 127.53it/s, loss=1.8e+3]\n",
            "Testing Epoch 4/5: 100%|██████████| 2007/2007 [00:08<00:00, 240.94it/s, loss=281]\n"
          ]
        },
        {
          "output_type": "stream",
          "name": "stdout",
          "text": [
            "Train loss: 1.00629, Train Acc: 69.60772 | Test loss: 0.98006, Test acc: 72.29696\n",
            "Epoch: 5\n"
          ]
        },
        {
          "output_type": "stream",
          "name": "stderr",
          "text": [
            "Training Epoch 5/5: 100%|██████████| 16060/16060 [02:06<00:00, 126.95it/s, loss=1.74e+3]\n",
            "Testing Epoch 5/5: 100%|██████████| 2007/2007 [00:08<00:00, 238.78it/s, loss=277]\n"
          ]
        },
        {
          "output_type": "stream",
          "name": "stdout",
          "text": [
            "Train loss: 0.97598, Train Acc: 70.18680 | Test loss: 0.96504, Test acc: 73.34330\n",
            "Training with learning rate 1e-05\n",
            "Epoch: 1\n"
          ]
        },
        {
          "output_type": "stream",
          "name": "stderr",
          "text": [
            "Training Epoch 1/5: 100%|██████████| 16060/16060 [02:06<00:00, 126.92it/s, loss=3.25e+3]\n",
            "Testing Epoch 1/5: 100%|██████████| 2007/2007 [00:08<00:00, 239.23it/s, loss=483]\n"
          ]
        },
        {
          "output_type": "stream",
          "name": "stdout",
          "text": [
            "Train loss: 1.81927, Train Acc: 46.82441 | Test loss: 1.68546, Test acc: 46.43747\n",
            "Epoch: 2\n"
          ]
        },
        {
          "output_type": "stream",
          "name": "stderr",
          "text": [
            "Training Epoch 2/5: 100%|██████████| 16060/16060 [02:06<00:00, 126.65it/s, loss=2.92e+3]\n",
            "Testing Epoch 2/5: 100%|██████████| 2007/2007 [00:16<00:00, 121.11it/s, loss=433]\n"
          ]
        },
        {
          "output_type": "stream",
          "name": "stdout",
          "text": [
            "Train loss: 1.63817, Train Acc: 49.97509 | Test loss: 1.50888, Test acc: 56.05381\n",
            "Epoch: 3\n"
          ]
        },
        {
          "output_type": "stream",
          "name": "stderr",
          "text": [
            "Training Epoch 3/5: 100%|██████████| 16060/16060 [02:16<00:00, 117.88it/s, loss=2.71e+3]\n",
            "Testing Epoch 3/5: 100%|██████████| 2007/2007 [00:09<00:00, 219.75it/s, loss=413]\n"
          ]
        },
        {
          "output_type": "stream",
          "name": "stdout",
          "text": [
            "Train loss: 1.51734, Train Acc: 54.69489 | Test loss: 1.44092, Test acc: 57.34928\n",
            "Epoch: 4\n"
          ]
        },
        {
          "output_type": "stream",
          "name": "stderr",
          "text": [
            "Training Epoch 4/5: 100%|██████████| 16060/16060 [02:07<00:00, 125.96it/s, loss=2.61e+3]\n",
            "Testing Epoch 4/5: 100%|██████████| 2007/2007 [00:08<00:00, 241.61it/s, loss=399]\n"
          ]
        },
        {
          "output_type": "stream",
          "name": "stdout",
          "text": [
            "Train loss: 1.46469, Train Acc: 55.91532 | Test loss: 1.39002, Test acc: 58.64474\n",
            "Epoch: 5\n"
          ]
        },
        {
          "output_type": "stream",
          "name": "stderr",
          "text": [
            "Training Epoch 5/5: 100%|██████████| 16060/16060 [02:06<00:00, 126.64it/s, loss=2.53e+3]\n",
            "Testing Epoch 5/5: 100%|██████████| 2007/2007 [00:08<00:00, 236.26it/s, loss=385]\n"
          ]
        },
        {
          "output_type": "stream",
          "name": "stdout",
          "text": [
            "Train loss: 1.41800, Train Acc: 57.38481 | Test loss: 1.34124, Test acc: 60.18934\n",
            "Training with learning rate 1e-06\n",
            "Epoch: 1\n"
          ]
        },
        {
          "output_type": "stream",
          "name": "stderr",
          "text": [
            "Training Epoch 1/5: 100%|██████████| 16060/16060 [02:07<00:00, 126.41it/s, loss=4.11e+3]\n",
            "Testing Epoch 1/5: 100%|██████████| 2007/2007 [00:08<00:00, 240.30it/s, loss=519]\n"
          ]
        },
        {
          "output_type": "stream",
          "name": "stdout",
          "text": [
            "Train loss: 2.30510, Train Acc: 43.88543 | Test loss: 1.80947, Test acc: 46.43747\n",
            "Epoch: 2\n"
          ]
        },
        {
          "output_type": "stream",
          "name": "stderr",
          "text": [
            "Training Epoch 2/5: 100%|██████████| 16060/16060 [02:06<00:00, 126.53it/s, loss=3.24e+3]\n",
            "Testing Epoch 2/5: 100%|██████████| 2007/2007 [00:08<00:00, 239.49it/s, loss=505]\n"
          ]
        },
        {
          "output_type": "stream",
          "name": "stdout",
          "text": [
            "Train loss: 1.81435, Train Acc: 46.84309 | Test loss: 1.76168, Test acc: 46.43747\n",
            "Epoch: 3\n"
          ]
        },
        {
          "output_type": "stream",
          "name": "stderr",
          "text": [
            "Training Epoch 3/5: 100%|██████████| 16060/16060 [02:06<00:00, 126.61it/s, loss=3.19e+3]\n",
            "Testing Epoch 3/5: 100%|██████████| 2007/2007 [00:08<00:00, 235.91it/s, loss=499]\n"
          ]
        },
        {
          "output_type": "stream",
          "name": "stdout",
          "text": [
            "Train loss: 1.78793, Train Acc: 46.84309 | Test loss: 1.74187, Test acc: 46.43747\n",
            "Epoch: 4\n"
          ]
        },
        {
          "output_type": "stream",
          "name": "stderr",
          "text": [
            "Training Epoch 4/5: 100%|██████████| 16060/16060 [02:11<00:00, 122.20it/s, loss=3.17e+3]\n",
            "Testing Epoch 4/5: 100%|██████████| 2007/2007 [00:08<00:00, 230.38it/s, loss=496]\n"
          ]
        },
        {
          "output_type": "stream",
          "name": "stdout",
          "text": [
            "Train loss: 1.77580, Train Acc: 46.84309 | Test loss: 1.73144, Test acc: 46.43747\n",
            "Epoch: 5\n"
          ]
        },
        {
          "output_type": "stream",
          "name": "stderr",
          "text": [
            "Training Epoch 5/5: 100%|██████████| 16060/16060 [02:09<00:00, 123.90it/s, loss=3.15e+3]\n",
            "Testing Epoch 5/5: 100%|██████████| 2007/2007 [00:08<00:00, 237.88it/s, loss=494]\n"
          ]
        },
        {
          "output_type": "stream",
          "name": "stdout",
          "text": [
            "Train loss: 1.76729, Train Acc: 46.84309 | Test loss: 1.72346, Test acc: 46.43747\n"
          ]
        },
        {
          "output_type": "display_data",
          "data": {
            "text/plain": [
              "<Figure size 720x360 with 1 Axes>"
            ],
            "image/png": "[encoded data removed]"
          },
          "metadata": {
            "needs_background": "light"
          }
        },
        {
          "output_type": "display_data",
          "data": {
            "text/plain": [
              "<Figure size 720x360 with 1 Axes>"
            ],
            "image/png": "[encoded data removed]"
          },
          "metadata": {
            "needs_background": "light"
          }
        }
      ]
    },
    {
      "cell_type": "markdown",
      "source": [
        "## Part 5 : test accuracies"
      ],
      "metadata": {
        "id": "BgMEggBwqobp"
      }
    },
    {
      "cell_type": "code",
      "source": [
        "criterion = nn.NLLLoss()\n",
        "learning_rate = 2e-4\n",
        "optimizer = torch.optim.Adam(rnn.parameters(), lr=learning_rate)"
      ],
      "metadata": {
        "id": "LtHIbBzz8aZK"
      },
      "execution_count": null,
      "outputs": []
    },
    {
      "cell_type": "code",
      "source": [
        "# Evaluation loop\n",
        "model = rnn\n",
        "model.eval()\n",
        "with torch.no_grad(), tqdm(total=len(test_data)) as pbar:\n",
        "    running_loss = 0\n",
        "    correct_test = 0\n",
        "    for i, (name, lang) in enumerate(test_data):\n",
        "        category_tensor = torch.tensor([processor.all_categories.index(lang)], dtype=torch.long).to(device)\n",
        "        line_tensor = torch.tensor(processor.line_to_tensor(name), dtype=torch.float32).to(device)\n",
        "\n",
        "        hidden = model.init_hidden().to(device)\n",
        "        for i in range(line_tensor.size()[0]):\n",
        "            output, hidden = model(line_tensor[i], hidden)\n",
        "\n",
        "        loss = criterion(output, category_tensor)\n",
        "        running_loss += loss.item()\n",
        "        pbar.set_postfix(loss=running_loss/(i+1))\n",
        "        pbar.update(1)\n",
        "\n",
        "        guess, _ = category_from_output(output)\n",
        "        if guess == lang:\n",
        "            correct_test += 1\n",
        "    print('test loss : ', running_loss/len(test_data))\n",
        "    print('test accuracy : ',100 * correct_test / len(test_data),' %')"
      ],
      "metadata": {
        "colab": {
          "base_uri": "https://localhost:8080/"
        },
        "id": "CRJViTk4qqAG",
        "outputId": "944fafc0-0a1b-467b-891b-08e1a1e77a00"
      },
      "execution_count": null,
      "outputs": [
        {
          "output_type": "stream",
          "name": "stderr",
          "text": [
            "  0%|          | 0/2007 [00:00<?, ?it/s]<ipython-input-56-466834e5f350>:9: UserWarning: To copy construct from a tensor, it is recommended to use sourceTensor.clone().detach() or sourceTensor.clone().detach().requires_grad_(True), rather than torch.tensor(sourceTensor).\n",
            "  line_tensor = torch.tensor(processor.line_to_tensor(name), dtype=torch.float32).to(device)\n",
            "100%|██████████| 2007/2007 [00:09<00:00, 211.67it/s, loss=225]"
          ]
        },
        {
          "output_type": "stream",
          "name": "stdout",
          "text": [
            "test loss :  0.7838230227481215\n",
            "test accuracy :  76.18335824613851  %\n"
          ]
        },
        {
          "output_type": "stream",
          "name": "stderr",
          "text": [
            "\n"
          ]
        }
      ]
    },
    {
      "cell_type": "code",
      "source": [
        "criterion = nn.NLLLoss()\n",
        "learning_rate = 2e-4\n",
        "optimizer = torch.optim.Adam(rnn_new.parameters(), lr=learning_rate)"
      ],
      "metadata": {
        "id": "Y7dOOckS8fmX"
      },
      "execution_count": null,
      "outputs": []
    },
    {
      "cell_type": "code",
      "source": [
        "# Evaluation loop\n",
        "model = rnn_new\n",
        "model.eval()\n",
        "with torch.no_grad(), tqdm(total=len(test_data)) as pbar:\n",
        "    running_loss = 0\n",
        "    correct_test = 0\n",
        "    for i, (name, lang) in enumerate(test_data):\n",
        "        category_tensor = torch.tensor([processor.all_categories.index(lang)], dtype=torch.long).to(device)\n",
        "        line_tensor = torch.tensor(processor.line_to_tensor(name), dtype=torch.float32).to(device)\n",
        "\n",
        "        hidden = model.init_hidden().to(device)\n",
        "        for i in range(line_tensor.size()[0]):\n",
        "            output, hidden = model(line_tensor[i], hidden)\n",
        "\n",
        "        loss = criterion(output, category_tensor)\n",
        "        running_loss += loss.item()\n",
        "        pbar.set_postfix(loss=running_loss/(i+1))\n",
        "        pbar.update(1)\n",
        "\n",
        "        guess, _ = category_from_output(output)\n",
        "        if guess == lang:\n",
        "            correct_test += 1\n",
        "    print('test loss on new architecture : ', running_loss/len(test_data))\n",
        "    print('test accuracy on new architecture : ',100 * correct_test / len(test_data),' %')"
      ],
      "metadata": {
        "colab": {
          "base_uri": "https://localhost:8080/"
        },
        "id": "Itt47t2irLrf",
        "outputId": "52aa559e-e2f4-417f-ef6e-8c9f3b7be4f9"
      },
      "execution_count": null,
      "outputs": [
        {
          "output_type": "stream",
          "name": "stderr",
          "text": [
            "  0%|          | 0/2007 [00:00<?, ?it/s]<ipython-input-58-1c8b605dbe7f>:9: UserWarning: To copy construct from a tensor, it is recommended to use sourceTensor.clone().detach() or sourceTensor.clone().detach().requires_grad_(True), rather than torch.tensor(sourceTensor).\n",
            "  line_tensor = torch.tensor(processor.line_to_tensor(name), dtype=torch.float32).to(device)\n",
            "100%|██████████| 2007/2007 [00:08<00:00, 226.62it/s, loss=324]"
          ]
        },
        {
          "output_type": "stream",
          "name": "stdout",
          "text": [
            "test loss on new architecture :  1.1306259679827795\n",
            "test accuracy on new architecture :  66.01893373193822  %\n"
          ]
        },
        {
          "output_type": "stream",
          "name": "stderr",
          "text": [
            "\n"
          ]
        }
      ]
    },
    {
      "cell_type": "markdown",
      "source": [
        "<h5> The original architecture without addition of hidden layers works good for me, it gives an accuray of 76% as comapred to 66% on new architecture, with learning rate set as 2e-4 </h5>"
      ],
      "metadata": {
        "id": "Fg938SwiA6ug"
      }
    },
    {
      "cell_type": "markdown",
      "source": [
        "## Part 6: Stacked RNN and word language prediction"
      ],
      "metadata": {
        "id": "PiGq9KCUq23T"
      }
    },
    {
      "cell_type": "code",
      "source": [
        "class StackedRNN(nn.Module):\n",
        "    def __init__(self, input_size, hidden_size, output_size, num_layers):\n",
        "        super(StackedRNN, self).__init__()\n",
        "        \n",
        "        self.input_size = input_size\n",
        "        self.hidden_size = hidden_size\n",
        "        self.output_size = output_size\n",
        "        self.num_layers = num_layers\n",
        "        \n",
        "        self.rnn_layers = nn.ModuleList([nn.RNN(input_size if layer_idx == 0 else hidden_size, hidden_size, batch_first=True) for layer_idx in range(num_layers)])\n",
        "        self.output_layer = nn.Linear(hidden_size, output_size)\n",
        "        self.softmax = nn.LogSoftmax(dim=1)\n",
        "    \n",
        "    def forward(self, input, hidden):\n",
        "        for layer_idx, layer in enumerate(self.rnn_layers):\n",
        "            output, hidden = layer(input if layer_idx == 0 else output, hidden)\n",
        "        output = self.output_layer(output)\n",
        "        output = self.softmax(output)\n",
        "        return output, hidden\n",
        "\n",
        "    def init_hidden(self):\n",
        "        return torch.zeros(self.num_layers, self.hidden_size)\n"
      ],
      "metadata": {
        "id": "JJ-0HKDTA0ru"
      },
      "execution_count": null,
      "outputs": []
    },
    {
      "cell_type": "code",
      "source": [
        "rnn_st = StackedRNN(n_letters, n_hidden, no_of_languages, 1).to(device)\n",
        "criterion = nn.NLLLoss()\n",
        " \n",
        "learning_rate = 2e-4\n",
        "optimizer = torch.optim.Adam(rnn_st.parameters(), lr=learning_rate)"
      ],
      "metadata": {
        "id": "bQOJ0KNBBtbL"
      },
      "execution_count": null,
      "outputs": []
    },
    {
      "cell_type": "code",
      "source": [
        "train_loss_rnnSt, train_acc_rnnSt, test_loss_rnnSt, test_acc_rnnSt = train(rnn_st, device, optimizer, 10)"
      ],
      "metadata": {
        "id": "BbAM7vmCCOzj",
        "colab": {
          "base_uri": "https://localhost:8080/"
        },
        "outputId": "ac0bc643-cbbc-4767-9460-b8e8c015dcf0"
      },
      "execution_count": null,
      "outputs": [
        {
          "output_type": "stream",
          "name": "stdout",
          "text": [
            "Epoch: 1\n"
          ]
        },
        {
          "output_type": "stream",
          "name": "stderr",
          "text": [
            "\rTraining Epoch 1/10:   0%|          | 0/16060 [00:00<?, ?it/s]<ipython-input-14-1631c5e6452c>:17: UserWarning: To copy construct from a tensor, it is recommended to use sourceTensor.clone().detach() or sourceTensor.clone().detach().requires_grad_(True), rather than torch.tensor(sourceTensor).\n",
            "  line_tensor = torch.tensor(processor.line_to_tensor(name), dtype=torch.float32).to(device)\n",
            "Training Epoch 1/10: 100%|██████████| 16060/16060 [02:05<00:00, 127.84it/s, loss=7.31e+3]\n",
            "Testing Epoch 1/10:   0%|          | 0/2007 [00:00<?, ?it/s]<ipython-input-14-1631c5e6452c>:47: UserWarning: To copy construct from a tensor, it is recommended to use sourceTensor.clone().detach() or sourceTensor.clone().detach().requires_grad_(True), rather than torch.tensor(sourceTensor).\n",
            "  line_tensor = torch.tensor(processor.line_to_tensor(name), dtype=torch.float32).to(device)\n",
            "Testing Epoch 1/10: 100%|██████████| 2007/2007 [00:09<00:00, 219.06it/s, loss=431]\n"
          ]
        },
        {
          "output_type": "stream",
          "name": "stdout",
          "text": [
            "Train loss: 1.36607, Train Acc: 61.97385 | Test loss: 1.07373, Test acc: 68.11161\n",
            "Epoch: 2\n"
          ]
        },
        {
          "output_type": "stream",
          "name": "stderr",
          "text": [
            "Training Epoch 2/10: 100%|██████████| 16060/16060 [02:01<00:00, 132.17it/s, loss=5.69e+3]\n",
            "Testing Epoch 2/10: 100%|██████████| 2007/2007 [00:09<00:00, 209.37it/s, loss=374]\n"
          ]
        },
        {
          "output_type": "stream",
          "name": "stdout",
          "text": [
            "Train loss: 1.06296, Train Acc: 69.78207 | Test loss: 0.93059, Test acc: 72.09766\n",
            "Epoch: 3\n"
          ]
        },
        {
          "output_type": "stream",
          "name": "stderr",
          "text": [
            "Training Epoch 3/10: 100%|██████████| 16060/16060 [02:08<00:00, 125.22it/s, loss=5.11e+3]\n",
            "Testing Epoch 3/10: 100%|██████████| 2007/2007 [00:09<00:00, 206.20it/s, loss=345]\n"
          ]
        },
        {
          "output_type": "stream",
          "name": "stdout",
          "text": [
            "Train loss: 0.95478, Train Acc: 72.12951 | Test loss: 0.85942, Test acc: 73.54260\n",
            "Epoch: 4\n"
          ]
        },
        {
          "output_type": "stream",
          "name": "stderr",
          "text": [
            "Training Epoch 4/10: 100%|██████████| 16060/16060 [02:03<00:00, 130.31it/s, loss=4.8e+3]\n",
            "Testing Epoch 4/10: 100%|██████████| 2007/2007 [00:09<00:00, 216.13it/s, loss=331]\n"
          ]
        },
        {
          "output_type": "stream",
          "name": "stdout",
          "text": [
            "Train loss: 0.89700, Train Acc: 73.25654 | Test loss: 0.82367, Test acc: 74.98754\n",
            "Epoch: 5\n"
          ]
        },
        {
          "output_type": "stream",
          "name": "stderr",
          "text": [
            "Training Epoch 5/10: 100%|██████████| 16060/16060 [01:59<00:00, 133.86it/s, loss=4.63e+3]\n",
            "Testing Epoch 5/10: 100%|██████████| 2007/2007 [00:09<00:00, 209.19it/s, loss=323]\n"
          ]
        },
        {
          "output_type": "stream",
          "name": "stdout",
          "text": [
            "Train loss: 0.86425, Train Acc: 74.13450 | Test loss: 0.80357, Test acc: 75.68510\n",
            "Epoch: 6\n"
          ]
        },
        {
          "output_type": "stream",
          "name": "stderr",
          "text": [
            "Training Epoch 6/10: 100%|██████████| 16060/16060 [01:59<00:00, 134.83it/s, loss=4.5e+3]\n",
            "Testing Epoch 6/10: 100%|██████████| 2007/2007 [00:09<00:00, 216.88it/s, loss=320]\n"
          ]
        },
        {
          "output_type": "stream",
          "name": "stdout",
          "text": [
            "Train loss: 0.84146, Train Acc: 74.72603 | Test loss: 0.79645, Test acc: 75.73493\n",
            "Epoch: 7\n"
          ]
        },
        {
          "output_type": "stream",
          "name": "stderr",
          "text": [
            "Training Epoch 7/10: 100%|██████████| 16060/16060 [02:07<00:00, 126.18it/s, loss=4.42e+3]\n",
            "Testing Epoch 7/10: 100%|██████████| 2007/2007 [00:09<00:00, 211.66it/s, loss=318]\n"
          ]
        },
        {
          "output_type": "stream",
          "name": "stdout",
          "text": [
            "Train loss: 0.82614, Train Acc: 75.04359 | Test loss: 0.79251, Test acc: 75.93423\n",
            "Epoch: 8\n"
          ]
        },
        {
          "output_type": "stream",
          "name": "stderr",
          "text": [
            "Training Epoch 8/10: 100%|██████████| 16060/16060 [02:02<00:00, 131.54it/s, loss=4.36e+3]\n",
            "Testing Epoch 8/10: 100%|██████████| 2007/2007 [00:09<00:00, 215.57it/s, loss=316]\n"
          ]
        },
        {
          "output_type": "stream",
          "name": "stdout",
          "text": [
            "Train loss: 0.81465, Train Acc: 75.29265 | Test loss: 0.78654, Test acc: 76.48231\n",
            "Epoch: 9\n"
          ]
        },
        {
          "output_type": "stream",
          "name": "stderr",
          "text": [
            "Training Epoch 9/10: 100%|██████████| 16060/16060 [02:03<00:00, 130.45it/s, loss=4.31e+3]\n",
            "Testing Epoch 9/10: 100%|██████████| 2007/2007 [00:09<00:00, 214.31it/s, loss=313]\n"
          ]
        },
        {
          "output_type": "stream",
          "name": "stdout",
          "text": [
            "Train loss: 0.80543, Train Acc: 75.39851 | Test loss: 0.78012, Test acc: 77.08022\n",
            "Epoch: 10\n"
          ]
        },
        {
          "output_type": "stream",
          "name": "stderr",
          "text": [
            "Training Epoch 10/10: 100%|██████████| 16060/16060 [02:03<00:00, 130.38it/s, loss=4.27e+3]\n",
            "Testing Epoch 10/10: 100%|██████████| 2007/2007 [00:14<00:00, 140.65it/s, loss=311]\n"
          ]
        },
        {
          "output_type": "stream",
          "name": "stdout",
          "text": [
            "Train loss: 0.79792, Train Acc: 75.72229 | Test loss: 0.77560, Test acc: 76.93074\n"
          ]
        }
      ]
    },
    {
      "cell_type": "code",
      "source": [
        "fig = plt.figure(figsize=(5,5))\n",
        "plt.plot(train_loss_rnnSt,'r-', label = \"Train Loss on stacked rnn\")\n",
        "plt.plot(test_loss_rnnSt, 'b-',label = \"Test Loss on stacked rnn\")\n",
        "plt.xlabel(\"Num of epochs\")\n",
        "plt.legend()\n",
        "plt.show()\n"
      ],
      "metadata": {
        "colab": {
          "base_uri": "https://localhost:8080/",
          "height": 334
        },
        "outputId": "1dbd3246-d85a-4638-d123-1e3fc0e50fa5",
        "id": "7VWvBBqkXlc3"
      },
      "execution_count": null,
      "outputs": [
        {
          "output_type": "display_data",
          "data": {
            "text/plain": [
              "<Figure size 360x360 with 1 Axes>"
            ],
            "image/png": "[encoded data removed]"
          },
          "metadata": {
            "needs_background": "light"
          }
        }
      ]
    },
    {
      "cell_type": "code",
      "source": [
        "fig = plt.figure(figsize=(5,5))\n",
        "plt.plot(train_acc_rnnSt, 'r-',label = \"Train Acc on stacked rnn\")\n",
        "plt.plot(test_acc_rnnSt, 'b-',label = \"Test Acc on stacked rnn\")\n",
        "plt.xlabel(\"Num of epochs\")\n",
        "plt.legend()\n",
        "plt.show()\n"
      ],
      "metadata": {
        "colab": {
          "base_uri": "https://localhost:8080/",
          "height": 334
        },
        "outputId": "e9b5a4f3-6c97-4127-839b-541e19477ec3",
        "id": "D8cLb0iNXlc4"
      },
      "execution_count": null,
      "outputs": [
        {
          "output_type": "display_data",
          "data": {
            "text/plain": [
              "<Figure size 360x360 with 1 Axes>"
            ],
            "image/png": "[encoded data removed]"
          },
          "metadata": {
            "needs_background": "light"
          }
        }
      ]
    },
    {
      "cell_type": "markdown",
      "source": [
        "### hyperparms tuning"
      ],
      "metadata": {
        "id": "37V1oADpwx-L"
      }
    },
    {
      "cell_type": "code",
      "source": [
        "learning_rates = [1e-3, 1e-4, 1e-5, 1e-6]\n",
        "epochs = 5\n",
        "\n",
        "train_loss_list, train_acc_list, test_loss_list, test_acc_list = [], [], [], []\n",
        "\n",
        "for lr in learning_rates:\n",
        "    print(f\"Training with learning rate {lr}\")\n",
        "    model = StackedRNN(n_letters, n_hidden, no_of_languages, 1).to(device)\n",
        "    model.to(device)\n",
        "    criterion = nn.NLLLoss()\n",
        "    optimizer = optim.Adam(model.parameters(), lr=lr)\n",
        "\n",
        "    train_loss, train_acc, test_loss, test_acc = train(model, device, optimizer, epochs)\n",
        "\n",
        "    train_loss_list.append(train_loss)\n",
        "    train_acc_list.append(train_acc)\n",
        "    test_loss_list.append(test_loss)\n",
        "    test_acc_list.append(test_acc)\n",
        "\n",
        "# Plotting the Losses for all Learning Rates\n",
        "plt.figure(figsize=(10, 5))\n",
        "for i in range(len(learning_rates)):\n",
        "    plt.plot(test_loss_list[i], label=f\"LR={learning_rates[i]}\")\n",
        "plt.xlabel(\"Epoch\")\n",
        "plt.ylabel(\"Loss\")\n",
        "plt.title(f\"Testing Loss for all Learning Rates\")\n",
        "plt.legend()\n",
        "plt.show()\n",
        "\n",
        "# Plotting the Accuracies for all Learning Rates\n",
        "plt.figure(figsize=(10, 5))\n",
        "for i in range(len(learning_rates)):\n",
        "    plt.plot(test_acc_list[i], label=f\"LR={learning_rates[i]}\")\n",
        "plt.xlabel(\"Epoch\")\n",
        "plt.ylabel(\"Accuracy\")\n",
        "plt.title(f\"Testing Accuracy for all Learning Rates\")\n",
        "plt.legend()\n",
        "plt.show()\n"
      ],
      "metadata": {
        "colab": {
          "base_uri": "https://localhost:8080/",
          "height": 1000
        },
        "id": "UdqPgxyfwxhC",
        "outputId": "48b77272-5d69-4343-9bab-8b8f51e512b1"
      },
      "execution_count": null,
      "outputs": [
        {
          "metadata": {
            "tags": null
          },
          "name": "stdout",
          "output_type": "stream",
          "text": [
            "Training with learning rate 0.001\n",
            "Epoch: 1\n"
          ]
        },
        {
          "metadata": {
            "tags": null
          },
          "name": "stderr",
          "output_type": "stream",
          "text": [
            "Training Epoch 1/5:   0%|          | 0/16060 [00:00<?, ?it/s]<ipython-input-14-1631c5e6452c>:17: UserWarning: To copy construct from a tensor, it is recommended to use sourceTensor.clone().detach() or sourceTensor.clone().detach().requires_grad_(True), rather than torch.tensor(sourceTensor).\n",
            "  line_tensor = torch.tensor(processor.line_to_tensor(name), dtype=torch.float32).to(device)\n",
            "Training Epoch 1/5: 100%|██████████| 16060/16060 [01:55<00:00, 138.90it/s, loss=8.6e+3]\n",
            "Testing Epoch 1/5:   0%|          | 0/2007 [00:00<?, ?it/s]<ipython-input-14-1631c5e6452c>:47: UserWarning: To copy construct from a tensor, it is recommended to use sourceTensor.clone().detach() or sourceTensor.clone().detach().requires_grad_(True), rather than torch.tensor(sourceTensor).\n",
            "  line_tensor = torch.tensor(processor.line_to_tensor(name), dtype=torch.float32).to(device)\n",
            "Testing Epoch 1/5: 100%|██████████| 2007/2007 [00:08<00:00, 228.78it/s, loss=570]\n"
          ]
        },
        {
          "metadata": {
            "tags": null
          },
          "name": "stdout",
          "output_type": "stream",
          "text": [
            "Train loss: 1.60616, Train Acc: 59.32752 | Test loss: 1.41928, Test acc: 62.13254\n",
            "Epoch: 2\n"
          ]
        },
        {
          "metadata": {
            "tags": null
          },
          "name": "stderr",
          "output_type": "stream",
          "text": [
            "Training Epoch 2/5: 100%|██████████| 16060/16060 [01:51<00:00, 143.59it/s, loss=7.67e+3]\n",
            "Testing Epoch 2/5: 100%|██████████| 2007/2007 [00:08<00:00, 230.25it/s, loss=507]\n"
          ]
        },
        {
          "metadata": {
            "tags": null
          },
          "name": "stdout",
          "output_type": "stream",
          "text": [
            "Train loss: 1.43275, Train Acc: 63.92279 | Test loss: 1.26214, Test acc: 66.11858\n",
            "Epoch: 3\n"
          ]
        },
        {
          "metadata": {
            "tags": null
          },
          "name": "stderr",
          "output_type": "stream",
          "text": [
            "Training Epoch 3/5: 100%|██████████| 16060/16060 [01:50<00:00, 145.49it/s, loss=7.5e+3]\n",
            "Testing Epoch 3/5: 100%|██████████| 2007/2007 [00:08<00:00, 229.94it/s, loss=500]\n"
          ]
        },
        {
          "metadata": {
            "tags": null
          },
          "name": "stdout",
          "output_type": "stream",
          "text": [
            "Train loss: 1.40128, Train Acc: 64.88792 | Test loss: 1.24514, Test acc: 65.27155\n",
            "Epoch: 4\n"
          ]
        },
        {
          "metadata": {
            "tags": null
          },
          "name": "stderr",
          "output_type": "stream",
          "text": [
            "Training Epoch 4/5: 100%|██████████| 16060/16060 [01:50<00:00, 145.84it/s, loss=7.38e+3]\n",
            "Testing Epoch 4/5: 100%|██████████| 2007/2007 [00:08<00:00, 232.10it/s, loss=526]\n"
          ]
        },
        {
          "metadata": {
            "tags": null
          },
          "name": "stdout",
          "output_type": "stream",
          "text": [
            "Train loss: 1.37870, Train Acc: 65.85305 | Test loss: 1.31010, Test acc: 64.02591\n",
            "Epoch: 5\n"
          ]
        },
        {
          "metadata": {
            "tags": null
          },
          "name": "stderr",
          "output_type": "stream",
          "text": [
            "Training Epoch 5/5: 100%|██████████| 16060/16060 [01:50<00:00, 145.04it/s, loss=7.34e+3]\n",
            "Testing Epoch 5/5: 100%|██████████| 2007/2007 [00:08<00:00, 234.94it/s, loss=522]\n"
          ]
        },
        {
          "metadata": {
            "tags": null
          },
          "name": "stdout",
          "output_type": "stream",
          "text": [
            "Train loss: 1.37179, Train Acc: 66.31382 | Test loss: 1.30063, Test acc: 66.61684\n",
            "Training with learning rate 0.0001\n",
            "Epoch: 1\n"
          ]
        },
        {
          "metadata": {
            "tags": null
          },
          "name": "stderr",
          "output_type": "stream",
          "text": [
            "Training Epoch 1/5: 100%|██████████| 16060/16060 [01:51<00:00, 144.45it/s, loss=7.79e+3]\n",
            "Testing Epoch 1/5: 100%|██████████| 2007/2007 [00:08<00:00, 233.51it/s, loss=468]\n"
          ]
        },
        {
          "metadata": {
            "tags": null
          },
          "name": "stdout",
          "output_type": "stream",
          "text": [
            "Train loss: 1.45434, Train Acc: 58.82939 | Test loss: 1.16547, Test acc: 66.11858\n",
            "Epoch: 2\n"
          ]
        },
        {
          "output_type": "stream",
          "name": "stderr",
          "text": [
            "Training Epoch 2/5: 100%|██████████| 16060/16060 [01:53<00:00, 142.09it/s, loss=6.12e+3]\n",
            "Testing Epoch 2/5: 100%|██████████| 2007/2007 [00:08<00:00, 230.21it/s, loss=411]\n"
          ]
        },
        {
          "output_type": "stream",
          "name": "stdout",
          "text": [
            "Train loss: 1.14290, Train Acc: 68.02615 | Test loss: 1.02377, Test acc: 70.40359\n",
            "Epoch: 3\n"
          ]
        },
        {
          "output_type": "stream",
          "name": "stderr",
          "text": [
            "Training Epoch 3/5: 100%|██████████| 16060/16060 [01:58<00:00, 135.78it/s, loss=5.5e+3]\n",
            "Testing Epoch 3/5: 100%|██████████| 2007/2007 [00:09<00:00, 218.55it/s, loss=374]\n"
          ]
        },
        {
          "output_type": "stream",
          "name": "stdout",
          "text": [
            "Train loss: 1.02696, Train Acc: 70.87796 | Test loss: 0.93217, Test acc: 72.59591\n",
            "Epoch: 4\n"
          ]
        },
        {
          "output_type": "stream",
          "name": "stderr",
          "text": [
            "Training Epoch 4/5: 100%|██████████| 16060/16060 [01:58<00:00, 135.17it/s, loss=5.09e+3]\n",
            "Testing Epoch 4/5: 100%|██████████| 2007/2007 [00:09<00:00, 215.58it/s, loss=349]\n"
          ]
        },
        {
          "output_type": "stream",
          "name": "stdout",
          "text": [
            "Train loss: 0.95042, Train Acc: 72.75841 | Test loss: 0.86846, Test acc: 74.43946\n",
            "Epoch: 5\n"
          ]
        },
        {
          "output_type": "stream",
          "name": "stderr",
          "text": [
            "Training Epoch 5/5: 100%|██████████| 16060/16060 [01:57<00:00, 136.99it/s, loss=4.8e+3]\n",
            "Testing Epoch 5/5: 100%|██████████| 2007/2007 [00:09<00:00, 221.96it/s, loss=333]\n"
          ]
        },
        {
          "output_type": "stream",
          "name": "stdout",
          "text": [
            "Train loss: 0.89668, Train Acc: 73.76090 | Test loss: 0.82897, Test acc: 75.73493\n",
            "Training with learning rate 1e-05\n",
            "Epoch: 1\n"
          ]
        },
        {
          "output_type": "stream",
          "name": "stderr",
          "text": [
            "Training Epoch 1/5: 100%|██████████| 16060/16060 [01:58<00:00, 135.90it/s, loss=1e+4]\n",
            "Testing Epoch 1/5: 100%|██████████| 2007/2007 [00:08<00:00, 228.29it/s, loss=646]\n"
          ]
        },
        {
          "output_type": "stream",
          "name": "stdout",
          "text": [
            "Train loss: 1.86924, Train Acc: 46.98007 | Test loss: 1.60920, Test acc: 51.96811\n",
            "Epoch: 2\n"
          ]
        },
        {
          "output_type": "stream",
          "name": "stderr",
          "text": [
            "Training Epoch 2/5: 100%|██████████| 16060/16060 [01:58<00:00, 135.79it/s, loss=8.56e+3]\n",
            "Testing Epoch 2/5: 100%|██████████| 2007/2007 [00:08<00:00, 231.24it/s, loss=604]\n"
          ]
        },
        {
          "output_type": "stream",
          "name": "stdout",
          "text": [
            "Train loss: 1.59939, Train Acc: 51.86800 | Test loss: 1.50547, Test acc: 54.85800\n",
            "Epoch: 3\n"
          ]
        },
        {
          "output_type": "stream",
          "name": "stderr",
          "text": [
            "Training Epoch 3/5: 100%|██████████| 16060/16060 [01:57<00:00, 136.47it/s, loss=8.1e+3]\n",
            "Testing Epoch 3/5: 100%|██████████| 2007/2007 [00:09<00:00, 216.54it/s, loss=577]\n"
          ]
        },
        {
          "output_type": "stream",
          "name": "stdout",
          "text": [
            "Train loss: 1.51275, Train Acc: 54.55791 | Test loss: 1.43836, Test acc: 57.64823\n",
            "Epoch: 4\n"
          ]
        },
        {
          "output_type": "stream",
          "name": "stderr",
          "text": [
            "Training Epoch 4/5: 100%|██████████| 16060/16060 [02:00<00:00, 132.87it/s, loss=7.8e+3]\n",
            "Testing Epoch 4/5: 100%|██████████| 2007/2007 [00:09<00:00, 210.48it/s, loss=558]\n"
          ]
        },
        {
          "output_type": "stream",
          "name": "stdout",
          "text": [
            "Train loss: 1.45621, Train Acc: 56.61270 | Test loss: 1.39083, Test acc: 59.54160\n",
            "Epoch: 5\n"
          ]
        },
        {
          "output_type": "stream",
          "name": "stderr",
          "text": [
            "Training Epoch 5/5: 100%|██████████| 16060/16060 [02:03<00:00, 130.40it/s, loss=7.53e+3]\n",
            "Testing Epoch 5/5: 100%|██████████| 2007/2007 [00:09<00:00, 213.20it/s, loss=539]\n"
          ]
        },
        {
          "output_type": "stream",
          "name": "stdout",
          "text": [
            "Train loss: 1.40692, Train Acc: 58.98506 | Test loss: 1.34385, Test acc: 61.83358\n",
            "Training with learning rate 1e-06\n",
            "Epoch: 1\n"
          ]
        },
        {
          "output_type": "stream",
          "name": "stderr",
          "text": [
            "Training Epoch 1/5: 100%|██████████| 16060/16060 [02:01<00:00, 132.01it/s, loss=1.09e+4]\n",
            "Testing Epoch 1/5: 100%|██████████| 2007/2007 [00:08<00:00, 229.09it/s, loss=739]\n"
          ]
        },
        {
          "output_type": "stream",
          "name": "stdout",
          "text": [
            "Train loss: 2.03835, Train Acc: 44.80075 | Test loss: 1.84145, Test acc: 48.03189\n",
            "Epoch: 2\n"
          ]
        },
        {
          "output_type": "stream",
          "name": "stderr",
          "text": [
            "Training Epoch 2/5: 100%|██████████| 16060/16060 [01:59<00:00, 134.02it/s, loss=9.92e+3]\n",
            "Testing Epoch 2/5: 100%|██████████| 2007/2007 [00:08<00:00, 229.64it/s, loss=722]\n"
          ]
        },
        {
          "output_type": "stream",
          "name": "stdout",
          "text": [
            "Train loss: 1.85261, Train Acc: 46.54421 | Test loss: 1.79952, Test acc: 48.03189\n",
            "Epoch: 3\n"
          ]
        },
        {
          "output_type": "stream",
          "name": "stderr",
          "text": [
            "Training Epoch 3/5: 100%|██████████| 16060/16060 [01:59<00:00, 134.01it/s, loss=9.77e+3]\n",
            "Testing Epoch 3/5: 100%|██████████| 2007/2007 [00:08<00:00, 229.28it/s, loss=713]\n"
          ]
        },
        {
          "output_type": "stream",
          "name": "stdout",
          "text": [
            "Train loss: 1.82572, Train Acc: 46.54421 | Test loss: 1.77604, Test acc: 48.03189\n",
            "Epoch: 4\n"
          ]
        },
        {
          "output_type": "stream",
          "name": "stderr",
          "text": [
            "Training Epoch 4/5: 100%|██████████| 16060/16060 [01:59<00:00, 134.84it/s, loss=9.63e+3]\n",
            "Testing Epoch 4/5: 100%|██████████| 2007/2007 [00:08<00:00, 223.80it/s, loss=698]\n"
          ]
        },
        {
          "output_type": "stream",
          "name": "stdout",
          "text": [
            "Train loss: 1.79968, Train Acc: 46.54421 | Test loss: 1.74015, Test acc: 48.03189\n",
            "Epoch: 5\n"
          ]
        },
        {
          "output_type": "stream",
          "name": "stderr",
          "text": [
            "Training Epoch 5/5: 100%|██████████| 16060/16060 [01:59<00:00, 134.56it/s, loss=9.32e+3]\n",
            "Testing Epoch 5/5: 100%|██████████| 2007/2007 [00:09<00:00, 220.33it/s, loss=671]\n"
          ]
        },
        {
          "output_type": "stream",
          "name": "stdout",
          "text": [
            "Train loss: 1.74184, Train Acc: 46.54421 | Test loss: 1.67056, Test acc: 48.03189\n"
          ]
        },
        {
          "output_type": "display_data",
          "data": {
            "text/plain": [
              "<Figure size 720x360 with 1 Axes>"
            ],
            "image/png": "[encoded data removed]"
          },
          "metadata": {
            "needs_background": "light"
          }
        },
        {
          "output_type": "display_data",
          "data": {
            "text/plain": [
              "<Figure size 720x360 with 1 Axes>"
            ],
            "image/png": "[encoded data removed]"
          },
          "metadata": {
            "needs_background": "light"
          }
        }
      ]
    },
    {
      "cell_type": "code",
      "source": [
        "# Evaluation loop\n",
        "model = rnn_st\n",
        "model.eval()\n",
        "with torch.no_grad(), tqdm(total=len(test_data)) as pbar:\n",
        "    running_loss = 0\n",
        "    correct_test = 0\n",
        "    for i, (name, lang) in enumerate(test_data):\n",
        "        category_tensor = torch.tensor([processor.all_categories.index(lang)], dtype=torch.long).to(device)\n",
        "        line_tensor = torch.tensor(processor.line_to_tensor(name), dtype=torch.float32).to(device)\n",
        "\n",
        "        hidden = model.init_hidden().to(device)\n",
        "        for i in range(line_tensor.size()[0]):\n",
        "            output, hidden = model(line_tensor[i], hidden)\n",
        "\n",
        "        loss = criterion(output, category_tensor)\n",
        "        running_loss += loss.item()\n",
        "        pbar.set_postfix(loss=running_loss/(i+1))\n",
        "        pbar.update(1)\n",
        "\n",
        "        guess, _ = category_from_output(output)\n",
        "        if guess == lang:\n",
        "            correct_test += 1\n",
        "    print('test loss using stacked RNN : ', running_loss/len(test_data))\n",
        "    print('test accuracy using stacked RNN : ',100 * correct_test / len(test_data),' %')"
      ],
      "metadata": {
        "colab": {
          "base_uri": "https://localhost:8080/"
        },
        "id": "BCe7He-jwl4t",
        "outputId": "add31116-5d4f-4872-c1ee-2d96cbacae45"
      },
      "execution_count": null,
      "outputs": [
        {
          "output_type": "stream",
          "name": "stderr",
          "text": [
            "  0%|          | 0/2007 [00:00<?, ?it/s]<ipython-input-30-a5d6a7c50e11>:9: UserWarning: To copy construct from a tensor, it is recommended to use sourceTensor.clone().detach() or sourceTensor.clone().detach().requires_grad_(True), rather than torch.tensor(sourceTensor).\n",
            "  line_tensor = torch.tensor(processor.line_to_tensor(name), dtype=torch.float32).to(device)\n",
            "100%|██████████| 2007/2007 [00:09<00:00, 205.85it/s, loss=407]"
          ]
        },
        {
          "output_type": "stream",
          "name": "stdout",
          "text": [
            "test loss using stacked RNN :  0.8107560941818789\n",
            "test accuracy using stacked RNN :  75.63527653213752  %\n"
          ]
        },
        {
          "output_type": "stream",
          "name": "stderr",
          "text": [
            "\n"
          ]
        }
      ]
    },
    {
      "cell_type": "markdown",
      "source": [
        "At last, perform inference on the following words and print their language of origin.\n",
        "<br>\n",
        "Emilia, Alexandra, Sachiko, Vladimir, Minh, Xi, Muammar, Mukesh, Andrew, Ronaldo"
      ],
      "metadata": {
        "id": "h_FBTjeUdQJd"
      }
    },
    {
      "cell_type": "code",
      "source": [
        "list_of_names = ['Emilia', 'Alexandra', 'Sachiko', 'Vladimir', 'Minh', 'Xi', 'Muammar', 'Mukesh', 'Andrew', 'Ronaldo']"
      ],
      "metadata": {
        "id": "NtMl-Nr8oZjc"
      },
      "execution_count": null,
      "outputs": []
    },
    {
      "cell_type": "code",
      "source": [
        "for name in list_of_names:\n",
        "  line_tensor = torch.tensor(processor.line_to_tensor(name)).to(device)\n",
        "  hidden = rnn_st.init_hidden().to(device)\n",
        "  for i in range(line_tensor.size()[0]):\n",
        "      output, hidden = rnn_st(line_tensor[i], hidden)\n",
        "  guess, _ = category_from_output(output)\n",
        "  print(f'name is {name} and model predicts it belongs to',guess, 'language')"
      ],
      "metadata": {
        "colab": {
          "base_uri": "https://localhost:8080/"
        },
        "id": "0Jfd04UQdOQu",
        "outputId": "c6ec44ab-4d78-4b88-b193-f53a15340b43"
      },
      "execution_count": null,
      "outputs": [
        {
          "output_type": "stream",
          "name": "stdout",
          "text": [
            "name is Emilia and model predicts it belongs to Italian language\n",
            "name is Alexandra and model predicts it belongs to Italian language\n",
            "name is Sachiko and model predicts it belongs to Japanese language\n",
            "name is Vladimir and model predicts it belongs to Russian language\n",
            "name is Minh and model predicts it belongs to Russian language\n",
            "name is Xi and model predicts it belongs to Chinese language\n",
            "name is Muammar and model predicts it belongs to Arabic language\n",
            "name is Mukesh and model predicts it belongs to Russian language\n",
            "name is Andrew and model predicts it belongs to English language\n",
            "name is Ronaldo and model predicts it belongs to Italian language\n"
          ]
        },
        {
          "output_type": "stream",
          "name": "stderr",
          "text": [
            "<ipython-input-29-9a8abc428851>:2: UserWarning: To copy construct from a tensor, it is recommended to use sourceTensor.clone().detach() or sourceTensor.clone().detach().requires_grad_(True), rather than torch.tensor(sourceTensor).\n",
            "  line_tensor = torch.tensor(processor.line_to_tensor(name)).to(device)\n"
          ]
        }
      ]
    },
    {
      "cell_type": "markdown",
      "source": [
        "<h5> in my opinion the model is doing a good job in predicting the origin of the given words Eg: Xi as chinese, vladimir as russian. \n",
        "<br>\n",
        "we have class imbalance in our dataset due to which most words if wrongly classfied are given label as english(max data)\n",
        "\n",
        "\n"
      ],
      "metadata": {
        "id": "MOc-N3y5q-ZW"
      }
    },
    {
      "cell_type": "markdown",
      "source": [
        "<h5> Also stacked RNN is working almost similar to RNN (old architecture) they improve the model's capacity to capture complex temporal dependencies and improve its performance, since our dataset is small and simple it doesnt make a big diffrence"
      ],
      "metadata": {
        "id": "p48xaS3nrnfY"
      }
    }
  ]
}