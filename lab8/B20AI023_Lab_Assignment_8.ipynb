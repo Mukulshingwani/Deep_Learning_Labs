{
  "cells": [
    {
      "cell_type": "code",
      "execution_count": null,
      "metadata": {
        "colab": {
          "base_uri": "https://localhost:8080/"
        },
        "id": "rYj_PgeIEmKc",
        "outputId": "961a79ee-cbaa-4bf0-8a22-52b0d005e7ef"
      },
      "outputs": [
        {
          "output_type": "stream",
          "name": "stdout",
          "text": [
            "Looking in indexes: https://pypi.org/simple, https://us-python.pkg.dev/colab-wheels/public/simple/\n",
            "Collecting wandb\n",
            "  Downloading wandb-0.14.2-py3-none-any.whl (2.0 MB)\n",
            "\u001b[2K     \u001b[90m━━━━━━━━━━━━━━━━━━━━━━━━━━━━━━━━━━━━━━━━\u001b[0m \u001b[32m2.0/2.0 MB\u001b[0m \u001b[31m30.4 MB/s\u001b[0m eta \u001b[36m0:00:00\u001b[0m\n",
            "\u001b[?25hRequirement already satisfied: psutil>=5.0.0 in /usr/local/lib/python3.9/dist-packages (from wandb) (5.9.4)\n",
            "Collecting sentry-sdk>=1.0.0\n",
            "  Downloading sentry_sdk-1.19.1-py2.py3-none-any.whl (199 kB)\n",
            "\u001b[2K     \u001b[90m━━━━━━━━━━━━━━━━━━━━━━━━━━━━━━━━━━━━━━\u001b[0m \u001b[32m199.2/199.2 kB\u001b[0m \u001b[31m13.3 MB/s\u001b[0m eta \u001b[36m0:00:00\u001b[0m\n",
            "\u001b[?25hRequirement already satisfied: typing-extensions in /usr/local/lib/python3.9/dist-packages (from wandb) (4.5.0)\n",
            "Collecting setproctitle\n",
            "  Downloading setproctitle-1.3.2-cp39-cp39-manylinux_2_5_x86_64.manylinux1_x86_64.manylinux_2_17_x86_64.manylinux2014_x86_64.whl (30 kB)\n",
            "Requirement already satisfied: Click!=8.0.0,>=7.0 in /usr/local/lib/python3.9/dist-packages (from wandb) (8.1.3)\n",
            "Requirement already satisfied: PyYAML in /usr/local/lib/python3.9/dist-packages (from wandb) (6.0)\n",
            "Collecting pathtools\n",
            "  Downloading pathtools-0.1.2.tar.gz (11 kB)\n",
            "  Preparing metadata (setup.py) ... \u001b[?25l\u001b[?25hdone\n",
            "Requirement already satisfied: setuptools in /usr/local/lib/python3.9/dist-packages (from wandb) (67.6.1)\n",
            "Collecting docker-pycreds>=0.4.0\n",
            "  Downloading docker_pycreds-0.4.0-py2.py3-none-any.whl (9.0 kB)\n",
            "Collecting GitPython!=3.1.29,>=1.0.0\n",
            "  Downloading GitPython-3.1.31-py3-none-any.whl (184 kB)\n",
            "\u001b[2K     \u001b[90m━━━━━━━━━━━━━━━━━━━━━━━━━━━━━━━━━━━━━━\u001b[0m \u001b[32m184.3/184.3 kB\u001b[0m \u001b[31m13.9 MB/s\u001b[0m eta \u001b[36m0:00:00\u001b[0m\n",
            "\u001b[?25hRequirement already satisfied: appdirs>=1.4.3 in /usr/local/lib/python3.9/dist-packages (from wandb) (1.4.4)\n",
            "Requirement already satisfied: protobuf!=4.21.0,<5,>=3.15.0 in /usr/local/lib/python3.9/dist-packages (from wandb) (3.20.3)\n",
            "Requirement already satisfied: requests<3,>=2.0.0 in /usr/local/lib/python3.9/dist-packages (from wandb) (2.27.1)\n",
            "Requirement already satisfied: six>=1.4.0 in /usr/local/lib/python3.9/dist-packages (from docker-pycreds>=0.4.0->wandb) (1.16.0)\n",
            "Collecting gitdb<5,>=4.0.1\n",
            "  Downloading gitdb-4.0.10-py3-none-any.whl (62 kB)\n",
            "\u001b[2K     \u001b[90m━━━━━━━━━━━━━━━━━━━━━━━━━━━━━━━━━━━━━━━━\u001b[0m \u001b[32m62.7/62.7 kB\u001b[0m \u001b[31m6.0 MB/s\u001b[0m eta \u001b[36m0:00:00\u001b[0m\n",
            "\u001b[?25hRequirement already satisfied: charset-normalizer~=2.0.0 in /usr/local/lib/python3.9/dist-packages (from requests<3,>=2.0.0->wandb) (2.0.12)\n",
            "Requirement already satisfied: certifi>=2017.4.17 in /usr/local/lib/python3.9/dist-packages (from requests<3,>=2.0.0->wandb) (2022.12.7)\n",
            "Requirement already satisfied: urllib3<1.27,>=1.21.1 in /usr/local/lib/python3.9/dist-packages (from requests<3,>=2.0.0->wandb) (1.26.15)\n",
            "Requirement already satisfied: idna<4,>=2.5 in /usr/local/lib/python3.9/dist-packages (from requests<3,>=2.0.0->wandb) (3.4)\n",
            "Collecting smmap<6,>=3.0.1\n",
            "  Downloading smmap-5.0.0-py3-none-any.whl (24 kB)\n",
            "Building wheels for collected packages: pathtools\n",
            "  Building wheel for pathtools (setup.py) ... \u001b[?25l\u001b[?25hdone\n",
            "  Created wheel for pathtools: filename=pathtools-0.1.2-py3-none-any.whl size=8807 sha256=94d14868d9ef78a053712fe9eacffa947a35345d7ee5a0bdec960813a6fe2d83\n",
            "  Stored in directory: /root/.cache/pip/wheels/b7/0a/67/ada2a22079218c75a88361c0782855cc72aebc4d18d0289d05\n",
            "Successfully built pathtools\n",
            "Installing collected packages: pathtools, smmap, setproctitle, sentry-sdk, docker-pycreds, gitdb, GitPython, wandb\n",
            "Successfully installed GitPython-3.1.31 docker-pycreds-0.4.0 gitdb-4.0.10 pathtools-0.1.2 sentry-sdk-1.19.1 setproctitle-1.3.2 smmap-5.0.0 wandb-0.14.2\n"
          ]
        }
      ],
      "source": [
        "pip install wandb"
      ]
    },
    {
      "cell_type": "code",
      "execution_count": null,
      "metadata": {
        "id": "59GgnJ4MEsmQ"
      },
      "outputs": [],
      "source": [
        "import numpy as np\n",
        "import torch.optim as optim\n",
        "from tqdm import tqdm, trange\n",
        "import torch.nn.functional as F\n",
        "import torch\n",
        "import torch.nn as nn\n",
        "from torch.optim import Adam\n",
        "from torch.nn import CrossEntropyLoss\n",
        "from torch.utils.data import DataLoader\n",
        "import torchvision\n",
        "import torchvision.transforms as transforms\n",
        "np.random.seed(42)\n",
        "torch.manual_seed(42)\n",
        "import matplotlib.pyplot as plt\n",
        "import torchvision.models as models\n",
        "import wandb\n",
        "from torch.optim import Adam, SGD, RMSprop"
      ]
    },
    {
      "cell_type": "code",
      "execution_count": null,
      "metadata": {
        "id": "F5AEHVrEMWED"
      },
      "outputs": [],
      "source": [
        "device = torch.device(\"cuda:0\" if torch.cuda.is_available() else \"cpu\")"
      ]
    },
    {
      "cell_type": "code",
      "execution_count": null,
      "metadata": {
        "colab": {
          "base_uri": "https://localhost:8080/"
        },
        "id": "e-xqE6dj7d3W",
        "outputId": "079c2d21-09fc-4477-91b7-605c2e548180"
      },
      "outputs": [
        {
          "output_type": "stream",
          "name": "stdout",
          "text": [
            "Downloading http://fashion-mnist.s3-website.eu-central-1.amazonaws.com/train-images-idx3-ubyte.gz\n",
            "Downloading http://fashion-mnist.s3-website.eu-central-1.amazonaws.com/train-images-idx3-ubyte.gz to /root/.pytorch/FashionMNIST_data/FashionMNIST/raw/train-images-idx3-ubyte.gz\n"
          ]
        },
        {
          "output_type": "stream",
          "name": "stderr",
          "text": [
            "100%|██████████| 26421880/26421880 [00:02<00:00, 12234760.59it/s]\n"
          ]
        },
        {
          "output_type": "stream",
          "name": "stdout",
          "text": [
            "Extracting /root/.pytorch/FashionMNIST_data/FashionMNIST/raw/train-images-idx3-ubyte.gz to /root/.pytorch/FashionMNIST_data/FashionMNIST/raw\n",
            "\n",
            "Downloading http://fashion-mnist.s3-website.eu-central-1.amazonaws.com/train-labels-idx1-ubyte.gz\n",
            "Downloading http://fashion-mnist.s3-website.eu-central-1.amazonaws.com/train-labels-idx1-ubyte.gz to /root/.pytorch/FashionMNIST_data/FashionMNIST/raw/train-labels-idx1-ubyte.gz\n"
          ]
        },
        {
          "output_type": "stream",
          "name": "stderr",
          "text": [
            "100%|██████████| 29515/29515 [00:00<00:00, 211111.40it/s]\n"
          ]
        },
        {
          "output_type": "stream",
          "name": "stdout",
          "text": [
            "Extracting /root/.pytorch/FashionMNIST_data/FashionMNIST/raw/train-labels-idx1-ubyte.gz to /root/.pytorch/FashionMNIST_data/FashionMNIST/raw\n",
            "\n",
            "Downloading http://fashion-mnist.s3-website.eu-central-1.amazonaws.com/t10k-images-idx3-ubyte.gz\n",
            "Downloading http://fashion-mnist.s3-website.eu-central-1.amazonaws.com/t10k-images-idx3-ubyte.gz to /root/.pytorch/FashionMNIST_data/FashionMNIST/raw/t10k-images-idx3-ubyte.gz\n"
          ]
        },
        {
          "output_type": "stream",
          "name": "stderr",
          "text": [
            "100%|██████████| 4422102/4422102 [00:01<00:00, 3889685.01it/s]\n"
          ]
        },
        {
          "output_type": "stream",
          "name": "stdout",
          "text": [
            "Extracting /root/.pytorch/FashionMNIST_data/FashionMNIST/raw/t10k-images-idx3-ubyte.gz to /root/.pytorch/FashionMNIST_data/FashionMNIST/raw\n",
            "\n",
            "Downloading http://fashion-mnist.s3-website.eu-central-1.amazonaws.com/t10k-labels-idx1-ubyte.gz\n",
            "Downloading http://fashion-mnist.s3-website.eu-central-1.amazonaws.com/t10k-labels-idx1-ubyte.gz to /root/.pytorch/FashionMNIST_data/FashionMNIST/raw/t10k-labels-idx1-ubyte.gz\n"
          ]
        },
        {
          "output_type": "stream",
          "name": "stderr",
          "text": [
            "100%|██████████| 5148/5148 [00:00<00:00, 5773336.09it/s]\n"
          ]
        },
        {
          "output_type": "stream",
          "name": "stdout",
          "text": [
            "Extracting /root/.pytorch/FashionMNIST_data/FashionMNIST/raw/t10k-labels-idx1-ubyte.gz to /root/.pytorch/FashionMNIST_data/FashionMNIST/raw\n",
            "\n"
          ]
        },
        {
          "output_type": "stream",
          "name": "stderr",
          "text": [
            "<ipython-input-4-3c460ccc38f8>:19: UserWarning: To copy construct from a tensor, it is recommended to use sourceTensor.clone().detach() or sourceTensor.clone().detach().requires_grad_(True), rather than torch.tensor(sourceTensor).\n",
            "  mask |= torch.tensor(dataset.targets) == c\n",
            "<ipython-input-4-3c460ccc38f8>:21: UserWarning: To copy construct from a tensor, it is recommended to use sourceTensor.clone().detach() or sourceTensor.clone().detach().requires_grad_(True), rather than torch.tensor(sourceTensor).\n",
            "  dataset.targets = torch.tensor(dataset.targets)[mask]\n"
          ]
        }
      ],
      "source": [
        "import torch\n",
        "from torchvision import datasets, transforms\n",
        "\n",
        "# Define the transform to normalize the data and convert it to 3-channel RGB\n",
        "transform = transforms.Compose([transforms.Grayscale(num_output_channels=3),\n",
        "                                transforms.ToTensor(),\n",
        "                                transforms.Normalize((0.5,), (0.5,))])\n",
        "\n",
        "# Download and load the training data\n",
        "trainset = datasets.FashionMNIST('~/.pytorch/FashionMNIST_data/', download=True, train=True, transform=transform)\n",
        "\n",
        "# Download and load the test data\n",
        "testset = datasets.FashionMNIST('~/.pytorch/FashionMNIST_data/', download=True, train=False, transform=transform)\n",
        "\n",
        "# Define a function to filter the data by class\n",
        "def filter_classes(dataset, classes):\n",
        "    mask = torch.zeros(len(dataset.targets), dtype=bool)\n",
        "    for c in classes:\n",
        "        mask |= torch.tensor(dataset.targets) == c\n",
        "    dataset.data = dataset.data[mask]\n",
        "    dataset.targets = torch.tensor(dataset.targets)[mask]\n",
        "    for i, c in enumerate(classes):\n",
        "        dataset.targets[dataset.targets == c] = i\n",
        "    dataset.targets = dataset.targets.tolist()\n",
        "\n",
        "# Filter the training data by class\n",
        "filter_classes(trainset, [1, 3, 5, 7, 9])\n",
        "\n",
        "# Filter the test data by class\n",
        "filter_classes(testset, [1, 3, 5, 7, 9])\n",
        "\n",
        "# Create DataLoaders for the filtered training and test data\n",
        "train_loader = torch.utils.data.DataLoader(trainset, batch_size=128, shuffle=True)\n",
        "test_loader = torch.utils.data.DataLoader(testset, batch_size=128, shuffle=True)"
      ]
    },
    {
      "cell_type": "code",
      "execution_count": null,
      "metadata": {
        "colab": {
          "base_uri": "https://localhost:8080/",
          "height": 300
        },
        "id": "_grA8tmREvoK",
        "outputId": "112b7f7f-fe5a-4274-87ed-8fe593d031c9"
      },
      "outputs": [
        {
          "output_type": "stream",
          "name": "stderr",
          "text": [
            "/usr/local/lib/python3.9/dist-packages/torchvision/models/_utils.py:208: UserWarning: The parameter 'pretrained' is deprecated since 0.13 and may be removed in the future, please use 'weights' instead.\n",
            "  warnings.warn(\n",
            "/usr/local/lib/python3.9/dist-packages/torchvision/models/_utils.py:223: UserWarning: Arguments other than a weight enum or `None` for 'weights' are deprecated since 0.13 and may be removed in the future. The current behavior is equivalent to passing `weights=ResNet18_Weights.IMAGENET1K_V1`. You can also use `weights=ResNet18_Weights.DEFAULT` to get the most up-to-date weights.\n",
            "  warnings.warn(msg)\n",
            "Downloading: \"https://download.pytorch.org/models/resnet18-f37072fd.pth\" to /root/.cache/torch/hub/checkpoints/resnet18-f37072fd.pth\n",
            "100%|██████████| 44.7M/44.7M [00:00<00:00, 125MB/s]\n"
          ]
        },
        {
          "output_type": "display_data",
          "data": {
            "text/plain": [
              "<IPython.core.display.Javascript object>"
            ],
            "application/javascript": [
              "\n",
              "        window._wandbApiKey = new Promise((resolve, reject) => {\n",
              "            function loadScript(url) {\n",
              "            return new Promise(function(resolve, reject) {\n",
              "                let newScript = document.createElement(\"script\");\n",
              "                newScript.onerror = reject;\n",
              "                newScript.onload = resolve;\n",
              "                document.body.appendChild(newScript);\n",
              "                newScript.src = url;\n",
              "            });\n",
              "            }\n",
              "            loadScript(\"https://cdn.jsdelivr.net/npm/postmate/build/postmate.min.js\").then(() => {\n",
              "            const iframe = document.createElement('iframe')\n",
              "            iframe.style.cssText = \"width:0;height:0;border:none\"\n",
              "            document.body.appendChild(iframe)\n",
              "            const handshake = new Postmate({\n",
              "                container: iframe,\n",
              "                url: 'https://wandb.ai/authorize'\n",
              "            });\n",
              "            const timeout = setTimeout(() => reject(\"Couldn't auto authenticate\"), 5000)\n",
              "            handshake.then(function(child) {\n",
              "                child.on('authorize', data => {\n",
              "                    clearTimeout(timeout)\n",
              "                    resolve(data)\n",
              "                });\n",
              "            });\n",
              "            })\n",
              "        });\n",
              "    "
            ]
          },
          "metadata": {}
        },
        {
          "output_type": "stream",
          "name": "stderr",
          "text": [
            "\u001b[34m\u001b[1mwandb\u001b[0m: Logging into wandb.ai. (Learn how to deploy a W&B server locally: https://wandb.me/wandb-server)\n",
            "\u001b[34m\u001b[1mwandb\u001b[0m: You can find your API key in your browser here: https://wandb.ai/authorize\n",
            "wandb: Paste an API key from your profile and hit enter, or press ctrl+c to quit:"
          ]
        },
        {
          "name": "stdout",
          "output_type": "stream",
          "text": [
            " ··········\n"
          ]
        },
        {
          "output_type": "stream",
          "name": "stderr",
          "text": [
            "\u001b[34m\u001b[1mwandb\u001b[0m: Appending key for api.wandb.ai to your netrc file: /root/.netrc\n"
          ]
        },
        {
          "output_type": "display_data",
          "data": {
            "text/plain": [
              "<IPython.core.display.HTML object>"
            ],
            "text/html": [
              "Tracking run with wandb version 0.14.2"
            ]
          },
          "metadata": {}
        },
        {
          "output_type": "display_data",
          "data": {
            "text/plain": [
              "<IPython.core.display.HTML object>"
            ],
            "text/html": [
              "Run data is saved locally in <code>/content/wandb/run-20230417_131250-rvt3h9x4</code>"
            ]
          },
          "metadata": {}
        },
        {
          "output_type": "display_data",
          "data": {
            "text/plain": [
              "<IPython.core.display.HTML object>"
            ],
            "text/html": [
              "Syncing run <strong><a href='https://wandb.ai/mukul_dl/final_lab_8/runs/rvt3h9x4' target=\"_blank\">earnest-morning-1</a></strong> to <a href='https://wandb.ai/mukul_dl/final_lab_8' target=\"_blank\">Weights & Biases</a> (<a href='https://wandb.me/run' target=\"_blank\">docs</a>)<br/>"
            ]
          },
          "metadata": {}
        },
        {
          "output_type": "display_data",
          "data": {
            "text/plain": [
              "<IPython.core.display.HTML object>"
            ],
            "text/html": [
              " View project at <a href='https://wandb.ai/mukul_dl/final_lab_8' target=\"_blank\">https://wandb.ai/mukul_dl/final_lab_8</a>"
            ]
          },
          "metadata": {}
        },
        {
          "output_type": "display_data",
          "data": {
            "text/plain": [
              "<IPython.core.display.HTML object>"
            ],
            "text/html": [
              " View run at <a href='https://wandb.ai/mukul_dl/final_lab_8/runs/rvt3h9x4' target=\"_blank\">https://wandb.ai/mukul_dl/final_lab_8/runs/rvt3h9x4</a>"
            ]
          },
          "metadata": {}
        }
      ],
      "source": [
        "# Load pre-trained ResNet18 model\n",
        "resnet18 = models.resnet18(pretrained=True)\n",
        "num_ftrs = resnet18.fc.in_features\n",
        "resnet18.fc = nn.Linear(num_ftrs, 5)\n",
        "resnet18.to(device)\n",
        "\n",
        "# Define hyperparameters\n",
        "config_defaults = {\n",
        "    'learning_rate': 3e-5,\n",
        "    'optimizer': 'Adam',\n",
        "    'activation': 'ReLU',\n",
        "}\n",
        "sweep_config = {\n",
        "    'method': 'random', #grid, random\n",
        "    'parameters': {\n",
        "        'learning_rate': {\n",
        "            'values': [1e-3, 3e-4, 3e-5, 1e-5]\n",
        "        },\n",
        "        'optimizer': {\n",
        "            'values': ['Adam', 'SGD', 'RMSprop']\n",
        "        },\n",
        "        'activation': {\n",
        "            'values': ['ReLU', 'Tanh', 'Softmax']\n",
        "        }\n",
        "    }\n",
        "}\n",
        "\n",
        "# Initialize wandb\n",
        "wandb.init(project='final_lab_8', config=config_defaults)\n",
        "config = wandb.config\n",
        "wandb.run.name = f\"{config.optimizer}-lr_{config.learning_rate}-act_{config.activation}\"\n",
        "criterion = nn.CrossEntropyLoss()"
      ]
    },
    {
      "cell_type": "code",
      "execution_count": null,
      "metadata": {
        "colab": {
          "base_uri": "https://localhost:8080/"
        },
        "id": "wpR5QmmrE34w",
        "outputId": "9d349526-4971-4e71-ac39-8633e6616f27"
      },
      "outputs": [
        {
          "output_type": "stream",
          "name": "stdout",
          "text": [
            "Create sweep with ID: rxkozgms\n",
            "Sweep URL: https://wandb.ai/mukul_dl/final_lab_8/sweeps/rxkozgms\n"
          ]
        }
      ],
      "source": [
        "sweep_id = wandb.sweep(sweep_config, project='final_lab_8')"
      ]
    },
    {
      "cell_type": "code",
      "source": [
        "def train(model, device, train_loader, optimizer, epoch, activation, reg_strength=0.001):\n",
        "    model.train()\n",
        "    train_loss = 0\n",
        "    train_correct_top1 = 0\n",
        "    train_correct_top5 = 0\n",
        "    num_batches = len(train_loader)\n",
        "    criterion = nn.CrossEntropyLoss()\n",
        "    with tqdm(total=num_batches, desc=f'Training Epoch {epoch}', unit='batch') as pbar:\n",
        "        for batch_idx, (data, target) in enumerate(train_loader):\n",
        "            data, target = data.to(device), target.to(device)\n",
        "            optimizer.zero_grad()\n",
        "            output = model(data)\n",
        "            loss = criterion(output, target)\n",
        "            # L2 regularization\n",
        "            reg_loss = sum(param.norm(2) ** 2 for param in model.parameters())\n",
        "            loss += reg_strength * reg_loss\n",
        "\n",
        "            loss.backward()\n",
        "            optimizer.step()\n",
        "            train_loss += loss.item()\n",
        "\n",
        "            # Calculate top-1 and top-5 accuracy\n",
        "            _, predicted = torch.topk(output, k=5, dim=1)\n",
        "            train_correct_top1 += torch.sum(predicted[:, 0] == target)\n",
        "            train_correct_top5 += torch.sum(predicted == target.unsqueeze(1))\n",
        "\n",
        "            # Update progress bar\n",
        "            pbar.set_postfix({'loss': train_loss / (batch_idx + 1)})\n",
        "            pbar.update()\n",
        "\n",
        "        # Log training metrics to WandB\n",
        "        wandb.log({\n",
        "            \"epoch\": epoch,\n",
        "            \"train_loss\": train_loss / len(train_loader),\n",
        "            \"train_acc_top1\": train_correct_top1 / len(train_loader.dataset)\n",
        "        })\n",
        "\n",
        "    train_loss /= len(train_loader.dataset)\n",
        "    train_acc_top1 = train_correct_top1.double() / len(train_loader.dataset)\n",
        "    train_acc_top5 = train_correct_top5.double() / len(train_loader.dataset)\n",
        "    return train_loss, train_acc_top1, train_acc_top5\n",
        "\n",
        "def test(model, device, test_loader, activation, reg_strength=0.001):\n",
        "    model.eval()\n",
        "    test_loss = 0\n",
        "    test_correct = 0\n",
        "    test_total = 0\n",
        "    test_correct_top5 = 0\n",
        "    num_batches = len(test_loader)\n",
        "    criterion = nn.CrossEntropyLoss()\n",
        "    with tqdm(total=num_batches, desc='Testing', unit='batch') as pbar:\n",
        "        with torch.no_grad():\n",
        "            for batch_idx, (data, target) in enumerate(test_loader):\n",
        "                data, target = data.to(device), target.to(device)\n",
        "                output = model(data)\n",
        "                loss = criterion(output, target)\n",
        "\n",
        "                test_loss += loss.item()\n",
        "                _, predicted = torch.max(output.data, 1)\n",
        "                test_total += target.size(0)\n",
        "                test_correct += (predicted == target).sum().item()\n",
        "\n",
        "                # Top-5 accuracy\n",
        "                _, top5_predicted = torch.topk(output.data, 5, dim=1)\n",
        "                for i in range(len(target)):\n",
        "                    if target[i] in top5_predicted[i]:\n",
        "                        test_correct_top5 += 1\n",
        "\n",
        "                # Update progress bar\n",
        "                pbar.set_postfix({'loss': test_loss / (batch_idx + 1)})\n",
        "                pbar.update()\n",
        "\n",
        "        # Log testing metrics to WandB\n",
        "        wandb.log({\n",
        "            \"test_loss\": test_loss / len(test_loader.dataset),\n",
        "            \"test_acc\": test_correct / test_total\n",
        "        })\n",
        "\n",
        "    test_loss /= len(test_loader.dataset)\n",
        "    test_acc = test_correct / test_total\n",
        "    test_acc_top5 = test_correct_top5 / test_total\n",
        "    return test_loss, test_acc, test_acc_top5"
      ],
      "metadata": {
        "id": "w42TvwbBRi-T"
      },
      "execution_count": null,
      "outputs": []
    },
    {
      "cell_type": "code",
      "execution_count": null,
      "metadata": {
        "id": "DwANBmnPE7Fw"
      },
      "outputs": [],
      "source": [
        "def train_and_test():\n",
        "    train_losses = []\n",
        "    test_losses = []\n",
        "    train_accuracies = []\n",
        "    test_accuracies = []\n",
        "    resnet18 = models.resnet18(pretrained=True)\n",
        "    num_ftrs = resnet18.fc.in_features\n",
        "    resnet18.fc = nn.Linear(num_ftrs, 5)\n",
        "    resnet18.to(device)\n",
        "\n",
        "    # Initialize wandb run\n",
        "    wandb.init(project='final_lab_8', config=config_defaults)\n",
        "    config = wandb.config\n",
        "    wandb.run.name = f\"{config.optimizer}-lr_{config.learning_rate}_{config.activation}\"\n",
        "    \n",
        "    # Define optimizer and activation function based on hyperparameters\n",
        "    if config.optimizer == 'Adam':\n",
        "        optimizer = optim.Adam(resnet18.parameters(), lr=config.learning_rate)\n",
        "    elif config.optimizer == 'SGD':\n",
        "        optimizer = optim.SGD(resnet18.parameters(), lr=config.learning_rate, momentum=0.9)\n",
        "    elif config.optimizer == 'RMSprop':\n",
        "        optimizer = optim.RMSprop(resnet18.parameters(), lr=config.learning_rate)\n",
        "        \n",
        "    if config.activation == 'ReLU':\n",
        "        activation = nn.ReLU()\n",
        "    elif config.activation == 'Tanh':\n",
        "        activation = nn.Tanh()\n",
        "    elif config.activation == 'Softmax':\n",
        "        activation = nn.Softmax(dim=1)\n",
        "    \n",
        "    # Define loss function\n",
        "    criterion = nn.CrossEntropyLoss()\n",
        "    test_losses = []\n",
        "    test_accuracies_top1 = []\n",
        "    test_accuracies_top5 = []\n",
        "    train_losses = []\n",
        "    train_accuracies_top1 = []\n",
        "    train_accuracies_top5 = []\n",
        "    # Train the model for 30 epochs\n",
        "    for epoch in range(30):\n",
        "      train_loss, train_acc_top1, train_acc_top5 = train(resnet18, device, train_loader, optimizer, epoch, activation)\n",
        "      test_loss, test_acc_top1, test_acc_top5 = test(resnet18, device, test_loader, activation)\n",
        "      train_losses.append(train_loss)\n",
        "      train_accuracies_top1.append(train_acc_top1)\n",
        "      train_accuracies_top5.append(train_acc_top5)\n",
        "      test_losses.append(test_loss)\n",
        "      test_accuracies_top1.append(test_acc_top1)\n",
        "      test_accuracies_top5.append(test_acc_top5)\n",
        "      print()\n",
        "      print(\"Epoch: \", epoch + 1, \"Train Loss: \", train_loss, \"Train Acc top 1: \", train_acc_top1.item(), \"Test Loss: \", test_loss, \"Test Acc top 1: \", test_acc_top1)\n",
        "      print(\"Train Acc top 5: \", train_acc_top5.item(), \"Test Acc top 5: \", test_acc_top5)\n",
        "      print()\n",
        "        \n"
      ]
    },
    {
      "cell_type": "code",
      "execution_count": null,
      "metadata": {
        "colab": {
          "base_uri": "https://localhost:8080/",
          "height": 1000,
          "referenced_widgets": [
            "b9c68704d7ac49589b09abf40e802c34",
            "bc6bd264779f4798aad2c4cbeff1bb9b",
            "6a351d80a19047f6be9ce3fdc872fa0a",
            "3a2751776a7a4993ac0a6f499406c31d",
            "7b3ef6dba6974fc98fb1da28a2882c9b",
            "b7f5caf6703c4708876abd31af1a3e91",
            "c17ed5e2e8814a838f8b59222f1731f6",
            "92fc358c99264aa8aab8ab10d9d26dba",
            "b0f708d0e3b24ea6b69b3b0522e0bfcf",
            "b155cc20b0f04d229ff6ca9ba1eb00b2",
            "25ed5430f8a1415aac7f638e4357db6f",
            "5506828040e64677bcfa2b522979d656",
            "930149883f1a499a92580a39ad89c305",
            "cbf9189d19754db6a068f6243adf470c",
            "3b3a16d6d4964bada9924fcb41af71ec",
            "ef069b55d8f6432e9b22708f14b73161",
            "519ec68207d64635960732b888e4cd76",
            "7b4f954cc5734bcebdf6e950b853038a",
            "451e92d4961d4635b7ead6401a1bc0b7",
            "cacf675ce6e74b3abd5db292c03de502",
            "b6f3107b137643a6aa0061e789c011dd",
            "9a01e4ae8a234ca59ae3565569a55edf",
            "1f2af43914b54a00ab88bd6fd5b63f4f",
            "c995aeeab5844983b7ea538fcf929cea",
            "d208b19540384e359f184524b6596f5b",
            "5d4e200b4b484c3a8d229f6cc0bbd385",
            "b5231f4a5e77433bbd3bd5bc0f322504",
            "3aeeb0e508fd48b9a5095f0377d2fbcb",
            "e5bf44c173534a898c0f4e9957f1c336",
            "9654a36f672842988784edce7c7080d1",
            "0de936b6752a45028dea98f9763c909c",
            "ddfecf9c65454c3ab63f3d9850c12c1d",
            "4cf834e02d9040edb0082b1a3a621c92",
            "ba40ee95c8144119a0c21e2293075f36",
            "00158aa7a74349d0b638d3030fa22e95",
            "4e2292d5bef44306a6373e05a2828799",
            "494b0278675f442bba779cdc3664ea8b",
            "ab8807a228d64982a95fec4f4cf9bda8",
            "28f90ef3b7b14a4cb53c7051f5d2b946",
            "29f5c6e76e294ba187486d17ab822dae",
            "52919264e99945d891c47d8422b45fb2",
            "bb0afa8f3a1c471fa4c7d31ef343f140",
            "94c178501a9c4f59afdd6ecdfe7fe03e",
            "8389c14a76bd4a67af53c96e34e2df1c",
            "bbcad3a35a4e433c9d62d73338d77fb8",
            "406d8bea68904bbdb4cec0c486f0077b",
            "75f232e7308f4dc3a57ecf22b89b825c",
            "511deaabc9f34758841ba9cf51921296",
            "9e0cbbbf71a549e1a4e21a8324d6ce9e",
            "09bf18ddf2b141168ba793a03d6d27d5",
            "f34b1806bf2d4cca8e12f060a0e06c46",
            "1955456547cc4fe796c376f0032c7988",
            "314bfbcb03874e32b1a19958f8e84494",
            "2fabda47d80945868298657e89ab4db8",
            "82d52cd001724e0185033c540ba209e0",
            "a7598e5ba1154c0b96bdd032b9341a2d",
            "44ef4b5be5e941da8e76cb3f513c60ec",
            "f6c071d5a0ab45a2b7d04ea9685e27fa",
            "874829e16fd144b1998d503a933d2a5b",
            "ae30223a1306444e98e5d269a8332bf9",
            "565233cc67974b808427d20880354ba0",
            "3f5afd90b73046da80b491885eb7fdd7",
            "df923aa5d7774924afd66b33f581b279",
            "d536a15f0dd6471aaff98c1d0d89399b",
            "47abf427dd194559927d029be835207c",
            "e17cb51c7236421b823f7732a7957df8",
            "7e67a6568e6d44a59d128cf440b2b409",
            "855cff6e452a4ce5bbe860306ac5b658",
            "90e7a5333409459a9a32935efb45d23e",
            "ea67f447ff12461bae627d9d1cdfa897",
            "064b91bbeecf4b6983942728bd41bb1b",
            "50b3d93a8bfe4af89d5f14bcb7295eaf",
            "48b055bcf8d64e0f9ddf42e860df5f95",
            "159c96a0da114560af7148fa91d4c327",
            "4c5fbed6d29046a68396f603a0c3082a",
            "a672bad0e7054181b51ec4a892dd07e1",
            "ae57ead32a6440ab9c76bbfd93cffc57",
            "0db5aa063a634cb9b2d15f37f92d3d1d",
            "630f62d1f72f423484372e6212214e6f",
            "aa10af1ffb76428a8234257dc7ebece8",
            "321d30d87a8344ad8576701f568b4d10",
            "b8e4e5d509c54cabb6892660fca95c66",
            "b0e7df4bb52549d8a1b1ba902eeae718",
            "160eadad34344a01ad6aedb7635f796e",
            "fdce1eee1cbd40e4a2e9cf2784cf95e7",
            "b20125f5c98045cb92d76e8f49d5eb70",
            "ae35530478ab43759b937c9f92fe2826",
            "8d273c8999614a66bbd229ec64d9030d",
            "d0a8a0edc2c44bd78bb9ccaaeadea65e"
          ]
        },
        "id": "m9SIbx6FE-CW",
        "outputId": "4b669442-4ba4-487c-edab-d1acc6a7cb5f"
      },
      "outputs": [
        {
          "metadata": {
            "tags": null
          },
          "name": "stderr",
          "output_type": "stream",
          "text": [
            "\u001b[34m\u001b[1mwandb\u001b[0m: \u001b[33mWARNING\u001b[0m Calling wandb.login() after wandb.init() has no effect.\n",
            "\u001b[34m\u001b[1mwandb\u001b[0m: Agent Starting Run: 8i2menpa with config:\n",
            "\u001b[34m\u001b[1mwandb\u001b[0m: \tactivation: Tanh\n",
            "\u001b[34m\u001b[1mwandb\u001b[0m: \tlearning_rate: 3e-05\n",
            "\u001b[34m\u001b[1mwandb\u001b[0m: \toptimizer: SGD\n",
            "\u001b[34m\u001b[1mwandb\u001b[0m: \u001b[33mWARNING\u001b[0m Ignored wandb.init() arg project when running a sweep.\n",
            "Exception in thread ChkStopThr:\n",
            "Traceback (most recent call last):\n",
            "  File \"/usr/lib/python3.9/threading.py\", line 980, in _bootstrap_inner\n",
            "Exception in thread NetStatThr:\n",
            "    self.run()Traceback (most recent call last):\n",
            "  File \"/usr/lib/python3.9/threading.py\", line 980, in _bootstrap_inner\n",
            "\n",
            "  File \"/usr/lib/python3.9/threading.py\", line 917, in run\n",
            "    self.run()\n",
            "  File \"/usr/lib/python3.9/threading.py\", line 917, in run\n",
            "    self._target(*self._args, **self._kwargs)\n",
            "  File \"/usr/local/lib/python3.9/dist-packages/wandb/sdk/wandb_run.py\", line 277, in check_stop_status\n",
            "    self._loop_check_status(\n",
            "  File \"/usr/local/lib/python3.9/dist-packages/wandb/sdk/wandb_run.py\", line 215, in _loop_check_status\n",
            "    local_handle = request()\n",
            "  File \"/usr/local/lib/python3.9/dist-packages/wandb/sdk/interface/interface.py\", line 787, in deliver_stop_status\n",
            "    self._target(*self._args, **self._kwargs)\n",
            "  File \"/usr/local/lib/python3.9/dist-packages/wandb/sdk/wandb_run.py\", line 259, in check_network_status\n",
            "    self._loop_check_status(\n",
            "  File \"/usr/local/lib/python3.9/dist-packages/wandb/sdk/wandb_run.py\", line 215, in _loop_check_status\n",
            "    return self._deliver_stop_status(status)\n",
            "      File \"/usr/local/lib/python3.9/dist-packages/wandb/sdk/interface/interface_shared.py\", line 585, in _deliver_stop_status\n",
            "local_handle = request()\n",
            "  File \"/usr/local/lib/python3.9/dist-packages/wandb/sdk/interface/interface.py\", line 795, in deliver_network_status\n",
            "    return self._deliver_record(record)\n",
            "  File \"/usr/local/lib/python3.9/dist-packages/wandb/sdk/interface/interface_shared.py\", line 560, in _deliver_record\n",
            "    return self._deliver_network_status(status)\n",
            "  File \"/usr/local/lib/python3.9/dist-packages/wandb/sdk/interface/interface_shared.py\", line 601, in _deliver_network_status\n",
            "        return self._deliver_record(record)\n",
            "  File \"/usr/local/lib/python3.9/dist-packages/wandb/sdk/interface/interface_shared.py\", line 560, in _deliver_record\n",
            "handle = mailbox._deliver_record(record, interface=self)    \n",
            "  File \"/usr/local/lib/python3.9/dist-packages/wandb/sdk/lib/mailbox.py\", line 455, in _deliver_record\n",
            "handle = mailbox._deliver_record(record, interface=self)\n",
            "  File \"/usr/local/lib/python3.9/dist-packages/wandb/sdk/lib/mailbox.py\", line 455, in _deliver_record\n",
            "    interface._publish(record)    interface._publish(record)\n",
            "  File \"/usr/local/lib/python3.9/dist-packages/wandb/sdk/interface/interface_sock.py\", line 51, in _publish\n",
            "\n",
            "  File \"/usr/local/lib/python3.9/dist-packages/wandb/sdk/interface/interface_sock.py\", line 51, in _publish\n",
            "    self._sock_client.send_record_publish(record)\n",
            "  File \"/usr/local/lib/python3.9/dist-packages/wandb/sdk/lib/sock_client.py\", line 221, in send_record_publish\n",
            "    self._sock_client.send_record_publish(record)    \n",
            "self.send_server_request(server_req)  File \"/usr/local/lib/python3.9/dist-packages/wandb/sdk/lib/sock_client.py\", line 221, in send_record_publish\n",
            "\n",
            "  File \"/usr/local/lib/python3.9/dist-packages/wandb/sdk/lib/sock_client.py\", line 155, in send_server_request\n",
            "        self._send_message(msg)\n",
            "  File \"/usr/local/lib/python3.9/dist-packages/wandb/sdk/lib/sock_client.py\", line 152, in _send_message\n",
            "self.send_server_request(server_req)\n",
            "      File \"/usr/local/lib/python3.9/dist-packages/wandb/sdk/lib/sock_client.py\", line 155, in send_server_request\n",
            "self._sendall_with_error_handle(header + data)\n",
            "  File \"/usr/local/lib/python3.9/dist-packages/wandb/sdk/lib/sock_client.py\", line 130, in _sendall_with_error_handle\n",
            "    sent = self._sock.send(data)\n",
            "    BrokenPipeError: self._send_message(msg)[Errno 32] Broken pipe\n",
            "\n",
            "  File \"/usr/local/lib/python3.9/dist-packages/wandb/sdk/lib/sock_client.py\", line 152, in _send_message\n",
            "    self._sendall_with_error_handle(header + data)\n",
            "  File \"/usr/local/lib/python3.9/dist-packages/wandb/sdk/lib/sock_client.py\", line 130, in _sendall_with_error_handle\n",
            "    sent = self._sock.send(data)\n",
            "BrokenPipeError: [Errno 32] Broken pipe\n"
          ]
        },
        {
          "data": {
            "text/html": [
              "Tracking run with wandb version 0.14.2"
            ],
            "text/plain": [
              "<IPython.core.display.HTML object>"
            ]
          },
          "metadata": {},
          "output_type": "display_data"
        },
        {
          "data": {
            "text/html": [
              "Run data is saved locally in <code>/content/wandb/run-20230417_131322-8i2menpa</code>"
            ],
            "text/plain": [
              "<IPython.core.display.HTML object>"
            ]
          },
          "metadata": {},
          "output_type": "display_data"
        },
        {
          "data": {
            "text/html": [
              "Syncing run <strong><a href='https://wandb.ai/mukul_dl/final_lab_8/runs/8i2menpa' target=\"_blank\">effortless-sweep-1</a></strong> to <a href='https://wandb.ai/mukul_dl/final_lab_8' target=\"_blank\">Weights & Biases</a> (<a href='https://wandb.me/run' target=\"_blank\">docs</a>)<br/>Sweep page: <a href='https://wandb.ai/mukul_dl/final_lab_8/sweeps/rxkozgms' target=\"_blank\">https://wandb.ai/mukul_dl/final_lab_8/sweeps/rxkozgms</a>"
            ],
            "text/plain": [
              "<IPython.core.display.HTML object>"
            ]
          },
          "metadata": {},
          "output_type": "display_data"
        },
        {
          "data": {
            "text/html": [
              " View project at <a href='https://wandb.ai/mukul_dl/final_lab_8' target=\"_blank\">https://wandb.ai/mukul_dl/final_lab_8</a>"
            ],
            "text/plain": [
              "<IPython.core.display.HTML object>"
            ]
          },
          "metadata": {},
          "output_type": "display_data"
        },
        {
          "data": {
            "text/html": [
              " View sweep at <a href='https://wandb.ai/mukul_dl/final_lab_8/sweeps/rxkozgms' target=\"_blank\">https://wandb.ai/mukul_dl/final_lab_8/sweeps/rxkozgms</a>"
            ],
            "text/plain": [
              "<IPython.core.display.HTML object>"
            ]
          },
          "metadata": {},
          "output_type": "display_data"
        },
        {
          "data": {
            "text/html": [
              " View run at <a href='https://wandb.ai/mukul_dl/final_lab_8/runs/8i2menpa' target=\"_blank\">https://wandb.ai/mukul_dl/final_lab_8/runs/8i2menpa</a>"
            ],
            "text/plain": [
              "<IPython.core.display.HTML object>"
            ]
          },
          "metadata": {},
          "output_type": "display_data"
        },
        {
          "metadata": {
            "tags": null
          },
          "name": "stderr",
          "output_type": "stream",
          "text": [
            "Training Epoch 0: 100%|██████████| 235/235 [00:32<00:00,  7.26batch/s, loss=8.26]\n",
            "Testing: 100%|██████████| 40/40 [00:02<00:00, 15.11batch/s, loss=0.574]\n"
          ]
        },
        {
          "metadata": {
            "tags": null
          },
          "name": "stdout",
          "output_type": "stream",
          "text": [
            "\n",
            "Epoch:  1 Train Loss:  0.0647190212726593 Train Acc top 1:  0.6438666666666667 Test Loss:  0.0045924136936664585 Test Acc top 1:  0.8508\n",
            "Train Acc top 5:  1.0 Test Acc top 5:  1.0\n",
            "\n"
          ]
        },
        {
          "metadata": {
            "tags": null
          },
          "name": "stderr",
          "output_type": "stream",
          "text": [
            "Training Epoch 1: 100%|██████████| 235/235 [00:22<00:00, 10.52batch/s, loss=7.7]\n",
            "Testing: 100%|██████████| 40/40 [00:02<00:00, 15.37batch/s, loss=0.355]\n"
          ]
        },
        {
          "metadata": {
            "tags": null
          },
          "name": "stdout",
          "output_type": "stream",
          "text": [
            "\n",
            "Epoch:  2 Train Loss:  0.06029686385790507 Train Acc top 1:  0.8771666666666668 Test Loss:  0.00283750079870224 Test Acc top 1:  0.8994\n",
            "Train Acc top 5:  1.0 Test Acc top 5:  1.0\n",
            "\n"
          ]
        },
        {
          "metadata": {
            "tags": null
          },
          "name": "stderr",
          "output_type": "stream",
          "text": [
            "Training Epoch 2: 100%|██████████| 235/235 [00:21<00:00, 10.73batch/s, loss=7.56]\n",
            "Testing: 100%|██████████| 40/40 [00:02<00:00, 14.25batch/s, loss=0.276]\n"
          ]
        },
        {
          "metadata": {
            "tags": null
          },
          "name": "stdout",
          "output_type": "stream",
          "text": [
            "\n",
            "Epoch:  3 Train Loss:  0.059215701897939045 Train Acc top 1:  0.9091333333333333 Test Loss:  0.0022042532324790956 Test Acc top 1:  0.92\n",
            "Train Acc top 5:  1.0 Test Acc top 5:  1.0\n",
            "\n"
          ]
        },
        {
          "metadata": {
            "tags": null
          },
          "name": "stderr",
          "output_type": "stream",
          "text": [
            "Training Epoch 3: 100%|██████████| 235/235 [00:21<00:00, 10.95batch/s, loss=7.5]\n",
            "Testing: 100%|██████████| 40/40 [00:03<00:00, 11.95batch/s, loss=0.239]\n"
          ]
        },
        {
          "metadata": {
            "tags": null
          },
          "name": "stdout",
          "output_type": "stream",
          "text": [
            "\n",
            "Epoch:  4 Train Loss:  0.0587253693262736 Train Acc top 1:  0.9235666666666668 Test Loss:  0.0019128099650144578 Test Acc top 1:  0.9308\n",
            "Train Acc top 5:  1.0 Test Acc top 5:  1.0\n",
            "\n"
          ]
        },
        {
          "metadata": {
            "tags": null
          },
          "name": "stderr",
          "output_type": "stream",
          "text": [
            "Training Epoch 4: 100%|██████████| 235/235 [00:21<00:00, 11.07batch/s, loss=7.46]\n",
            "Testing: 100%|██████████| 40/40 [00:03<00:00, 13.17batch/s, loss=0.199]\n"
          ]
        },
        {
          "metadata": {
            "tags": null
          },
          "name": "stdout",
          "output_type": "stream",
          "text": [
            "\n",
            "Epoch:  5 Train Loss:  0.05844203821818034 Train Acc top 1:  0.9324666666666667 Test Loss:  0.0015886103428900242 Test Acc top 1:  0.9388\n",
            "Train Acc top 5:  1.0 Test Acc top 5:  1.0\n",
            "\n"
          ]
        },
        {
          "metadata": {
            "tags": null
          },
          "name": "stderr",
          "output_type": "stream",
          "text": [
            "Training Epoch 5: 100%|██████████| 235/235 [00:21<00:00, 10.89batch/s, loss=7.43]\n",
            "Testing: 100%|██████████| 40/40 [00:02<00:00, 15.40batch/s, loss=0.18]\n"
          ]
        },
        {
          "metadata": {
            "tags": null
          },
          "name": "stdout",
          "output_type": "stream",
          "text": [
            "\n",
            "Epoch:  6 Train Loss:  0.05822644302050273 Train Acc top 1:  0.9388333333333334 Test Loss:  0.0014372734218835832 Test Acc top 1:  0.944\n",
            "Train Acc top 5:  1.0 Test Acc top 5:  1.0\n",
            "\n"
          ]
        },
        {
          "metadata": {
            "tags": null
          },
          "name": "stderr",
          "output_type": "stream",
          "text": [
            "Training Epoch 6: 100%|██████████| 235/235 [00:21<00:00, 10.71batch/s, loss=7.41]\n",
            "Testing: 100%|██████████| 40/40 [00:02<00:00, 15.27batch/s, loss=0.166]\n"
          ]
        },
        {
          "metadata": {
            "tags": null
          },
          "name": "stdout",
          "output_type": "stream",
          "text": [
            "\n",
            "Epoch:  7 Train Loss:  0.058063033692042035 Train Acc top 1:  0.9436333333333333 Test Loss:  0.0013288747295737266 Test Acc top 1:  0.946\n",
            "Train Acc top 5:  1.0 Test Acc top 5:  1.0\n",
            "\n"
          ]
        },
        {
          "metadata": {
            "tags": null
          },
          "name": "stderr",
          "output_type": "stream",
          "text": [
            "Training Epoch 7: 100%|██████████| 235/235 [00:22<00:00, 10.42batch/s, loss=7.4]\n",
            "Testing: 100%|██████████| 40/40 [00:02<00:00, 15.15batch/s, loss=0.169]\n"
          ]
        },
        {
          "metadata": {
            "tags": null
          },
          "name": "stdout",
          "output_type": "stream",
          "text": [
            "\n",
            "Epoch:  8 Train Loss:  0.05795611411730448 Train Acc top 1:  0.9464333333333333 Test Loss:  0.0013522512599825859 Test Acc top 1:  0.9492\n",
            "Train Acc top 5:  1.0 Test Acc top 5:  1.0\n",
            "\n"
          ]
        },
        {
          "metadata": {
            "tags": null
          },
          "name": "stderr",
          "output_type": "stream",
          "text": [
            "Training Epoch 8: 100%|██████████| 235/235 [00:22<00:00, 10.61batch/s, loss=7.38]\n",
            "Testing: 100%|██████████| 40/40 [00:02<00:00, 15.17batch/s, loss=0.148]\n"
          ]
        },
        {
          "metadata": {
            "tags": null
          },
          "name": "stdout",
          "output_type": "stream",
          "text": [
            "\n",
            "Epoch:  9 Train Loss:  0.05783029177983602 Train Acc top 1:  0.9516666666666667 Test Loss:  0.0011811572670936583 Test Acc top 1:  0.952\n",
            "Train Acc top 5:  1.0 Test Acc top 5:  1.0\n",
            "\n"
          ]
        },
        {
          "metadata": {
            "tags": null
          },
          "name": "stderr",
          "output_type": "stream",
          "text": [
            "Training Epoch 9: 100%|██████████| 235/235 [00:22<00:00, 10.54batch/s, loss=7.37]\n",
            "Testing: 100%|██████████| 40/40 [00:02<00:00, 15.45batch/s, loss=0.16]\n"
          ]
        },
        {
          "metadata": {
            "tags": null
          },
          "name": "stdout",
          "output_type": "stream",
          "text": [
            "\n",
            "Epoch:  10 Train Loss:  0.057756942542394 Train Acc top 1:  0.9536666666666667 Test Loss:  0.0012794460400938987 Test Acc top 1:  0.9538\n",
            "Train Acc top 5:  1.0 Test Acc top 5:  1.0\n",
            "\n"
          ]
        },
        {
          "metadata": {
            "tags": null
          },
          "name": "stderr",
          "output_type": "stream",
          "text": [
            "Training Epoch 10: 100%|██████████| 235/235 [00:21<00:00, 10.77batch/s, loss=7.36]\n",
            "Testing: 100%|██████████| 40/40 [00:03<00:00, 12.82batch/s, loss=0.136]\n"
          ]
        },
        {
          "metadata": {
            "tags": null
          },
          "name": "stdout",
          "output_type": "stream",
          "text": [
            "\n",
            "Epoch:  11 Train Loss:  0.05766986215909322 Train Acc top 1:  0.9573333333333334 Test Loss:  0.0010901710767298937 Test Acc top 1:  0.955\n",
            "Train Acc top 5:  1.0 Test Acc top 5:  1.0\n",
            "\n"
          ]
        },
        {
          "metadata": {
            "tags": null
          },
          "name": "stderr",
          "output_type": "stream",
          "text": [
            "Training Epoch 11: 100%|██████████| 235/235 [00:21<00:00, 10.94batch/s, loss=7.35]\n",
            "Testing: 100%|██████████| 40/40 [00:03<00:00, 11.26batch/s, loss=0.132]\n"
          ]
        },
        {
          "metadata": {
            "tags": null
          },
          "name": "stdout",
          "output_type": "stream",
          "text": [
            "\n",
            "Epoch:  12 Train Loss:  0.057605503336588544 Train Acc top 1:  0.9583333333333334 Test Loss:  0.0010567885955329985 Test Acc top 1:  0.9572\n",
            "Train Acc top 5:  1.0 Test Acc top 5:  1.0\n",
            "\n"
          ]
        },
        {
          "metadata": {
            "tags": null
          },
          "name": "stderr",
          "output_type": "stream",
          "text": [
            "Training Epoch 12: 100%|██████████| 235/235 [00:21<00:00, 10.96batch/s, loss=7.35]\n",
            "Testing: 100%|██████████| 40/40 [00:02<00:00, 14.14batch/s, loss=0.128]\n"
          ]
        },
        {
          "metadata": {
            "tags": null
          },
          "name": "stdout",
          "output_type": "stream",
          "text": [
            "\n",
            "Epoch:  13 Train Loss:  0.0575534588654836 Train Acc top 1:  0.9580666666666667 Test Loss:  0.0010272591069340705 Test Acc top 1:  0.9588\n",
            "Train Acc top 5:  1.0 Test Acc top 5:  1.0\n",
            "\n"
          ]
        },
        {
          "metadata": {
            "tags": null
          },
          "name": "stderr",
          "output_type": "stream",
          "text": [
            "Training Epoch 13: 100%|██████████| 235/235 [00:21<00:00, 10.84batch/s, loss=7.34]\n",
            "Testing: 100%|██████████| 40/40 [00:02<00:00, 15.56batch/s, loss=0.125]\n"
          ]
        },
        {
          "metadata": {
            "tags": null
          },
          "name": "stdout",
          "output_type": "stream",
          "text": [
            "\n",
            "Epoch:  14 Train Loss:  0.057493681208292645 Train Acc top 1:  0.9617 Test Loss:  0.000998358178138733 Test Acc top 1:  0.958\n",
            "Train Acc top 5:  1.0 Test Acc top 5:  1.0\n",
            "\n"
          ]
        },
        {
          "metadata": {
            "tags": null
          },
          "name": "stderr",
          "output_type": "stream",
          "text": [
            "Training Epoch 14: 100%|██████████| 235/235 [00:22<00:00, 10.47batch/s, loss=7.33]\n",
            "Testing: 100%|██████████| 40/40 [00:02<00:00, 15.23batch/s, loss=0.12]\n"
          ]
        },
        {
          "metadata": {
            "tags": null
          },
          "name": "stdout",
          "output_type": "stream",
          "text": [
            "\n",
            "Epoch:  15 Train Loss:  0.057423638725280765 Train Acc top 1:  0.9636666666666667 Test Loss:  0.0009568973183631897 Test Acc top 1:  0.9598\n",
            "Train Acc top 5:  1.0 Test Acc top 5:  1.0\n",
            "\n"
          ]
        },
        {
          "metadata": {
            "tags": null
          },
          "name": "stderr",
          "output_type": "stream",
          "text": [
            "Training Epoch 15: 100%|██████████| 235/235 [00:22<00:00, 10.45batch/s, loss=7.33]\n",
            "Testing: 100%|██████████| 40/40 [00:02<00:00, 15.46batch/s, loss=0.123]\n"
          ]
        },
        {
          "metadata": {
            "tags": null
          },
          "name": "stdout",
          "output_type": "stream",
          "text": [
            "\n",
            "Epoch:  16 Train Loss:  0.05738401772181193 Train Acc top 1:  0.9638666666666668 Test Loss:  0.0009814488656818866 Test Acc top 1:  0.9618\n",
            "Train Acc top 5:  1.0 Test Acc top 5:  1.0\n",
            "\n"
          ]
        },
        {
          "metadata": {
            "tags": null
          },
          "name": "stderr",
          "output_type": "stream",
          "text": [
            "Training Epoch 16: 100%|██████████| 235/235 [00:22<00:00, 10.68batch/s, loss=7.32]\n",
            "Testing: 100%|██████████| 40/40 [00:02<00:00, 15.31batch/s, loss=0.116]\n"
          ]
        },
        {
          "metadata": {
            "tags": null
          },
          "name": "stdout",
          "output_type": "stream",
          "text": [
            "\n",
            "Epoch:  17 Train Loss:  0.05733126482963562 Train Acc top 1:  0.9657666666666667 Test Loss:  0.0009253786504268646 Test Acc top 1:  0.9612\n",
            "Train Acc top 5:  1.0 Test Acc top 5:  1.0\n",
            "\n"
          ]
        },
        {
          "metadata": {
            "tags": null
          },
          "name": "stderr",
          "output_type": "stream",
          "text": [
            "Training Epoch 17: 100%|██████████| 235/235 [00:22<00:00, 10.47batch/s, loss=7.32]\n",
            "Testing: 100%|██████████| 40/40 [00:02<00:00, 14.95batch/s, loss=0.121]\n"
          ]
        },
        {
          "metadata": {
            "tags": null
          },
          "name": "stdout",
          "output_type": "stream",
          "text": [
            "\n",
            "Epoch:  18 Train Loss:  0.057322815338770546 Train Acc top 1:  0.9658 Test Loss:  0.0009654114618897438 Test Acc top 1:  0.9636\n",
            "Train Acc top 5:  1.0 Test Acc top 5:  1.0\n",
            "\n"
          ]
        },
        {
          "metadata": {
            "tags": null
          },
          "name": "stderr",
          "output_type": "stream",
          "text": [
            "Training Epoch 18: 100%|██████████| 235/235 [00:21<00:00, 10.91batch/s, loss=7.31]\n",
            "Testing: 100%|██████████| 40/40 [00:03<00:00, 12.43batch/s, loss=0.108]\n"
          ]
        },
        {
          "metadata": {
            "tags": null
          },
          "name": "stdout",
          "output_type": "stream",
          "text": [
            "\n",
            "Epoch:  19 Train Loss:  0.05726969710985819 Train Acc top 1:  0.9678666666666668 Test Loss:  0.0008678651576861739 Test Acc top 1:  0.9634\n",
            "Train Acc top 5:  1.0 Test Acc top 5:  1.0\n",
            "\n"
          ]
        },
        {
          "metadata": {
            "tags": null
          },
          "name": "stderr",
          "output_type": "stream",
          "text": [
            "Training Epoch 19: 100%|██████████| 235/235 [00:21<00:00, 11.02batch/s, loss=7.3]\n",
            "Testing: 100%|██████████| 40/40 [00:03<00:00, 12.66batch/s, loss=0.107]\n"
          ]
        },
        {
          "metadata": {
            "tags": null
          },
          "name": "stdout",
          "output_type": "stream",
          "text": [
            "\n",
            "Epoch:  20 Train Loss:  0.05721699986457825 Train Acc top 1:  0.9694666666666667 Test Loss:  0.0008597822232171893 Test Acc top 1:  0.9644\n",
            "Train Acc top 5:  1.0 Test Acc top 5:  1.0\n",
            "\n"
          ]
        },
        {
          "metadata": {
            "tags": null
          },
          "name": "stderr",
          "output_type": "stream",
          "text": [
            "Training Epoch 20: 100%|██████████| 235/235 [00:21<00:00, 10.95batch/s, loss=7.3]\n",
            "Testing: 100%|██████████| 40/40 [00:02<00:00, 15.07batch/s, loss=0.126]\n"
          ]
        },
        {
          "metadata": {
            "tags": null
          },
          "name": "stdout",
          "output_type": "stream",
          "text": [
            "\n",
            "Epoch:  21 Train Loss:  0.057179409710566204 Train Acc top 1:  0.9702666666666667 Test Loss:  0.0010090729564428329 Test Acc top 1:  0.9656\n",
            "Train Acc top 5:  1.0 Test Acc top 5:  1.0\n",
            "\n"
          ]
        },
        {
          "metadata": {
            "tags": null
          },
          "name": "stderr",
          "output_type": "stream",
          "text": [
            "Training Epoch 21: 100%|██████████| 235/235 [00:22<00:00, 10.49batch/s, loss=7.29]\n",
            "Testing: 100%|██████████| 40/40 [00:02<00:00, 15.52batch/s, loss=0.11]\n"
          ]
        },
        {
          "metadata": {
            "tags": null
          },
          "name": "stdout",
          "output_type": "stream",
          "text": [
            "\n",
            "Epoch:  22 Train Loss:  0.05713645245234172 Train Acc top 1:  0.9701333333333334 Test Loss:  0.0008819545269012451 Test Acc top 1:  0.9652\n",
            "Train Acc top 5:  1.0 Test Acc top 5:  1.0\n",
            "\n"
          ]
        },
        {
          "metadata": {
            "tags": null
          },
          "name": "stderr",
          "output_type": "stream",
          "text": [
            "Training Epoch 22: 100%|██████████| 235/235 [00:22<00:00, 10.67batch/s, loss=7.29]\n",
            "Testing: 100%|██████████| 40/40 [00:02<00:00, 15.70batch/s, loss=0.107]\n"
          ]
        },
        {
          "metadata": {
            "tags": null
          },
          "name": "stdout",
          "output_type": "stream",
          "text": [
            "\n",
            "Epoch:  23 Train Loss:  0.05712788758277893 Train Acc top 1:  0.9696333333333333 Test Loss:  0.0008599444057792425 Test Acc top 1:  0.9638\n",
            "Train Acc top 5:  1.0 Test Acc top 5:  1.0\n",
            "\n"
          ]
        },
        {
          "metadata": {
            "tags": null
          },
          "name": "stderr",
          "output_type": "stream",
          "text": [
            "Training Epoch 23: 100%|██████████| 235/235 [00:22<00:00, 10.30batch/s, loss=7.29]\n",
            "Testing: 100%|██████████| 40/40 [00:02<00:00, 15.12batch/s, loss=0.117]\n"
          ]
        },
        {
          "metadata": {
            "tags": null
          },
          "name": "stdout",
          "output_type": "stream",
          "text": [
            "\n",
            "Epoch:  24 Train Loss:  0.05708957719802856 Train Acc top 1:  0.9708 Test Loss:  0.0009343914460390806 Test Acc top 1:  0.9654\n",
            "Train Acc top 5:  1.0 Test Acc top 5:  1.0\n",
            "\n"
          ]
        },
        {
          "metadata": {
            "tags": null
          },
          "name": "stderr",
          "output_type": "stream",
          "text": [
            "Training Epoch 24: 100%|██████████| 235/235 [00:22<00:00, 10.59batch/s, loss=7.28]\n",
            "Testing: 100%|██████████| 40/40 [00:02<00:00, 15.51batch/s, loss=0.101]\n"
          ]
        },
        {
          "metadata": {
            "tags": null
          },
          "name": "stdout",
          "output_type": "stream",
          "text": [
            "\n",
            "Epoch:  25 Train Loss:  0.05704279179573059 Train Acc top 1:  0.9728 Test Loss:  0.0008090483523905277 Test Acc top 1:  0.9662\n",
            "Train Acc top 5:  1.0 Test Acc top 5:  1.0\n",
            "\n"
          ]
        },
        {
          "metadata": {
            "tags": null
          },
          "name": "stderr",
          "output_type": "stream",
          "text": [
            "Training Epoch 25: 100%|██████████| 235/235 [00:21<00:00, 11.09batch/s, loss=7.28]\n",
            "Testing: 100%|██████████| 40/40 [00:03<00:00, 13.10batch/s, loss=0.102]\n"
          ]
        },
        {
          "metadata": {
            "tags": null
          },
          "name": "stdout",
          "output_type": "stream",
          "text": [
            "\n",
            "Epoch:  26 Train Loss:  0.05699829478263855 Train Acc top 1:  0.9741000000000001 Test Loss:  0.0008174199976027012 Test Acc top 1:  0.9676\n",
            "Train Acc top 5:  1.0 Test Acc top 5:  1.0\n",
            "\n"
          ]
        },
        {
          "metadata": {
            "tags": null
          },
          "name": "stderr",
          "output_type": "stream",
          "text": [
            "Training Epoch 26: 100%|██████████| 235/235 [00:20<00:00, 11.30batch/s, loss=7.28]\n",
            "Testing: 100%|██████████| 40/40 [00:03<00:00, 12.45batch/s, loss=0.111]\n"
          ]
        },
        {
          "metadata": {
            "tags": null
          },
          "name": "stdout",
          "output_type": "stream",
          "text": [
            "\n",
            "Epoch:  27 Train Loss:  0.056989667987823484 Train Acc top 1:  0.9741000000000001 Test Loss:  0.0008886826559901238 Test Acc top 1:  0.9666\n",
            "Train Acc top 5:  1.0 Test Acc top 5:  1.0\n",
            "\n"
          ]
        },
        {
          "metadata": {
            "tags": null
          },
          "name": "stderr",
          "output_type": "stream",
          "text": [
            "Training Epoch 27: 100%|██████████| 235/235 [00:21<00:00, 10.96batch/s, loss=7.27]\n",
            "Testing: 100%|██████████| 40/40 [00:02<00:00, 14.60batch/s, loss=0.0992]\n"
          ]
        },
        {
          "metadata": {
            "tags": null
          },
          "name": "stdout",
          "output_type": "stream",
          "text": [
            "\n",
            "Epoch:  28 Train Loss:  0.056944850254058835 Train Acc top 1:  0.9746666666666667 Test Loss:  0.0007936552960425615 Test Acc top 1:  0.9668\n",
            "Train Acc top 5:  1.0 Test Acc top 5:  1.0\n",
            "\n"
          ]
        },
        {
          "metadata": {
            "tags": null
          },
          "name": "stderr",
          "output_type": "stream",
          "text": [
            "Training Epoch 28: 100%|██████████| 235/235 [00:21<00:00, 10.73batch/s, loss=7.27]\n",
            "Testing: 100%|██████████| 40/40 [00:02<00:00, 15.35batch/s, loss=0.102]\n"
          ]
        },
        {
          "metadata": {
            "tags": null
          },
          "name": "stdout",
          "output_type": "stream",
          "text": [
            "\n",
            "Epoch:  29 Train Loss:  0.05693341391881307 Train Acc top 1:  0.9739000000000001 Test Loss:  0.0008147377021610737 Test Acc top 1:  0.9656\n",
            "Train Acc top 5:  1.0 Test Acc top 5:  1.0\n",
            "\n"
          ]
        },
        {
          "metadata": {
            "tags": null
          },
          "name": "stderr",
          "output_type": "stream",
          "text": [
            "Training Epoch 29: 100%|██████████| 235/235 [00:23<00:00, 10.11batch/s, loss=7.26]\n",
            "Testing: 100%|██████████| 40/40 [00:02<00:00, 14.59batch/s, loss=0.0976]"
          ]
        },
        {
          "metadata": {
            "tags": null
          },
          "name": "stdout",
          "output_type": "stream",
          "text": [
            "\n",
            "Epoch:  30 Train Loss:  0.05688997298876444 Train Acc top 1:  0.9756333333333334 Test Loss:  0.0007807654752163217 Test Acc top 1:  0.967\n",
            "Train Acc top 5:  1.0 Test Acc top 5:  1.0\n",
            "\n"
          ]
        },
        {
          "metadata": {
            "tags": null
          },
          "name": "stderr",
          "output_type": "stream",
          "text": [
            "\n"
          ]
        },
        {
          "data": {
            "text/html": [
              "Waiting for W&B process to finish... <strong style=\"color:green\">(success).</strong>"
            ],
            "text/plain": [
              "<IPython.core.display.HTML object>"
            ]
          },
          "metadata": {},
          "output_type": "display_data"
        },
        {
          "data": {
            "application/vnd.jupyter.widget-view+json": {
              "model_id": "b9c68704d7ac49589b09abf40e802c34",
              "version_major": 2,
              "version_minor": 0
            },
            "text/plain": [
              "VBox(children=(Label(value='0.001 MB of 0.021 MB uploaded (0.000 MB deduped)\\r'), FloatProgress(value=0.052952…"
            ]
          },
          "metadata": {},
          "output_type": "display_data"
        },
        {
          "data": {
            "text/html": [
              "<style>\n",
              "    table.wandb td:nth-child(1) { padding: 0 10px; text-align: left ; width: auto;} td:nth-child(2) {text-align: left ; width: 100%}\n",
              "    .wandb-row { display: flex; flex-direction: row; flex-wrap: wrap; justify-content: flex-start; width: 100% }\n",
              "    .wandb-col { display: flex; flex-direction: column; flex-basis: 100%; flex: 1; padding: 10px; }\n",
              "    </style>\n",
              "<div class=\"wandb-row\"><div class=\"wandb-col\"><h3>Run history:</h3><br/><table class=\"wandb\"><tr><td>epoch</td><td>▁▁▁▂▂▂▂▃▃▃▃▄▄▄▄▅▅▅▅▆▆▆▆▇▇▇▇███</td></tr><tr><td>test_acc</td><td>▁▄▅▆▆▇▇▇▇▇▇▇▇▇████████████████</td></tr><tr><td>test_loss</td><td>█▅▄▃▂▂▂▂▂▂▂▂▁▁▁▁▁▁▁▁▁▁▁▁▁▁▁▁▁▁</td></tr><tr><td>train_acc_top1</td><td>▁▆▇▇▇▇▇▇▇█████████████████████</td></tr><tr><td>train_loss</td><td>█▄▃▃▂▂▂▂▂▂▂▂▂▂▁▁▁▁▁▁▁▁▁▁▁▁▁▁▁▁</td></tr></table><br/></div><div class=\"wandb-col\"><h3>Run summary:</h3><br/><table class=\"wandb\"><tr><td>epoch</td><td>29</td></tr><tr><td>test_acc</td><td>0.967</td></tr><tr><td>test_loss</td><td>0.00078</td></tr><tr><td>train_acc_top1</td><td>0.97563</td></tr><tr><td>train_loss</td><td>7.26255</td></tr></table><br/></div></div>"
            ],
            "text/plain": [
              "<IPython.core.display.HTML object>"
            ]
          },
          "metadata": {},
          "output_type": "display_data"
        },
        {
          "data": {
            "text/html": [
              " View run <strong style=\"color:#cdcd00\">effortless-sweep-1</strong> at: <a href='https://wandb.ai/mukul_dl/final_lab_8/runs/8i2menpa' target=\"_blank\">https://wandb.ai/mukul_dl/final_lab_8/runs/8i2menpa</a><br/>Synced 5 W&B file(s), 0 media file(s), 0 artifact file(s) and 0 other file(s)"
            ],
            "text/plain": [
              "<IPython.core.display.HTML object>"
            ]
          },
          "metadata": {},
          "output_type": "display_data"
        },
        {
          "data": {
            "text/html": [
              "Find logs at: <code>./wandb/run-20230417_131322-8i2menpa/logs</code>"
            ],
            "text/plain": [
              "<IPython.core.display.HTML object>"
            ]
          },
          "metadata": {},
          "output_type": "display_data"
        },
        {
          "metadata": {
            "tags": null
          },
          "name": "stderr",
          "output_type": "stream",
          "text": [
            "\u001b[34m\u001b[1mwandb\u001b[0m: Sweep Agent: Waiting for job.\n",
            "\u001b[34m\u001b[1mwandb\u001b[0m: Job received.\n",
            "\u001b[34m\u001b[1mwandb\u001b[0m: Agent Starting Run: t3nqhyor with config:\n",
            "\u001b[34m\u001b[1mwandb\u001b[0m: \tactivation: ReLU\n",
            "\u001b[34m\u001b[1mwandb\u001b[0m: \tlearning_rate: 0.0003\n",
            "\u001b[34m\u001b[1mwandb\u001b[0m: \toptimizer: SGD\n",
            "\u001b[34m\u001b[1mwandb\u001b[0m: Currently logged in as: \u001b[33mshingwani-1\u001b[0m (\u001b[33mmukul_dl\u001b[0m). Use \u001b[1m`wandb login --relogin`\u001b[0m to force relogin\n",
            "\u001b[34m\u001b[1mwandb\u001b[0m: \u001b[33mWARNING\u001b[0m Ignored wandb.init() arg project when running a sweep.\n"
          ]
        },
        {
          "data": {
            "text/html": [
              "Tracking run with wandb version 0.14.2"
            ],
            "text/plain": [
              "<IPython.core.display.HTML object>"
            ]
          },
          "metadata": {},
          "output_type": "display_data"
        },
        {
          "data": {
            "text/html": [
              "Run data is saved locally in <code>/content/wandb/run-20230417_132616-t3nqhyor</code>"
            ],
            "text/plain": [
              "<IPython.core.display.HTML object>"
            ]
          },
          "metadata": {},
          "output_type": "display_data"
        },
        {
          "data": {
            "text/html": [
              "Syncing run <strong><a href='https://wandb.ai/mukul_dl/final_lab_8/runs/t3nqhyor' target=\"_blank\">trim-sweep-2</a></strong> to <a href='https://wandb.ai/mukul_dl/final_lab_8' target=\"_blank\">Weights & Biases</a> (<a href='https://wandb.me/run' target=\"_blank\">docs</a>)<br/>Sweep page: <a href='https://wandb.ai/mukul_dl/final_lab_8/sweeps/rxkozgms' target=\"_blank\">https://wandb.ai/mukul_dl/final_lab_8/sweeps/rxkozgms</a>"
            ],
            "text/plain": [
              "<IPython.core.display.HTML object>"
            ]
          },
          "metadata": {},
          "output_type": "display_data"
        },
        {
          "data": {
            "text/html": [
              " View project at <a href='https://wandb.ai/mukul_dl/final_lab_8' target=\"_blank\">https://wandb.ai/mukul_dl/final_lab_8</a>"
            ],
            "text/plain": [
              "<IPython.core.display.HTML object>"
            ]
          },
          "metadata": {},
          "output_type": "display_data"
        },
        {
          "data": {
            "text/html": [
              " View sweep at <a href='https://wandb.ai/mukul_dl/final_lab_8/sweeps/rxkozgms' target=\"_blank\">https://wandb.ai/mukul_dl/final_lab_8/sweeps/rxkozgms</a>"
            ],
            "text/plain": [
              "<IPython.core.display.HTML object>"
            ]
          },
          "metadata": {},
          "output_type": "display_data"
        },
        {
          "data": {
            "text/html": [
              " View run at <a href='https://wandb.ai/mukul_dl/final_lab_8/runs/t3nqhyor' target=\"_blank\">https://wandb.ai/mukul_dl/final_lab_8/runs/t3nqhyor</a>"
            ],
            "text/plain": [
              "<IPython.core.display.HTML object>"
            ]
          },
          "metadata": {},
          "output_type": "display_data"
        },
        {
          "metadata": {
            "tags": null
          },
          "name": "stderr",
          "output_type": "stream",
          "text": [
            "Training Epoch 0: 100%|██████████| 235/235 [00:23<00:00,  9.79batch/s, loss=7.25]\n",
            "Testing: 100%|██████████| 40/40 [00:02<00:00, 14.71batch/s, loss=0.0924]\n"
          ]
        },
        {
          "metadata": {
            "tags": null
          },
          "name": "stdout",
          "output_type": "stream",
          "text": [
            "\n",
            "Epoch:  1 Train Loss:  0.05682548829714457 Train Acc top 1:  0.9750000000000001 Test Loss:  0.0007394610442221165 Test Acc top 1:  0.9676\n",
            "Train Acc top 5:  1.0 Test Acc top 5:  1.0\n",
            "\n"
          ]
        },
        {
          "metadata": {
            "tags": null
          },
          "name": "stderr",
          "output_type": "stream",
          "text": [
            "Training Epoch 1: 100%|██████████| 235/235 [00:23<00:00, 10.07batch/s, loss=7.23]\n",
            "Testing: 100%|██████████| 40/40 [00:02<00:00, 13.84batch/s, loss=0.0865]\n"
          ]
        },
        {
          "metadata": {
            "tags": null
          },
          "name": "stdout",
          "output_type": "stream",
          "text": [
            "\n",
            "Epoch:  2 Train Loss:  0.05659834712346395 Train Acc top 1:  0.9770333333333334 Test Loss:  0.0006917913068085909 Test Acc top 1:  0.97\n",
            "Train Acc top 5:  1.0 Test Acc top 5:  1.0\n",
            "\n"
          ]
        },
        {
          "metadata": {
            "tags": null
          },
          "name": "stderr",
          "output_type": "stream",
          "text": [
            "Training Epoch 2: 100%|██████████| 235/235 [00:23<00:00,  9.88batch/s, loss=7.19]\n",
            "Testing: 100%|██████████| 40/40 [00:02<00:00, 14.28batch/s, loss=0.102]\n"
          ]
        },
        {
          "metadata": {
            "tags": null
          },
          "name": "stdout",
          "output_type": "stream",
          "text": [
            "\n",
            "Epoch:  3 Train Loss:  0.05633693426450093 Train Acc top 1:  0.9821000000000001 Test Loss:  0.0008172300651669502 Test Acc top 1:  0.9718\n",
            "Train Acc top 5:  1.0 Test Acc top 5:  1.0\n",
            "\n"
          ]
        },
        {
          "metadata": {
            "tags": null
          },
          "name": "stderr",
          "output_type": "stream",
          "text": [
            "Training Epoch 3: 100%|██████████| 235/235 [00:22<00:00, 10.26batch/s, loss=7.16]\n",
            "Testing: 100%|██████████| 40/40 [00:03<00:00, 12.64batch/s, loss=0.0852]\n"
          ]
        },
        {
          "metadata": {
            "tags": null
          },
          "name": "stdout",
          "output_type": "stream",
          "text": [
            "\n",
            "Epoch:  4 Train Loss:  0.056116951672236126 Train Acc top 1:  0.9856666666666667 Test Loss:  0.0006812950565945358 Test Acc top 1:  0.9698\n",
            "Train Acc top 5:  1.0 Test Acc top 5:  1.0\n",
            "\n"
          ]
        },
        {
          "metadata": {
            "tags": null
          },
          "name": "stderr",
          "output_type": "stream",
          "text": [
            "Training Epoch 4: 100%|██████████| 235/235 [00:22<00:00, 10.49batch/s, loss=7.14]\n",
            "Testing: 100%|██████████| 40/40 [00:03<00:00, 11.59batch/s, loss=0.083]\n"
          ]
        },
        {
          "metadata": {
            "tags": null
          },
          "name": "stdout",
          "output_type": "stream",
          "text": [
            "\n",
            "Epoch:  5 Train Loss:  0.055919748147328696 Train Acc top 1:  0.9866333333333334 Test Loss:  0.0006638222534209489 Test Acc top 1:  0.9712\n",
            "Train Acc top 5:  1.0 Test Acc top 5:  1.0\n",
            "\n"
          ]
        },
        {
          "metadata": {
            "tags": null
          },
          "name": "stderr",
          "output_type": "stream",
          "text": [
            "Training Epoch 5: 100%|██████████| 235/235 [00:22<00:00, 10.53batch/s, loss=7.11]\n",
            "Testing: 100%|██████████| 40/40 [00:03<00:00, 11.64batch/s, loss=0.0819]\n"
          ]
        },
        {
          "metadata": {
            "tags": null
          },
          "name": "stdout",
          "output_type": "stream",
          "text": [
            "\n",
            "Epoch:  6 Train Loss:  0.05571372628211975 Train Acc top 1:  0.9893000000000001 Test Loss:  0.0006551865230547265 Test Acc top 1:  0.9724\n",
            "Train Acc top 5:  1.0 Test Acc top 5:  1.0\n",
            "\n"
          ]
        },
        {
          "metadata": {
            "tags": null
          },
          "name": "stderr",
          "output_type": "stream",
          "text": [
            "Training Epoch 6: 100%|██████████| 235/235 [00:22<00:00, 10.33batch/s, loss=7.09]\n",
            "Testing: 100%|██████████| 40/40 [00:03<00:00, 12.42batch/s, loss=0.085]\n"
          ]
        },
        {
          "metadata": {
            "tags": null
          },
          "name": "stdout",
          "output_type": "stream",
          "text": [
            "\n",
            "Epoch:  7 Train Loss:  0.055514885187149046 Train Acc top 1:  0.9914000000000001 Test Loss:  0.0006801414122805 Test Acc top 1:  0.9712\n",
            "Train Acc top 5:  1.0 Test Acc top 5:  1.0\n",
            "\n"
          ]
        },
        {
          "metadata": {
            "tags": null
          },
          "name": "stderr",
          "output_type": "stream",
          "text": [
            "Training Epoch 7: 100%|██████████| 235/235 [00:22<00:00, 10.37batch/s, loss=7.06]\n",
            "Testing: 100%|██████████| 40/40 [00:02<00:00, 14.36batch/s, loss=0.0868]\n"
          ]
        },
        {
          "metadata": {
            "tags": null
          },
          "name": "stdout",
          "output_type": "stream",
          "text": [
            "\n",
            "Epoch:  8 Train Loss:  0.0553339337348938 Train Acc top 1:  0.9924666666666667 Test Loss:  0.0006946582533419132 Test Acc top 1:  0.973\n",
            "Train Acc top 5:  1.0 Test Acc top 5:  1.0\n",
            "\n"
          ]
        },
        {
          "metadata": {
            "tags": null
          },
          "name": "stderr",
          "output_type": "stream",
          "text": [
            "Training Epoch 8: 100%|██████████| 235/235 [00:22<00:00, 10.46batch/s, loss=7.04]\n",
            "Testing: 100%|██████████| 40/40 [00:02<00:00, 15.10batch/s, loss=0.0866]\n"
          ]
        },
        {
          "metadata": {
            "tags": null
          },
          "name": "stdout",
          "output_type": "stream",
          "text": [
            "\n",
            "Epoch:  9 Train Loss:  0.05516775679588318 Train Acc top 1:  0.9928333333333333 Test Loss:  0.0006927099419757724 Test Acc top 1:  0.9722\n",
            "Train Acc top 5:  1.0 Test Acc top 5:  1.0\n",
            "\n"
          ]
        },
        {
          "metadata": {
            "tags": null
          },
          "name": "stderr",
          "output_type": "stream",
          "text": [
            "Training Epoch 9: 100%|██████████| 235/235 [00:22<00:00, 10.48batch/s, loss=7.02]\n",
            "Testing: 100%|██████████| 40/40 [00:02<00:00, 15.28batch/s, loss=0.0884]\n"
          ]
        },
        {
          "metadata": {
            "tags": null
          },
          "name": "stdout",
          "output_type": "stream",
          "text": [
            "\n",
            "Epoch:  10 Train Loss:  0.05498636813163758 Train Acc top 1:  0.9941333333333334 Test Loss:  0.0007069461651146412 Test Acc top 1:  0.9726\n",
            "Train Acc top 5:  1.0 Test Acc top 5:  1.0\n",
            "\n"
          ]
        },
        {
          "metadata": {
            "tags": null
          },
          "name": "stderr",
          "output_type": "stream",
          "text": [
            "Training Epoch 10: 100%|██████████| 235/235 [00:21<00:00, 10.93batch/s, loss=7]\n",
            "Testing: 100%|██████████| 40/40 [00:02<00:00, 16.00batch/s, loss=0.0864]\n"
          ]
        },
        {
          "metadata": {
            "tags": null
          },
          "name": "stdout",
          "output_type": "stream",
          "text": [
            "\n",
            "Epoch:  11 Train Loss:  0.054826861826578775 Train Acc top 1:  0.9941333333333334 Test Loss:  0.0006908212563954294 Test Acc top 1:  0.973\n",
            "Train Acc top 5:  1.0 Test Acc top 5:  1.0\n",
            "\n"
          ]
        },
        {
          "metadata": {
            "tags": null
          },
          "name": "stderr",
          "output_type": "stream",
          "text": [
            "Training Epoch 11: 100%|██████████| 235/235 [00:21<00:00, 10.94batch/s, loss=6.98]\n",
            "Testing: 100%|██████████| 40/40 [00:02<00:00, 14.76batch/s, loss=0.0845]\n"
          ]
        },
        {
          "metadata": {
            "tags": null
          },
          "name": "stdout",
          "output_type": "stream",
          "text": [
            "\n",
            "Epoch:  12 Train Loss:  0.05464812356630961 Train Acc top 1:  0.9957333333333334 Test Loss:  0.0006762450676644221 Test Acc top 1:  0.9738\n",
            "Train Acc top 5:  1.0 Test Acc top 5:  1.0\n",
            "\n"
          ]
        },
        {
          "metadata": {
            "tags": null
          },
          "name": "stderr",
          "output_type": "stream",
          "text": [
            "Training Epoch 12: 100%|██████████| 235/235 [00:20<00:00, 11.40batch/s, loss=6.96]\n",
            "Testing: 100%|██████████| 40/40 [00:03<00:00, 12.28batch/s, loss=0.0923]\n"
          ]
        },
        {
          "metadata": {
            "tags": null
          },
          "name": "stdout",
          "output_type": "stream",
          "text": [
            "\n",
            "Epoch:  13 Train Loss:  0.05448172701199849 Train Acc top 1:  0.9963666666666667 Test Loss:  0.0007385768428444863 Test Acc top 1:  0.972\n",
            "Train Acc top 5:  1.0 Test Acc top 5:  1.0\n",
            "\n"
          ]
        },
        {
          "metadata": {
            "tags": null
          },
          "name": "stderr",
          "output_type": "stream",
          "text": [
            "Training Epoch 13: 100%|██████████| 235/235 [00:20<00:00, 11.57batch/s, loss=6.93]\n",
            "Testing: 100%|██████████| 40/40 [00:02<00:00, 16.25batch/s, loss=0.0893]\n"
          ]
        },
        {
          "metadata": {
            "tags": null
          },
          "name": "stdout",
          "output_type": "stream",
          "text": [
            "\n",
            "Epoch:  14 Train Loss:  0.05430369784037272 Train Acc top 1:  0.9974666666666667 Test Loss:  0.0007141159513499587 Test Acc top 1:  0.974\n",
            "Train Acc top 5:  1.0 Test Acc top 5:  1.0\n",
            "\n"
          ]
        },
        {
          "metadata": {
            "tags": null
          },
          "name": "stderr",
          "output_type": "stream",
          "text": [
            "Training Epoch 14: 100%|██████████| 235/235 [00:21<00:00, 11.06batch/s, loss=6.91]\n",
            "Testing: 100%|██████████| 40/40 [00:02<00:00, 15.80batch/s, loss=0.0904]\n"
          ]
        },
        {
          "metadata": {
            "tags": null
          },
          "name": "stdout",
          "output_type": "stream",
          "text": [
            "\n",
            "Epoch:  15 Train Loss:  0.05415199818611145 Train Acc top 1:  0.9969666666666667 Test Loss:  0.0007233540443703533 Test Acc top 1:  0.9732\n",
            "Train Acc top 5:  1.0 Test Acc top 5:  1.0\n",
            "\n"
          ]
        },
        {
          "metadata": {
            "tags": null
          },
          "name": "stderr",
          "output_type": "stream",
          "text": [
            "Training Epoch 15: 100%|██████████| 235/235 [00:21<00:00, 11.09batch/s, loss=6.89]\n",
            "Testing: 100%|██████████| 40/40 [00:02<00:00, 16.02batch/s, loss=0.0881]\n"
          ]
        },
        {
          "metadata": {
            "tags": null
          },
          "name": "stdout",
          "output_type": "stream",
          "text": [
            "\n",
            "Epoch:  16 Train Loss:  0.05398736071586609 Train Acc top 1:  0.9977333333333334 Test Loss:  0.0007045927671337267 Test Acc top 1:  0.9744\n",
            "Train Acc top 5:  1.0 Test Acc top 5:  1.0\n",
            "\n"
          ]
        },
        {
          "metadata": {
            "tags": null
          },
          "name": "stderr",
          "output_type": "stream",
          "text": [
            "Training Epoch 16: 100%|██████████| 235/235 [00:20<00:00, 11.33batch/s, loss=6.87]\n",
            "Testing: 100%|██████████| 40/40 [00:03<00:00, 12.93batch/s, loss=0.094]\n"
          ]
        },
        {
          "metadata": {
            "tags": null
          },
          "name": "stdout",
          "output_type": "stream",
          "text": [
            "\n",
            "Epoch:  17 Train Loss:  0.05383149032592773 Train Acc top 1:  0.9980666666666668 Test Loss:  0.0007520225958200171 Test Acc top 1:  0.9748\n",
            "Train Acc top 5:  1.0 Test Acc top 5:  1.0\n",
            "\n"
          ]
        },
        {
          "metadata": {
            "tags": null
          },
          "name": "stderr",
          "output_type": "stream",
          "text": [
            "Training Epoch 17: 100%|██████████| 235/235 [00:20<00:00, 11.52batch/s, loss=6.85]\n",
            "Testing: 100%|██████████| 40/40 [00:02<00:00, 13.53batch/s, loss=0.124]\n"
          ]
        },
        {
          "metadata": {
            "tags": null
          },
          "name": "stdout",
          "output_type": "stream",
          "text": [
            "\n",
            "Epoch:  18 Train Loss:  0.05367270266215007 Train Acc top 1:  0.9983000000000001 Test Loss:  0.0009959082569926977 Test Acc top 1:  0.9744\n",
            "Train Acc top 5:  1.0 Test Acc top 5:  1.0\n",
            "\n"
          ]
        },
        {
          "metadata": {
            "tags": null
          },
          "name": "stderr",
          "output_type": "stream",
          "text": [
            "Training Epoch 18: 100%|██████████| 235/235 [00:21<00:00, 10.94batch/s, loss=6.83]\n",
            "Testing: 100%|██████████| 40/40 [00:02<00:00, 14.78batch/s, loss=0.0937]\n"
          ]
        },
        {
          "metadata": {
            "tags": null
          },
          "name": "stdout",
          "output_type": "stream",
          "text": [
            "\n",
            "Epoch:  19 Train Loss:  0.053513415066401164 Train Acc top 1:  0.9987333333333334 Test Loss:  0.0007497680582629982 Test Acc top 1:  0.9752\n",
            "Train Acc top 5:  1.0 Test Acc top 5:  1.0\n",
            "\n"
          ]
        },
        {
          "metadata": {
            "tags": null
          },
          "name": "stderr",
          "output_type": "stream",
          "text": [
            "Training Epoch 19: 100%|██████████| 235/235 [00:23<00:00,  9.98batch/s, loss=6.81]\n",
            "Testing: 100%|██████████| 40/40 [00:02<00:00, 14.43batch/s, loss=0.0943]\n"
          ]
        },
        {
          "metadata": {
            "tags": null
          },
          "name": "stdout",
          "output_type": "stream",
          "text": [
            "\n",
            "Epoch:  20 Train Loss:  0.05336927280426025 Train Acc top 1:  0.9982000000000001 Test Loss:  0.0007545641453645658 Test Acc top 1:  0.9752\n",
            "Train Acc top 5:  1.0 Test Acc top 5:  1.0\n",
            "\n"
          ]
        },
        {
          "metadata": {
            "tags": null
          },
          "name": "stderr",
          "output_type": "stream",
          "text": [
            "Training Epoch 20: 100%|██████████| 235/235 [00:22<00:00, 10.35batch/s, loss=6.79]\n",
            "Testing: 100%|██████████| 40/40 [00:02<00:00, 16.01batch/s, loss=0.117]\n"
          ]
        },
        {
          "metadata": {
            "tags": null
          },
          "name": "stdout",
          "output_type": "stream",
          "text": [
            "\n",
            "Epoch:  21 Train Loss:  0.05320331964492798 Train Acc top 1:  0.9991333333333334 Test Loss:  0.0009325899814255535 Test Acc top 1:  0.9748\n",
            "Train Acc top 5:  1.0 Test Acc top 5:  1.0\n",
            "\n"
          ]
        },
        {
          "metadata": {
            "tags": null
          },
          "name": "stderr",
          "output_type": "stream",
          "text": [
            "Training Epoch 21: 100%|██████████| 235/235 [00:21<00:00, 10.99batch/s, loss=6.77]\n",
            "Testing: 100%|██████████| 40/40 [00:02<00:00, 16.43batch/s, loss=0.102]\n"
          ]
        },
        {
          "metadata": {
            "tags": null
          },
          "name": "stdout",
          "output_type": "stream",
          "text": [
            "\n",
            "Epoch:  22 Train Loss:  0.05305490167935689 Train Acc top 1:  0.9989666666666667 Test Loss:  0.0008192993653006852 Test Acc top 1:  0.9742\n",
            "Train Acc top 5:  1.0 Test Acc top 5:  1.0\n",
            "\n"
          ]
        },
        {
          "metadata": {
            "tags": null
          },
          "name": "stderr",
          "output_type": "stream",
          "text": [
            "Training Epoch 22: 100%|██████████| 235/235 [00:21<00:00, 10.97batch/s, loss=6.75]\n",
            "Testing: 100%|██████████| 40/40 [00:02<00:00, 15.20batch/s, loss=0.0969]\n"
          ]
        },
        {
          "metadata": {
            "tags": null
          },
          "name": "stdout",
          "output_type": "stream",
          "text": [
            "\n",
            "Epoch:  23 Train Loss:  0.05290074392954509 Train Acc top 1:  0.9994000000000001 Test Loss:  0.0007751449314178899 Test Acc top 1:  0.9754\n",
            "Train Acc top 5:  1.0 Test Acc top 5:  1.0\n",
            "\n"
          ]
        },
        {
          "metadata": {
            "tags": null
          },
          "name": "stderr",
          "output_type": "stream",
          "text": [
            "Training Epoch 23: 100%|██████████| 235/235 [00:20<00:00, 11.59batch/s, loss=6.73]\n",
            "Testing: 100%|██████████| 40/40 [00:03<00:00, 12.06batch/s, loss=0.0998]\n"
          ]
        },
        {
          "metadata": {
            "tags": null
          },
          "name": "stdout",
          "output_type": "stream",
          "text": [
            "\n",
            "Epoch:  24 Train Loss:  0.05275364510218302 Train Acc top 1:  0.9991333333333334 Test Loss:  0.0007985223071642394 Test Acc top 1:  0.9738\n",
            "Train Acc top 5:  1.0 Test Acc top 5:  1.0\n",
            "\n"
          ]
        },
        {
          "metadata": {
            "tags": null
          },
          "name": "stderr",
          "output_type": "stream",
          "text": [
            "Training Epoch 24: 100%|██████████| 235/235 [00:20<00:00, 11.39batch/s, loss=6.72]\n",
            "Testing: 100%|██████████| 40/40 [00:02<00:00, 16.10batch/s, loss=0.107]\n"
          ]
        },
        {
          "metadata": {
            "tags": null
          },
          "name": "stdout",
          "output_type": "stream",
          "text": [
            "\n",
            "Epoch:  25 Train Loss:  0.05261670247713725 Train Acc top 1:  0.9988 Test Loss:  0.0008536035497672856 Test Acc top 1:  0.9724\n",
            "Train Acc top 5:  1.0 Test Acc top 5:  1.0\n",
            "\n"
          ]
        },
        {
          "metadata": {
            "tags": null
          },
          "name": "stderr",
          "output_type": "stream",
          "text": [
            "Training Epoch 25: 100%|██████████| 235/235 [00:21<00:00, 10.90batch/s, loss=6.7]\n",
            "Testing: 100%|██████████| 40/40 [00:02<00:00, 16.06batch/s, loss=0.104]\n"
          ]
        },
        {
          "metadata": {
            "tags": null
          },
          "name": "stdout",
          "output_type": "stream",
          "text": [
            "\n",
            "Epoch:  26 Train Loss:  0.05245411372184754 Train Acc top 1:  0.9993333333333334 Test Loss:  0.0008330217280657962 Test Acc top 1:  0.9756\n",
            "Train Acc top 5:  1.0 Test Acc top 5:  1.0\n",
            "\n"
          ]
        },
        {
          "metadata": {
            "tags": null
          },
          "name": "stderr",
          "output_type": "stream",
          "text": [
            "Training Epoch 26: 100%|██████████| 235/235 [00:21<00:00, 11.10batch/s, loss=6.68]\n",
            "Testing: 100%|██████████| 40/40 [00:02<00:00, 15.60batch/s, loss=0.0973]\n"
          ]
        },
        {
          "metadata": {
            "tags": null
          },
          "name": "stdout",
          "output_type": "stream",
          "text": [
            "\n",
            "Epoch:  27 Train Loss:  0.05230414139429728 Train Acc top 1:  0.9993666666666667 Test Loss:  0.0007780397277514567 Test Acc top 1:  0.9756\n",
            "Train Acc top 5:  1.0 Test Acc top 5:  1.0\n",
            "\n"
          ]
        },
        {
          "metadata": {
            "tags": null
          },
          "name": "stderr",
          "output_type": "stream",
          "text": [
            "Training Epoch 27: 100%|██████████| 235/235 [00:20<00:00, 11.32batch/s, loss=6.66]\n",
            "Testing: 100%|██████████| 40/40 [00:02<00:00, 13.61batch/s, loss=0.0931]\n"
          ]
        },
        {
          "metadata": {
            "tags": null
          },
          "name": "stdout",
          "output_type": "stream",
          "text": [
            "\n",
            "Epoch:  28 Train Loss:  0.052155123456319175 Train Acc top 1:  0.9993666666666667 Test Loss:  0.0007447872715943959 Test Acc top 1:  0.9744\n",
            "Train Acc top 5:  1.0 Test Acc top 5:  1.0\n",
            "\n"
          ]
        },
        {
          "metadata": {
            "tags": null
          },
          "name": "stderr",
          "output_type": "stream",
          "text": [
            "Training Epoch 28: 100%|██████████| 235/235 [00:20<00:00, 11.57batch/s, loss=6.64]\n",
            "Testing: 100%|██████████| 40/40 [00:02<00:00, 14.17batch/s, loss=0.0954]\n"
          ]
        },
        {
          "metadata": {
            "tags": null
          },
          "name": "stdout",
          "output_type": "stream",
          "text": [
            "\n",
            "Epoch:  29 Train Loss:  0.05201095425287883 Train Acc top 1:  0.9993000000000001 Test Loss:  0.000763538014749065 Test Acc top 1:  0.9752\n",
            "Train Acc top 5:  1.0 Test Acc top 5:  1.0\n",
            "\n"
          ]
        },
        {
          "metadata": {
            "tags": null
          },
          "name": "stderr",
          "output_type": "stream",
          "text": [
            "Training Epoch 29: 100%|██████████| 235/235 [00:20<00:00, 11.24batch/s, loss=6.62]\n",
            "Testing: 100%|██████████| 40/40 [00:02<00:00, 15.84batch/s, loss=0.0979]"
          ]
        },
        {
          "metadata": {
            "tags": null
          },
          "name": "stdout",
          "output_type": "stream",
          "text": [
            "\n",
            "Epoch:  30 Train Loss:  0.05186012584368388 Train Acc top 1:  0.9994666666666667 Test Loss:  0.0007831102012656629 Test Acc top 1:  0.9746\n",
            "Train Acc top 5:  1.0 Test Acc top 5:  1.0\n",
            "\n"
          ]
        },
        {
          "metadata": {
            "tags": null
          },
          "name": "stderr",
          "output_type": "stream",
          "text": [
            "\n"
          ]
        },
        {
          "data": {
            "text/html": [
              "Waiting for W&B process to finish... <strong style=\"color:green\">(success).</strong>"
            ],
            "text/plain": [
              "<IPython.core.display.HTML object>"
            ]
          },
          "metadata": {},
          "output_type": "display_data"
        },
        {
          "data": {
            "text/html": [
              "<style>\n",
              "    table.wandb td:nth-child(1) { padding: 0 10px; text-align: left ; width: auto;} td:nth-child(2) {text-align: left ; width: 100%}\n",
              "    .wandb-row { display: flex; flex-direction: row; flex-wrap: wrap; justify-content: flex-start; width: 100% }\n",
              "    .wandb-col { display: flex; flex-direction: column; flex-basis: 100%; flex: 1; padding: 10px; }\n",
              "    </style>\n",
              "<div class=\"wandb-row\"><div class=\"wandb-col\"><h3>Run history:</h3><br/><table class=\"wandb\"><tr><td>epoch</td><td>▁▁▁▂▂▂▂▃▃▃▃▄▄▄▄▅▅▅▅▆▆▆▆▇▇▇▇███</td></tr><tr><td>test_acc</td><td>▁▃▅▃▄▅▄▆▅▅▆▆▅▇▆▇▇▇██▇▇█▆▅██▇█▇</td></tr><tr><td>test_loss</td><td>▃▂▄▂▁▁▂▂▂▂▂▁▃▂▂▂▃█▃▃▇▄▃▄▅▅▄▃▃▄</td></tr><tr><td>train_acc_top1</td><td>▁▂▃▄▄▅▆▆▆▆▆▇▇▇▇███████████████</td></tr><tr><td>train_loss</td><td>██▇▇▇▆▆▆▆▅▅▅▅▄▄▄▄▄▃▃▃▃▂▂▂▂▂▁▁▁</td></tr></table><br/></div><div class=\"wandb-col\"><h3>Run summary:</h3><br/><table class=\"wandb\"><tr><td>epoch</td><td>29</td></tr><tr><td>test_acc</td><td>0.9746</td></tr><tr><td>test_loss</td><td>0.00078</td></tr><tr><td>train_acc_top1</td><td>0.99947</td></tr><tr><td>train_loss</td><td>6.62044</td></tr></table><br/></div></div>"
            ],
            "text/plain": [
              "<IPython.core.display.HTML object>"
            ]
          },
          "metadata": {},
          "output_type": "display_data"
        },
        {
          "data": {
            "text/html": [
              " View run <strong style=\"color:#cdcd00\">trim-sweep-2</strong> at: <a href='https://wandb.ai/mukul_dl/final_lab_8/runs/t3nqhyor' target=\"_blank\">https://wandb.ai/mukul_dl/final_lab_8/runs/t3nqhyor</a><br/>Synced 5 W&B file(s), 0 media file(s), 0 artifact file(s) and 0 other file(s)"
            ],
            "text/plain": [
              "<IPython.core.display.HTML object>"
            ]
          },
          "metadata": {},
          "output_type": "display_data"
        },
        {
          "data": {
            "text/html": [
              "Find logs at: <code>./wandb/run-20230417_132616-t3nqhyor/logs</code>"
            ],
            "text/plain": [
              "<IPython.core.display.HTML object>"
            ]
          },
          "metadata": {},
          "output_type": "display_data"
        },
        {
          "metadata": {
            "tags": null
          },
          "name": "stderr",
          "output_type": "stream",
          "text": [
            "\u001b[34m\u001b[1mwandb\u001b[0m: Sweep Agent: Waiting for job.\n",
            "\u001b[34m\u001b[1mwandb\u001b[0m: Job received.\n",
            "\u001b[34m\u001b[1mwandb\u001b[0m: Agent Starting Run: ghlrbps7 with config:\n",
            "\u001b[34m\u001b[1mwandb\u001b[0m: \tactivation: Softmax\n",
            "\u001b[34m\u001b[1mwandb\u001b[0m: \tlearning_rate: 1e-05\n",
            "\u001b[34m\u001b[1mwandb\u001b[0m: \toptimizer: RMSprop\n",
            "\u001b[34m\u001b[1mwandb\u001b[0m: \u001b[33mWARNING\u001b[0m Ignored wandb.init() arg project when running a sweep.\n"
          ]
        },
        {
          "data": {
            "text/html": [
              "Tracking run with wandb version 0.14.2"
            ],
            "text/plain": [
              "<IPython.core.display.HTML object>"
            ]
          },
          "metadata": {},
          "output_type": "display_data"
        },
        {
          "data": {
            "text/html": [
              "Run data is saved locally in <code>/content/wandb/run-20230417_133856-ghlrbps7</code>"
            ],
            "text/plain": [
              "<IPython.core.display.HTML object>"
            ]
          },
          "metadata": {},
          "output_type": "display_data"
        },
        {
          "data": {
            "text/html": [
              "Syncing run <strong><a href='https://wandb.ai/mukul_dl/final_lab_8/runs/ghlrbps7' target=\"_blank\">skilled-sweep-3</a></strong> to <a href='https://wandb.ai/mukul_dl/final_lab_8' target=\"_blank\">Weights & Biases</a> (<a href='https://wandb.me/run' target=\"_blank\">docs</a>)<br/>Sweep page: <a href='https://wandb.ai/mukul_dl/final_lab_8/sweeps/rxkozgms' target=\"_blank\">https://wandb.ai/mukul_dl/final_lab_8/sweeps/rxkozgms</a>"
            ],
            "text/plain": [
              "<IPython.core.display.HTML object>"
            ]
          },
          "metadata": {},
          "output_type": "display_data"
        },
        {
          "data": {
            "text/html": [
              " View project at <a href='https://wandb.ai/mukul_dl/final_lab_8' target=\"_blank\">https://wandb.ai/mukul_dl/final_lab_8</a>"
            ],
            "text/plain": [
              "<IPython.core.display.HTML object>"
            ]
          },
          "metadata": {},
          "output_type": "display_data"
        },
        {
          "data": {
            "text/html": [
              " View sweep at <a href='https://wandb.ai/mukul_dl/final_lab_8/sweeps/rxkozgms' target=\"_blank\">https://wandb.ai/mukul_dl/final_lab_8/sweeps/rxkozgms</a>"
            ],
            "text/plain": [
              "<IPython.core.display.HTML object>"
            ]
          },
          "metadata": {},
          "output_type": "display_data"
        },
        {
          "data": {
            "text/html": [
              " View run at <a href='https://wandb.ai/mukul_dl/final_lab_8/runs/ghlrbps7' target=\"_blank\">https://wandb.ai/mukul_dl/final_lab_8/runs/ghlrbps7</a>"
            ],
            "text/plain": [
              "<IPython.core.display.HTML object>"
            ]
          },
          "metadata": {},
          "output_type": "display_data"
        },
        {
          "metadata": {
            "tags": null
          },
          "name": "stderr",
          "output_type": "stream",
          "text": [
            "Training Epoch 0: 100%|██████████| 235/235 [00:21<00:00, 11.03batch/s, loss=6.25]\n",
            "Testing: 100%|██████████| 40/40 [00:02<00:00, 15.92batch/s, loss=0.0993]\n"
          ]
        },
        {
          "metadata": {
            "tags": null
          },
          "name": "stdout",
          "output_type": "stream",
          "text": [
            "\n",
            "Epoch:  1 Train Loss:  0.04895221300125122 Train Acc top 1:  0.9979 Test Loss:  0.0007942400620726403 Test Acc top 1:  0.975\n",
            "Train Acc top 5:  1.0 Test Acc top 5:  1.0\n",
            "\n"
          ]
        },
        {
          "metadata": {
            "tags": null
          },
          "name": "stderr",
          "output_type": "stream",
          "text": [
            "Training Epoch 1: 100%|██████████| 235/235 [00:20<00:00, 11.44batch/s, loss=5.87]\n",
            "Testing: 100%|██████████| 40/40 [00:03<00:00, 13.24batch/s, loss=0.102]\n"
          ]
        },
        {
          "metadata": {
            "tags": null
          },
          "name": "stdout",
          "output_type": "stream",
          "text": [
            "\n",
            "Epoch:  2 Train Loss:  0.04600953540802002 Train Acc top 1:  0.9986666666666667 Test Loss:  0.0008147414100792957 Test Acc top 1:  0.9728\n",
            "Train Acc top 5:  1.0 Test Acc top 5:  1.0\n",
            "\n"
          ]
        },
        {
          "metadata": {
            "tags": null
          },
          "name": "stderr",
          "output_type": "stream",
          "text": [
            "Training Epoch 2: 100%|██████████| 235/235 [00:19<00:00, 11.75batch/s, loss=5.59]\n",
            "Testing: 100%|██████████| 40/40 [00:02<00:00, 14.49batch/s, loss=0.106]\n"
          ]
        },
        {
          "metadata": {
            "tags": null
          },
          "name": "stdout",
          "output_type": "stream",
          "text": [
            "\n",
            "Epoch:  3 Train Loss:  0.04378041726748148 Train Acc top 1:  0.9988333333333334 Test Loss:  0.0008468987779691815 Test Acc top 1:  0.9766\n",
            "Train Acc top 5:  1.0 Test Acc top 5:  1.0\n",
            "\n"
          ]
        },
        {
          "metadata": {
            "tags": null
          },
          "name": "stderr",
          "output_type": "stream",
          "text": [
            "Training Epoch 3: 100%|██████████| 235/235 [00:21<00:00, 11.10batch/s, loss=5.35]\n",
            "Testing: 100%|██████████| 40/40 [00:02<00:00, 16.40batch/s, loss=0.106]\n"
          ]
        },
        {
          "metadata": {
            "tags": null
          },
          "name": "stdout",
          "output_type": "stream",
          "text": [
            "\n",
            "Epoch:  4 Train Loss:  0.041897704712549846 Train Acc top 1:  0.9993000000000001 Test Loss:  0.0008480077584041282 Test Acc top 1:  0.9756\n",
            "Train Acc top 5:  1.0 Test Acc top 5:  1.0\n",
            "\n"
          ]
        },
        {
          "metadata": {
            "tags": null
          },
          "name": "stderr",
          "output_type": "stream",
          "text": [
            "Training Epoch 4: 100%|██████████| 235/235 [00:21<00:00, 11.01batch/s, loss=5.14]\n",
            "Testing: 100%|██████████| 40/40 [00:02<00:00, 16.33batch/s, loss=0.108]\n"
          ]
        },
        {
          "metadata": {
            "tags": null
          },
          "name": "stdout",
          "output_type": "stream",
          "text": [
            "\n",
            "Epoch:  5 Train Loss:  0.04028643496831258 Train Acc top 1:  0.9991000000000001 Test Loss:  0.0008648429143388057 Test Acc top 1:  0.9762\n",
            "Train Acc top 5:  1.0 Test Acc top 5:  1.0\n",
            "\n"
          ]
        },
        {
          "metadata": {
            "tags": null
          },
          "name": "stderr",
          "output_type": "stream",
          "text": [
            "Training Epoch 5: 100%|██████████| 235/235 [00:20<00:00, 11.34batch/s, loss=4.97]\n",
            "Testing: 100%|██████████| 40/40 [00:02<00:00, 15.89batch/s, loss=0.108]\n"
          ]
        },
        {
          "metadata": {
            "tags": null
          },
          "name": "stdout",
          "output_type": "stream",
          "text": [
            "\n",
            "Epoch:  6 Train Loss:  0.03893430210749308 Train Acc top 1:  0.9989333333333333 Test Loss:  0.0008616470361594111 Test Acc top 1:  0.975\n",
            "Train Acc top 5:  1.0 Test Acc top 5:  1.0\n",
            "\n"
          ]
        },
        {
          "metadata": {
            "tags": null
          },
          "name": "stderr",
          "output_type": "stream",
          "text": [
            "Training Epoch 6: 100%|██████████| 235/235 [00:19<00:00, 11.76batch/s, loss=4.83]\n",
            "Testing: 100%|██████████| 40/40 [00:03<00:00, 12.31batch/s, loss=0.108]\n"
          ]
        },
        {
          "metadata": {
            "tags": null
          },
          "name": "stdout",
          "output_type": "stream",
          "text": [
            "\n",
            "Epoch:  7 Train Loss:  0.0377989044825236 Train Acc top 1:  0.9992333333333334 Test Loss:  0.0008668106048156914 Test Acc top 1:  0.9748\n",
            "Train Acc top 5:  1.0 Test Acc top 5:  1.0\n",
            "\n"
          ]
        },
        {
          "metadata": {
            "tags": null
          },
          "name": "stderr",
          "output_type": "stream",
          "text": [
            "Training Epoch 7: 100%|██████████| 235/235 [00:20<00:00, 11.48batch/s, loss=4.7]\n",
            "Testing: 100%|██████████| 40/40 [00:02<00:00, 16.18batch/s, loss=0.107]\n"
          ]
        },
        {
          "metadata": {
            "tags": null
          },
          "name": "stdout",
          "output_type": "stream",
          "text": [
            "\n",
            "Epoch:  8 Train Loss:  0.03680920708974202 Train Acc top 1:  0.9995333333333334 Test Loss:  0.0008586497865475394 Test Acc top 1:  0.9766\n",
            "Train Acc top 5:  1.0 Test Acc top 5:  1.0\n",
            "\n"
          ]
        },
        {
          "metadata": {
            "tags": null
          },
          "name": "stderr",
          "output_type": "stream",
          "text": [
            "Training Epoch 8: 100%|██████████| 235/235 [00:21<00:00, 11.12batch/s, loss=4.58]\n",
            "Testing: 100%|██████████| 40/40 [00:02<00:00, 16.40batch/s, loss=0.12]\n"
          ]
        },
        {
          "metadata": {
            "tags": null
          },
          "name": "stdout",
          "output_type": "stream",
          "text": [
            "\n",
            "Epoch:  9 Train Loss:  0.035913803132375084 Train Acc top 1:  0.9996 Test Loss:  0.0009628312817891128 Test Acc top 1:  0.9758\n",
            "Train Acc top 5:  1.0 Test Acc top 5:  1.0\n",
            "\n"
          ]
        },
        {
          "metadata": {
            "tags": null
          },
          "name": "stderr",
          "output_type": "stream",
          "text": [
            "Training Epoch 9: 100%|██████████| 235/235 [00:21<00:00, 10.92batch/s, loss=4.49]\n",
            "Testing: 100%|██████████| 40/40 [00:02<00:00, 15.67batch/s, loss=0.115]\n"
          ]
        },
        {
          "metadata": {
            "tags": null
          },
          "name": "stdout",
          "output_type": "stream",
          "text": [
            "\n",
            "Epoch:  10 Train Loss:  0.035136154254277546 Train Acc top 1:  0.9994333333333334 Test Loss:  0.0009183602446457372 Test Acc top 1:  0.9758\n",
            "Train Acc top 5:  1.0 Test Acc top 5:  1.0\n",
            "\n"
          ]
        },
        {
          "metadata": {
            "tags": null
          },
          "name": "stderr",
          "output_type": "stream",
          "text": [
            "Training Epoch 10: 100%|██████████| 235/235 [00:20<00:00, 11.32batch/s, loss=4.4]\n",
            "Testing: 100%|██████████| 40/40 [00:03<00:00, 12.87batch/s, loss=0.111]\n"
          ]
        },
        {
          "metadata": {
            "tags": null
          },
          "name": "stdout",
          "output_type": "stream",
          "text": [
            "\n",
            "Epoch:  11 Train Loss:  0.034430207920074465 Train Acc top 1:  0.9996333333333334 Test Loss:  0.0008857103164446016 Test Acc top 1:  0.9752\n",
            "Train Acc top 5:  1.0 Test Acc top 5:  1.0\n",
            "\n"
          ]
        },
        {
          "metadata": {
            "tags": null
          },
          "name": "stderr",
          "output_type": "stream",
          "text": [
            "Training Epoch 11: 100%|██████████| 235/235 [00:20<00:00, 11.54batch/s, loss=4.31]\n",
            "Testing: 100%|██████████| 40/40 [00:02<00:00, 13.49batch/s, loss=0.178]\n"
          ]
        },
        {
          "metadata": {
            "tags": null
          },
          "name": "stdout",
          "output_type": "stream",
          "text": [
            "\n",
            "Epoch:  12 Train Loss:  0.033786776320139565 Train Acc top 1:  0.9995666666666667 Test Loss:  0.0014219953287625685 Test Acc top 1:  0.9732\n",
            "Train Acc top 5:  1.0 Test Acc top 5:  1.0\n",
            "\n"
          ]
        },
        {
          "metadata": {
            "tags": null
          },
          "name": "stderr",
          "output_type": "stream",
          "text": [
            "Training Epoch 12: 100%|██████████| 235/235 [00:21<00:00, 11.11batch/s, loss=4.25]\n",
            "Testing: 100%|██████████| 40/40 [00:02<00:00, 15.85batch/s, loss=0.151]\n"
          ]
        },
        {
          "metadata": {
            "tags": null
          },
          "name": "stdout",
          "output_type": "stream",
          "text": [
            "\n",
            "Epoch:  13 Train Loss:  0.033257090854644775 Train Acc top 1:  0.9991666666666668 Test Loss:  0.001205535638332367 Test Acc top 1:  0.9766\n",
            "Train Acc top 5:  1.0 Test Acc top 5:  1.0\n",
            "\n"
          ]
        },
        {
          "metadata": {
            "tags": null
          },
          "name": "stderr",
          "output_type": "stream",
          "text": [
            "Training Epoch 13: 100%|██████████| 235/235 [00:21<00:00, 10.86batch/s, loss=4.19]\n",
            "Testing: 100%|██████████| 40/40 [00:02<00:00, 15.85batch/s, loss=0.118]\n"
          ]
        },
        {
          "metadata": {
            "tags": null
          },
          "name": "stdout",
          "output_type": "stream",
          "text": [
            "\n",
            "Epoch:  14 Train Loss:  0.03282250318527222 Train Acc top 1:  0.9993333333333334 Test Loss:  0.0009448327216086909 Test Acc top 1:  0.9742\n",
            "Train Acc top 5:  1.0 Test Acc top 5:  1.0\n",
            "\n"
          ]
        },
        {
          "metadata": {
            "tags": null
          },
          "name": "stderr",
          "output_type": "stream",
          "text": [
            "Training Epoch 14: 100%|██████████| 235/235 [00:21<00:00, 10.92batch/s, loss=4.14]\n",
            "Testing: 100%|██████████| 40/40 [00:02<00:00, 16.07batch/s, loss=0.132]\n"
          ]
        },
        {
          "metadata": {
            "tags": null
          },
          "name": "stdout",
          "output_type": "stream",
          "text": [
            "\n",
            "Epoch:  15 Train Loss:  0.03240392889976502 Train Acc top 1:  0.9995333333333334 Test Loss:  0.0010581143770366907 Test Acc top 1:  0.9736\n",
            "Train Acc top 5:  1.0 Test Acc top 5:  1.0\n",
            "\n"
          ]
        },
        {
          "metadata": {
            "tags": null
          },
          "name": "stderr",
          "output_type": "stream",
          "text": [
            "Training Epoch 15: 100%|██████████| 235/235 [00:22<00:00, 10.38batch/s, loss=4.09]\n",
            "Testing: 100%|██████████| 40/40 [00:02<00:00, 14.69batch/s, loss=0.119]\n"
          ]
        },
        {
          "metadata": {
            "tags": null
          },
          "name": "stdout",
          "output_type": "stream",
          "text": [
            "\n",
            "Epoch:  16 Train Loss:  0.032001303068796796 Train Acc top 1:  0.9993666666666667 Test Loss:  0.0009543399181216955 Test Acc top 1:  0.975\n",
            "Train Acc top 5:  1.0 Test Acc top 5:  1.0\n",
            "\n"
          ]
        },
        {
          "metadata": {
            "tags": null
          },
          "name": "stderr",
          "output_type": "stream",
          "text": [
            "Training Epoch 16: 100%|██████████| 235/235 [00:21<00:00, 11.08batch/s, loss=4.04]\n",
            "Testing: 100%|██████████| 40/40 [00:03<00:00, 12.15batch/s, loss=0.118]\n"
          ]
        },
        {
          "metadata": {
            "tags": null
          },
          "name": "stdout",
          "output_type": "stream",
          "text": [
            "\n",
            "Epoch:  17 Train Loss:  0.03163799996376038 Train Acc top 1:  0.9995 Test Loss:  0.0009476540186500643 Test Acc top 1:  0.9766\n",
            "Train Acc top 5:  1.0 Test Acc top 5:  1.0\n",
            "\n"
          ]
        },
        {
          "metadata": {
            "tags": null
          },
          "name": "stderr",
          "output_type": "stream",
          "text": [
            "Training Epoch 17: 100%|██████████| 235/235 [00:20<00:00, 11.56batch/s, loss=3.99]\n",
            "Testing: 100%|██████████| 40/40 [00:02<00:00, 16.28batch/s, loss=0.131]\n"
          ]
        },
        {
          "metadata": {
            "tags": null
          },
          "name": "stdout",
          "output_type": "stream",
          "text": [
            "\n",
            "Epoch:  18 Train Loss:  0.031243573331832884 Train Acc top 1:  0.9994000000000001 Test Loss:  0.0010456321483186912 Test Acc top 1:  0.9746\n",
            "Train Acc top 5:  1.0 Test Acc top 5:  1.0\n",
            "\n"
          ]
        },
        {
          "metadata": {
            "tags": null
          },
          "name": "stderr",
          "output_type": "stream",
          "text": [
            "Training Epoch 18: 100%|██████████| 235/235 [00:21<00:00, 11.06batch/s, loss=3.95]\n",
            "Testing: 100%|██████████| 40/40 [00:02<00:00, 16.09batch/s, loss=0.12]\n"
          ]
        },
        {
          "metadata": {
            "tags": null
          },
          "name": "stdout",
          "output_type": "stream",
          "text": [
            "\n",
            "Epoch:  19 Train Loss:  0.03092025605837504 Train Acc top 1:  0.9995333333333334 Test Loss:  0.0009573725166439545 Test Acc top 1:  0.9746\n",
            "Train Acc top 5:  1.0 Test Acc top 5:  1.0\n",
            "\n"
          ]
        },
        {
          "metadata": {
            "tags": null
          },
          "name": "stderr",
          "output_type": "stream",
          "text": [
            "Training Epoch 19: 100%|██████████| 235/235 [00:21<00:00, 11.03batch/s, loss=3.91]\n",
            "Testing: 100%|██████████| 40/40 [00:02<00:00, 15.63batch/s, loss=0.122]\n"
          ]
        },
        {
          "metadata": {
            "tags": null
          },
          "name": "stdout",
          "output_type": "stream",
          "text": [
            "\n",
            "Epoch:  20 Train Loss:  0.030614048059781393 Train Acc top 1:  0.9993333333333334 Test Loss:  0.0009738814552227268 Test Acc top 1:  0.9748\n",
            "Train Acc top 5:  1.0 Test Acc top 5:  1.0\n",
            "\n"
          ]
        },
        {
          "metadata": {
            "tags": null
          },
          "name": "stderr",
          "output_type": "stream",
          "text": [
            "Training Epoch 20: 100%|██████████| 235/235 [00:20<00:00, 11.22batch/s, loss=3.87]\n",
            "Testing: 100%|██████████| 40/40 [00:02<00:00, 14.29batch/s, loss=0.119]\n"
          ]
        },
        {
          "metadata": {
            "tags": null
          },
          "name": "stdout",
          "output_type": "stream",
          "text": [
            "\n",
            "Epoch:  21 Train Loss:  0.030328955229123433 Train Acc top 1:  0.9996 Test Loss:  0.0009526261034181516 Test Acc top 1:  0.9762\n",
            "Train Acc top 5:  1.0 Test Acc top 5:  1.0\n",
            "\n"
          ]
        },
        {
          "metadata": {
            "tags": null
          },
          "name": "stderr",
          "output_type": "stream",
          "text": [
            "Training Epoch 21: 100%|██████████| 235/235 [00:20<00:00, 11.59batch/s, loss=3.83]\n",
            "Testing: 100%|██████████| 40/40 [00:03<00:00, 12.22batch/s, loss=0.124]\n"
          ]
        },
        {
          "metadata": {
            "tags": null
          },
          "name": "stdout",
          "output_type": "stream",
          "text": [
            "\n",
            "Epoch:  22 Train Loss:  0.03003064877986908 Train Acc top 1:  0.9997333333333334 Test Loss:  0.000989166541490704 Test Acc top 1:  0.9748\n",
            "Train Acc top 5:  1.0 Test Acc top 5:  1.0\n",
            "\n"
          ]
        },
        {
          "metadata": {
            "tags": null
          },
          "name": "stderr",
          "output_type": "stream",
          "text": [
            "Training Epoch 22: 100%|██████████| 235/235 [00:21<00:00, 11.12batch/s, loss=3.79]\n",
            "Testing: 100%|██████████| 40/40 [00:02<00:00, 16.13batch/s, loss=0.124]\n"
          ]
        },
        {
          "metadata": {
            "tags": null
          },
          "name": "stdout",
          "output_type": "stream",
          "text": [
            "\n",
            "Epoch:  23 Train Loss:  0.0296888397137324 Train Acc top 1:  0.9997333333333334 Test Loss:  0.0009923457652330399 Test Acc top 1:  0.974\n",
            "Train Acc top 5:  1.0 Test Acc top 5:  1.0\n",
            "\n"
          ]
        },
        {
          "metadata": {
            "tags": null
          },
          "name": "stderr",
          "output_type": "stream",
          "text": [
            "Training Epoch 23: 100%|██████████| 235/235 [00:21<00:00, 10.72batch/s, loss=3.75]\n",
            "Testing: 100%|██████████| 40/40 [00:02<00:00, 16.18batch/s, loss=0.121]\n"
          ]
        },
        {
          "metadata": {
            "tags": null
          },
          "name": "stdout",
          "output_type": "stream",
          "text": [
            "\n",
            "Epoch:  24 Train Loss:  0.029351019382476806 Train Acc top 1:  0.9996 Test Loss:  0.0009668991783400998 Test Acc top 1:  0.9766\n",
            "Train Acc top 5:  1.0 Test Acc top 5:  1.0\n",
            "\n"
          ]
        },
        {
          "metadata": {
            "tags": null
          },
          "name": "stderr",
          "output_type": "stream",
          "text": [
            "Training Epoch 24: 100%|██████████| 235/235 [00:20<00:00, 11.23batch/s, loss=3.71]\n",
            "Testing: 100%|██████████| 40/40 [00:02<00:00, 15.70batch/s, loss=0.148]\n"
          ]
        },
        {
          "metadata": {
            "tags": null
          },
          "name": "stdout",
          "output_type": "stream",
          "text": [
            "\n",
            "Epoch:  25 Train Loss:  0.029068777751922608 Train Acc top 1:  0.9995 Test Loss:  0.0011809413834125734 Test Acc top 1:  0.9744\n",
            "Train Acc top 5:  1.0 Test Acc top 5:  1.0\n",
            "\n"
          ]
        },
        {
          "metadata": {
            "tags": null
          },
          "name": "stderr",
          "output_type": "stream",
          "text": [
            "Training Epoch 25: 100%|██████████| 235/235 [00:21<00:00, 11.09batch/s, loss=3.68]\n",
            "Testing: 100%|██████████| 40/40 [00:02<00:00, 15.09batch/s, loss=0.135]\n"
          ]
        },
        {
          "metadata": {
            "tags": null
          },
          "name": "stdout",
          "output_type": "stream",
          "text": [
            "\n",
            "Epoch:  26 Train Loss:  0.02880779354572296 Train Acc top 1:  0.9995 Test Loss:  0.0010808685233001597 Test Acc top 1:  0.9762\n",
            "Train Acc top 5:  1.0 Test Acc top 5:  1.0\n",
            "\n"
          ]
        },
        {
          "metadata": {
            "tags": null
          },
          "name": "stderr",
          "output_type": "stream",
          "text": [
            "Training Epoch 26: 100%|██████████| 235/235 [00:20<00:00, 11.50batch/s, loss=3.64]\n",
            "Testing: 100%|██████████| 40/40 [00:03<00:00, 12.30batch/s, loss=0.123]\n"
          ]
        },
        {
          "metadata": {
            "tags": null
          },
          "name": "stdout",
          "output_type": "stream",
          "text": [
            "\n",
            "Epoch:  27 Train Loss:  0.028515802145004272 Train Acc top 1:  0.9998666666666667 Test Loss:  0.0009834600637317636 Test Acc top 1:  0.9758\n",
            "Train Acc top 5:  1.0 Test Acc top 5:  1.0\n",
            "\n"
          ]
        },
        {
          "metadata": {
            "tags": null
          },
          "name": "stderr",
          "output_type": "stream",
          "text": [
            "Training Epoch 27: 100%|██████████| 235/235 [00:20<00:00, 11.42batch/s, loss=3.6]\n",
            "Testing: 100%|██████████| 40/40 [00:02<00:00, 15.91batch/s, loss=0.122]\n"
          ]
        },
        {
          "metadata": {
            "tags": null
          },
          "name": "stdout",
          "output_type": "stream",
          "text": [
            "\n",
            "Epoch:  28 Train Loss:  0.028200879343350728 Train Acc top 1:  0.9995333333333334 Test Loss:  0.0009739695751777617 Test Acc top 1:  0.9766\n",
            "Train Acc top 5:  1.0 Test Acc top 5:  1.0\n",
            "\n"
          ]
        },
        {
          "metadata": {
            "tags": null
          },
          "name": "stderr",
          "output_type": "stream",
          "text": [
            "Training Epoch 28: 100%|██████████| 235/235 [00:21<00:00, 11.09batch/s, loss=3.57]\n",
            "Testing: 100%|██████████| 40/40 [00:02<00:00, 15.96batch/s, loss=0.133]\n"
          ]
        },
        {
          "metadata": {
            "tags": null
          },
          "name": "stdout",
          "output_type": "stream",
          "text": [
            "\n",
            "Epoch:  29 Train Loss:  0.02795969439347585 Train Acc top 1:  0.9996 Test Loss:  0.001067948495456949 Test Acc top 1:  0.9766\n",
            "Train Acc top 5:  1.0 Test Acc top 5:  1.0\n",
            "\n"
          ]
        },
        {
          "metadata": {
            "tags": null
          },
          "name": "stderr",
          "output_type": "stream",
          "text": [
            "Training Epoch 29: 100%|██████████| 235/235 [00:21<00:00, 10.99batch/s, loss=3.54]\n",
            "Testing: 100%|██████████| 40/40 [00:02<00:00, 16.24batch/s, loss=0.117]"
          ]
        },
        {
          "metadata": {
            "tags": null
          },
          "name": "stdout",
          "output_type": "stream",
          "text": [
            "\n",
            "Epoch:  30 Train Loss:  0.027721510497728984 Train Acc top 1:  0.9996 Test Loss:  0.0009366930146392406 Test Acc top 1:  0.9768\n",
            "Train Acc top 5:  1.0 Test Acc top 5:  1.0\n",
            "\n"
          ]
        },
        {
          "metadata": {
            "tags": null
          },
          "name": "stderr",
          "output_type": "stream",
          "text": [
            "\n"
          ]
        },
        {
          "data": {
            "text/html": [
              "Waiting for W&B process to finish... <strong style=\"color:green\">(success).</strong>"
            ],
            "text/plain": [
              "<IPython.core.display.HTML object>"
            ]
          },
          "metadata": {},
          "output_type": "display_data"
        },
        {
          "data": {
            "text/html": [
              "<style>\n",
              "    table.wandb td:nth-child(1) { padding: 0 10px; text-align: left ; width: auto;} td:nth-child(2) {text-align: left ; width: 100%}\n",
              "    .wandb-row { display: flex; flex-direction: row; flex-wrap: wrap; justify-content: flex-start; width: 100% }\n",
              "    .wandb-col { display: flex; flex-direction: column; flex-basis: 100%; flex: 1; padding: 10px; }\n",
              "    </style>\n",
              "<div class=\"wandb-row\"><div class=\"wandb-col\"><h3>Run history:</h3><br/><table class=\"wandb\"><tr><td>epoch</td><td>▁▁▁▂▂▂▂▃▃▃▃▄▄▄▄▅▅▅▅▆▆▆▆▇▇▇▇███</td></tr><tr><td>test_acc</td><td>▅▁█▆▇▅▄█▆▆▅▂█▃▂▅█▄▄▄▇▄▃█▄▇▆███</td></tr><tr><td>test_loss</td><td>▁▁▂▂▂▂▂▂▃▂▂█▆▃▄▃▃▄▃▃▃▃▃▃▅▄▃▃▄▃</td></tr><tr><td>train_acc_top1</td><td>▁▄▄▆▅▅▆▇▇▆▇▇▆▆▇▆▇▆▇▆▇██▇▇▇█▇▇▇</td></tr><tr><td>train_loss</td><td>█▇▆▆▅▅▄▄▄▃▃▃▃▃▃▂▂▂▂▂▂▂▂▂▁▁▁▁▁▁</td></tr></table><br/></div><div class=\"wandb-col\"><h3>Run summary:</h3><br/><table class=\"wandb\"><tr><td>epoch</td><td>29</td></tr><tr><td>test_acc</td><td>0.9768</td></tr><tr><td>test_loss</td><td>0.00094</td></tr><tr><td>train_acc_top1</td><td>0.9996</td></tr><tr><td>train_loss</td><td>3.53892</td></tr></table><br/></div></div>"
            ],
            "text/plain": [
              "<IPython.core.display.HTML object>"
            ]
          },
          "metadata": {},
          "output_type": "display_data"
        },
        {
          "data": {
            "text/html": [
              " View run <strong style=\"color:#cdcd00\">skilled-sweep-3</strong> at: <a href='https://wandb.ai/mukul_dl/final_lab_8/runs/ghlrbps7' target=\"_blank\">https://wandb.ai/mukul_dl/final_lab_8/runs/ghlrbps7</a><br/>Synced 5 W&B file(s), 0 media file(s), 0 artifact file(s) and 0 other file(s)"
            ],
            "text/plain": [
              "<IPython.core.display.HTML object>"
            ]
          },
          "metadata": {},
          "output_type": "display_data"
        },
        {
          "data": {
            "text/html": [
              "Find logs at: <code>./wandb/run-20230417_133856-ghlrbps7/logs</code>"
            ],
            "text/plain": [
              "<IPython.core.display.HTML object>"
            ]
          },
          "metadata": {},
          "output_type": "display_data"
        },
        {
          "metadata": {
            "tags": null
          },
          "name": "stderr",
          "output_type": "stream",
          "text": [
            "\u001b[34m\u001b[1mwandb\u001b[0m: Agent Starting Run: 47yfvz61 with config:\n",
            "\u001b[34m\u001b[1mwandb\u001b[0m: \tactivation: ReLU\n",
            "\u001b[34m\u001b[1mwandb\u001b[0m: \tlearning_rate: 1e-05\n",
            "\u001b[34m\u001b[1mwandb\u001b[0m: \toptimizer: Adam\n",
            "\u001b[34m\u001b[1mwandb\u001b[0m: \u001b[33mWARNING\u001b[0m Ignored wandb.init() arg project when running a sweep.\n"
          ]
        },
        {
          "data": {
            "text/html": [
              "Tracking run with wandb version 0.14.2"
            ],
            "text/plain": [
              "<IPython.core.display.HTML object>"
            ]
          },
          "metadata": {},
          "output_type": "display_data"
        },
        {
          "data": {
            "text/html": [
              "Run data is saved locally in <code>/content/wandb/run-20230417_135105-47yfvz61</code>"
            ],
            "text/plain": [
              "<IPython.core.display.HTML object>"
            ]
          },
          "metadata": {},
          "output_type": "display_data"
        },
        {
          "data": {
            "text/html": [
              "Syncing run <strong><a href='https://wandb.ai/mukul_dl/final_lab_8/runs/47yfvz61' target=\"_blank\">upbeat-sweep-4</a></strong> to <a href='https://wandb.ai/mukul_dl/final_lab_8' target=\"_blank\">Weights & Biases</a> (<a href='https://wandb.me/run' target=\"_blank\">docs</a>)<br/>Sweep page: <a href='https://wandb.ai/mukul_dl/final_lab_8/sweeps/rxkozgms' target=\"_blank\">https://wandb.ai/mukul_dl/final_lab_8/sweeps/rxkozgms</a>"
            ],
            "text/plain": [
              "<IPython.core.display.HTML object>"
            ]
          },
          "metadata": {},
          "output_type": "display_data"
        },
        {
          "data": {
            "text/html": [
              " View project at <a href='https://wandb.ai/mukul_dl/final_lab_8' target=\"_blank\">https://wandb.ai/mukul_dl/final_lab_8</a>"
            ],
            "text/plain": [
              "<IPython.core.display.HTML object>"
            ]
          },
          "metadata": {},
          "output_type": "display_data"
        },
        {
          "data": {
            "text/html": [
              " View sweep at <a href='https://wandb.ai/mukul_dl/final_lab_8/sweeps/rxkozgms' target=\"_blank\">https://wandb.ai/mukul_dl/final_lab_8/sweeps/rxkozgms</a>"
            ],
            "text/plain": [
              "<IPython.core.display.HTML object>"
            ]
          },
          "metadata": {},
          "output_type": "display_data"
        },
        {
          "data": {
            "text/html": [
              " View run at <a href='https://wandb.ai/mukul_dl/final_lab_8/runs/47yfvz61' target=\"_blank\">https://wandb.ai/mukul_dl/final_lab_8/runs/47yfvz61</a>"
            ],
            "text/plain": [
              "<IPython.core.display.HTML object>"
            ]
          },
          "metadata": {},
          "output_type": "display_data"
        },
        {
          "metadata": {
            "tags": null
          },
          "name": "stderr",
          "output_type": "stream",
          "text": [
            "Training Epoch 0: 100%|██████████| 235/235 [00:21<00:00, 10.97batch/s, loss=3.49]\n",
            "Testing: 100%|██████████| 40/40 [00:02<00:00, 15.57batch/s, loss=0.135]\n"
          ]
        },
        {
          "metadata": {
            "tags": null
          },
          "name": "stdout",
          "output_type": "stream",
          "text": [
            "\n",
            "Epoch:  1 Train Loss:  0.027306703527768452 Train Acc top 1:  0.9994000000000001 Test Loss:  0.001080365160574729 Test Acc top 1:  0.9758\n",
            "Train Acc top 5:  1.0 Test Acc top 5:  1.0\n",
            "\n"
          ]
        },
        {
          "metadata": {
            "tags": null
          },
          "name": "stderr",
          "output_type": "stream",
          "text": [
            "Training Epoch 1: 100%|██████████| 235/235 [00:22<00:00, 10.43batch/s, loss=3.45]\n",
            "Testing: 100%|██████████| 40/40 [00:02<00:00, 15.18batch/s, loss=0.124]\n"
          ]
        },
        {
          "metadata": {
            "tags": null
          },
          "name": "stdout",
          "output_type": "stream",
          "text": [
            "\n",
            "Epoch:  2 Train Loss:  0.0270630980014801 Train Acc top 1:  0.9995 Test Loss:  0.0009947894300799817 Test Acc top 1:  0.9756\n",
            "Train Acc top 5:  1.0 Test Acc top 5:  1.0\n",
            "\n"
          ]
        },
        {
          "metadata": {
            "tags": null
          },
          "name": "stderr",
          "output_type": "stream",
          "text": [
            "Training Epoch 2: 100%|██████████| 235/235 [00:22<00:00, 10.57batch/s, loss=3.43]\n",
            "Testing: 100%|██████████| 40/40 [00:02<00:00, 15.42batch/s, loss=0.16]\n"
          ]
        },
        {
          "metadata": {
            "tags": null
          },
          "name": "stdout",
          "output_type": "stream",
          "text": [
            "\n",
            "Epoch:  3 Train Loss:  0.026892943914731345 Train Acc top 1:  0.9993333333333334 Test Loss:  0.0012773411901667714 Test Acc top 1:  0.9762\n",
            "Train Acc top 5:  1.0 Test Acc top 5:  1.0\n",
            "\n"
          ]
        },
        {
          "metadata": {
            "tags": null
          },
          "name": "stderr",
          "output_type": "stream",
          "text": [
            "Training Epoch 3: 100%|██████████| 235/235 [00:22<00:00, 10.39batch/s, loss=3.41]\n",
            "Testing: 100%|██████████| 40/40 [00:02<00:00, 15.15batch/s, loss=0.119]\n"
          ]
        },
        {
          "metadata": {
            "tags": null
          },
          "name": "stdout",
          "output_type": "stream",
          "text": [
            "\n",
            "Epoch:  4 Train Loss:  0.026729856952031453 Train Acc top 1:  0.9990666666666668 Test Loss:  0.0009548730302136392 Test Acc top 1:  0.9778\n",
            "Train Acc top 5:  1.0 Test Acc top 5:  1.0\n",
            "\n"
          ]
        },
        {
          "metadata": {
            "tags": null
          },
          "name": "stderr",
          "output_type": "stream",
          "text": [
            "Training Epoch 4: 100%|██████████| 235/235 [00:21<00:00, 11.19batch/s, loss=3.39]\n",
            "Testing: 100%|██████████| 40/40 [00:03<00:00, 13.09batch/s, loss=0.11]\n"
          ]
        },
        {
          "metadata": {
            "tags": null
          },
          "name": "stdout",
          "output_type": "stream",
          "text": [
            "\n",
            "Epoch:  5 Train Loss:  0.026573985322316487 Train Acc top 1:  0.9994000000000001 Test Loss:  0.0008819202737679006 Test Acc top 1:  0.9768\n",
            "Train Acc top 5:  1.0 Test Acc top 5:  1.0\n",
            "\n"
          ]
        },
        {
          "metadata": {
            "tags": null
          },
          "name": "stderr",
          "output_type": "stream",
          "text": [
            "Training Epoch 5: 100%|██████████| 235/235 [00:20<00:00, 11.58batch/s, loss=3.37]\n",
            "Testing: 100%|██████████| 40/40 [00:02<00:00, 13.97batch/s, loss=0.125]\n"
          ]
        },
        {
          "metadata": {
            "tags": null
          },
          "name": "stdout",
          "output_type": "stream",
          "text": [
            "\n",
            "Epoch:  6 Train Loss:  0.0264261190811793 Train Acc top 1:  0.9990666666666668 Test Loss:  0.0009987153736219624 Test Acc top 1:  0.9762\n",
            "Train Acc top 5:  1.0 Test Acc top 5:  1.0\n",
            "\n"
          ]
        },
        {
          "metadata": {
            "tags": null
          },
          "name": "stderr",
          "output_type": "stream",
          "text": [
            "Training Epoch 6: 100%|██████████| 235/235 [00:21<00:00, 11.11batch/s, loss=3.35]\n",
            "Testing: 100%|██████████| 40/40 [00:02<00:00, 15.83batch/s, loss=0.117]\n"
          ]
        },
        {
          "metadata": {
            "tags": null
          },
          "name": "stdout",
          "output_type": "stream",
          "text": [
            "\n",
            "Epoch:  7 Train Loss:  0.026275994126001994 Train Acc top 1:  0.9993000000000001 Test Loss:  0.0009330278271809221 Test Acc top 1:  0.9762\n",
            "Train Acc top 5:  1.0 Test Acc top 5:  1.0\n",
            "\n"
          ]
        },
        {
          "metadata": {
            "tags": null
          },
          "name": "stderr",
          "output_type": "stream",
          "text": [
            "Training Epoch 7: 100%|██████████| 235/235 [00:22<00:00, 10.64batch/s, loss=3.34]\n",
            "Testing: 100%|██████████| 40/40 [00:02<00:00, 15.76batch/s, loss=0.109]\n"
          ]
        },
        {
          "metadata": {
            "tags": null
          },
          "name": "stdout",
          "output_type": "stream",
          "text": [
            "\n",
            "Epoch:  8 Train Loss:  0.02613784840106964 Train Acc top 1:  0.9993000000000001 Test Loss:  0.0008740264529245906 Test Acc top 1:  0.9752\n",
            "Train Acc top 5:  1.0 Test Acc top 5:  1.0\n",
            "\n"
          ]
        },
        {
          "metadata": {
            "tags": null
          },
          "name": "stderr",
          "output_type": "stream",
          "text": [
            "Training Epoch 8: 100%|██████████| 235/235 [00:21<00:00, 10.74batch/s, loss=3.32]\n",
            "Testing: 100%|██████████| 40/40 [00:02<00:00, 15.69batch/s, loss=0.104]\n"
          ]
        },
        {
          "metadata": {
            "tags": null
          },
          "name": "stdout",
          "output_type": "stream",
          "text": [
            "\n",
            "Epoch:  9 Train Loss:  0.02599440671602885 Train Acc top 1:  0.9994333333333334 Test Loss:  0.0008280370619613677 Test Acc top 1:  0.9772\n",
            "Train Acc top 5:  1.0 Test Acc top 5:  1.0\n",
            "\n"
          ]
        },
        {
          "metadata": {
            "tags": null
          },
          "name": "stderr",
          "output_type": "stream",
          "text": [
            "Training Epoch 9: 100%|██████████| 235/235 [00:21<00:00, 10.89batch/s, loss=3.3]\n",
            "Testing: 100%|██████████| 40/40 [00:02<00:00, 14.52batch/s, loss=0.11]\n"
          ]
        },
        {
          "metadata": {
            "tags": null
          },
          "name": "stdout",
          "output_type": "stream",
          "text": [
            "\n",
            "Epoch:  10 Train Loss:  0.02584294200738271 Train Acc top 1:  0.9998666666666667 Test Loss:  0.0008770039773080498 Test Acc top 1:  0.9762\n",
            "Train Acc top 5:  1.0 Test Acc top 5:  1.0\n",
            "\n"
          ]
        },
        {
          "metadata": {
            "tags": null
          },
          "name": "stderr",
          "output_type": "stream",
          "text": [
            "Training Epoch 10: 100%|██████████| 235/235 [00:20<00:00, 11.43batch/s, loss=3.28]\n",
            "Testing: 100%|██████████| 40/40 [00:03<00:00, 11.75batch/s, loss=0.109]\n"
          ]
        },
        {
          "metadata": {
            "tags": null
          },
          "name": "stdout",
          "output_type": "stream",
          "text": [
            "\n",
            "Epoch:  11 Train Loss:  0.025693019350369772 Train Acc top 1:  0.9998333333333334 Test Loss:  0.0008699509443435091 Test Acc top 1:  0.9752\n",
            "Train Acc top 5:  1.0 Test Acc top 5:  1.0\n",
            "\n"
          ]
        },
        {
          "metadata": {
            "tags": null
          },
          "name": "stderr",
          "output_type": "stream",
          "text": [
            "Training Epoch 11: 100%|██████████| 235/235 [00:20<00:00, 11.37batch/s, loss=3.26]\n",
            "Testing: 100%|██████████| 40/40 [00:02<00:00, 16.10batch/s, loss=0.115]\n"
          ]
        },
        {
          "metadata": {
            "tags": null
          },
          "name": "stdout",
          "output_type": "stream",
          "text": [
            "\n",
            "Epoch:  12 Train Loss:  0.025536795655886332 Train Acc top 1:  0.9998333333333334 Test Loss:  0.0009210477397311479 Test Acc top 1:  0.9778\n",
            "Train Acc top 5:  1.0 Test Acc top 5:  1.0\n",
            "\n"
          ]
        },
        {
          "metadata": {
            "tags": null
          },
          "name": "stderr",
          "output_type": "stream",
          "text": [
            "Training Epoch 12: 100%|██████████| 235/235 [00:21<00:00, 10.84batch/s, loss=3.24]\n",
            "Testing: 100%|██████████| 40/40 [00:02<00:00, 16.09batch/s, loss=0.105]\n"
          ]
        },
        {
          "metadata": {
            "tags": null
          },
          "name": "stdout",
          "output_type": "stream",
          "text": [
            "\n",
            "Epoch:  13 Train Loss:  0.02538459736506144 Train Acc top 1:  0.9994666666666667 Test Loss:  0.0008417255464359186 Test Acc top 1:  0.9766\n",
            "Train Acc top 5:  1.0 Test Acc top 5:  1.0\n",
            "\n"
          ]
        },
        {
          "metadata": {
            "tags": null
          },
          "name": "stderr",
          "output_type": "stream",
          "text": [
            "Training Epoch 13: 100%|██████████| 235/235 [00:21<00:00, 10.97batch/s, loss=3.22]\n",
            "Testing: 100%|██████████| 40/40 [00:02<00:00, 15.55batch/s, loss=0.128]\n"
          ]
        },
        {
          "metadata": {
            "tags": null
          },
          "name": "stdout",
          "output_type": "stream",
          "text": [
            "\n",
            "Epoch:  14 Train Loss:  0.025218502847353618 Train Acc top 1:  0.9997666666666667 Test Loss:  0.0010242017953656613 Test Acc top 1:  0.9772\n",
            "Train Acc top 5:  1.0 Test Acc top 5:  1.0\n",
            "\n"
          ]
        },
        {
          "metadata": {
            "tags": null
          },
          "name": "stderr",
          "output_type": "stream",
          "text": [
            "Training Epoch 14: 100%|██████████| 235/235 [00:21<00:00, 10.89batch/s, loss=3.2]\n",
            "Testing: 100%|██████████| 40/40 [00:02<00:00, 15.13batch/s, loss=0.116]\n"
          ]
        },
        {
          "metadata": {
            "tags": null
          },
          "name": "stdout",
          "output_type": "stream",
          "text": [
            "\n",
            "Epoch:  15 Train Loss:  0.02505537292957306 Train Acc top 1:  0.9997333333333334 Test Loss:  0.0009248715522931889 Test Acc top 1:  0.9784\n",
            "Train Acc top 5:  1.0 Test Acc top 5:  1.0\n",
            "\n"
          ]
        },
        {
          "metadata": {
            "tags": null
          },
          "name": "stderr",
          "output_type": "stream",
          "text": [
            "Training Epoch 15: 100%|██████████| 235/235 [00:20<00:00, 11.22batch/s, loss=3.18]\n",
            "Testing: 100%|██████████| 40/40 [00:03<00:00, 12.28batch/s, loss=0.12]\n"
          ]
        },
        {
          "metadata": {
            "tags": null
          },
          "name": "stdout",
          "output_type": "stream",
          "text": [
            "\n",
            "Epoch:  16 Train Loss:  0.02491422759691874 Train Acc top 1:  0.9989333333333333 Test Loss:  0.0009578075437544612 Test Acc top 1:  0.9768\n",
            "Train Acc top 5:  1.0 Test Acc top 5:  1.0\n",
            "\n"
          ]
        },
        {
          "metadata": {
            "tags": null
          },
          "name": "stderr",
          "output_type": "stream",
          "text": [
            "Training Epoch 16: 100%|██████████| 235/235 [00:20<00:00, 11.44batch/s, loss=3.16]\n",
            "Testing: 100%|██████████| 40/40 [00:02<00:00, 15.45batch/s, loss=0.116]\n"
          ]
        },
        {
          "metadata": {
            "tags": null
          },
          "name": "stdout",
          "output_type": "stream",
          "text": [
            "\n",
            "Epoch:  17 Train Loss:  0.024751807673772178 Train Acc top 1:  0.9994666666666667 Test Loss:  0.0009290580090011645 Test Acc top 1:  0.9774\n",
            "Train Acc top 5:  1.0 Test Acc top 5:  1.0\n",
            "\n"
          ]
        },
        {
          "metadata": {
            "tags": null
          },
          "name": "stderr",
          "output_type": "stream",
          "text": [
            "Training Epoch 17: 100%|██████████| 235/235 [00:21<00:00, 10.96batch/s, loss=3.14]\n",
            "Testing: 100%|██████████| 40/40 [00:02<00:00, 16.07batch/s, loss=0.121]\n"
          ]
        },
        {
          "metadata": {
            "tags": null
          },
          "name": "stdout",
          "output_type": "stream",
          "text": [
            "\n",
            "Epoch:  18 Train Loss:  0.02459610486825307 Train Acc top 1:  0.9997666666666667 Test Loss:  0.000967156031250488 Test Acc top 1:  0.9764\n",
            "Train Acc top 5:  1.0 Test Acc top 5:  1.0\n",
            "\n"
          ]
        },
        {
          "metadata": {
            "tags": null
          },
          "name": "stderr",
          "output_type": "stream",
          "text": [
            "Training Epoch 18: 100%|██████████| 235/235 [00:21<00:00, 10.83batch/s, loss=3.12]\n",
            "Testing: 100%|██████████| 40/40 [00:02<00:00, 16.01batch/s, loss=0.115]\n"
          ]
        },
        {
          "metadata": {
            "tags": null
          },
          "name": "stdout",
          "output_type": "stream",
          "text": [
            "\n",
            "Epoch:  19 Train Loss:  0.024442271677652994 Train Acc top 1:  0.9998666666666667 Test Loss:  0.0009212352562695742 Test Acc top 1:  0.9782\n",
            "Train Acc top 5:  1.0 Test Acc top 5:  1.0\n",
            "\n"
          ]
        },
        {
          "metadata": {
            "tags": null
          },
          "name": "stderr",
          "output_type": "stream",
          "text": [
            "Training Epoch 19: 100%|██████████| 235/235 [00:21<00:00, 10.88batch/s, loss=3.1]\n",
            "Testing: 100%|██████████| 40/40 [00:02<00:00, 16.12batch/s, loss=0.116]\n"
          ]
        },
        {
          "metadata": {
            "tags": null
          },
          "name": "stdout",
          "output_type": "stream",
          "text": [
            "\n",
            "Epoch:  20 Train Loss:  0.02428639387289683 Train Acc top 1:  0.9999 Test Loss:  0.0009267282735316258 Test Acc top 1:  0.9776\n",
            "Train Acc top 5:  1.0 Test Acc top 5:  1.0\n",
            "\n"
          ]
        },
        {
          "metadata": {
            "tags": null
          },
          "name": "stderr",
          "output_type": "stream",
          "text": [
            "Training Epoch 20: 100%|██████████| 235/235 [00:20<00:00, 11.44batch/s, loss=3.08]\n",
            "Testing: 100%|██████████| 40/40 [00:03<00:00, 11.65batch/s, loss=0.168]\n"
          ]
        },
        {
          "metadata": {
            "tags": null
          },
          "name": "stdout",
          "output_type": "stream",
          "text": [
            "\n",
            "Epoch:  21 Train Loss:  0.024124506775538127 Train Acc top 1:  0.9996333333333334 Test Loss:  0.0013444488980807363 Test Acc top 1:  0.9752\n",
            "Train Acc top 5:  1.0 Test Acc top 5:  1.0\n",
            "\n"
          ]
        },
        {
          "metadata": {
            "tags": null
          },
          "name": "stderr",
          "output_type": "stream",
          "text": [
            "Training Epoch 21: 100%|██████████| 235/235 [00:20<00:00, 11.21batch/s, loss=3.06]\n",
            "Testing: 100%|██████████| 40/40 [00:02<00:00, 15.51batch/s, loss=0.115]\n"
          ]
        },
        {
          "metadata": {
            "tags": null
          },
          "name": "stdout",
          "output_type": "stream",
          "text": [
            "\n",
            "Epoch:  22 Train Loss:  0.023959811528523764 Train Acc top 1:  0.9998 Test Loss:  0.0009234401713416446 Test Acc top 1:  0.9756\n",
            "Train Acc top 5:  1.0 Test Acc top 5:  1.0\n",
            "\n"
          ]
        },
        {
          "metadata": {
            "tags": null
          },
          "name": "stderr",
          "output_type": "stream",
          "text": [
            "Training Epoch 22: 100%|██████████| 235/235 [00:21<00:00, 10.99batch/s, loss=3.04]\n",
            "Testing: 100%|██████████| 40/40 [00:02<00:00, 16.35batch/s, loss=0.122]\n"
          ]
        },
        {
          "metadata": {
            "tags": null
          },
          "name": "stdout",
          "output_type": "stream",
          "text": [
            "\n",
            "Epoch:  23 Train Loss:  0.02380817425251007 Train Acc top 1:  0.9995333333333334 Test Loss:  0.0009776010049507022 Test Acc top 1:  0.9754\n",
            "Train Acc top 5:  1.0 Test Acc top 5:  1.0\n",
            "\n"
          ]
        },
        {
          "metadata": {
            "tags": null
          },
          "name": "stderr",
          "output_type": "stream",
          "text": [
            "Training Epoch 23: 100%|██████████| 235/235 [00:21<00:00, 10.97batch/s, loss=3.02]\n",
            "Testing: 100%|██████████| 40/40 [00:02<00:00, 14.98batch/s, loss=0.121]\n"
          ]
        },
        {
          "metadata": {
            "tags": null
          },
          "name": "stdout",
          "output_type": "stream",
          "text": [
            "\n",
            "Epoch:  24 Train Loss:  0.023657170645395915 Train Acc top 1:  0.9992666666666667 Test Loss:  0.0009644650416332297 Test Acc top 1:  0.9758\n",
            "Train Acc top 5:  1.0 Test Acc top 5:  1.0\n",
            "\n"
          ]
        },
        {
          "metadata": {
            "tags": null
          },
          "name": "stderr",
          "output_type": "stream",
          "text": [
            "Training Epoch 24: 100%|██████████| 235/235 [00:21<00:00, 10.86batch/s, loss=3]\n",
            "Testing: 100%|██████████| 40/40 [00:02<00:00, 15.88batch/s, loss=0.129]\n"
          ]
        },
        {
          "metadata": {
            "tags": null
          },
          "name": "stdout",
          "output_type": "stream",
          "text": [
            "\n",
            "Epoch:  25 Train Loss:  0.02353557284673055 Train Acc top 1:  0.9990666666666668 Test Loss:  0.0010335095238871873 Test Acc top 1:  0.975\n",
            "Train Acc top 5:  1.0 Test Acc top 5:  1.0\n",
            "\n"
          ]
        },
        {
          "metadata": {
            "tags": null
          },
          "name": "stderr",
          "output_type": "stream",
          "text": [
            "Training Epoch 25: 100%|██████████| 235/235 [00:20<00:00, 11.36batch/s, loss=2.99]\n",
            "Testing: 100%|██████████| 40/40 [00:03<00:00, 12.62batch/s, loss=0.118]\n"
          ]
        },
        {
          "metadata": {
            "tags": null
          },
          "name": "stdout",
          "output_type": "stream",
          "text": [
            "\n",
            "Epoch:  26 Train Loss:  0.02338923511505127 Train Acc top 1:  0.9995333333333334 Test Loss:  0.0009466654412419302 Test Acc top 1:  0.9768\n",
            "Train Acc top 5:  1.0 Test Acc top 5:  1.0\n",
            "\n"
          ]
        },
        {
          "metadata": {
            "tags": null
          },
          "name": "stderr",
          "output_type": "stream",
          "text": [
            "Training Epoch 26: 100%|██████████| 235/235 [00:20<00:00, 11.62batch/s, loss=2.97]\n",
            "Testing: 100%|██████████| 40/40 [00:02<00:00, 15.66batch/s, loss=0.134]\n"
          ]
        },
        {
          "metadata": {
            "tags": null
          },
          "name": "stdout",
          "output_type": "stream",
          "text": [
            "\n",
            "Epoch:  27 Train Loss:  0.023259475835164387 Train Acc top 1:  0.9996333333333334 Test Loss:  0.0010719067636877299 Test Acc top 1:  0.978\n",
            "Train Acc top 5:  1.0 Test Acc top 5:  1.0\n",
            "\n"
          ]
        },
        {
          "metadata": {
            "tags": null
          },
          "name": "stderr",
          "output_type": "stream",
          "text": [
            "Training Epoch 27: 100%|██████████| 235/235 [00:21<00:00, 10.99batch/s, loss=2.95]\n",
            "Testing: 100%|██████████| 40/40 [00:02<00:00, 16.28batch/s, loss=0.124]\n"
          ]
        },
        {
          "metadata": {
            "tags": null
          },
          "name": "stdout",
          "output_type": "stream",
          "text": [
            "\n",
            "Epoch:  28 Train Loss:  0.023124580176671346 Train Acc top 1:  0.9998 Test Loss:  0.0009888846456000465 Test Acc top 1:  0.9768\n",
            "Train Acc top 5:  1.0 Test Acc top 5:  1.0\n",
            "\n"
          ]
        },
        {
          "metadata": {
            "tags": null
          },
          "name": "stderr",
          "output_type": "stream",
          "text": [
            "Training Epoch 28: 100%|██████████| 235/235 [00:21<00:00, 10.78batch/s, loss=2.93]\n",
            "Testing: 100%|██████████| 40/40 [00:02<00:00, 15.47batch/s, loss=0.111]\n"
          ]
        },
        {
          "metadata": {
            "tags": null
          },
          "name": "stdout",
          "output_type": "stream",
          "text": [
            "\n",
            "Epoch:  29 Train Loss:  0.022988029519716898 Train Acc top 1:  0.9999 Test Loss:  0.0008843765151832486 Test Acc top 1:  0.9776\n",
            "Train Acc top 5:  1.0 Test Acc top 5:  1.0\n",
            "\n"
          ]
        },
        {
          "metadata": {
            "tags": null
          },
          "name": "stderr",
          "output_type": "stream",
          "text": [
            "Training Epoch 29: 100%|██████████| 235/235 [00:21<00:00, 10.69batch/s, loss=2.92]\n",
            "Testing: 100%|██████████| 40/40 [00:02<00:00, 15.71batch/s, loss=0.122]"
          ]
        },
        {
          "metadata": {
            "tags": null
          },
          "name": "stdout",
          "output_type": "stream",
          "text": [
            "\n",
            "Epoch:  30 Train Loss:  0.02284832909901937 Train Acc top 1:  0.9997666666666667 Test Loss:  0.0009732598344358848 Test Acc top 1:  0.9772\n",
            "Train Acc top 5:  1.0 Test Acc top 5:  1.0\n",
            "\n"
          ]
        },
        {
          "metadata": {
            "tags": null
          },
          "name": "stderr",
          "output_type": "stream",
          "text": [
            "\n"
          ]
        },
        {
          "data": {
            "text/html": [
              "Waiting for W&B process to finish... <strong style=\"color:green\">(success).</strong>"
            ],
            "text/plain": [
              "<IPython.core.display.HTML object>"
            ]
          },
          "metadata": {},
          "output_type": "display_data"
        },
        {
          "data": {
            "text/html": [
              "<style>\n",
              "    table.wandb td:nth-child(1) { padding: 0 10px; text-align: left ; width: auto;} td:nth-child(2) {text-align: left ; width: 100%}\n",
              "    .wandb-row { display: flex; flex-direction: row; flex-wrap: wrap; justify-content: flex-start; width: 100% }\n",
              "    .wandb-col { display: flex; flex-direction: column; flex-basis: 100%; flex: 1; padding: 10px; }\n",
              "    </style>\n",
              "<div class=\"wandb-row\"><div class=\"wandb-col\"><h3>Run history:</h3><br/><table class=\"wandb\"><tr><td>epoch</td><td>▁▁▁▂▂▂▂▃▃▃▃▄▄▄▄▅▅▅▅▆▆▆▆▇▇▇▇███</td></tr><tr><td>test_acc</td><td>▃▂▃▇▅▃▃▁▆▃▁▇▄▆█▅▆▄█▆▁▂▂▃▁▅▇▅▆▆</td></tr><tr><td>test_loss</td><td>▄▃▇▃▂▃▂▂▁▂▂▂▁▄▂▃▂▃▂▂█▂▃▃▄▃▄▃▂▃</td></tr><tr><td>train_acc_top1</td><td>▄▅▄▂▄▂▄▄▅███▅▇▇▁▅▇██▆▇▅▃▂▅▆▇█▇</td></tr><tr><td>train_loss</td><td>██▇▇▇▇▆▆▆▆▅▅▅▅▄▄▄▄▄▃▃▃▃▂▂▂▂▁▁▁</td></tr></table><br/></div><div class=\"wandb-col\"><h3>Run summary:</h3><br/><table class=\"wandb\"><tr><td>epoch</td><td>29</td></tr><tr><td>test_acc</td><td>0.9772</td></tr><tr><td>test_loss</td><td>0.00097</td></tr><tr><td>train_acc_top1</td><td>0.99977</td></tr><tr><td>train_loss</td><td>2.91681</td></tr></table><br/></div></div>"
            ],
            "text/plain": [
              "<IPython.core.display.HTML object>"
            ]
          },
          "metadata": {},
          "output_type": "display_data"
        },
        {
          "data": {
            "text/html": [
              " View run <strong style=\"color:#cdcd00\">upbeat-sweep-4</strong> at: <a href='https://wandb.ai/mukul_dl/final_lab_8/runs/47yfvz61' target=\"_blank\">https://wandb.ai/mukul_dl/final_lab_8/runs/47yfvz61</a><br/>Synced 5 W&B file(s), 0 media file(s), 0 artifact file(s) and 0 other file(s)"
            ],
            "text/plain": [
              "<IPython.core.display.HTML object>"
            ]
          },
          "metadata": {},
          "output_type": "display_data"
        },
        {
          "data": {
            "text/html": [
              "Find logs at: <code>./wandb/run-20230417_135105-47yfvz61/logs</code>"
            ],
            "text/plain": [
              "<IPython.core.display.HTML object>"
            ]
          },
          "metadata": {},
          "output_type": "display_data"
        },
        {
          "metadata": {
            "tags": null
          },
          "name": "stderr",
          "output_type": "stream",
          "text": [
            "\u001b[34m\u001b[1mwandb\u001b[0m: Agent Starting Run: no6nfahw with config:\n",
            "\u001b[34m\u001b[1mwandb\u001b[0m: \tactivation: Softmax\n",
            "\u001b[34m\u001b[1mwandb\u001b[0m: \tlearning_rate: 3e-05\n",
            "\u001b[34m\u001b[1mwandb\u001b[0m: \toptimizer: SGD\n",
            "\u001b[34m\u001b[1mwandb\u001b[0m: \u001b[33mWARNING\u001b[0m Ignored wandb.init() arg project when running a sweep.\n"
          ]
        },
        {
          "data": {
            "text/html": [
              "Tracking run with wandb version 0.14.2"
            ],
            "text/plain": [
              "<IPython.core.display.HTML object>"
            ]
          },
          "metadata": {},
          "output_type": "display_data"
        },
        {
          "data": {
            "text/html": [
              "Run data is saved locally in <code>/content/wandb/run-20230417_140325-no6nfahw</code>"
            ],
            "text/plain": [
              "<IPython.core.display.HTML object>"
            ]
          },
          "metadata": {},
          "output_type": "display_data"
        },
        {
          "data": {
            "text/html": [
              "Syncing run <strong><a href='https://wandb.ai/mukul_dl/final_lab_8/runs/no6nfahw' target=\"_blank\">fresh-sweep-5</a></strong> to <a href='https://wandb.ai/mukul_dl/final_lab_8' target=\"_blank\">Weights & Biases</a> (<a href='https://wandb.me/run' target=\"_blank\">docs</a>)<br/>Sweep page: <a href='https://wandb.ai/mukul_dl/final_lab_8/sweeps/rxkozgms' target=\"_blank\">https://wandb.ai/mukul_dl/final_lab_8/sweeps/rxkozgms</a>"
            ],
            "text/plain": [
              "<IPython.core.display.HTML object>"
            ]
          },
          "metadata": {},
          "output_type": "display_data"
        },
        {
          "data": {
            "text/html": [
              " View project at <a href='https://wandb.ai/mukul_dl/final_lab_8' target=\"_blank\">https://wandb.ai/mukul_dl/final_lab_8</a>"
            ],
            "text/plain": [
              "<IPython.core.display.HTML object>"
            ]
          },
          "metadata": {},
          "output_type": "display_data"
        },
        {
          "data": {
            "text/html": [
              " View sweep at <a href='https://wandb.ai/mukul_dl/final_lab_8/sweeps/rxkozgms' target=\"_blank\">https://wandb.ai/mukul_dl/final_lab_8/sweeps/rxkozgms</a>"
            ],
            "text/plain": [
              "<IPython.core.display.HTML object>"
            ]
          },
          "metadata": {},
          "output_type": "display_data"
        },
        {
          "data": {
            "text/html": [
              " View run at <a href='https://wandb.ai/mukul_dl/final_lab_8/runs/no6nfahw' target=\"_blank\">https://wandb.ai/mukul_dl/final_lab_8/runs/no6nfahw</a>"
            ],
            "text/plain": [
              "<IPython.core.display.HTML object>"
            ]
          },
          "metadata": {},
          "output_type": "display_data"
        },
        {
          "metadata": {
            "tags": null
          },
          "name": "stderr",
          "output_type": "stream",
          "text": [
            "Training Epoch 0: 100%|██████████| 235/235 [00:21<00:00, 10.72batch/s, loss=2.91]\n",
            "Testing: 100%|██████████| 40/40 [00:02<00:00, 15.46batch/s, loss=0.12]\n"
          ]
        },
        {
          "metadata": {
            "tags": null
          },
          "name": "stdout",
          "output_type": "stream",
          "text": [
            "\n",
            "Epoch:  1 Train Loss:  0.022771870319048565 Train Acc top 1:  0.9998 Test Loss:  0.0009597591954381642 Test Acc top 1:  0.977\n",
            "Train Acc top 5:  1.0 Test Acc top 5:  1.0\n",
            "\n"
          ]
        },
        {
          "metadata": {
            "tags": null
          },
          "name": "stderr",
          "output_type": "stream",
          "text": [
            "Training Epoch 1: 100%|██████████| 235/235 [00:21<00:00, 10.84batch/s, loss=2.91]\n",
            "Testing: 100%|██████████| 40/40 [00:02<00:00, 14.08batch/s, loss=0.121]\n"
          ]
        },
        {
          "metadata": {
            "tags": null
          },
          "name": "stdout",
          "output_type": "stream",
          "text": [
            "\n",
            "Epoch:  2 Train Loss:  0.02276301638285319 Train Acc top 1:  1.0 Test Loss:  0.0009659087525680662 Test Acc top 1:  0.9778\n",
            "Train Acc top 5:  1.0 Test Acc top 5:  1.0\n",
            "\n"
          ]
        },
        {
          "metadata": {
            "tags": null
          },
          "name": "stderr",
          "output_type": "stream",
          "text": [
            "Training Epoch 2: 100%|██████████| 235/235 [00:20<00:00, 11.38batch/s, loss=2.91]\n",
            "Testing: 100%|██████████| 40/40 [00:03<00:00, 12.19batch/s, loss=0.117]\n"
          ]
        },
        {
          "metadata": {
            "tags": null
          },
          "name": "stdout",
          "output_type": "stream",
          "text": [
            "\n",
            "Epoch:  3 Train Loss:  0.022758111079533894 Train Acc top 1:  0.9998 Test Loss:  0.0009364957067198702 Test Acc top 1:  0.9786\n",
            "Train Acc top 5:  1.0 Test Acc top 5:  1.0\n",
            "\n"
          ]
        },
        {
          "metadata": {
            "tags": null
          },
          "name": "stderr",
          "output_type": "stream",
          "text": [
            "Training Epoch 3: 100%|██████████| 235/235 [00:20<00:00, 11.37batch/s, loss=2.9]\n",
            "Testing: 100%|██████████| 40/40 [00:02<00:00, 13.98batch/s, loss=0.119]\n"
          ]
        },
        {
          "metadata": {
            "tags": null
          },
          "name": "stdout",
          "output_type": "stream",
          "text": [
            "\n",
            "Epoch:  4 Train Loss:  0.022749859992663067 Train Acc top 1:  1.0 Test Loss:  0.0009506546754739247 Test Acc top 1:  0.9774\n",
            "Train Acc top 5:  1.0 Test Acc top 5:  1.0\n",
            "\n"
          ]
        },
        {
          "metadata": {
            "tags": null
          },
          "name": "stderr",
          "output_type": "stream",
          "text": [
            "Training Epoch 4: 100%|██████████| 235/235 [00:21<00:00, 11.04batch/s, loss=2.9]\n",
            "Testing: 100%|██████████| 40/40 [00:02<00:00, 15.45batch/s, loss=0.119]\n"
          ]
        },
        {
          "metadata": {
            "tags": null
          },
          "name": "stdout",
          "output_type": "stream",
          "text": [
            "\n",
            "Epoch:  5 Train Loss:  0.0227446124235789 Train Acc top 1:  0.9998333333333334 Test Loss:  0.0009546161080361344 Test Acc top 1:  0.9776\n",
            "Train Acc top 5:  1.0 Test Acc top 5:  1.0\n",
            "\n"
          ]
        },
        {
          "metadata": {
            "tags": null
          },
          "name": "stderr",
          "output_type": "stream",
          "text": [
            "Training Epoch 5: 100%|██████████| 235/235 [00:21<00:00, 10.79batch/s, loss=2.9]\n",
            "Testing: 100%|██████████| 40/40 [00:02<00:00, 15.64batch/s, loss=0.119]\n"
          ]
        },
        {
          "metadata": {
            "tags": null
          },
          "name": "stdout",
          "output_type": "stream",
          "text": [
            "\n",
            "Epoch:  6 Train Loss:  0.022737712001800536 Train Acc top 1:  0.9999333333333333 Test Loss:  0.0009547463371425692 Test Acc top 1:  0.978\n",
            "Train Acc top 5:  1.0 Test Acc top 5:  1.0\n",
            "\n"
          ]
        },
        {
          "metadata": {
            "tags": null
          },
          "name": "stderr",
          "output_type": "stream",
          "text": [
            "Training Epoch 6: 100%|██████████| 235/235 [00:21<00:00, 10.79batch/s, loss=2.9]\n",
            "Testing: 100%|██████████| 40/40 [00:02<00:00, 15.11batch/s, loss=0.117]\n"
          ]
        },
        {
          "metadata": {
            "tags": null
          },
          "name": "stdout",
          "output_type": "stream",
          "text": [
            "\n",
            "Epoch:  7 Train Loss:  0.022730794088045757 Train Acc top 1:  1.0 Test Loss:  0.0009388502110727131 Test Acc top 1:  0.9782\n",
            "Train Acc top 5:  1.0 Test Acc top 5:  1.0\n",
            "\n"
          ]
        },
        {
          "metadata": {
            "tags": null
          },
          "name": "stderr",
          "output_type": "stream",
          "text": [
            "Training Epoch 7: 100%|██████████| 235/235 [00:21<00:00, 10.99batch/s, loss=2.9]\n",
            "Testing: 100%|██████████| 40/40 [00:03<00:00, 12.89batch/s, loss=0.119]\n"
          ]
        },
        {
          "metadata": {
            "tags": null
          },
          "name": "stdout",
          "output_type": "stream",
          "text": [
            "\n",
            "Epoch:  8 Train Loss:  0.022724678699175518 Train Acc top 1:  0.9999333333333333 Test Loss:  0.000952815971520613 Test Acc top 1:  0.9772\n",
            "Train Acc top 5:  1.0 Test Acc top 5:  1.0\n",
            "\n"
          ]
        },
        {
          "metadata": {
            "tags": null
          },
          "name": "stderr",
          "output_type": "stream",
          "text": [
            "Training Epoch 8: 100%|██████████| 235/235 [00:20<00:00, 11.26batch/s, loss=2.9]\n",
            "Testing: 100%|██████████| 40/40 [00:03<00:00, 13.15batch/s, loss=0.123]\n"
          ]
        },
        {
          "metadata": {
            "tags": null
          },
          "name": "stdout",
          "output_type": "stream",
          "text": [
            "\n",
            "Epoch:  9 Train Loss:  0.022717757630348206 Train Acc top 1:  1.0 Test Loss:  0.000980939337098971 Test Acc top 1:  0.9782\n",
            "Train Acc top 5:  1.0 Test Acc top 5:  1.0\n",
            "\n"
          ]
        },
        {
          "metadata": {
            "tags": null
          },
          "name": "stderr",
          "output_type": "stream",
          "text": [
            "Training Epoch 9: 100%|██████████| 235/235 [00:21<00:00, 10.92batch/s, loss=2.9]\n",
            "Testing: 100%|██████████| 40/40 [00:02<00:00, 15.27batch/s, loss=0.148]\n"
          ]
        },
        {
          "metadata": {
            "tags": null
          },
          "name": "stdout",
          "output_type": "stream",
          "text": [
            "\n",
            "Epoch:  10 Train Loss:  0.022712593531608583 Train Acc top 1:  0.9999 Test Loss:  0.001181301750271814 Test Acc top 1:  0.9782\n",
            "Train Acc top 5:  1.0 Test Acc top 5:  1.0\n",
            "\n"
          ]
        },
        {
          "metadata": {
            "tags": null
          },
          "name": "stderr",
          "output_type": "stream",
          "text": [
            "Training Epoch 10: 100%|██████████| 235/235 [00:22<00:00, 10.55batch/s, loss=2.9]\n",
            "Testing: 100%|██████████| 40/40 [00:02<00:00, 15.47batch/s, loss=0.116]\n"
          ]
        },
        {
          "metadata": {
            "tags": null
          },
          "name": "stdout",
          "output_type": "stream",
          "text": [
            "\n",
            "Epoch:  11 Train Loss:  0.02270593137741089 Train Acc top 1:  0.9999333333333333 Test Loss:  0.0009248101215634961 Test Acc top 1:  0.9774\n",
            "Train Acc top 5:  1.0 Test Acc top 5:  1.0\n",
            "\n"
          ]
        },
        {
          "metadata": {
            "tags": null
          },
          "name": "stderr",
          "output_type": "stream",
          "text": [
            "Training Epoch 11: 100%|██████████| 235/235 [00:21<00:00, 10.92batch/s, loss=2.9]\n",
            "Testing: 100%|██████████| 40/40 [00:02<00:00, 15.47batch/s, loss=0.116]\n"
          ]
        },
        {
          "metadata": {
            "tags": null
          },
          "name": "stdout",
          "output_type": "stream",
          "text": [
            "\n",
            "Epoch:  12 Train Loss:  0.02269864486058553 Train Acc top 1:  1.0 Test Loss:  0.0009287612691550748 Test Acc top 1:  0.9772\n",
            "Train Acc top 5:  1.0 Test Acc top 5:  1.0\n",
            "\n"
          ]
        },
        {
          "metadata": {
            "tags": null
          },
          "name": "stderr",
          "output_type": "stream",
          "text": [
            "Training Epoch 12: 100%|██████████| 235/235 [00:21<00:00, 11.02batch/s, loss=2.9]\n",
            "Testing: 100%|██████████| 40/40 [00:02<00:00, 15.54batch/s, loss=0.117]\n"
          ]
        },
        {
          "metadata": {
            "tags": null
          },
          "name": "stdout",
          "output_type": "stream",
          "text": [
            "\n",
            "Epoch:  13 Train Loss:  0.022692488765716553 Train Acc top 1:  0.9999333333333333 Test Loss:  0.000932590566179715 Test Acc top 1:  0.978\n",
            "Train Acc top 5:  1.0 Test Acc top 5:  1.0\n",
            "\n"
          ]
        },
        {
          "metadata": {
            "tags": null
          },
          "name": "stderr",
          "output_type": "stream",
          "text": [
            "Training Epoch 13: 100%|██████████| 235/235 [00:20<00:00, 11.49batch/s, loss=2.9]\n",
            "Testing: 100%|██████████| 40/40 [00:03<00:00, 12.23batch/s, loss=0.116]\n"
          ]
        },
        {
          "metadata": {
            "tags": null
          },
          "name": "stdout",
          "output_type": "stream",
          "text": [
            "\n",
            "Epoch:  14 Train Loss:  0.022685306143760683 Train Acc top 1:  1.0 Test Loss:  0.0009296365911432076 Test Acc top 1:  0.978\n",
            "Train Acc top 5:  1.0 Test Acc top 5:  1.0\n",
            "\n"
          ]
        },
        {
          "metadata": {
            "tags": null
          },
          "name": "stderr",
          "output_type": "stream",
          "text": [
            "Training Epoch 14: 100%|██████████| 235/235 [00:20<00:00, 11.52batch/s, loss=2.9]\n",
            "Testing: 100%|██████████| 40/40 [00:02<00:00, 16.03batch/s, loss=0.116]\n"
          ]
        },
        {
          "metadata": {
            "tags": null
          },
          "name": "stdout",
          "output_type": "stream",
          "text": [
            "\n",
            "Epoch:  15 Train Loss:  0.022681860121091208 Train Acc top 1:  0.9999 Test Loss:  0.000926054610517167 Test Acc top 1:  0.9788\n",
            "Train Acc top 5:  1.0 Test Acc top 5:  1.0\n",
            "\n"
          ]
        },
        {
          "metadata": {
            "tags": null
          },
          "name": "stderr",
          "output_type": "stream",
          "text": [
            "Training Epoch 15: 100%|██████████| 235/235 [00:21<00:00, 10.79batch/s, loss=2.89]\n",
            "Testing: 100%|██████████| 40/40 [00:02<00:00, 15.69batch/s, loss=0.116]\n"
          ]
        },
        {
          "metadata": {
            "tags": null
          },
          "name": "stdout",
          "output_type": "stream",
          "text": [
            "\n",
            "Epoch:  16 Train Loss:  0.022674228970209757 Train Acc top 1:  0.9999666666666667 Test Loss:  0.0009259500742628006 Test Acc top 1:  0.9782\n",
            "Train Acc top 5:  1.0 Test Acc top 5:  1.0\n",
            "\n"
          ]
        },
        {
          "metadata": {
            "tags": null
          },
          "name": "stderr",
          "output_type": "stream",
          "text": [
            "Training Epoch 16: 100%|██████████| 235/235 [00:21<00:00, 10.81batch/s, loss=2.89]\n",
            "Testing: 100%|██████████| 40/40 [00:02<00:00, 15.68batch/s, loss=0.143]\n"
          ]
        },
        {
          "metadata": {
            "tags": null
          },
          "name": "stdout",
          "output_type": "stream",
          "text": [
            "\n",
            "Epoch:  17 Train Loss:  0.02266624862353007 Train Acc top 1:  1.0 Test Loss:  0.0011467562375124544 Test Acc top 1:  0.9784\n",
            "Train Acc top 5:  1.0 Test Acc top 5:  1.0\n",
            "\n"
          ]
        },
        {
          "metadata": {
            "tags": null
          },
          "name": "stderr",
          "output_type": "stream",
          "text": [
            "Training Epoch 17: 100%|██████████| 235/235 [00:21<00:00, 11.08batch/s, loss=2.89]\n",
            "Testing: 100%|██████████| 40/40 [00:02<00:00, 15.19batch/s, loss=0.117]\n"
          ]
        },
        {
          "metadata": {
            "tags": null
          },
          "name": "stdout",
          "output_type": "stream",
          "text": [
            "\n",
            "Epoch:  18 Train Loss:  0.02265941270987193 Train Acc top 1:  1.0 Test Loss:  0.0009331567852525041 Test Acc top 1:  0.9776\n",
            "Train Acc top 5:  1.0 Test Acc top 5:  1.0\n",
            "\n"
          ]
        },
        {
          "metadata": {
            "tags": null
          },
          "name": "stderr",
          "output_type": "stream",
          "text": [
            "Training Epoch 18: 100%|██████████| 235/235 [00:20<00:00, 11.38batch/s, loss=2.89]\n",
            "Testing: 100%|██████████| 40/40 [00:03<00:00, 12.27batch/s, loss=0.117]\n"
          ]
        },
        {
          "metadata": {
            "tags": null
          },
          "name": "stdout",
          "output_type": "stream",
          "text": [
            "\n",
            "Epoch:  19 Train Loss:  0.022653076815605164 Train Acc top 1:  1.0 Test Loss:  0.0009325367689481936 Test Acc top 1:  0.9778\n",
            "Train Acc top 5:  1.0 Test Acc top 5:  1.0\n",
            "\n"
          ]
        },
        {
          "metadata": {
            "tags": null
          },
          "name": "stderr",
          "output_type": "stream",
          "text": [
            "Training Epoch 19: 100%|██████████| 235/235 [00:20<00:00, 11.44batch/s, loss=2.89]\n",
            "Testing: 100%|██████████| 40/40 [00:02<00:00, 15.51batch/s, loss=0.116]\n"
          ]
        },
        {
          "metadata": {
            "tags": null
          },
          "name": "stdout",
          "output_type": "stream",
          "text": [
            "\n",
            "Epoch:  20 Train Loss:  0.022646846373875935 Train Acc top 1:  1.0 Test Loss:  0.000930299668572843 Test Acc top 1:  0.9778\n",
            "Train Acc top 5:  1.0 Test Acc top 5:  1.0\n",
            "\n"
          ]
        },
        {
          "metadata": {
            "tags": null
          },
          "name": "stderr",
          "output_type": "stream",
          "text": [
            "Training Epoch 20: 100%|██████████| 235/235 [00:21<00:00, 10.94batch/s, loss=2.89]\n",
            "Testing: 100%|██████████| 40/40 [00:02<00:00, 15.36batch/s, loss=0.114]\n"
          ]
        },
        {
          "metadata": {
            "tags": null
          },
          "name": "stdout",
          "output_type": "stream",
          "text": [
            "\n",
            "Epoch:  21 Train Loss:  0.02264049301147461 Train Acc top 1:  1.0 Test Loss:  0.0009141135581303387 Test Acc top 1:  0.978\n",
            "Train Acc top 5:  1.0 Test Acc top 5:  1.0\n",
            "\n"
          ]
        },
        {
          "metadata": {
            "tags": null
          },
          "name": "stderr",
          "output_type": "stream",
          "text": [
            "Training Epoch 21: 100%|██████████| 235/235 [00:21<00:00, 10.90batch/s, loss=2.89]\n",
            "Testing: 100%|██████████| 40/40 [00:02<00:00, 16.06batch/s, loss=0.118]\n"
          ]
        },
        {
          "metadata": {
            "tags": null
          },
          "name": "stdout",
          "output_type": "stream",
          "text": [
            "\n",
            "Epoch:  22 Train Loss:  0.022634284710884096 Train Acc top 1:  1.0 Test Loss:  0.0009471521499188385 Test Acc top 1:  0.9786\n",
            "Train Acc top 5:  1.0 Test Acc top 5:  1.0\n",
            "\n"
          ]
        },
        {
          "metadata": {
            "tags": null
          },
          "name": "stderr",
          "output_type": "stream",
          "text": [
            "Training Epoch 22: 100%|██████████| 235/235 [00:21<00:00, 10.97batch/s, loss=2.89]\n",
            "Testing: 100%|██████████| 40/40 [00:02<00:00, 14.96batch/s, loss=0.115]\n"
          ]
        },
        {
          "metadata": {
            "tags": null
          },
          "name": "stdout",
          "output_type": "stream",
          "text": [
            "\n",
            "Epoch:  23 Train Loss:  0.022627796006202697 Train Acc top 1:  1.0 Test Loss:  0.000916155736905057 Test Acc top 1:  0.9778\n",
            "Train Acc top 5:  1.0 Test Acc top 5:  1.0\n",
            "\n"
          ]
        },
        {
          "metadata": {
            "tags": null
          },
          "name": "stderr",
          "output_type": "stream",
          "text": [
            "Training Epoch 23: 100%|██████████| 235/235 [00:20<00:00, 11.50batch/s, loss=2.89]\n",
            "Testing: 100%|██████████| 40/40 [00:03<00:00, 11.99batch/s, loss=0.117]\n"
          ]
        },
        {
          "metadata": {
            "tags": null
          },
          "name": "stdout",
          "output_type": "stream",
          "text": [
            "\n",
            "Epoch:  24 Train Loss:  0.022621461780865985 Train Acc top 1:  1.0 Test Loss:  0.0009327552607843245 Test Acc top 1:  0.9774\n",
            "Train Acc top 5:  1.0 Test Acc top 5:  1.0\n",
            "\n"
          ]
        },
        {
          "metadata": {
            "tags": null
          },
          "name": "stderr",
          "output_type": "stream",
          "text": [
            "Training Epoch 24: 100%|██████████| 235/235 [00:20<00:00, 11.39batch/s, loss=2.89]\n",
            "Testing: 100%|██████████| 40/40 [00:02<00:00, 16.10batch/s, loss=0.122]\n"
          ]
        },
        {
          "metadata": {
            "tags": null
          },
          "name": "stdout",
          "output_type": "stream",
          "text": [
            "\n",
            "Epoch:  25 Train Loss:  0.022614622044563295 Train Acc top 1:  1.0 Test Loss:  0.0009744110092520713 Test Acc top 1:  0.9776\n",
            "Train Acc top 5:  1.0 Test Acc top 5:  1.0\n",
            "\n"
          ]
        },
        {
          "metadata": {
            "tags": null
          },
          "name": "stderr",
          "output_type": "stream",
          "text": [
            "Training Epoch 25: 100%|██████████| 235/235 [00:21<00:00, 11.03batch/s, loss=2.89]\n",
            "Testing: 100%|██████████| 40/40 [00:02<00:00, 15.39batch/s, loss=0.115]\n"
          ]
        },
        {
          "metadata": {
            "tags": null
          },
          "name": "stdout",
          "output_type": "stream",
          "text": [
            "\n",
            "Epoch:  26 Train Loss:  0.02260918840567271 Train Acc top 1:  0.9999666666666667 Test Loss:  0.0009229608938127057 Test Acc top 1:  0.9776\n",
            "Train Acc top 5:  1.0 Test Acc top 5:  1.0\n",
            "\n"
          ]
        },
        {
          "metadata": {
            "tags": null
          },
          "name": "stderr",
          "output_type": "stream",
          "text": [
            "Training Epoch 26: 100%|██████████| 235/235 [00:21<00:00, 10.98batch/s, loss=2.89]\n",
            "Testing: 100%|██████████| 40/40 [00:02<00:00, 15.31batch/s, loss=0.118]\n"
          ]
        },
        {
          "metadata": {
            "tags": null
          },
          "name": "stdout",
          "output_type": "stream",
          "text": [
            "\n",
            "Epoch:  27 Train Loss:  0.022603606605529784 Train Acc top 1:  0.9999333333333333 Test Loss:  0.0009404096544487402 Test Acc top 1:  0.9776\n",
            "Train Acc top 5:  1.0 Test Acc top 5:  1.0\n",
            "\n"
          ]
        },
        {
          "metadata": {
            "tags": null
          },
          "name": "stderr",
          "output_type": "stream",
          "text": [
            "Training Epoch 27: 100%|██████████| 235/235 [00:21<00:00, 11.08batch/s, loss=2.88]\n",
            "Testing: 100%|██████████| 40/40 [00:02<00:00, 13.42batch/s, loss=0.116]\n"
          ]
        },
        {
          "metadata": {
            "tags": null
          },
          "name": "stdout",
          "output_type": "stream",
          "text": [
            "\n",
            "Epoch:  28 Train Loss:  0.022596643304824828 Train Acc top 1:  0.9999 Test Loss:  0.0009319406310009071 Test Acc top 1:  0.9784\n",
            "Train Acc top 5:  1.0 Test Acc top 5:  1.0\n",
            "\n"
          ]
        },
        {
          "metadata": {
            "tags": null
          },
          "name": "stderr",
          "output_type": "stream",
          "text": [
            "Training Epoch 28: 100%|██████████| 235/235 [00:20<00:00, 11.40batch/s, loss=2.88]\n",
            "Testing: 100%|██████████| 40/40 [00:02<00:00, 13.37batch/s, loss=0.119]\n"
          ]
        },
        {
          "metadata": {
            "tags": null
          },
          "name": "stdout",
          "output_type": "stream",
          "text": [
            "\n",
            "Epoch:  29 Train Loss:  0.02259041515191396 Train Acc top 1:  0.9999666666666667 Test Loss:  0.0009542846980049944 Test Acc top 1:  0.9772\n",
            "Train Acc top 5:  1.0 Test Acc top 5:  1.0\n",
            "\n"
          ]
        },
        {
          "metadata": {
            "tags": null
          },
          "name": "stderr",
          "output_type": "stream",
          "text": [
            "Training Epoch 29: 100%|██████████| 235/235 [00:20<00:00, 11.27batch/s, loss=2.88]\n",
            "Testing: 100%|██████████| 40/40 [00:02<00:00, 15.44batch/s, loss=0.116]"
          ]
        },
        {
          "metadata": {
            "tags": null
          },
          "name": "stdout",
          "output_type": "stream",
          "text": [
            "\n",
            "Epoch:  30 Train Loss:  0.02258365093866984 Train Acc top 1:  0.9999333333333333 Test Loss:  0.0009317018347908743 Test Acc top 1:  0.9776\n",
            "Train Acc top 5:  1.0 Test Acc top 5:  1.0\n",
            "\n"
          ]
        },
        {
          "metadata": {
            "tags": null
          },
          "name": "stderr",
          "output_type": "stream",
          "text": [
            "\n"
          ]
        },
        {
          "data": {
            "text/html": [
              "Waiting for W&B process to finish... <strong style=\"color:green\">(success).</strong>"
            ],
            "text/plain": [
              "<IPython.core.display.HTML object>"
            ]
          },
          "metadata": {},
          "output_type": "display_data"
        },
        {
          "data": {
            "application/vnd.jupyter.widget-view+json": {
              "model_id": "b0f708d0e3b24ea6b69b3b0522e0bfcf",
              "version_major": 2,
              "version_minor": 0
            },
            "text/plain": [
              "VBox(children=(Label(value='0.001 MB of 0.001 MB uploaded (0.000 MB deduped)\\r'), FloatProgress(value=1.0, max…"
            ]
          },
          "metadata": {},
          "output_type": "display_data"
        },
        {
          "data": {
            "text/html": [
              "<style>\n",
              "    table.wandb td:nth-child(1) { padding: 0 10px; text-align: left ; width: auto;} td:nth-child(2) {text-align: left ; width: 100%}\n",
              "    .wandb-row { display: flex; flex-direction: row; flex-wrap: wrap; justify-content: flex-start; width: 100% }\n",
              "    .wandb-col { display: flex; flex-direction: column; flex-basis: 100%; flex: 1; padding: 10px; }\n",
              "    </style>\n",
              "<div class=\"wandb-row\"><div class=\"wandb-col\"><h3>Run history:</h3><br/><table class=\"wandb\"><tr><td>epoch</td><td>▁▁▁▂▂▂▂▃▃▃▃▄▄▄▄▅▅▅▅▆▆▆▆▇▇▇▇███</td></tr><tr><td>test_acc</td><td>▁▄▇▃▃▅▆▂▆▆▃▂▅▅█▆▆▃▄▄▅▇▄▃▃▃▃▆▂▃</td></tr><tr><td>test_loss</td><td>▂▂▂▂▂▂▂▂▃█▁▁▁▁▁▁▇▁▁▁▁▂▁▁▃▁▂▁▂▁</td></tr><tr><td>train_acc_top1</td><td>▁█▁█▂▆█▆█▄▆█▆█▄▇█████████▇▆▄▇▆</td></tr><tr><td>train_loss</td><td>██▇▇▇▇▆▆▆▆▆▅▅▅▅▄▄▄▄▃▃▃▃▂▂▂▂▁▁▁</td></tr></table><br/></div><div class=\"wandb-col\"><h3>Run summary:</h3><br/><table class=\"wandb\"><tr><td>epoch</td><td>29</td></tr><tr><td>test_acc</td><td>0.9776</td></tr><tr><td>test_loss</td><td>0.00093</td></tr><tr><td>train_acc_top1</td><td>0.99993</td></tr><tr><td>train_loss</td><td>2.88302</td></tr></table><br/></div></div>"
            ],
            "text/plain": [
              "<IPython.core.display.HTML object>"
            ]
          },
          "metadata": {},
          "output_type": "display_data"
        },
        {
          "data": {
            "text/html": [
              " View run <strong style=\"color:#cdcd00\">fresh-sweep-5</strong> at: <a href='https://wandb.ai/mukul_dl/final_lab_8/runs/no6nfahw' target=\"_blank\">https://wandb.ai/mukul_dl/final_lab_8/runs/no6nfahw</a><br/>Synced 5 W&B file(s), 0 media file(s), 0 artifact file(s) and 0 other file(s)"
            ],
            "text/plain": [
              "<IPython.core.display.HTML object>"
            ]
          },
          "metadata": {},
          "output_type": "display_data"
        },
        {
          "data": {
            "text/html": [
              "Find logs at: <code>./wandb/run-20230417_140325-no6nfahw/logs</code>"
            ],
            "text/plain": [
              "<IPython.core.display.HTML object>"
            ]
          },
          "metadata": {},
          "output_type": "display_data"
        },
        {
          "metadata": {
            "tags": null
          },
          "name": "stderr",
          "output_type": "stream",
          "text": [
            "\u001b[34m\u001b[1mwandb\u001b[0m: Agent Starting Run: gdpdw898 with config:\n",
            "\u001b[34m\u001b[1mwandb\u001b[0m: \tactivation: Softmax\n",
            "\u001b[34m\u001b[1mwandb\u001b[0m: \tlearning_rate: 0.0003\n",
            "\u001b[34m\u001b[1mwandb\u001b[0m: \toptimizer: RMSprop\n",
            "\u001b[34m\u001b[1mwandb\u001b[0m: \u001b[33mWARNING\u001b[0m Ignored wandb.init() arg project when running a sweep.\n"
          ]
        },
        {
          "data": {
            "text/html": [
              "Tracking run with wandb version 0.14.2"
            ],
            "text/plain": [
              "<IPython.core.display.HTML object>"
            ]
          },
          "metadata": {},
          "output_type": "display_data"
        },
        {
          "data": {
            "text/html": [
              "Run data is saved locally in <code>/content/wandb/run-20230417_141541-gdpdw898</code>"
            ],
            "text/plain": [
              "<IPython.core.display.HTML object>"
            ]
          },
          "metadata": {},
          "output_type": "display_data"
        },
        {
          "data": {
            "text/html": [
              "Syncing run <strong><a href='https://wandb.ai/mukul_dl/final_lab_8/runs/gdpdw898' target=\"_blank\">fiery-sweep-6</a></strong> to <a href='https://wandb.ai/mukul_dl/final_lab_8' target=\"_blank\">Weights & Biases</a> (<a href='https://wandb.me/run' target=\"_blank\">docs</a>)<br/>Sweep page: <a href='https://wandb.ai/mukul_dl/final_lab_8/sweeps/rxkozgms' target=\"_blank\">https://wandb.ai/mukul_dl/final_lab_8/sweeps/rxkozgms</a>"
            ],
            "text/plain": [
              "<IPython.core.display.HTML object>"
            ]
          },
          "metadata": {},
          "output_type": "display_data"
        },
        {
          "data": {
            "text/html": [
              " View project at <a href='https://wandb.ai/mukul_dl/final_lab_8' target=\"_blank\">https://wandb.ai/mukul_dl/final_lab_8</a>"
            ],
            "text/plain": [
              "<IPython.core.display.HTML object>"
            ]
          },
          "metadata": {},
          "output_type": "display_data"
        },
        {
          "data": {
            "text/html": [
              " View sweep at <a href='https://wandb.ai/mukul_dl/final_lab_8/sweeps/rxkozgms' target=\"_blank\">https://wandb.ai/mukul_dl/final_lab_8/sweeps/rxkozgms</a>"
            ],
            "text/plain": [
              "<IPython.core.display.HTML object>"
            ]
          },
          "metadata": {},
          "output_type": "display_data"
        },
        {
          "data": {
            "text/html": [
              " View run at <a href='https://wandb.ai/mukul_dl/final_lab_8/runs/gdpdw898' target=\"_blank\">https://wandb.ai/mukul_dl/final_lab_8/runs/gdpdw898</a>"
            ],
            "text/plain": [
              "<IPython.core.display.HTML object>"
            ]
          },
          "metadata": {},
          "output_type": "display_data"
        },
        {
          "metadata": {
            "tags": null
          },
          "name": "stderr",
          "output_type": "stream",
          "text": [
            "Training Epoch 0: 100%|██████████| 235/235 [00:21<00:00, 11.05batch/s, loss=2.66]\n",
            "Testing: 100%|██████████| 40/40 [00:02<00:00, 13.43batch/s, loss=0.391]\n"
          ]
        },
        {
          "metadata": {
            "tags": null
          },
          "name": "stdout",
          "output_type": "stream",
          "text": [
            "\n",
            "Epoch:  1 Train Loss:  0.020832437372207642 Train Acc top 1:  0.9538000000000001 Test Loss:  0.003126038897037506 Test Acc top 1:  0.8476\n",
            "Train Acc top 5:  1.0 Test Acc top 5:  1.0\n",
            "\n"
          ]
        },
        {
          "metadata": {
            "tags": null
          },
          "name": "stderr",
          "output_type": "stream",
          "text": [
            "Training Epoch 1: 100%|██████████| 235/235 [00:21<00:00, 10.96batch/s, loss=2.19]\n",
            "Testing: 100%|██████████| 40/40 [00:02<00:00, 15.13batch/s, loss=0.409]\n"
          ]
        },
        {
          "metadata": {
            "tags": null
          },
          "name": "stdout",
          "output_type": "stream",
          "text": [
            "\n",
            "Epoch:  2 Train Loss:  0.01711990437110265 Train Acc top 1:  0.9732666666666667 Test Loss:  0.003271273916959763 Test Acc top 1:  0.8468\n",
            "Train Acc top 5:  1.0 Test Acc top 5:  1.0\n",
            "\n"
          ]
        },
        {
          "metadata": {
            "tags": null
          },
          "name": "stderr",
          "output_type": "stream",
          "text": [
            "Training Epoch 2: 100%|██████████| 235/235 [00:22<00:00, 10.65batch/s, loss=1.83]\n",
            "Testing: 100%|██████████| 40/40 [00:02<00:00, 15.77batch/s, loss=0.123]\n"
          ]
        },
        {
          "metadata": {
            "tags": null
          },
          "name": "stdout",
          "output_type": "stream",
          "text": [
            "\n",
            "Epoch:  3 Train Loss:  0.014365426361560822 Train Acc top 1:  0.9757666666666667 Test Loss:  0.0009837888304144145 Test Acc top 1:  0.9526\n",
            "Train Acc top 5:  1.0 Test Acc top 5:  1.0\n",
            "\n"
          ]
        },
        {
          "metadata": {
            "tags": null
          },
          "name": "stderr",
          "output_type": "stream",
          "text": [
            "Training Epoch 3: 100%|██████████| 235/235 [00:21<00:00, 10.89batch/s, loss=1.56]\n",
            "Testing: 100%|██████████| 40/40 [00:02<00:00, 15.84batch/s, loss=0.064]\n"
          ]
        },
        {
          "metadata": {
            "tags": null
          },
          "name": "stdout",
          "output_type": "stream",
          "text": [
            "\n",
            "Epoch:  4 Train Loss:  0.01218843022187551 Train Acc top 1:  0.9780333333333334 Test Loss:  0.0005117093491367996 Test Acc top 1:  0.9752\n",
            "Train Acc top 5:  1.0 Test Acc top 5:  1.0\n",
            "\n"
          ]
        },
        {
          "metadata": {
            "tags": null
          },
          "name": "stderr",
          "output_type": "stream",
          "text": [
            "Training Epoch 4: 100%|██████████| 235/235 [00:21<00:00, 10.84batch/s, loss=1.34]\n",
            "Testing: 100%|██████████| 40/40 [00:02<00:00, 14.59batch/s, loss=0.0999]\n"
          ]
        },
        {
          "metadata": {
            "tags": null
          },
          "name": "stdout",
          "output_type": "stream",
          "text": [
            "\n",
            "Epoch:  5 Train Loss:  0.010469592102368672 Train Acc top 1:  0.9825333333333334 Test Loss:  0.0007994918108684943 Test Acc top 1:  0.9674\n",
            "Train Acc top 5:  1.0 Test Acc top 5:  1.0\n",
            "\n"
          ]
        },
        {
          "metadata": {
            "tags": null
          },
          "name": "stderr",
          "output_type": "stream",
          "text": [
            "Training Epoch 5: 100%|██████████| 235/235 [00:21<00:00, 11.17batch/s, loss=1.16]\n",
            "Testing: 100%|██████████| 40/40 [00:03<00:00, 12.14batch/s, loss=0.0674]\n"
          ]
        },
        {
          "metadata": {
            "tags": null
          },
          "name": "stdout",
          "output_type": "stream",
          "text": [
            "\n",
            "Epoch:  6 Train Loss:  0.009123331801096599 Train Acc top 1:  0.9830666666666668 Test Loss:  0.0005395861416123808 Test Acc top 1:  0.9782\n",
            "Train Acc top 5:  1.0 Test Acc top 5:  1.0\n",
            "\n"
          ]
        },
        {
          "metadata": {
            "tags": null
          },
          "name": "stderr",
          "output_type": "stream",
          "text": [
            "Training Epoch 6: 100%|██████████| 235/235 [00:20<00:00, 11.30batch/s, loss=1.02]\n",
            "Testing: 100%|██████████| 40/40 [00:02<00:00, 15.27batch/s, loss=0.14]\n"
          ]
        },
        {
          "metadata": {
            "tags": null
          },
          "name": "stdout",
          "output_type": "stream",
          "text": [
            "\n",
            "Epoch:  7 Train Loss:  0.008013561934232711 Train Acc top 1:  0.9852000000000001 Test Loss:  0.0011185916126705707 Test Acc top 1:  0.9608\n",
            "Train Acc top 5:  1.0 Test Acc top 5:  1.0\n",
            "\n"
          ]
        },
        {
          "metadata": {
            "tags": null
          },
          "name": "stderr",
          "output_type": "stream",
          "text": [
            "Training Epoch 7: 100%|██████████| 235/235 [00:21<00:00, 10.89batch/s, loss=0.906]\n",
            "Testing: 100%|██████████| 40/40 [00:02<00:00, 15.79batch/s, loss=0.0532]\n"
          ]
        },
        {
          "metadata": {
            "tags": null
          },
          "name": "stdout",
          "output_type": "stream",
          "text": [
            "\n",
            "Epoch:  8 Train Loss:  0.007100823402404785 Train Acc top 1:  0.9854333333333334 Test Loss:  0.0004252793846419081 Test Acc top 1:  0.9814\n",
            "Train Acc top 5:  1.0 Test Acc top 5:  1.0\n",
            "\n"
          ]
        },
        {
          "metadata": {
            "tags": null
          },
          "name": "stderr",
          "output_type": "stream",
          "text": [
            "Training Epoch 8: 100%|██████████| 235/235 [00:21<00:00, 10.87batch/s, loss=0.8]\n",
            "Testing: 100%|██████████| 40/40 [00:02<00:00, 14.76batch/s, loss=0.0614]\n"
          ]
        },
        {
          "metadata": {
            "tags": null
          },
          "name": "stdout",
          "output_type": "stream",
          "text": [
            "\n",
            "Epoch:  9 Train Loss:  0.00626400150458018 Train Acc top 1:  0.9872000000000001 Test Loss:  0.0004912936170585454 Test Acc top 1:  0.9798\n",
            "Train Acc top 5:  1.0 Test Acc top 5:  1.0\n",
            "\n"
          ]
        },
        {
          "metadata": {
            "tags": null
          },
          "name": "stderr",
          "output_type": "stream",
          "text": [
            "Training Epoch 9: 100%|██████████| 235/235 [00:21<00:00, 10.91batch/s, loss=0.703]\n",
            "Testing: 100%|██████████| 40/40 [00:02<00:00, 14.81batch/s, loss=0.113]\n"
          ]
        },
        {
          "metadata": {
            "tags": null
          },
          "name": "stdout",
          "output_type": "stream",
          "text": [
            "\n",
            "Epoch:  10 Train Loss:  0.005509189134836197 Train Acc top 1:  0.9878666666666667 Test Loss:  0.0009021980259567499 Test Acc top 1:  0.9684\n",
            "Train Acc top 5:  1.0 Test Acc top 5:  1.0\n",
            "\n"
          ]
        },
        {
          "metadata": {
            "tags": null
          },
          "name": "stderr",
          "output_type": "stream",
          "text": [
            "Training Epoch 10: 100%|██████████| 235/235 [00:21<00:00, 11.18batch/s, loss=0.619]\n",
            "Testing: 100%|██████████| 40/40 [00:03<00:00, 11.68batch/s, loss=0.0561]\n"
          ]
        },
        {
          "metadata": {
            "tags": null
          },
          "name": "stdout",
          "output_type": "stream",
          "text": [
            "\n",
            "Epoch:  11 Train Loss:  0.004852544961373011 Train Acc top 1:  0.9898333333333333 Test Loss:  0.00044857154916971923 Test Acc top 1:  0.9816\n",
            "Train Acc top 5:  1.0 Test Acc top 5:  1.0\n",
            "\n"
          ]
        },
        {
          "metadata": {
            "tags": null
          },
          "name": "stderr",
          "output_type": "stream",
          "text": [
            "Training Epoch 11: 100%|██████████| 235/235 [00:21<00:00, 11.19batch/s, loss=0.547]\n",
            "Testing: 100%|██████████| 40/40 [00:02<00:00, 13.89batch/s, loss=0.0786]\n"
          ]
        },
        {
          "metadata": {
            "tags": null
          },
          "name": "stdout",
          "output_type": "stream",
          "text": [
            "\n",
            "Epoch:  12 Train Loss:  0.004287841615080833 Train Acc top 1:  0.9887666666666667 Test Loss:  0.0006287302780197934 Test Acc top 1:  0.9762\n",
            "Train Acc top 5:  1.0 Test Acc top 5:  1.0\n",
            "\n"
          ]
        },
        {
          "metadata": {
            "tags": null
          },
          "name": "stderr",
          "output_type": "stream",
          "text": [
            "Training Epoch 12: 100%|██████████| 235/235 [00:21<00:00, 10.77batch/s, loss=0.48]\n",
            "Testing: 100%|██████████| 40/40 [00:02<00:00, 15.35batch/s, loss=0.0719]\n"
          ]
        },
        {
          "metadata": {
            "tags": null
          },
          "name": "stdout",
          "output_type": "stream",
          "text": [
            "\n",
            "Epoch:  13 Train Loss:  0.003758290268977483 Train Acc top 1:  0.9899 Test Loss:  0.0005748366160783917 Test Acc top 1:  0.9738\n",
            "Train Acc top 5:  1.0 Test Acc top 5:  1.0\n",
            "\n"
          ]
        },
        {
          "metadata": {
            "tags": null
          },
          "name": "stderr",
          "output_type": "stream",
          "text": [
            "Training Epoch 13: 100%|██████████| 235/235 [00:21<00:00, 10.89batch/s, loss=0.417]\n",
            "Testing: 100%|██████████| 40/40 [00:02<00:00, 15.48batch/s, loss=0.0709]\n"
          ]
        },
        {
          "metadata": {
            "tags": null
          },
          "name": "stdout",
          "output_type": "stream",
          "text": [
            "\n",
            "Epoch:  14 Train Loss:  0.0032691547890504203 Train Acc top 1:  0.9914333333333334 Test Loss:  0.0005675866719800979 Test Acc top 1:  0.9778\n",
            "Train Acc top 5:  1.0 Test Acc top 5:  1.0\n",
            "\n"
          ]
        },
        {
          "metadata": {
            "tags": null
          },
          "name": "stderr",
          "output_type": "stream",
          "text": [
            "Training Epoch 14: 100%|██████████| 235/235 [00:21<00:00, 10.76batch/s, loss=0.364]\n",
            "Testing: 100%|██████████| 40/40 [00:02<00:00, 15.21batch/s, loss=0.0644]\n"
          ]
        },
        {
          "metadata": {
            "tags": null
          },
          "name": "stdout",
          "output_type": "stream",
          "text": [
            "\n",
            "Epoch:  15 Train Loss:  0.0028488803376754126 Train Acc top 1:  0.9918666666666667 Test Loss:  0.0005153015656396747 Test Acc top 1:  0.9812\n",
            "Train Acc top 5:  1.0 Test Acc top 5:  1.0\n",
            "\n"
          ]
        },
        {
          "metadata": {
            "tags": null
          },
          "name": "stderr",
          "output_type": "stream",
          "text": [
            "Training Epoch 15: 100%|██████████| 235/235 [00:21<00:00, 11.15batch/s, loss=0.317]\n",
            "Testing: 100%|██████████| 40/40 [00:02<00:00, 13.87batch/s, loss=0.142]\n"
          ]
        },
        {
          "metadata": {
            "tags": null
          },
          "name": "stdout",
          "output_type": "stream",
          "text": [
            "\n",
            "Epoch:  16 Train Loss:  0.0024821212083101273 Train Acc top 1:  0.9916333333333334 Test Loss:  0.0011395049726357683 Test Acc top 1:  0.9614\n",
            "Train Acc top 5:  1.0 Test Acc top 5:  1.0\n",
            "\n"
          ]
        },
        {
          "metadata": {
            "tags": null
          },
          "name": "stderr",
          "output_type": "stream",
          "text": [
            "Training Epoch 16: 100%|██████████| 235/235 [00:20<00:00, 11.50batch/s, loss=0.278]\n",
            "Testing: 100%|██████████| 40/40 [00:03<00:00, 12.47batch/s, loss=0.166]\n"
          ]
        },
        {
          "metadata": {
            "tags": null
          },
          "name": "stdout",
          "output_type": "stream",
          "text": [
            "\n",
            "Epoch:  17 Train Loss:  0.0021782168904940285 Train Acc top 1:  0.9920333333333334 Test Loss:  0.0013253086999058723 Test Acc top 1:  0.9608\n",
            "Train Acc top 5:  1.0 Test Acc top 5:  1.0\n",
            "\n"
          ]
        },
        {
          "metadata": {
            "tags": null
          },
          "name": "stderr",
          "output_type": "stream",
          "text": [
            "Training Epoch 17: 100%|██████████| 235/235 [00:21<00:00, 10.79batch/s, loss=0.242]\n",
            "Testing: 100%|██████████| 40/40 [00:02<00:00, 15.62batch/s, loss=0.0647]\n"
          ]
        },
        {
          "metadata": {
            "tags": null
          },
          "name": "stdout",
          "output_type": "stream",
          "text": [
            "\n",
            "Epoch:  18 Train Loss:  0.0018947830920418103 Train Acc top 1:  0.9934000000000001 Test Loss:  0.0005178418173920363 Test Acc top 1:  0.9816\n",
            "Train Acc top 5:  1.0 Test Acc top 5:  1.0\n",
            "\n"
          ]
        },
        {
          "metadata": {
            "tags": null
          },
          "name": "stderr",
          "output_type": "stream",
          "text": [
            "Training Epoch 18: 100%|██████████| 235/235 [00:21<00:00, 10.79batch/s, loss=0.214]\n",
            "Testing: 100%|██████████| 40/40 [00:02<00:00, 15.79batch/s, loss=0.0836]\n"
          ]
        },
        {
          "metadata": {
            "tags": null
          },
          "name": "stdout",
          "output_type": "stream",
          "text": [
            "\n",
            "Epoch:  19 Train Loss:  0.001676101864874363 Train Acc top 1:  0.9931000000000001 Test Loss:  0.0006686884440481663 Test Acc top 1:  0.9754\n",
            "Train Acc top 5:  1.0 Test Acc top 5:  1.0\n",
            "\n"
          ]
        },
        {
          "metadata": {
            "tags": null
          },
          "name": "stderr",
          "output_type": "stream",
          "text": [
            "Training Epoch 19: 100%|██████████| 235/235 [00:21<00:00, 10.93batch/s, loss=0.192]\n",
            "Testing: 100%|██████████| 40/40 [00:02<00:00, 15.41batch/s, loss=0.075]\n"
          ]
        },
        {
          "metadata": {
            "tags": null
          },
          "name": "stdout",
          "output_type": "stream",
          "text": [
            "\n",
            "Epoch:  20 Train Loss:  0.0015041363989313444 Train Acc top 1:  0.9928666666666667 Test Loss:  0.0006000604804605246 Test Acc top 1:  0.9778\n",
            "Train Acc top 5:  1.0 Test Acc top 5:  1.0\n",
            "\n"
          ]
        },
        {
          "metadata": {
            "tags": null
          },
          "name": "stderr",
          "output_type": "stream",
          "text": [
            "Training Epoch 20: 100%|██████████| 235/235 [00:21<00:00, 10.72batch/s, loss=0.175]\n",
            "Testing: 100%|██████████| 40/40 [00:02<00:00, 15.04batch/s, loss=0.0682]\n"
          ]
        },
        {
          "metadata": {
            "tags": null
          },
          "name": "stdout",
          "output_type": "stream",
          "text": [
            "\n",
            "Epoch:  21 Train Loss:  0.0013671076128880183 Train Acc top 1:  0.9931666666666668 Test Loss:  0.0005458740756846965 Test Acc top 1:  0.9776\n",
            "Train Acc top 5:  1.0 Test Acc top 5:  1.0\n",
            "\n"
          ]
        },
        {
          "metadata": {
            "tags": null
          },
          "name": "stderr",
          "output_type": "stream",
          "text": [
            "Training Epoch 21: 100%|██████████| 235/235 [00:20<00:00, 11.25batch/s, loss=0.162]\n",
            "Testing: 100%|██████████| 40/40 [00:03<00:00, 12.06batch/s, loss=0.0948]\n"
          ]
        },
        {
          "metadata": {
            "tags": null
          },
          "name": "stdout",
          "output_type": "stream",
          "text": [
            "\n",
            "Epoch:  22 Train Loss:  0.001272909372051557 Train Acc top 1:  0.9935333333333334 Test Loss:  0.0007587037808261812 Test Acc top 1:  0.979\n",
            "Train Acc top 5:  1.0 Test Acc top 5:  1.0\n",
            "\n"
          ]
        },
        {
          "metadata": {
            "tags": null
          },
          "name": "stderr",
          "output_type": "stream",
          "text": [
            "Training Epoch 22: 100%|██████████| 235/235 [00:20<00:00, 11.34batch/s, loss=0.152]\n",
            "Testing: 100%|██████████| 40/40 [00:02<00:00, 15.02batch/s, loss=0.0651]\n"
          ]
        },
        {
          "metadata": {
            "tags": null
          },
          "name": "stdout",
          "output_type": "stream",
          "text": [
            "\n",
            "Epoch:  23 Train Loss:  0.0011934214562177659 Train Acc top 1:  0.9945666666666667 Test Loss:  0.0005205137051641941 Test Acc top 1:  0.9814\n",
            "Train Acc top 5:  1.0 Test Acc top 5:  1.0\n",
            "\n"
          ]
        },
        {
          "metadata": {
            "tags": null
          },
          "name": "stderr",
          "output_type": "stream",
          "text": [
            "Training Epoch 23: 100%|██████████| 235/235 [00:21<00:00, 10.96batch/s, loss=0.146]\n",
            "Testing: 100%|██████████| 40/40 [00:02<00:00, 15.73batch/s, loss=0.0609]\n"
          ]
        },
        {
          "metadata": {
            "tags": null
          },
          "name": "stdout",
          "output_type": "stream",
          "text": [
            "\n",
            "Epoch:  24 Train Loss:  0.0011452445238828658 Train Acc top 1:  0.9941333333333334 Test Loss:  0.0004868448160588741 Test Acc top 1:  0.9846\n",
            "Train Acc top 5:  1.0 Test Acc top 5:  1.0\n",
            "\n"
          ]
        },
        {
          "metadata": {
            "tags": null
          },
          "name": "stderr",
          "output_type": "stream",
          "text": [
            "Training Epoch 24: 100%|██████████| 235/235 [00:22<00:00, 10.66batch/s, loss=0.141]\n",
            "Testing: 100%|██████████| 40/40 [00:02<00:00, 15.95batch/s, loss=0.0816]\n"
          ]
        },
        {
          "metadata": {
            "tags": null
          },
          "name": "stdout",
          "output_type": "stream",
          "text": [
            "\n",
            "Epoch:  25 Train Loss:  0.0011042436341444652 Train Acc top 1:  0.9939 Test Loss:  0.000652905508223921 Test Acc top 1:  0.9822\n",
            "Train Acc top 5:  1.0 Test Acc top 5:  1.0\n",
            "\n"
          ]
        },
        {
          "metadata": {
            "tags": null
          },
          "name": "stderr",
          "output_type": "stream",
          "text": [
            "Training Epoch 25: 100%|██████████| 235/235 [00:21<00:00, 10.88batch/s, loss=0.135]\n",
            "Testing: 100%|██████████| 40/40 [00:02<00:00, 15.62batch/s, loss=0.0699]\n"
          ]
        },
        {
          "metadata": {
            "tags": null
          },
          "name": "stdout",
          "output_type": "stream",
          "text": [
            "\n",
            "Epoch:  26 Train Loss:  0.001055193577458461 Train Acc top 1:  0.9947666666666667 Test Loss:  0.0005593801475130022 Test Acc top 1:  0.9818\n",
            "Train Acc top 5:  1.0 Test Acc top 5:  1.0\n",
            "\n"
          ]
        },
        {
          "metadata": {
            "tags": null
          },
          "name": "stderr",
          "output_type": "stream",
          "text": [
            "Training Epoch 26: 100%|██████████| 235/235 [00:20<00:00, 11.38batch/s, loss=0.131]\n",
            "Testing: 100%|██████████| 40/40 [00:03<00:00, 12.61batch/s, loss=0.0723]\n"
          ]
        },
        {
          "metadata": {
            "tags": null
          },
          "name": "stdout",
          "output_type": "stream",
          "text": [
            "\n",
            "Epoch:  27 Train Loss:  0.0010298614583909513 Train Acc top 1:  0.9947666666666667 Test Loss:  0.0005783198491670191 Test Acc top 1:  0.981\n",
            "Train Acc top 5:  1.0 Test Acc top 5:  1.0\n",
            "\n"
          ]
        },
        {
          "metadata": {
            "tags": null
          },
          "name": "stderr",
          "output_type": "stream",
          "text": [
            "Training Epoch 27: 100%|██████████| 235/235 [00:20<00:00, 11.30batch/s, loss=0.125]\n",
            "Testing: 100%|██████████| 40/40 [00:02<00:00, 14.41batch/s, loss=0.0758]\n"
          ]
        },
        {
          "metadata": {
            "tags": null
          },
          "name": "stdout",
          "output_type": "stream",
          "text": [
            "\n",
            "Epoch:  28 Train Loss:  0.0009830747495094935 Train Acc top 1:  0.9952333333333334 Test Loss:  0.0006063224215991795 Test Acc top 1:  0.98\n",
            "Train Acc top 5:  1.0 Test Acc top 5:  1.0\n",
            "\n"
          ]
        },
        {
          "metadata": {
            "tags": null
          },
          "name": "stderr",
          "output_type": "stream",
          "text": [
            "Training Epoch 28: 100%|██████████| 235/235 [00:21<00:00, 11.13batch/s, loss=0.122]\n",
            "Testing: 100%|██████████| 40/40 [00:02<00:00, 15.85batch/s, loss=0.0699]\n"
          ]
        },
        {
          "metadata": {
            "tags": null
          },
          "name": "stdout",
          "output_type": "stream",
          "text": [
            "\n",
            "Epoch:  29 Train Loss:  0.0009521045317252477 Train Acc top 1:  0.9953666666666667 Test Loss:  0.0005591410507913678 Test Acc top 1:  0.9822\n",
            "Train Acc top 5:  1.0 Test Acc top 5:  1.0\n",
            "\n"
          ]
        },
        {
          "metadata": {
            "tags": null
          },
          "name": "stderr",
          "output_type": "stream",
          "text": [
            "Training Epoch 29: 100%|██████████| 235/235 [00:21<00:00, 10.94batch/s, loss=0.119]\n",
            "Testing: 100%|██████████| 40/40 [00:02<00:00, 14.97batch/s, loss=0.0793]"
          ]
        },
        {
          "metadata": {
            "tags": null
          },
          "name": "stdout",
          "output_type": "stream",
          "text": [
            "\n",
            "Epoch:  30 Train Loss:  0.0009293823267022769 Train Acc top 1:  0.9950666666666668 Test Loss:  0.0006347974933683873 Test Acc top 1:  0.9746\n",
            "Train Acc top 5:  1.0 Test Acc top 5:  1.0\n",
            "\n"
          ]
        },
        {
          "metadata": {
            "tags": null
          },
          "name": "stderr",
          "output_type": "stream",
          "text": [
            "\n"
          ]
        },
        {
          "data": {
            "text/html": [
              "Waiting for W&B process to finish... <strong style=\"color:green\">(success).</strong>"
            ],
            "text/plain": [
              "<IPython.core.display.HTML object>"
            ]
          },
          "metadata": {},
          "output_type": "display_data"
        },
        {
          "data": {
            "text/html": [
              "<style>\n",
              "    table.wandb td:nth-child(1) { padding: 0 10px; text-align: left ; width: auto;} td:nth-child(2) {text-align: left ; width: 100%}\n",
              "    .wandb-row { display: flex; flex-direction: row; flex-wrap: wrap; justify-content: flex-start; width: 100% }\n",
              "    .wandb-col { display: flex; flex-direction: column; flex-basis: 100%; flex: 1; padding: 10px; }\n",
              "    </style>\n",
              "<div class=\"wandb-row\"><div class=\"wandb-col\"><h3>Run history:</h3><br/><table class=\"wandb\"><tr><td>epoch</td><td>▁▁▁▂▂▂▂▃▃▃▃▄▄▄▄▅▅▅▅▆▆▆▆▇▇▇▇███</td></tr><tr><td>test_acc</td><td>▁▁▆█▇█▇██▇██▇██▇▇████████████▇</td></tr><tr><td>test_loss</td><td>██▂▁▂▁▃▁▁▂▁▂▁▁▁▃▃▁▂▁▁▂▁▁▂▁▁▁▁▂</td></tr><tr><td>train_acc_top1</td><td>▁▄▅▅▆▆▆▆▇▇▇▇▇▇▇▇▇█████████████</td></tr><tr><td>train_loss</td><td>█▇▆▅▄▄▃▃▃▃▂▂▂▂▂▂▁▁▁▁▁▁▁▁▁▁▁▁▁▁</td></tr></table><br/></div><div class=\"wandb-col\"><h3>Run summary:</h3><br/><table class=\"wandb\"><tr><td>epoch</td><td>29</td></tr><tr><td>test_acc</td><td>0.9746</td></tr><tr><td>test_loss</td><td>0.00063</td></tr><tr><td>train_acc_top1</td><td>0.99507</td></tr><tr><td>train_loss</td><td>0.11864</td></tr></table><br/></div></div>"
            ],
            "text/plain": [
              "<IPython.core.display.HTML object>"
            ]
          },
          "metadata": {},
          "output_type": "display_data"
        },
        {
          "data": {
            "text/html": [
              " View run <strong style=\"color:#cdcd00\">fiery-sweep-6</strong> at: <a href='https://wandb.ai/mukul_dl/final_lab_8/runs/gdpdw898' target=\"_blank\">https://wandb.ai/mukul_dl/final_lab_8/runs/gdpdw898</a><br/>Synced 5 W&B file(s), 0 media file(s), 0 artifact file(s) and 0 other file(s)"
            ],
            "text/plain": [
              "<IPython.core.display.HTML object>"
            ]
          },
          "metadata": {},
          "output_type": "display_data"
        },
        {
          "data": {
            "text/html": [
              "Find logs at: <code>./wandb/run-20230417_141541-gdpdw898/logs</code>"
            ],
            "text/plain": [
              "<IPython.core.display.HTML object>"
            ]
          },
          "metadata": {},
          "output_type": "display_data"
        },
        {
          "metadata": {
            "tags": null
          },
          "name": "stderr",
          "output_type": "stream",
          "text": [
            "\u001b[34m\u001b[1mwandb\u001b[0m: Agent Starting Run: cugo0hzs with config:\n",
            "\u001b[34m\u001b[1mwandb\u001b[0m: \tactivation: ReLU\n",
            "\u001b[34m\u001b[1mwandb\u001b[0m: \tlearning_rate: 1e-05\n",
            "\u001b[34m\u001b[1mwandb\u001b[0m: \toptimizer: SGD\n",
            "\u001b[34m\u001b[1mwandb\u001b[0m: \u001b[33mWARNING\u001b[0m Ignored wandb.init() arg project when running a sweep.\n"
          ]
        },
        {
          "data": {
            "text/html": [
              "Tracking run with wandb version 0.14.2"
            ],
            "text/plain": [
              "<IPython.core.display.HTML object>"
            ]
          },
          "metadata": {},
          "output_type": "display_data"
        },
        {
          "data": {
            "text/html": [
              "Run data is saved locally in <code>/content/wandb/run-20230417_142800-cugo0hzs</code>"
            ],
            "text/plain": [
              "<IPython.core.display.HTML object>"
            ]
          },
          "metadata": {},
          "output_type": "display_data"
        },
        {
          "data": {
            "text/html": [
              "Syncing run <strong><a href='https://wandb.ai/mukul_dl/final_lab_8/runs/cugo0hzs' target=\"_blank\">vivid-sweep-7</a></strong> to <a href='https://wandb.ai/mukul_dl/final_lab_8' target=\"_blank\">Weights & Biases</a> (<a href='https://wandb.me/run' target=\"_blank\">docs</a>)<br/>Sweep page: <a href='https://wandb.ai/mukul_dl/final_lab_8/sweeps/rxkozgms' target=\"_blank\">https://wandb.ai/mukul_dl/final_lab_8/sweeps/rxkozgms</a>"
            ],
            "text/plain": [
              "<IPython.core.display.HTML object>"
            ]
          },
          "metadata": {},
          "output_type": "display_data"
        },
        {
          "data": {
            "text/html": [
              " View project at <a href='https://wandb.ai/mukul_dl/final_lab_8' target=\"_blank\">https://wandb.ai/mukul_dl/final_lab_8</a>"
            ],
            "text/plain": [
              "<IPython.core.display.HTML object>"
            ]
          },
          "metadata": {},
          "output_type": "display_data"
        },
        {
          "data": {
            "text/html": [
              " View sweep at <a href='https://wandb.ai/mukul_dl/final_lab_8/sweeps/rxkozgms' target=\"_blank\">https://wandb.ai/mukul_dl/final_lab_8/sweeps/rxkozgms</a>"
            ],
            "text/plain": [
              "<IPython.core.display.HTML object>"
            ]
          },
          "metadata": {},
          "output_type": "display_data"
        },
        {
          "data": {
            "text/html": [
              " View run at <a href='https://wandb.ai/mukul_dl/final_lab_8/runs/cugo0hzs' target=\"_blank\">https://wandb.ai/mukul_dl/final_lab_8/runs/cugo0hzs</a>"
            ],
            "text/plain": [
              "<IPython.core.display.HTML object>"
            ]
          },
          "metadata": {},
          "output_type": "display_data"
        },
        {
          "metadata": {
            "tags": null
          },
          "name": "stderr",
          "output_type": "stream",
          "text": [
            "Training Epoch 0: 100%|██████████| 235/235 [00:21<00:00, 10.78batch/s, loss=0.118]\n",
            "Testing: 100%|██████████| 40/40 [00:02<00:00, 15.85batch/s, loss=0.0763]\n"
          ]
        },
        {
          "metadata": {
            "tags": null
          },
          "name": "stdout",
          "output_type": "stream",
          "text": [
            "\n",
            "Epoch:  1 Train Loss:  0.000926672255496184 Train Acc top 1:  0.9945333333333334 Test Loss:  0.0006106403913348913 Test Acc top 1:  0.9792\n",
            "Train Acc top 5:  1.0 Test Acc top 5:  1.0\n",
            "\n"
          ]
        },
        {
          "metadata": {
            "tags": null
          },
          "name": "stderr",
          "output_type": "stream",
          "text": [
            "Training Epoch 1: 100%|██████████| 235/235 [00:21<00:00, 10.92batch/s, loss=0.116]\n",
            "Testing: 100%|██████████| 40/40 [00:02<00:00, 15.71batch/s, loss=0.0777]\n"
          ]
        },
        {
          "metadata": {
            "tags": null
          },
          "name": "stdout",
          "output_type": "stream",
          "text": [
            "\n",
            "Epoch:  2 Train Loss:  0.0009096440747380257 Train Acc top 1:  0.9953333333333334 Test Loss:  0.00062189039029181 Test Acc top 1:  0.9776\n",
            "Train Acc top 5:  1.0 Test Acc top 5:  1.0\n",
            "\n"
          ]
        },
        {
          "metadata": {
            "tags": null
          },
          "name": "stderr",
          "output_type": "stream",
          "text": [
            "Training Epoch 2: 100%|██████████| 235/235 [00:20<00:00, 11.20batch/s, loss=0.114]\n",
            "Testing: 100%|██████████| 40/40 [00:03<00:00, 12.24batch/s, loss=0.0732]\n"
          ]
        },
        {
          "metadata": {
            "tags": null
          },
          "name": "stdout",
          "output_type": "stream",
          "text": [
            "\n",
            "Epoch:  3 Train Loss:  0.0008899234918256601 Train Acc top 1:  0.9966666666666667 Test Loss:  0.0005858692177571356 Test Acc top 1:  0.9796\n",
            "Train Acc top 5:  1.0 Test Acc top 5:  1.0\n",
            "\n"
          ]
        },
        {
          "metadata": {
            "tags": null
          },
          "name": "stderr",
          "output_type": "stream",
          "text": [
            "Training Epoch 3: 100%|██████████| 235/235 [00:21<00:00, 10.91batch/s, loss=0.112]\n",
            "Testing: 100%|██████████| 40/40 [00:03<00:00, 12.09batch/s, loss=0.072]\n"
          ]
        },
        {
          "metadata": {
            "tags": null
          },
          "name": "stdout",
          "output_type": "stream",
          "text": [
            "\n",
            "Epoch:  4 Train Loss:  0.0008808659593264262 Train Acc top 1:  0.9969666666666667 Test Loss:  0.0005761923763900995 Test Acc top 1:  0.981\n",
            "Train Acc top 5:  1.0 Test Acc top 5:  1.0\n",
            "\n"
          ]
        },
        {
          "metadata": {
            "tags": null
          },
          "name": "stderr",
          "output_type": "stream",
          "text": [
            "Training Epoch 4: 100%|██████████| 235/235 [00:20<00:00, 11.21batch/s, loss=0.112]\n",
            "Testing: 100%|██████████| 40/40 [00:02<00:00, 15.21batch/s, loss=0.0722]\n"
          ]
        },
        {
          "metadata": {
            "tags": null
          },
          "name": "stdout",
          "output_type": "stream",
          "text": [
            "\n",
            "Epoch:  5 Train Loss:  0.0008771965612967809 Train Acc top 1:  0.9971000000000001 Test Loss:  0.0005772021224256605 Test Acc top 1:  0.9798\n",
            "Train Acc top 5:  1.0 Test Acc top 5:  1.0\n",
            "\n"
          ]
        },
        {
          "metadata": {
            "tags": null
          },
          "name": "stderr",
          "output_type": "stream",
          "text": [
            "Training Epoch 5: 100%|██████████| 235/235 [00:22<00:00, 10.52batch/s, loss=0.111]\n",
            "Testing: 100%|██████████| 40/40 [00:02<00:00, 15.04batch/s, loss=0.0712]\n"
          ]
        },
        {
          "metadata": {
            "tags": null
          },
          "name": "stdout",
          "output_type": "stream",
          "text": [
            "\n",
            "Epoch:  6 Train Loss:  0.0008726005956530571 Train Acc top 1:  0.9971000000000001 Test Loss:  0.0005693294824101031 Test Acc top 1:  0.9814\n",
            "Train Acc top 5:  1.0 Test Acc top 5:  1.0\n",
            "\n"
          ]
        },
        {
          "metadata": {
            "tags": null
          },
          "name": "stderr",
          "output_type": "stream",
          "text": [
            "Training Epoch 6: 100%|██████████| 235/235 [00:22<00:00, 10.46batch/s, loss=0.11]\n",
            "Testing: 100%|██████████| 40/40 [00:02<00:00, 14.93batch/s, loss=0.0797]\n"
          ]
        },
        {
          "metadata": {
            "tags": null
          },
          "name": "stdout",
          "output_type": "stream",
          "text": [
            "\n",
            "Epoch:  7 Train Loss:  0.000863785974184672 Train Acc top 1:  0.9978 Test Loss:  0.000637637388240546 Test Acc top 1:  0.9814\n",
            "Train Acc top 5:  1.0 Test Acc top 5:  1.0\n",
            "\n"
          ]
        },
        {
          "metadata": {
            "tags": null
          },
          "name": "stderr",
          "output_type": "stream",
          "text": [
            "Training Epoch 7: 100%|██████████| 235/235 [00:22<00:00, 10.35batch/s, loss=0.11]\n",
            "Testing: 100%|██████████| 40/40 [00:02<00:00, 15.32batch/s, loss=0.0732]\n"
          ]
        },
        {
          "metadata": {
            "tags": null
          },
          "name": "stdout",
          "output_type": "stream",
          "text": [
            "\n",
            "Epoch:  8 Train Loss:  0.0008628451809287071 Train Acc top 1:  0.9981333333333334 Test Loss:  0.0005854779454879462 Test Acc top 1:  0.9808\n",
            "Train Acc top 5:  1.0 Test Acc top 5:  1.0\n",
            "\n"
          ]
        },
        {
          "metadata": {
            "tags": null
          },
          "name": "stderr",
          "output_type": "stream",
          "text": [
            "Training Epoch 8: 100%|██████████| 235/235 [00:22<00:00, 10.60batch/s, loss=0.109]\n",
            "Testing: 100%|██████████| 40/40 [00:02<00:00, 14.93batch/s, loss=0.0699]\n"
          ]
        },
        {
          "metadata": {
            "tags": null
          },
          "name": "stdout",
          "output_type": "stream",
          "text": [
            "\n",
            "Epoch:  9 Train Loss:  0.0008568477238217989 Train Acc top 1:  0.9982000000000001 Test Loss:  0.0005594667054712772 Test Acc top 1:  0.9816\n",
            "Train Acc top 5:  1.0 Test Acc top 5:  1.0\n",
            "\n"
          ]
        },
        {
          "metadata": {
            "tags": null
          },
          "name": "stderr",
          "output_type": "stream",
          "text": [
            "Training Epoch 9: 100%|██████████| 235/235 [00:21<00:00, 10.99batch/s, loss=0.109]\n",
            "Testing: 100%|██████████| 40/40 [00:03<00:00, 11.88batch/s, loss=0.0705]\n"
          ]
        },
        {
          "metadata": {
            "tags": null
          },
          "name": "stdout",
          "output_type": "stream",
          "text": [
            "\n",
            "Epoch:  10 Train Loss:  0.0008575092998643716 Train Acc top 1:  0.9979333333333333 Test Loss:  0.0005641760520637035 Test Acc top 1:  0.9818\n",
            "Train Acc top 5:  1.0 Test Acc top 5:  1.0\n",
            "\n"
          ]
        },
        {
          "metadata": {
            "tags": null
          },
          "name": "stderr",
          "output_type": "stream",
          "text": [
            "Training Epoch 10: 100%|██████████| 235/235 [00:21<00:00, 11.06batch/s, loss=0.109]\n",
            "Testing: 100%|██████████| 40/40 [00:02<00:00, 13.83batch/s, loss=0.0714]\n"
          ]
        },
        {
          "metadata": {
            "tags": null
          },
          "name": "stdout",
          "output_type": "stream",
          "text": [
            "\n",
            "Epoch:  11 Train Loss:  0.000856928567836682 Train Acc top 1:  0.9981666666666668 Test Loss:  0.0005712745829485357 Test Acc top 1:  0.9818\n",
            "Train Acc top 5:  1.0 Test Acc top 5:  1.0\n",
            "\n"
          ]
        },
        {
          "metadata": {
            "tags": null
          },
          "name": "stderr",
          "output_type": "stream",
          "text": [
            "Training Epoch 11: 100%|██████████| 235/235 [00:22<00:00, 10.66batch/s, loss=0.109]\n",
            "Testing: 100%|██████████| 40/40 [00:02<00:00, 15.15batch/s, loss=0.0709]\n"
          ]
        },
        {
          "metadata": {
            "tags": null
          },
          "name": "stdout",
          "output_type": "stream",
          "text": [
            "\n",
            "Epoch:  12 Train Loss:  0.0008548165269196033 Train Acc top 1:  0.9982333333333334 Test Loss:  0.0005673446561675518 Test Acc top 1:  0.9818\n",
            "Train Acc top 5:  1.0 Test Acc top 5:  1.0\n",
            "\n"
          ]
        },
        {
          "metadata": {
            "tags": null
          },
          "name": "stderr",
          "output_type": "stream",
          "text": [
            "Training Epoch 12: 100%|██████████| 235/235 [00:22<00:00, 10.46batch/s, loss=0.108]\n",
            "Testing: 100%|██████████| 40/40 [00:02<00:00, 15.35batch/s, loss=0.0703]\n"
          ]
        },
        {
          "metadata": {
            "tags": null
          },
          "name": "stdout",
          "output_type": "stream",
          "text": [
            "\n",
            "Epoch:  13 Train Loss:  0.000849101605763038 Train Acc top 1:  0.9986333333333334 Test Loss:  0.0005625531300902367 Test Acc top 1:  0.9812\n",
            "Train Acc top 5:  1.0 Test Acc top 5:  1.0\n",
            "\n"
          ]
        },
        {
          "metadata": {
            "tags": null
          },
          "name": "stderr",
          "output_type": "stream",
          "text": [
            "Training Epoch 13: 100%|██████████| 235/235 [00:22<00:00, 10.52batch/s, loss=0.108]\n",
            "Testing: 100%|██████████| 40/40 [00:02<00:00, 14.98batch/s, loss=0.0692]\n"
          ]
        },
        {
          "metadata": {
            "tags": null
          },
          "name": "stdout",
          "output_type": "stream",
          "text": [
            "\n",
            "Epoch:  14 Train Loss:  0.0008465073215464751 Train Acc top 1:  0.9985 Test Loss:  0.0005538775943685323 Test Acc top 1:  0.9812\n",
            "Train Acc top 5:  1.0 Test Acc top 5:  1.0\n",
            "\n"
          ]
        },
        {
          "metadata": {
            "tags": null
          },
          "name": "stderr",
          "output_type": "stream",
          "text": [
            "Training Epoch 14: 100%|██████████| 235/235 [00:22<00:00, 10.56batch/s, loss=0.108]\n",
            "Testing: 100%|██████████| 40/40 [00:02<00:00, 15.37batch/s, loss=0.0715]\n"
          ]
        },
        {
          "metadata": {
            "tags": null
          },
          "name": "stdout",
          "output_type": "stream",
          "text": [
            "\n",
            "Epoch:  15 Train Loss:  0.0008491563397149245 Train Acc top 1:  0.9986666666666667 Test Loss:  0.000572048175893724 Test Acc top 1:  0.9824\n",
            "Train Acc top 5:  1.0 Test Acc top 5:  1.0\n",
            "\n"
          ]
        },
        {
          "metadata": {
            "tags": null
          },
          "name": "stderr",
          "output_type": "stream",
          "text": [
            "Training Epoch 15: 100%|██████████| 235/235 [00:21<00:00, 10.93batch/s, loss=0.108]\n",
            "Testing: 100%|██████████| 40/40 [00:03<00:00, 11.41batch/s, loss=0.0684]\n"
          ]
        },
        {
          "metadata": {
            "tags": null
          },
          "name": "stdout",
          "output_type": "stream",
          "text": [
            "\n",
            "Epoch:  16 Train Loss:  0.0008461073343952497 Train Acc top 1:  0.9987333333333334 Test Loss:  0.000547049702797085 Test Acc top 1:  0.982\n",
            "Train Acc top 5:  1.0 Test Acc top 5:  1.0\n",
            "\n"
          ]
        },
        {
          "metadata": {
            "tags": null
          },
          "name": "stderr",
          "output_type": "stream",
          "text": [
            "Training Epoch 16: 100%|██████████| 235/235 [00:21<00:00, 10.84batch/s, loss=0.108]\n",
            "Testing: 100%|██████████| 40/40 [00:03<00:00, 11.95batch/s, loss=0.0694]\n"
          ]
        },
        {
          "metadata": {
            "tags": null
          },
          "name": "stdout",
          "output_type": "stream",
          "text": [
            "\n",
            "Epoch:  17 Train Loss:  0.0008447358677784602 Train Acc top 1:  0.9985666666666667 Test Loss:  0.0005548973904922604 Test Acc top 1:  0.9818\n",
            "Train Acc top 5:  1.0 Test Acc top 5:  1.0\n",
            "\n"
          ]
        },
        {
          "metadata": {
            "tags": null
          },
          "name": "stderr",
          "output_type": "stream",
          "text": [
            "Training Epoch 17: 100%|██████████| 235/235 [00:21<00:00, 10.89batch/s, loss=0.108]\n",
            "Testing: 100%|██████████| 40/40 [00:02<00:00, 15.60batch/s, loss=0.0684]\n"
          ]
        },
        {
          "metadata": {
            "tags": null
          },
          "name": "stdout",
          "output_type": "stream",
          "text": [
            "\n",
            "Epoch:  18 Train Loss:  0.0008450112161537012 Train Acc top 1:  0.9985666666666667 Test Loss:  0.0005472494532354176 Test Acc top 1:  0.9824\n",
            "Train Acc top 5:  1.0 Test Acc top 5:  1.0\n",
            "\n"
          ]
        },
        {
          "metadata": {
            "tags": null
          },
          "name": "stderr",
          "output_type": "stream",
          "text": [
            "Training Epoch 18: 100%|██████████| 235/235 [00:22<00:00, 10.39batch/s, loss=0.107]\n",
            "Testing: 100%|██████████| 40/40 [00:02<00:00, 15.53batch/s, loss=0.0696]\n"
          ]
        },
        {
          "metadata": {
            "tags": null
          },
          "name": "stdout",
          "output_type": "stream",
          "text": [
            "\n",
            "Epoch:  19 Train Loss:  0.0008417333056529363 Train Acc top 1:  0.9988666666666667 Test Loss:  0.0005568665076978505 Test Acc top 1:  0.9814\n",
            "Train Acc top 5:  1.0 Test Acc top 5:  1.0\n",
            "\n"
          ]
        },
        {
          "metadata": {
            "tags": null
          },
          "name": "stderr",
          "output_type": "stream",
          "text": [
            "Training Epoch 19: 100%|██████████| 235/235 [00:22<00:00, 10.50batch/s, loss=0.108]\n",
            "Testing: 100%|██████████| 40/40 [00:02<00:00, 15.07batch/s, loss=0.0701]\n"
          ]
        },
        {
          "metadata": {
            "tags": null
          },
          "name": "stdout",
          "output_type": "stream",
          "text": [
            "\n",
            "Epoch:  20 Train Loss:  0.000844105722506841 Train Acc top 1:  0.9989 Test Loss:  0.000560491422470659 Test Acc top 1:  0.9814\n",
            "Train Acc top 5:  1.0 Test Acc top 5:  1.0\n",
            "\n"
          ]
        },
        {
          "metadata": {
            "tags": null
          },
          "name": "stderr",
          "output_type": "stream",
          "text": [
            "Training Epoch 20: 100%|██████████| 235/235 [00:22<00:00, 10.57batch/s, loss=0.107]\n",
            "Testing: 100%|██████████| 40/40 [00:02<00:00, 15.35batch/s, loss=0.0976]\n"
          ]
        },
        {
          "metadata": {
            "tags": null
          },
          "name": "stdout",
          "output_type": "stream",
          "text": [
            "\n",
            "Epoch:  21 Train Loss:  0.0008409562401473522 Train Acc top 1:  0.9988333333333334 Test Loss:  0.0007804425264708697 Test Acc top 1:  0.9826\n",
            "Train Acc top 5:  1.0 Test Acc top 5:  1.0\n",
            "\n"
          ]
        },
        {
          "metadata": {
            "tags": null
          },
          "name": "stderr",
          "output_type": "stream",
          "text": [
            "Training Epoch 21: 100%|██████████| 235/235 [00:22<00:00, 10.54batch/s, loss=0.107]\n",
            "Testing: 100%|██████████| 40/40 [00:02<00:00, 14.52batch/s, loss=0.0683]\n"
          ]
        },
        {
          "metadata": {
            "tags": null
          },
          "name": "stdout",
          "output_type": "stream",
          "text": [
            "\n",
            "Epoch:  22 Train Loss:  0.0008388470905522506 Train Acc top 1:  0.9987 Test Loss:  0.0005463441332802176 Test Acc top 1:  0.982\n",
            "Train Acc top 5:  1.0 Test Acc top 5:  1.0\n",
            "\n"
          ]
        },
        {
          "metadata": {
            "tags": null
          },
          "name": "stderr",
          "output_type": "stream",
          "text": [
            "Training Epoch 22: 100%|██████████| 235/235 [00:20<00:00, 11.33batch/s, loss=0.107]\n",
            "Testing: 100%|██████████| 40/40 [00:03<00:00, 12.46batch/s, loss=0.0683]\n"
          ]
        },
        {
          "metadata": {
            "tags": null
          },
          "name": "stdout",
          "output_type": "stream",
          "text": [
            "\n",
            "Epoch:  23 Train Loss:  0.0008393962753315766 Train Acc top 1:  0.9989 Test Loss:  0.0005465190611314029 Test Acc top 1:  0.9812\n",
            "Train Acc top 5:  1.0 Test Acc top 5:  1.0\n",
            "\n"
          ]
        },
        {
          "metadata": {
            "tags": null
          },
          "name": "stderr",
          "output_type": "stream",
          "text": [
            "Training Epoch 23: 100%|██████████| 235/235 [00:21<00:00, 10.76batch/s, loss=0.107]\n",
            "Testing: 100%|██████████| 40/40 [00:02<00:00, 14.08batch/s, loss=0.0676]\n"
          ]
        },
        {
          "metadata": {
            "tags": null
          },
          "name": "stdout",
          "output_type": "stream",
          "text": [
            "\n",
            "Epoch:  24 Train Loss:  0.0008377127336959044 Train Acc top 1:  0.9990666666666668 Test Loss:  0.0005407909789588302 Test Acc top 1:  0.9826\n",
            "Train Acc top 5:  1.0 Test Acc top 5:  1.0\n",
            "\n"
          ]
        },
        {
          "metadata": {
            "tags": null
          },
          "name": "stderr",
          "output_type": "stream",
          "text": [
            "Training Epoch 24: 100%|██████████| 235/235 [00:23<00:00, 10.22batch/s, loss=0.107]\n",
            "Testing: 100%|██████████| 40/40 [00:02<00:00, 14.63batch/s, loss=0.0697]\n"
          ]
        },
        {
          "metadata": {
            "tags": null
          },
          "name": "stdout",
          "output_type": "stream",
          "text": [
            "\n",
            "Epoch:  25 Train Loss:  0.0008368500856061776 Train Acc top 1:  0.9989 Test Loss:  0.0005579727793112397 Test Acc top 1:  0.9822\n",
            "Train Acc top 5:  1.0 Test Acc top 5:  1.0\n",
            "\n"
          ]
        },
        {
          "metadata": {
            "tags": null
          },
          "name": "stderr",
          "output_type": "stream",
          "text": [
            "Training Epoch 25: 100%|██████████| 235/235 [00:23<00:00, 10.01batch/s, loss=0.107]\n",
            "Testing: 100%|██████████| 40/40 [00:02<00:00, 14.42batch/s, loss=0.0686]\n"
          ]
        },
        {
          "metadata": {
            "tags": null
          },
          "name": "stdout",
          "output_type": "stream",
          "text": [
            "\n",
            "Epoch:  26 Train Loss:  0.0008351483032107353 Train Acc top 1:  0.9991666666666668 Test Loss:  0.0005489619439467788 Test Acc top 1:  0.9822\n",
            "Train Acc top 5:  1.0 Test Acc top 5:  1.0\n",
            "\n"
          ]
        },
        {
          "metadata": {
            "tags": null
          },
          "name": "stderr",
          "output_type": "stream",
          "text": [
            "Training Epoch 26: 100%|██████████| 235/235 [00:24<00:00,  9.76batch/s, loss=0.107]\n",
            "Testing: 100%|██████████| 40/40 [00:02<00:00, 14.43batch/s, loss=0.0684]\n"
          ]
        },
        {
          "metadata": {
            "tags": null
          },
          "name": "stdout",
          "output_type": "stream",
          "text": [
            "\n",
            "Epoch:  27 Train Loss:  0.0008370147747298082 Train Acc top 1:  0.9989666666666667 Test Loss:  0.0005469628584105522 Test Acc top 1:  0.982\n",
            "Train Acc top 5:  1.0 Test Acc top 5:  1.0\n",
            "\n"
          ]
        },
        {
          "metadata": {
            "tags": null
          },
          "name": "stderr",
          "output_type": "stream",
          "text": [
            "Training Epoch 27: 100%|██████████| 235/235 [00:22<00:00, 10.26batch/s, loss=0.107]\n",
            "Testing: 100%|██████████| 40/40 [00:02<00:00, 15.13batch/s, loss=0.0684]\n"
          ]
        },
        {
          "metadata": {
            "tags": null
          },
          "name": "stdout",
          "output_type": "stream",
          "text": [
            "\n",
            "Epoch:  28 Train Loss:  0.0008357457454005878 Train Acc top 1:  0.9992333333333334 Test Loss:  0.0005468839976005256 Test Acc top 1:  0.9816\n",
            "Train Acc top 5:  1.0 Test Acc top 5:  1.0\n",
            "\n"
          ]
        },
        {
          "metadata": {
            "tags": null
          },
          "name": "stderr",
          "output_type": "stream",
          "text": [
            "Training Epoch 28: 100%|██████████| 235/235 [00:22<00:00, 10.42batch/s, loss=0.107]\n",
            "Testing: 100%|██████████| 40/40 [00:02<00:00, 15.29batch/s, loss=0.0681]\n"
          ]
        },
        {
          "metadata": {
            "tags": null
          },
          "name": "stdout",
          "output_type": "stream",
          "text": [
            "\n",
            "Epoch:  29 Train Loss:  0.0008343906924128532 Train Acc top 1:  0.9992333333333334 Test Loss:  0.0005450121658854187 Test Acc top 1:  0.9822\n",
            "Train Acc top 5:  1.0 Test Acc top 5:  1.0\n",
            "\n"
          ]
        },
        {
          "metadata": {
            "tags": null
          },
          "name": "stderr",
          "output_type": "stream",
          "text": [
            "Training Epoch 29: 100%|██████████| 235/235 [00:23<00:00, 10.12batch/s, loss=0.107]\n",
            "Testing: 100%|██████████| 40/40 [00:02<00:00, 14.48batch/s, loss=0.068]"
          ]
        },
        {
          "metadata": {
            "tags": null
          },
          "name": "stdout",
          "output_type": "stream",
          "text": [
            "\n",
            "Epoch:  30 Train Loss:  0.0008358518342177074 Train Acc top 1:  0.9990666666666668 Test Loss:  0.0005438768754247576 Test Acc top 1:  0.9824\n",
            "Train Acc top 5:  1.0 Test Acc top 5:  1.0\n",
            "\n"
          ]
        },
        {
          "metadata": {
            "tags": null
          },
          "name": "stderr",
          "output_type": "stream",
          "text": [
            "\n"
          ]
        },
        {
          "data": {
            "text/html": [
              "Waiting for W&B process to finish... <strong style=\"color:green\">(success).</strong>"
            ],
            "text/plain": [
              "<IPython.core.display.HTML object>"
            ]
          },
          "metadata": {},
          "output_type": "display_data"
        },
        {
          "data": {
            "text/html": [
              "<style>\n",
              "    table.wandb td:nth-child(1) { padding: 0 10px; text-align: left ; width: auto;} td:nth-child(2) {text-align: left ; width: 100%}\n",
              "    .wandb-row { display: flex; flex-direction: row; flex-wrap: wrap; justify-content: flex-start; width: 100% }\n",
              "    .wandb-col { display: flex; flex-direction: column; flex-basis: 100%; flex: 1; padding: 10px; }\n",
              "    </style>\n",
              "<div class=\"wandb-row\"><div class=\"wandb-col\"><h3>Run history:</h3><br/><table class=\"wandb\"><tr><td>epoch</td><td>▁▁▁▂▂▂▂▃▃▃▃▄▄▄▄▅▅▅▅▆▆▆▆▇▇▇▇███</td></tr><tr><td>test_acc</td><td>▃▁▄▆▄▆▆▅▇▇▇▇▆▆█▇▇█▆▆█▇▆█▇▇▇▇▇█</td></tr><tr><td>test_loss</td><td>▃▃▂▂▂▂▄▂▂▂▂▂▂▁▂▁▁▁▁▂█▁▁▁▂▁▁▁▁▁</td></tr><tr><td>train_acc_top1</td><td>▁▂▄▅▅▅▆▆▆▆▆▇▇▇▇▇▇▇▇█▇▇████████</td></tr><tr><td>train_loss</td><td>█▇▅▅▄▄▃▃▃▃▃▃▂▂▂▂▂▂▂▂▁▁▁▁▁▁▁▁▁▁</td></tr></table><br/></div><div class=\"wandb-col\"><h3>Run summary:</h3><br/><table class=\"wandb\"><tr><td>epoch</td><td>29</td></tr><tr><td>test_acc</td><td>0.9824</td></tr><tr><td>test_loss</td><td>0.00054</td></tr><tr><td>train_acc_top1</td><td>0.99907</td></tr><tr><td>train_loss</td><td>0.1067</td></tr></table><br/></div></div>"
            ],
            "text/plain": [
              "<IPython.core.display.HTML object>"
            ]
          },
          "metadata": {},
          "output_type": "display_data"
        },
        {
          "data": {
            "text/html": [
              " View run <strong style=\"color:#cdcd00\">vivid-sweep-7</strong> at: <a href='https://wandb.ai/mukul_dl/final_lab_8/runs/cugo0hzs' target=\"_blank\">https://wandb.ai/mukul_dl/final_lab_8/runs/cugo0hzs</a><br/>Synced 5 W&B file(s), 0 media file(s), 0 artifact file(s) and 0 other file(s)"
            ],
            "text/plain": [
              "<IPython.core.display.HTML object>"
            ]
          },
          "metadata": {},
          "output_type": "display_data"
        },
        {
          "data": {
            "text/html": [
              "Find logs at: <code>./wandb/run-20230417_142800-cugo0hzs/logs</code>"
            ],
            "text/plain": [
              "<IPython.core.display.HTML object>"
            ]
          },
          "metadata": {},
          "output_type": "display_data"
        },
        {
          "metadata": {
            "tags": null
          },
          "name": "stderr",
          "output_type": "stream",
          "text": [
            "\u001b[34m\u001b[1mwandb\u001b[0m: Agent Starting Run: pdhqmmnx with config:\n",
            "\u001b[34m\u001b[1mwandb\u001b[0m: \tactivation: Tanh\n",
            "\u001b[34m\u001b[1mwandb\u001b[0m: \tlearning_rate: 3e-05\n",
            "\u001b[34m\u001b[1mwandb\u001b[0m: \toptimizer: RMSprop\n",
            "\u001b[34m\u001b[1mwandb\u001b[0m: \u001b[33mWARNING\u001b[0m Ignored wandb.init() arg project when running a sweep.\n"
          ]
        },
        {
          "data": {
            "text/html": [
              "Tracking run with wandb version 0.14.2"
            ],
            "text/plain": [
              "<IPython.core.display.HTML object>"
            ]
          },
          "metadata": {},
          "output_type": "display_data"
        },
        {
          "data": {
            "text/html": [
              "Run data is saved locally in <code>/content/wandb/run-20230417_144049-pdhqmmnx</code>"
            ],
            "text/plain": [
              "<IPython.core.display.HTML object>"
            ]
          },
          "metadata": {},
          "output_type": "display_data"
        },
        {
          "data": {
            "text/html": [
              "Syncing run <strong><a href='https://wandb.ai/mukul_dl/final_lab_8/runs/pdhqmmnx' target=\"_blank\">olive-sweep-8</a></strong> to <a href='https://wandb.ai/mukul_dl/final_lab_8' target=\"_blank\">Weights & Biases</a> (<a href='https://wandb.me/run' target=\"_blank\">docs</a>)<br/>Sweep page: <a href='https://wandb.ai/mukul_dl/final_lab_8/sweeps/rxkozgms' target=\"_blank\">https://wandb.ai/mukul_dl/final_lab_8/sweeps/rxkozgms</a>"
            ],
            "text/plain": [
              "<IPython.core.display.HTML object>"
            ]
          },
          "metadata": {},
          "output_type": "display_data"
        },
        {
          "data": {
            "text/html": [
              " View project at <a href='https://wandb.ai/mukul_dl/final_lab_8' target=\"_blank\">https://wandb.ai/mukul_dl/final_lab_8</a>"
            ],
            "text/plain": [
              "<IPython.core.display.HTML object>"
            ]
          },
          "metadata": {},
          "output_type": "display_data"
        },
        {
          "data": {
            "text/html": [
              " View sweep at <a href='https://wandb.ai/mukul_dl/final_lab_8/sweeps/rxkozgms' target=\"_blank\">https://wandb.ai/mukul_dl/final_lab_8/sweeps/rxkozgms</a>"
            ],
            "text/plain": [
              "<IPython.core.display.HTML object>"
            ]
          },
          "metadata": {},
          "output_type": "display_data"
        },
        {
          "data": {
            "text/html": [
              " View run at <a href='https://wandb.ai/mukul_dl/final_lab_8/runs/pdhqmmnx' target=\"_blank\">https://wandb.ai/mukul_dl/final_lab_8/runs/pdhqmmnx</a>"
            ],
            "text/plain": [
              "<IPython.core.display.HTML object>"
            ]
          },
          "metadata": {},
          "output_type": "display_data"
        },
        {
          "metadata": {
            "tags": null
          },
          "name": "stderr",
          "output_type": "stream",
          "text": [
            "Training Epoch 0: 100%|██████████| 235/235 [00:22<00:00, 10.30batch/s, loss=0.103]\n",
            "Testing: 100%|██████████| 40/40 [00:02<00:00, 14.53batch/s, loss=0.0732]\n"
          ]
        },
        {
          "metadata": {
            "tags": null
          },
          "name": "stdout",
          "output_type": "stream",
          "text": [
            "\n",
            "Epoch:  1 Train Loss:  0.0008056389788786571 Train Acc top 1:  0.9992666666666667 Test Loss:  0.0005853128211572767 Test Acc top 1:  0.9834\n",
            "Train Acc top 5:  1.0 Test Acc top 5:  1.0\n",
            "\n"
          ]
        },
        {
          "metadata": {
            "tags": null
          },
          "name": "stderr",
          "output_type": "stream",
          "text": [
            "Training Epoch 1: 100%|██████████| 235/235 [00:23<00:00, 10.09batch/s, loss=0.1]\n",
            "Testing: 100%|██████████| 40/40 [00:02<00:00, 14.79batch/s, loss=0.0763]\n"
          ]
        },
        {
          "metadata": {
            "tags": null
          },
          "name": "stdout",
          "output_type": "stream",
          "text": [
            "\n",
            "Epoch:  2 Train Loss:  0.0007831918026010195 Train Acc top 1:  0.9998666666666667 Test Loss:  0.0006101163625251502 Test Acc top 1:  0.984\n",
            "Train Acc top 5:  1.0 Test Acc top 5:  1.0\n",
            "\n"
          ]
        },
        {
          "metadata": {
            "tags": null
          },
          "name": "stderr",
          "output_type": "stream",
          "text": [
            "Training Epoch 2: 100%|██████████| 235/235 [00:23<00:00, 10.06batch/s, loss=0.0975]\n",
            "Testing: 100%|██████████| 40/40 [00:02<00:00, 14.50batch/s, loss=0.0794]\n"
          ]
        },
        {
          "metadata": {
            "tags": null
          },
          "name": "stdout",
          "output_type": "stream",
          "text": [
            "\n",
            "Epoch:  3 Train Loss:  0.0007641208504637082 Train Acc top 1:  0.9999 Test Loss:  0.0006348863088060171 Test Acc top 1:  0.983\n",
            "Train Acc top 5:  1.0 Test Acc top 5:  1.0\n",
            "\n"
          ]
        },
        {
          "metadata": {
            "tags": null
          },
          "name": "stderr",
          "output_type": "stream",
          "text": [
            "Training Epoch 3: 100%|██████████| 235/235 [00:22<00:00, 10.28batch/s, loss=0.0952]\n",
            "Testing: 100%|██████████| 40/40 [00:02<00:00, 15.17batch/s, loss=0.0811]\n"
          ]
        },
        {
          "metadata": {
            "tags": null
          },
          "name": "stdout",
          "output_type": "stream",
          "text": [
            "\n",
            "Epoch:  4 Train Loss:  0.0007458031366268794 Train Acc top 1:  0.9999666666666667 Test Loss:  0.0006486392453778535 Test Acc top 1:  0.9832\n",
            "Train Acc top 5:  1.0 Test Acc top 5:  1.0\n",
            "\n"
          ]
        },
        {
          "metadata": {
            "tags": null
          },
          "name": "stderr",
          "output_type": "stream",
          "text": [
            "Training Epoch 4: 100%|██████████| 235/235 [00:23<00:00, 10.15batch/s, loss=0.093]\n",
            "Testing: 100%|██████████| 40/40 [00:02<00:00, 14.43batch/s, loss=0.081]\n"
          ]
        },
        {
          "metadata": {
            "tags": null
          },
          "name": "stdout",
          "output_type": "stream",
          "text": [
            "\n",
            "Epoch:  5 Train Loss:  0.0007286634283761184 Train Acc top 1:  0.9998666666666667 Test Loss:  0.0006480372813064605 Test Acc top 1:  0.9842\n",
            "Train Acc top 5:  1.0 Test Acc top 5:  1.0\n",
            "\n"
          ]
        },
        {
          "metadata": {
            "tags": null
          },
          "name": "stderr",
          "output_type": "stream",
          "text": [
            "Training Epoch 5: 100%|██████████| 235/235 [00:23<00:00,  9.95batch/s, loss=0.0904]\n",
            "Testing: 100%|██████████| 40/40 [00:02<00:00, 14.63batch/s, loss=0.0983]\n"
          ]
        },
        {
          "metadata": {
            "tags": null
          },
          "name": "stdout",
          "output_type": "stream",
          "text": [
            "\n",
            "Epoch:  6 Train Loss:  0.0007077981928984324 Train Acc top 1:  1.0 Test Loss:  0.0007864087102934718 Test Acc top 1:  0.9828\n",
            "Train Acc top 5:  1.0 Test Acc top 5:  1.0\n",
            "\n"
          ]
        },
        {
          "metadata": {
            "tags": null
          },
          "name": "stderr",
          "output_type": "stream",
          "text": [
            "Training Epoch 6: 100%|██████████| 235/235 [00:23<00:00,  9.96batch/s, loss=0.0881]\n",
            "Testing: 100%|██████████| 40/40 [00:02<00:00, 14.71batch/s, loss=0.0819]\n"
          ]
        },
        {
          "metadata": {
            "tags": null
          },
          "name": "stdout",
          "output_type": "stream",
          "text": [
            "\n",
            "Epoch:  7 Train Loss:  0.0006904910149673621 Train Acc top 1:  0.9998333333333334 Test Loss:  0.0006554196658078581 Test Acc top 1:  0.9836\n",
            "Train Acc top 5:  1.0 Test Acc top 5:  1.0\n",
            "\n"
          ]
        },
        {
          "metadata": {
            "tags": null
          },
          "name": "stderr",
          "output_type": "stream",
          "text": [
            "Training Epoch 7: 100%|██████████| 235/235 [00:23<00:00,  9.99batch/s, loss=0.0865]\n",
            "Testing: 100%|██████████| 40/40 [00:02<00:00, 14.52batch/s, loss=0.0834]\n"
          ]
        },
        {
          "metadata": {
            "tags": null
          },
          "name": "stdout",
          "output_type": "stream",
          "text": [
            "\n",
            "Epoch:  8 Train Loss:  0.0006779173043866952 Train Acc top 1:  0.9999666666666667 Test Loss:  0.0006668841801118105 Test Acc top 1:  0.9834\n",
            "Train Acc top 5:  1.0 Test Acc top 5:  1.0\n",
            "\n"
          ]
        },
        {
          "metadata": {
            "tags": null
          },
          "name": "stderr",
          "output_type": "stream",
          "text": [
            "Training Epoch 8: 100%|██████████| 235/235 [00:22<00:00, 10.44batch/s, loss=0.0847]\n",
            "Testing: 100%|██████████| 40/40 [00:02<00:00, 13.53batch/s, loss=0.0842]\n"
          ]
        },
        {
          "metadata": {
            "tags": null
          },
          "name": "stdout",
          "output_type": "stream",
          "text": [
            "\n",
            "Epoch:  9 Train Loss:  0.0006634755897025267 Train Acc top 1:  0.9999333333333333 Test Loss:  0.0006735840644920245 Test Acc top 1:  0.9824\n",
            "Train Acc top 5:  1.0 Test Acc top 5:  1.0\n",
            "\n"
          ]
        },
        {
          "metadata": {
            "tags": null
          },
          "name": "stderr",
          "output_type": "stream",
          "text": [
            "Training Epoch 9: 100%|██████████| 235/235 [00:21<00:00, 10.94batch/s, loss=0.0829]\n",
            "Testing: 100%|██████████| 40/40 [00:03<00:00, 11.39batch/s, loss=0.0824]\n"
          ]
        },
        {
          "metadata": {
            "tags": null
          },
          "name": "stdout",
          "output_type": "stream",
          "text": [
            "\n",
            "Epoch:  10 Train Loss:  0.0006494051148494084 Train Acc top 1:  0.9999666666666667 Test Loss:  0.0006589940092992038 Test Acc top 1:  0.9838\n",
            "Train Acc top 5:  1.0 Test Acc top 5:  1.0\n",
            "\n"
          ]
        },
        {
          "metadata": {
            "tags": null
          },
          "name": "stderr",
          "output_type": "stream",
          "text": [
            "Training Epoch 10: 100%|██████████| 235/235 [00:21<00:00, 10.77batch/s, loss=0.0815]\n",
            "Testing: 100%|██████████| 40/40 [00:02<00:00, 13.99batch/s, loss=0.0864]\n"
          ]
        },
        {
          "metadata": {
            "tags": null
          },
          "name": "stdout",
          "output_type": "stream",
          "text": [
            "\n",
            "Epoch:  11 Train Loss:  0.0006381031898160776 Train Acc top 1:  0.9999333333333333 Test Loss:  0.0006909927125554532 Test Acc top 1:  0.9834\n",
            "Train Acc top 5:  1.0 Test Acc top 5:  1.0\n",
            "\n"
          ]
        },
        {
          "metadata": {
            "tags": null
          },
          "name": "stderr",
          "output_type": "stream",
          "text": [
            "Training Epoch 11: 100%|██████████| 235/235 [00:22<00:00, 10.38batch/s, loss=0.08]\n",
            "Testing: 100%|██████████| 40/40 [00:02<00:00, 15.20batch/s, loss=0.0814]\n"
          ]
        },
        {
          "metadata": {
            "tags": null
          },
          "name": "stdout",
          "output_type": "stream",
          "text": [
            "\n",
            "Epoch:  12 Train Loss:  0.0006267724027236303 Train Acc top 1:  0.9999666666666667 Test Loss:  0.0006509900376666338 Test Acc top 1:  0.9842\n",
            "Train Acc top 5:  1.0 Test Acc top 5:  1.0\n",
            "\n"
          ]
        },
        {
          "metadata": {
            "tags": null
          },
          "name": "stderr",
          "output_type": "stream",
          "text": [
            "Training Epoch 12: 100%|██████████| 235/235 [00:22<00:00, 10.35batch/s, loss=0.0785]\n",
            "Testing: 100%|██████████| 40/40 [00:02<00:00, 14.99batch/s, loss=0.0822]\n"
          ]
        },
        {
          "metadata": {
            "tags": null
          },
          "name": "stdout",
          "output_type": "stream",
          "text": [
            "\n",
            "Epoch:  13 Train Loss:  0.0006146220363676548 Train Acc top 1:  0.9999666666666667 Test Loss:  0.0006577707878313958 Test Acc top 1:  0.9832\n",
            "Train Acc top 5:  1.0 Test Acc top 5:  1.0\n",
            "\n"
          ]
        },
        {
          "metadata": {
            "tags": null
          },
          "name": "stderr",
          "output_type": "stream",
          "text": [
            "Training Epoch 13: 100%|██████████| 235/235 [00:22<00:00, 10.45batch/s, loss=0.0763]\n",
            "Testing: 100%|██████████| 40/40 [00:02<00:00, 15.31batch/s, loss=0.101]\n"
          ]
        },
        {
          "metadata": {
            "tags": null
          },
          "name": "stdout",
          "output_type": "stream",
          "text": [
            "\n",
            "Epoch:  14 Train Loss:  0.0005978027400871117 Train Acc top 1:  1.0 Test Loss:  0.0008084469684865326 Test Acc top 1:  0.9838\n",
            "Train Acc top 5:  1.0 Test Acc top 5:  1.0\n",
            "\n"
          ]
        },
        {
          "metadata": {
            "tags": null
          },
          "name": "stderr",
          "output_type": "stream",
          "text": [
            "Training Epoch 14: 100%|██████████| 235/235 [00:22<00:00, 10.50batch/s, loss=0.0731]\n",
            "Testing: 100%|██████████| 40/40 [00:02<00:00, 15.02batch/s, loss=0.0856]\n"
          ]
        },
        {
          "metadata": {
            "tags": null
          },
          "name": "stdout",
          "output_type": "stream",
          "text": [
            "\n",
            "Epoch:  15 Train Loss:  0.0005728802812596162 Train Acc top 1:  1.0 Test Loss:  0.0006850547714624554 Test Acc top 1:  0.9834\n",
            "Train Acc top 5:  1.0 Test Acc top 5:  1.0\n",
            "\n"
          ]
        },
        {
          "metadata": {
            "tags": null
          },
          "name": "stderr",
          "output_type": "stream",
          "text": [
            "Training Epoch 15: 100%|██████████| 235/235 [00:21<00:00, 11.00batch/s, loss=0.0704]\n",
            "Testing: 100%|██████████| 40/40 [00:03<00:00, 12.62batch/s, loss=0.088]\n"
          ]
        },
        {
          "metadata": {
            "tags": null
          },
          "name": "stdout",
          "output_type": "stream",
          "text": [
            "\n",
            "Epoch:  16 Train Loss:  0.0005511487615605195 Train Acc top 1:  0.9999 Test Loss:  0.0007038675765739754 Test Acc top 1:  0.9824\n",
            "Train Acc top 5:  1.0 Test Acc top 5:  1.0\n",
            "\n"
          ]
        },
        {
          "metadata": {
            "tags": null
          },
          "name": "stderr",
          "output_type": "stream",
          "text": [
            "Training Epoch 16: 100%|██████████| 235/235 [00:21<00:00, 10.97batch/s, loss=0.0689]\n",
            "Testing: 100%|██████████| 40/40 [00:03<00:00, 12.35batch/s, loss=0.09]\n"
          ]
        },
        {
          "metadata": {
            "tags": null
          },
          "name": "stdout",
          "output_type": "stream",
          "text": [
            "\n",
            "Epoch:  17 Train Loss:  0.0005396125175058841 Train Acc top 1:  0.9999333333333333 Test Loss:  0.0007197542690206319 Test Acc top 1:  0.982\n",
            "Train Acc top 5:  1.0 Test Acc top 5:  1.0\n",
            "\n"
          ]
        },
        {
          "metadata": {
            "tags": null
          },
          "name": "stderr",
          "output_type": "stream",
          "text": [
            "Training Epoch 17: 100%|██████████| 235/235 [00:21<00:00, 10.77batch/s, loss=0.0677]\n",
            "Testing: 100%|██████████| 40/40 [00:02<00:00, 15.50batch/s, loss=0.106]\n"
          ]
        },
        {
          "metadata": {
            "tags": null
          },
          "name": "stdout",
          "output_type": "stream",
          "text": [
            "\n",
            "Epoch:  18 Train Loss:  0.0005305429004132748 Train Acc top 1:  1.0 Test Loss:  0.0008456208710558713 Test Acc top 1:  0.9832\n",
            "Train Acc top 5:  1.0 Test Acc top 5:  1.0\n",
            "\n"
          ]
        },
        {
          "metadata": {
            "tags": null
          },
          "name": "stderr",
          "output_type": "stream",
          "text": [
            "Training Epoch 18: 100%|██████████| 235/235 [00:22<00:00, 10.60batch/s, loss=0.0661]\n",
            "Testing: 100%|██████████| 40/40 [00:02<00:00, 15.16batch/s, loss=0.0873]\n"
          ]
        },
        {
          "metadata": {
            "tags": null
          },
          "name": "stdout",
          "output_type": "stream",
          "text": [
            "\n",
            "Epoch:  19 Train Loss:  0.0005180192473034064 Train Acc top 1:  1.0 Test Loss:  0.0006984206066932529 Test Acc top 1:  0.9828\n",
            "Train Acc top 5:  1.0 Test Acc top 5:  1.0\n",
            "\n"
          ]
        },
        {
          "metadata": {
            "tags": null
          },
          "name": "stderr",
          "output_type": "stream",
          "text": [
            "Training Epoch 19: 100%|██████████| 235/235 [00:22<00:00, 10.36batch/s, loss=0.0644]\n",
            "Testing: 100%|██████████| 40/40 [00:02<00:00, 15.45batch/s, loss=0.0874]\n"
          ]
        },
        {
          "metadata": {
            "tags": null
          },
          "name": "stdout",
          "output_type": "stream",
          "text": [
            "\n",
            "Epoch:  20 Train Loss:  0.0005045886528988679 Train Acc top 1:  0.9999333333333333 Test Loss:  0.0006988691429141909 Test Acc top 1:  0.983\n",
            "Train Acc top 5:  1.0 Test Acc top 5:  1.0\n",
            "\n"
          ]
        },
        {
          "metadata": {
            "tags": null
          },
          "name": "stderr",
          "output_type": "stream",
          "text": [
            "Training Epoch 20: 100%|██████████| 235/235 [00:22<00:00, 10.58batch/s, loss=0.0635]\n",
            "Testing: 100%|██████████| 40/40 [00:02<00:00, 15.50batch/s, loss=0.0923]\n"
          ]
        },
        {
          "metadata": {
            "tags": null
          },
          "name": "stdout",
          "output_type": "stream",
          "text": [
            "\n",
            "Epoch:  21 Train Loss:  0.0004975902469207843 Train Acc top 1:  0.9999333333333333 Test Loss:  0.0007382311940193176 Test Acc top 1:  0.9834\n",
            "Train Acc top 5:  1.0 Test Acc top 5:  1.0\n",
            "\n"
          ]
        },
        {
          "metadata": {
            "tags": null
          },
          "name": "stderr",
          "output_type": "stream",
          "text": [
            "Training Epoch 21: 100%|██████████| 235/235 [00:22<00:00, 10.65batch/s, loss=0.0628]\n",
            "Testing: 100%|██████████| 40/40 [00:02<00:00, 14.41batch/s, loss=0.0874]\n"
          ]
        },
        {
          "metadata": {
            "tags": null
          },
          "name": "stdout",
          "output_type": "stream",
          "text": [
            "\n",
            "Epoch:  22 Train Loss:  0.0004919395471612612 Train Acc top 1:  0.9999666666666667 Test Loss:  0.000698883030610159 Test Acc top 1:  0.9832\n",
            "Train Acc top 5:  1.0 Test Acc top 5:  1.0\n",
            "\n"
          ]
        },
        {
          "metadata": {
            "tags": null
          },
          "name": "stderr",
          "output_type": "stream",
          "text": [
            "Training Epoch 22: 100%|██████████| 235/235 [00:21<00:00, 10.89batch/s, loss=0.0622]\n",
            "Testing: 100%|██████████| 40/40 [00:03<00:00, 12.08batch/s, loss=0.094]\n"
          ]
        },
        {
          "metadata": {
            "tags": null
          },
          "name": "stdout",
          "output_type": "stream",
          "text": [
            "\n",
            "Epoch:  23 Train Loss:  0.00048725816731651624 Train Acc top 1:  0.9999333333333333 Test Loss:  0.0007521901070605963 Test Acc top 1:  0.9822\n",
            "Train Acc top 5:  1.0 Test Acc top 5:  1.0\n",
            "\n"
          ]
        },
        {
          "metadata": {
            "tags": null
          },
          "name": "stderr",
          "output_type": "stream",
          "text": [
            "Training Epoch 23: 100%|██████████| 235/235 [00:21<00:00, 11.06batch/s, loss=0.0615]\n",
            "Testing: 100%|██████████| 40/40 [00:02<00:00, 14.14batch/s, loss=0.0888]\n"
          ]
        },
        {
          "metadata": {
            "tags": null
          },
          "name": "stdout",
          "output_type": "stream",
          "text": [
            "\n",
            "Epoch:  24 Train Loss:  0.00048145745346943536 Train Acc top 1:  1.0 Test Loss:  0.0007102222239831462 Test Acc top 1:  0.983\n",
            "Train Acc top 5:  1.0 Test Acc top 5:  1.0\n",
            "\n"
          ]
        },
        {
          "metadata": {
            "tags": null
          },
          "name": "stderr",
          "output_type": "stream",
          "text": [
            "Training Epoch 24: 100%|██████████| 235/235 [00:22<00:00, 10.60batch/s, loss=0.0603]\n",
            "Testing: 100%|██████████| 40/40 [00:02<00:00, 15.44batch/s, loss=0.0979]\n"
          ]
        },
        {
          "metadata": {
            "tags": null
          },
          "name": "stdout",
          "output_type": "stream",
          "text": [
            "\n",
            "Epoch:  25 Train Loss:  0.000472273005420963 Train Acc top 1:  0.9999666666666667 Test Loss:  0.0007829597676172852 Test Acc top 1:  0.9812\n",
            "Train Acc top 5:  1.0 Test Acc top 5:  1.0\n",
            "\n"
          ]
        },
        {
          "metadata": {
            "tags": null
          },
          "name": "stderr",
          "output_type": "stream",
          "text": [
            "Training Epoch 25: 100%|██████████| 235/235 [00:22<00:00, 10.47batch/s, loss=0.0593]\n",
            "Testing: 100%|██████████| 40/40 [00:02<00:00, 15.28batch/s, loss=0.0948]\n"
          ]
        },
        {
          "metadata": {
            "tags": null
          },
          "name": "stdout",
          "output_type": "stream",
          "text": [
            "\n",
            "Epoch:  26 Train Loss:  0.0004646726614485184 Train Acc top 1:  0.9999666666666667 Test Loss:  0.0007581950523890555 Test Acc top 1:  0.982\n",
            "Train Acc top 5:  1.0 Test Acc top 5:  1.0\n",
            "\n"
          ]
        },
        {
          "metadata": {
            "tags": null
          },
          "name": "stderr",
          "output_type": "stream",
          "text": [
            "Training Epoch 26: 100%|██████████| 235/235 [00:22<00:00, 10.50batch/s, loss=0.0591]\n",
            "Testing: 100%|██████████| 40/40 [00:02<00:00, 15.31batch/s, loss=0.0936]\n"
          ]
        },
        {
          "metadata": {
            "tags": null
          },
          "name": "stdout",
          "output_type": "stream",
          "text": [
            "\n",
            "Epoch:  27 Train Loss:  0.00046260886502762634 Train Acc top 1:  0.9998 Test Loss:  0.000748769555054605 Test Acc top 1:  0.9826\n",
            "Train Acc top 5:  1.0 Test Acc top 5:  1.0\n",
            "\n"
          ]
        },
        {
          "metadata": {
            "tags": null
          },
          "name": "stderr",
          "output_type": "stream",
          "text": [
            "Training Epoch 27: 100%|██████████| 235/235 [00:22<00:00, 10.55batch/s, loss=0.0581]\n",
            "Testing: 100%|██████████| 40/40 [00:02<00:00, 15.73batch/s, loss=0.0934]\n"
          ]
        },
        {
          "metadata": {
            "tags": null
          },
          "name": "stdout",
          "output_type": "stream",
          "text": [
            "\n",
            "Epoch:  28 Train Loss:  0.0004550982091575861 Train Acc top 1:  0.9999666666666667 Test Loss:  0.0007471333805471659 Test Acc top 1:  0.983\n",
            "Train Acc top 5:  1.0 Test Acc top 5:  1.0\n",
            "\n"
          ]
        },
        {
          "metadata": {
            "tags": null
          },
          "name": "stderr",
          "output_type": "stream",
          "text": [
            "Training Epoch 28: 100%|██████████| 235/235 [00:21<00:00, 10.88batch/s, loss=0.0574]\n",
            "Testing: 100%|██████████| 40/40 [00:03<00:00, 12.37batch/s, loss=0.0955]\n"
          ]
        },
        {
          "metadata": {
            "tags": null
          },
          "name": "stdout",
          "output_type": "stream",
          "text": [
            "\n",
            "Epoch:  29 Train Loss:  0.0004493133869022131 Train Acc top 1:  1.0 Test Loss:  0.0007636516117025167 Test Acc top 1:  0.9822\n",
            "Train Acc top 5:  1.0 Test Acc top 5:  1.0\n",
            "\n"
          ]
        },
        {
          "metadata": {
            "tags": null
          },
          "name": "stderr",
          "output_type": "stream",
          "text": [
            "Training Epoch 29: 100%|██████████| 235/235 [00:21<00:00, 11.04batch/s, loss=0.0567]\n",
            "Testing: 100%|██████████| 40/40 [00:02<00:00, 13.87batch/s, loss=0.0976]"
          ]
        },
        {
          "metadata": {
            "tags": null
          },
          "name": "stdout",
          "output_type": "stream",
          "text": [
            "\n",
            "Epoch:  30 Train Loss:  0.0004438952392588059 Train Acc top 1:  0.9998666666666667 Test Loss:  0.0007811004619579762 Test Acc top 1:  0.9804\n",
            "Train Acc top 5:  1.0 Test Acc top 5:  1.0\n",
            "\n"
          ]
        },
        {
          "metadata": {
            "tags": null
          },
          "name": "stderr",
          "output_type": "stream",
          "text": [
            "\n"
          ]
        },
        {
          "data": {
            "text/html": [
              "Waiting for W&B process to finish... <strong style=\"color:green\">(success).</strong>"
            ],
            "text/plain": [
              "<IPython.core.display.HTML object>"
            ]
          },
          "metadata": {},
          "output_type": "display_data"
        },
        {
          "data": {
            "text/html": [
              "<style>\n",
              "    table.wandb td:nth-child(1) { padding: 0 10px; text-align: left ; width: auto;} td:nth-child(2) {text-align: left ; width: 100%}\n",
              "    .wandb-row { display: flex; flex-direction: row; flex-wrap: wrap; justify-content: flex-start; width: 100% }\n",
              "    .wandb-col { display: flex; flex-direction: column; flex-basis: 100%; flex: 1; padding: 10px; }\n",
              "    </style>\n",
              "<div class=\"wandb-row\"><div class=\"wandb-col\"><h3>Run history:</h3><br/><table class=\"wandb\"><tr><td>epoch</td><td>▁▁▁▂▂▂▂▃▃▃▃▄▄▄▄▅▅▅▅▆▆▆▆▇▇▇▇███</td></tr><tr><td>test_acc</td><td>▇█▆▆█▅▇▇▅▇▇█▆▇▇▅▄▆▅▆▇▆▄▆▂▄▅▆▄▁</td></tr><tr><td>test_loss</td><td>▁▂▂▃▃▆▃▃▃▃▄▃▃▇▄▄▅█▄▄▅▄▅▄▆▆▅▅▆▆</td></tr><tr><td>train_acc_top1</td><td>▁▇▇█▇█▆█▇█▇████▇▇██▇▇█▇███▆██▇</td></tr><tr><td>train_loss</td><td>██▇▇▇▆▆▆▅▅▅▅▄▄▃▃▃▃▂▂▂▂▂▂▂▁▁▁▁▁</td></tr></table><br/></div><div class=\"wandb-col\"><h3>Run summary:</h3><br/><table class=\"wandb\"><tr><td>epoch</td><td>29</td></tr><tr><td>test_acc</td><td>0.9804</td></tr><tr><td>test_loss</td><td>0.00078</td></tr><tr><td>train_acc_top1</td><td>0.99987</td></tr><tr><td>train_loss</td><td>0.05667</td></tr></table><br/></div></div>"
            ],
            "text/plain": [
              "<IPython.core.display.HTML object>"
            ]
          },
          "metadata": {},
          "output_type": "display_data"
        },
        {
          "data": {
            "text/html": [
              " View run <strong style=\"color:#cdcd00\">olive-sweep-8</strong> at: <a href='https://wandb.ai/mukul_dl/final_lab_8/runs/pdhqmmnx' target=\"_blank\">https://wandb.ai/mukul_dl/final_lab_8/runs/pdhqmmnx</a><br/>Synced 5 W&B file(s), 0 media file(s), 0 artifact file(s) and 0 other file(s)"
            ],
            "text/plain": [
              "<IPython.core.display.HTML object>"
            ]
          },
          "metadata": {},
          "output_type": "display_data"
        },
        {
          "data": {
            "text/html": [
              "Find logs at: <code>./wandb/run-20230417_144049-pdhqmmnx/logs</code>"
            ],
            "text/plain": [
              "<IPython.core.display.HTML object>"
            ]
          },
          "metadata": {},
          "output_type": "display_data"
        },
        {
          "metadata": {
            "tags": null
          },
          "name": "stderr",
          "output_type": "stream",
          "text": [
            "\u001b[34m\u001b[1mwandb\u001b[0m: Agent Starting Run: eb0h8mfa with config:\n",
            "\u001b[34m\u001b[1mwandb\u001b[0m: \tactivation: Softmax\n",
            "\u001b[34m\u001b[1mwandb\u001b[0m: \tlearning_rate: 0.001\n",
            "\u001b[34m\u001b[1mwandb\u001b[0m: \toptimizer: SGD\n",
            "\u001b[34m\u001b[1mwandb\u001b[0m: \u001b[33mWARNING\u001b[0m Ignored wandb.init() arg project when running a sweep.\n"
          ]
        },
        {
          "data": {
            "text/html": [
              "Tracking run with wandb version 0.14.2"
            ],
            "text/plain": [
              "<IPython.core.display.HTML object>"
            ]
          },
          "metadata": {},
          "output_type": "display_data"
        },
        {
          "data": {
            "text/html": [
              "Run data is saved locally in <code>/content/wandb/run-20230417_145342-eb0h8mfa</code>"
            ],
            "text/plain": [
              "<IPython.core.display.HTML object>"
            ]
          },
          "metadata": {},
          "output_type": "display_data"
        },
        {
          "data": {
            "text/html": [
              "Syncing run <strong><a href='https://wandb.ai/mukul_dl/final_lab_8/runs/eb0h8mfa' target=\"_blank\">ethereal-sweep-9</a></strong> to <a href='https://wandb.ai/mukul_dl/final_lab_8' target=\"_blank\">Weights & Biases</a> (<a href='https://wandb.me/run' target=\"_blank\">docs</a>)<br/>Sweep page: <a href='https://wandb.ai/mukul_dl/final_lab_8/sweeps/rxkozgms' target=\"_blank\">https://wandb.ai/mukul_dl/final_lab_8/sweeps/rxkozgms</a>"
            ],
            "text/plain": [
              "<IPython.core.display.HTML object>"
            ]
          },
          "metadata": {},
          "output_type": "display_data"
        },
        {
          "data": {
            "text/html": [
              " View project at <a href='https://wandb.ai/mukul_dl/final_lab_8' target=\"_blank\">https://wandb.ai/mukul_dl/final_lab_8</a>"
            ],
            "text/plain": [
              "<IPython.core.display.HTML object>"
            ]
          },
          "metadata": {},
          "output_type": "display_data"
        },
        {
          "data": {
            "text/html": [
              " View sweep at <a href='https://wandb.ai/mukul_dl/final_lab_8/sweeps/rxkozgms' target=\"_blank\">https://wandb.ai/mukul_dl/final_lab_8/sweeps/rxkozgms</a>"
            ],
            "text/plain": [
              "<IPython.core.display.HTML object>"
            ]
          },
          "metadata": {},
          "output_type": "display_data"
        },
        {
          "data": {
            "text/html": [
              " View run at <a href='https://wandb.ai/mukul_dl/final_lab_8/runs/eb0h8mfa' target=\"_blank\">https://wandb.ai/mukul_dl/final_lab_8/runs/eb0h8mfa</a>"
            ],
            "text/plain": [
              "<IPython.core.display.HTML object>"
            ]
          },
          "metadata": {},
          "output_type": "display_data"
        },
        {
          "metadata": {
            "tags": null
          },
          "name": "stderr",
          "output_type": "stream",
          "text": [
            "Training Epoch 0: 100%|██████████| 235/235 [00:21<00:00, 10.83batch/s, loss=0.0608]\n",
            "Testing: 100%|██████████| 40/40 [00:03<00:00, 12.46batch/s, loss=0.0872]\n"
          ]
        },
        {
          "metadata": {
            "tags": null
          },
          "name": "stdout",
          "output_type": "stream",
          "text": [
            "\n",
            "Epoch:  1 Train Loss:  0.00047642529581983883 Train Acc top 1:  0.9982333333333334 Test Loss:  0.0006975229520350695 Test Acc top 1:  0.9826\n",
            "Train Acc top 5:  1.0 Test Acc top 5:  1.0\n",
            "\n"
          ]
        },
        {
          "metadata": {
            "tags": null
          },
          "name": "stderr",
          "output_type": "stream",
          "text": [
            "Training Epoch 1: 100%|██████████| 235/235 [00:21<00:00, 10.96batch/s, loss=0.063]\n",
            "Testing: 100%|██████████| 40/40 [00:03<00:00, 12.64batch/s, loss=0.0888]\n"
          ]
        },
        {
          "metadata": {
            "tags": null
          },
          "name": "stdout",
          "output_type": "stream",
          "text": [
            "\n",
            "Epoch:  2 Train Loss:  0.0004938189049561819 Train Acc top 1:  0.9976666666666667 Test Loss:  0.0007105299807386473 Test Acc top 1:  0.98\n",
            "Train Acc top 5:  1.0 Test Acc top 5:  1.0\n",
            "\n"
          ]
        },
        {
          "metadata": {
            "tags": null
          },
          "name": "stderr",
          "output_type": "stream",
          "text": [
            "Training Epoch 2: 100%|██████████| 235/235 [00:21<00:00, 10.90batch/s, loss=0.0606]\n",
            "Testing: 100%|██████████| 40/40 [00:02<00:00, 15.33batch/s, loss=0.0823]\n"
          ]
        },
        {
          "metadata": {
            "tags": null
          },
          "name": "stdout",
          "output_type": "stream",
          "text": [
            "\n",
            "Epoch:  3 Train Loss:  0.0004745509096731742 Train Acc top 1:  0.9983333333333334 Test Loss:  0.0006582474641269073 Test Acc top 1:  0.9818\n",
            "Train Acc top 5:  1.0 Test Acc top 5:  1.0\n",
            "\n"
          ]
        },
        {
          "metadata": {
            "tags": null
          },
          "name": "stderr",
          "output_type": "stream",
          "text": [
            "Training Epoch 3: 100%|██████████| 235/235 [00:22<00:00, 10.63batch/s, loss=0.059]\n",
            "Testing: 100%|██████████| 40/40 [00:02<00:00, 15.41batch/s, loss=0.0745]\n"
          ]
        },
        {
          "metadata": {
            "tags": null
          },
          "name": "stdout",
          "output_type": "stream",
          "text": [
            "\n",
            "Epoch:  4 Train Loss:  0.0004623889656116565 Train Acc top 1:  0.9989666666666667 Test Loss:  0.0005956603382248431 Test Acc top 1:  0.9844\n",
            "Train Acc top 5:  1.0 Test Acc top 5:  1.0\n",
            "\n"
          ]
        },
        {
          "metadata": {
            "tags": null
          },
          "name": "stderr",
          "output_type": "stream",
          "text": [
            "Training Epoch 4: 100%|██████████| 235/235 [00:21<00:00, 10.70batch/s, loss=0.0558]\n",
            "Testing: 100%|██████████| 40/40 [00:02<00:00, 14.89batch/s, loss=0.086]\n"
          ]
        },
        {
          "metadata": {
            "tags": null
          },
          "name": "stdout",
          "output_type": "stream",
          "text": [
            "\n",
            "Epoch:  5 Train Loss:  0.0004368145078420639 Train Acc top 1:  0.9999333333333333 Test Loss:  0.0006879445669706911 Test Acc top 1:  0.9824\n",
            "Train Acc top 5:  1.0 Test Acc top 5:  1.0\n",
            "\n"
          ]
        },
        {
          "metadata": {
            "tags": null
          },
          "name": "stderr",
          "output_type": "stream",
          "text": [
            "Training Epoch 5: 100%|██████████| 235/235 [00:22<00:00, 10.24batch/s, loss=0.055]\n",
            "Testing: 100%|██████████| 40/40 [00:02<00:00, 14.21batch/s, loss=0.0983]\n"
          ]
        },
        {
          "metadata": {
            "tags": null
          },
          "name": "stdout",
          "output_type": "stream",
          "text": [
            "\n",
            "Epoch:  6 Train Loss:  0.0004305456351488829 Train Acc top 1:  0.9999666666666667 Test Loss:  0.0007864735670387745 Test Acc top 1:  0.9834\n",
            "Train Acc top 5:  1.0 Test Acc top 5:  1.0\n",
            "\n"
          ]
        },
        {
          "metadata": {
            "tags": null
          },
          "name": "stderr",
          "output_type": "stream",
          "text": [
            "Training Epoch 6: 100%|██████████| 235/235 [00:21<00:00, 11.10batch/s, loss=0.0546]\n",
            "Testing: 100%|██████████| 40/40 [00:03<00:00, 12.99batch/s, loss=0.0823]\n"
          ]
        },
        {
          "metadata": {
            "tags": null
          },
          "name": "stdout",
          "output_type": "stream",
          "text": [
            "\n",
            "Epoch:  7 Train Loss:  0.0004278306261946758 Train Acc top 1:  1.0 Test Loss:  0.0006584925611969084 Test Acc top 1:  0.9842\n",
            "Train Acc top 5:  1.0 Test Acc top 5:  1.0\n",
            "\n"
          ]
        },
        {
          "metadata": {
            "tags": null
          },
          "name": "stderr",
          "output_type": "stream",
          "text": [
            "Training Epoch 7: 100%|██████████| 235/235 [00:21<00:00, 11.03batch/s, loss=0.0541]\n",
            "Testing: 100%|██████████| 40/40 [00:03<00:00, 12.79batch/s, loss=0.106]\n"
          ]
        },
        {
          "metadata": {
            "tags": null
          },
          "name": "stdout",
          "output_type": "stream",
          "text": [
            "\n",
            "Epoch:  8 Train Loss:  0.0004241633489727974 Train Acc top 1:  1.0 Test Loss:  0.0008474222188349813 Test Acc top 1:  0.9836\n",
            "Train Acc top 5:  1.0 Test Acc top 5:  1.0\n",
            "\n"
          ]
        },
        {
          "metadata": {
            "tags": null
          },
          "name": "stderr",
          "output_type": "stream",
          "text": [
            "Training Epoch 8: 100%|██████████| 235/235 [00:22<00:00, 10.59batch/s, loss=0.054]\n",
            "Testing: 100%|██████████| 40/40 [00:02<00:00, 15.30batch/s, loss=0.0812]\n"
          ]
        },
        {
          "metadata": {
            "tags": null
          },
          "name": "stdout",
          "output_type": "stream",
          "text": [
            "\n",
            "Epoch:  9 Train Loss:  0.0004231883693486452 Train Acc top 1:  0.9999666666666667 Test Loss:  0.0006498546206858009 Test Acc top 1:  0.9832\n",
            "Train Acc top 5:  1.0 Test Acc top 5:  1.0\n",
            "\n"
          ]
        },
        {
          "metadata": {
            "tags": null
          },
          "name": "stderr",
          "output_type": "stream",
          "text": [
            "Training Epoch 9: 100%|██████████| 235/235 [00:23<00:00,  9.86batch/s, loss=0.056]\n",
            "Testing: 100%|██████████| 40/40 [00:02<00:00, 14.75batch/s, loss=0.0824]\n"
          ]
        },
        {
          "metadata": {
            "tags": null
          },
          "name": "stdout",
          "output_type": "stream",
          "text": [
            "\n",
            "Epoch:  10 Train Loss:  0.0004387867836902539 Train Acc top 1:  0.9994000000000001 Test Loss:  0.0006592578747775406 Test Acc top 1:  0.9832\n",
            "Train Acc top 5:  1.0 Test Acc top 5:  1.0\n",
            "\n"
          ]
        },
        {
          "metadata": {
            "tags": null
          },
          "name": "stderr",
          "output_type": "stream",
          "text": [
            "Training Epoch 10: 100%|██████████| 235/235 [00:22<00:00, 10.22batch/s, loss=0.0566]\n",
            "Testing: 100%|██████████| 40/40 [00:02<00:00, 15.09batch/s, loss=0.092]\n"
          ]
        },
        {
          "metadata": {
            "tags": null
          },
          "name": "stdout",
          "output_type": "stream",
          "text": [
            "\n",
            "Epoch:  11 Train Loss:  0.00044354529939591886 Train Acc top 1:  0.9991666666666668 Test Loss:  0.0007360763422679156 Test Acc top 1:  0.981\n",
            "Train Acc top 5:  1.0 Test Acc top 5:  1.0\n",
            "\n"
          ]
        },
        {
          "metadata": {
            "tags": null
          },
          "name": "stderr",
          "output_type": "stream",
          "text": [
            "Training Epoch 11: 100%|██████████| 235/235 [00:22<00:00, 10.41batch/s, loss=0.0621]\n",
            "Testing: 100%|██████████| 40/40 [00:02<00:00, 14.77batch/s, loss=0.0985]\n"
          ]
        },
        {
          "metadata": {
            "tags": null
          },
          "name": "stdout",
          "output_type": "stream",
          "text": [
            "\n",
            "Epoch:  12 Train Loss:  0.0004865015258391698 Train Acc top 1:  0.9972333333333334 Test Loss:  0.000787922587012872 Test Acc top 1:  0.9756\n",
            "Train Acc top 5:  1.0 Test Acc top 5:  1.0\n",
            "\n"
          ]
        },
        {
          "metadata": {
            "tags": null
          },
          "name": "stderr",
          "output_type": "stream",
          "text": [
            "Training Epoch 12: 100%|██████████| 235/235 [00:22<00:00, 10.40batch/s, loss=0.0553]\n",
            "Testing: 100%|██████████| 40/40 [00:03<00:00, 12.75batch/s, loss=0.0896]\n"
          ]
        },
        {
          "metadata": {
            "tags": null
          },
          "name": "stdout",
          "output_type": "stream",
          "text": [
            "\n",
            "Epoch:  13 Train Loss:  0.00043281531681617103 Train Acc top 1:  0.9994666666666667 Test Loss:  0.0007168350727763026 Test Acc top 1:  0.9828\n",
            "Train Acc top 5:  1.0 Test Acc top 5:  1.0\n",
            "\n"
          ]
        },
        {
          "metadata": {
            "tags": null
          },
          "name": "stderr",
          "output_type": "stream",
          "text": [
            "Training Epoch 13: 100%|██████████| 235/235 [00:22<00:00, 10.28batch/s, loss=0.0533]\n",
            "Testing: 100%|██████████| 40/40 [00:02<00:00, 15.41batch/s, loss=0.0898]\n"
          ]
        },
        {
          "metadata": {
            "tags": null
          },
          "name": "stdout",
          "output_type": "stream",
          "text": [
            "\n",
            "Epoch:  14 Train Loss:  0.00041747834272682667 Train Acc top 1:  0.9999333333333333 Test Loss:  0.0007187441832618788 Test Acc top 1:  0.9822\n",
            "Train Acc top 5:  1.0 Test Acc top 5:  1.0\n",
            "\n"
          ]
        },
        {
          "metadata": {
            "tags": null
          },
          "name": "stderr",
          "output_type": "stream",
          "text": [
            "Training Epoch 14: 100%|██████████| 235/235 [00:22<00:00, 10.46batch/s, loss=0.0529]\n",
            "Testing: 100%|██████████| 40/40 [00:02<00:00, 14.53batch/s, loss=0.0911]\n"
          ]
        },
        {
          "metadata": {
            "tags": null
          },
          "name": "stdout",
          "output_type": "stream",
          "text": [
            "\n",
            "Epoch:  15 Train Loss:  0.00041436164552966756 Train Acc top 1:  0.9999333333333333 Test Loss:  0.000728975641541183 Test Acc top 1:  0.982\n",
            "Train Acc top 5:  1.0 Test Acc top 5:  1.0\n",
            "\n"
          ]
        },
        {
          "metadata": {
            "tags": null
          },
          "name": "stderr",
          "output_type": "stream",
          "text": [
            "Training Epoch 15: 100%|██████████| 235/235 [00:21<00:00, 11.03batch/s, loss=0.0542]\n",
            "Testing: 100%|██████████| 40/40 [00:03<00:00, 11.83batch/s, loss=0.091]\n"
          ]
        },
        {
          "metadata": {
            "tags": null
          },
          "name": "stdout",
          "output_type": "stream",
          "text": [
            "\n",
            "Epoch:  16 Train Loss:  0.00042457297382255397 Train Acc top 1:  0.9995 Test Loss:  0.0007283761395141483 Test Acc top 1:  0.982\n",
            "Train Acc top 5:  1.0 Test Acc top 5:  1.0\n",
            "\n"
          ]
        },
        {
          "metadata": {
            "tags": null
          },
          "name": "stderr",
          "output_type": "stream",
          "text": [
            "Training Epoch 16: 100%|██████████| 235/235 [00:21<00:00, 11.05batch/s, loss=0.0529]\n",
            "Testing: 100%|██████████| 40/40 [00:02<00:00, 14.42batch/s, loss=0.0868]\n"
          ]
        },
        {
          "metadata": {
            "tags": null
          },
          "name": "stdout",
          "output_type": "stream",
          "text": [
            "\n",
            "Epoch:  17 Train Loss:  0.0004144044774274031 Train Acc top 1:  0.9997333333333334 Test Loss:  0.0006941528918920085 Test Acc top 1:  0.9832\n",
            "Train Acc top 5:  1.0 Test Acc top 5:  1.0\n",
            "\n"
          ]
        },
        {
          "metadata": {
            "tags": null
          },
          "name": "stderr",
          "output_type": "stream",
          "text": [
            "Training Epoch 17: 100%|██████████| 235/235 [00:22<00:00, 10.66batch/s, loss=0.0533]\n",
            "Testing: 100%|██████████| 40/40 [00:02<00:00, 15.01batch/s, loss=0.108]\n"
          ]
        },
        {
          "metadata": {
            "tags": null
          },
          "name": "stdout",
          "output_type": "stream",
          "text": [
            "\n",
            "Epoch:  18 Train Loss:  0.0004171499306956927 Train Acc top 1:  0.9995666666666667 Test Loss:  0.0008640586362220347 Test Acc top 1:  0.9764\n",
            "Train Acc top 5:  1.0 Test Acc top 5:  1.0\n",
            "\n"
          ]
        },
        {
          "metadata": {
            "tags": null
          },
          "name": "stderr",
          "output_type": "stream",
          "text": [
            "Training Epoch 18: 100%|██████████| 235/235 [00:22<00:00, 10.43batch/s, loss=0.0568]\n",
            "Testing: 100%|██████████| 40/40 [00:02<00:00, 15.87batch/s, loss=0.0905]\n"
          ]
        },
        {
          "metadata": {
            "tags": null
          },
          "name": "stdout",
          "output_type": "stream",
          "text": [
            "\n",
            "Epoch:  19 Train Loss:  0.0004449474334716797 Train Acc top 1:  0.9985666666666667 Test Loss:  0.0007236865155398845 Test Acc top 1:  0.9812\n",
            "Train Acc top 5:  1.0 Test Acc top 5:  1.0\n",
            "\n"
          ]
        },
        {
          "metadata": {
            "tags": null
          },
          "name": "stderr",
          "output_type": "stream",
          "text": [
            "Training Epoch 19: 100%|██████████| 235/235 [00:22<00:00, 10.51batch/s, loss=0.0546]\n",
            "Testing: 100%|██████████| 40/40 [00:02<00:00, 14.54batch/s, loss=0.13]\n"
          ]
        },
        {
          "metadata": {
            "tags": null
          },
          "name": "stdout",
          "output_type": "stream",
          "text": [
            "\n",
            "Epoch:  20 Train Loss:  0.00042779260339836277 Train Acc top 1:  0.9991666666666668 Test Loss:  0.0010372209027875215 Test Acc top 1:  0.9804\n",
            "Train Acc top 5:  1.0 Test Acc top 5:  1.0\n",
            "\n"
          ]
        },
        {
          "metadata": {
            "tags": null
          },
          "name": "stderr",
          "output_type": "stream",
          "text": [
            "Training Epoch 20: 100%|██████████| 235/235 [00:23<00:00, 10.17batch/s, loss=0.055]\n",
            "Testing: 100%|██████████| 40/40 [00:02<00:00, 14.83batch/s, loss=0.0925]\n"
          ]
        },
        {
          "metadata": {
            "tags": null
          },
          "name": "stdout",
          "output_type": "stream",
          "text": [
            "\n",
            "Epoch:  21 Train Loss:  0.00043072530205051103 Train Acc top 1:  0.9989666666666667 Test Loss:  0.0007402339725522324 Test Acc top 1:  0.9806\n",
            "Train Acc top 5:  1.0 Test Acc top 5:  1.0\n",
            "\n"
          ]
        },
        {
          "metadata": {
            "tags": null
          },
          "name": "stderr",
          "output_type": "stream",
          "text": [
            "Training Epoch 21: 100%|██████████| 235/235 [00:21<00:00, 10.70batch/s, loss=0.0526]\n",
            "Testing: 100%|██████████| 40/40 [00:03<00:00, 12.37batch/s, loss=0.0887]\n"
          ]
        },
        {
          "metadata": {
            "tags": null
          },
          "name": "stdout",
          "output_type": "stream",
          "text": [
            "\n",
            "Epoch:  22 Train Loss:  0.0004122764545182387 Train Acc top 1:  0.9997333333333334 Test Loss:  0.0007093122103018686 Test Acc top 1:  0.9824\n",
            "Train Acc top 5:  1.0 Test Acc top 5:  1.0\n",
            "\n"
          ]
        },
        {
          "metadata": {
            "tags": null
          },
          "name": "stderr",
          "output_type": "stream",
          "text": [
            "Training Epoch 22: 100%|██████████| 235/235 [00:21<00:00, 10.73batch/s, loss=0.052]\n",
            "Testing: 100%|██████████| 40/40 [00:03<00:00, 11.49batch/s, loss=0.0907]\n"
          ]
        },
        {
          "metadata": {
            "tags": null
          },
          "name": "stdout",
          "output_type": "stream",
          "text": [
            "\n",
            "Epoch:  23 Train Loss:  0.0004069981692979733 Train Acc top 1:  0.9997666666666667 Test Loss:  0.0007258970336057246 Test Acc top 1:  0.981\n",
            "Train Acc top 5:  1.0 Test Acc top 5:  1.0\n",
            "\n"
          ]
        },
        {
          "metadata": {
            "tags": null
          },
          "name": "stderr",
          "output_type": "stream",
          "text": [
            "Training Epoch 23: 100%|██████████| 235/235 [00:21<00:00, 10.92batch/s, loss=0.0556]\n",
            "Testing: 100%|██████████| 40/40 [00:02<00:00, 14.87batch/s, loss=0.124]\n"
          ]
        },
        {
          "metadata": {
            "tags": null
          },
          "name": "stdout",
          "output_type": "stream",
          "text": [
            "\n",
            "Epoch:  24 Train Loss:  0.00043541459155579406 Train Acc top 1:  0.9986333333333334 Test Loss:  0.000989948994293809 Test Acc top 1:  0.9776\n",
            "Train Acc top 5:  1.0 Test Acc top 5:  1.0\n",
            "\n"
          ]
        },
        {
          "metadata": {
            "tags": null
          },
          "name": "stderr",
          "output_type": "stream",
          "text": [
            "Training Epoch 24: 100%|██████████| 235/235 [00:22<00:00, 10.49batch/s, loss=0.0535]\n",
            "Testing: 100%|██████████| 40/40 [00:02<00:00, 15.18batch/s, loss=0.0932]\n"
          ]
        },
        {
          "metadata": {
            "tags": null
          },
          "name": "stdout",
          "output_type": "stream",
          "text": [
            "\n",
            "Epoch:  25 Train Loss:  0.00041926999154190224 Train Acc top 1:  0.9993000000000001 Test Loss:  0.0007452629885170609 Test Acc top 1:  0.9808\n",
            "Train Acc top 5:  1.0 Test Acc top 5:  1.0\n",
            "\n"
          ]
        },
        {
          "metadata": {
            "tags": null
          },
          "name": "stderr",
          "output_type": "stream",
          "text": [
            "Training Epoch 25: 100%|██████████| 235/235 [00:22<00:00, 10.23batch/s, loss=0.0527]\n",
            "Testing: 100%|██████████| 40/40 [00:02<00:00, 14.85batch/s, loss=0.0984]\n"
          ]
        },
        {
          "metadata": {
            "tags": null
          },
          "name": "stdout",
          "output_type": "stream",
          "text": [
            "\n",
            "Epoch:  26 Train Loss:  0.00041253015572826067 Train Acc top 1:  0.9994000000000001 Test Loss:  0.000787098894873634 Test Acc top 1:  0.9798\n",
            "Train Acc top 5:  1.0 Test Acc top 5:  1.0\n",
            "\n"
          ]
        },
        {
          "metadata": {
            "tags": null
          },
          "name": "stderr",
          "output_type": "stream",
          "text": [
            "Training Epoch 26: 100%|██████████| 235/235 [00:22<00:00, 10.31batch/s, loss=0.0523]\n",
            "Testing: 100%|██████████| 40/40 [00:02<00:00, 14.88batch/s, loss=0.0943]\n"
          ]
        },
        {
          "metadata": {
            "tags": null
          },
          "name": "stdout",
          "output_type": "stream",
          "text": [
            "\n",
            "Epoch:  27 Train Loss:  0.0004094940966616074 Train Acc top 1:  0.9993666666666667 Test Loss:  0.0007544498631032184 Test Acc top 1:  0.9818\n",
            "Train Acc top 5:  1.0 Test Acc top 5:  1.0\n",
            "\n"
          ]
        },
        {
          "metadata": {
            "tags": null
          },
          "name": "stderr",
          "output_type": "stream",
          "text": [
            "Training Epoch 27: 100%|██████████| 235/235 [00:22<00:00, 10.37batch/s, loss=0.0515]\n",
            "Testing: 100%|██████████| 40/40 [00:02<00:00, 15.10batch/s, loss=0.0917]\n"
          ]
        },
        {
          "metadata": {
            "tags": null
          },
          "name": "stdout",
          "output_type": "stream",
          "text": [
            "\n",
            "Epoch:  28 Train Loss:  0.0004037652821590503 Train Acc top 1:  0.9995666666666667 Test Loss:  0.0007338374537415802 Test Acc top 1:  0.9806\n",
            "Train Acc top 5:  1.0 Test Acc top 5:  1.0\n",
            "\n"
          ]
        },
        {
          "metadata": {
            "tags": null
          },
          "name": "stderr",
          "output_type": "stream",
          "text": [
            "Training Epoch 28: 100%|██████████| 235/235 [00:22<00:00, 10.59batch/s, loss=0.0536]\n",
            "Testing: 100%|██████████| 40/40 [00:03<00:00, 12.65batch/s, loss=0.101]\n"
          ]
        },
        {
          "metadata": {
            "tags": null
          },
          "name": "stdout",
          "output_type": "stream",
          "text": [
            "\n",
            "Epoch:  29 Train Loss:  0.00041989454676707587 Train Acc top 1:  0.9989 Test Loss:  0.000811980445170775 Test Acc top 1:  0.9814\n",
            "Train Acc top 5:  1.0 Test Acc top 5:  1.0\n",
            "\n"
          ]
        },
        {
          "metadata": {
            "tags": null
          },
          "name": "stderr",
          "output_type": "stream",
          "text": [
            "Training Epoch 29: 100%|██████████| 235/235 [00:22<00:00, 10.57batch/s, loss=0.0522]\n",
            "Testing: 100%|██████████| 40/40 [00:03<00:00, 11.43batch/s, loss=0.0849]"
          ]
        },
        {
          "metadata": {
            "tags": null
          },
          "name": "stdout",
          "output_type": "stream",
          "text": [
            "\n",
            "Epoch:  30 Train Loss:  0.00040864174154897533 Train Acc top 1:  0.9993333333333334 Test Loss:  0.0006795062371529639 Test Acc top 1:  0.983\n",
            "Train Acc top 5:  1.0 Test Acc top 5:  1.0\n",
            "\n"
          ]
        },
        {
          "metadata": {
            "tags": null
          },
          "name": "stderr",
          "output_type": "stream",
          "text": [
            "\n"
          ]
        },
        {
          "data": {
            "text/html": [
              "Waiting for W&B process to finish... <strong style=\"color:green\">(success).</strong>"
            ],
            "text/plain": [
              "<IPython.core.display.HTML object>"
            ]
          },
          "metadata": {},
          "output_type": "display_data"
        },
        {
          "data": {
            "application/vnd.jupyter.widget-view+json": {
              "model_id": "519ec68207d64635960732b888e4cd76",
              "version_major": 2,
              "version_minor": 0
            },
            "text/plain": [
              "VBox(children=(Label(value='0.001 MB of 0.001 MB uploaded (0.000 MB deduped)\\r'), FloatProgress(value=1.0, max…"
            ]
          },
          "metadata": {},
          "output_type": "display_data"
        },
        {
          "data": {
            "text/html": [
              "<style>\n",
              "    table.wandb td:nth-child(1) { padding: 0 10px; text-align: left ; width: auto;} td:nth-child(2) {text-align: left ; width: 100%}\n",
              "    .wandb-row { display: flex; flex-direction: row; flex-wrap: wrap; justify-content: flex-start; width: 100% }\n",
              "    .wandb-col { display: flex; flex-direction: column; flex-basis: 100%; flex: 1; padding: 10px; }\n",
              "    </style>\n",
              "<div class=\"wandb-row\"><div class=\"wandb-col\"><h3>Run history:</h3><br/><table class=\"wandb\"><tr><td>epoch</td><td>▁▁▁▂▂▂▂▃▃▃▃▄▄▄▄▅▅▅▅▆▆▆▆▇▇▇▇███</td></tr><tr><td>test_acc</td><td>▇▅▆█▆▇█▇▇▇▅▁▇▆▆▆▇▂▅▅▅▆▅▃▅▄▆▅▆▇</td></tr><tr><td>test_loss</td><td>▃▃▂▁▂▄▂▅▂▂▃▄▃▃▃▃▃▅▃█▃▃▃▇▃▄▄▃▄▂</td></tr><tr><td>train_acc_top1</td><td>▄▂▄▅█████▆▆▁▇██▇▇▇▄▆▅▇▇▅▆▆▆▇▅▆</td></tr><tr><td>train_loss</td><td>▇█▇▆▄▃▃▃▃▄▄▇▃▂▂▃▂▂▄▃▃▂▁▃▂▂▁▁▂▁</td></tr></table><br/></div><div class=\"wandb-col\"><h3>Run summary:</h3><br/><table class=\"wandb\"><tr><td>epoch</td><td>29</td></tr><tr><td>test_acc</td><td>0.983</td></tr><tr><td>test_loss</td><td>0.00068</td></tr><tr><td>train_acc_top1</td><td>0.99933</td></tr><tr><td>train_loss</td><td>0.05217</td></tr></table><br/></div></div>"
            ],
            "text/plain": [
              "<IPython.core.display.HTML object>"
            ]
          },
          "metadata": {},
          "output_type": "display_data"
        },
        {
          "data": {
            "text/html": [
              " View run <strong style=\"color:#cdcd00\">ethereal-sweep-9</strong> at: <a href='https://wandb.ai/mukul_dl/final_lab_8/runs/eb0h8mfa' target=\"_blank\">https://wandb.ai/mukul_dl/final_lab_8/runs/eb0h8mfa</a><br/>Synced 5 W&B file(s), 0 media file(s), 0 artifact file(s) and 0 other file(s)"
            ],
            "text/plain": [
              "<IPython.core.display.HTML object>"
            ]
          },
          "metadata": {},
          "output_type": "display_data"
        },
        {
          "data": {
            "text/html": [
              "Find logs at: <code>./wandb/run-20230417_145342-eb0h8mfa/logs</code>"
            ],
            "text/plain": [
              "<IPython.core.display.HTML object>"
            ]
          },
          "metadata": {},
          "output_type": "display_data"
        },
        {
          "metadata": {
            "tags": null
          },
          "name": "stderr",
          "output_type": "stream",
          "text": [
            "\u001b[34m\u001b[1mwandb\u001b[0m: Agent Starting Run: 06838evy with config:\n",
            "\u001b[34m\u001b[1mwandb\u001b[0m: \tactivation: ReLU\n",
            "\u001b[34m\u001b[1mwandb\u001b[0m: \tlearning_rate: 3e-05\n",
            "\u001b[34m\u001b[1mwandb\u001b[0m: \toptimizer: RMSprop\n",
            "\u001b[34m\u001b[1mwandb\u001b[0m: \u001b[33mWARNING\u001b[0m Ignored wandb.init() arg project when running a sweep.\n"
          ]
        },
        {
          "data": {
            "text/html": [
              "Tracking run with wandb version 0.14.2"
            ],
            "text/plain": [
              "<IPython.core.display.HTML object>"
            ]
          },
          "metadata": {},
          "output_type": "display_data"
        },
        {
          "data": {
            "text/html": [
              "Run data is saved locally in <code>/content/wandb/run-20230417_150632-06838evy</code>"
            ],
            "text/plain": [
              "<IPython.core.display.HTML object>"
            ]
          },
          "metadata": {},
          "output_type": "display_data"
        },
        {
          "data": {
            "text/html": [
              "Syncing run <strong><a href='https://wandb.ai/mukul_dl/final_lab_8/runs/06838evy' target=\"_blank\">zany-sweep-10</a></strong> to <a href='https://wandb.ai/mukul_dl/final_lab_8' target=\"_blank\">Weights & Biases</a> (<a href='https://wandb.me/run' target=\"_blank\">docs</a>)<br/>Sweep page: <a href='https://wandb.ai/mukul_dl/final_lab_8/sweeps/rxkozgms' target=\"_blank\">https://wandb.ai/mukul_dl/final_lab_8/sweeps/rxkozgms</a>"
            ],
            "text/plain": [
              "<IPython.core.display.HTML object>"
            ]
          },
          "metadata": {},
          "output_type": "display_data"
        },
        {
          "data": {
            "text/html": [
              " View project at <a href='https://wandb.ai/mukul_dl/final_lab_8' target=\"_blank\">https://wandb.ai/mukul_dl/final_lab_8</a>"
            ],
            "text/plain": [
              "<IPython.core.display.HTML object>"
            ]
          },
          "metadata": {},
          "output_type": "display_data"
        },
        {
          "data": {
            "text/html": [
              " View sweep at <a href='https://wandb.ai/mukul_dl/final_lab_8/sweeps/rxkozgms' target=\"_blank\">https://wandb.ai/mukul_dl/final_lab_8/sweeps/rxkozgms</a>"
            ],
            "text/plain": [
              "<IPython.core.display.HTML object>"
            ]
          },
          "metadata": {},
          "output_type": "display_data"
        },
        {
          "data": {
            "text/html": [
              " View run at <a href='https://wandb.ai/mukul_dl/final_lab_8/runs/06838evy' target=\"_blank\">https://wandb.ai/mukul_dl/final_lab_8/runs/06838evy</a>"
            ],
            "text/plain": [
              "<IPython.core.display.HTML object>"
            ]
          },
          "metadata": {},
          "output_type": "display_data"
        },
        {
          "metadata": {
            "tags": null
          },
          "name": "stderr",
          "output_type": "stream",
          "text": [
            "Training Epoch 0: 100%|██████████| 235/235 [00:24<00:00,  9.69batch/s, loss=0.0507]\n",
            "Testing: 100%|██████████| 40/40 [00:02<00:00, 13.94batch/s, loss=0.0925]\n"
          ]
        },
        {
          "metadata": {
            "tags": null
          },
          "name": "stdout",
          "output_type": "stream",
          "text": [
            "\n",
            "Epoch:  1 Train Loss:  0.00039745552875101564 Train Acc top 1:  0.9995666666666667 Test Loss:  0.0007402815694455057 Test Acc top 1:  0.9816\n",
            "Train Acc top 5:  1.0 Test Acc top 5:  1.0\n",
            "\n"
          ]
        },
        {
          "metadata": {
            "tags": null
          },
          "name": "stderr",
          "output_type": "stream",
          "text": [
            "Training Epoch 1: 100%|██████████| 235/235 [00:23<00:00,  9.93batch/s, loss=0.0495]\n",
            "Testing: 100%|██████████| 40/40 [00:02<00:00, 14.25batch/s, loss=0.0905]\n"
          ]
        },
        {
          "metadata": {
            "tags": null
          },
          "name": "stdout",
          "output_type": "stream",
          "text": [
            "\n",
            "Epoch:  2 Train Loss:  0.0003877331754813592 Train Acc top 1:  0.9999333333333333 Test Loss:  0.0007236638208851219 Test Acc top 1:  0.9824\n",
            "Train Acc top 5:  1.0 Test Acc top 5:  1.0\n",
            "\n"
          ]
        },
        {
          "metadata": {
            "tags": null
          },
          "name": "stderr",
          "output_type": "stream",
          "text": [
            "Training Epoch 2: 100%|██████████| 235/235 [00:23<00:00,  9.95batch/s, loss=0.049]\n",
            "Testing: 100%|██████████| 40/40 [00:02<00:00, 13.96batch/s, loss=0.0894]\n"
          ]
        },
        {
          "metadata": {
            "tags": null
          },
          "name": "stdout",
          "output_type": "stream",
          "text": [
            "\n",
            "Epoch:  3 Train Loss:  0.0003834719277918339 Train Acc top 1:  1.0 Test Loss:  0.0007154426829423756 Test Acc top 1:  0.9832\n",
            "Train Acc top 5:  1.0 Test Acc top 5:  1.0\n",
            "\n"
          ]
        },
        {
          "metadata": {
            "tags": null
          },
          "name": "stderr",
          "output_type": "stream",
          "text": [
            "Training Epoch 3: 100%|██████████| 235/235 [00:24<00:00,  9.67batch/s, loss=0.0485]\n",
            "Testing: 100%|██████████| 40/40 [00:02<00:00, 14.02batch/s, loss=0.0863]\n"
          ]
        },
        {
          "metadata": {
            "tags": null
          },
          "name": "stdout",
          "output_type": "stream",
          "text": [
            "\n",
            "Epoch:  4 Train Loss:  0.00038003587561349076 Train Acc top 1:  0.9999666666666667 Test Loss:  0.00069008878772147 Test Acc top 1:  0.9826\n",
            "Train Acc top 5:  1.0 Test Acc top 5:  1.0\n",
            "\n"
          ]
        },
        {
          "metadata": {
            "tags": null
          },
          "name": "stderr",
          "output_type": "stream",
          "text": [
            "Training Epoch 4: 100%|██████████| 235/235 [00:24<00:00,  9.73batch/s, loss=0.0476]\n",
            "Testing: 100%|██████████| 40/40 [00:02<00:00, 14.35batch/s, loss=0.103]\n"
          ]
        },
        {
          "metadata": {
            "tags": null
          },
          "name": "stdout",
          "output_type": "stream",
          "text": [
            "\n",
            "Epoch:  5 Train Loss:  0.0003728385185201963 Train Acc top 1:  0.9999666666666667 Test Loss:  0.0008230215934105217 Test Acc top 1:  0.981\n",
            "Train Acc top 5:  1.0 Test Acc top 5:  1.0\n",
            "\n"
          ]
        },
        {
          "metadata": {
            "tags": null
          },
          "name": "stderr",
          "output_type": "stream",
          "text": [
            "Training Epoch 5: 100%|██████████| 235/235 [00:23<00:00,  9.91batch/s, loss=0.0472]\n",
            "Testing: 100%|██████████| 40/40 [00:02<00:00, 13.97batch/s, loss=0.0926]\n"
          ]
        },
        {
          "metadata": {
            "tags": null
          },
          "name": "stdout",
          "output_type": "stream",
          "text": [
            "\n",
            "Epoch:  6 Train Loss:  0.00036939372445146245 Train Acc top 1:  0.9999 Test Loss:  0.0007404685371089726 Test Acc top 1:  0.9822\n",
            "Train Acc top 5:  1.0 Test Acc top 5:  1.0\n",
            "\n"
          ]
        },
        {
          "metadata": {
            "tags": null
          },
          "name": "stderr",
          "output_type": "stream",
          "text": [
            "Training Epoch 6: 100%|██████████| 235/235 [00:23<00:00,  9.89batch/s, loss=0.0472]\n",
            "Testing: 100%|██████████| 40/40 [00:03<00:00, 13.27batch/s, loss=0.0875]\n"
          ]
        },
        {
          "metadata": {
            "tags": null
          },
          "name": "stdout",
          "output_type": "stream",
          "text": [
            "\n",
            "Epoch:  7 Train Loss:  0.000369961695621411 Train Acc top 1:  0.9998 Test Loss:  0.0007002794235479087 Test Acc top 1:  0.9826\n",
            "Train Acc top 5:  1.0 Test Acc top 5:  1.0\n",
            "\n"
          ]
        },
        {
          "metadata": {
            "tags": null
          },
          "name": "stderr",
          "output_type": "stream",
          "text": [
            "Training Epoch 7: 100%|██████████| 235/235 [00:23<00:00, 10.03batch/s, loss=0.0464]\n",
            "Testing: 100%|██████████| 40/40 [00:03<00:00, 12.56batch/s, loss=0.0973]\n"
          ]
        },
        {
          "metadata": {
            "tags": null
          },
          "name": "stdout",
          "output_type": "stream",
          "text": [
            "\n",
            "Epoch:  8 Train Loss:  0.0003637044738978148 Train Acc top 1:  1.0 Test Loss:  0.0007784930205438286 Test Acc top 1:  0.9826\n",
            "Train Acc top 5:  1.0 Test Acc top 5:  1.0\n",
            "\n"
          ]
        },
        {
          "metadata": {
            "tags": null
          },
          "name": "stderr",
          "output_type": "stream",
          "text": [
            "Training Epoch 8: 100%|██████████| 235/235 [00:23<00:00,  9.94batch/s, loss=0.046]\n",
            "Testing: 100%|██████████| 40/40 [00:03<00:00, 12.12batch/s, loss=0.088]\n"
          ]
        },
        {
          "metadata": {
            "tags": null
          },
          "name": "stdout",
          "output_type": "stream",
          "text": [
            "\n",
            "Epoch:  9 Train Loss:  0.00036017721282939115 Train Acc top 1:  1.0 Test Loss:  0.0007039404740557075 Test Acc top 1:  0.9838\n",
            "Train Acc top 5:  1.0 Test Acc top 5:  1.0\n",
            "\n"
          ]
        },
        {
          "metadata": {
            "tags": null
          },
          "name": "stderr",
          "output_type": "stream",
          "text": [
            "Training Epoch 9: 100%|██████████| 235/235 [00:23<00:00, 10.08batch/s, loss=0.0452]\n",
            "Testing: 100%|██████████| 40/40 [00:03<00:00, 11.00batch/s, loss=0.0926]\n"
          ]
        },
        {
          "metadata": {
            "tags": null
          },
          "name": "stdout",
          "output_type": "stream",
          "text": [
            "\n",
            "Epoch:  10 Train Loss:  0.0003543491030732791 Train Acc top 1:  0.9999666666666667 Test Loss:  0.0007410920754540712 Test Acc top 1:  0.9822\n",
            "Train Acc top 5:  1.0 Test Acc top 5:  1.0\n",
            "\n"
          ]
        },
        {
          "metadata": {
            "tags": null
          },
          "name": "stderr",
          "output_type": "stream",
          "text": [
            "Training Epoch 10: 100%|██████████| 235/235 [00:23<00:00, 10.17batch/s, loss=0.0445]\n",
            "Testing: 100%|██████████| 40/40 [00:03<00:00, 11.23batch/s, loss=0.0908]\n"
          ]
        },
        {
          "metadata": {
            "tags": null
          },
          "name": "stdout",
          "output_type": "stream",
          "text": [
            "\n",
            "Epoch:  11 Train Loss:  0.0003488341654340426 Train Acc top 1:  1.0 Test Loss:  0.0007265449529048055 Test Acc top 1:  0.9816\n",
            "Train Acc top 5:  1.0 Test Acc top 5:  1.0\n",
            "\n"
          ]
        },
        {
          "metadata": {
            "tags": null
          },
          "name": "stderr",
          "output_type": "stream",
          "text": [
            "Training Epoch 11: 100%|██████████| 235/235 [00:23<00:00, 10.21batch/s, loss=0.0444]\n",
            "Testing: 100%|██████████| 40/40 [00:03<00:00, 12.49batch/s, loss=0.0847]\n"
          ]
        },
        {
          "metadata": {
            "tags": null
          },
          "name": "stdout",
          "output_type": "stream",
          "text": [
            "\n",
            "Epoch:  12 Train Loss:  0.0003478910425057014 Train Acc top 1:  0.9999 Test Loss:  0.0006779087165836244 Test Acc top 1:  0.9828\n",
            "Train Acc top 5:  1.0 Test Acc top 5:  1.0\n",
            "\n"
          ]
        },
        {
          "metadata": {
            "tags": null
          },
          "name": "stderr",
          "output_type": "stream",
          "text": [
            "Training Epoch 12: 100%|██████████| 235/235 [00:23<00:00, 10.03batch/s, loss=0.0437]\n",
            "Testing: 100%|██████████| 40/40 [00:03<00:00, 13.26batch/s, loss=0.0882]\n"
          ]
        },
        {
          "metadata": {
            "tags": null
          },
          "name": "stdout",
          "output_type": "stream",
          "text": [
            "\n",
            "Epoch:  13 Train Loss:  0.00034218670924504596 Train Acc top 1:  1.0 Test Loss:  0.0007053397670388221 Test Acc top 1:  0.9832\n",
            "Train Acc top 5:  1.0 Test Acc top 5:  1.0\n",
            "\n"
          ]
        },
        {
          "metadata": {
            "tags": null
          },
          "name": "stderr",
          "output_type": "stream",
          "text": [
            "Training Epoch 13: 100%|██████████| 235/235 [00:23<00:00,  9.85batch/s, loss=0.043]\n",
            "Testing: 100%|██████████| 40/40 [00:02<00:00, 14.14batch/s, loss=0.0864]\n"
          ]
        },
        {
          "metadata": {
            "tags": null
          },
          "name": "stdout",
          "output_type": "stream",
          "text": [
            "\n",
            "Epoch:  14 Train Loss:  0.00033665321966012317 Train Acc top 1:  1.0 Test Loss:  0.0006914617943577469 Test Acc top 1:  0.984\n",
            "Train Acc top 5:  1.0 Test Acc top 5:  1.0\n",
            "\n"
          ]
        },
        {
          "metadata": {
            "tags": null
          },
          "name": "stderr",
          "output_type": "stream",
          "text": [
            "Training Epoch 14: 100%|██████████| 235/235 [00:23<00:00, 10.00batch/s, loss=0.0421]\n",
            "Testing: 100%|██████████| 40/40 [00:02<00:00, 14.12batch/s, loss=0.0931]\n"
          ]
        },
        {
          "metadata": {
            "tags": null
          },
          "name": "stdout",
          "output_type": "stream",
          "text": [
            "\n",
            "Epoch:  15 Train Loss:  0.00032939578418930373 Train Acc top 1:  0.9999333333333333 Test Loss:  0.0007445366077125072 Test Acc top 1:  0.9824\n",
            "Train Acc top 5:  1.0 Test Acc top 5:  1.0\n",
            "\n"
          ]
        },
        {
          "metadata": {
            "tags": null
          },
          "name": "stderr",
          "output_type": "stream",
          "text": [
            "Training Epoch 15: 100%|██████████| 235/235 [00:23<00:00,  9.95batch/s, loss=0.0412]\n",
            "Testing: 100%|██████████| 40/40 [00:02<00:00, 14.45batch/s, loss=0.0931]\n"
          ]
        },
        {
          "metadata": {
            "tags": null
          },
          "name": "stdout",
          "output_type": "stream",
          "text": [
            "\n",
            "Epoch:  16 Train Loss:  0.0003225038517266512 Train Acc top 1:  1.0 Test Loss:  0.0007449355317745358 Test Acc top 1:  0.9816\n",
            "Train Acc top 5:  1.0 Test Acc top 5:  1.0\n",
            "\n"
          ]
        },
        {
          "metadata": {
            "tags": null
          },
          "name": "stderr",
          "output_type": "stream",
          "text": [
            "Training Epoch 16: 100%|██████████| 235/235 [00:23<00:00,  9.89batch/s, loss=0.0412]\n",
            "Testing: 100%|██████████| 40/40 [00:02<00:00, 14.81batch/s, loss=0.101]\n"
          ]
        },
        {
          "metadata": {
            "tags": null
          },
          "name": "stdout",
          "output_type": "stream",
          "text": [
            "\n",
            "Epoch:  17 Train Loss:  0.0003223894255856673 Train Acc top 1:  0.9999333333333333 Test Loss:  0.0008106921136379242 Test Acc top 1:  0.981\n",
            "Train Acc top 5:  1.0 Test Acc top 5:  1.0\n",
            "\n"
          ]
        },
        {
          "metadata": {
            "tags": null
          },
          "name": "stderr",
          "output_type": "stream",
          "text": [
            "Training Epoch 17: 100%|██████████| 235/235 [00:23<00:00,  9.81batch/s, loss=0.0405]\n",
            "Testing: 100%|██████████| 40/40 [00:02<00:00, 14.40batch/s, loss=0.09]\n"
          ]
        },
        {
          "metadata": {
            "tags": null
          },
          "name": "stdout",
          "output_type": "stream",
          "text": [
            "\n",
            "Epoch:  18 Train Loss:  0.0003169206609328588 Train Acc top 1:  1.0 Test Loss:  0.0007200534111820162 Test Acc top 1:  0.9822\n",
            "Train Acc top 5:  1.0 Test Acc top 5:  1.0\n",
            "\n"
          ]
        },
        {
          "metadata": {
            "tags": null
          },
          "name": "stderr",
          "output_type": "stream",
          "text": [
            "Training Epoch 18: 100%|██████████| 235/235 [00:24<00:00,  9.64batch/s, loss=0.0411]\n",
            "Testing: 100%|██████████| 40/40 [00:02<00:00, 14.39batch/s, loss=0.098]\n"
          ]
        },
        {
          "metadata": {
            "tags": null
          },
          "name": "stdout",
          "output_type": "stream",
          "text": [
            "\n",
            "Epoch:  19 Train Loss:  0.00032164223367969194 Train Acc top 1:  0.9997666666666667 Test Loss:  0.0007836691341362894 Test Acc top 1:  0.981\n",
            "Train Acc top 5:  1.0 Test Acc top 5:  1.0\n",
            "\n"
          ]
        },
        {
          "metadata": {
            "tags": null
          },
          "name": "stderr",
          "output_type": "stream",
          "text": [
            "Training Epoch 19: 100%|██████████| 235/235 [00:24<00:00,  9.78batch/s, loss=0.0403]\n",
            "Testing: 100%|██████████| 40/40 [00:02<00:00, 14.74batch/s, loss=0.0922]\n"
          ]
        },
        {
          "metadata": {
            "tags": null
          },
          "name": "stdout",
          "output_type": "stream",
          "text": [
            "\n",
            "Epoch:  20 Train Loss:  0.0003159865316003561 Train Acc top 1:  0.9998666666666667 Test Loss:  0.0007376276998315006 Test Acc top 1:  0.9816\n",
            "Train Acc top 5:  1.0 Test Acc top 5:  1.0\n",
            "\n"
          ]
        },
        {
          "metadata": {
            "tags": null
          },
          "name": "stderr",
          "output_type": "stream",
          "text": [
            "Training Epoch 20: 100%|██████████| 235/235 [00:23<00:00, 10.04batch/s, loss=0.0399]\n",
            "Testing: 100%|██████████| 40/40 [00:02<00:00, 14.92batch/s, loss=0.0845]\n"
          ]
        },
        {
          "metadata": {
            "tags": null
          },
          "name": "stdout",
          "output_type": "stream",
          "text": [
            "\n",
            "Epoch:  21 Train Loss:  0.00031287968344986437 Train Acc top 1:  1.0 Test Loss:  0.0006759118652436882 Test Acc top 1:  0.9836\n",
            "Train Acc top 5:  1.0 Test Acc top 5:  1.0\n",
            "\n"
          ]
        },
        {
          "metadata": {
            "tags": null
          },
          "name": "stderr",
          "output_type": "stream",
          "text": [
            "Training Epoch 21: 100%|██████████| 235/235 [00:23<00:00,  9.93batch/s, loss=0.0401]\n",
            "Testing: 100%|██████████| 40/40 [00:02<00:00, 14.97batch/s, loss=0.0837]\n"
          ]
        },
        {
          "metadata": {
            "tags": null
          },
          "name": "stdout",
          "output_type": "stream",
          "text": [
            "\n",
            "Epoch:  22 Train Loss:  0.00031441369391977785 Train Acc top 1:  0.9998666666666667 Test Loss:  0.0006695493683218956 Test Acc top 1:  0.9832\n",
            "Train Acc top 5:  1.0 Test Acc top 5:  1.0\n",
            "\n"
          ]
        },
        {
          "metadata": {
            "tags": null
          },
          "name": "stderr",
          "output_type": "stream",
          "text": [
            "Training Epoch 22: 100%|██████████| 235/235 [00:23<00:00,  9.96batch/s, loss=0.0394]\n",
            "Testing: 100%|██████████| 40/40 [00:02<00:00, 14.42batch/s, loss=0.0867]\n"
          ]
        },
        {
          "metadata": {
            "tags": null
          },
          "name": "stdout",
          "output_type": "stream",
          "text": [
            "\n",
            "Epoch:  23 Train Loss:  0.00030869218943019707 Train Acc top 1:  1.0 Test Loss:  0.0006932398657780141 Test Acc top 1:  0.9822\n",
            "Train Acc top 5:  1.0 Test Acc top 5:  1.0\n",
            "\n"
          ]
        },
        {
          "metadata": {
            "tags": null
          },
          "name": "stderr",
          "output_type": "stream",
          "text": [
            "Training Epoch 23: 100%|██████████| 235/235 [00:23<00:00,  9.92batch/s, loss=0.0391]\n",
            "Testing: 100%|██████████| 40/40 [00:02<00:00, 14.59batch/s, loss=0.117]\n"
          ]
        },
        {
          "metadata": {
            "tags": null
          },
          "name": "stdout",
          "output_type": "stream",
          "text": [
            "\n",
            "Epoch:  24 Train Loss:  0.00030654514816900097 Train Acc top 1:  0.9999333333333333 Test Loss:  0.0009337723613716662 Test Acc top 1:  0.9818\n",
            "Train Acc top 5:  1.0 Test Acc top 5:  1.0\n",
            "\n"
          ]
        },
        {
          "metadata": {
            "tags": null
          },
          "name": "stderr",
          "output_type": "stream",
          "text": [
            "Training Epoch 24: 100%|██████████| 235/235 [00:23<00:00,  9.93batch/s, loss=0.0388]\n",
            "Testing: 100%|██████████| 40/40 [00:02<00:00, 14.16batch/s, loss=0.0967]\n"
          ]
        },
        {
          "metadata": {
            "tags": null
          },
          "name": "stdout",
          "output_type": "stream",
          "text": [
            "\n",
            "Epoch:  25 Train Loss:  0.0003039763697733482 Train Acc top 1:  1.0 Test Loss:  0.0007735857538413257 Test Acc top 1:  0.9822\n",
            "Train Acc top 5:  1.0 Test Acc top 5:  1.0\n",
            "\n"
          ]
        },
        {
          "metadata": {
            "tags": null
          },
          "name": "stderr",
          "output_type": "stream",
          "text": [
            "Training Epoch 25: 100%|██████████| 235/235 [00:23<00:00, 10.11batch/s, loss=0.0384]\n",
            "Testing: 100%|██████████| 40/40 [00:03<00:00, 12.19batch/s, loss=0.107]\n"
          ]
        },
        {
          "metadata": {
            "tags": null
          },
          "name": "stdout",
          "output_type": "stream",
          "text": [
            "\n",
            "Epoch:  26 Train Loss:  0.0003008877864728371 Train Acc top 1:  1.0 Test Loss:  0.0008585142678581178 Test Acc top 1:  0.9834\n",
            "Train Acc top 5:  1.0 Test Acc top 5:  1.0\n",
            "\n"
          ]
        },
        {
          "metadata": {
            "tags": null
          },
          "name": "stderr",
          "output_type": "stream",
          "text": [
            "Training Epoch 26: 100%|██████████| 235/235 [00:22<00:00, 10.46batch/s, loss=0.0385]\n",
            "Testing: 100%|██████████| 40/40 [00:03<00:00, 11.22batch/s, loss=0.11]\n"
          ]
        },
        {
          "metadata": {
            "tags": null
          },
          "name": "stdout",
          "output_type": "stream",
          "text": [
            "\n",
            "Epoch:  27 Train Loss:  0.0003017254496614138 Train Acc top 1:  0.9997666666666667 Test Loss:  0.000881191062182188 Test Acc top 1:  0.9826\n",
            "Train Acc top 5:  1.0 Test Acc top 5:  1.0\n",
            "\n"
          ]
        },
        {
          "metadata": {
            "tags": null
          },
          "name": "stderr",
          "output_type": "stream",
          "text": [
            "Training Epoch 27: 100%|██████████| 235/235 [00:22<00:00, 10.64batch/s, loss=0.0378]\n",
            "Testing: 100%|██████████| 40/40 [00:03<00:00, 12.54batch/s, loss=0.0858]\n"
          ]
        },
        {
          "metadata": {
            "tags": null
          },
          "name": "stdout",
          "output_type": "stream",
          "text": [
            "\n",
            "Epoch:  28 Train Loss:  0.0002963577028363943 Train Acc top 1:  1.0 Test Loss:  0.0006864230431150645 Test Acc top 1:  0.9834\n",
            "Train Acc top 5:  1.0 Test Acc top 5:  1.0\n",
            "\n"
          ]
        },
        {
          "metadata": {
            "tags": null
          },
          "name": "stderr",
          "output_type": "stream",
          "text": [
            "Training Epoch 28: 100%|██████████| 235/235 [00:23<00:00, 10.21batch/s, loss=0.0384]\n",
            "Testing: 100%|██████████| 40/40 [00:02<00:00, 13.57batch/s, loss=0.114]\n"
          ]
        },
        {
          "metadata": {
            "tags": null
          },
          "name": "stdout",
          "output_type": "stream",
          "text": [
            "\n",
            "Epoch:  29 Train Loss:  0.00030053482837975025 Train Acc top 1:  0.9997666666666667 Test Loss:  0.0009116431764792651 Test Acc top 1:  0.982\n",
            "Train Acc top 5:  1.0 Test Acc top 5:  1.0\n",
            "\n"
          ]
        },
        {
          "metadata": {
            "tags": null
          },
          "name": "stderr",
          "output_type": "stream",
          "text": [
            "Training Epoch 29: 100%|██████████| 235/235 [00:23<00:00, 10.20batch/s, loss=0.0379]\n",
            "Testing: 100%|██████████| 40/40 [00:02<00:00, 14.25batch/s, loss=0.0875]"
          ]
        },
        {
          "metadata": {
            "tags": null
          },
          "name": "stdout",
          "output_type": "stream",
          "text": [
            "\n",
            "Epoch:  30 Train Loss:  0.0002965611105163892 Train Acc top 1:  0.9998333333333334 Test Loss:  0.0007001204003579915 Test Acc top 1:  0.982\n",
            "Train Acc top 5:  1.0 Test Acc top 5:  1.0\n",
            "\n"
          ]
        },
        {
          "metadata": {
            "tags": null
          },
          "name": "stderr",
          "output_type": "stream",
          "text": [
            "\n"
          ]
        },
        {
          "data": {
            "text/html": [
              "Waiting for W&B process to finish... <strong style=\"color:green\">(success).</strong>"
            ],
            "text/plain": [
              "<IPython.core.display.HTML object>"
            ]
          },
          "metadata": {},
          "output_type": "display_data"
        },
        {
          "data": {
            "application/vnd.jupyter.widget-view+json": {
              "model_id": "d208b19540384e359f184524b6596f5b",
              "version_major": 2,
              "version_minor": 0
            },
            "text/plain": [
              "VBox(children=(Label(value='0.001 MB of 0.001 MB uploaded (0.000 MB deduped)\\r'), FloatProgress(value=1.0, max…"
            ]
          },
          "metadata": {},
          "output_type": "display_data"
        },
        {
          "data": {
            "text/html": [
              "<style>\n",
              "    table.wandb td:nth-child(1) { padding: 0 10px; text-align: left ; width: auto;} td:nth-child(2) {text-align: left ; width: 100%}\n",
              "    .wandb-row { display: flex; flex-direction: row; flex-wrap: wrap; justify-content: flex-start; width: 100% }\n",
              "    .wandb-col { display: flex; flex-direction: column; flex-basis: 100%; flex: 1; padding: 10px; }\n",
              "    </style>\n",
              "<div class=\"wandb-row\"><div class=\"wandb-col\"><h3>Run history:</h3><br/><table class=\"wandb\"><tr><td>epoch</td><td>▁▁▁▂▂▂▂▃▃▃▃▄▄▄▄▅▅▅▅▆▆▆▆▇▇▇▇███</td></tr><tr><td>test_acc</td><td>▂▄▆▅▁▄▅▅█▄▂▅▆█▄▂▁▄▁▂▇▆▄▃▄▇▅▇▃▃</td></tr><tr><td>test_loss</td><td>▃▂▂▂▅▃▂▄▂▃▃▁▂▂▃▃▅▂▄▃▁▁▂█▄▆▇▁▇▂</td></tr><tr><td>train_acc_top1</td><td>▁▇█▇▇▆▅██▇█▆██▇█▇█▄▆█▆█▇██▄█▄▅</td></tr><tr><td>train_loss</td><td>█▇▇▇▆▆▆▆▅▅▅▅▄▄▃▃▃▂▃▂▂▂▂▂▂▁▁▁▁▁</td></tr></table><br/></div><div class=\"wandb-col\"><h3>Run summary:</h3><br/><table class=\"wandb\"><tr><td>epoch</td><td>29</td></tr><tr><td>test_acc</td><td>0.982</td></tr><tr><td>test_loss</td><td>0.0007</td></tr><tr><td>train_acc_top1</td><td>0.99983</td></tr><tr><td>train_loss</td><td>0.03786</td></tr></table><br/></div></div>"
            ],
            "text/plain": [
              "<IPython.core.display.HTML object>"
            ]
          },
          "metadata": {},
          "output_type": "display_data"
        },
        {
          "data": {
            "text/html": [
              " View run <strong style=\"color:#cdcd00\">zany-sweep-10</strong> at: <a href='https://wandb.ai/mukul_dl/final_lab_8/runs/06838evy' target=\"_blank\">https://wandb.ai/mukul_dl/final_lab_8/runs/06838evy</a><br/>Synced 5 W&B file(s), 0 media file(s), 0 artifact file(s) and 0 other file(s)"
            ],
            "text/plain": [
              "<IPython.core.display.HTML object>"
            ]
          },
          "metadata": {},
          "output_type": "display_data"
        },
        {
          "data": {
            "text/html": [
              "Find logs at: <code>./wandb/run-20230417_150632-06838evy/logs</code>"
            ],
            "text/plain": [
              "<IPython.core.display.HTML object>"
            ]
          },
          "metadata": {},
          "output_type": "display_data"
        },
        {
          "metadata": {
            "tags": null
          },
          "name": "stderr",
          "output_type": "stream",
          "text": [
            "\u001b[34m\u001b[1mwandb\u001b[0m: Agent Starting Run: fwom9crp with config:\n",
            "\u001b[34m\u001b[1mwandb\u001b[0m: \tactivation: ReLU\n",
            "\u001b[34m\u001b[1mwandb\u001b[0m: \tlearning_rate: 3e-05\n",
            "\u001b[34m\u001b[1mwandb\u001b[0m: \toptimizer: RMSprop\n",
            "\u001b[34m\u001b[1mwandb\u001b[0m: \u001b[33mWARNING\u001b[0m Ignored wandb.init() arg project when running a sweep.\n"
          ]
        },
        {
          "data": {
            "text/html": [
              "Tracking run with wandb version 0.14.2"
            ],
            "text/plain": [
              "<IPython.core.display.HTML object>"
            ]
          },
          "metadata": {},
          "output_type": "display_data"
        },
        {
          "data": {
            "text/html": [
              "Run data is saved locally in <code>/content/wandb/run-20230417_152008-fwom9crp</code>"
            ],
            "text/plain": [
              "<IPython.core.display.HTML object>"
            ]
          },
          "metadata": {},
          "output_type": "display_data"
        },
        {
          "data": {
            "text/html": [
              "Syncing run <strong><a href='https://wandb.ai/mukul_dl/final_lab_8/runs/fwom9crp' target=\"_blank\">super-sweep-11</a></strong> to <a href='https://wandb.ai/mukul_dl/final_lab_8' target=\"_blank\">Weights & Biases</a> (<a href='https://wandb.me/run' target=\"_blank\">docs</a>)<br/>Sweep page: <a href='https://wandb.ai/mukul_dl/final_lab_8/sweeps/rxkozgms' target=\"_blank\">https://wandb.ai/mukul_dl/final_lab_8/sweeps/rxkozgms</a>"
            ],
            "text/plain": [
              "<IPython.core.display.HTML object>"
            ]
          },
          "metadata": {},
          "output_type": "display_data"
        },
        {
          "data": {
            "text/html": [
              " View project at <a href='https://wandb.ai/mukul_dl/final_lab_8' target=\"_blank\">https://wandb.ai/mukul_dl/final_lab_8</a>"
            ],
            "text/plain": [
              "<IPython.core.display.HTML object>"
            ]
          },
          "metadata": {},
          "output_type": "display_data"
        },
        {
          "data": {
            "text/html": [
              " View sweep at <a href='https://wandb.ai/mukul_dl/final_lab_8/sweeps/rxkozgms' target=\"_blank\">https://wandb.ai/mukul_dl/final_lab_8/sweeps/rxkozgms</a>"
            ],
            "text/plain": [
              "<IPython.core.display.HTML object>"
            ]
          },
          "metadata": {},
          "output_type": "display_data"
        },
        {
          "data": {
            "text/html": [
              " View run at <a href='https://wandb.ai/mukul_dl/final_lab_8/runs/fwom9crp' target=\"_blank\">https://wandb.ai/mukul_dl/final_lab_8/runs/fwom9crp</a>"
            ],
            "text/plain": [
              "<IPython.core.display.HTML object>"
            ]
          },
          "metadata": {},
          "output_type": "display_data"
        },
        {
          "metadata": {
            "tags": null
          },
          "name": "stderr",
          "output_type": "stream",
          "text": [
            "Training Epoch 0: 100%|██████████| 235/235 [00:23<00:00, 10.18batch/s, loss=0.0393]\n",
            "Testing: 100%|██████████| 40/40 [00:02<00:00, 14.85batch/s, loss=0.097]\n"
          ]
        },
        {
          "metadata": {
            "tags": null
          },
          "name": "stdout",
          "output_type": "stream",
          "text": [
            "\n",
            "Epoch:  1 Train Loss:  0.0003076447093238433 Train Acc top 1:  0.9994000000000001 Test Loss:  0.0007761376527138054 Test Acc top 1:  0.981\n",
            "Train Acc top 5:  1.0 Test Acc top 5:  1.0\n",
            "\n"
          ]
        },
        {
          "metadata": {
            "tags": null
          },
          "name": "stderr",
          "output_type": "stream",
          "text": [
            "Training Epoch 1: 100%|██████████| 235/235 [00:22<00:00, 10.51batch/s, loss=0.0375]\n",
            "Testing: 100%|██████████| 40/40 [00:02<00:00, 14.76batch/s, loss=0.0996]\n"
          ]
        },
        {
          "metadata": {
            "tags": null
          },
          "name": "stdout",
          "output_type": "stream",
          "text": [
            "\n",
            "Epoch:  2 Train Loss:  0.0002935790880272786 Train Acc top 1:  0.9999666666666667 Test Loss:  0.0007968229773920029 Test Acc top 1:  0.9822\n",
            "Train Acc top 5:  1.0 Test Acc top 5:  1.0\n",
            "\n"
          ]
        },
        {
          "metadata": {
            "tags": null
          },
          "name": "stderr",
          "output_type": "stream",
          "text": [
            "Training Epoch 2: 100%|██████████| 235/235 [00:23<00:00, 10.08batch/s, loss=0.0371]\n",
            "Testing: 100%|██████████| 40/40 [00:02<00:00, 14.20batch/s, loss=0.095]\n"
          ]
        },
        {
          "metadata": {
            "tags": null
          },
          "name": "stdout",
          "output_type": "stream",
          "text": [
            "\n",
            "Epoch:  3 Train Loss:  0.0002906588941812515 Train Acc top 1:  1.0 Test Loss:  0.0007601349989417941 Test Acc top 1:  0.983\n",
            "Train Acc top 5:  1.0 Test Acc top 5:  1.0\n",
            "\n"
          ]
        },
        {
          "metadata": {
            "tags": null
          },
          "name": "stderr",
          "output_type": "stream",
          "text": [
            "Training Epoch 3: 100%|██████████| 235/235 [00:23<00:00, 10.15batch/s, loss=0.0377]\n",
            "Testing: 100%|██████████| 40/40 [00:02<00:00, 14.84batch/s, loss=0.108]\n"
          ]
        },
        {
          "metadata": {
            "tags": null
          },
          "name": "stdout",
          "output_type": "stream",
          "text": [
            "\n",
            "Epoch:  4 Train Loss:  0.0002953455615788698 Train Acc top 1:  0.9997 Test Loss:  0.000864062272477895 Test Acc top 1:  0.9802\n",
            "Train Acc top 5:  1.0 Test Acc top 5:  1.0\n",
            "\n"
          ]
        },
        {
          "metadata": {
            "tags": null
          },
          "name": "stderr",
          "output_type": "stream",
          "text": [
            "Training Epoch 4: 100%|██████████| 235/235 [00:23<00:00, 10.10batch/s, loss=0.0372]\n",
            "Testing: 100%|██████████| 40/40 [00:02<00:00, 14.42batch/s, loss=0.106]\n"
          ]
        },
        {
          "metadata": {
            "tags": null
          },
          "name": "stdout",
          "output_type": "stream",
          "text": [
            "\n",
            "Epoch:  5 Train Loss:  0.00029158694793780647 Train Acc top 1:  0.9998 Test Loss:  0.0008488723460119218 Test Acc top 1:  0.9806\n",
            "Train Acc top 5:  1.0 Test Acc top 5:  1.0\n",
            "\n"
          ]
        },
        {
          "metadata": {
            "tags": null
          },
          "name": "stderr",
          "output_type": "stream",
          "text": [
            "Training Epoch 5: 100%|██████████| 235/235 [00:23<00:00, 10.19batch/s, loss=0.0376]\n",
            "Testing: 100%|██████████| 40/40 [00:02<00:00, 14.54batch/s, loss=0.0958]\n"
          ]
        },
        {
          "metadata": {
            "tags": null
          },
          "name": "stdout",
          "output_type": "stream",
          "text": [
            "\n",
            "Epoch:  6 Train Loss:  0.0002946727010111014 Train Acc top 1:  0.9998 Test Loss:  0.000766545428801328 Test Acc top 1:  0.9824\n",
            "Train Acc top 5:  1.0 Test Acc top 5:  1.0\n",
            "\n"
          ]
        },
        {
          "metadata": {
            "tags": null
          },
          "name": "stderr",
          "output_type": "stream",
          "text": [
            "Training Epoch 6: 100%|██████████| 235/235 [00:22<00:00, 10.24batch/s, loss=0.0369]\n",
            "Testing: 100%|██████████| 40/40 [00:02<00:00, 14.67batch/s, loss=0.12]\n"
          ]
        },
        {
          "metadata": {
            "tags": null
          },
          "name": "stdout",
          "output_type": "stream",
          "text": [
            "\n",
            "Epoch:  7 Train Loss:  0.00028938365504145623 Train Acc top 1:  0.9999 Test Loss:  0.0009639634931460023 Test Acc top 1:  0.9824\n",
            "Train Acc top 5:  1.0 Test Acc top 5:  1.0\n",
            "\n"
          ]
        },
        {
          "metadata": {
            "tags": null
          },
          "name": "stderr",
          "output_type": "stream",
          "text": [
            "Training Epoch 7: 100%|██████████| 235/235 [00:23<00:00,  9.98batch/s, loss=0.0367]\n",
            "Testing: 100%|██████████| 40/40 [00:02<00:00, 14.21batch/s, loss=0.0935]\n"
          ]
        },
        {
          "metadata": {
            "tags": null
          },
          "name": "stdout",
          "output_type": "stream",
          "text": [
            "\n",
            "Epoch:  8 Train Loss:  0.0002871030360460281 Train Acc top 1:  1.0 Test Loss:  0.0007480549830244854 Test Acc top 1:  0.983\n",
            "Train Acc top 5:  1.0 Test Acc top 5:  1.0\n",
            "\n"
          ]
        },
        {
          "metadata": {
            "tags": null
          },
          "name": "stderr",
          "output_type": "stream",
          "text": [
            "Training Epoch 8: 100%|██████████| 235/235 [00:23<00:00, 10.13batch/s, loss=0.0368]\n",
            "Testing: 100%|██████████| 40/40 [00:02<00:00, 14.45batch/s, loss=0.0951]\n"
          ]
        },
        {
          "metadata": {
            "tags": null
          },
          "name": "stdout",
          "output_type": "stream",
          "text": [
            "\n",
            "Epoch:  9 Train Loss:  0.0002884084684153398 Train Acc top 1:  0.9998666666666667 Test Loss:  0.0007606044848449528 Test Acc top 1:  0.9822\n",
            "Train Acc top 5:  1.0 Test Acc top 5:  1.0\n",
            "\n"
          ]
        },
        {
          "metadata": {
            "tags": null
          },
          "name": "stderr",
          "output_type": "stream",
          "text": [
            "Training Epoch 9: 100%|██████████| 235/235 [00:23<00:00, 10.15batch/s, loss=0.0365]\n",
            "Testing: 100%|██████████| 40/40 [00:02<00:00, 14.65batch/s, loss=0.11]\n"
          ]
        },
        {
          "metadata": {
            "tags": null
          },
          "name": "stdout",
          "output_type": "stream",
          "text": [
            "\n",
            "Epoch:  10 Train Loss:  0.0002859291475266218 Train Acc top 1:  0.9999666666666667 Test Loss:  0.0008803300774190575 Test Acc top 1:  0.98\n",
            "Train Acc top 5:  1.0 Test Acc top 5:  1.0\n",
            "\n"
          ]
        },
        {
          "metadata": {
            "tags": null
          },
          "name": "stderr",
          "output_type": "stream",
          "text": [
            "Training Epoch 10: 100%|██████████| 235/235 [00:23<00:00, 10.04batch/s, loss=0.0368]\n",
            "Testing: 100%|██████████| 40/40 [00:02<00:00, 14.21batch/s, loss=0.102]\n"
          ]
        },
        {
          "metadata": {
            "tags": null
          },
          "name": "stdout",
          "output_type": "stream",
          "text": [
            "\n",
            "Epoch:  11 Train Loss:  0.000288611363992095 Train Acc top 1:  0.9997666666666667 Test Loss:  0.0008182567158015445 Test Acc top 1:  0.982\n",
            "Train Acc top 5:  1.0 Test Acc top 5:  1.0\n",
            "\n"
          ]
        },
        {
          "metadata": {
            "tags": null
          },
          "name": "stderr",
          "output_type": "stream",
          "text": [
            "Training Epoch 11: 100%|██████████| 235/235 [00:23<00:00, 10.07batch/s, loss=0.0368]\n",
            "Testing: 100%|██████████| 40/40 [00:02<00:00, 14.38batch/s, loss=0.112]\n"
          ]
        },
        {
          "metadata": {
            "tags": null
          },
          "name": "stdout",
          "output_type": "stream",
          "text": [
            "\n",
            "Epoch:  12 Train Loss:  0.00028787538694838684 Train Acc top 1:  0.9998666666666667 Test Loss:  0.0008938187402207404 Test Acc top 1:  0.9804\n",
            "Train Acc top 5:  1.0 Test Acc top 5:  1.0\n",
            "\n"
          ]
        },
        {
          "metadata": {
            "tags": null
          },
          "name": "stderr",
          "output_type": "stream",
          "text": [
            "Training Epoch 12: 100%|██████████| 235/235 [00:23<00:00, 10.15batch/s, loss=0.0371]\n",
            "Testing: 100%|██████████| 40/40 [00:02<00:00, 14.00batch/s, loss=0.104]\n"
          ]
        },
        {
          "metadata": {
            "tags": null
          },
          "name": "stdout",
          "output_type": "stream",
          "text": [
            "\n",
            "Epoch:  13 Train Loss:  0.00029039592929184436 Train Acc top 1:  0.9997666666666667 Test Loss:  0.0008300182847073302 Test Acc top 1:  0.9808\n",
            "Train Acc top 5:  1.0 Test Acc top 5:  1.0\n",
            "\n"
          ]
        },
        {
          "metadata": {
            "tags": null
          },
          "name": "stderr",
          "output_type": "stream",
          "text": [
            "Training Epoch 13: 100%|██████████| 235/235 [00:23<00:00, 10.07batch/s, loss=0.0363]\n",
            "Testing: 100%|██████████| 40/40 [00:02<00:00, 13.94batch/s, loss=0.0981]\n"
          ]
        },
        {
          "metadata": {
            "tags": null
          },
          "name": "stdout",
          "output_type": "stream",
          "text": [
            "\n",
            "Epoch:  14 Train Loss:  0.00028430863233904044 Train Acc top 1:  0.9999 Test Loss:  0.0007846687447512522 Test Acc top 1:  0.9824\n",
            "Train Acc top 5:  1.0 Test Acc top 5:  1.0\n",
            "\n"
          ]
        },
        {
          "metadata": {
            "tags": null
          },
          "name": "stderr",
          "output_type": "stream",
          "text": [
            "Training Epoch 14: 100%|██████████| 235/235 [00:22<00:00, 10.30batch/s, loss=0.0361]\n",
            "Testing: 100%|██████████| 40/40 [00:02<00:00, 14.45batch/s, loss=0.118]\n"
          ]
        },
        {
          "metadata": {
            "tags": null
          },
          "name": "stdout",
          "output_type": "stream",
          "text": [
            "\n",
            "Epoch:  15 Train Loss:  0.00028258460698028407 Train Acc top 1:  1.0 Test Loss:  0.0009413170051760972 Test Acc top 1:  0.9824\n",
            "Train Acc top 5:  1.0 Test Acc top 5:  1.0\n",
            "\n"
          ]
        },
        {
          "metadata": {
            "tags": null
          },
          "name": "stderr",
          "output_type": "stream",
          "text": [
            "Training Epoch 15: 100%|██████████| 235/235 [00:23<00:00, 10.07batch/s, loss=0.0362]\n",
            "Testing: 100%|██████████| 40/40 [00:02<00:00, 14.85batch/s, loss=0.107]\n"
          ]
        },
        {
          "metadata": {
            "tags": null
          },
          "name": "stdout",
          "output_type": "stream",
          "text": [
            "\n",
            "Epoch:  16 Train Loss:  0.0002837929761658112 Train Acc top 1:  0.9999333333333333 Test Loss:  0.0008573029742110521 Test Acc top 1:  0.9816\n",
            "Train Acc top 5:  1.0 Test Acc top 5:  1.0\n",
            "\n"
          ]
        },
        {
          "metadata": {
            "tags": null
          },
          "name": "stderr",
          "output_type": "stream",
          "text": [
            "Training Epoch 16: 100%|██████████| 235/235 [00:23<00:00,  9.96batch/s, loss=0.0364]\n",
            "Testing: 100%|██████████| 40/40 [00:02<00:00, 13.71batch/s, loss=0.106]\n"
          ]
        },
        {
          "metadata": {
            "tags": null
          },
          "name": "stdout",
          "output_type": "stream",
          "text": [
            "\n",
            "Epoch:  17 Train Loss:  0.0002855204813182354 Train Acc top 1:  0.9999 Test Loss:  0.0008492278289981187 Test Acc top 1:  0.9796\n",
            "Train Acc top 5:  1.0 Test Acc top 5:  1.0\n",
            "\n"
          ]
        },
        {
          "metadata": {
            "tags": null
          },
          "name": "stderr",
          "output_type": "stream",
          "text": [
            "Training Epoch 17: 100%|██████████| 235/235 [00:23<00:00, 10.00batch/s, loss=0.0362]\n",
            "Testing: 100%|██████████| 40/40 [00:03<00:00, 12.26batch/s, loss=0.0974]\n"
          ]
        },
        {
          "metadata": {
            "tags": null
          },
          "name": "stdout",
          "output_type": "stream",
          "text": [
            "\n",
            "Epoch:  18 Train Loss:  0.0002838906350235144 Train Acc top 1:  0.9998333333333334 Test Loss:  0.000779510493716225 Test Acc top 1:  0.9802\n",
            "Train Acc top 5:  1.0 Test Acc top 5:  1.0\n",
            "\n"
          ]
        },
        {
          "metadata": {
            "tags": null
          },
          "name": "stderr",
          "output_type": "stream",
          "text": [
            "Training Epoch 18: 100%|██████████| 235/235 [00:22<00:00, 10.27batch/s, loss=0.0359]\n",
            "Testing: 100%|██████████| 40/40 [00:03<00:00, 12.41batch/s, loss=0.0951]\n"
          ]
        },
        {
          "metadata": {
            "tags": null
          },
          "name": "stdout",
          "output_type": "stream",
          "text": [
            "\n",
            "Epoch:  19 Train Loss:  0.000281315645451347 Train Acc top 1:  0.9999666666666667 Test Loss:  0.0007605324782431126 Test Acc top 1:  0.9814\n",
            "Train Acc top 5:  1.0 Test Acc top 5:  1.0\n",
            "\n"
          ]
        },
        {
          "metadata": {
            "tags": null
          },
          "name": "stderr",
          "output_type": "stream",
          "text": [
            "Training Epoch 19: 100%|██████████| 235/235 [00:24<00:00,  9.65batch/s, loss=0.0364]\n",
            "Testing: 100%|██████████| 40/40 [00:03<00:00, 11.32batch/s, loss=0.121]\n"
          ]
        },
        {
          "metadata": {
            "tags": null
          },
          "name": "stdout",
          "output_type": "stream",
          "text": [
            "\n",
            "Epoch:  20 Train Loss:  0.0002847758628427982 Train Acc top 1:  0.9998333333333334 Test Loss:  0.0009690781337674707 Test Acc top 1:  0.98\n",
            "Train Acc top 5:  1.0 Test Acc top 5:  1.0\n",
            "\n"
          ]
        },
        {
          "metadata": {
            "tags": null
          },
          "name": "stderr",
          "output_type": "stream",
          "text": [
            "Training Epoch 20: 100%|██████████| 235/235 [00:22<00:00, 10.34batch/s, loss=0.0364]\n",
            "Testing: 100%|██████████| 40/40 [00:03<00:00, 11.58batch/s, loss=0.101]\n"
          ]
        },
        {
          "metadata": {
            "tags": null
          },
          "name": "stdout",
          "output_type": "stream",
          "text": [
            "\n",
            "Epoch:  21 Train Loss:  0.00028482645836969215 Train Acc top 1:  0.9998333333333334 Test Loss:  0.0008053422576747834 Test Acc top 1:  0.9796\n",
            "Train Acc top 5:  1.0 Test Acc top 5:  1.0\n",
            "\n"
          ]
        },
        {
          "metadata": {
            "tags": null
          },
          "name": "stderr",
          "output_type": "stream",
          "text": [
            "Training Epoch 21: 100%|██████████| 235/235 [00:23<00:00,  9.96batch/s, loss=0.0361]\n",
            "Testing: 100%|██████████| 40/40 [00:03<00:00, 12.03batch/s, loss=0.098]\n"
          ]
        },
        {
          "metadata": {
            "tags": null
          },
          "name": "stdout",
          "output_type": "stream",
          "text": [
            "\n",
            "Epoch:  22 Train Loss:  0.00028282066248357297 Train Acc top 1:  0.9998333333333334 Test Loss:  0.0007841901597101242 Test Acc top 1:  0.98\n",
            "Train Acc top 5:  1.0 Test Acc top 5:  1.0\n",
            "\n"
          ]
        },
        {
          "metadata": {
            "tags": null
          },
          "name": "stderr",
          "output_type": "stream",
          "text": [
            "Training Epoch 22: 100%|██████████| 235/235 [00:23<00:00,  9.87batch/s, loss=0.0363]\n",
            "Testing: 100%|██████████| 40/40 [00:02<00:00, 14.03batch/s, loss=0.0961]\n"
          ]
        },
        {
          "metadata": {
            "tags": null
          },
          "name": "stdout",
          "output_type": "stream",
          "text": [
            "\n",
            "Epoch:  23 Train Loss:  0.0002841421696046988 Train Acc top 1:  0.9997666666666667 Test Loss:  0.0007688309719786048 Test Acc top 1:  0.9802\n",
            "Train Acc top 5:  1.0 Test Acc top 5:  1.0\n",
            "\n"
          ]
        },
        {
          "metadata": {
            "tags": null
          },
          "name": "stderr",
          "output_type": "stream",
          "text": [
            "Training Epoch 23: 100%|██████████| 235/235 [00:23<00:00,  9.84batch/s, loss=0.0356]\n",
            "Testing: 100%|██████████| 40/40 [00:02<00:00, 14.39batch/s, loss=0.102]\n"
          ]
        },
        {
          "metadata": {
            "tags": null
          },
          "name": "stdout",
          "output_type": "stream",
          "text": [
            "\n",
            "Epoch:  24 Train Loss:  0.0002792435061186552 Train Acc top 1:  0.9999666666666667 Test Loss:  0.0008125346219632775 Test Acc top 1:  0.9812\n",
            "Train Acc top 5:  1.0 Test Acc top 5:  1.0\n",
            "\n"
          ]
        },
        {
          "metadata": {
            "tags": null
          },
          "name": "stderr",
          "output_type": "stream",
          "text": [
            "Training Epoch 24: 100%|██████████| 235/235 [00:23<00:00,  9.94batch/s, loss=0.0354]\n",
            "Testing: 100%|██████████| 40/40 [00:02<00:00, 14.37batch/s, loss=0.0991]\n"
          ]
        },
        {
          "metadata": {
            "tags": null
          },
          "name": "stdout",
          "output_type": "stream",
          "text": [
            "\n",
            "Epoch:  25 Train Loss:  0.00027759998080631096 Train Acc top 1:  1.0 Test Loss:  0.000793004093458876 Test Acc top 1:  0.9808\n",
            "Train Acc top 5:  1.0 Test Acc top 5:  1.0\n",
            "\n"
          ]
        },
        {
          "metadata": {
            "tags": null
          },
          "name": "stderr",
          "output_type": "stream",
          "text": [
            "Training Epoch 25: 100%|██████████| 235/235 [00:23<00:00,  9.88batch/s, loss=0.0352]\n",
            "Testing: 100%|██████████| 40/40 [00:02<00:00, 14.25batch/s, loss=0.103]\n"
          ]
        },
        {
          "metadata": {
            "tags": null
          },
          "name": "stdout",
          "output_type": "stream",
          "text": [
            "\n",
            "Epoch:  26 Train Loss:  0.00027544895981748897 Train Acc top 1:  0.9999666666666667 Test Loss:  0.0008265227331314236 Test Acc top 1:  0.98\n",
            "Train Acc top 5:  1.0 Test Acc top 5:  1.0\n",
            "\n"
          ]
        },
        {
          "metadata": {
            "tags": null
          },
          "name": "stderr",
          "output_type": "stream",
          "text": [
            "Training Epoch 26: 100%|██████████| 235/235 [00:23<00:00,  9.99batch/s, loss=0.0353]\n",
            "Testing: 100%|██████████| 40/40 [00:02<00:00, 14.62batch/s, loss=0.0992]\n"
          ]
        },
        {
          "metadata": {
            "tags": null
          },
          "name": "stdout",
          "output_type": "stream",
          "text": [
            "\n",
            "Epoch:  27 Train Loss:  0.00027662524270514647 Train Acc top 1:  0.9998666666666667 Test Loss:  0.0007933273183181882 Test Acc top 1:  0.9814\n",
            "Train Acc top 5:  1.0 Test Acc top 5:  1.0\n",
            "\n"
          ]
        },
        {
          "metadata": {
            "tags": null
          },
          "name": "stderr",
          "output_type": "stream",
          "text": [
            "Training Epoch 27: 100%|██████████| 235/235 [00:23<00:00, 10.02batch/s, loss=0.0348]\n",
            "Testing: 100%|██████████| 40/40 [00:02<00:00, 14.49batch/s, loss=0.0945]\n"
          ]
        },
        {
          "metadata": {
            "tags": null
          },
          "name": "stdout",
          "output_type": "stream",
          "text": [
            "\n",
            "Epoch:  28 Train Loss:  0.0002724124809106191 Train Acc top 1:  1.0 Test Loss:  0.0007559405526611954 Test Acc top 1:  0.9824\n",
            "Train Acc top 5:  1.0 Test Acc top 5:  1.0\n",
            "\n"
          ]
        },
        {
          "metadata": {
            "tags": null
          },
          "name": "stderr",
          "output_type": "stream",
          "text": [
            "Training Epoch 28: 100%|██████████| 235/235 [00:22<00:00, 10.27batch/s, loss=0.0347]\n",
            "Testing: 100%|██████████| 40/40 [00:02<00:00, 14.48batch/s, loss=0.101]\n"
          ]
        },
        {
          "metadata": {
            "tags": null
          },
          "name": "stdout",
          "output_type": "stream",
          "text": [
            "\n",
            "Epoch:  29 Train Loss:  0.00027152513985832533 Train Acc top 1:  0.9999666666666667 Test Loss:  0.0008116501904092729 Test Acc top 1:  0.9808\n",
            "Train Acc top 5:  1.0 Test Acc top 5:  1.0\n",
            "\n"
          ]
        },
        {
          "metadata": {
            "tags": null
          },
          "name": "stderr",
          "output_type": "stream",
          "text": [
            "Training Epoch 29: 100%|██████████| 235/235 [00:23<00:00, 10.17batch/s, loss=0.0348]\n",
            "Testing: 100%|██████████| 40/40 [00:02<00:00, 14.39batch/s, loss=0.101]"
          ]
        },
        {
          "metadata": {
            "tags": null
          },
          "name": "stdout",
          "output_type": "stream",
          "text": [
            "\n",
            "Epoch:  30 Train Loss:  0.00027271305720011395 Train Acc top 1:  0.9998333333333334 Test Loss:  0.0008046492600347847 Test Acc top 1:  0.9814\n",
            "Train Acc top 5:  1.0 Test Acc top 5:  1.0\n",
            "\n"
          ]
        },
        {
          "metadata": {
            "tags": null
          },
          "name": "stderr",
          "output_type": "stream",
          "text": [
            "\n"
          ]
        },
        {
          "data": {
            "text/html": [
              "Waiting for W&B process to finish... <strong style=\"color:green\">(success).</strong>"
            ],
            "text/plain": [
              "<IPython.core.display.HTML object>"
            ]
          },
          "metadata": {},
          "output_type": "display_data"
        },
        {
          "data": {
            "application/vnd.jupyter.widget-view+json": {
              "model_id": "4cf834e02d9040edb0082b1a3a621c92",
              "version_major": 2,
              "version_minor": 0
            },
            "text/plain": [
              "VBox(children=(Label(value='0.001 MB of 0.001 MB uploaded (0.000 MB deduped)\\r'), FloatProgress(value=1.0, max…"
            ]
          },
          "metadata": {},
          "output_type": "display_data"
        },
        {
          "data": {
            "text/html": [
              "<style>\n",
              "    table.wandb td:nth-child(1) { padding: 0 10px; text-align: left ; width: auto;} td:nth-child(2) {text-align: left ; width: 100%}\n",
              "    .wandb-row { display: flex; flex-direction: row; flex-wrap: wrap; justify-content: flex-start; width: 100% }\n",
              "    .wandb-col { display: flex; flex-direction: column; flex-basis: 100%; flex: 1; padding: 10px; }\n",
              "    </style>\n",
              "<div class=\"wandb-row\"><div class=\"wandb-col\"><h3>Run history:</h3><br/><table class=\"wandb\"><tr><td>epoch</td><td>▁▁▁▂▂▂▂▃▃▃▃▄▄▄▄▅▅▅▅▆▆▆▆▇▇▇▇███</td></tr><tr><td>test_acc</td><td>▄▆█▂▃▇▇█▆▂▆▃▃▇▇▅▁▂▅▂▁▂▂▄▃▂▅▇▃▅</td></tr><tr><td>test_loss</td><td>▂▃▁▅▄▂█▁▁▅▃▆▄▂▇▄▄▂▁█▃▂▂▃▂▃▂▁▃▃</td></tr><tr><td>train_acc_top1</td><td>▁██▅▆▆▇█▆█▅▆▅▇█▇▇▆█▆▆▆▅███▆██▆</td></tr><tr><td>train_loss</td><td>█▅▅▆▅▅▄▄▄▄▄▄▅▃▃▃▄▃▃▄▄▃▃▂▂▂▂▁▁▁</td></tr></table><br/></div><div class=\"wandb-col\"><h3>Run summary:</h3><br/><table class=\"wandb\"><tr><td>epoch</td><td>29</td></tr><tr><td>test_acc</td><td>0.9814</td></tr><tr><td>test_loss</td><td>0.0008</td></tr><tr><td>train_acc_top1</td><td>0.99983</td></tr><tr><td>train_loss</td><td>0.03481</td></tr></table><br/></div></div>"
            ],
            "text/plain": [
              "<IPython.core.display.HTML object>"
            ]
          },
          "metadata": {},
          "output_type": "display_data"
        },
        {
          "data": {
            "text/html": [
              " View run <strong style=\"color:#cdcd00\">super-sweep-11</strong> at: <a href='https://wandb.ai/mukul_dl/final_lab_8/runs/fwom9crp' target=\"_blank\">https://wandb.ai/mukul_dl/final_lab_8/runs/fwom9crp</a><br/>Synced 5 W&B file(s), 0 media file(s), 0 artifact file(s) and 0 other file(s)"
            ],
            "text/plain": [
              "<IPython.core.display.HTML object>"
            ]
          },
          "metadata": {},
          "output_type": "display_data"
        },
        {
          "data": {
            "text/html": [
              "Find logs at: <code>./wandb/run-20230417_152008-fwom9crp/logs</code>"
            ],
            "text/plain": [
              "<IPython.core.display.HTML object>"
            ]
          },
          "metadata": {},
          "output_type": "display_data"
        },
        {
          "metadata": {
            "tags": null
          },
          "name": "stderr",
          "output_type": "stream",
          "text": [
            "\u001b[34m\u001b[1mwandb\u001b[0m: Agent Starting Run: k2z0e42r with config:\n",
            "\u001b[34m\u001b[1mwandb\u001b[0m: \tactivation: Softmax\n",
            "\u001b[34m\u001b[1mwandb\u001b[0m: \tlearning_rate: 0.0003\n",
            "\u001b[34m\u001b[1mwandb\u001b[0m: \toptimizer: RMSprop\n",
            "\u001b[34m\u001b[1mwandb\u001b[0m: \u001b[33mWARNING\u001b[0m Ignored wandb.init() arg project when running a sweep.\n"
          ]
        },
        {
          "data": {
            "application/vnd.jupyter.widget-view+json": {
              "model_id": "52919264e99945d891c47d8422b45fb2",
              "version_major": 2,
              "version_minor": 0
            },
            "text/plain": [
              "VBox(children=(Label(value='Waiting for wandb.init()...\\r'), FloatProgress(value=0.016668766100004482, max=1.0…"
            ]
          },
          "metadata": {},
          "output_type": "display_data"
        },
        {
          "data": {
            "text/html": [
              "Tracking run with wandb version 0.14.2"
            ],
            "text/plain": [
              "<IPython.core.display.HTML object>"
            ]
          },
          "metadata": {},
          "output_type": "display_data"
        },
        {
          "data": {
            "text/html": [
              "Run data is saved locally in <code>/content/wandb/run-20230417_153333-k2z0e42r</code>"
            ],
            "text/plain": [
              "<IPython.core.display.HTML object>"
            ]
          },
          "metadata": {},
          "output_type": "display_data"
        },
        {
          "data": {
            "text/html": [
              "Syncing run <strong><a href='https://wandb.ai/mukul_dl/final_lab_8/runs/k2z0e42r' target=\"_blank\">whole-sweep-12</a></strong> to <a href='https://wandb.ai/mukul_dl/final_lab_8' target=\"_blank\">Weights & Biases</a> (<a href='https://wandb.me/run' target=\"_blank\">docs</a>)<br/>Sweep page: <a href='https://wandb.ai/mukul_dl/final_lab_8/sweeps/rxkozgms' target=\"_blank\">https://wandb.ai/mukul_dl/final_lab_8/sweeps/rxkozgms</a>"
            ],
            "text/plain": [
              "<IPython.core.display.HTML object>"
            ]
          },
          "metadata": {},
          "output_type": "display_data"
        },
        {
          "data": {
            "text/html": [
              " View project at <a href='https://wandb.ai/mukul_dl/final_lab_8' target=\"_blank\">https://wandb.ai/mukul_dl/final_lab_8</a>"
            ],
            "text/plain": [
              "<IPython.core.display.HTML object>"
            ]
          },
          "metadata": {},
          "output_type": "display_data"
        },
        {
          "data": {
            "text/html": [
              " View sweep at <a href='https://wandb.ai/mukul_dl/final_lab_8/sweeps/rxkozgms' target=\"_blank\">https://wandb.ai/mukul_dl/final_lab_8/sweeps/rxkozgms</a>"
            ],
            "text/plain": [
              "<IPython.core.display.HTML object>"
            ]
          },
          "metadata": {},
          "output_type": "display_data"
        },
        {
          "data": {
            "text/html": [
              " View run at <a href='https://wandb.ai/mukul_dl/final_lab_8/runs/k2z0e42r' target=\"_blank\">https://wandb.ai/mukul_dl/final_lab_8/runs/k2z0e42r</a>"
            ],
            "text/plain": [
              "<IPython.core.display.HTML object>"
            ]
          },
          "metadata": {},
          "output_type": "display_data"
        },
        {
          "metadata": {
            "tags": null
          },
          "name": "stderr",
          "output_type": "stream",
          "text": [
            "Training Epoch 0: 100%|██████████| 235/235 [00:23<00:00,  9.85batch/s, loss=0.15]\n",
            "Testing: 100%|██████████| 40/40 [00:02<00:00, 13.87batch/s, loss=0.111]\n"
          ]
        },
        {
          "metadata": {
            "tags": null
          },
          "name": "stdout",
          "output_type": "stream",
          "text": [
            "\n",
            "Epoch:  1 Train Loss:  0.00117497647292912 Train Acc top 1:  0.9630666666666667 Test Loss:  0.0008854530278593302 Test Acc top 1:  0.9674\n",
            "Train Acc top 5:  1.0 Test Acc top 5:  1.0\n",
            "\n"
          ]
        },
        {
          "metadata": {
            "tags": null
          },
          "name": "stderr",
          "output_type": "stream",
          "text": [
            "Training Epoch 1: 100%|██████████| 235/235 [00:23<00:00,  9.90batch/s, loss=0.0852]\n",
            "Testing: 100%|██████████| 40/40 [00:02<00:00, 14.41batch/s, loss=0.0885]\n"
          ]
        },
        {
          "metadata": {
            "tags": null
          },
          "name": "stdout",
          "output_type": "stream",
          "text": [
            "\n",
            "Epoch:  2 Train Loss:  0.0006677052030960719 Train Acc top 1:  0.9839666666666668 Test Loss:  0.0007083470716141165 Test Acc top 1:  0.9686\n",
            "Train Acc top 5:  1.0 Test Acc top 5:  1.0\n",
            "\n"
          ]
        },
        {
          "metadata": {
            "tags": null
          },
          "name": "stderr",
          "output_type": "stream",
          "text": [
            "Training Epoch 2: 100%|██████████| 235/235 [00:23<00:00,  9.95batch/s, loss=0.0791]\n",
            "Testing: 100%|██████████| 40/40 [00:02<00:00, 14.24batch/s, loss=0.0745]\n"
          ]
        },
        {
          "metadata": {
            "tags": null
          },
          "name": "stdout",
          "output_type": "stream",
          "text": [
            "\n",
            "Epoch:  3 Train Loss:  0.0006197014254828294 Train Acc top 1:  0.9864333333333334 Test Loss:  0.0005962991932407022 Test Acc top 1:  0.9708\n",
            "Train Acc top 5:  1.0 Test Acc top 5:  1.0\n",
            "\n"
          ]
        },
        {
          "metadata": {
            "tags": null
          },
          "name": "stderr",
          "output_type": "stream",
          "text": [
            "Training Epoch 3: 100%|██████████| 235/235 [00:23<00:00, 10.04batch/s, loss=0.0714]\n",
            "Testing: 100%|██████████| 40/40 [00:02<00:00, 14.30batch/s, loss=0.0892]\n"
          ]
        },
        {
          "metadata": {
            "tags": null
          },
          "name": "stdout",
          "output_type": "stream",
          "text": [
            "\n",
            "Epoch:  4 Train Loss:  0.0005595449009289345 Train Acc top 1:  0.9890333333333334 Test Loss:  0.0007136025389190763 Test Acc top 1:  0.9726\n",
            "Train Acc top 5:  1.0 Test Acc top 5:  1.0\n",
            "\n"
          ]
        },
        {
          "metadata": {
            "tags": null
          },
          "name": "stderr",
          "output_type": "stream",
          "text": [
            "Training Epoch 4: 100%|██████████| 235/235 [00:23<00:00,  9.85batch/s, loss=0.0688]\n",
            "Testing: 100%|██████████| 40/40 [00:02<00:00, 14.20batch/s, loss=0.0752]\n"
          ]
        },
        {
          "metadata": {
            "tags": null
          },
          "name": "stdout",
          "output_type": "stream",
          "text": [
            "\n",
            "Epoch:  5 Train Loss:  0.0005388259715090195 Train Acc top 1:  0.9908666666666667 Test Loss:  0.0006014160693157464 Test Acc top 1:  0.9796\n",
            "Train Acc top 5:  1.0 Test Acc top 5:  1.0\n",
            "\n"
          ]
        },
        {
          "metadata": {
            "tags": null
          },
          "name": "stderr",
          "output_type": "stream",
          "text": [
            "Training Epoch 5: 100%|██████████| 235/235 [00:23<00:00, 10.19batch/s, loss=0.0646]\n",
            "Testing: 100%|██████████| 40/40 [00:02<00:00, 14.37batch/s, loss=0.0945]\n"
          ]
        },
        {
          "metadata": {
            "tags": null
          },
          "name": "stdout",
          "output_type": "stream",
          "text": [
            "\n",
            "Epoch:  6 Train Loss:  0.0005058057696868976 Train Acc top 1:  0.9924000000000001 Test Loss:  0.0007556975963059813 Test Acc top 1:  0.9752\n",
            "Train Acc top 5:  1.0 Test Acc top 5:  1.0\n",
            "\n"
          ]
        },
        {
          "metadata": {
            "tags": null
          },
          "name": "stderr",
          "output_type": "stream",
          "text": [
            "Training Epoch 6: 100%|██████████| 235/235 [00:23<00:00,  9.97batch/s, loss=0.0654]\n",
            "Testing: 100%|██████████| 40/40 [00:02<00:00, 14.55batch/s, loss=0.085]\n"
          ]
        },
        {
          "metadata": {
            "tags": null
          },
          "name": "stdout",
          "output_type": "stream",
          "text": [
            "\n",
            "Epoch:  7 Train Loss:  0.00051260105073452 Train Acc top 1:  0.9921333333333334 Test Loss:  0.0006797091220505536 Test Acc top 1:  0.9794\n",
            "Train Acc top 5:  1.0 Test Acc top 5:  1.0\n",
            "\n"
          ]
        },
        {
          "metadata": {
            "tags": null
          },
          "name": "stderr",
          "output_type": "stream",
          "text": [
            "Training Epoch 7: 100%|██████████| 235/235 [00:23<00:00, 10.17batch/s, loss=0.062]\n",
            "Testing: 100%|██████████| 40/40 [00:02<00:00, 14.34batch/s, loss=0.142]\n"
          ]
        },
        {
          "metadata": {
            "tags": null
          },
          "name": "stdout",
          "output_type": "stream",
          "text": [
            "\n",
            "Epoch:  8 Train Loss:  0.00048548662836352986 Train Acc top 1:  0.9932000000000001 Test Loss:  0.0011367303164675831 Test Acc top 1:  0.9644\n",
            "Train Acc top 5:  1.0 Test Acc top 5:  1.0\n",
            "\n"
          ]
        },
        {
          "metadata": {
            "tags": null
          },
          "name": "stderr",
          "output_type": "stream",
          "text": [
            "Training Epoch 8: 100%|██████████| 235/235 [00:23<00:00, 10.00batch/s, loss=0.0636]\n",
            "Testing: 100%|██████████| 40/40 [00:02<00:00, 14.43batch/s, loss=0.0654]\n"
          ]
        },
        {
          "metadata": {
            "tags": null
          },
          "name": "stdout",
          "output_type": "stream",
          "text": [
            "\n",
            "Epoch:  9 Train Loss:  0.0004978383377194404 Train Acc top 1:  0.9926666666666667 Test Loss:  0.000522919185180217 Test Acc top 1:  0.9796\n",
            "Train Acc top 5:  1.0 Test Acc top 5:  1.0\n",
            "\n"
          ]
        },
        {
          "metadata": {
            "tags": null
          },
          "name": "stderr",
          "output_type": "stream",
          "text": [
            "Training Epoch 9: 100%|██████████| 235/235 [00:23<00:00, 10.17batch/s, loss=0.0613]\n",
            "Testing: 100%|██████████| 40/40 [00:02<00:00, 14.16batch/s, loss=0.0867]\n"
          ]
        },
        {
          "metadata": {
            "tags": null
          },
          "name": "stdout",
          "output_type": "stream",
          "text": [
            "\n",
            "Epoch:  10 Train Loss:  0.0004798730713625749 Train Acc top 1:  0.9945333333333334 Test Loss:  0.0006937450048513711 Test Acc top 1:  0.9764\n",
            "Train Acc top 5:  1.0 Test Acc top 5:  1.0\n",
            "\n"
          ]
        },
        {
          "metadata": {
            "tags": null
          },
          "name": "stderr",
          "output_type": "stream",
          "text": [
            "Training Epoch 10: 100%|██████████| 235/235 [00:23<00:00, 10.08batch/s, loss=0.0596]\n",
            "Testing: 100%|██████████| 40/40 [00:02<00:00, 14.99batch/s, loss=0.1]\n"
          ]
        },
        {
          "metadata": {
            "tags": null
          },
          "name": "stdout",
          "output_type": "stream",
          "text": [
            "\n",
            "Epoch:  11 Train Loss:  0.0004665215202917655 Train Acc top 1:  0.9948666666666667 Test Loss:  0.0008029671363532543 Test Acc top 1:  0.9724\n",
            "Train Acc top 5:  1.0 Test Acc top 5:  1.0\n",
            "\n"
          ]
        },
        {
          "metadata": {
            "tags": null
          },
          "name": "stderr",
          "output_type": "stream",
          "text": [
            "Training Epoch 11: 100%|██████████| 235/235 [00:22<00:00, 10.27batch/s, loss=0.0593]\n",
            "Testing: 100%|██████████| 40/40 [00:02<00:00, 14.04batch/s, loss=0.0829]\n"
          ]
        },
        {
          "metadata": {
            "tags": null
          },
          "name": "stdout",
          "output_type": "stream",
          "text": [
            "\n",
            "Epoch:  12 Train Loss:  0.0004647031628837188 Train Acc top 1:  0.9946333333333334 Test Loss:  0.00066297678865958 Test Acc top 1:  0.9782\n",
            "Train Acc top 5:  1.0 Test Acc top 5:  1.0\n",
            "\n"
          ]
        },
        {
          "metadata": {
            "tags": null
          },
          "name": "stderr",
          "output_type": "stream",
          "text": [
            "Training Epoch 12: 100%|██████████| 235/235 [00:23<00:00,  9.93batch/s, loss=0.0578]\n",
            "Testing: 100%|██████████| 40/40 [00:02<00:00, 13.51batch/s, loss=0.087]\n"
          ]
        },
        {
          "metadata": {
            "tags": null
          },
          "name": "stdout",
          "output_type": "stream",
          "text": [
            "\n",
            "Epoch:  13 Train Loss:  0.0004530987703551849 Train Acc top 1:  0.9953666666666667 Test Loss:  0.0006958141901995987 Test Acc top 1:  0.9774\n",
            "Train Acc top 5:  1.0 Test Acc top 5:  1.0\n",
            "\n"
          ]
        },
        {
          "metadata": {
            "tags": null
          },
          "name": "stderr",
          "output_type": "stream",
          "text": [
            "Training Epoch 13: 100%|██████████| 235/235 [00:23<00:00, 10.17batch/s, loss=0.062]\n",
            "Testing: 100%|██████████| 40/40 [00:03<00:00, 13.03batch/s, loss=0.0944]\n"
          ]
        },
        {
          "metadata": {
            "tags": null
          },
          "name": "stdout",
          "output_type": "stream",
          "text": [
            "\n",
            "Epoch:  14 Train Loss:  0.0004858236331492662 Train Acc top 1:  0.9942666666666667 Test Loss:  0.0007555177618749439 Test Acc top 1:  0.9784\n",
            "Train Acc top 5:  1.0 Test Acc top 5:  1.0\n",
            "\n"
          ]
        },
        {
          "metadata": {
            "tags": null
          },
          "name": "stderr",
          "output_type": "stream",
          "text": [
            "Training Epoch 14: 100%|██████████| 235/235 [00:22<00:00, 10.46batch/s, loss=0.0569]\n",
            "Testing: 100%|██████████| 40/40 [00:02<00:00, 13.76batch/s, loss=0.0938]\n"
          ]
        },
        {
          "metadata": {
            "tags": null
          },
          "name": "stdout",
          "output_type": "stream",
          "text": [
            "\n",
            "Epoch:  15 Train Loss:  0.0004453911755234003 Train Acc top 1:  0.9961333333333334 Test Loss:  0.0007501159934327007 Test Acc top 1:  0.978\n",
            "Train Acc top 5:  1.0 Test Acc top 5:  1.0\n",
            "\n"
          ]
        },
        {
          "metadata": {
            "tags": null
          },
          "name": "stderr",
          "output_type": "stream",
          "text": [
            "Training Epoch 15: 100%|██████████| 235/235 [00:22<00:00, 10.32batch/s, loss=0.0583]\n",
            "Testing: 100%|██████████| 40/40 [00:02<00:00, 13.77batch/s, loss=0.0806]\n"
          ]
        },
        {
          "metadata": {
            "tags": null
          },
          "name": "stdout",
          "output_type": "stream",
          "text": [
            "\n",
            "Epoch:  16 Train Loss:  0.00045676939661304155 Train Acc top 1:  0.9958666666666667 Test Loss:  0.0006449859254527837 Test Acc top 1:  0.9796\n",
            "Train Acc top 5:  1.0 Test Acc top 5:  1.0\n",
            "\n"
          ]
        },
        {
          "metadata": {
            "tags": null
          },
          "name": "stderr",
          "output_type": "stream",
          "text": [
            "Training Epoch 16: 100%|██████████| 235/235 [00:23<00:00, 10.13batch/s, loss=0.0593]\n",
            "Testing: 100%|██████████| 40/40 [00:03<00:00, 13.28batch/s, loss=0.0784]\n"
          ]
        },
        {
          "metadata": {
            "tags": null
          },
          "name": "stdout",
          "output_type": "stream",
          "text": [
            "\n",
            "Epoch:  17 Train Loss:  0.0004645840258647998 Train Acc top 1:  0.9954000000000001 Test Loss:  0.0006273145129904151 Test Acc top 1:  0.9808\n",
            "Train Acc top 5:  1.0 Test Acc top 5:  1.0\n",
            "\n"
          ]
        },
        {
          "metadata": {
            "tags": null
          },
          "name": "stderr",
          "output_type": "stream",
          "text": [
            "Training Epoch 17: 100%|██████████| 235/235 [00:24<00:00,  9.52batch/s, loss=0.0575]\n",
            "Testing: 100%|██████████| 40/40 [00:03<00:00, 11.15batch/s, loss=0.0852]\n"
          ]
        },
        {
          "metadata": {
            "tags": null
          },
          "name": "stdout",
          "output_type": "stream",
          "text": [
            "\n",
            "Epoch:  18 Train Loss:  0.00045027873888611795 Train Acc top 1:  0.9958333333333333 Test Loss:  0.0006816027289256453 Test Acc top 1:  0.9766\n",
            "Train Acc top 5:  1.0 Test Acc top 5:  1.0\n",
            "\n"
          ]
        },
        {
          "metadata": {
            "tags": null
          },
          "name": "stderr",
          "output_type": "stream",
          "text": [
            "Training Epoch 18: 100%|██████████| 235/235 [00:23<00:00, 10.20batch/s, loss=0.058]\n",
            "Testing: 100%|██████████| 40/40 [00:03<00:00, 11.61batch/s, loss=0.0764]\n"
          ]
        },
        {
          "metadata": {
            "tags": null
          },
          "name": "stdout",
          "output_type": "stream",
          "text": [
            "\n",
            "Epoch:  19 Train Loss:  0.0004542397192368905 Train Acc top 1:  0.9959 Test Loss:  0.0006108010056428611 Test Acc top 1:  0.9824\n",
            "Train Acc top 5:  1.0 Test Acc top 5:  1.0\n",
            "\n"
          ]
        },
        {
          "metadata": {
            "tags": null
          },
          "name": "stderr",
          "output_type": "stream",
          "text": [
            "Training Epoch 19: 100%|██████████| 235/235 [00:25<00:00,  9.39batch/s, loss=0.0577]\n",
            "Testing: 100%|██████████| 40/40 [00:02<00:00, 13.92batch/s, loss=0.0745]\n"
          ]
        },
        {
          "metadata": {
            "tags": null
          },
          "name": "stdout",
          "output_type": "stream",
          "text": [
            "\n",
            "Epoch:  20 Train Loss:  0.00045235345947245754 Train Acc top 1:  0.9961666666666668 Test Loss:  0.0005960110501386226 Test Acc top 1:  0.9792\n",
            "Train Acc top 5:  1.0 Test Acc top 5:  1.0\n",
            "\n"
          ]
        },
        {
          "metadata": {
            "tags": null
          },
          "name": "stderr",
          "output_type": "stream",
          "text": [
            "Training Epoch 20: 100%|██████████| 235/235 [00:23<00:00,  9.93batch/s, loss=0.0576]\n",
            "Testing: 100%|██████████| 40/40 [00:02<00:00, 14.28batch/s, loss=0.105]\n"
          ]
        },
        {
          "metadata": {
            "tags": null
          },
          "name": "stdout",
          "output_type": "stream",
          "text": [
            "\n",
            "Epoch:  21 Train Loss:  0.0004513709188749393 Train Acc top 1:  0.9961000000000001 Test Loss:  0.000842271801456809 Test Acc top 1:  0.974\n",
            "Train Acc top 5:  1.0 Test Acc top 5:  1.0\n",
            "\n"
          ]
        },
        {
          "metadata": {
            "tags": null
          },
          "name": "stderr",
          "output_type": "stream",
          "text": [
            "Training Epoch 21: 100%|██████████| 235/235 [00:23<00:00,  9.96batch/s, loss=0.0573]\n",
            "Testing: 100%|██████████| 40/40 [00:02<00:00, 14.20batch/s, loss=0.311]\n"
          ]
        },
        {
          "metadata": {
            "tags": null
          },
          "name": "stdout",
          "output_type": "stream",
          "text": [
            "\n",
            "Epoch:  22 Train Loss:  0.0004492077464858691 Train Acc top 1:  0.9965666666666667 Test Loss:  0.002488287687301636 Test Acc top 1:  0.9268\n",
            "Train Acc top 5:  1.0 Test Acc top 5:  1.0\n",
            "\n"
          ]
        },
        {
          "metadata": {
            "tags": null
          },
          "name": "stderr",
          "output_type": "stream",
          "text": [
            "Training Epoch 22: 100%|██████████| 235/235 [00:23<00:00,  9.98batch/s, loss=0.059]\n",
            "Testing: 100%|██████████| 40/40 [00:02<00:00, 14.10batch/s, loss=0.079]\n"
          ]
        },
        {
          "metadata": {
            "tags": null
          },
          "name": "stdout",
          "output_type": "stream",
          "text": [
            "\n",
            "Epoch:  23 Train Loss:  0.00046208083207408587 Train Acc top 1:  0.9960333333333333 Test Loss:  0.0006318014791002497 Test Acc top 1:  0.981\n",
            "Train Acc top 5:  1.0 Test Acc top 5:  1.0\n",
            "\n"
          ]
        },
        {
          "metadata": {
            "tags": null
          },
          "name": "stderr",
          "output_type": "stream",
          "text": [
            "Training Epoch 23: 100%|██████████| 235/235 [00:23<00:00, 10.00batch/s, loss=0.0563]\n",
            "Testing: 100%|██████████| 40/40 [00:02<00:00, 14.12batch/s, loss=0.0872]\n"
          ]
        },
        {
          "metadata": {
            "tags": null
          },
          "name": "stdout",
          "output_type": "stream",
          "text": [
            "\n",
            "Epoch:  24 Train Loss:  0.0004411378258218368 Train Acc top 1:  0.9966 Test Loss:  0.0006974293786101044 Test Acc top 1:  0.9788\n",
            "Train Acc top 5:  1.0 Test Acc top 5:  1.0\n",
            "\n"
          ]
        },
        {
          "metadata": {
            "tags": null
          },
          "name": "stderr",
          "output_type": "stream",
          "text": [
            "Training Epoch 24: 100%|██████████| 235/235 [00:23<00:00, 10.09batch/s, loss=0.0576]\n",
            "Testing: 100%|██████████| 40/40 [00:02<00:00, 14.55batch/s, loss=0.0853]\n"
          ]
        },
        {
          "metadata": {
            "tags": null
          },
          "name": "stdout",
          "output_type": "stream",
          "text": [
            "\n",
            "Epoch:  25 Train Loss:  0.0004514264643192291 Train Acc top 1:  0.9966333333333334 Test Loss:  0.000682303340616636 Test Acc top 1:  0.9772\n",
            "Train Acc top 5:  1.0 Test Acc top 5:  1.0\n",
            "\n"
          ]
        },
        {
          "metadata": {
            "tags": null
          },
          "name": "stderr",
          "output_type": "stream",
          "text": [
            "Training Epoch 25: 100%|██████████| 235/235 [00:23<00:00, 10.10batch/s, loss=0.0574]\n",
            "Testing: 100%|██████████| 40/40 [00:02<00:00, 14.94batch/s, loss=0.0792]\n"
          ]
        },
        {
          "metadata": {
            "tags": null
          },
          "name": "stdout",
          "output_type": "stream",
          "text": [
            "\n",
            "Epoch:  26 Train Loss:  0.00044986697348455587 Train Acc top 1:  0.9963666666666667 Test Loss:  0.0006339183237403631 Test Acc top 1:  0.98\n",
            "Train Acc top 5:  1.0 Test Acc top 5:  1.0\n",
            "\n"
          ]
        },
        {
          "metadata": {
            "tags": null
          },
          "name": "stderr",
          "output_type": "stream",
          "text": [
            "Training Epoch 26: 100%|██████████| 235/235 [00:23<00:00, 10.09batch/s, loss=0.0567]\n",
            "Testing: 100%|██████████| 40/40 [00:02<00:00, 14.56batch/s, loss=0.077]\n"
          ]
        },
        {
          "metadata": {
            "tags": null
          },
          "name": "stdout",
          "output_type": "stream",
          "text": [
            "\n",
            "Epoch:  27 Train Loss:  0.0004438845972220103 Train Acc top 1:  0.9971333333333334 Test Loss:  0.000615781476534903 Test Acc top 1:  0.9838\n",
            "Train Acc top 5:  1.0 Test Acc top 5:  1.0\n",
            "\n"
          ]
        },
        {
          "metadata": {
            "tags": null
          },
          "name": "stderr",
          "output_type": "stream",
          "text": [
            "Training Epoch 27: 100%|██████████| 235/235 [00:23<00:00, 10.03batch/s, loss=0.0582]\n",
            "Testing: 100%|██████████| 40/40 [00:02<00:00, 14.27batch/s, loss=0.0768]\n"
          ]
        },
        {
          "metadata": {
            "tags": null
          },
          "name": "stdout",
          "output_type": "stream",
          "text": [
            "\n",
            "Epoch:  28 Train Loss:  0.0004556238196790218 Train Acc top 1:  0.9960333333333333 Test Loss:  0.0006143043180927634 Test Acc top 1:  0.9798\n",
            "Train Acc top 5:  1.0 Test Acc top 5:  1.0\n",
            "\n"
          ]
        },
        {
          "metadata": {
            "tags": null
          },
          "name": "stderr",
          "output_type": "stream",
          "text": [
            "Training Epoch 28: 100%|██████████| 235/235 [00:23<00:00,  9.94batch/s, loss=0.0562]\n",
            "Testing: 100%|██████████| 40/40 [00:02<00:00, 14.26batch/s, loss=0.081]\n"
          ]
        },
        {
          "metadata": {
            "tags": null
          },
          "name": "stdout",
          "output_type": "stream",
          "text": [
            "\n",
            "Epoch:  29 Train Loss:  0.00044061306193470955 Train Acc top 1:  0.9967666666666667 Test Loss:  0.0006480515303555876 Test Acc top 1:  0.9776\n",
            "Train Acc top 5:  1.0 Test Acc top 5:  1.0\n",
            "\n"
          ]
        },
        {
          "metadata": {
            "tags": null
          },
          "name": "stderr",
          "output_type": "stream",
          "text": [
            "Training Epoch 29: 100%|██████████| 235/235 [00:23<00:00, 10.10batch/s, loss=0.055]\n",
            "Testing: 100%|██████████| 40/40 [00:02<00:00, 14.26batch/s, loss=0.19]"
          ]
        },
        {
          "metadata": {
            "tags": null
          },
          "name": "stdout",
          "output_type": "stream",
          "text": [
            "\n",
            "Epoch:  30 Train Loss:  0.0004308369946976503 Train Acc top 1:  0.9971000000000001 Test Loss:  0.0015226452961564065 Test Acc top 1:  0.9572\n",
            "Train Acc top 5:  1.0 Test Acc top 5:  1.0\n",
            "\n"
          ]
        },
        {
          "metadata": {
            "tags": null
          },
          "name": "stderr",
          "output_type": "stream",
          "text": [
            "\n"
          ]
        },
        {
          "data": {
            "text/html": [
              "Waiting for W&B process to finish... <strong style=\"color:green\">(success).</strong>"
            ],
            "text/plain": [
              "<IPython.core.display.HTML object>"
            ]
          },
          "metadata": {},
          "output_type": "display_data"
        },
        {
          "data": {
            "application/vnd.jupyter.widget-view+json": {
              "model_id": "9e0cbbbf71a549e1a4e21a8324d6ce9e",
              "version_major": 2,
              "version_minor": 0
            },
            "text/plain": [
              "VBox(children=(Label(value='0.001 MB of 0.021 MB uploaded (0.000 MB deduped)\\r'), FloatProgress(value=0.051766…"
            ]
          },
          "metadata": {},
          "output_type": "display_data"
        },
        {
          "data": {
            "text/html": [
              "<style>\n",
              "    table.wandb td:nth-child(1) { padding: 0 10px; text-align: left ; width: auto;} td:nth-child(2) {text-align: left ; width: 100%}\n",
              "    .wandb-row { display: flex; flex-direction: row; flex-wrap: wrap; justify-content: flex-start; width: 100% }\n",
              "    .wandb-col { display: flex; flex-direction: column; flex-basis: 100%; flex: 1; padding: 10px; }\n",
              "    </style>\n",
              "<div class=\"wandb-row\"><div class=\"wandb-col\"><h3>Run history:</h3><br/><table class=\"wandb\"><tr><td>epoch</td><td>▁▁▁▂▂▂▂▃▃▃▃▄▄▄▄▅▅▅▅▆▆▆▆▇▇▇▇███</td></tr><tr><td>test_acc</td><td>▆▆▆▇▇▇▇▆▇▇▇▇▇▇▇▇█▇█▇▇▁█▇▇███▇▅</td></tr><tr><td>test_loss</td><td>▂▂▁▂▁▂▂▃▁▂▂▁▂▂▂▁▁▂▁▁▂█▁▂▂▁▁▁▁▅</td></tr><tr><td>train_acc_top1</td><td>▁▅▆▆▇▇▇▇▇▇█▇█▇████████████████</td></tr><tr><td>train_loss</td><td>█▃▃▂▂▂▂▂▂▁▁▁▁▂▁▁▁▁▁▁▁▁▁▁▁▁▁▁▁▁</td></tr></table><br/></div><div class=\"wandb-col\"><h3>Run summary:</h3><br/><table class=\"wandb\"><tr><td>epoch</td><td>29</td></tr><tr><td>test_acc</td><td>0.9572</td></tr><tr><td>test_loss</td><td>0.00152</td></tr><tr><td>train_acc_top1</td><td>0.9971</td></tr><tr><td>train_loss</td><td>0.055</td></tr></table><br/></div></div>"
            ],
            "text/plain": [
              "<IPython.core.display.HTML object>"
            ]
          },
          "metadata": {},
          "output_type": "display_data"
        },
        {
          "data": {
            "text/html": [
              " View run <strong style=\"color:#cdcd00\">whole-sweep-12</strong> at: <a href='https://wandb.ai/mukul_dl/final_lab_8/runs/k2z0e42r' target=\"_blank\">https://wandb.ai/mukul_dl/final_lab_8/runs/k2z0e42r</a><br/>Synced 5 W&B file(s), 0 media file(s), 0 artifact file(s) and 0 other file(s)"
            ],
            "text/plain": [
              "<IPython.core.display.HTML object>"
            ]
          },
          "metadata": {},
          "output_type": "display_data"
        },
        {
          "data": {
            "text/html": [
              "Find logs at: <code>./wandb/run-20230417_153333-k2z0e42r/logs</code>"
            ],
            "text/plain": [
              "<IPython.core.display.HTML object>"
            ]
          },
          "metadata": {},
          "output_type": "display_data"
        },
        {
          "metadata": {
            "tags": null
          },
          "name": "stderr",
          "output_type": "stream",
          "text": [
            "\u001b[34m\u001b[1mwandb\u001b[0m: Agent Starting Run: 2hswemdm with config:\n",
            "\u001b[34m\u001b[1mwandb\u001b[0m: \tactivation: ReLU\n",
            "\u001b[34m\u001b[1mwandb\u001b[0m: \tlearning_rate: 1e-05\n",
            "\u001b[34m\u001b[1mwandb\u001b[0m: \toptimizer: SGD\n",
            "\u001b[34m\u001b[1mwandb\u001b[0m: \u001b[33mWARNING\u001b[0m Ignored wandb.init() arg project when running a sweep.\n"
          ]
        },
        {
          "data": {
            "text/html": [
              "Tracking run with wandb version 0.14.2"
            ],
            "text/plain": [
              "<IPython.core.display.HTML object>"
            ]
          },
          "metadata": {},
          "output_type": "display_data"
        },
        {
          "data": {
            "text/html": [
              "Run data is saved locally in <code>/content/wandb/run-20230417_154703-2hswemdm</code>"
            ],
            "text/plain": [
              "<IPython.core.display.HTML object>"
            ]
          },
          "metadata": {},
          "output_type": "display_data"
        },
        {
          "data": {
            "text/html": [
              "Syncing run <strong><a href='https://wandb.ai/mukul_dl/final_lab_8/runs/2hswemdm' target=\"_blank\">crimson-sweep-13</a></strong> to <a href='https://wandb.ai/mukul_dl/final_lab_8' target=\"_blank\">Weights & Biases</a> (<a href='https://wandb.me/run' target=\"_blank\">docs</a>)<br/>Sweep page: <a href='https://wandb.ai/mukul_dl/final_lab_8/sweeps/rxkozgms' target=\"_blank\">https://wandb.ai/mukul_dl/final_lab_8/sweeps/rxkozgms</a>"
            ],
            "text/plain": [
              "<IPython.core.display.HTML object>"
            ]
          },
          "metadata": {},
          "output_type": "display_data"
        },
        {
          "data": {
            "text/html": [
              " View project at <a href='https://wandb.ai/mukul_dl/final_lab_8' target=\"_blank\">https://wandb.ai/mukul_dl/final_lab_8</a>"
            ],
            "text/plain": [
              "<IPython.core.display.HTML object>"
            ]
          },
          "metadata": {},
          "output_type": "display_data"
        },
        {
          "data": {
            "text/html": [
              " View sweep at <a href='https://wandb.ai/mukul_dl/final_lab_8/sweeps/rxkozgms' target=\"_blank\">https://wandb.ai/mukul_dl/final_lab_8/sweeps/rxkozgms</a>"
            ],
            "text/plain": [
              "<IPython.core.display.HTML object>"
            ]
          },
          "metadata": {},
          "output_type": "display_data"
        },
        {
          "data": {
            "text/html": [
              " View run at <a href='https://wandb.ai/mukul_dl/final_lab_8/runs/2hswemdm' target=\"_blank\">https://wandb.ai/mukul_dl/final_lab_8/runs/2hswemdm</a>"
            ],
            "text/plain": [
              "<IPython.core.display.HTML object>"
            ]
          },
          "metadata": {},
          "output_type": "display_data"
        },
        {
          "metadata": {
            "tags": null
          },
          "name": "stderr",
          "output_type": "stream",
          "text": [
            "Training Epoch 0: 100%|██████████| 235/235 [00:23<00:00,  9.98batch/s, loss=0.0883]\n",
            "Testing: 100%|██████████| 40/40 [00:02<00:00, 14.76batch/s, loss=0.0936]\n"
          ]
        },
        {
          "metadata": {
            "tags": null
          },
          "name": "stdout",
          "output_type": "stream",
          "text": [
            "\n",
            "Epoch:  1 Train Loss:  0.0006918590042740107 Train Acc top 1:  0.9899333333333333 Test Loss:  0.0007485285853035749 Test Acc top 1:  0.9786\n",
            "Train Acc top 5:  1.0 Test Acc top 5:  1.0\n",
            "\n"
          ]
        },
        {
          "metadata": {
            "tags": null
          },
          "name": "stderr",
          "output_type": "stream",
          "text": [
            "Training Epoch 1: 100%|██████████| 235/235 [00:23<00:00, 10.15batch/s, loss=0.0584]\n",
            "Testing: 100%|██████████| 40/40 [00:02<00:00, 14.16batch/s, loss=0.088]\n"
          ]
        },
        {
          "metadata": {
            "tags": null
          },
          "name": "stdout",
          "output_type": "stream",
          "text": [
            "\n",
            "Epoch:  2 Train Loss:  0.0004571937207132578 Train Acc top 1:  0.9966 Test Loss:  0.0007041018675081432 Test Acc top 1:  0.9774\n",
            "Train Acc top 5:  1.0 Test Acc top 5:  1.0\n",
            "\n"
          ]
        },
        {
          "metadata": {
            "tags": null
          },
          "name": "stderr",
          "output_type": "stream",
          "text": [
            "Training Epoch 2: 100%|██████████| 235/235 [00:22<00:00, 10.31batch/s, loss=0.0529]\n",
            "Testing: 100%|██████████| 40/40 [00:02<00:00, 14.47batch/s, loss=0.0869]\n"
          ]
        },
        {
          "metadata": {
            "tags": null
          },
          "name": "stdout",
          "output_type": "stream",
          "text": [
            "\n",
            "Epoch:  3 Train Loss:  0.0004147042776147524 Train Acc top 1:  0.9981666666666668 Test Loss:  0.0006954759268090129 Test Acc top 1:  0.9786\n",
            "Train Acc top 5:  1.0 Test Acc top 5:  1.0\n",
            "\n"
          ]
        },
        {
          "metadata": {
            "tags": null
          },
          "name": "stderr",
          "output_type": "stream",
          "text": [
            "Training Epoch 3: 100%|██████████| 235/235 [00:22<00:00, 10.32batch/s, loss=0.0519]\n",
            "Testing: 100%|██████████| 40/40 [00:02<00:00, 14.19batch/s, loss=0.084]\n"
          ]
        },
        {
          "metadata": {
            "tags": null
          },
          "name": "stdout",
          "output_type": "stream",
          "text": [
            "\n",
            "Epoch:  4 Train Loss:  0.0004067597671101491 Train Acc top 1:  0.9984000000000001 Test Loss:  0.0006723168774507939 Test Acc top 1:  0.9796\n",
            "Train Acc top 5:  1.0 Test Acc top 5:  1.0\n",
            "\n"
          ]
        },
        {
          "metadata": {
            "tags": null
          },
          "name": "stderr",
          "output_type": "stream",
          "text": [
            "Training Epoch 4: 100%|██████████| 235/235 [00:23<00:00, 10.09batch/s, loss=0.0513]\n",
            "Testing: 100%|██████████| 40/40 [00:02<00:00, 14.25batch/s, loss=0.085]\n"
          ]
        },
        {
          "metadata": {
            "tags": null
          },
          "name": "stdout",
          "output_type": "stream",
          "text": [
            "\n",
            "Epoch:  5 Train Loss:  0.0004014650033166011 Train Acc top 1:  0.9986666666666667 Test Loss:  0.0006802983978763222 Test Acc top 1:  0.9802\n",
            "Train Acc top 5:  1.0 Test Acc top 5:  1.0\n",
            "\n"
          ]
        },
        {
          "metadata": {
            "tags": null
          },
          "name": "stderr",
          "output_type": "stream",
          "text": [
            "Training Epoch 5: 100%|██████████| 235/235 [00:23<00:00,  9.82batch/s, loss=0.0507]\n",
            "Testing: 100%|██████████| 40/40 [00:02<00:00, 13.77batch/s, loss=0.0815]\n"
          ]
        },
        {
          "metadata": {
            "tags": null
          },
          "name": "stdout",
          "output_type": "stream",
          "text": [
            "\n",
            "Epoch:  6 Train Loss:  0.00039733533933758734 Train Acc top 1:  0.9987333333333334 Test Loss:  0.0006519807821139693 Test Acc top 1:  0.9792\n",
            "Train Acc top 5:  1.0 Test Acc top 5:  1.0\n",
            "\n"
          ]
        },
        {
          "metadata": {
            "tags": null
          },
          "name": "stderr",
          "output_type": "stream",
          "text": [
            "Training Epoch 6: 100%|██████████| 235/235 [00:23<00:00,  9.92batch/s, loss=0.0508]\n",
            "Testing: 100%|██████████| 40/40 [00:02<00:00, 14.16batch/s, loss=0.082]\n"
          ]
        },
        {
          "metadata": {
            "tags": null
          },
          "name": "stdout",
          "output_type": "stream",
          "text": [
            "\n",
            "Epoch:  7 Train Loss:  0.00039774383641779423 Train Acc top 1:  0.9989333333333333 Test Loss:  0.0006562805585563182 Test Acc top 1:  0.9796\n",
            "Train Acc top 5:  1.0 Test Acc top 5:  1.0\n",
            "\n"
          ]
        },
        {
          "metadata": {
            "tags": null
          },
          "name": "stderr",
          "output_type": "stream",
          "text": [
            "Training Epoch 7: 100%|██████████| 235/235 [00:24<00:00,  9.73batch/s, loss=0.0497]\n",
            "Testing: 100%|██████████| 40/40 [00:02<00:00, 14.33batch/s, loss=0.0829]\n"
          ]
        },
        {
          "metadata": {
            "tags": null
          },
          "name": "stdout",
          "output_type": "stream",
          "text": [
            "\n",
            "Epoch:  8 Train Loss:  0.00038916228587428727 Train Acc top 1:  0.9994000000000001 Test Loss:  0.0006628266654442995 Test Acc top 1:  0.9794\n",
            "Train Acc top 5:  1.0 Test Acc top 5:  1.0\n",
            "\n"
          ]
        },
        {
          "metadata": {
            "tags": null
          },
          "name": "stderr",
          "output_type": "stream",
          "text": [
            "Training Epoch 8: 100%|██████████| 235/235 [00:23<00:00,  9.83batch/s, loss=0.0497]\n",
            "Testing: 100%|██████████| 40/40 [00:02<00:00, 13.50batch/s, loss=0.0851]\n"
          ]
        },
        {
          "metadata": {
            "tags": null
          },
          "name": "stdout",
          "output_type": "stream",
          "text": [
            "\n",
            "Epoch:  9 Train Loss:  0.00038954980447888373 Train Acc top 1:  0.9993000000000001 Test Loss:  0.0006804517334327102 Test Acc top 1:  0.9806\n",
            "Train Acc top 5:  1.0 Test Acc top 5:  1.0\n",
            "\n"
          ]
        },
        {
          "metadata": {
            "tags": null
          },
          "name": "stderr",
          "output_type": "stream",
          "text": [
            "Training Epoch 9: 100%|██████████| 235/235 [00:23<00:00,  9.98batch/s, loss=0.0497]\n",
            "Testing: 100%|██████████| 40/40 [00:02<00:00, 14.32batch/s, loss=0.0818]\n"
          ]
        },
        {
          "metadata": {
            "tags": null
          },
          "name": "stdout",
          "output_type": "stream",
          "text": [
            "\n",
            "Epoch:  10 Train Loss:  0.00038966527295609314 Train Acc top 1:  0.9991333333333334 Test Loss:  0.0006542417695280165 Test Acc top 1:  0.9802\n",
            "Train Acc top 5:  1.0 Test Acc top 5:  1.0\n",
            "\n"
          ]
        },
        {
          "metadata": {
            "tags": null
          },
          "name": "stderr",
          "output_type": "stream",
          "text": [
            "Training Epoch 10: 100%|██████████| 235/235 [00:23<00:00, 10.07batch/s, loss=0.0497]\n",
            "Testing: 100%|██████████| 40/40 [00:02<00:00, 14.56batch/s, loss=0.0814]\n"
          ]
        },
        {
          "metadata": {
            "tags": null
          },
          "name": "stdout",
          "output_type": "stream",
          "text": [
            "\n",
            "Epoch:  11 Train Loss:  0.0003890083516637484 Train Acc top 1:  0.9992000000000001 Test Loss:  0.0006508626569062472 Test Acc top 1:  0.9802\n",
            "Train Acc top 5:  1.0 Test Acc top 5:  1.0\n",
            "\n"
          ]
        },
        {
          "metadata": {
            "tags": null
          },
          "name": "stderr",
          "output_type": "stream",
          "text": [
            "Training Epoch 11: 100%|██████████| 235/235 [00:23<00:00,  9.86batch/s, loss=0.0497]\n",
            "Testing: 100%|██████████| 40/40 [00:03<00:00, 12.94batch/s, loss=0.0797]\n"
          ]
        },
        {
          "metadata": {
            "tags": null
          },
          "name": "stdout",
          "output_type": "stream",
          "text": [
            "\n",
            "Epoch:  12 Train Loss:  0.00038968513881166775 Train Acc top 1:  0.9992666666666667 Test Loss:  0.0006374673277139664 Test Acc top 1:  0.9804\n",
            "Train Acc top 5:  1.0 Test Acc top 5:  1.0\n",
            "\n"
          ]
        },
        {
          "metadata": {
            "tags": null
          },
          "name": "stderr",
          "output_type": "stream",
          "text": [
            "Training Epoch 12: 100%|██████████| 235/235 [00:23<00:00,  9.79batch/s, loss=0.0492]\n",
            "Testing: 100%|██████████| 40/40 [00:03<00:00, 11.06batch/s, loss=0.0816]\n"
          ]
        },
        {
          "metadata": {
            "tags": null
          },
          "name": "stdout",
          "output_type": "stream",
          "text": [
            "\n",
            "Epoch:  13 Train Loss:  0.00038528427282969157 Train Acc top 1:  0.9994333333333334 Test Loss:  0.0006531579059083015 Test Acc top 1:  0.98\n",
            "Train Acc top 5:  1.0 Test Acc top 5:  1.0\n",
            "\n"
          ]
        },
        {
          "metadata": {
            "tags": null
          },
          "name": "stderr",
          "output_type": "stream",
          "text": [
            "Training Epoch 13: 100%|██████████| 235/235 [00:23<00:00, 10.18batch/s, loss=0.0492]\n",
            "Testing: 100%|██████████| 40/40 [00:03<00:00, 11.17batch/s, loss=0.0815]\n"
          ]
        },
        {
          "metadata": {
            "tags": null
          },
          "name": "stdout",
          "output_type": "stream",
          "text": [
            "\n",
            "Epoch:  14 Train Loss:  0.0003854741948346297 Train Acc top 1:  0.9995 Test Loss:  0.0006519329907838256 Test Acc top 1:  0.9808\n",
            "Train Acc top 5:  1.0 Test Acc top 5:  1.0\n",
            "\n"
          ]
        },
        {
          "metadata": {
            "tags": null
          },
          "name": "stderr",
          "output_type": "stream",
          "text": [
            "Training Epoch 14: 100%|██████████| 235/235 [00:22<00:00, 10.35batch/s, loss=0.0491]\n",
            "Testing: 100%|██████████| 40/40 [00:03<00:00, 11.74batch/s, loss=0.0794]\n"
          ]
        },
        {
          "metadata": {
            "tags": null
          },
          "name": "stdout",
          "output_type": "stream",
          "text": [
            "\n",
            "Epoch:  15 Train Loss:  0.0003847790227582057 Train Acc top 1:  0.9996 Test Loss:  0.0006348943342920393 Test Acc top 1:  0.981\n",
            "Train Acc top 5:  1.0 Test Acc top 5:  1.0\n",
            "\n"
          ]
        },
        {
          "metadata": {
            "tags": null
          },
          "name": "stderr",
          "output_type": "stream",
          "text": [
            "Training Epoch 15: 100%|██████████| 235/235 [00:23<00:00, 10.10batch/s, loss=0.049]\n",
            "Testing: 100%|██████████| 40/40 [00:03<00:00, 12.43batch/s, loss=0.081]\n"
          ]
        },
        {
          "metadata": {
            "tags": null
          },
          "name": "stdout",
          "output_type": "stream",
          "text": [
            "\n",
            "Epoch:  16 Train Loss:  0.0003836597499748071 Train Acc top 1:  0.9993666666666667 Test Loss:  0.0006482077696826309 Test Acc top 1:  0.9804\n",
            "Train Acc top 5:  1.0 Test Acc top 5:  1.0\n",
            "\n"
          ]
        },
        {
          "metadata": {
            "tags": null
          },
          "name": "stderr",
          "output_type": "stream",
          "text": [
            "Training Epoch 16: 100%|██████████| 235/235 [00:22<00:00, 10.46batch/s, loss=0.0489]\n",
            "Testing: 100%|██████████| 40/40 [00:03<00:00, 12.41batch/s, loss=0.0797]\n"
          ]
        },
        {
          "metadata": {
            "tags": null
          },
          "name": "stdout",
          "output_type": "stream",
          "text": [
            "\n",
            "Epoch:  17 Train Loss:  0.00038321169937650365 Train Acc top 1:  0.9995333333333334 Test Loss:  0.000637658609636128 Test Acc top 1:  0.9806\n",
            "Train Acc top 5:  1.0 Test Acc top 5:  1.0\n",
            "\n"
          ]
        },
        {
          "metadata": {
            "tags": null
          },
          "name": "stderr",
          "output_type": "stream",
          "text": [
            "Training Epoch 17: 100%|██████████| 235/235 [00:22<00:00, 10.45batch/s, loss=0.0486]\n",
            "Testing: 100%|██████████| 40/40 [00:03<00:00, 12.24batch/s, loss=0.0788]\n"
          ]
        },
        {
          "metadata": {
            "tags": null
          },
          "name": "stdout",
          "output_type": "stream",
          "text": [
            "\n",
            "Epoch:  18 Train Loss:  0.00038057585743566356 Train Acc top 1:  0.9995333333333334 Test Loss:  0.0006300172430230305 Test Acc top 1:  0.9812\n",
            "Train Acc top 5:  1.0 Test Acc top 5:  1.0\n",
            "\n"
          ]
        },
        {
          "metadata": {
            "tags": null
          },
          "name": "stderr",
          "output_type": "stream",
          "text": [
            "Training Epoch 18: 100%|██████████| 235/235 [00:21<00:00, 10.69batch/s, loss=0.049]\n",
            "Testing: 100%|██████████| 40/40 [00:03<00:00, 12.13batch/s, loss=0.0793]\n"
          ]
        },
        {
          "metadata": {
            "tags": null
          },
          "name": "stdout",
          "output_type": "stream",
          "text": [
            "\n",
            "Epoch:  19 Train Loss:  0.0003842179473489523 Train Acc top 1:  0.9994666666666667 Test Loss:  0.0006340428202413022 Test Acc top 1:  0.9814\n",
            "Train Acc top 5:  1.0 Test Acc top 5:  1.0\n",
            "\n"
          ]
        },
        {
          "metadata": {
            "tags": null
          },
          "name": "stderr",
          "output_type": "stream",
          "text": [
            "Training Epoch 19: 100%|██████████| 235/235 [00:21<00:00, 10.74batch/s, loss=0.049]\n",
            "Testing: 100%|██████████| 40/40 [00:03<00:00, 11.15batch/s, loss=0.0811]\n"
          ]
        },
        {
          "metadata": {
            "tags": null
          },
          "name": "stdout",
          "output_type": "stream",
          "text": [
            "\n",
            "Epoch:  20 Train Loss:  0.00038376210518181324 Train Acc top 1:  0.9994000000000001 Test Loss:  0.0006487723105587065 Test Acc top 1:  0.981\n",
            "Train Acc top 5:  1.0 Test Acc top 5:  1.0\n",
            "\n"
          ]
        },
        {
          "metadata": {
            "tags": null
          },
          "name": "stderr",
          "output_type": "stream",
          "text": [
            "Training Epoch 20: 100%|██████████| 235/235 [00:22<00:00, 10.31batch/s, loss=0.0485]\n",
            "Testing: 100%|██████████| 40/40 [00:03<00:00, 11.74batch/s, loss=0.0799]\n"
          ]
        },
        {
          "metadata": {
            "tags": null
          },
          "name": "stdout",
          "output_type": "stream",
          "text": [
            "\n",
            "Epoch:  21 Train Loss:  0.00038018407635390756 Train Acc top 1:  0.9996666666666667 Test Loss:  0.0006389586523640901 Test Acc top 1:  0.9808\n",
            "Train Acc top 5:  1.0 Test Acc top 5:  1.0\n",
            "\n"
          ]
        },
        {
          "metadata": {
            "tags": null
          },
          "name": "stderr",
          "output_type": "stream",
          "text": [
            "Training Epoch 21: 100%|██████████| 235/235 [00:23<00:00, 10.10batch/s, loss=0.0488]\n",
            "Testing: 100%|██████████| 40/40 [00:03<00:00, 12.29batch/s, loss=0.111]\n"
          ]
        },
        {
          "metadata": {
            "tags": null
          },
          "name": "stdout",
          "output_type": "stream",
          "text": [
            "\n",
            "Epoch:  22 Train Loss:  0.00038231220928331214 Train Acc top 1:  0.9995666666666667 Test Loss:  0.0008911448741331697 Test Acc top 1:  0.9806\n",
            "Train Acc top 5:  1.0 Test Acc top 5:  1.0\n",
            "\n"
          ]
        },
        {
          "metadata": {
            "tags": null
          },
          "name": "stderr",
          "output_type": "stream",
          "text": [
            "Training Epoch 22: 100%|██████████| 235/235 [00:23<00:00,  9.82batch/s, loss=0.0485]\n",
            "Testing: 100%|██████████| 40/40 [00:02<00:00, 13.38batch/s, loss=0.0783]\n"
          ]
        },
        {
          "metadata": {
            "tags": null
          },
          "name": "stdout",
          "output_type": "stream",
          "text": [
            "\n",
            "Epoch:  23 Train Loss:  0.0003795598315695922 Train Acc top 1:  0.9997666666666667 Test Loss:  0.0006265277772676199 Test Acc top 1:  0.9812\n",
            "Train Acc top 5:  1.0 Test Acc top 5:  1.0\n",
            "\n"
          ]
        },
        {
          "metadata": {
            "tags": null
          },
          "name": "stderr",
          "output_type": "stream",
          "text": [
            "Training Epoch 23: 100%|██████████| 235/235 [00:23<00:00,  9.90batch/s, loss=0.0483]\n",
            "Testing: 100%|██████████| 40/40 [00:02<00:00, 14.12batch/s, loss=0.081]\n"
          ]
        },
        {
          "metadata": {
            "tags": null
          },
          "name": "stdout",
          "output_type": "stream",
          "text": [
            "\n",
            "Epoch:  24 Train Loss:  0.0003784471735358238 Train Acc top 1:  0.9996666666666667 Test Loss:  0.0006476458194199949 Test Acc top 1:  0.9808\n",
            "Train Acc top 5:  1.0 Test Acc top 5:  1.0\n",
            "\n"
          ]
        },
        {
          "metadata": {
            "tags": null
          },
          "name": "stderr",
          "output_type": "stream",
          "text": [
            "Training Epoch 24: 100%|██████████| 235/235 [00:24<00:00,  9.60batch/s, loss=0.0484]\n",
            "Testing: 100%|██████████| 40/40 [00:02<00:00, 14.04batch/s, loss=0.0791]\n"
          ]
        },
        {
          "metadata": {
            "tags": null
          },
          "name": "stdout",
          "output_type": "stream",
          "text": [
            "\n",
            "Epoch:  25 Train Loss:  0.0003794394006331762 Train Acc top 1:  0.9997333333333334 Test Loss:  0.0006330774862319231 Test Acc top 1:  0.9806\n",
            "Train Acc top 5:  1.0 Test Acc top 5:  1.0\n",
            "\n"
          ]
        },
        {
          "metadata": {
            "tags": null
          },
          "name": "stderr",
          "output_type": "stream",
          "text": [
            "Training Epoch 25: 100%|██████████| 235/235 [00:24<00:00,  9.62batch/s, loss=0.0483]\n",
            "Testing: 100%|██████████| 40/40 [00:02<00:00, 14.12batch/s, loss=0.079]\n"
          ]
        },
        {
          "metadata": {
            "tags": null
          },
          "name": "stdout",
          "output_type": "stream",
          "text": [
            "\n",
            "Epoch:  26 Train Loss:  0.00037853498806556066 Train Acc top 1:  0.9998 Test Loss:  0.0006319617704488337 Test Acc top 1:  0.9812\n",
            "Train Acc top 5:  1.0 Test Acc top 5:  1.0\n",
            "\n"
          ]
        },
        {
          "metadata": {
            "tags": null
          },
          "name": "stderr",
          "output_type": "stream",
          "text": [
            "Training Epoch 26: 100%|██████████| 235/235 [00:24<00:00,  9.68batch/s, loss=0.0482]\n",
            "Testing: 100%|██████████| 40/40 [00:02<00:00, 14.26batch/s, loss=0.0804]\n"
          ]
        },
        {
          "metadata": {
            "tags": null
          },
          "name": "stdout",
          "output_type": "stream",
          "text": [
            "\n",
            "Epoch:  27 Train Loss:  0.00037791596949100494 Train Acc top 1:  0.9997333333333334 Test Loss:  0.000643145530903712 Test Acc top 1:  0.981\n",
            "Train Acc top 5:  1.0 Test Acc top 5:  1.0\n",
            "\n"
          ]
        },
        {
          "metadata": {
            "tags": null
          },
          "name": "stderr",
          "output_type": "stream",
          "text": [
            "Training Epoch 27: 100%|██████████| 235/235 [00:23<00:00,  9.96batch/s, loss=0.0485]\n",
            "Testing: 100%|██████████| 40/40 [00:02<00:00, 14.25batch/s, loss=0.0794]\n"
          ]
        },
        {
          "metadata": {
            "tags": null
          },
          "name": "stdout",
          "output_type": "stream",
          "text": [
            "\n",
            "Epoch:  28 Train Loss:  0.0003796474924931924 Train Acc top 1:  0.9997 Test Loss:  0.0006350680023431778 Test Acc top 1:  0.9812\n",
            "Train Acc top 5:  1.0 Test Acc top 5:  1.0\n",
            "\n"
          ]
        },
        {
          "metadata": {
            "tags": null
          },
          "name": "stderr",
          "output_type": "stream",
          "text": [
            "Training Epoch 28: 100%|██████████| 235/235 [00:23<00:00, 10.04batch/s, loss=0.0482]\n",
            "Testing: 100%|██████████| 40/40 [00:02<00:00, 14.48batch/s, loss=0.0869]\n"
          ]
        },
        {
          "metadata": {
            "tags": null
          },
          "name": "stdout",
          "output_type": "stream",
          "text": [
            "\n",
            "Epoch:  29 Train Loss:  0.0003776617071280877 Train Acc top 1:  0.9997 Test Loss:  0.0006949292540550232 Test Acc top 1:  0.9812\n",
            "Train Acc top 5:  1.0 Test Acc top 5:  1.0\n",
            "\n"
          ]
        },
        {
          "metadata": {
            "tags": null
          },
          "name": "stderr",
          "output_type": "stream",
          "text": [
            "Training Epoch 29: 100%|██████████| 235/235 [00:22<00:00, 10.27batch/s, loss=0.0483]\n",
            "Testing: 100%|██████████| 40/40 [00:02<00:00, 14.62batch/s, loss=0.0789]"
          ]
        },
        {
          "metadata": {
            "tags": null
          },
          "name": "stdout",
          "output_type": "stream",
          "text": [
            "\n",
            "Epoch:  30 Train Loss:  0.0003785283211618662 Train Acc top 1:  0.9997666666666667 Test Loss:  0.0006309865435119718 Test Acc top 1:  0.981\n",
            "Train Acc top 5:  1.0 Test Acc top 5:  1.0\n",
            "\n"
          ]
        },
        {
          "metadata": {
            "tags": null
          },
          "name": "stderr",
          "output_type": "stream",
          "text": [
            "\n"
          ]
        },
        {
          "data": {
            "text/html": [
              "Waiting for W&B process to finish... <strong style=\"color:green\">(success).</strong>"
            ],
            "text/plain": [
              "<IPython.core.display.HTML object>"
            ]
          },
          "metadata": {},
          "output_type": "display_data"
        },
        {
          "data": {
            "text/html": [
              "<style>\n",
              "    table.wandb td:nth-child(1) { padding: 0 10px; text-align: left ; width: auto;} td:nth-child(2) {text-align: left ; width: 100%}\n",
              "    .wandb-row { display: flex; flex-direction: row; flex-wrap: wrap; justify-content: flex-start; width: 100% }\n",
              "    .wandb-col { display: flex; flex-direction: column; flex-basis: 100%; flex: 1; padding: 10px; }\n",
              "    </style>\n",
              "<div class=\"wandb-row\"><div class=\"wandb-col\"><h3>Run history:</h3><br/><table class=\"wandb\"><tr><td>epoch</td><td>▁▁▁▂▂▂▂▃▃▃▃▄▄▄▄▅▅▅▅▆▆▆▆▇▇▇▇███</td></tr><tr><td>test_acc</td><td>▃▁▃▅▆▄▅▄▇▆▆▆▆▇▇▆▇██▇▇▇█▇▇█▇██▇</td></tr><tr><td>test_loss</td><td>▄▃▃▂▂▂▂▂▂▂▂▁▂▂▁▂▁▁▁▂▁█▁▂▁▁▁▁▃▁</td></tr><tr><td>train_acc_top1</td><td>▁▆▇▇▇▇▇███████████████████████</td></tr><tr><td>train_loss</td><td>█▃▂▂▂▁▁▁▁▁▁▁▁▁▁▁▁▁▁▁▁▁▁▁▁▁▁▁▁▁</td></tr></table><br/></div><div class=\"wandb-col\"><h3>Run summary:</h3><br/><table class=\"wandb\"><tr><td>epoch</td><td>29</td></tr><tr><td>test_acc</td><td>0.981</td></tr><tr><td>test_loss</td><td>0.00063</td></tr><tr><td>train_acc_top1</td><td>0.99977</td></tr><tr><td>train_loss</td><td>0.04832</td></tr></table><br/></div></div>"
            ],
            "text/plain": [
              "<IPython.core.display.HTML object>"
            ]
          },
          "metadata": {},
          "output_type": "display_data"
        },
        {
          "data": {
            "text/html": [
              " View run <strong style=\"color:#cdcd00\">crimson-sweep-13</strong> at: <a href='https://wandb.ai/mukul_dl/final_lab_8/runs/2hswemdm' target=\"_blank\">https://wandb.ai/mukul_dl/final_lab_8/runs/2hswemdm</a><br/>Synced 5 W&B file(s), 0 media file(s), 0 artifact file(s) and 0 other file(s)"
            ],
            "text/plain": [
              "<IPython.core.display.HTML object>"
            ]
          },
          "metadata": {},
          "output_type": "display_data"
        },
        {
          "data": {
            "text/html": [
              "Find logs at: <code>./wandb/run-20230417_154703-2hswemdm/logs</code>"
            ],
            "text/plain": [
              "<IPython.core.display.HTML object>"
            ]
          },
          "metadata": {},
          "output_type": "display_data"
        },
        {
          "metadata": {
            "tags": null
          },
          "name": "stderr",
          "output_type": "stream",
          "text": [
            "\u001b[34m\u001b[1mwandb\u001b[0m: Agent Starting Run: nkngibw1 with config:\n",
            "\u001b[34m\u001b[1mwandb\u001b[0m: \tactivation: ReLU\n",
            "\u001b[34m\u001b[1mwandb\u001b[0m: \tlearning_rate: 1e-05\n",
            "\u001b[34m\u001b[1mwandb\u001b[0m: \toptimizer: Adam\n",
            "\u001b[34m\u001b[1mwandb\u001b[0m: \u001b[33mWARNING\u001b[0m Ignored wandb.init() arg project when running a sweep.\n"
          ]
        },
        {
          "data": {
            "text/html": [
              "Tracking run with wandb version 0.14.2"
            ],
            "text/plain": [
              "<IPython.core.display.HTML object>"
            ]
          },
          "metadata": {},
          "output_type": "display_data"
        },
        {
          "data": {
            "text/html": [
              "Run data is saved locally in <code>/content/wandb/run-20230417_160037-nkngibw1</code>"
            ],
            "text/plain": [
              "<IPython.core.display.HTML object>"
            ]
          },
          "metadata": {},
          "output_type": "display_data"
        },
        {
          "data": {
            "text/html": [
              "Syncing run <strong><a href='https://wandb.ai/mukul_dl/final_lab_8/runs/nkngibw1' target=\"_blank\">sweepy-sweep-14</a></strong> to <a href='https://wandb.ai/mukul_dl/final_lab_8' target=\"_blank\">Weights & Biases</a> (<a href='https://wandb.me/run' target=\"_blank\">docs</a>)<br/>Sweep page: <a href='https://wandb.ai/mukul_dl/final_lab_8/sweeps/rxkozgms' target=\"_blank\">https://wandb.ai/mukul_dl/final_lab_8/sweeps/rxkozgms</a>"
            ],
            "text/plain": [
              "<IPython.core.display.HTML object>"
            ]
          },
          "metadata": {},
          "output_type": "display_data"
        },
        {
          "data": {
            "text/html": [
              " View project at <a href='https://wandb.ai/mukul_dl/final_lab_8' target=\"_blank\">https://wandb.ai/mukul_dl/final_lab_8</a>"
            ],
            "text/plain": [
              "<IPython.core.display.HTML object>"
            ]
          },
          "metadata": {},
          "output_type": "display_data"
        },
        {
          "data": {
            "text/html": [
              " View sweep at <a href='https://wandb.ai/mukul_dl/final_lab_8/sweeps/rxkozgms' target=\"_blank\">https://wandb.ai/mukul_dl/final_lab_8/sweeps/rxkozgms</a>"
            ],
            "text/plain": [
              "<IPython.core.display.HTML object>"
            ]
          },
          "metadata": {},
          "output_type": "display_data"
        },
        {
          "data": {
            "text/html": [
              " View run at <a href='https://wandb.ai/mukul_dl/final_lab_8/runs/nkngibw1' target=\"_blank\">https://wandb.ai/mukul_dl/final_lab_8/runs/nkngibw1</a>"
            ],
            "text/plain": [
              "<IPython.core.display.HTML object>"
            ]
          },
          "metadata": {},
          "output_type": "display_data"
        },
        {
          "metadata": {
            "tags": null
          },
          "name": "stderr",
          "output_type": "stream",
          "text": [
            "Training Epoch 0: 100%|██████████| 235/235 [00:23<00:00,  9.98batch/s, loss=0.0478]\n",
            "Testing: 100%|██████████| 40/40 [00:02<00:00, 14.93batch/s, loss=0.0796]\n"
          ]
        },
        {
          "metadata": {
            "tags": null
          },
          "name": "stdout",
          "output_type": "stream",
          "text": [
            "\n",
            "Epoch:  1 Train Loss:  0.0003743288367986679 Train Acc top 1:  0.9997666666666667 Test Loss:  0.0006368015327956527 Test Acc top 1:  0.9806\n",
            "Train Acc top 5:  1.0 Test Acc top 5:  1.0\n",
            "\n"
          ]
        },
        {
          "metadata": {
            "tags": null
          },
          "name": "stderr",
          "output_type": "stream",
          "text": [
            "Training Epoch 1: 100%|██████████| 235/235 [00:24<00:00,  9.76batch/s, loss=0.047]\n",
            "Testing: 100%|██████████| 40/40 [00:02<00:00, 14.51batch/s, loss=0.0797]\n"
          ]
        },
        {
          "metadata": {
            "tags": null
          },
          "name": "stdout",
          "output_type": "stream",
          "text": [
            "\n",
            "Epoch:  2 Train Loss:  0.00036849084061880906 Train Acc top 1:  0.9999 Test Loss:  0.0006377546567004174 Test Acc top 1:  0.981\n",
            "Train Acc top 5:  1.0 Test Acc top 5:  1.0\n",
            "\n"
          ]
        },
        {
          "metadata": {
            "tags": null
          },
          "name": "stderr",
          "output_type": "stream",
          "text": [
            "Training Epoch 2: 100%|██████████| 235/235 [00:23<00:00,  9.96batch/s, loss=0.0465]\n",
            "Testing: 100%|██████████| 40/40 [00:02<00:00, 14.71batch/s, loss=0.0794]\n"
          ]
        },
        {
          "metadata": {
            "tags": null
          },
          "name": "stdout",
          "output_type": "stream",
          "text": [
            "\n",
            "Epoch:  3 Train Loss:  0.0003640247325102488 Train Acc top 1:  0.9999333333333333 Test Loss:  0.0006355322767514736 Test Acc top 1:  0.9812\n",
            "Train Acc top 5:  1.0 Test Acc top 5:  1.0\n",
            "\n"
          ]
        },
        {
          "metadata": {
            "tags": null
          },
          "name": "stderr",
          "output_type": "stream",
          "text": [
            "Training Epoch 3: 100%|██████████| 235/235 [00:23<00:00,  9.90batch/s, loss=0.0461]\n",
            "Testing: 100%|██████████| 40/40 [00:03<00:00, 12.67batch/s, loss=0.0815]\n"
          ]
        },
        {
          "metadata": {
            "tags": null
          },
          "name": "stdout",
          "output_type": "stream",
          "text": [
            "\n",
            "Epoch:  4 Train Loss:  0.0003609362487991651 Train Acc top 1:  1.0 Test Loss:  0.0006516831703484059 Test Acc top 1:  0.982\n",
            "Train Acc top 5:  1.0 Test Acc top 5:  1.0\n",
            "\n"
          ]
        },
        {
          "metadata": {
            "tags": null
          },
          "name": "stderr",
          "output_type": "stream",
          "text": [
            "Training Epoch 4: 100%|██████████| 235/235 [00:23<00:00,  9.92batch/s, loss=0.0458]\n",
            "Testing: 100%|██████████| 40/40 [00:03<00:00, 13.20batch/s, loss=0.0799]\n"
          ]
        },
        {
          "metadata": {
            "tags": null
          },
          "name": "stdout",
          "output_type": "stream",
          "text": [
            "\n",
            "Epoch:  5 Train Loss:  0.0003588050751636426 Train Acc top 1:  1.0 Test Loss:  0.0006392084830906242 Test Acc top 1:  0.9806\n",
            "Train Acc top 5:  1.0 Test Acc top 5:  1.0\n",
            "\n"
          ]
        },
        {
          "metadata": {
            "tags": null
          },
          "name": "stderr",
          "output_type": "stream",
          "text": [
            "Training Epoch 5: 100%|██████████| 235/235 [00:23<00:00, 10.11batch/s, loss=0.0454]\n",
            "Testing: 100%|██████████| 40/40 [00:03<00:00, 12.72batch/s, loss=0.0809]\n"
          ]
        },
        {
          "metadata": {
            "tags": null
          },
          "name": "stdout",
          "output_type": "stream",
          "text": [
            "\n",
            "Epoch:  6 Train Loss:  0.00035592026350398856 Train Acc top 1:  1.0 Test Loss:  0.0006468328127637506 Test Acc top 1:  0.9814\n",
            "Train Acc top 5:  1.0 Test Acc top 5:  1.0\n",
            "\n"
          ]
        },
        {
          "metadata": {
            "tags": null
          },
          "name": "stderr",
          "output_type": "stream",
          "text": [
            "Training Epoch 6: 100%|██████████| 235/235 [00:23<00:00, 10.08batch/s, loss=0.0453]\n",
            "Testing: 100%|██████████| 40/40 [00:03<00:00, 11.53batch/s, loss=0.0793]\n"
          ]
        },
        {
          "metadata": {
            "tags": null
          },
          "name": "stdout",
          "output_type": "stream",
          "text": [
            "\n",
            "Epoch:  7 Train Loss:  0.00035449159430960816 Train Acc top 1:  1.0 Test Loss:  0.0006341239369008691 Test Acc top 1:  0.981\n",
            "Train Acc top 5:  1.0 Test Acc top 5:  1.0\n",
            "\n"
          ]
        },
        {
          "metadata": {
            "tags": null
          },
          "name": "stderr",
          "output_type": "stream",
          "text": [
            "Training Epoch 7: 100%|██████████| 235/235 [00:24<00:00,  9.79batch/s, loss=0.0449]\n",
            "Testing: 100%|██████████| 40/40 [00:03<00:00, 11.40batch/s, loss=0.079]\n"
          ]
        },
        {
          "metadata": {
            "tags": null
          },
          "name": "stdout",
          "output_type": "stream",
          "text": [
            "\n",
            "Epoch:  8 Train Loss:  0.00035176673730214435 Train Acc top 1:  1.0 Test Loss:  0.0006320329454727471 Test Acc top 1:  0.982\n",
            "Train Acc top 5:  1.0 Test Acc top 5:  1.0\n",
            "\n"
          ]
        },
        {
          "metadata": {
            "tags": null
          },
          "name": "stderr",
          "output_type": "stream",
          "text": [
            "Training Epoch 8: 100%|██████████| 235/235 [00:24<00:00,  9.42batch/s, loss=0.0446]\n",
            "Testing: 100%|██████████| 40/40 [00:02<00:00, 13.79batch/s, loss=0.0811]\n"
          ]
        },
        {
          "metadata": {
            "tags": null
          },
          "name": "stdout",
          "output_type": "stream",
          "text": [
            "\n",
            "Epoch:  9 Train Loss:  0.00034917601595322293 Train Acc top 1:  1.0 Test Loss:  0.0006485750729218126 Test Acc top 1:  0.9812\n",
            "Train Acc top 5:  1.0 Test Acc top 5:  1.0\n",
            "\n"
          ]
        },
        {
          "metadata": {
            "tags": null
          },
          "name": "stderr",
          "output_type": "stream",
          "text": [
            "Training Epoch 9: 100%|██████████| 235/235 [00:23<00:00,  9.90batch/s, loss=0.0443]\n",
            "Testing: 100%|██████████| 40/40 [00:02<00:00, 14.69batch/s, loss=0.0828]\n"
          ]
        },
        {
          "metadata": {
            "tags": null
          },
          "name": "stdout",
          "output_type": "stream",
          "text": [
            "\n",
            "Epoch:  10 Train Loss:  0.00034711102818449336 Train Acc top 1:  1.0 Test Loss:  0.0006623355388175696 Test Acc top 1:  0.9818\n",
            "Train Acc top 5:  1.0 Test Acc top 5:  1.0\n",
            "\n"
          ]
        },
        {
          "metadata": {
            "tags": null
          },
          "name": "stderr",
          "output_type": "stream",
          "text": [
            "Training Epoch 10: 100%|██████████| 235/235 [00:23<00:00, 10.11batch/s, loss=0.044]\n",
            "Testing: 100%|██████████| 40/40 [00:02<00:00, 14.50batch/s, loss=0.0793]\n"
          ]
        },
        {
          "metadata": {
            "tags": null
          },
          "name": "stdout",
          "output_type": "stream",
          "text": [
            "\n",
            "Epoch:  11 Train Loss:  0.000344438436999917 Train Acc top 1:  1.0 Test Loss:  0.0006342496255878359 Test Acc top 1:  0.9818\n",
            "Train Acc top 5:  1.0 Test Acc top 5:  1.0\n",
            "\n"
          ]
        },
        {
          "metadata": {
            "tags": null
          },
          "name": "stderr",
          "output_type": "stream",
          "text": [
            "Training Epoch 11: 100%|██████████| 235/235 [00:23<00:00, 10.07batch/s, loss=0.0436]\n",
            "Testing: 100%|██████████| 40/40 [00:02<00:00, 14.10batch/s, loss=0.0785]\n"
          ]
        },
        {
          "metadata": {
            "tags": null
          },
          "name": "stdout",
          "output_type": "stream",
          "text": [
            "\n",
            "Epoch:  12 Train Loss:  0.00034189157374203206 Train Acc top 1:  1.0 Test Loss:  0.0006280792348552495 Test Acc top 1:  0.982\n",
            "Train Acc top 5:  1.0 Test Acc top 5:  1.0\n",
            "\n"
          ]
        },
        {
          "metadata": {
            "tags": null
          },
          "name": "stderr",
          "output_type": "stream",
          "text": [
            "Training Epoch 12: 100%|██████████| 235/235 [00:23<00:00,  9.86batch/s, loss=0.0433]\n",
            "Testing: 100%|██████████| 40/40 [00:02<00:00, 14.03batch/s, loss=0.0791]\n"
          ]
        },
        {
          "metadata": {
            "tags": null
          },
          "name": "stdout",
          "output_type": "stream",
          "text": [
            "\n",
            "Epoch:  13 Train Loss:  0.00033879291092356046 Train Acc top 1:  1.0 Test Loss:  0.0006330129685346037 Test Acc top 1:  0.982\n",
            "Train Acc top 5:  1.0 Test Acc top 5:  1.0\n",
            "\n"
          ]
        },
        {
          "metadata": {
            "tags": null
          },
          "name": "stderr",
          "output_type": "stream",
          "text": [
            "Training Epoch 13: 100%|██████████| 235/235 [00:24<00:00,  9.73batch/s, loss=0.043]\n",
            "Testing: 100%|██████████| 40/40 [00:02<00:00, 14.49batch/s, loss=0.0815]\n"
          ]
        },
        {
          "metadata": {
            "tags": null
          },
          "name": "stdout",
          "output_type": "stream",
          "text": [
            "\n",
            "Epoch:  14 Train Loss:  0.0003364929184317589 Train Acc top 1:  1.0 Test Loss:  0.0006517551662400364 Test Acc top 1:  0.9824\n",
            "Train Acc top 5:  1.0 Test Acc top 5:  1.0\n",
            "\n"
          ]
        },
        {
          "metadata": {
            "tags": null
          },
          "name": "stderr",
          "output_type": "stream",
          "text": [
            "Training Epoch 14: 100%|██████████| 235/235 [00:24<00:00,  9.51batch/s, loss=0.0426]\n",
            "Testing: 100%|██████████| 40/40 [00:02<00:00, 14.06batch/s, loss=0.0797]\n"
          ]
        },
        {
          "metadata": {
            "tags": null
          },
          "name": "stdout",
          "output_type": "stream",
          "text": [
            "\n",
            "Epoch:  15 Train Loss:  0.00033384673334658143 Train Acc top 1:  1.0 Test Loss:  0.0006375358573161065 Test Acc top 1:  0.981\n",
            "Train Acc top 5:  1.0 Test Acc top 5:  1.0\n",
            "\n"
          ]
        },
        {
          "metadata": {
            "tags": null
          },
          "name": "stderr",
          "output_type": "stream",
          "text": [
            "Training Epoch 15: 100%|██████████| 235/235 [00:25<00:00,  9.38batch/s, loss=0.0423]\n",
            "Testing: 100%|██████████| 40/40 [00:02<00:00, 13.70batch/s, loss=0.0781]\n"
          ]
        },
        {
          "metadata": {
            "tags": null
          },
          "name": "stdout",
          "output_type": "stream",
          "text": [
            "\n",
            "Epoch:  16 Train Loss:  0.00033138687188426653 Train Acc top 1:  1.0 Test Loss:  0.0006248309622053057 Test Acc top 1:  0.981\n",
            "Train Acc top 5:  1.0 Test Acc top 5:  1.0\n",
            "\n"
          ]
        },
        {
          "metadata": {
            "tags": null
          },
          "name": "stderr",
          "output_type": "stream",
          "text": [
            "Training Epoch 16: 100%|██████████| 235/235 [00:24<00:00,  9.67batch/s, loss=0.042]\n",
            "Testing: 100%|██████████| 40/40 [00:03<00:00, 12.78batch/s, loss=0.0807]\n"
          ]
        },
        {
          "metadata": {
            "tags": null
          },
          "name": "stdout",
          "output_type": "stream",
          "text": [
            "\n",
            "Epoch:  17 Train Loss:  0.0003286360311011473 Train Acc top 1:  1.0 Test Loss:  0.0006457961903186515 Test Acc top 1:  0.9816\n",
            "Train Acc top 5:  1.0 Test Acc top 5:  1.0\n",
            "\n"
          ]
        },
        {
          "metadata": {
            "tags": null
          },
          "name": "stderr",
          "output_type": "stream",
          "text": [
            "Training Epoch 17: 100%|██████████| 235/235 [00:23<00:00,  9.92batch/s, loss=0.0415]\n",
            "Testing: 100%|██████████| 40/40 [00:03<00:00, 11.64batch/s, loss=0.0784]\n"
          ]
        },
        {
          "metadata": {
            "tags": null
          },
          "name": "stdout",
          "output_type": "stream",
          "text": [
            "\n",
            "Epoch:  18 Train Loss:  0.00032516789436340334 Train Acc top 1:  1.0 Test Loss:  0.000627292116265744 Test Acc top 1:  0.9814\n",
            "Train Acc top 5:  1.0 Test Acc top 5:  1.0\n",
            "\n"
          ]
        },
        {
          "metadata": {
            "tags": null
          },
          "name": "stderr",
          "output_type": "stream",
          "text": [
            "Training Epoch 18: 100%|██████████| 235/235 [00:22<00:00, 10.26batch/s, loss=0.0412]\n",
            "Testing: 100%|██████████| 40/40 [00:03<00:00, 11.35batch/s, loss=0.0809]\n"
          ]
        },
        {
          "metadata": {
            "tags": null
          },
          "name": "stdout",
          "output_type": "stream",
          "text": [
            "\n",
            "Epoch:  19 Train Loss:  0.0003230646138389905 Train Acc top 1:  1.0 Test Loss:  0.000647075385088101 Test Acc top 1:  0.982\n",
            "Train Acc top 5:  1.0 Test Acc top 5:  1.0\n",
            "\n"
          ]
        },
        {
          "metadata": {
            "tags": null
          },
          "name": "stderr",
          "output_type": "stream",
          "text": [
            "Training Epoch 19: 100%|██████████| 235/235 [00:22<00:00, 10.26batch/s, loss=0.041]\n",
            "Testing: 100%|██████████| 40/40 [00:03<00:00, 11.63batch/s, loss=0.0813]\n"
          ]
        },
        {
          "metadata": {
            "tags": null
          },
          "name": "stdout",
          "output_type": "stream",
          "text": [
            "\n",
            "Epoch:  20 Train Loss:  0.0003208985603104035 Train Acc top 1:  1.0 Test Loss:  0.0006500825497321785 Test Acc top 1:  0.982\n",
            "Train Acc top 5:  1.0 Test Acc top 5:  1.0\n",
            "\n"
          ]
        },
        {
          "metadata": {
            "tags": null
          },
          "name": "stderr",
          "output_type": "stream",
          "text": [
            "Training Epoch 20: 100%|██████████| 235/235 [00:22<00:00, 10.36batch/s, loss=0.0405]\n",
            "Testing: 100%|██████████| 40/40 [00:03<00:00, 11.94batch/s, loss=0.0803]\n"
          ]
        },
        {
          "metadata": {
            "tags": null
          },
          "name": "stdout",
          "output_type": "stream",
          "text": [
            "\n",
            "Epoch:  21 Train Loss:  0.0003172945195188125 Train Acc top 1:  1.0 Test Loss:  0.0006426384653896093 Test Acc top 1:  0.9828\n",
            "Train Acc top 5:  1.0 Test Acc top 5:  1.0\n",
            "\n"
          ]
        },
        {
          "metadata": {
            "tags": null
          },
          "name": "stderr",
          "output_type": "stream",
          "text": [
            "Training Epoch 21: 100%|██████████| 235/235 [00:23<00:00, 10.15batch/s, loss=0.0403]\n",
            "Testing: 100%|██████████| 40/40 [00:03<00:00, 11.42batch/s, loss=0.084]\n"
          ]
        },
        {
          "metadata": {
            "tags": null
          },
          "name": "stdout",
          "output_type": "stream",
          "text": [
            "\n",
            "Epoch:  22 Train Loss:  0.00031536089591681956 Train Acc top 1:  1.0 Test Loss:  0.000672076690942049 Test Acc top 1:  0.9822\n",
            "Train Acc top 5:  1.0 Test Acc top 5:  1.0\n",
            "\n"
          ]
        },
        {
          "metadata": {
            "tags": null
          },
          "name": "stderr",
          "output_type": "stream",
          "text": [
            "Training Epoch 22: 100%|██████████| 235/235 [00:22<00:00, 10.27batch/s, loss=0.0398]\n",
            "Testing: 100%|██████████| 40/40 [00:03<00:00, 12.31batch/s, loss=0.082]\n"
          ]
        },
        {
          "metadata": {
            "tags": null
          },
          "name": "stdout",
          "output_type": "stream",
          "text": [
            "\n",
            "Epoch:  23 Train Loss:  0.0003118167330821355 Train Acc top 1:  1.0 Test Loss:  0.0006558027297025546 Test Acc top 1:  0.9818\n",
            "Train Acc top 5:  1.0 Test Acc top 5:  1.0\n",
            "\n"
          ]
        },
        {
          "metadata": {
            "tags": null
          },
          "name": "stderr",
          "output_type": "stream",
          "text": [
            "Training Epoch 23: 100%|██████████| 235/235 [00:23<00:00, 10.22batch/s, loss=0.0393]\n",
            "Testing: 100%|██████████| 40/40 [00:03<00:00, 13.02batch/s, loss=0.0815]\n"
          ]
        },
        {
          "metadata": {
            "tags": null
          },
          "name": "stdout",
          "output_type": "stream",
          "text": [
            "\n",
            "Epoch:  24 Train Loss:  0.0003081363217284282 Train Acc top 1:  1.0 Test Loss:  0.0006520933055318893 Test Acc top 1:  0.9824\n",
            "Train Acc top 5:  1.0 Test Acc top 5:  1.0\n",
            "\n"
          ]
        },
        {
          "metadata": {
            "tags": null
          },
          "name": "stderr",
          "output_type": "stream",
          "text": [
            "Training Epoch 24: 100%|██████████| 235/235 [00:24<00:00,  9.46batch/s, loss=0.039]\n",
            "Testing: 100%|██████████| 40/40 [00:02<00:00, 13.69batch/s, loss=0.0829]\n"
          ]
        },
        {
          "metadata": {
            "tags": null
          },
          "name": "stdout",
          "output_type": "stream",
          "text": [
            "\n",
            "Epoch:  25 Train Loss:  0.00030514508448541166 Train Acc top 1:  1.0 Test Loss:  0.0006632975237909704 Test Acc top 1:  0.9828\n",
            "Train Acc top 5:  1.0 Test Acc top 5:  1.0\n",
            "\n"
          ]
        },
        {
          "metadata": {
            "tags": null
          },
          "name": "stderr",
          "output_type": "stream",
          "text": [
            "Training Epoch 25: 100%|██████████| 235/235 [00:25<00:00,  9.38batch/s, loss=0.0385]\n",
            "Testing: 100%|██████████| 40/40 [00:02<00:00, 13.86batch/s, loss=0.0839]\n"
          ]
        },
        {
          "metadata": {
            "tags": null
          },
          "name": "stdout",
          "output_type": "stream",
          "text": [
            "\n",
            "Epoch:  26 Train Loss:  0.0003018675827731689 Train Acc top 1:  1.0 Test Loss:  0.0006712992535438389 Test Acc top 1:  0.983\n",
            "Train Acc top 5:  1.0 Test Acc top 5:  1.0\n",
            "\n"
          ]
        },
        {
          "metadata": {
            "tags": null
          },
          "name": "stderr",
          "output_type": "stream",
          "text": [
            "Training Epoch 26: 100%|██████████| 235/235 [00:24<00:00,  9.77batch/s, loss=0.0381]\n",
            "Testing: 100%|██████████| 40/40 [00:02<00:00, 14.25batch/s, loss=0.0989]\n"
          ]
        },
        {
          "metadata": {
            "tags": null
          },
          "name": "stdout",
          "output_type": "stream",
          "text": [
            "\n",
            "Epoch:  27 Train Loss:  0.00029811326128741106 Train Acc top 1:  1.0 Test Loss:  0.000791077652387321 Test Acc top 1:  0.9822\n",
            "Train Acc top 5:  1.0 Test Acc top 5:  1.0\n",
            "\n"
          ]
        },
        {
          "metadata": {
            "tags": null
          },
          "name": "stderr",
          "output_type": "stream",
          "text": [
            "Training Epoch 27: 100%|██████████| 235/235 [00:23<00:00, 10.11batch/s, loss=0.0377]\n",
            "Testing: 100%|██████████| 40/40 [00:02<00:00, 14.14batch/s, loss=0.0815]\n"
          ]
        },
        {
          "metadata": {
            "tags": null
          },
          "name": "stdout",
          "output_type": "stream",
          "text": [
            "\n",
            "Epoch:  28 Train Loss:  0.00029565445656577744 Train Acc top 1:  1.0 Test Loss:  0.0006516737890429795 Test Acc top 1:  0.983\n",
            "Train Acc top 5:  1.0 Test Acc top 5:  1.0\n",
            "\n"
          ]
        },
        {
          "metadata": {
            "tags": null
          },
          "name": "stderr",
          "output_type": "stream",
          "text": [
            "Training Epoch 28: 100%|██████████| 235/235 [00:24<00:00,  9.57batch/s, loss=0.0373]\n",
            "Testing: 100%|██████████| 40/40 [00:02<00:00, 14.26batch/s, loss=0.0883]\n"
          ]
        },
        {
          "metadata": {
            "tags": null
          },
          "name": "stdout",
          "output_type": "stream",
          "text": [
            "\n",
            "Epoch:  29 Train Loss:  0.00029201665570338566 Train Acc top 1:  1.0 Test Loss:  0.0007067786080297083 Test Acc top 1:  0.9824\n",
            "Train Acc top 5:  1.0 Test Acc top 5:  1.0\n",
            "\n"
          ]
        },
        {
          "metadata": {
            "tags": null
          },
          "name": "stderr",
          "output_type": "stream",
          "text": [
            "Training Epoch 29: 100%|██████████| 235/235 [00:24<00:00,  9.65batch/s, loss=0.0369]\n",
            "Testing: 100%|██████████| 40/40 [00:03<00:00, 13.16batch/s, loss=0.129]\n"
          ]
        },
        {
          "metadata": {
            "tags": null
          },
          "name": "stdout",
          "output_type": "stream",
          "text": [
            "\n",
            "Epoch:  30 Train Loss:  0.0002893061426778634 Train Acc top 1:  1.0 Test Loss:  0.0010300318265799432 Test Acc top 1:  0.982\n",
            "Train Acc top 5:  1.0 Test Acc top 5:  1.0\n",
            "\n"
          ]
        },
        {
          "data": {
            "text/html": [
              "Waiting for W&B process to finish... <strong style=\"color:green\">(success).</strong>"
            ],
            "text/plain": [
              "<IPython.core.display.HTML object>"
            ]
          },
          "metadata": {},
          "output_type": "display_data"
        },
        {
          "data": {
            "text/html": [
              "<style>\n",
              "    table.wandb td:nth-child(1) { padding: 0 10px; text-align: left ; width: auto;} td:nth-child(2) {text-align: left ; width: 100%}\n",
              "    .wandb-row { display: flex; flex-direction: row; flex-wrap: wrap; justify-content: flex-start; width: 100% }\n",
              "    .wandb-col { display: flex; flex-direction: column; flex-basis: 100%; flex: 1; padding: 10px; }\n",
              "    </style>\n",
              "<div class=\"wandb-row\"><div class=\"wandb-col\"><h3>Run history:</h3><br/><table class=\"wandb\"><tr><td>epoch</td><td>▁▁▁▂▂▂▂▃▃▃▃▄▄▄▄▅▅▅▅▆▆▆▆▇▇▇▇███</td></tr><tr><td>test_acc</td><td>▁▂▃▅▁▃▂▅▃▅▅▅▅▆▂▂▄▃▅▅▇▆▅▆▇█▆█▆▅</td></tr><tr><td>test_loss</td><td>▁▁▁▁▁▁▁▁▁▂▁▁▁▁▁▁▁▁▁▁▁▂▂▁▂▂▄▁▂█</td></tr><tr><td>train_acc_top1</td><td>▁▅▆███████████████████████████</td></tr><tr><td>train_loss</td><td>██▇▇▇▆▆▆▆▆▆▅▅▅▅▄▄▄▄▄▃▃▃▃▂▂▂▂▁▁</td></tr></table><br/></div><div class=\"wandb-col\"><h3>Run summary:</h3><br/><table class=\"wandb\"><tr><td>epoch</td><td>29</td></tr><tr><td>test_acc</td><td>0.982</td></tr><tr><td>test_loss</td><td>0.00103</td></tr><tr><td>train_acc_top1</td><td>1.0</td></tr><tr><td>train_loss</td><td>0.03693</td></tr></table><br/></div></div>"
            ],
            "text/plain": [
              "<IPython.core.display.HTML object>"
            ]
          },
          "metadata": {},
          "output_type": "display_data"
        },
        {
          "data": {
            "text/html": [
              " View run <strong style=\"color:#cdcd00\">sweepy-sweep-14</strong> at: <a href='https://wandb.ai/mukul_dl/final_lab_8/runs/nkngibw1' target=\"_blank\">https://wandb.ai/mukul_dl/final_lab_8/runs/nkngibw1</a><br/>Synced 5 W&B file(s), 0 media file(s), 0 artifact file(s) and 0 other file(s)"
            ],
            "text/plain": [
              "<IPython.core.display.HTML object>"
            ]
          },
          "metadata": {},
          "output_type": "display_data"
        },
        {
          "data": {
            "text/html": [
              "Find logs at: <code>./wandb/run-20230417_160037-nkngibw1/logs</code>"
            ],
            "text/plain": [
              "<IPython.core.display.HTML object>"
            ]
          },
          "metadata": {},
          "output_type": "display_data"
        },
        {
          "metadata": {
            "tags": null
          },
          "name": "stderr",
          "output_type": "stream",
          "text": [
            "\u001b[34m\u001b[1mwandb\u001b[0m: Agent Starting Run: e76ov3si with config:\n",
            "\u001b[34m\u001b[1mwandb\u001b[0m: \tactivation: Softmax\n",
            "\u001b[34m\u001b[1mwandb\u001b[0m: \tlearning_rate: 1e-05\n",
            "\u001b[34m\u001b[1mwandb\u001b[0m: \toptimizer: SGD\n",
            "\u001b[34m\u001b[1mwandb\u001b[0m: \u001b[33mWARNING\u001b[0m Ignored wandb.init() arg project when running a sweep.\n"
          ]
        },
        {
          "data": {
            "text/html": [
              "Tracking run with wandb version 0.14.2"
            ],
            "text/plain": [
              "<IPython.core.display.HTML object>"
            ]
          },
          "metadata": {},
          "output_type": "display_data"
        },
        {
          "data": {
            "text/html": [
              "Run data is saved locally in <code>/content/wandb/run-20230417_161426-e76ov3si</code>"
            ],
            "text/plain": [
              "<IPython.core.display.HTML object>"
            ]
          },
          "metadata": {},
          "output_type": "display_data"
        },
        {
          "data": {
            "text/html": [
              "Syncing run <strong><a href='https://wandb.ai/mukul_dl/final_lab_8/runs/e76ov3si' target=\"_blank\">vital-sweep-15</a></strong> to <a href='https://wandb.ai/mukul_dl/final_lab_8' target=\"_blank\">Weights & Biases</a> (<a href='https://wandb.me/run' target=\"_blank\">docs</a>)<br/>Sweep page: <a href='https://wandb.ai/mukul_dl/final_lab_8/sweeps/rxkozgms' target=\"_blank\">https://wandb.ai/mukul_dl/final_lab_8/sweeps/rxkozgms</a>"
            ],
            "text/plain": [
              "<IPython.core.display.HTML object>"
            ]
          },
          "metadata": {},
          "output_type": "display_data"
        },
        {
          "data": {
            "text/html": [
              " View project at <a href='https://wandb.ai/mukul_dl/final_lab_8' target=\"_blank\">https://wandb.ai/mukul_dl/final_lab_8</a>"
            ],
            "text/plain": [
              "<IPython.core.display.HTML object>"
            ]
          },
          "metadata": {},
          "output_type": "display_data"
        },
        {
          "data": {
            "text/html": [
              " View sweep at <a href='https://wandb.ai/mukul_dl/final_lab_8/sweeps/rxkozgms' target=\"_blank\">https://wandb.ai/mukul_dl/final_lab_8/sweeps/rxkozgms</a>"
            ],
            "text/plain": [
              "<IPython.core.display.HTML object>"
            ]
          },
          "metadata": {},
          "output_type": "display_data"
        },
        {
          "data": {
            "text/html": [
              " View run at <a href='https://wandb.ai/mukul_dl/final_lab_8/runs/e76ov3si' target=\"_blank\">https://wandb.ai/mukul_dl/final_lab_8/runs/e76ov3si</a>"
            ],
            "text/plain": [
              "<IPython.core.display.HTML object>"
            ]
          },
          "metadata": {},
          "output_type": "display_data"
        },
        {
          "metadata": {
            "tags": null
          },
          "name": "stderr",
          "output_type": "stream",
          "text": [
            "Training Epoch 0: 100%|██████████| 235/235 [00:24<00:00,  9.66batch/s, loss=0.0367]\n",
            "Testing: 100%|██████████| 40/40 [00:03<00:00, 12.89batch/s, loss=0.0838]\n"
          ]
        },
        {
          "metadata": {
            "tags": null
          },
          "name": "stdout",
          "output_type": "stream",
          "text": [
            "\n",
            "Epoch:  1 Train Loss:  0.000287361836557587 Train Acc top 1:  1.0 Test Loss:  0.0006702711602905766 Test Acc top 1:  0.9826\n",
            "Train Acc top 5:  1.0 Test Acc top 5:  1.0\n",
            "\n"
          ]
        },
        {
          "metadata": {
            "tags": null
          },
          "name": "stderr",
          "output_type": "stream",
          "text": [
            "Training Epoch 1: 100%|██████████| 235/235 [00:23<00:00, 10.06batch/s, loss=0.0366]\n",
            "Testing: 100%|██████████| 40/40 [00:03<00:00, 11.78batch/s, loss=0.0947]\n"
          ]
        },
        {
          "metadata": {
            "tags": null
          },
          "name": "stdout",
          "output_type": "stream",
          "text": [
            "\n",
            "Epoch:  2 Train Loss:  0.00028660222565134364 Train Acc top 1:  1.0 Test Loss:  0.00075774136162363 Test Acc top 1:  0.9822\n",
            "Train Acc top 5:  1.0 Test Acc top 5:  1.0\n",
            "\n"
          ]
        },
        {
          "metadata": {
            "tags": null
          },
          "name": "stderr",
          "output_type": "stream",
          "text": [
            "Training Epoch 2: 100%|██████████| 235/235 [00:24<00:00,  9.74batch/s, loss=0.0366]\n",
            "Testing: 100%|██████████| 40/40 [00:03<00:00, 11.46batch/s, loss=0.104]\n"
          ]
        },
        {
          "metadata": {
            "tags": null
          },
          "name": "stdout",
          "output_type": "stream",
          "text": [
            "\n",
            "Epoch:  3 Train Loss:  0.0002866988158474366 Train Acc top 1:  1.0 Test Loss:  0.0008335323315113782 Test Acc top 1:  0.9822\n",
            "Train Acc top 5:  1.0 Test Acc top 5:  1.0\n",
            "\n"
          ]
        },
        {
          "metadata": {
            "tags": null
          },
          "name": "stderr",
          "output_type": "stream",
          "text": [
            "Training Epoch 3: 100%|██████████| 235/235 [00:24<00:00,  9.74batch/s, loss=0.0367]\n",
            "Testing: 100%|██████████| 40/40 [00:03<00:00, 12.31batch/s, loss=0.0817]\n"
          ]
        },
        {
          "metadata": {
            "tags": null
          },
          "name": "stdout",
          "output_type": "stream",
          "text": [
            "\n",
            "Epoch:  4 Train Loss:  0.00028722914357980095 Train Acc top 1:  1.0 Test Loss:  0.0006538090507499873 Test Acc top 1:  0.9828\n",
            "Train Acc top 5:  1.0 Test Acc top 5:  1.0\n",
            "\n"
          ]
        },
        {
          "metadata": {
            "tags": null
          },
          "name": "stderr",
          "output_type": "stream",
          "text": [
            "Training Epoch 4: 100%|██████████| 235/235 [00:23<00:00,  9.80batch/s, loss=0.0366]\n",
            "Testing: 100%|██████████| 40/40 [00:03<00:00, 13.15batch/s, loss=0.0837]\n"
          ]
        },
        {
          "metadata": {
            "tags": null
          },
          "name": "stdout",
          "output_type": "stream",
          "text": [
            "\n",
            "Epoch:  5 Train Loss:  0.0002870443987349669 Train Acc top 1:  1.0 Test Loss:  0.0006695073551032692 Test Acc top 1:  0.9828\n",
            "Train Acc top 5:  1.0 Test Acc top 5:  1.0\n",
            "\n"
          ]
        },
        {
          "metadata": {
            "tags": null
          },
          "name": "stderr",
          "output_type": "stream",
          "text": [
            "Training Epoch 5: 100%|██████████| 235/235 [00:24<00:00,  9.46batch/s, loss=0.0366]\n",
            "Testing: 100%|██████████| 40/40 [00:02<00:00, 13.34batch/s, loss=0.0998]\n"
          ]
        },
        {
          "metadata": {
            "tags": null
          },
          "name": "stdout",
          "output_type": "stream",
          "text": [
            "\n",
            "Epoch:  6 Train Loss:  0.0002870056863874197 Train Acc top 1:  1.0 Test Loss:  0.0007987045324407518 Test Acc top 1:  0.9824\n",
            "Train Acc top 5:  1.0 Test Acc top 5:  1.0\n",
            "\n"
          ]
        },
        {
          "metadata": {
            "tags": null
          },
          "name": "stderr",
          "output_type": "stream",
          "text": [
            "Training Epoch 6: 100%|██████████| 235/235 [00:24<00:00,  9.55batch/s, loss=0.0367]\n",
            "Testing: 100%|██████████| 40/40 [00:02<00:00, 13.93batch/s, loss=0.0832]\n"
          ]
        },
        {
          "metadata": {
            "tags": null
          },
          "name": "stdout",
          "output_type": "stream",
          "text": [
            "\n",
            "Epoch:  7 Train Loss:  0.0002872587577750285 Train Acc top 1:  1.0 Test Loss:  0.0006652103723958135 Test Acc top 1:  0.9824\n",
            "Train Acc top 5:  1.0 Test Acc top 5:  1.0\n",
            "\n"
          ]
        },
        {
          "metadata": {
            "tags": null
          },
          "name": "stderr",
          "output_type": "stream",
          "text": [
            "Training Epoch 7: 100%|██████████| 235/235 [00:24<00:00,  9.62batch/s, loss=0.0367]\n",
            "Testing: 100%|██████████| 40/40 [00:02<00:00, 14.31batch/s, loss=0.0819]\n"
          ]
        },
        {
          "metadata": {
            "tags": null
          },
          "name": "stdout",
          "output_type": "stream",
          "text": [
            "\n",
            "Epoch:  8 Train Loss:  0.0002872359689325094 Train Acc top 1:  1.0 Test Loss:  0.0006551737508736551 Test Acc top 1:  0.982\n",
            "Train Acc top 5:  1.0 Test Acc top 5:  1.0\n",
            "\n"
          ]
        },
        {
          "metadata": {
            "tags": null
          },
          "name": "stderr",
          "output_type": "stream",
          "text": [
            "Training Epoch 8: 100%|██████████| 235/235 [00:24<00:00,  9.55batch/s, loss=0.0367]\n",
            "Testing: 100%|██████████| 40/40 [00:02<00:00, 13.77batch/s, loss=0.0969]\n"
          ]
        },
        {
          "metadata": {
            "tags": null
          },
          "name": "stdout",
          "output_type": "stream",
          "text": [
            "\n",
            "Epoch:  9 Train Loss:  0.00028722557711104553 Train Acc top 1:  1.0 Test Loss:  0.0007754031795077026 Test Acc top 1:  0.9824\n",
            "Train Acc top 5:  1.0 Test Acc top 5:  1.0\n",
            "\n"
          ]
        },
        {
          "metadata": {
            "tags": null
          },
          "name": "stderr",
          "output_type": "stream",
          "text": [
            "Training Epoch 9: 100%|██████████| 235/235 [00:24<00:00,  9.50batch/s, loss=0.0367]\n",
            "Testing: 100%|██████████| 40/40 [00:03<00:00, 12.31batch/s, loss=0.0842]\n"
          ]
        },
        {
          "metadata": {
            "tags": null
          },
          "name": "stdout",
          "output_type": "stream",
          "text": [
            "\n",
            "Epoch:  10 Train Loss:  0.0002872619333366553 Train Acc top 1:  1.0 Test Loss:  0.0006735042433720082 Test Acc top 1:  0.9818\n",
            "Train Acc top 5:  1.0 Test Acc top 5:  1.0\n",
            "\n"
          ]
        },
        {
          "metadata": {
            "tags": null
          },
          "name": "stderr",
          "output_type": "stream",
          "text": [
            "Training Epoch 10: 100%|██████████| 235/235 [00:24<00:00,  9.60batch/s, loss=0.0367]\n",
            "Testing: 100%|██████████| 40/40 [00:03<00:00, 11.00batch/s, loss=0.106]\n"
          ]
        },
        {
          "metadata": {
            "tags": null
          },
          "name": "stdout",
          "output_type": "stream",
          "text": [
            "\n",
            "Epoch:  11 Train Loss:  0.00028746777611474194 Train Acc top 1:  1.0 Test Loss:  0.000847784454934299 Test Acc top 1:  0.9824\n",
            "Train Acc top 5:  1.0 Test Acc top 5:  1.0\n",
            "\n"
          ]
        },
        {
          "metadata": {
            "tags": null
          },
          "name": "stderr",
          "output_type": "stream",
          "text": [
            "Training Epoch 11: 100%|██████████| 235/235 [00:25<00:00,  9.15batch/s, loss=0.0366]\n",
            "Testing: 100%|██████████| 40/40 [00:02<00:00, 13.65batch/s, loss=0.0822]\n"
          ]
        },
        {
          "metadata": {
            "tags": null
          },
          "name": "stdout",
          "output_type": "stream",
          "text": [
            "\n",
            "Epoch:  12 Train Loss:  0.0002870173718780279 Train Acc top 1:  1.0 Test Loss:  0.0006576859796885401 Test Acc top 1:  0.9824\n",
            "Train Acc top 5:  1.0 Test Acc top 5:  1.0\n",
            "\n"
          ]
        },
        {
          "metadata": {
            "tags": null
          },
          "name": "stderr",
          "output_type": "stream",
          "text": [
            "Training Epoch 12: 100%|██████████| 235/235 [00:24<00:00,  9.65batch/s, loss=0.0367]\n",
            "Testing: 100%|██████████| 40/40 [00:02<00:00, 13.64batch/s, loss=0.0936]\n"
          ]
        },
        {
          "metadata": {
            "tags": null
          },
          "name": "stdout",
          "output_type": "stream",
          "text": [
            "\n",
            "Epoch:  13 Train Loss:  0.00028732462028662365 Train Acc top 1:  1.0 Test Loss:  0.0007486431813333184 Test Acc top 1:  0.9824\n",
            "Train Acc top 5:  1.0 Test Acc top 5:  1.0\n",
            "\n"
          ]
        },
        {
          "metadata": {
            "tags": null
          },
          "name": "stderr",
          "output_type": "stream",
          "text": [
            "Training Epoch 13: 100%|██████████| 235/235 [00:25<00:00,  9.38batch/s, loss=0.0368]\n",
            "Testing: 100%|██████████| 40/40 [00:02<00:00, 13.86batch/s, loss=0.0827]\n"
          ]
        },
        {
          "metadata": {
            "tags": null
          },
          "name": "stdout",
          "output_type": "stream",
          "text": [
            "\n",
            "Epoch:  14 Train Loss:  0.00028792845805486044 Train Acc top 1:  1.0 Test Loss:  0.000661740517616272 Test Acc top 1:  0.9824\n",
            "Train Acc top 5:  1.0 Test Acc top 5:  1.0\n",
            "\n"
          ]
        },
        {
          "metadata": {
            "tags": null
          },
          "name": "stderr",
          "output_type": "stream",
          "text": [
            "Training Epoch 14: 100%|██████████| 235/235 [00:25<00:00,  9.20batch/s, loss=0.0366]\n",
            "Testing: 100%|██████████| 40/40 [00:02<00:00, 13.72batch/s, loss=0.0833]\n"
          ]
        },
        {
          "metadata": {
            "tags": null
          },
          "name": "stdout",
          "output_type": "stream",
          "text": [
            "\n",
            "Epoch:  15 Train Loss:  0.00028672338301936786 Train Acc top 1:  1.0 Test Loss:  0.0006660413660109043 Test Acc top 1:  0.9826\n",
            "Train Acc top 5:  1.0 Test Acc top 5:  1.0\n",
            "\n"
          ]
        },
        {
          "metadata": {
            "tags": null
          },
          "name": "stderr",
          "output_type": "stream",
          "text": [
            "Training Epoch 15: 100%|██████████| 235/235 [00:24<00:00,  9.69batch/s, loss=0.0367]\n",
            "Testing: 100%|██████████| 40/40 [00:02<00:00, 13.46batch/s, loss=0.0837]\n"
          ]
        },
        {
          "metadata": {
            "tags": null
          },
          "name": "stdout",
          "output_type": "stream",
          "text": [
            "\n",
            "Epoch:  16 Train Loss:  0.00028726788784066835 Train Acc top 1:  1.0 Test Loss:  0.0006696365500800312 Test Acc top 1:  0.9824\n",
            "Train Acc top 5:  1.0 Test Acc top 5:  1.0\n",
            "\n"
          ]
        },
        {
          "metadata": {
            "tags": null
          },
          "name": "stderr",
          "output_type": "stream",
          "text": [
            "Training Epoch 16: 100%|██████████| 235/235 [00:23<00:00, 10.14batch/s, loss=0.0366]\n",
            "Testing: 100%|██████████| 40/40 [00:02<00:00, 13.67batch/s, loss=0.0821]\n"
          ]
        },
        {
          "metadata": {
            "tags": null
          },
          "name": "stdout",
          "output_type": "stream",
          "text": [
            "\n",
            "Epoch:  17 Train Loss:  0.00028708069995045664 Train Acc top 1:  1.0 Test Loss:  0.000657166374148801 Test Acc top 1:  0.9824\n",
            "Train Acc top 5:  1.0 Test Acc top 5:  1.0\n",
            "\n"
          ]
        },
        {
          "metadata": {
            "tags": null
          },
          "name": "stderr",
          "output_type": "stream",
          "text": [
            "Training Epoch 17: 100%|██████████| 235/235 [00:22<00:00, 10.29batch/s, loss=0.0367]\n",
            "Testing: 100%|██████████| 40/40 [00:03<00:00, 13.30batch/s, loss=0.0828]\n"
          ]
        },
        {
          "metadata": {
            "tags": null
          },
          "name": "stdout",
          "output_type": "stream",
          "text": [
            "\n",
            "Epoch:  18 Train Loss:  0.0002871146189669768 Train Acc top 1:  1.0 Test Loss:  0.0006624815825140104 Test Acc top 1:  0.9824\n",
            "Train Acc top 5:  1.0 Test Acc top 5:  1.0\n",
            "\n"
          ]
        },
        {
          "metadata": {
            "tags": null
          },
          "name": "stderr",
          "output_type": "stream",
          "text": [
            "Training Epoch 18: 100%|██████████| 235/235 [00:23<00:00, 10.10batch/s, loss=0.0367]\n",
            "Testing: 100%|██████████| 40/40 [00:03<00:00, 13.27batch/s, loss=0.0828]\n"
          ]
        },
        {
          "metadata": {
            "tags": null
          },
          "name": "stdout",
          "output_type": "stream",
          "text": [
            "\n",
            "Epoch:  19 Train Loss:  0.0002872902985662222 Train Acc top 1:  1.0 Test Loss:  0.0006625152927823365 Test Acc top 1:  0.9824\n",
            "Train Acc top 5:  1.0 Test Acc top 5:  1.0\n",
            "\n"
          ]
        },
        {
          "metadata": {
            "tags": null
          },
          "name": "stderr",
          "output_type": "stream",
          "text": [
            "Training Epoch 19: 100%|██████████| 235/235 [00:23<00:00, 10.11batch/s, loss=0.0367]\n",
            "Testing: 100%|██████████| 40/40 [00:03<00:00, 13.29batch/s, loss=0.0829]\n"
          ]
        },
        {
          "metadata": {
            "tags": null
          },
          "name": "stdout",
          "output_type": "stream",
          "text": [
            "\n",
            "Epoch:  20 Train Loss:  0.00028723761575917404 Train Acc top 1:  1.0 Test Loss:  0.0006634552867151797 Test Acc top 1:  0.9828\n",
            "Train Acc top 5:  1.0 Test Acc top 5:  1.0\n",
            "\n"
          ]
        },
        {
          "metadata": {
            "tags": null
          },
          "name": "stderr",
          "output_type": "stream",
          "text": [
            "Training Epoch 20: 100%|██████████| 235/235 [00:24<00:00,  9.61batch/s, loss=0.0367]\n",
            "Testing: 100%|██████████| 40/40 [00:03<00:00, 11.10batch/s, loss=0.0834]\n"
          ]
        },
        {
          "metadata": {
            "tags": null
          },
          "name": "stdout",
          "output_type": "stream",
          "text": [
            "\n",
            "Epoch:  21 Train Loss:  0.00028720056501527625 Train Acc top 1:  1.0 Test Loss:  0.0006668313563335687 Test Acc top 1:  0.9822\n",
            "Train Acc top 5:  1.0 Test Acc top 5:  1.0\n",
            "\n"
          ]
        },
        {
          "metadata": {
            "tags": null
          },
          "name": "stderr",
          "output_type": "stream",
          "text": [
            "Training Epoch 21: 100%|██████████| 235/235 [00:23<00:00,  9.94batch/s, loss=0.0366]\n",
            "Testing: 100%|██████████| 40/40 [00:03<00:00, 11.82batch/s, loss=0.0856]\n"
          ]
        },
        {
          "metadata": {
            "tags": null
          },
          "name": "stdout",
          "output_type": "stream",
          "text": [
            "\n",
            "Epoch:  22 Train Loss:  0.0002867487774540981 Train Acc top 1:  1.0 Test Loss:  0.0006846094795037061 Test Acc top 1:  0.9826\n",
            "Train Acc top 5:  1.0 Test Acc top 5:  1.0\n",
            "\n"
          ]
        },
        {
          "metadata": {
            "tags": null
          },
          "name": "stderr",
          "output_type": "stream",
          "text": [
            "Training Epoch 22: 100%|██████████| 235/235 [00:23<00:00,  9.91batch/s, loss=0.0367]\n",
            "Testing: 100%|██████████| 40/40 [00:03<00:00, 12.75batch/s, loss=0.0825]\n"
          ]
        },
        {
          "metadata": {
            "tags": null
          },
          "name": "stdout",
          "output_type": "stream",
          "text": [
            "\n",
            "Epoch:  23 Train Loss:  0.0002877002640316884 Train Acc top 1:  1.0 Test Loss:  0.0006597779858857393 Test Acc top 1:  0.9824\n",
            "Train Acc top 5:  1.0 Test Acc top 5:  1.0\n",
            "\n"
          ]
        },
        {
          "metadata": {
            "tags": null
          },
          "name": "stderr",
          "output_type": "stream",
          "text": [
            "Training Epoch 23: 100%|██████████| 235/235 [00:23<00:00,  9.86batch/s, loss=0.0367]\n",
            "Testing: 100%|██████████| 40/40 [00:02<00:00, 15.01batch/s, loss=0.0828]\n"
          ]
        },
        {
          "metadata": {
            "tags": null
          },
          "name": "stdout",
          "output_type": "stream",
          "text": [
            "\n",
            "Epoch:  24 Train Loss:  0.00028729354068636893 Train Acc top 1:  1.0 Test Loss:  0.0006622347141616047 Test Acc top 1:  0.9826\n",
            "Train Acc top 5:  1.0 Test Acc top 5:  1.0\n",
            "\n"
          ]
        },
        {
          "metadata": {
            "tags": null
          },
          "name": "stderr",
          "output_type": "stream",
          "text": [
            "Training Epoch 24: 100%|██████████| 235/235 [00:22<00:00, 10.28batch/s, loss=0.0367]\n",
            "Testing: 100%|██████████| 40/40 [00:02<00:00, 14.55batch/s, loss=0.0827]\n"
          ]
        },
        {
          "metadata": {
            "tags": null
          },
          "name": "stdout",
          "output_type": "stream",
          "text": [
            "\n",
            "Epoch:  25 Train Loss:  0.0002874629147350788 Train Acc top 1:  1.0 Test Loss:  0.0006618895911611616 Test Acc top 1:  0.983\n",
            "Train Acc top 5:  1.0 Test Acc top 5:  1.0\n",
            "\n"
          ]
        },
        {
          "metadata": {
            "tags": null
          },
          "name": "stderr",
          "output_type": "stream",
          "text": [
            "Training Epoch 25: 100%|██████████| 235/235 [00:22<00:00, 10.41batch/s, loss=0.0366]\n",
            "Testing: 100%|██████████| 40/40 [00:03<00:00, 13.33batch/s, loss=0.084]\n"
          ]
        },
        {
          "metadata": {
            "tags": null
          },
          "name": "stdout",
          "output_type": "stream",
          "text": [
            "\n",
            "Epoch:  26 Train Loss:  0.00028669585573176546 Train Acc top 1:  1.0 Test Loss:  0.0006722747402032837 Test Acc top 1:  0.9826\n",
            "Train Acc top 5:  1.0 Test Acc top 5:  1.0\n",
            "\n"
          ]
        },
        {
          "metadata": {
            "tags": null
          },
          "name": "stderr",
          "output_type": "stream",
          "text": [
            "Training Epoch 26: 100%|██████████| 235/235 [00:25<00:00,  9.35batch/s, loss=0.0366]\n",
            "Testing: 100%|██████████| 40/40 [00:02<00:00, 13.57batch/s, loss=0.0822]\n"
          ]
        },
        {
          "metadata": {
            "tags": null
          },
          "name": "stdout",
          "output_type": "stream",
          "text": [
            "\n",
            "Epoch:  27 Train Loss:  0.00028697024720410506 Train Acc top 1:  1.0 Test Loss:  0.0006577856458257884 Test Acc top 1:  0.9824\n",
            "Train Acc top 5:  1.0 Test Acc top 5:  1.0\n",
            "\n"
          ]
        },
        {
          "metadata": {
            "tags": null
          },
          "name": "stderr",
          "output_type": "stream",
          "text": [
            "Training Epoch 27: 100%|██████████| 235/235 [00:25<00:00,  9.28batch/s, loss=0.0366]\n",
            "Testing: 100%|██████████| 40/40 [00:02<00:00, 13.62batch/s, loss=0.0827]\n"
          ]
        },
        {
          "metadata": {
            "tags": null
          },
          "name": "stdout",
          "output_type": "stream",
          "text": [
            "\n",
            "Epoch:  28 Train Loss:  0.0002867402209589879 Train Acc top 1:  1.0 Test Loss:  0.0006615564282983541 Test Acc top 1:  0.9826\n",
            "Train Acc top 5:  1.0 Test Acc top 5:  1.0\n",
            "\n"
          ]
        },
        {
          "metadata": {
            "tags": null
          },
          "name": "stderr",
          "output_type": "stream",
          "text": [
            "Training Epoch 28: 100%|██████████| 235/235 [00:25<00:00,  9.22batch/s, loss=0.0367]\n",
            "Testing: 100%|██████████| 40/40 [00:02<00:00, 14.06batch/s, loss=0.0839]\n"
          ]
        },
        {
          "metadata": {
            "tags": null
          },
          "name": "stdout",
          "output_type": "stream",
          "text": [
            "\n",
            "Epoch:  29 Train Loss:  0.000287285295377175 Train Acc top 1:  1.0 Test Loss:  0.0006708397069945932 Test Acc top 1:  0.9824\n",
            "Train Acc top 5:  1.0 Test Acc top 5:  1.0\n",
            "\n"
          ]
        },
        {
          "metadata": {
            "tags": null
          },
          "name": "stderr",
          "output_type": "stream",
          "text": [
            "Training Epoch 29: 100%|██████████| 235/235 [00:24<00:00,  9.47batch/s, loss=0.0366]\n",
            "Testing: 100%|██████████| 40/40 [00:03<00:00, 12.62batch/s, loss=0.0828]"
          ]
        },
        {
          "metadata": {
            "tags": null
          },
          "name": "stdout",
          "output_type": "stream",
          "text": [
            "\n",
            "Epoch:  30 Train Loss:  0.00028693438805639743 Train Acc top 1:  1.0 Test Loss:  0.0006620232418179512 Test Acc top 1:  0.9822\n",
            "Train Acc top 5:  1.0 Test Acc top 5:  1.0\n",
            "\n"
          ]
        },
        {
          "metadata": {
            "tags": null
          },
          "name": "stderr",
          "output_type": "stream",
          "text": [
            "\n"
          ]
        },
        {
          "data": {
            "text/html": [
              "Waiting for W&B process to finish... <strong style=\"color:green\">(success).</strong>"
            ],
            "text/plain": [
              "<IPython.core.display.HTML object>"
            ]
          },
          "metadata": {},
          "output_type": "display_data"
        },
        {
          "data": {
            "text/html": [
              "<style>\n",
              "    table.wandb td:nth-child(1) { padding: 0 10px; text-align: left ; width: auto;} td:nth-child(2) {text-align: left ; width: 100%}\n",
              "    .wandb-row { display: flex; flex-direction: row; flex-wrap: wrap; justify-content: flex-start; width: 100% }\n",
              "    .wandb-col { display: flex; flex-direction: column; flex-basis: 100%; flex: 1; padding: 10px; }\n",
              "    </style>\n",
              "<div class=\"wandb-row\"><div class=\"wandb-col\"><h3>Run history:</h3><br/><table class=\"wandb\"><tr><td>epoch</td><td>▁▁▁▂▂▂▂▃▃▃▃▄▄▄▄▅▅▅▅▆▆▆▆▇▇▇▇███</td></tr><tr><td>test_acc</td><td>▆▃▃▇▇▅▅▂▅▁▅▅▅▅▆▅▅▅▅▇▃▆▅▆█▆▅▆▅▃</td></tr><tr><td>test_loss</td><td>▂▅▇▁▂▆▁▁▅▂█▁▄▁▁▂▁▁▁▁▁▂▁▁▁▂▁▁▂▁</td></tr><tr><td>train_acc_top1</td><td>▁▁▁▁▁▁▁▁▁▁▁▁▁▁▁▁▁▁▁▁▁▁▁▁▁▁▁▁▁▁</td></tr><tr><td>train_loss</td><td>▅▁▂▄▃▃▄▄▄▄▆▃▅█▂▅▄▄▅▄▄▂▇▅▆▁▃▂▅▃</td></tr></table><br/></div><div class=\"wandb-col\"><h3>Run summary:</h3><br/><table class=\"wandb\"><tr><td>epoch</td><td>29</td></tr><tr><td>test_acc</td><td>0.9822</td></tr><tr><td>test_loss</td><td>0.00066</td></tr><tr><td>train_acc_top1</td><td>1.0</td></tr><tr><td>train_loss</td><td>0.03663</td></tr></table><br/></div></div>"
            ],
            "text/plain": [
              "<IPython.core.display.HTML object>"
            ]
          },
          "metadata": {},
          "output_type": "display_data"
        },
        {
          "data": {
            "text/html": [
              " View run <strong style=\"color:#cdcd00\">vital-sweep-15</strong> at: <a href='https://wandb.ai/mukul_dl/final_lab_8/runs/e76ov3si' target=\"_blank\">https://wandb.ai/mukul_dl/final_lab_8/runs/e76ov3si</a><br/>Synced 5 W&B file(s), 0 media file(s), 0 artifact file(s) and 0 other file(s)"
            ],
            "text/plain": [
              "<IPython.core.display.HTML object>"
            ]
          },
          "metadata": {},
          "output_type": "display_data"
        },
        {
          "data": {
            "text/html": [
              "Find logs at: <code>./wandb/run-20230417_161426-e76ov3si/logs</code>"
            ],
            "text/plain": [
              "<IPython.core.display.HTML object>"
            ]
          },
          "metadata": {},
          "output_type": "display_data"
        },
        {
          "metadata": {
            "tags": null
          },
          "name": "stderr",
          "output_type": "stream",
          "text": [
            "\u001b[34m\u001b[1mwandb\u001b[0m: Agent Starting Run: x05xm1v7 with config:\n",
            "\u001b[34m\u001b[1mwandb\u001b[0m: \tactivation: Softmax\n",
            "\u001b[34m\u001b[1mwandb\u001b[0m: \tlearning_rate: 3e-05\n",
            "\u001b[34m\u001b[1mwandb\u001b[0m: \toptimizer: Adam\n",
            "\u001b[34m\u001b[1mwandb\u001b[0m: \u001b[33mWARNING\u001b[0m Ignored wandb.init() arg project when running a sweep.\n"
          ]
        },
        {
          "data": {
            "text/html": [
              "Tracking run with wandb version 0.14.2"
            ],
            "text/plain": [
              "<IPython.core.display.HTML object>"
            ]
          },
          "metadata": {},
          "output_type": "display_data"
        },
        {
          "data": {
            "text/html": [
              "Run data is saved locally in <code>/content/wandb/run-20230417_162827-x05xm1v7</code>"
            ],
            "text/plain": [
              "<IPython.core.display.HTML object>"
            ]
          },
          "metadata": {},
          "output_type": "display_data"
        },
        {
          "data": {
            "text/html": [
              "Syncing run <strong><a href='https://wandb.ai/mukul_dl/final_lab_8/runs/x05xm1v7' target=\"_blank\">comic-sweep-16</a></strong> to <a href='https://wandb.ai/mukul_dl/final_lab_8' target=\"_blank\">Weights & Biases</a> (<a href='https://wandb.me/run' target=\"_blank\">docs</a>)<br/>Sweep page: <a href='https://wandb.ai/mukul_dl/final_lab_8/sweeps/rxkozgms' target=\"_blank\">https://wandb.ai/mukul_dl/final_lab_8/sweeps/rxkozgms</a>"
            ],
            "text/plain": [
              "<IPython.core.display.HTML object>"
            ]
          },
          "metadata": {},
          "output_type": "display_data"
        },
        {
          "data": {
            "text/html": [
              " View project at <a href='https://wandb.ai/mukul_dl/final_lab_8' target=\"_blank\">https://wandb.ai/mukul_dl/final_lab_8</a>"
            ],
            "text/plain": [
              "<IPython.core.display.HTML object>"
            ]
          },
          "metadata": {},
          "output_type": "display_data"
        },
        {
          "data": {
            "text/html": [
              " View sweep at <a href='https://wandb.ai/mukul_dl/final_lab_8/sweeps/rxkozgms' target=\"_blank\">https://wandb.ai/mukul_dl/final_lab_8/sweeps/rxkozgms</a>"
            ],
            "text/plain": [
              "<IPython.core.display.HTML object>"
            ]
          },
          "metadata": {},
          "output_type": "display_data"
        },
        {
          "data": {
            "text/html": [
              " View run at <a href='https://wandb.ai/mukul_dl/final_lab_8/runs/x05xm1v7' target=\"_blank\">https://wandb.ai/mukul_dl/final_lab_8/runs/x05xm1v7</a>"
            ],
            "text/plain": [
              "<IPython.core.display.HTML object>"
            ]
          },
          "metadata": {},
          "output_type": "display_data"
        },
        {
          "metadata": {
            "tags": null
          },
          "name": "stderr",
          "output_type": "stream",
          "text": [
            "Training Epoch 0: 100%|██████████| 235/235 [00:24<00:00,  9.61batch/s, loss=0.0358]\n",
            "Testing: 100%|██████████| 40/40 [00:02<00:00, 14.09batch/s, loss=0.088]\n"
          ]
        },
        {
          "metadata": {
            "tags": null
          },
          "name": "stdout",
          "output_type": "stream",
          "text": [
            "\n",
            "Epoch:  1 Train Loss:  0.0002800631878276666 Train Acc top 1:  1.0 Test Loss:  0.000703967859223485 Test Acc top 1:  0.9814\n",
            "Train Acc top 5:  1.0 Test Acc top 5:  1.0\n",
            "\n"
          ]
        },
        {
          "metadata": {
            "tags": null
          },
          "name": "stderr",
          "output_type": "stream",
          "text": [
            "Training Epoch 1: 100%|██████████| 235/235 [00:23<00:00,  9.85batch/s, loss=0.035]\n",
            "Testing: 100%|██████████| 40/40 [00:03<00:00, 12.55batch/s, loss=0.0946]\n"
          ]
        },
        {
          "metadata": {
            "tags": null
          },
          "name": "stdout",
          "output_type": "stream",
          "text": [
            "\n",
            "Epoch:  2 Train Loss:  0.00027394091772536437 Train Acc top 1:  0.9999666666666667 Test Loss:  0.0007565091256285086 Test Acc top 1:  0.981\n",
            "Train Acc top 5:  1.0 Test Acc top 5:  1.0\n",
            "\n"
          ]
        },
        {
          "metadata": {
            "tags": null
          },
          "name": "stderr",
          "output_type": "stream",
          "text": [
            "Training Epoch 2: 100%|██████████| 235/235 [00:22<00:00, 10.33batch/s, loss=0.0352]\n",
            "Testing: 100%|██████████| 40/40 [00:03<00:00, 12.23batch/s, loss=0.0879]\n"
          ]
        },
        {
          "metadata": {
            "tags": null
          },
          "name": "stdout",
          "output_type": "stream",
          "text": [
            "\n",
            "Epoch:  3 Train Loss:  0.0002759454114983479 Train Acc top 1:  0.9997666666666667 Test Loss:  0.0007035369080957025 Test Acc top 1:  0.9822\n",
            "Train Acc top 5:  1.0 Test Acc top 5:  1.0\n",
            "\n"
          ]
        },
        {
          "metadata": {
            "tags": null
          },
          "name": "stderr",
          "output_type": "stream",
          "text": [
            "Training Epoch 3: 100%|██████████| 235/235 [00:22<00:00, 10.26batch/s, loss=0.035]\n",
            "Testing: 100%|██████████| 40/40 [00:03<00:00, 11.59batch/s, loss=0.0877]\n"
          ]
        },
        {
          "metadata": {
            "tags": null
          },
          "name": "stdout",
          "output_type": "stream",
          "text": [
            "\n",
            "Epoch:  4 Train Loss:  0.00027410590574145316 Train Acc top 1:  0.9999 Test Loss:  0.0007019209497608244 Test Acc top 1:  0.983\n",
            "Train Acc top 5:  1.0 Test Acc top 5:  1.0\n",
            "\n"
          ]
        },
        {
          "metadata": {
            "tags": null
          },
          "name": "stderr",
          "output_type": "stream",
          "text": [
            "Training Epoch 4: 100%|██████████| 235/235 [00:23<00:00, 10.08batch/s, loss=0.0346]\n",
            "Testing: 100%|██████████| 40/40 [00:03<00:00, 11.51batch/s, loss=0.0908]\n"
          ]
        },
        {
          "metadata": {
            "tags": null
          },
          "name": "stdout",
          "output_type": "stream",
          "text": [
            "\n",
            "Epoch:  5 Train Loss:  0.0002708481047302485 Train Acc top 1:  1.0 Test Loss:  0.0007260372059419751 Test Acc top 1:  0.9816\n",
            "Train Acc top 5:  1.0 Test Acc top 5:  1.0\n",
            "\n"
          ]
        },
        {
          "metadata": {
            "tags": null
          },
          "name": "stderr",
          "output_type": "stream",
          "text": [
            "Training Epoch 5: 100%|██████████| 235/235 [00:23<00:00,  9.95batch/s, loss=0.0344]\n",
            "Testing: 100%|██████████| 40/40 [00:03<00:00, 12.08batch/s, loss=0.112]\n"
          ]
        },
        {
          "metadata": {
            "tags": null
          },
          "name": "stdout",
          "output_type": "stream",
          "text": [
            "\n",
            "Epoch:  6 Train Loss:  0.00026947758023937544 Train Acc top 1:  1.0 Test Loss:  0.0008973799594677985 Test Acc top 1:  0.9822\n",
            "Train Acc top 5:  1.0 Test Acc top 5:  1.0\n",
            "\n"
          ]
        },
        {
          "metadata": {
            "tags": null
          },
          "name": "stderr",
          "output_type": "stream",
          "text": [
            "Training Epoch 6: 100%|██████████| 235/235 [00:23<00:00,  9.94batch/s, loss=0.0344]\n",
            "Testing: 100%|██████████| 40/40 [00:02<00:00, 14.33batch/s, loss=0.0897]\n"
          ]
        },
        {
          "metadata": {
            "tags": null
          },
          "name": "stdout",
          "output_type": "stream",
          "text": [
            "\n",
            "Epoch:  7 Train Loss:  0.00026944066087404887 Train Acc top 1:  1.0 Test Loss:  0.0007172837598249316 Test Acc top 1:  0.9824\n",
            "Train Acc top 5:  1.0 Test Acc top 5:  1.0\n",
            "\n"
          ]
        },
        {
          "metadata": {
            "tags": null
          },
          "name": "stderr",
          "output_type": "stream",
          "text": [
            "Training Epoch 7: 100%|██████████| 235/235 [00:23<00:00,  9.99batch/s, loss=0.0342]\n",
            "Testing: 100%|██████████| 40/40 [00:02<00:00, 14.19batch/s, loss=0.0886]\n"
          ]
        },
        {
          "metadata": {
            "tags": null
          },
          "name": "stdout",
          "output_type": "stream",
          "text": [
            "\n",
            "Epoch:  8 Train Loss:  0.00026798258560399216 Train Acc top 1:  1.0 Test Loss:  0.0007087939789053052 Test Acc top 1:  0.982\n",
            "Train Acc top 5:  1.0 Test Acc top 5:  1.0\n",
            "\n"
          ]
        },
        {
          "metadata": {
            "tags": null
          },
          "name": "stderr",
          "output_type": "stream",
          "text": [
            "Training Epoch 8: 100%|██████████| 235/235 [00:23<00:00, 10.08batch/s, loss=0.034]\n",
            "Testing: 100%|██████████| 40/40 [00:02<00:00, 14.86batch/s, loss=0.088]\n"
          ]
        },
        {
          "metadata": {
            "tags": null
          },
          "name": "stdout",
          "output_type": "stream",
          "text": [
            "\n",
            "Epoch:  9 Train Loss:  0.00026649361389378707 Train Acc top 1:  1.0 Test Loss:  0.000703662119153887 Test Acc top 1:  0.9818\n",
            "Train Acc top 5:  1.0 Test Acc top 5:  1.0\n",
            "\n"
          ]
        },
        {
          "metadata": {
            "tags": null
          },
          "name": "stderr",
          "output_type": "stream",
          "text": [
            "Training Epoch 9: 100%|██████████| 235/235 [00:23<00:00, 10.16batch/s, loss=0.0339]\n",
            "Testing: 100%|██████████| 40/40 [00:02<00:00, 14.46batch/s, loss=0.0875]\n"
          ]
        },
        {
          "metadata": {
            "tags": null
          },
          "name": "stdout",
          "output_type": "stream",
          "text": [
            "\n",
            "Epoch:  10 Train Loss:  0.0002659017249941826 Train Acc top 1:  1.0 Test Loss:  0.0006996977782342583 Test Acc top 1:  0.9822\n",
            "Train Acc top 5:  1.0 Test Acc top 5:  1.0\n",
            "\n"
          ]
        },
        {
          "metadata": {
            "tags": null
          },
          "name": "stderr",
          "output_type": "stream",
          "text": [
            "Training Epoch 10: 100%|██████████| 235/235 [00:23<00:00, 10.05batch/s, loss=0.0337]\n",
            "Testing: 100%|██████████| 40/40 [00:02<00:00, 14.83batch/s, loss=0.085]\n"
          ]
        },
        {
          "metadata": {
            "tags": null
          },
          "name": "stdout",
          "output_type": "stream",
          "text": [
            "\n",
            "Epoch:  11 Train Loss:  0.0002640484935293595 Train Acc top 1:  1.0 Test Loss:  0.0006796741142868996 Test Acc top 1:  0.982\n",
            "Train Acc top 5:  1.0 Test Acc top 5:  1.0\n",
            "\n"
          ]
        },
        {
          "metadata": {
            "tags": null
          },
          "name": "stderr",
          "output_type": "stream",
          "text": [
            "Training Epoch 11: 100%|██████████| 235/235 [00:23<00:00,  9.79batch/s, loss=0.0336]\n",
            "Testing: 100%|██████████| 40/40 [00:02<00:00, 14.19batch/s, loss=0.0852]\n"
          ]
        },
        {
          "metadata": {
            "tags": null
          },
          "name": "stdout",
          "output_type": "stream",
          "text": [
            "\n",
            "Epoch:  12 Train Loss:  0.0002629444222897291 Train Acc top 1:  1.0 Test Loss:  0.0006813511813059449 Test Acc top 1:  0.9828\n",
            "Train Acc top 5:  1.0 Test Acc top 5:  1.0\n",
            "\n"
          ]
        },
        {
          "metadata": {
            "tags": null
          },
          "name": "stderr",
          "output_type": "stream",
          "text": [
            "Training Epoch 12: 100%|██████████| 235/235 [00:23<00:00, 10.02batch/s, loss=0.0334]\n",
            "Testing: 100%|██████████| 40/40 [00:02<00:00, 14.42batch/s, loss=0.0856]\n"
          ]
        },
        {
          "metadata": {
            "tags": null
          },
          "name": "stdout",
          "output_type": "stream",
          "text": [
            "\n",
            "Epoch:  13 Train Loss:  0.000261596151192983 Train Acc top 1:  1.0 Test Loss:  0.0006847237339243293 Test Acc top 1:  0.9822\n",
            "Train Acc top 5:  1.0 Test Acc top 5:  1.0\n",
            "\n"
          ]
        },
        {
          "metadata": {
            "tags": null
          },
          "name": "stderr",
          "output_type": "stream",
          "text": [
            "Training Epoch 13: 100%|██████████| 235/235 [00:23<00:00, 10.06batch/s, loss=0.0332]\n",
            "Testing: 100%|██████████| 40/40 [00:02<00:00, 14.01batch/s, loss=0.0891]\n"
          ]
        },
        {
          "metadata": {
            "tags": null
          },
          "name": "stdout",
          "output_type": "stream",
          "text": [
            "\n",
            "Epoch:  14 Train Loss:  0.0002603674126168092 Train Acc top 1:  1.0 Test Loss:  0.0007129979757824913 Test Acc top 1:  0.9818\n",
            "Train Acc top 5:  1.0 Test Acc top 5:  1.0\n",
            "\n"
          ]
        },
        {
          "metadata": {
            "tags": null
          },
          "name": "stderr",
          "output_type": "stream",
          "text": [
            "Training Epoch 14: 100%|██████████| 235/235 [00:24<00:00,  9.74batch/s, loss=0.0331]\n",
            "Testing: 100%|██████████| 40/40 [00:02<00:00, 14.14batch/s, loss=0.0839]\n"
          ]
        },
        {
          "metadata": {
            "tags": null
          },
          "name": "stdout",
          "output_type": "stream",
          "text": [
            "\n",
            "Epoch:  15 Train Loss:  0.00025889691486954687 Train Acc top 1:  1.0 Test Loss:  0.0006709133156109601 Test Acc top 1:  0.9828\n",
            "Train Acc top 5:  1.0 Test Acc top 5:  1.0\n",
            "\n"
          ]
        },
        {
          "metadata": {
            "tags": null
          },
          "name": "stderr",
          "output_type": "stream",
          "text": [
            "Training Epoch 15: 100%|██████████| 235/235 [00:23<00:00, 10.18batch/s, loss=0.0328]\n",
            "Testing: 100%|██████████| 40/40 [00:02<00:00, 14.41batch/s, loss=0.106]\n"
          ]
        },
        {
          "metadata": {
            "tags": null
          },
          "name": "stdout",
          "output_type": "stream",
          "text": [
            "\n",
            "Epoch:  16 Train Loss:  0.00025700843955079716 Train Acc top 1:  1.0 Test Loss:  0.0008453535166569054 Test Acc top 1:  0.9826\n",
            "Train Acc top 5:  1.0 Test Acc top 5:  1.0\n",
            "\n"
          ]
        },
        {
          "metadata": {
            "tags": null
          },
          "name": "stderr",
          "output_type": "stream",
          "text": [
            "Training Epoch 16: 100%|██████████| 235/235 [00:22<00:00, 10.26batch/s, loss=0.0327]\n",
            "Testing: 100%|██████████| 40/40 [00:02<00:00, 15.01batch/s, loss=0.0874]\n"
          ]
        },
        {
          "metadata": {
            "tags": null
          },
          "name": "stdout",
          "output_type": "stream",
          "text": [
            "\n",
            "Epoch:  17 Train Loss:  0.0002559731471041838 Train Acc top 1:  1.0 Test Loss:  0.0006992169516161084 Test Acc top 1:  0.9822\n",
            "Train Acc top 5:  1.0 Test Acc top 5:  1.0\n",
            "\n"
          ]
        },
        {
          "metadata": {
            "tags": null
          },
          "name": "stderr",
          "output_type": "stream",
          "text": [
            "Training Epoch 17: 100%|██████████| 235/235 [00:22<00:00, 10.39batch/s, loss=0.0345]\n",
            "Testing: 100%|██████████| 40/40 [00:02<00:00, 15.25batch/s, loss=0.0915]\n"
          ]
        },
        {
          "metadata": {
            "tags": null
          },
          "name": "stdout",
          "output_type": "stream",
          "text": [
            "\n",
            "Epoch:  18 Train Loss:  0.0002698598916331927 Train Acc top 1:  0.9994666666666667 Test Loss:  0.0007323274253867567 Test Acc top 1:  0.9812\n",
            "Train Acc top 5:  1.0 Test Acc top 5:  1.0\n",
            "\n"
          ]
        },
        {
          "metadata": {
            "tags": null
          },
          "name": "stderr",
          "output_type": "stream",
          "text": [
            "Training Epoch 18: 100%|██████████| 235/235 [00:22<00:00, 10.48batch/s, loss=0.0338]\n",
            "Testing: 100%|██████████| 40/40 [00:02<00:00, 14.59batch/s, loss=0.0961]\n"
          ]
        },
        {
          "metadata": {
            "tags": null
          },
          "name": "stdout",
          "output_type": "stream",
          "text": [
            "\n",
            "Epoch:  19 Train Loss:  0.0002644173450767994 Train Acc top 1:  0.9996333333333334 Test Loss:  0.0007688624011352658 Test Acc top 1:  0.9808\n",
            "Train Acc top 5:  1.0 Test Acc top 5:  1.0\n",
            "\n"
          ]
        },
        {
          "metadata": {
            "tags": null
          },
          "name": "stderr",
          "output_type": "stream",
          "text": [
            "Training Epoch 19: 100%|██████████| 235/235 [00:23<00:00, 10.20batch/s, loss=0.0335]\n",
            "Testing: 100%|██████████| 40/40 [00:02<00:00, 14.53batch/s, loss=0.111]\n"
          ]
        },
        {
          "metadata": {
            "tags": null
          },
          "name": "stdout",
          "output_type": "stream",
          "text": [
            "\n",
            "Epoch:  20 Train Loss:  0.00026276724102596445 Train Acc top 1:  0.9995666666666667 Test Loss:  0.0008872983604203909 Test Acc top 1:  0.9816\n",
            "Train Acc top 5:  1.0 Test Acc top 5:  1.0\n",
            "\n"
          ]
        },
        {
          "metadata": {
            "tags": null
          },
          "name": "stderr",
          "output_type": "stream",
          "text": [
            "Training Epoch 20: 100%|██████████| 235/235 [00:23<00:00, 10.21batch/s, loss=0.033]\n",
            "Testing: 100%|██████████| 40/40 [00:02<00:00, 14.92batch/s, loss=0.114]\n"
          ]
        },
        {
          "metadata": {
            "tags": null
          },
          "name": "stdout",
          "output_type": "stream",
          "text": [
            "\n",
            "Epoch:  21 Train Loss:  0.0002583532466242711 Train Acc top 1:  0.9998333333333334 Test Loss:  0.0009132604326587171 Test Acc top 1:  0.982\n",
            "Train Acc top 5:  1.0 Test Acc top 5:  1.0\n",
            "\n"
          ]
        },
        {
          "metadata": {
            "tags": null
          },
          "name": "stderr",
          "output_type": "stream",
          "text": [
            "Training Epoch 21: 100%|██████████| 235/235 [00:22<00:00, 10.52batch/s, loss=0.0326]\n",
            "Testing: 100%|██████████| 40/40 [00:02<00:00, 15.30batch/s, loss=0.0924]\n"
          ]
        },
        {
          "metadata": {
            "tags": null
          },
          "name": "stdout",
          "output_type": "stream",
          "text": [
            "\n",
            "Epoch:  22 Train Loss:  0.000255271703004837 Train Acc top 1:  1.0 Test Loss:  0.0007388253457844258 Test Acc top 1:  0.9824\n",
            "Train Acc top 5:  1.0 Test Acc top 5:  1.0\n",
            "\n"
          ]
        },
        {
          "metadata": {
            "tags": null
          },
          "name": "stderr",
          "output_type": "stream",
          "text": [
            "Training Epoch 22: 100%|██████████| 235/235 [00:22<00:00, 10.54batch/s, loss=0.0325]\n",
            "Testing: 100%|██████████| 40/40 [00:02<00:00, 15.19batch/s, loss=0.113]\n"
          ]
        },
        {
          "metadata": {
            "tags": null
          },
          "name": "stdout",
          "output_type": "stream",
          "text": [
            "\n",
            "Epoch:  23 Train Loss:  0.0002544499764839808 Train Acc top 1:  1.0 Test Loss:  0.0009025940992403776 Test Acc top 1:  0.982\n",
            "Train Acc top 5:  1.0 Test Acc top 5:  1.0\n",
            "\n"
          ]
        },
        {
          "metadata": {
            "tags": null
          },
          "name": "stderr",
          "output_type": "stream",
          "text": [
            "Training Epoch 23: 100%|██████████| 235/235 [00:22<00:00, 10.23batch/s, loss=0.0324]\n",
            "Testing: 100%|██████████| 40/40 [00:02<00:00, 15.24batch/s, loss=0.0897]\n"
          ]
        },
        {
          "metadata": {
            "tags": null
          },
          "name": "stdout",
          "output_type": "stream",
          "text": [
            "\n",
            "Epoch:  24 Train Loss:  0.0002537480904410283 Train Acc top 1:  1.0 Test Loss:  0.0007172362165525555 Test Acc top 1:  0.982\n",
            "Train Acc top 5:  1.0 Test Acc top 5:  1.0\n",
            "\n"
          ]
        },
        {
          "metadata": {
            "tags": null
          },
          "name": "stderr",
          "output_type": "stream",
          "text": [
            "Training Epoch 24: 100%|██████████| 235/235 [00:22<00:00, 10.35batch/s, loss=0.0323]\n",
            "Testing: 100%|██████████| 40/40 [00:02<00:00, 14.90batch/s, loss=0.0912]\n"
          ]
        },
        {
          "metadata": {
            "tags": null
          },
          "name": "stdout",
          "output_type": "stream",
          "text": [
            "\n",
            "Epoch:  25 Train Loss:  0.00025307426278789837 Train Acc top 1:  1.0 Test Loss:  0.0007298698513302952 Test Acc top 1:  0.9822\n",
            "Train Acc top 5:  1.0 Test Acc top 5:  1.0\n",
            "\n"
          ]
        },
        {
          "metadata": {
            "tags": null
          },
          "name": "stderr",
          "output_type": "stream",
          "text": [
            "Training Epoch 25: 100%|██████████| 235/235 [00:22<00:00, 10.38batch/s, loss=0.0323]\n",
            "Testing: 100%|██████████| 40/40 [00:02<00:00, 14.28batch/s, loss=0.0886]\n"
          ]
        },
        {
          "metadata": {
            "tags": null
          },
          "name": "stdout",
          "output_type": "stream",
          "text": [
            "\n",
            "Epoch:  26 Train Loss:  0.0002529240654160579 Train Acc top 1:  1.0 Test Loss:  0.0007084813459543512 Test Acc top 1:  0.9818\n",
            "Train Acc top 5:  1.0 Test Acc top 5:  1.0\n",
            "\n"
          ]
        },
        {
          "metadata": {
            "tags": null
          },
          "name": "stderr",
          "output_type": "stream",
          "text": [
            "Training Epoch 26: 100%|██████████| 235/235 [00:22<00:00, 10.42batch/s, loss=0.0322]\n",
            "Testing: 100%|██████████| 40/40 [00:02<00:00, 15.27batch/s, loss=0.0903]\n"
          ]
        },
        {
          "metadata": {
            "tags": null
          },
          "name": "stdout",
          "output_type": "stream",
          "text": [
            "\n",
            "Epoch:  27 Train Loss:  0.0002520586555202802 Train Acc top 1:  1.0 Test Loss:  0.0007225335706025362 Test Acc top 1:  0.9818\n",
            "Train Acc top 5:  1.0 Test Acc top 5:  1.0\n",
            "\n"
          ]
        },
        {
          "metadata": {
            "tags": null
          },
          "name": "stderr",
          "output_type": "stream",
          "text": [
            "Training Epoch 27: 100%|██████████| 235/235 [00:22<00:00, 10.64batch/s, loss=0.0321]\n",
            "Testing: 100%|██████████| 40/40 [00:02<00:00, 15.45batch/s, loss=0.0885]\n"
          ]
        },
        {
          "metadata": {
            "tags": null
          },
          "name": "stdout",
          "output_type": "stream",
          "text": [
            "\n",
            "Epoch:  28 Train Loss:  0.00025106523806850113 Train Acc top 1:  1.0 Test Loss:  0.0007076619523111731 Test Acc top 1:  0.9824\n",
            "Train Acc top 5:  1.0 Test Acc top 5:  1.0\n",
            "\n"
          ]
        },
        {
          "metadata": {
            "tags": null
          },
          "name": "stderr",
          "output_type": "stream",
          "text": [
            "Training Epoch 28: 100%|██████████| 235/235 [00:22<00:00, 10.62batch/s, loss=0.0319]\n",
            "Testing: 100%|██████████| 40/40 [00:02<00:00, 15.43batch/s, loss=0.0905]\n"
          ]
        },
        {
          "metadata": {
            "tags": null
          },
          "name": "stdout",
          "output_type": "stream",
          "text": [
            "\n",
            "Epoch:  29 Train Loss:  0.0002502269672850768 Train Acc top 1:  1.0 Test Loss:  0.0007242096088360996 Test Acc top 1:  0.9818\n",
            "Train Acc top 5:  1.0 Test Acc top 5:  1.0\n",
            "\n"
          ]
        },
        {
          "metadata": {
            "tags": null
          },
          "name": "stderr",
          "output_type": "stream",
          "text": [
            "Training Epoch 29: 100%|██████████| 235/235 [00:22<00:00, 10.43batch/s, loss=0.032]\n",
            "Testing: 100%|██████████| 40/40 [00:02<00:00, 15.12batch/s, loss=0.0875]"
          ]
        },
        {
          "metadata": {
            "tags": null
          },
          "name": "stdout",
          "output_type": "stream",
          "text": [
            "\n",
            "Epoch:  30 Train Loss:  0.00025056783606608706 Train Acc top 1:  1.0 Test Loss:  0.0006996638948796317 Test Acc top 1:  0.9816\n",
            "Train Acc top 5:  1.0 Test Acc top 5:  1.0\n",
            "\n"
          ]
        },
        {
          "metadata": {
            "tags": null
          },
          "name": "stderr",
          "output_type": "stream",
          "text": [
            "\n"
          ]
        },
        {
          "data": {
            "text/html": [
              "Waiting for W&B process to finish... <strong style=\"color:green\">(success).</strong>"
            ],
            "text/plain": [
              "<IPython.core.display.HTML object>"
            ]
          },
          "metadata": {},
          "output_type": "display_data"
        },
        {
          "data": {
            "text/html": [
              "<style>\n",
              "    table.wandb td:nth-child(1) { padding: 0 10px; text-align: left ; width: auto;} td:nth-child(2) {text-align: left ; width: 100%}\n",
              "    .wandb-row { display: flex; flex-direction: row; flex-wrap: wrap; justify-content: flex-start; width: 100% }\n",
              "    .wandb-col { display: flex; flex-direction: column; flex-basis: 100%; flex: 1; padding: 10px; }\n",
              "    </style>\n",
              "<div class=\"wandb-row\"><div class=\"wandb-col\"><h3>Run history:</h3><br/><table class=\"wandb\"><tr><td>epoch</td><td>▁▁▁▂▂▂▂▃▃▃▃▄▄▄▄▅▅▅▅▆▆▆▆▇▇▇▇███</td></tr><tr><td>test_acc</td><td>▃▂▅█▄▅▆▅▄▅▅▇▅▄▇▇▅▂▁▄▅▆▅▅▅▄▄▆▄▄</td></tr><tr><td>test_loss</td><td>▂▃▂▂▃█▂▂▂▂▁▁▁▂▁▆▂▃▄▇█▃█▂▃▂▂▂▃▂</td></tr><tr><td>train_acc_top1</td><td>██▅▇█████████████▁▃▂▆█████████</td></tr><tr><td>train_loss</td><td>█▇▇▇▆▆▆▅▅▅▄▄▄▃▃▃▂▆▄▄▃▂▂▂▂▂▁▁▁▁</td></tr></table><br/></div><div class=\"wandb-col\"><h3>Run summary:</h3><br/><table class=\"wandb\"><tr><td>epoch</td><td>29</td></tr><tr><td>test_acc</td><td>0.9816</td></tr><tr><td>test_loss</td><td>0.0007</td></tr><tr><td>train_acc_top1</td><td>1.0</td></tr><tr><td>train_loss</td><td>0.03199</td></tr></table><br/></div></div>"
            ],
            "text/plain": [
              "<IPython.core.display.HTML object>"
            ]
          },
          "metadata": {},
          "output_type": "display_data"
        },
        {
          "data": {
            "text/html": [
              " View run <strong style=\"color:#cdcd00\">comic-sweep-16</strong> at: <a href='https://wandb.ai/mukul_dl/final_lab_8/runs/x05xm1v7' target=\"_blank\">https://wandb.ai/mukul_dl/final_lab_8/runs/x05xm1v7</a><br/>Synced 5 W&B file(s), 0 media file(s), 0 artifact file(s) and 0 other file(s)"
            ],
            "text/plain": [
              "<IPython.core.display.HTML object>"
            ]
          },
          "metadata": {},
          "output_type": "display_data"
        },
        {
          "data": {
            "text/html": [
              "Find logs at: <code>./wandb/run-20230417_162827-x05xm1v7/logs</code>"
            ],
            "text/plain": [
              "<IPython.core.display.HTML object>"
            ]
          },
          "metadata": {},
          "output_type": "display_data"
        },
        {
          "metadata": {
            "tags": null
          },
          "name": "stderr",
          "output_type": "stream",
          "text": [
            "\u001b[34m\u001b[1mwandb\u001b[0m: Agent Starting Run: vupge1nw with config:\n",
            "\u001b[34m\u001b[1mwandb\u001b[0m: \tactivation: Softmax\n",
            "\u001b[34m\u001b[1mwandb\u001b[0m: \tlearning_rate: 3e-05\n",
            "\u001b[34m\u001b[1mwandb\u001b[0m: \toptimizer: Adam\n",
            "\u001b[34m\u001b[1mwandb\u001b[0m: \u001b[33mWARNING\u001b[0m Ignored wandb.init() arg project when running a sweep.\n"
          ]
        },
        {
          "data": {
            "text/html": [
              "Tracking run with wandb version 0.14.2"
            ],
            "text/plain": [
              "<IPython.core.display.HTML object>"
            ]
          },
          "metadata": {},
          "output_type": "display_data"
        },
        {
          "data": {
            "text/html": [
              "Run data is saved locally in <code>/content/wandb/run-20230417_164147-vupge1nw</code>"
            ],
            "text/plain": [
              "<IPython.core.display.HTML object>"
            ]
          },
          "metadata": {},
          "output_type": "display_data"
        },
        {
          "data": {
            "text/html": [
              "Syncing run <strong><a href='https://wandb.ai/mukul_dl/final_lab_8/runs/vupge1nw' target=\"_blank\">stellar-sweep-17</a></strong> to <a href='https://wandb.ai/mukul_dl/final_lab_8' target=\"_blank\">Weights & Biases</a> (<a href='https://wandb.me/run' target=\"_blank\">docs</a>)<br/>Sweep page: <a href='https://wandb.ai/mukul_dl/final_lab_8/sweeps/rxkozgms' target=\"_blank\">https://wandb.ai/mukul_dl/final_lab_8/sweeps/rxkozgms</a>"
            ],
            "text/plain": [
              "<IPython.core.display.HTML object>"
            ]
          },
          "metadata": {},
          "output_type": "display_data"
        },
        {
          "data": {
            "text/html": [
              " View project at <a href='https://wandb.ai/mukul_dl/final_lab_8' target=\"_blank\">https://wandb.ai/mukul_dl/final_lab_8</a>"
            ],
            "text/plain": [
              "<IPython.core.display.HTML object>"
            ]
          },
          "metadata": {},
          "output_type": "display_data"
        },
        {
          "data": {
            "text/html": [
              " View sweep at <a href='https://wandb.ai/mukul_dl/final_lab_8/sweeps/rxkozgms' target=\"_blank\">https://wandb.ai/mukul_dl/final_lab_8/sweeps/rxkozgms</a>"
            ],
            "text/plain": [
              "<IPython.core.display.HTML object>"
            ]
          },
          "metadata": {},
          "output_type": "display_data"
        },
        {
          "data": {
            "text/html": [
              " View run at <a href='https://wandb.ai/mukul_dl/final_lab_8/runs/vupge1nw' target=\"_blank\">https://wandb.ai/mukul_dl/final_lab_8/runs/vupge1nw</a>"
            ],
            "text/plain": [
              "<IPython.core.display.HTML object>"
            ]
          },
          "metadata": {},
          "output_type": "display_data"
        },
        {
          "metadata": {
            "tags": null
          },
          "name": "stderr",
          "output_type": "stream",
          "text": [
            "Training Epoch 0: 100%|██████████| 235/235 [00:22<00:00, 10.59batch/s, loss=0.0316]\n",
            "Testing: 100%|██████████| 40/40 [00:02<00:00, 14.25batch/s, loss=0.116]\n"
          ]
        },
        {
          "metadata": {
            "tags": null
          },
          "name": "stdout",
          "output_type": "stream",
          "text": [
            "\n",
            "Epoch:  1 Train Loss:  0.00024758864200363556 Train Acc top 1:  0.9999666666666667 Test Loss:  0.0009244099527597427 Test Acc top 1:  0.9812\n",
            "Train Acc top 5:  1.0 Test Acc top 5:  1.0\n",
            "\n"
          ]
        },
        {
          "metadata": {
            "tags": null
          },
          "name": "stderr",
          "output_type": "stream",
          "text": [
            "Training Epoch 1: 100%|██████████| 235/235 [00:22<00:00, 10.54batch/s, loss=0.0313]\n",
            "Testing: 100%|██████████| 40/40 [00:02<00:00, 14.17batch/s, loss=0.0909]\n"
          ]
        },
        {
          "metadata": {
            "tags": null
          },
          "name": "stdout",
          "output_type": "stream",
          "text": [
            "\n",
            "Epoch:  2 Train Loss:  0.0002453264223411679 Train Acc top 1:  1.0 Test Loss:  0.0007270118211396039 Test Acc top 1:  0.9816\n",
            "Train Acc top 5:  1.0 Test Acc top 5:  1.0\n",
            "\n"
          ]
        },
        {
          "metadata": {
            "tags": null
          },
          "name": "stderr",
          "output_type": "stream",
          "text": [
            "Training Epoch 2: 100%|██████████| 235/235 [00:23<00:00, 10.05batch/s, loss=0.0312]\n",
            "Testing: 100%|██████████| 40/40 [00:02<00:00, 14.63batch/s, loss=0.0905]\n"
          ]
        },
        {
          "metadata": {
            "tags": null
          },
          "name": "stdout",
          "output_type": "stream",
          "text": [
            "\n",
            "Epoch:  3 Train Loss:  0.00024451160250852505 Train Acc top 1:  1.0 Test Loss:  0.000723613336449489 Test Acc top 1:  0.9812\n",
            "Train Acc top 5:  1.0 Test Acc top 5:  1.0\n",
            "\n"
          ]
        },
        {
          "metadata": {
            "tags": null
          },
          "name": "stderr",
          "output_type": "stream",
          "text": [
            "Training Epoch 3: 100%|██████████| 235/235 [00:23<00:00, 10.05batch/s, loss=0.031]\n",
            "Testing: 100%|██████████| 40/40 [00:02<00:00, 14.41batch/s, loss=0.0877]\n"
          ]
        },
        {
          "metadata": {
            "tags": null
          },
          "name": "stdout",
          "output_type": "stream",
          "text": [
            "\n",
            "Epoch:  4 Train Loss:  0.000242937094407777 Train Acc top 1:  1.0 Test Loss:  0.0007019878262653947 Test Acc top 1:  0.982\n",
            "Train Acc top 5:  1.0 Test Acc top 5:  1.0\n",
            "\n"
          ]
        },
        {
          "metadata": {
            "tags": null
          },
          "name": "stderr",
          "output_type": "stream",
          "text": [
            "Training Epoch 4: 100%|██████████| 235/235 [00:23<00:00, 10.01batch/s, loss=0.0313]\n",
            "Testing: 100%|██████████| 40/40 [00:02<00:00, 14.74batch/s, loss=0.102]\n"
          ]
        },
        {
          "metadata": {
            "tags": null
          },
          "name": "stdout",
          "output_type": "stream",
          "text": [
            "\n",
            "Epoch:  5 Train Loss:  0.0002449490789944927 Train Acc top 1:  0.9999 Test Loss:  0.000817929184762761 Test Acc top 1:  0.9796\n",
            "Train Acc top 5:  1.0 Test Acc top 5:  1.0\n",
            "\n"
          ]
        },
        {
          "metadata": {
            "tags": null
          },
          "name": "stderr",
          "output_type": "stream",
          "text": [
            "Training Epoch 5: 100%|██████████| 235/235 [00:23<00:00,  9.88batch/s, loss=0.0329]\n",
            "Testing: 100%|██████████| 40/40 [00:02<00:00, 14.78batch/s, loss=0.091]\n"
          ]
        },
        {
          "metadata": {
            "tags": null
          },
          "name": "stdout",
          "output_type": "stream",
          "text": [
            "\n",
            "Epoch:  6 Train Loss:  0.0002577446692312757 Train Acc top 1:  0.9994666666666667 Test Loss:  0.0007283338177250698 Test Acc top 1:  0.9818\n",
            "Train Acc top 5:  1.0 Test Acc top 5:  1.0\n",
            "\n"
          ]
        },
        {
          "metadata": {
            "tags": null
          },
          "name": "stderr",
          "output_type": "stream",
          "text": [
            "Training Epoch 6: 100%|██████████| 235/235 [00:23<00:00, 10.16batch/s, loss=0.0319]\n",
            "Testing: 100%|██████████| 40/40 [00:02<00:00, 14.14batch/s, loss=0.0924]\n"
          ]
        },
        {
          "metadata": {
            "tags": null
          },
          "name": "stdout",
          "output_type": "stream",
          "text": [
            "\n",
            "Epoch:  7 Train Loss:  0.00024993943329900504 Train Acc top 1:  0.9997 Test Loss:  0.000739547855546698 Test Acc top 1:  0.9808\n",
            "Train Acc top 5:  1.0 Test Acc top 5:  1.0\n",
            "\n"
          ]
        },
        {
          "metadata": {
            "tags": null
          },
          "name": "stderr",
          "output_type": "stream",
          "text": [
            "Training Epoch 7: 100%|██████████| 235/235 [00:23<00:00, 10.02batch/s, loss=0.032]\n",
            "Testing: 100%|██████████| 40/40 [00:02<00:00, 13.98batch/s, loss=0.0902]\n"
          ]
        },
        {
          "metadata": {
            "tags": null
          },
          "name": "stdout",
          "output_type": "stream",
          "text": [
            "\n",
            "Epoch:  8 Train Loss:  0.00025052333443115155 Train Acc top 1:  0.9995666666666667 Test Loss:  0.0007212594626937062 Test Acc top 1:  0.9816\n",
            "Train Acc top 5:  1.0 Test Acc top 5:  1.0\n",
            "\n"
          ]
        },
        {
          "metadata": {
            "tags": null
          },
          "name": "stderr",
          "output_type": "stream",
          "text": [
            "Training Epoch 8: 100%|██████████| 235/235 [00:24<00:00,  9.65batch/s, loss=0.0312]\n",
            "Testing: 100%|██████████| 40/40 [00:02<00:00, 14.31batch/s, loss=0.0982]\n"
          ]
        },
        {
          "metadata": {
            "tags": null
          },
          "name": "stdout",
          "output_type": "stream",
          "text": [
            "\n",
            "Epoch:  9 Train Loss:  0.00024477575235068796 Train Acc top 1:  0.9998333333333334 Test Loss:  0.0007859144167974591 Test Acc top 1:  0.9816\n",
            "Train Acc top 5:  1.0 Test Acc top 5:  1.0\n",
            "\n"
          ]
        },
        {
          "metadata": {
            "tags": null
          },
          "name": "stderr",
          "output_type": "stream",
          "text": [
            "Training Epoch 9: 100%|██████████| 235/235 [00:23<00:00, 10.01batch/s, loss=0.0317]\n",
            "Testing: 100%|██████████| 40/40 [00:02<00:00, 14.67batch/s, loss=0.0967]\n"
          ]
        },
        {
          "metadata": {
            "tags": null
          },
          "name": "stdout",
          "output_type": "stream",
          "text": [
            "\n",
            "Epoch:  10 Train Loss:  0.0002480975685020288 Train Acc top 1:  0.9997666666666667 Test Loss:  0.0007735633409582079 Test Acc top 1:  0.9816\n",
            "Train Acc top 5:  1.0 Test Acc top 5:  1.0\n",
            "\n"
          ]
        },
        {
          "metadata": {
            "tags": null
          },
          "name": "stderr",
          "output_type": "stream",
          "text": [
            "Training Epoch 10: 100%|██████████| 235/235 [00:23<00:00, 10.08batch/s, loss=0.031]\n",
            "Testing: 100%|██████████| 40/40 [00:02<00:00, 14.38batch/s, loss=0.0918]\n"
          ]
        },
        {
          "metadata": {
            "tags": null
          },
          "name": "stdout",
          "output_type": "stream",
          "text": [
            "\n",
            "Epoch:  11 Train Loss:  0.00024296070703615745 Train Acc top 1:  0.9999666666666667 Test Loss:  0.0007340813468676061 Test Acc top 1:  0.9812\n",
            "Train Acc top 5:  1.0 Test Acc top 5:  1.0\n",
            "\n"
          ]
        },
        {
          "metadata": {
            "tags": null
          },
          "name": "stderr",
          "output_type": "stream",
          "text": [
            "Training Epoch 11: 100%|██████████| 235/235 [00:23<00:00,  9.81batch/s, loss=0.0309]\n",
            "Testing: 100%|██████████| 40/40 [00:02<00:00, 14.21batch/s, loss=0.0902]\n"
          ]
        },
        {
          "metadata": {
            "tags": null
          },
          "name": "stdout",
          "output_type": "stream",
          "text": [
            "\n",
            "Epoch:  12 Train Loss:  0.00024216060576339563 Train Acc top 1:  1.0 Test Loss:  0.0007219999355264008 Test Acc top 1:  0.9806\n",
            "Train Acc top 5:  1.0 Test Acc top 5:  1.0\n",
            "\n"
          ]
        },
        {
          "metadata": {
            "tags": null
          },
          "name": "stderr",
          "output_type": "stream",
          "text": [
            "Training Epoch 12: 100%|██████████| 235/235 [00:23<00:00, 10.02batch/s, loss=0.0309]\n",
            "Testing: 100%|██████████| 40/40 [00:02<00:00, 14.10batch/s, loss=0.0885]\n"
          ]
        },
        {
          "metadata": {
            "tags": null
          },
          "name": "stdout",
          "output_type": "stream",
          "text": [
            "\n",
            "Epoch:  13 Train Loss:  0.00024177040476351978 Train Acc top 1:  1.0 Test Loss:  0.0007083750942721963 Test Acc top 1:  0.9816\n",
            "Train Acc top 5:  1.0 Test Acc top 5:  1.0\n",
            "\n"
          ]
        },
        {
          "metadata": {
            "tags": null
          },
          "name": "stderr",
          "output_type": "stream",
          "text": [
            "Training Epoch 13: 100%|██████████| 235/235 [00:24<00:00,  9.67batch/s, loss=0.0308]\n",
            "Testing: 100%|██████████| 40/40 [00:02<00:00, 13.50batch/s, loss=0.112]\n"
          ]
        },
        {
          "metadata": {
            "tags": null
          },
          "name": "stdout",
          "output_type": "stream",
          "text": [
            "\n",
            "Epoch:  14 Train Loss:  0.00024129832492520413 Train Acc top 1:  1.0 Test Loss:  0.0008996880454942584 Test Acc top 1:  0.9808\n",
            "Train Acc top 5:  1.0 Test Acc top 5:  1.0\n",
            "\n"
          ]
        },
        {
          "metadata": {
            "tags": null
          },
          "name": "stderr",
          "output_type": "stream",
          "text": [
            "Training Epoch 14: 100%|██████████| 235/235 [00:23<00:00,  9.91batch/s, loss=0.0308]\n",
            "Testing: 100%|██████████| 40/40 [00:03<00:00, 13.08batch/s, loss=0.0905]\n"
          ]
        },
        {
          "metadata": {
            "tags": null
          },
          "name": "stdout",
          "output_type": "stream",
          "text": [
            "\n",
            "Epoch:  15 Train Loss:  0.0002410003223766883 Train Acc top 1:  1.0 Test Loss:  0.0007237241326831281 Test Acc top 1:  0.9808\n",
            "Train Acc top 5:  1.0 Test Acc top 5:  1.0\n",
            "\n"
          ]
        },
        {
          "metadata": {
            "tags": null
          },
          "name": "stderr",
          "output_type": "stream",
          "text": [
            "Training Epoch 15: 100%|██████████| 235/235 [00:24<00:00,  9.66batch/s, loss=0.0308]\n",
            "Testing: 100%|██████████| 40/40 [00:03<00:00, 11.30batch/s, loss=0.0877]\n"
          ]
        },
        {
          "metadata": {
            "tags": null
          },
          "name": "stdout",
          "output_type": "stream",
          "text": [
            "\n",
            "Epoch:  16 Train Loss:  0.00024088090111811956 Train Acc top 1:  1.0 Test Loss:  0.0007016690985299647 Test Acc top 1:  0.9816\n",
            "Train Acc top 5:  1.0 Test Acc top 5:  1.0\n",
            "\n"
          ]
        },
        {
          "metadata": {
            "tags": null
          },
          "name": "stderr",
          "output_type": "stream",
          "text": [
            "Training Epoch 16: 100%|██████████| 235/235 [00:22<00:00, 10.38batch/s, loss=0.0306]\n",
            "Testing: 100%|██████████| 40/40 [00:03<00:00, 10.95batch/s, loss=0.0928]\n"
          ]
        },
        {
          "metadata": {
            "tags": null
          },
          "name": "stdout",
          "output_type": "stream",
          "text": [
            "\n",
            "Epoch:  17 Train Loss:  0.000239782689884305 Train Acc top 1:  1.0 Test Loss:  0.000742536516301334 Test Acc top 1:  0.9818\n",
            "Train Acc top 5:  1.0 Test Acc top 5:  1.0\n",
            "\n"
          ]
        },
        {
          "metadata": {
            "tags": null
          },
          "name": "stderr",
          "output_type": "stream",
          "text": [
            "Training Epoch 17: 100%|██████████| 235/235 [00:23<00:00, 10.11batch/s, loss=0.0306]\n",
            "Testing: 100%|██████████| 40/40 [00:03<00:00, 11.88batch/s, loss=0.0893]\n"
          ]
        },
        {
          "metadata": {
            "tags": null
          },
          "name": "stdout",
          "output_type": "stream",
          "text": [
            "\n",
            "Epoch:  18 Train Loss:  0.0002397046361118555 Train Acc top 1:  1.0 Test Loss:  0.0007145284754224121 Test Acc top 1:  0.982\n",
            "Train Acc top 5:  1.0 Test Acc top 5:  1.0\n",
            "\n"
          ]
        },
        {
          "metadata": {
            "tags": null
          },
          "name": "stderr",
          "output_type": "stream",
          "text": [
            "Training Epoch 18: 100%|██████████| 235/235 [00:23<00:00, 10.16batch/s, loss=0.0305]\n",
            "Testing: 100%|██████████| 40/40 [00:03<00:00, 12.43batch/s, loss=0.111]\n"
          ]
        },
        {
          "metadata": {
            "tags": null
          },
          "name": "stdout",
          "output_type": "stream",
          "text": [
            "\n",
            "Epoch:  19 Train Loss:  0.00023911937413116297 Train Acc top 1:  1.0 Test Loss:  0.0008873390379361808 Test Acc top 1:  0.9816\n",
            "Train Acc top 5:  1.0 Test Acc top 5:  1.0\n",
            "\n"
          ]
        },
        {
          "metadata": {
            "tags": null
          },
          "name": "stderr",
          "output_type": "stream",
          "text": [
            "Training Epoch 19: 100%|██████████| 235/235 [00:22<00:00, 10.33batch/s, loss=0.0305]\n",
            "Testing: 100%|██████████| 40/40 [00:03<00:00, 12.11batch/s, loss=0.0881]\n"
          ]
        },
        {
          "metadata": {
            "tags": null
          },
          "name": "stdout",
          "output_type": "stream",
          "text": [
            "\n",
            "Epoch:  20 Train Loss:  0.00023872181953241427 Train Acc top 1:  1.0 Test Loss:  0.0007046567524783313 Test Acc top 1:  0.9816\n",
            "Train Acc top 5:  1.0 Test Acc top 5:  1.0\n",
            "\n"
          ]
        },
        {
          "metadata": {
            "tags": null
          },
          "name": "stderr",
          "output_type": "stream",
          "text": [
            "Training Epoch 20: 100%|██████████| 235/235 [00:23<00:00, 10.06batch/s, loss=0.0304]\n",
            "Testing: 100%|██████████| 40/40 [00:03<00:00, 13.23batch/s, loss=0.0881]\n"
          ]
        },
        {
          "metadata": {
            "tags": null
          },
          "name": "stdout",
          "output_type": "stream",
          "text": [
            "\n",
            "Epoch:  21 Train Loss:  0.00023826740899433692 Train Acc top 1:  1.0 Test Loss:  0.000704591484554112 Test Acc top 1:  0.9818\n",
            "Train Acc top 5:  1.0 Test Acc top 5:  1.0\n",
            "\n"
          ]
        },
        {
          "metadata": {
            "tags": null
          },
          "name": "stderr",
          "output_type": "stream",
          "text": [
            "Training Epoch 21: 100%|██████████| 235/235 [00:23<00:00,  9.80batch/s, loss=0.0303]\n",
            "Testing: 100%|██████████| 40/40 [00:02<00:00, 14.67batch/s, loss=0.0875]\n"
          ]
        },
        {
          "metadata": {
            "tags": null
          },
          "name": "stdout",
          "output_type": "stream",
          "text": [
            "\n",
            "Epoch:  22 Train Loss:  0.00023737231685469547 Train Acc top 1:  1.0 Test Loss:  0.0006997436774894596 Test Acc top 1:  0.9822\n",
            "Train Acc top 5:  1.0 Test Acc top 5:  1.0\n",
            "\n"
          ]
        },
        {
          "metadata": {
            "tags": null
          },
          "name": "stderr",
          "output_type": "stream",
          "text": [
            "Training Epoch 22: 100%|██████████| 235/235 [00:23<00:00,  9.97batch/s, loss=0.0302]\n",
            "Testing: 100%|██████████| 40/40 [00:02<00:00, 14.27batch/s, loss=0.0871]\n"
          ]
        },
        {
          "metadata": {
            "tags": null
          },
          "name": "stdout",
          "output_type": "stream",
          "text": [
            "\n",
            "Epoch:  23 Train Loss:  0.00023677840021749338 Train Acc top 1:  1.0 Test Loss:  0.0006967588080558926 Test Acc top 1:  0.9822\n",
            "Train Acc top 5:  1.0 Test Acc top 5:  1.0\n",
            "\n"
          ]
        },
        {
          "metadata": {
            "tags": null
          },
          "name": "stderr",
          "output_type": "stream",
          "text": [
            "Training Epoch 23: 100%|██████████| 235/235 [00:23<00:00,  9.87batch/s, loss=0.0301]\n",
            "Testing: 100%|██████████| 40/40 [00:02<00:00, 14.07batch/s, loss=0.0861]\n"
          ]
        },
        {
          "metadata": {
            "tags": null
          },
          "name": "stdout",
          "output_type": "stream",
          "text": [
            "\n",
            "Epoch:  24 Train Loss:  0.00023609624269107978 Train Acc top 1:  1.0 Test Loss:  0.0006884817845188081 Test Acc top 1:  0.9824\n",
            "Train Acc top 5:  1.0 Test Acc top 5:  1.0\n",
            "\n"
          ]
        },
        {
          "metadata": {
            "tags": null
          },
          "name": "stderr",
          "output_type": "stream",
          "text": [
            "Training Epoch 24: 100%|██████████| 235/235 [00:24<00:00,  9.73batch/s, loss=0.0301]\n",
            "Testing: 100%|██████████| 40/40 [00:02<00:00, 13.99batch/s, loss=0.0905]\n"
          ]
        },
        {
          "metadata": {
            "tags": null
          },
          "name": "stdout",
          "output_type": "stream",
          "text": [
            "\n",
            "Epoch:  25 Train Loss:  0.00023541119464983543 Train Acc top 1:  1.0 Test Loss:  0.0007239114311989397 Test Acc top 1:  0.9816\n",
            "Train Acc top 5:  1.0 Test Acc top 5:  1.0\n",
            "\n"
          ]
        },
        {
          "metadata": {
            "tags": null
          },
          "name": "stderr",
          "output_type": "stream",
          "text": [
            "Training Epoch 25: 100%|██████████| 235/235 [00:24<00:00,  9.56batch/s, loss=0.03]\n",
            "Testing: 100%|██████████| 40/40 [00:02<00:00, 14.45batch/s, loss=0.108]\n"
          ]
        },
        {
          "metadata": {
            "tags": null
          },
          "name": "stdout",
          "output_type": "stream",
          "text": [
            "\n",
            "Epoch:  26 Train Loss:  0.00023472047472993532 Train Acc top 1:  1.0 Test Loss:  0.0008650219260249287 Test Acc top 1:  0.9814\n",
            "Train Acc top 5:  1.0 Test Acc top 5:  1.0\n",
            "\n"
          ]
        },
        {
          "metadata": {
            "tags": null
          },
          "name": "stderr",
          "output_type": "stream",
          "text": [
            "Training Epoch 26: 100%|██████████| 235/235 [00:23<00:00,  9.87batch/s, loss=0.0302]\n",
            "Testing: 100%|██████████| 40/40 [00:02<00:00, 14.07batch/s, loss=0.0948]\n"
          ]
        },
        {
          "metadata": {
            "tags": null
          },
          "name": "stdout",
          "output_type": "stream",
          "text": [
            "\n",
            "Epoch:  27 Train Loss:  0.00023666734943787257 Train Acc top 1:  0.9999333333333333 Test Loss:  0.0007583862532163039 Test Acc top 1:  0.9812\n",
            "Train Acc top 5:  1.0 Test Acc top 5:  1.0\n",
            "\n"
          ]
        },
        {
          "metadata": {
            "tags": null
          },
          "name": "stderr",
          "output_type": "stream",
          "text": [
            "Training Epoch 27: 100%|██████████| 235/235 [00:23<00:00,  9.90batch/s, loss=0.0322]\n",
            "Testing: 100%|██████████| 40/40 [00:02<00:00, 14.38batch/s, loss=0.134]\n"
          ]
        },
        {
          "metadata": {
            "tags": null
          },
          "name": "stdout",
          "output_type": "stream",
          "text": [
            "\n",
            "Epoch:  28 Train Loss:  0.00025185696811725694 Train Acc top 1:  0.9992000000000001 Test Loss:  0.0010758734404109419 Test Acc top 1:  0.9778\n",
            "Train Acc top 5:  1.0 Test Acc top 5:  1.0\n",
            "\n"
          ]
        },
        {
          "metadata": {
            "tags": null
          },
          "name": "stderr",
          "output_type": "stream",
          "text": [
            "Training Epoch 28: 100%|██████████| 235/235 [00:23<00:00, 10.04batch/s, loss=0.0323]\n",
            "Testing: 100%|██████████| 40/40 [00:02<00:00, 14.22batch/s, loss=0.107]\n"
          ]
        },
        {
          "metadata": {
            "tags": null
          },
          "name": "stdout",
          "output_type": "stream",
          "text": [
            "\n",
            "Epoch:  29 Train Loss:  0.0002527636444196105 Train Acc top 1:  0.9992000000000001 Test Loss:  0.0008584972467506304 Test Acc top 1:  0.9782\n",
            "Train Acc top 5:  1.0 Test Acc top 5:  1.0\n",
            "\n"
          ]
        },
        {
          "metadata": {
            "tags": null
          },
          "name": "stderr",
          "output_type": "stream",
          "text": [
            "Training Epoch 29: 100%|██████████| 235/235 [00:23<00:00,  9.88batch/s, loss=0.031]\n",
            "Testing: 100%|██████████| 40/40 [00:02<00:00, 14.16batch/s, loss=0.0986]"
          ]
        },
        {
          "metadata": {
            "tags": null
          },
          "name": "stdout",
          "output_type": "stream",
          "text": [
            "\n",
            "Epoch:  30 Train Loss:  0.00024282831388215223 Train Acc top 1:  0.9996666666666667 Test Loss:  0.0007891650011530146 Test Acc top 1:  0.98\n",
            "Train Acc top 5:  1.0 Test Acc top 5:  1.0\n",
            "\n"
          ]
        },
        {
          "metadata": {
            "tags": null
          },
          "name": "stderr",
          "output_type": "stream",
          "text": [
            "\n"
          ]
        },
        {
          "data": {
            "text/html": [
              "Waiting for W&B process to finish... <strong style=\"color:green\">(success).</strong>"
            ],
            "text/plain": [
              "<IPython.core.display.HTML object>"
            ]
          },
          "metadata": {},
          "output_type": "display_data"
        },
        {
          "data": {
            "application/vnd.jupyter.widget-view+json": {
              "model_id": "44ef4b5be5e941da8e76cb3f513c60ec",
              "version_major": 2,
              "version_minor": 0
            },
            "text/plain": [
              "VBox(children=(Label(value='0.001 MB of 0.001 MB uploaded (0.000 MB deduped)\\r'), FloatProgress(value=1.0, max…"
            ]
          },
          "metadata": {},
          "output_type": "display_data"
        },
        {
          "data": {
            "text/html": [
              "<style>\n",
              "    table.wandb td:nth-child(1) { padding: 0 10px; text-align: left ; width: auto;} td:nth-child(2) {text-align: left ; width: 100%}\n",
              "    .wandb-row { display: flex; flex-direction: row; flex-wrap: wrap; justify-content: flex-start; width: 100% }\n",
              "    .wandb-col { display: flex; flex-direction: column; flex-basis: 100%; flex: 1; padding: 10px; }\n",
              "    </style>\n",
              "<div class=\"wandb-row\"><div class=\"wandb-col\"><h3>Run history:</h3><br/><table class=\"wandb\"><tr><td>epoch</td><td>▁▁▁▂▂▂▂▃▃▃▃▄▄▄▄▅▅▅▅▆▆▆▆▇▇▇▇███</td></tr><tr><td>test_acc</td><td>▆▇▆▇▄▇▆▇▇▇▆▅▇▆▆▇▇▇▇▇▇███▇▆▆▁▂▄</td></tr><tr><td>test_loss</td><td>▅▂▂▁▃▂▂▂▃▃▂▂▁▅▂▁▂▁▅▁▁▁▁▁▂▄▂█▄▃</td></tr><tr><td>train_acc_top1</td><td>████▇▃▅▄▇▆████████████████▇▁▁▅</td></tr><tr><td>train_loss</td><td>▅▄▄▃▄█▆▆▄▅▄▃▃▃▃▃▃▃▂▂▂▂▂▁▁▁▂▆▆▃</td></tr></table><br/></div><div class=\"wandb-col\"><h3>Run summary:</h3><br/><table class=\"wandb\"><tr><td>epoch</td><td>29</td></tr><tr><td>test_acc</td><td>0.98</td></tr><tr><td>test_loss</td><td>0.00079</td></tr><tr><td>train_acc_top1</td><td>0.99967</td></tr><tr><td>train_loss</td><td>0.031</td></tr></table><br/></div></div>"
            ],
            "text/plain": [
              "<IPython.core.display.HTML object>"
            ]
          },
          "metadata": {},
          "output_type": "display_data"
        },
        {
          "data": {
            "text/html": [
              " View run <strong style=\"color:#cdcd00\">stellar-sweep-17</strong> at: <a href='https://wandb.ai/mukul_dl/final_lab_8/runs/vupge1nw' target=\"_blank\">https://wandb.ai/mukul_dl/final_lab_8/runs/vupge1nw</a><br/>Synced 5 W&B file(s), 0 media file(s), 0 artifact file(s) and 0 other file(s)"
            ],
            "text/plain": [
              "<IPython.core.display.HTML object>"
            ]
          },
          "metadata": {},
          "output_type": "display_data"
        },
        {
          "data": {
            "text/html": [
              "Find logs at: <code>./wandb/run-20230417_164147-vupge1nw/logs</code>"
            ],
            "text/plain": [
              "<IPython.core.display.HTML object>"
            ]
          },
          "metadata": {},
          "output_type": "display_data"
        },
        {
          "metadata": {
            "tags": null
          },
          "name": "stderr",
          "output_type": "stream",
          "text": [
            "\u001b[34m\u001b[1mwandb\u001b[0m: Agent Starting Run: nn3q1abt with config:\n",
            "\u001b[34m\u001b[1mwandb\u001b[0m: \tactivation: Softmax\n",
            "\u001b[34m\u001b[1mwandb\u001b[0m: \tlearning_rate: 3e-05\n",
            "\u001b[34m\u001b[1mwandb\u001b[0m: \toptimizer: RMSprop\n",
            "\u001b[34m\u001b[1mwandb\u001b[0m: \u001b[33mWARNING\u001b[0m Ignored wandb.init() arg project when running a sweep.\n"
          ]
        },
        {
          "data": {
            "text/html": [
              "Tracking run with wandb version 0.14.2"
            ],
            "text/plain": [
              "<IPython.core.display.HTML object>"
            ]
          },
          "metadata": {},
          "output_type": "display_data"
        },
        {
          "data": {
            "text/html": [
              "Run data is saved locally in <code>/content/wandb/run-20230417_165521-nn3q1abt</code>"
            ],
            "text/plain": [
              "<IPython.core.display.HTML object>"
            ]
          },
          "metadata": {},
          "output_type": "display_data"
        },
        {
          "data": {
            "text/html": [
              "Syncing run <strong><a href='https://wandb.ai/mukul_dl/final_lab_8/runs/nn3q1abt' target=\"_blank\">trim-sweep-18</a></strong> to <a href='https://wandb.ai/mukul_dl/final_lab_8' target=\"_blank\">Weights & Biases</a> (<a href='https://wandb.me/run' target=\"_blank\">docs</a>)<br/>Sweep page: <a href='https://wandb.ai/mukul_dl/final_lab_8/sweeps/rxkozgms' target=\"_blank\">https://wandb.ai/mukul_dl/final_lab_8/sweeps/rxkozgms</a>"
            ],
            "text/plain": [
              "<IPython.core.display.HTML object>"
            ]
          },
          "metadata": {},
          "output_type": "display_data"
        },
        {
          "data": {
            "text/html": [
              " View project at <a href='https://wandb.ai/mukul_dl/final_lab_8' target=\"_blank\">https://wandb.ai/mukul_dl/final_lab_8</a>"
            ],
            "text/plain": [
              "<IPython.core.display.HTML object>"
            ]
          },
          "metadata": {},
          "output_type": "display_data"
        },
        {
          "data": {
            "text/html": [
              " View sweep at <a href='https://wandb.ai/mukul_dl/final_lab_8/sweeps/rxkozgms' target=\"_blank\">https://wandb.ai/mukul_dl/final_lab_8/sweeps/rxkozgms</a>"
            ],
            "text/plain": [
              "<IPython.core.display.HTML object>"
            ]
          },
          "metadata": {},
          "output_type": "display_data"
        },
        {
          "data": {
            "text/html": [
              " View run at <a href='https://wandb.ai/mukul_dl/final_lab_8/runs/nn3q1abt' target=\"_blank\">https://wandb.ai/mukul_dl/final_lab_8/runs/nn3q1abt</a>"
            ],
            "text/plain": [
              "<IPython.core.display.HTML object>"
            ]
          },
          "metadata": {},
          "output_type": "display_data"
        },
        {
          "metadata": {
            "tags": null
          },
          "name": "stderr",
          "output_type": "stream",
          "text": [
            "Training Epoch 0: 100%|██████████| 235/235 [00:23<00:00, 10.10batch/s, loss=0.0307]\n",
            "Testing: 100%|██████████| 40/40 [00:02<00:00, 14.44batch/s, loss=0.0941]\n"
          ]
        },
        {
          "metadata": {
            "tags": null
          },
          "name": "stdout",
          "output_type": "stream",
          "text": [
            "\n",
            "Epoch:  1 Train Loss:  0.00024024754334241153 Train Acc top 1:  0.9998 Test Loss:  0.0007529259339906276 Test Acc top 1:  0.9814\n",
            "Train Acc top 5:  1.0 Test Acc top 5:  1.0\n",
            "\n"
          ]
        },
        {
          "metadata": {
            "tags": null
          },
          "name": "stderr",
          "output_type": "stream",
          "text": [
            "Training Epoch 1: 100%|██████████| 235/235 [00:24<00:00,  9.76batch/s, loss=0.03]\n",
            "Testing: 100%|██████████| 40/40 [00:02<00:00, 14.17batch/s, loss=0.0937]\n"
          ]
        },
        {
          "metadata": {
            "tags": null
          },
          "name": "stdout",
          "output_type": "stream",
          "text": [
            "\n",
            "Epoch:  2 Train Loss:  0.00023524261998633545 Train Acc top 1:  0.9999333333333333 Test Loss:  0.0007493141408544034 Test Acc top 1:  0.9818\n",
            "Train Acc top 5:  1.0 Test Acc top 5:  1.0\n",
            "\n"
          ]
        },
        {
          "metadata": {
            "tags": null
          },
          "name": "stderr",
          "output_type": "stream",
          "text": [
            "Training Epoch 2: 100%|██████████| 235/235 [00:23<00:00,  9.93batch/s, loss=0.0298]\n",
            "Testing: 100%|██████████| 40/40 [00:02<00:00, 14.40batch/s, loss=0.0954]\n"
          ]
        },
        {
          "metadata": {
            "tags": null
          },
          "name": "stdout",
          "output_type": "stream",
          "text": [
            "\n",
            "Epoch:  3 Train Loss:  0.00023382120144863923 Train Acc top 1:  0.9999666666666667 Test Loss:  0.0007628267023712397 Test Acc top 1:  0.9812\n",
            "Train Acc top 5:  1.0 Test Acc top 5:  1.0\n",
            "\n"
          ]
        },
        {
          "metadata": {
            "tags": null
          },
          "name": "stderr",
          "output_type": "stream",
          "text": [
            "Training Epoch 3: 100%|██████████| 235/235 [00:23<00:00,  9.81batch/s, loss=0.0302]\n",
            "Testing: 100%|██████████| 40/40 [00:02<00:00, 13.80batch/s, loss=0.0938]\n"
          ]
        },
        {
          "metadata": {
            "tags": null
          },
          "name": "stdout",
          "output_type": "stream",
          "text": [
            "\n",
            "Epoch:  4 Train Loss:  0.00023644957474122446 Train Acc top 1:  0.9998333333333334 Test Loss:  0.000750352657889016 Test Acc top 1:  0.9806\n",
            "Train Acc top 5:  1.0 Test Acc top 5:  1.0\n",
            "\n"
          ]
        },
        {
          "metadata": {
            "tags": null
          },
          "name": "stderr",
          "output_type": "stream",
          "text": [
            "Training Epoch 4: 100%|██████████| 235/235 [00:24<00:00,  9.70batch/s, loss=0.0298]\n",
            "Testing: 100%|██████████| 40/40 [00:03<00:00, 12.04batch/s, loss=0.126]\n"
          ]
        },
        {
          "metadata": {
            "tags": null
          },
          "name": "stdout",
          "output_type": "stream",
          "text": [
            "\n",
            "Epoch:  5 Train Loss:  0.00023346147164702416 Train Acc top 1:  0.9999666666666667 Test Loss:  0.0010044053133111447 Test Acc top 1:  0.9808\n",
            "Train Acc top 5:  1.0 Test Acc top 5:  1.0\n",
            "\n"
          ]
        },
        {
          "metadata": {
            "tags": null
          },
          "name": "stderr",
          "output_type": "stream",
          "text": [
            "Training Epoch 5: 100%|██████████| 235/235 [00:23<00:00,  9.83batch/s, loss=0.0297]\n",
            "Testing: 100%|██████████| 40/40 [00:03<00:00, 12.50batch/s, loss=0.101]\n"
          ]
        },
        {
          "metadata": {
            "tags": null
          },
          "name": "stdout",
          "output_type": "stream",
          "text": [
            "\n",
            "Epoch:  6 Train Loss:  0.00023278898522257805 Train Acc top 1:  1.0 Test Loss:  0.0008078777660382912 Test Acc top 1:  0.98\n",
            "Train Acc top 5:  1.0 Test Acc top 5:  1.0\n",
            "\n"
          ]
        },
        {
          "metadata": {
            "tags": null
          },
          "name": "stderr",
          "output_type": "stream",
          "text": [
            "Training Epoch 6: 100%|██████████| 235/235 [00:23<00:00,  9.94batch/s, loss=0.0296]\n",
            "Testing: 100%|██████████| 40/40 [00:03<00:00, 11.47batch/s, loss=0.0969]\n"
          ]
        },
        {
          "metadata": {
            "tags": null
          },
          "name": "stdout",
          "output_type": "stream",
          "text": [
            "\n",
            "Epoch:  7 Train Loss:  0.00023211276313910882 Train Acc top 1:  1.0 Test Loss:  0.0007755758383776992 Test Acc top 1:  0.981\n",
            "Train Acc top 5:  1.0 Test Acc top 5:  1.0\n",
            "\n"
          ]
        },
        {
          "metadata": {
            "tags": null
          },
          "name": "stderr",
          "output_type": "stream",
          "text": [
            "Training Epoch 7: 100%|██████████| 235/235 [00:22<00:00, 10.43batch/s, loss=0.0298]\n",
            "Testing: 100%|██████████| 40/40 [00:03<00:00, 11.26batch/s, loss=0.0948]\n"
          ]
        },
        {
          "metadata": {
            "tags": null
          },
          "name": "stdout",
          "output_type": "stream",
          "text": [
            "\n",
            "Epoch:  8 Train Loss:  0.00023331479722013077 Train Acc top 1:  0.9999 Test Loss:  0.0007583443401614204 Test Acc top 1:  0.981\n",
            "Train Acc top 5:  1.0 Test Acc top 5:  1.0\n",
            "\n"
          ]
        },
        {
          "metadata": {
            "tags": null
          },
          "name": "stderr",
          "output_type": "stream",
          "text": [
            "Training Epoch 8: 100%|██████████| 235/235 [00:22<00:00, 10.25batch/s, loss=0.0295]\n",
            "Testing: 100%|██████████| 40/40 [00:03<00:00, 11.44batch/s, loss=0.0913]\n"
          ]
        },
        {
          "metadata": {
            "tags": null
          },
          "name": "stdout",
          "output_type": "stream",
          "text": [
            "\n",
            "Epoch:  9 Train Loss:  0.0002308272626871864 Train Acc top 1:  1.0 Test Loss:  0.0007303647483233363 Test Acc top 1:  0.9824\n",
            "Train Acc top 5:  1.0 Test Acc top 5:  1.0\n",
            "\n"
          ]
        },
        {
          "metadata": {
            "tags": null
          },
          "name": "stderr",
          "output_type": "stream",
          "text": [
            "Training Epoch 9: 100%|██████████| 235/235 [00:23<00:00,  9.97batch/s, loss=0.0296]\n",
            "Testing: 100%|██████████| 40/40 [00:03<00:00, 11.42batch/s, loss=0.102]\n"
          ]
        },
        {
          "metadata": {
            "tags": null
          },
          "name": "stdout",
          "output_type": "stream",
          "text": [
            "\n",
            "Epoch:  10 Train Loss:  0.0002321438528597355 Train Acc top 1:  0.9999666666666667 Test Loss:  0.0008127719130832702 Test Acc top 1:  0.9812\n",
            "Train Acc top 5:  1.0 Test Acc top 5:  1.0\n",
            "\n"
          ]
        },
        {
          "metadata": {
            "tags": null
          },
          "name": "stderr",
          "output_type": "stream",
          "text": [
            "Training Epoch 10: 100%|██████████| 235/235 [00:25<00:00,  9.40batch/s, loss=0.0299]\n",
            "Testing: 100%|██████████| 40/40 [00:02<00:00, 13.58batch/s, loss=0.106]\n"
          ]
        },
        {
          "metadata": {
            "tags": null
          },
          "name": "stdout",
          "output_type": "stream",
          "text": [
            "\n",
            "Epoch:  11 Train Loss:  0.00023405539151281118 Train Acc top 1:  0.9999333333333333 Test Loss:  0.0008472890127217397 Test Acc top 1:  0.9816\n",
            "Train Acc top 5:  1.0 Test Acc top 5:  1.0\n",
            "\n"
          ]
        },
        {
          "metadata": {
            "tags": null
          },
          "name": "stderr",
          "output_type": "stream",
          "text": [
            "Training Epoch 11: 100%|██████████| 235/235 [00:24<00:00,  9.78batch/s, loss=0.0293]\n",
            "Testing: 100%|██████████| 40/40 [00:02<00:00, 13.99batch/s, loss=0.1]\n"
          ]
        },
        {
          "metadata": {
            "tags": null
          },
          "name": "stdout",
          "output_type": "stream",
          "text": [
            "\n",
            "Epoch:  12 Train Loss:  0.00022960350879778466 Train Acc top 1:  1.0 Test Loss:  0.0008003688900731504 Test Acc top 1:  0.9818\n",
            "Train Acc top 5:  1.0 Test Acc top 5:  1.0\n",
            "\n"
          ]
        },
        {
          "metadata": {
            "tags": null
          },
          "name": "stderr",
          "output_type": "stream",
          "text": [
            "Training Epoch 12: 100%|██████████| 235/235 [00:24<00:00,  9.63batch/s, loss=0.0294]\n",
            "Testing: 100%|██████████| 40/40 [00:02<00:00, 14.36batch/s, loss=0.099]\n"
          ]
        },
        {
          "metadata": {
            "tags": null
          },
          "name": "stdout",
          "output_type": "stream",
          "text": [
            "\n",
            "Epoch:  13 Train Loss:  0.00022997546096642813 Train Acc top 1:  0.9999 Test Loss:  0.0007920811991905793 Test Acc top 1:  0.9804\n",
            "Train Acc top 5:  1.0 Test Acc top 5:  1.0\n",
            "\n"
          ]
        },
        {
          "metadata": {
            "tags": null
          },
          "name": "stderr",
          "output_type": "stream",
          "text": [
            "Training Epoch 13: 100%|██████████| 235/235 [00:23<00:00,  9.87batch/s, loss=0.0293]\n",
            "Testing: 100%|██████████| 40/40 [00:02<00:00, 13.82batch/s, loss=0.0987]\n"
          ]
        },
        {
          "metadata": {
            "tags": null
          },
          "name": "stdout",
          "output_type": "stream",
          "text": [
            "\n",
            "Epoch:  14 Train Loss:  0.00022936075509836276 Train Acc top 1:  0.9999333333333333 Test Loss:  0.0007899319862481206 Test Acc top 1:  0.9814\n",
            "Train Acc top 5:  1.0 Test Acc top 5:  1.0\n",
            "\n"
          ]
        },
        {
          "metadata": {
            "tags": null
          },
          "name": "stderr",
          "output_type": "stream",
          "text": [
            "Training Epoch 14: 100%|██████████| 235/235 [00:24<00:00,  9.72batch/s, loss=0.0291]\n",
            "Testing: 100%|██████████| 40/40 [00:02<00:00, 13.98batch/s, loss=0.12]\n"
          ]
        },
        {
          "metadata": {
            "tags": null
          },
          "name": "stdout",
          "output_type": "stream",
          "text": [
            "\n",
            "Epoch:  15 Train Loss:  0.00022816384031126898 Train Acc top 1:  1.0 Test Loss:  0.0009579359171446413 Test Acc top 1:  0.9816\n",
            "Train Acc top 5:  1.0 Test Acc top 5:  1.0\n",
            "\n"
          ]
        },
        {
          "metadata": {
            "tags": null
          },
          "name": "stderr",
          "output_type": "stream",
          "text": [
            "Training Epoch 15: 100%|██████████| 235/235 [00:23<00:00, 10.03batch/s, loss=0.0289]\n",
            "Testing: 100%|██████████| 40/40 [00:02<00:00, 14.55batch/s, loss=0.121]\n"
          ]
        },
        {
          "metadata": {
            "tags": null
          },
          "name": "stdout",
          "output_type": "stream",
          "text": [
            "\n",
            "Epoch:  16 Train Loss:  0.00022668971649060648 Train Acc top 1:  1.0 Test Loss:  0.0009655522883869707 Test Acc top 1:  0.981\n",
            "Train Acc top 5:  1.0 Test Acc top 5:  1.0\n",
            "\n"
          ]
        },
        {
          "metadata": {
            "tags": null
          },
          "name": "stderr",
          "output_type": "stream",
          "text": [
            "Training Epoch 16: 100%|██████████| 235/235 [00:23<00:00,  9.80batch/s, loss=0.0289]\n",
            "Testing: 100%|██████████| 40/40 [00:02<00:00, 13.93batch/s, loss=0.0942]\n"
          ]
        },
        {
          "metadata": {
            "tags": null
          },
          "name": "stdout",
          "output_type": "stream",
          "text": [
            "\n",
            "Epoch:  17 Train Loss:  0.0002263221581156055 Train Acc top 1:  1.0 Test Loss:  0.0007532023345585912 Test Acc top 1:  0.9824\n",
            "Train Acc top 5:  1.0 Test Acc top 5:  1.0\n",
            "\n"
          ]
        },
        {
          "metadata": {
            "tags": null
          },
          "name": "stderr",
          "output_type": "stream",
          "text": [
            "Training Epoch 17: 100%|██████████| 235/235 [00:23<00:00, 10.02batch/s, loss=0.0287]\n",
            "Testing: 100%|██████████| 40/40 [00:02<00:00, 14.38batch/s, loss=0.095]\n"
          ]
        },
        {
          "metadata": {
            "tags": null
          },
          "name": "stdout",
          "output_type": "stream",
          "text": [
            "\n",
            "Epoch:  18 Train Loss:  0.00022501941888282697 Train Acc top 1:  1.0 Test Loss:  0.0007600956036709249 Test Acc top 1:  0.9822\n",
            "Train Acc top 5:  1.0 Test Acc top 5:  1.0\n",
            "\n"
          ]
        },
        {
          "metadata": {
            "tags": null
          },
          "name": "stderr",
          "output_type": "stream",
          "text": [
            "Training Epoch 18: 100%|██████████| 235/235 [00:23<00:00, 10.09batch/s, loss=0.0286]\n",
            "Testing: 100%|██████████| 40/40 [00:02<00:00, 14.88batch/s, loss=0.0938]\n"
          ]
        },
        {
          "metadata": {
            "tags": null
          },
          "name": "stdout",
          "output_type": "stream",
          "text": [
            "\n",
            "Epoch:  19 Train Loss:  0.00022383515660961468 Train Acc top 1:  1.0 Test Loss:  0.0007502229881007224 Test Acc top 1:  0.983\n",
            "Train Acc top 5:  1.0 Test Acc top 5:  1.0\n",
            "\n"
          ]
        },
        {
          "metadata": {
            "tags": null
          },
          "name": "stderr",
          "output_type": "stream",
          "text": [
            "Training Epoch 19: 100%|██████████| 235/235 [00:23<00:00, 10.05batch/s, loss=0.0284]\n",
            "Testing: 100%|██████████| 40/40 [00:02<00:00, 13.45batch/s, loss=0.0932]\n"
          ]
        },
        {
          "metadata": {
            "tags": null
          },
          "name": "stdout",
          "output_type": "stream",
          "text": [
            "\n",
            "Epoch:  20 Train Loss:  0.0002221495658159256 Train Acc top 1:  1.0 Test Loss:  0.0007458391602616758 Test Acc top 1:  0.9814\n",
            "Train Acc top 5:  1.0 Test Acc top 5:  1.0\n",
            "\n"
          ]
        },
        {
          "metadata": {
            "tags": null
          },
          "name": "stderr",
          "output_type": "stream",
          "text": [
            "Training Epoch 20: 100%|██████████| 235/235 [00:23<00:00, 10.03batch/s, loss=0.0284]\n",
            "Testing: 100%|██████████| 40/40 [00:03<00:00, 12.61batch/s, loss=0.104]\n"
          ]
        },
        {
          "metadata": {
            "tags": null
          },
          "name": "stdout",
          "output_type": "stream",
          "text": [
            "\n",
            "Epoch:  21 Train Loss:  0.00022257777452468872 Train Acc top 1:  0.9999666666666667 Test Loss:  0.0008342360300943255 Test Acc top 1:  0.9796\n",
            "Train Acc top 5:  1.0 Test Acc top 5:  1.0\n",
            "\n"
          ]
        },
        {
          "metadata": {
            "tags": null
          },
          "name": "stderr",
          "output_type": "stream",
          "text": [
            "Training Epoch 21: 100%|██████████| 235/235 [00:22<00:00, 10.33batch/s, loss=0.0288]\n",
            "Testing: 100%|██████████| 40/40 [00:02<00:00, 13.52batch/s, loss=0.0954]\n"
          ]
        },
        {
          "metadata": {
            "tags": null
          },
          "name": "stdout",
          "output_type": "stream",
          "text": [
            "\n",
            "Epoch:  22 Train Loss:  0.00022537567236771187 Train Acc top 1:  0.9998666666666667 Test Loss:  0.0007631797650596127 Test Acc top 1:  0.9804\n",
            "Train Acc top 5:  1.0 Test Acc top 5:  1.0\n",
            "\n"
          ]
        },
        {
          "metadata": {
            "tags": null
          },
          "name": "stderr",
          "output_type": "stream",
          "text": [
            "Training Epoch 22: 100%|██████████| 235/235 [00:22<00:00, 10.35batch/s, loss=0.0283]\n",
            "Testing: 100%|██████████| 40/40 [00:02<00:00, 13.91batch/s, loss=0.103]\n"
          ]
        },
        {
          "metadata": {
            "tags": null
          },
          "name": "stdout",
          "output_type": "stream",
          "text": [
            "\n",
            "Epoch:  23 Train Loss:  0.00022151261400431393 Train Acc top 1:  1.0 Test Loss:  0.0008204213655088097 Test Acc top 1:  0.982\n",
            "Train Acc top 5:  1.0 Test Acc top 5:  1.0\n",
            "\n"
          ]
        },
        {
          "metadata": {
            "tags": null
          },
          "name": "stderr",
          "output_type": "stream",
          "text": [
            "Training Epoch 23: 100%|██████████| 235/235 [00:23<00:00,  9.94batch/s, loss=0.0281]\n",
            "Testing: 100%|██████████| 40/40 [00:03<00:00, 11.99batch/s, loss=0.115]\n"
          ]
        },
        {
          "metadata": {
            "tags": null
          },
          "name": "stdout",
          "output_type": "stream",
          "text": [
            "\n",
            "Epoch:  24 Train Loss:  0.00022027533358583848 Train Acc top 1:  1.0 Test Loss:  0.000917451109457761 Test Acc top 1:  0.9804\n",
            "Train Acc top 5:  1.0 Test Acc top 5:  1.0\n",
            "\n"
          ]
        },
        {
          "metadata": {
            "tags": null
          },
          "name": "stderr",
          "output_type": "stream",
          "text": [
            "Training Epoch 24: 100%|██████████| 235/235 [00:22<00:00, 10.28batch/s, loss=0.0287]\n",
            "Testing: 100%|██████████| 40/40 [00:03<00:00, 12.58batch/s, loss=0.0965]\n"
          ]
        },
        {
          "metadata": {
            "tags": null
          },
          "name": "stdout",
          "output_type": "stream",
          "text": [
            "\n",
            "Epoch:  25 Train Loss:  0.00022520790460209053 Train Acc top 1:  0.9999 Test Loss:  0.000771764617273584 Test Acc top 1:  0.981\n",
            "Train Acc top 5:  1.0 Test Acc top 5:  1.0\n",
            "\n"
          ]
        },
        {
          "metadata": {
            "tags": null
          },
          "name": "stderr",
          "output_type": "stream",
          "text": [
            "Training Epoch 25: 100%|██████████| 235/235 [00:23<00:00,  9.96batch/s, loss=0.0283]\n",
            "Testing: 100%|██████████| 40/40 [00:03<00:00, 11.29batch/s, loss=0.0979]\n"
          ]
        },
        {
          "metadata": {
            "tags": null
          },
          "name": "stdout",
          "output_type": "stream",
          "text": [
            "\n",
            "Epoch:  26 Train Loss:  0.0002214746262257298 Train Acc top 1:  0.9999666666666667 Test Loss:  0.0007830556797794998 Test Acc top 1:  0.9814\n",
            "Train Acc top 5:  1.0 Test Acc top 5:  1.0\n",
            "\n"
          ]
        },
        {
          "metadata": {
            "tags": null
          },
          "name": "stderr",
          "output_type": "stream",
          "text": [
            "Training Epoch 26: 100%|██████████| 235/235 [00:22<00:00, 10.45batch/s, loss=0.0287]\n",
            "Testing: 100%|██████████| 40/40 [00:03<00:00, 12.08batch/s, loss=0.0991]\n"
          ]
        },
        {
          "metadata": {
            "tags": null
          },
          "name": "stdout",
          "output_type": "stream",
          "text": [
            "\n",
            "Epoch:  27 Train Loss:  0.00022467627686758836 Train Acc top 1:  0.9998333333333334 Test Loss:  0.0007924728064332158 Test Acc top 1:  0.9804\n",
            "Train Acc top 5:  1.0 Test Acc top 5:  1.0\n",
            "\n"
          ]
        },
        {
          "metadata": {
            "tags": null
          },
          "name": "stderr",
          "output_type": "stream",
          "text": [
            "Training Epoch 27: 100%|██████████| 235/235 [00:23<00:00,  9.96batch/s, loss=0.0281]\n",
            "Testing: 100%|██████████| 40/40 [00:03<00:00, 11.12batch/s, loss=0.108]\n"
          ]
        },
        {
          "metadata": {
            "tags": null
          },
          "name": "stdout",
          "output_type": "stream",
          "text": [
            "\n",
            "Epoch:  28 Train Loss:  0.00022035512514412403 Train Acc top 1:  0.9999666666666667 Test Loss:  0.0008627601213753223 Test Acc top 1:  0.9816\n",
            "Train Acc top 5:  1.0 Test Acc top 5:  1.0\n",
            "\n"
          ]
        },
        {
          "metadata": {
            "tags": null
          },
          "name": "stderr",
          "output_type": "stream",
          "text": [
            "Training Epoch 28: 100%|██████████| 235/235 [00:23<00:00, 10.13batch/s, loss=0.028]\n",
            "Testing: 100%|██████████| 40/40 [00:03<00:00, 11.55batch/s, loss=0.0973]\n"
          ]
        },
        {
          "metadata": {
            "tags": null
          },
          "name": "stdout",
          "output_type": "stream",
          "text": [
            "\n",
            "Epoch:  29 Train Loss:  0.00021958557448039452 Train Acc top 1:  1.0 Test Loss:  0.0007783473670482635 Test Acc top 1:  0.9818\n",
            "Train Acc top 5:  1.0 Test Acc top 5:  1.0\n",
            "\n"
          ]
        },
        {
          "metadata": {
            "tags": null
          },
          "name": "stderr",
          "output_type": "stream",
          "text": [
            "Training Epoch 29: 100%|██████████| 235/235 [00:23<00:00,  9.91batch/s, loss=0.0279]\n",
            "Testing: 100%|██████████| 40/40 [00:03<00:00, 11.76batch/s, loss=0.101]\n"
          ]
        },
        {
          "metadata": {
            "tags": null
          },
          "name": "stdout",
          "output_type": "stream",
          "text": [
            "\n",
            "Epoch:  30 Train Loss:  0.00021849267774571974 Train Acc top 1:  1.0 Test Loss:  0.0008105946844443679 Test Acc top 1:  0.9806\n",
            "Train Acc top 5:  1.0 Test Acc top 5:  1.0\n",
            "\n"
          ]
        },
        {
          "data": {
            "text/html": [
              "Waiting for W&B process to finish... <strong style=\"color:green\">(success).</strong>"
            ],
            "text/plain": [
              "<IPython.core.display.HTML object>"
            ]
          },
          "metadata": {},
          "output_type": "display_data"
        },
        {
          "data": {
            "text/html": [
              "<style>\n",
              "    table.wandb td:nth-child(1) { padding: 0 10px; text-align: left ; width: auto;} td:nth-child(2) {text-align: left ; width: 100%}\n",
              "    .wandb-row { display: flex; flex-direction: row; flex-wrap: wrap; justify-content: flex-start; width: 100% }\n",
              "    .wandb-col { display: flex; flex-direction: column; flex-basis: 100%; flex: 1; padding: 10px; }\n",
              "    </style>\n",
              "<div class=\"wandb-row\"><div class=\"wandb-col\"><h3>Run history:</h3><br/><table class=\"wandb\"><tr><td>epoch</td><td>▁▁▁▂▂▂▂▃▃▃▃▄▄▄▄▅▅▅▅▆▆▆▆▇▇▇▇███</td></tr><tr><td>test_acc</td><td>▅▆▄▃▃▂▄▄▇▄▅▆▃▅▅▄▇▆█▅▁▃▆▃▄▅▃▅▆▃</td></tr><tr><td>test_loss</td><td>▂▁▂▂█▃▂▂▁▃▄▃▃▃▇▇▂▂▂▁▄▂▃▆▂▂▃▄▂▃</td></tr><tr><td>train_acc_top1</td><td>▁▆▇▂▇██▄█▇▆█▄▆██████▇▃██▄▇▂▇██</td></tr><tr><td>train_loss</td><td>█▆▆▇▆▆▅▆▅▅▆▅▅▄▄▄▄▃▃▂▂▃▂▂▃▂▃▂▁▁</td></tr></table><br/></div><div class=\"wandb-col\"><h3>Run summary:</h3><br/><table class=\"wandb\"><tr><td>epoch</td><td>29</td></tr><tr><td>test_acc</td><td>0.9806</td></tr><tr><td>test_loss</td><td>0.00081</td></tr><tr><td>train_acc_top1</td><td>1.0</td></tr><tr><td>train_loss</td><td>0.02789</td></tr></table><br/></div></div>"
            ],
            "text/plain": [
              "<IPython.core.display.HTML object>"
            ]
          },
          "metadata": {},
          "output_type": "display_data"
        },
        {
          "data": {
            "text/html": [
              " View run <strong style=\"color:#cdcd00\">trim-sweep-18</strong> at: <a href='https://wandb.ai/mukul_dl/final_lab_8/runs/nn3q1abt' target=\"_blank\">https://wandb.ai/mukul_dl/final_lab_8/runs/nn3q1abt</a><br/>Synced 5 W&B file(s), 0 media file(s), 0 artifact file(s) and 0 other file(s)"
            ],
            "text/plain": [
              "<IPython.core.display.HTML object>"
            ]
          },
          "metadata": {},
          "output_type": "display_data"
        },
        {
          "data": {
            "text/html": [
              "Find logs at: <code>./wandb/run-20230417_165521-nn3q1abt/logs</code>"
            ],
            "text/plain": [
              "<IPython.core.display.HTML object>"
            ]
          },
          "metadata": {},
          "output_type": "display_data"
        },
        {
          "metadata": {
            "tags": null
          },
          "name": "stderr",
          "output_type": "stream",
          "text": [
            "\u001b[34m\u001b[1mwandb\u001b[0m: Agent Starting Run: 0zhf5kyu with config:\n",
            "\u001b[34m\u001b[1mwandb\u001b[0m: \tactivation: Softmax\n",
            "\u001b[34m\u001b[1mwandb\u001b[0m: \tlearning_rate: 0.001\n",
            "\u001b[34m\u001b[1mwandb\u001b[0m: \toptimizer: Adam\n",
            "\u001b[34m\u001b[1mwandb\u001b[0m: \u001b[33mWARNING\u001b[0m Ignored wandb.init() arg project when running a sweep.\n"
          ]
        },
        {
          "data": {
            "text/html": [
              "Tracking run with wandb version 0.14.2"
            ],
            "text/plain": [
              "<IPython.core.display.HTML object>"
            ]
          },
          "metadata": {},
          "output_type": "display_data"
        },
        {
          "data": {
            "text/html": [
              "Run data is saved locally in <code>/content/wandb/run-20230417_170902-0zhf5kyu</code>"
            ],
            "text/plain": [
              "<IPython.core.display.HTML object>"
            ]
          },
          "metadata": {},
          "output_type": "display_data"
        },
        {
          "data": {
            "text/html": [
              "Syncing run <strong><a href='https://wandb.ai/mukul_dl/final_lab_8/runs/0zhf5kyu' target=\"_blank\">warm-sweep-19</a></strong> to <a href='https://wandb.ai/mukul_dl/final_lab_8' target=\"_blank\">Weights & Biases</a> (<a href='https://wandb.me/run' target=\"_blank\">docs</a>)<br/>Sweep page: <a href='https://wandb.ai/mukul_dl/final_lab_8/sweeps/rxkozgms' target=\"_blank\">https://wandb.ai/mukul_dl/final_lab_8/sweeps/rxkozgms</a>"
            ],
            "text/plain": [
              "<IPython.core.display.HTML object>"
            ]
          },
          "metadata": {},
          "output_type": "display_data"
        },
        {
          "data": {
            "text/html": [
              " View project at <a href='https://wandb.ai/mukul_dl/final_lab_8' target=\"_blank\">https://wandb.ai/mukul_dl/final_lab_8</a>"
            ],
            "text/plain": [
              "<IPython.core.display.HTML object>"
            ]
          },
          "metadata": {},
          "output_type": "display_data"
        },
        {
          "data": {
            "text/html": [
              " View sweep at <a href='https://wandb.ai/mukul_dl/final_lab_8/sweeps/rxkozgms' target=\"_blank\">https://wandb.ai/mukul_dl/final_lab_8/sweeps/rxkozgms</a>"
            ],
            "text/plain": [
              "<IPython.core.display.HTML object>"
            ]
          },
          "metadata": {},
          "output_type": "display_data"
        },
        {
          "data": {
            "text/html": [
              " View run at <a href='https://wandb.ai/mukul_dl/final_lab_8/runs/0zhf5kyu' target=\"_blank\">https://wandb.ai/mukul_dl/final_lab_8/runs/0zhf5kyu</a>"
            ],
            "text/plain": [
              "<IPython.core.display.HTML object>"
            ]
          },
          "metadata": {},
          "output_type": "display_data"
        },
        {
          "metadata": {
            "tags": null
          },
          "name": "stderr",
          "output_type": "stream",
          "text": [
            "Training Epoch 0: 100%|██████████| 235/235 [00:22<00:00, 10.28batch/s, loss=0.124]\n",
            "Testing: 100%|██████████| 40/40 [00:02<00:00, 14.47batch/s, loss=0.0889]\n"
          ]
        },
        {
          "metadata": {
            "tags": null
          },
          "name": "stdout",
          "output_type": "stream",
          "text": [
            "\n",
            "Epoch:  1 Train Loss:  0.0009729893668865165 Train Acc top 1:  0.9686666666666667 Test Loss:  0.000711040610820055 Test Acc top 1:  0.973\n",
            "Train Acc top 5:  1.0 Test Acc top 5:  1.0\n",
            "\n"
          ]
        },
        {
          "metadata": {
            "tags": null
          },
          "name": "stderr",
          "output_type": "stream",
          "text": [
            "Training Epoch 1: 100%|██████████| 235/235 [00:24<00:00,  9.70batch/s, loss=0.0993]\n",
            "Testing: 100%|██████████| 40/40 [00:03<00:00, 13.14batch/s, loss=0.0939]\n"
          ]
        },
        {
          "metadata": {
            "tags": null
          },
          "name": "stdout",
          "output_type": "stream",
          "text": [
            "\n",
            "Epoch:  2 Train Loss:  0.0007781443653007348 Train Acc top 1:  0.9766666666666667 Test Loss:  0.0007511816769372672 Test Acc top 1:  0.9678\n",
            "Train Acc top 5:  1.0 Test Acc top 5:  1.0\n",
            "\n"
          ]
        },
        {
          "metadata": {
            "tags": null
          },
          "name": "stderr",
          "output_type": "stream",
          "text": [
            "Training Epoch 2: 100%|██████████| 235/235 [00:23<00:00, 10.17batch/s, loss=0.092]\n",
            "Testing: 100%|██████████| 40/40 [00:03<00:00, 12.97batch/s, loss=0.0874]\n"
          ]
        },
        {
          "metadata": {
            "tags": null
          },
          "name": "stdout",
          "output_type": "stream",
          "text": [
            "\n",
            "Epoch:  3 Train Loss:  0.0007207667399197817 Train Acc top 1:  0.9794666666666667 Test Loss:  0.0006993590386584401 Test Acc top 1:  0.9732\n",
            "Train Acc top 5:  1.0 Test Acc top 5:  1.0\n",
            "\n"
          ]
        },
        {
          "metadata": {
            "tags": null
          },
          "name": "stderr",
          "output_type": "stream",
          "text": [
            "Training Epoch 3: 100%|██████████| 235/235 [00:23<00:00, 10.16batch/s, loss=0.089]\n",
            "Testing: 100%|██████████| 40/40 [00:03<00:00, 12.44batch/s, loss=0.0878]\n"
          ]
        },
        {
          "metadata": {
            "tags": null
          },
          "name": "stdout",
          "output_type": "stream",
          "text": [
            "\n",
            "Epoch:  4 Train Loss:  0.000697477662935853 Train Acc top 1:  0.9822000000000001 Test Loss:  0.0007022908963263035 Test Acc top 1:  0.9716\n",
            "Train Acc top 5:  1.0 Test Acc top 5:  1.0\n",
            "\n"
          ]
        },
        {
          "metadata": {
            "tags": null
          },
          "name": "stderr",
          "output_type": "stream",
          "text": [
            "Training Epoch 4: 100%|██████████| 235/235 [00:23<00:00,  9.97batch/s, loss=0.0885]\n",
            "Testing: 100%|██████████| 40/40 [00:03<00:00, 11.26batch/s, loss=0.0787]\n"
          ]
        },
        {
          "metadata": {
            "tags": null
          },
          "name": "stdout",
          "output_type": "stream",
          "text": [
            "\n",
            "Epoch:  5 Train Loss:  0.0006932632720718781 Train Acc top 1:  0.9836 Test Loss:  0.0006293913576751948 Test Acc top 1:  0.974\n",
            "Train Acc top 5:  1.0 Test Acc top 5:  1.0\n",
            "\n"
          ]
        },
        {
          "metadata": {
            "tags": null
          },
          "name": "stderr",
          "output_type": "stream",
          "text": [
            "Training Epoch 5: 100%|██████████| 235/235 [00:22<00:00, 10.22batch/s, loss=0.0866]\n",
            "Testing: 100%|██████████| 40/40 [00:03<00:00, 11.24batch/s, loss=0.0688]\n"
          ]
        },
        {
          "metadata": {
            "tags": null
          },
          "name": "stdout",
          "output_type": "stream",
          "text": [
            "\n",
            "Epoch:  6 Train Loss:  0.0006780091181397438 Train Acc top 1:  0.9842666666666667 Test Loss:  0.0005507916959933937 Test Acc top 1:  0.9778\n",
            "Train Acc top 5:  1.0 Test Acc top 5:  1.0\n",
            "\n"
          ]
        },
        {
          "metadata": {
            "tags": null
          },
          "name": "stderr",
          "output_type": "stream",
          "text": [
            "Training Epoch 6: 100%|██████████| 235/235 [00:25<00:00,  9.33batch/s, loss=0.0866]\n",
            "Testing: 100%|██████████| 40/40 [00:02<00:00, 13.71batch/s, loss=0.0838]\n"
          ]
        },
        {
          "metadata": {
            "tags": null
          },
          "name": "stdout",
          "output_type": "stream",
          "text": [
            "\n",
            "Epoch:  7 Train Loss:  0.000678080411752065 Train Acc top 1:  0.9843666666666667 Test Loss:  0.0006700265863910318 Test Acc top 1:  0.974\n",
            "Train Acc top 5:  1.0 Test Acc top 5:  1.0\n",
            "\n"
          ]
        },
        {
          "metadata": {
            "tags": null
          },
          "name": "stderr",
          "output_type": "stream",
          "text": [
            "Training Epoch 7: 100%|██████████| 235/235 [00:25<00:00,  9.25batch/s, loss=0.0842]\n",
            "Testing: 100%|██████████| 40/40 [00:02<00:00, 14.59batch/s, loss=0.0804]\n"
          ]
        },
        {
          "metadata": {
            "tags": null
          },
          "name": "stdout",
          "output_type": "stream",
          "text": [
            "\n",
            "Epoch:  8 Train Loss:  0.000659615836913387 Train Acc top 1:  0.9862333333333334 Test Loss:  0.0006434778251685203 Test Acc top 1:  0.9748\n",
            "Train Acc top 5:  1.0 Test Acc top 5:  1.0\n",
            "\n"
          ]
        },
        {
          "metadata": {
            "tags": null
          },
          "name": "stderr",
          "output_type": "stream",
          "text": [
            "Training Epoch 8: 100%|██████████| 235/235 [00:24<00:00,  9.53batch/s, loss=0.0815]\n",
            "Testing: 100%|██████████| 40/40 [00:02<00:00, 14.09batch/s, loss=0.0749]\n"
          ]
        },
        {
          "metadata": {
            "tags": null
          },
          "name": "stdout",
          "output_type": "stream",
          "text": [
            "\n",
            "Epoch:  9 Train Loss:  0.0006380276897301276 Train Acc top 1:  0.9878666666666667 Test Loss:  0.000599550111638382 Test Acc top 1:  0.9776\n",
            "Train Acc top 5:  1.0 Test Acc top 5:  1.0\n",
            "\n"
          ]
        },
        {
          "metadata": {
            "tags": null
          },
          "name": "stderr",
          "output_type": "stream",
          "text": [
            "Training Epoch 9: 100%|██████████| 235/235 [00:23<00:00,  9.83batch/s, loss=0.0875]\n",
            "Testing: 100%|██████████| 40/40 [00:02<00:00, 14.42batch/s, loss=0.079]\n"
          ]
        },
        {
          "metadata": {
            "tags": null
          },
          "name": "stdout",
          "output_type": "stream",
          "text": [
            "\n",
            "Epoch:  10 Train Loss:  0.0006855924391498168 Train Acc top 1:  0.9860666666666668 Test Loss:  0.0006317771047353745 Test Acc top 1:  0.977\n",
            "Train Acc top 5:  1.0 Test Acc top 5:  1.0\n",
            "\n"
          ]
        },
        {
          "metadata": {
            "tags": null
          },
          "name": "stderr",
          "output_type": "stream",
          "text": [
            "Training Epoch 10: 100%|██████████| 235/235 [00:24<00:00,  9.65batch/s, loss=0.0879]\n",
            "Testing: 100%|██████████| 40/40 [00:02<00:00, 14.59batch/s, loss=0.0788]\n"
          ]
        },
        {
          "metadata": {
            "tags": null
          },
          "name": "stdout",
          "output_type": "stream",
          "text": [
            "\n",
            "Epoch:  11 Train Loss:  0.0006887418339649836 Train Acc top 1:  0.9857333333333334 Test Loss:  0.0006301321836188436 Test Acc top 1:  0.976\n",
            "Train Acc top 5:  1.0 Test Acc top 5:  1.0\n",
            "\n"
          ]
        },
        {
          "metadata": {
            "tags": null
          },
          "name": "stderr",
          "output_type": "stream",
          "text": [
            "Training Epoch 11: 100%|██████████| 235/235 [00:23<00:00,  9.95batch/s, loss=0.0895]\n",
            "Testing: 100%|██████████| 40/40 [00:02<00:00, 14.50batch/s, loss=0.078]\n"
          ]
        },
        {
          "metadata": {
            "tags": null
          },
          "name": "stdout",
          "output_type": "stream",
          "text": [
            "\n",
            "Epoch:  12 Train Loss:  0.0007014483459293842 Train Acc top 1:  0.9858333333333333 Test Loss:  0.0006240664103534072 Test Acc top 1:  0.9742\n",
            "Train Acc top 5:  1.0 Test Acc top 5:  1.0\n",
            "\n"
          ]
        },
        {
          "metadata": {
            "tags": null
          },
          "name": "stderr",
          "output_type": "stream",
          "text": [
            "Training Epoch 12: 100%|██████████| 235/235 [00:23<00:00,  9.91batch/s, loss=0.0856]\n",
            "Testing: 100%|██████████| 40/40 [00:02<00:00, 14.47batch/s, loss=0.107]\n"
          ]
        },
        {
          "metadata": {
            "tags": null
          },
          "name": "stdout",
          "output_type": "stream",
          "text": [
            "\n",
            "Epoch:  13 Train Loss:  0.0006703280691057443 Train Acc top 1:  0.9875 Test Loss:  0.0008541393537074328 Test Acc top 1:  0.9744\n",
            "Train Acc top 5:  1.0 Test Acc top 5:  1.0\n",
            "\n"
          ]
        },
        {
          "metadata": {
            "tags": null
          },
          "name": "stderr",
          "output_type": "stream",
          "text": [
            "Training Epoch 13: 100%|██████████| 235/235 [00:23<00:00,  9.96batch/s, loss=0.0883]\n",
            "Testing: 100%|██████████| 40/40 [00:02<00:00, 13.50batch/s, loss=0.0736]\n"
          ]
        },
        {
          "metadata": {
            "tags": null
          },
          "name": "stdout",
          "output_type": "stream",
          "text": [
            "\n",
            "Epoch:  14 Train Loss:  0.0006917560835679373 Train Acc top 1:  0.9876 Test Loss:  0.0005887391125783324 Test Acc top 1:  0.976\n",
            "Train Acc top 5:  1.0 Test Acc top 5:  1.0\n",
            "\n"
          ]
        },
        {
          "metadata": {
            "tags": null
          },
          "name": "stderr",
          "output_type": "stream",
          "text": [
            "Training Epoch 14: 100%|██████████| 235/235 [00:22<00:00, 10.24batch/s, loss=0.0888]\n",
            "Testing: 100%|██████████| 40/40 [00:03<00:00, 13.06batch/s, loss=0.0931]\n"
          ]
        },
        {
          "metadata": {
            "tags": null
          },
          "name": "stdout",
          "output_type": "stream",
          "text": [
            "\n",
            "Epoch:  15 Train Loss:  0.0006958159857740005 Train Acc top 1:  0.9872666666666667 Test Loss:  0.0007448862589895726 Test Acc top 1:  0.9728\n",
            "Train Acc top 5:  1.0 Test Acc top 5:  1.0\n",
            "\n"
          ]
        },
        {
          "metadata": {
            "tags": null
          },
          "name": "stderr",
          "output_type": "stream",
          "text": [
            "Training Epoch 15: 100%|██████████| 235/235 [00:23<00:00, 10.11batch/s, loss=0.0872]\n",
            "Testing: 100%|██████████| 40/40 [00:03<00:00, 12.63batch/s, loss=0.0739]\n"
          ]
        },
        {
          "metadata": {
            "tags": null
          },
          "name": "stdout",
          "output_type": "stream",
          "text": [
            "\n",
            "Epoch:  16 Train Loss:  0.0006828751314431429 Train Acc top 1:  0.9889333333333333 Test Loss:  0.0005915665933862328 Test Acc top 1:  0.9766\n",
            "Train Acc top 5:  1.0 Test Acc top 5:  1.0\n",
            "\n"
          ]
        },
        {
          "metadata": {
            "tags": null
          },
          "name": "stderr",
          "output_type": "stream",
          "text": [
            "Training Epoch 16: 100%|██████████| 235/235 [00:23<00:00, 10.14batch/s, loss=0.088]\n",
            "Testing: 100%|██████████| 40/40 [00:03<00:00, 12.55batch/s, loss=0.0728]\n"
          ]
        },
        {
          "metadata": {
            "tags": null
          },
          "name": "stdout",
          "output_type": "stream",
          "text": [
            "\n",
            "Epoch:  17 Train Loss:  0.0006894332433740298 Train Acc top 1:  0.9879666666666667 Test Loss:  0.000582531510386616 Test Acc top 1:  0.976\n",
            "Train Acc top 5:  1.0 Test Acc top 5:  1.0\n",
            "\n"
          ]
        },
        {
          "metadata": {
            "tags": null
          },
          "name": "stderr",
          "output_type": "stream",
          "text": [
            "Training Epoch 17: 100%|██████████| 235/235 [00:23<00:00,  9.95batch/s, loss=0.0829]\n",
            "Testing: 100%|██████████| 40/40 [00:03<00:00, 12.12batch/s, loss=0.0873]\n"
          ]
        },
        {
          "metadata": {
            "tags": null
          },
          "name": "stdout",
          "output_type": "stream",
          "text": [
            "\n",
            "Epoch:  18 Train Loss:  0.000649516258140405 Train Acc top 1:  0.9904000000000001 Test Loss:  0.0006980140181258321 Test Acc top 1:  0.9758\n",
            "Train Acc top 5:  1.0 Test Acc top 5:  1.0\n",
            "\n"
          ]
        },
        {
          "metadata": {
            "tags": null
          },
          "name": "stderr",
          "output_type": "stream",
          "text": [
            "Training Epoch 18: 100%|██████████| 235/235 [00:23<00:00,  9.99batch/s, loss=0.0901]\n",
            "Testing: 100%|██████████| 40/40 [00:03<00:00, 11.50batch/s, loss=0.0781]\n"
          ]
        },
        {
          "metadata": {
            "tags": null
          },
          "name": "stdout",
          "output_type": "stream",
          "text": [
            "\n",
            "Epoch:  19 Train Loss:  0.0007058412957936525 Train Acc top 1:  0.9869333333333333 Test Loss:  0.0006247298285365104 Test Acc top 1:  0.9748\n",
            "Train Acc top 5:  1.0 Test Acc top 5:  1.0\n",
            "\n"
          ]
        },
        {
          "metadata": {
            "tags": null
          },
          "name": "stderr",
          "output_type": "stream",
          "text": [
            "Training Epoch 19: 100%|██████████| 235/235 [00:23<00:00,  9.86batch/s, loss=0.0877]\n",
            "Testing: 100%|██████████| 40/40 [00:03<00:00, 11.78batch/s, loss=0.0728]\n"
          ]
        },
        {
          "metadata": {
            "tags": null
          },
          "name": "stdout",
          "output_type": "stream",
          "text": [
            "\n",
            "Epoch:  20 Train Loss:  0.0006872158605605364 Train Acc top 1:  0.9887 Test Loss:  0.0005827273203060031 Test Acc top 1:  0.9784\n",
            "Train Acc top 5:  1.0 Test Acc top 5:  1.0\n",
            "\n"
          ]
        },
        {
          "metadata": {
            "tags": null
          },
          "name": "stderr",
          "output_type": "stream",
          "text": [
            "Training Epoch 20: 100%|██████████| 235/235 [00:23<00:00,  9.96batch/s, loss=0.0864]\n",
            "Testing: 100%|██████████| 40/40 [00:03<00:00, 12.22batch/s, loss=0.0899]\n"
          ]
        },
        {
          "metadata": {
            "tags": null
          },
          "name": "stdout",
          "output_type": "stream",
          "text": [
            "\n",
            "Epoch:  21 Train Loss:  0.0006769000346461932 Train Acc top 1:  0.9889333333333333 Test Loss:  0.0007194743733853102 Test Acc top 1:  0.9742\n",
            "Train Acc top 5:  1.0 Test Acc top 5:  1.0\n",
            "\n"
          ]
        },
        {
          "metadata": {
            "tags": null
          },
          "name": "stderr",
          "output_type": "stream",
          "text": [
            "Training Epoch 21: 100%|██████████| 235/235 [00:24<00:00,  9.75batch/s, loss=0.0867]\n",
            "Testing: 100%|██████████| 40/40 [00:02<00:00, 13.70batch/s, loss=0.0708]\n"
          ]
        },
        {
          "metadata": {
            "tags": null
          },
          "name": "stdout",
          "output_type": "stream",
          "text": [
            "\n",
            "Epoch:  22 Train Loss:  0.0006791263807564974 Train Acc top 1:  0.9895666666666667 Test Loss:  0.0005666409811936319 Test Acc top 1:  0.9792\n",
            "Train Acc top 5:  1.0 Test Acc top 5:  1.0\n",
            "\n"
          ]
        },
        {
          "metadata": {
            "tags": null
          },
          "name": "stderr",
          "output_type": "stream",
          "text": [
            "Training Epoch 22: 100%|██████████| 235/235 [00:23<00:00,  9.89batch/s, loss=0.0889]\n",
            "Testing: 100%|██████████| 40/40 [00:02<00:00, 13.79batch/s, loss=0.0891]\n"
          ]
        },
        {
          "metadata": {
            "tags": null
          },
          "name": "stdout",
          "output_type": "stream",
          "text": [
            "\n",
            "Epoch:  23 Train Loss:  0.0006963864816973607 Train Acc top 1:  0.9889333333333333 Test Loss:  0.000712497871927917 Test Acc top 1:  0.9784\n",
            "Train Acc top 5:  1.0 Test Acc top 5:  1.0\n",
            "\n"
          ]
        },
        {
          "metadata": {
            "tags": null
          },
          "name": "stderr",
          "output_type": "stream",
          "text": [
            "Training Epoch 23: 100%|██████████| 235/235 [00:24<00:00,  9.54batch/s, loss=0.091]\n",
            "Testing: 100%|██████████| 40/40 [00:02<00:00, 13.99batch/s, loss=0.071]\n"
          ]
        },
        {
          "metadata": {
            "tags": null
          },
          "name": "stdout",
          "output_type": "stream",
          "text": [
            "\n",
            "Epoch:  24 Train Loss:  0.0007129903551191092 Train Acc top 1:  0.9885333333333334 Test Loss:  0.0005680685066618025 Test Acc top 1:  0.9798\n",
            "Train Acc top 5:  1.0 Test Acc top 5:  1.0\n",
            "\n"
          ]
        },
        {
          "metadata": {
            "tags": null
          },
          "name": "stderr",
          "output_type": "stream",
          "text": [
            "Training Epoch 24: 100%|██████████| 235/235 [00:24<00:00,  9.72batch/s, loss=0.0871]\n",
            "Testing: 100%|██████████| 40/40 [00:02<00:00, 13.79batch/s, loss=0.0877]\n"
          ]
        },
        {
          "metadata": {
            "tags": null
          },
          "name": "stdout",
          "output_type": "stream",
          "text": [
            "\n",
            "Epoch:  25 Train Loss:  0.0006822971077015003 Train Acc top 1:  0.9899666666666667 Test Loss:  0.0007012632245197892 Test Acc top 1:  0.9776\n",
            "Train Acc top 5:  1.0 Test Acc top 5:  1.0\n",
            "\n"
          ]
        },
        {
          "metadata": {
            "tags": null
          },
          "name": "stderr",
          "output_type": "stream",
          "text": [
            "Training Epoch 25: 100%|██████████| 235/235 [00:23<00:00,  9.84batch/s, loss=0.0878]\n",
            "Testing: 100%|██████████| 40/40 [00:02<00:00, 14.26batch/s, loss=0.0754]\n"
          ]
        },
        {
          "metadata": {
            "tags": null
          },
          "name": "stdout",
          "output_type": "stream",
          "text": [
            "\n",
            "Epoch:  26 Train Loss:  0.0006881092913448811 Train Acc top 1:  0.9898666666666667 Test Loss:  0.0006029257534071803 Test Acc top 1:  0.9776\n",
            "Train Acc top 5:  1.0 Test Acc top 5:  1.0\n",
            "\n"
          ]
        },
        {
          "metadata": {
            "tags": null
          },
          "name": "stderr",
          "output_type": "stream",
          "text": [
            "Training Epoch 26: 100%|██████████| 235/235 [00:24<00:00,  9.71batch/s, loss=0.0911]\n",
            "Testing: 100%|██████████| 40/40 [00:02<00:00, 14.42batch/s, loss=0.073]\n"
          ]
        },
        {
          "metadata": {
            "tags": null
          },
          "name": "stdout",
          "output_type": "stream",
          "text": [
            "\n",
            "Epoch:  27 Train Loss:  0.0007134797212978205 Train Acc top 1:  0.9884333333333334 Test Loss:  0.0005840708847157657 Test Acc top 1:  0.9774\n",
            "Train Acc top 5:  1.0 Test Acc top 5:  1.0\n",
            "\n"
          ]
        },
        {
          "metadata": {
            "tags": null
          },
          "name": "stderr",
          "output_type": "stream",
          "text": [
            "Training Epoch 27: 100%|██████████| 235/235 [00:23<00:00,  9.95batch/s, loss=0.0837]\n",
            "Testing: 100%|██████████| 40/40 [00:02<00:00, 14.32batch/s, loss=0.116]\n"
          ]
        },
        {
          "metadata": {
            "tags": null
          },
          "name": "stdout",
          "output_type": "stream",
          "text": [
            "\n",
            "Epoch:  28 Train Loss:  0.0006552585537234942 Train Acc top 1:  0.9911666666666668 Test Loss:  0.000927549566887319 Test Acc top 1:  0.9644\n",
            "Train Acc top 5:  1.0 Test Acc top 5:  1.0\n",
            "\n"
          ]
        },
        {
          "metadata": {
            "tags": null
          },
          "name": "stderr",
          "output_type": "stream",
          "text": [
            "Training Epoch 28: 100%|██████████| 235/235 [00:24<00:00,  9.60batch/s, loss=0.0957]\n",
            "Testing: 100%|██████████| 40/40 [00:02<00:00, 14.26batch/s, loss=0.0718]\n"
          ]
        },
        {
          "metadata": {
            "tags": null
          },
          "name": "stdout",
          "output_type": "stream",
          "text": [
            "\n",
            "Epoch:  29 Train Loss:  0.0007493211761116982 Train Acc top 1:  0.9880333333333334 Test Loss:  0.000574311194382608 Test Acc top 1:  0.9788\n",
            "Train Acc top 5:  1.0 Test Acc top 5:  1.0\n",
            "\n"
          ]
        },
        {
          "metadata": {
            "tags": null
          },
          "name": "stderr",
          "output_type": "stream",
          "text": [
            "Training Epoch 29: 100%|██████████| 235/235 [00:23<00:00, 10.19batch/s, loss=0.087]\n",
            "Testing: 100%|██████████| 40/40 [00:02<00:00, 14.38batch/s, loss=0.0963]\n"
          ]
        },
        {
          "metadata": {
            "tags": null
          },
          "name": "stdout",
          "output_type": "stream",
          "text": [
            "\n",
            "Epoch:  30 Train Loss:  0.000681702675918738 Train Acc top 1:  0.9905333333333334 Test Loss:  0.0007703934943303466 Test Acc top 1:  0.9762\n",
            "Train Acc top 5:  1.0 Test Acc top 5:  1.0\n",
            "\n"
          ]
        },
        {
          "data": {
            "text/html": [
              "Waiting for W&B process to finish... <strong style=\"color:green\">(success).</strong>"
            ],
            "text/plain": [
              "<IPython.core.display.HTML object>"
            ]
          },
          "metadata": {},
          "output_type": "display_data"
        },
        {
          "data": {
            "text/html": [
              "<style>\n",
              "    table.wandb td:nth-child(1) { padding: 0 10px; text-align: left ; width: auto;} td:nth-child(2) {text-align: left ; width: 100%}\n",
              "    .wandb-row { display: flex; flex-direction: row; flex-wrap: wrap; justify-content: flex-start; width: 100% }\n",
              "    .wandb-col { display: flex; flex-direction: column; flex-basis: 100%; flex: 1; padding: 10px; }\n",
              "    </style>\n",
              "<div class=\"wandb-row\"><div class=\"wandb-col\"><h3>Run history:</h3><br/><table class=\"wandb\"><tr><td>epoch</td><td>▁▁▁▂▂▂▂▃▃▃▃▄▄▄▄▅▅▅▅▆▆▆▆▇▇▇▇███</td></tr><tr><td>test_acc</td><td>▅▃▅▄▅▇▅▆▇▇▆▅▆▆▅▇▆▆▆▇▅█▇█▇▇▇▁█▆</td></tr><tr><td>test_loss</td><td>▄▅▄▄▂▁▃▃▂▃▂▂▇▂▅▂▂▄▂▂▄▁▄▁▄▂▂█▁▅</td></tr><tr><td>train_acc_top1</td><td>▁▃▄▅▆▆▆▆▇▆▆▆▇▇▇▇▇█▇▇▇█▇▇██▇█▇█</td></tr><tr><td>train_loss</td><td>█▄▃▂▂▂▂▁▁▂▂▂▂▂▂▂▂▁▂▂▂▂▂▃▂▂▃▁▃▂</td></tr></table><br/></div><div class=\"wandb-col\"><h3>Run summary:</h3><br/><table class=\"wandb\"><tr><td>epoch</td><td>29</td></tr><tr><td>test_acc</td><td>0.9762</td></tr><tr><td>test_loss</td><td>0.00077</td></tr><tr><td>train_acc_top1</td><td>0.99053</td></tr><tr><td>train_loss</td><td>0.08703</td></tr></table><br/></div></div>"
            ],
            "text/plain": [
              "<IPython.core.display.HTML object>"
            ]
          },
          "metadata": {},
          "output_type": "display_data"
        },
        {
          "data": {
            "text/html": [
              " View run <strong style=\"color:#cdcd00\">warm-sweep-19</strong> at: <a href='https://wandb.ai/mukul_dl/final_lab_8/runs/0zhf5kyu' target=\"_blank\">https://wandb.ai/mukul_dl/final_lab_8/runs/0zhf5kyu</a><br/>Synced 5 W&B file(s), 0 media file(s), 0 artifact file(s) and 0 other file(s)"
            ],
            "text/plain": [
              "<IPython.core.display.HTML object>"
            ]
          },
          "metadata": {},
          "output_type": "display_data"
        },
        {
          "data": {
            "text/html": [
              "Find logs at: <code>./wandb/run-20230417_170902-0zhf5kyu/logs</code>"
            ],
            "text/plain": [
              "<IPython.core.display.HTML object>"
            ]
          },
          "metadata": {},
          "output_type": "display_data"
        },
        {
          "metadata": {
            "tags": null
          },
          "name": "stderr",
          "output_type": "stream",
          "text": [
            "\u001b[34m\u001b[1mwandb\u001b[0m: Agent Starting Run: tzls882n with config:\n",
            "\u001b[34m\u001b[1mwandb\u001b[0m: \tactivation: Softmax\n",
            "\u001b[34m\u001b[1mwandb\u001b[0m: \tlearning_rate: 1e-05\n",
            "\u001b[34m\u001b[1mwandb\u001b[0m: \toptimizer: Adam\n",
            "\u001b[34m\u001b[1mwandb\u001b[0m: \u001b[33mWARNING\u001b[0m Ignored wandb.init() arg project when running a sweep.\n"
          ]
        },
        {
          "data": {
            "text/html": [
              "Tracking run with wandb version 0.14.2"
            ],
            "text/plain": [
              "<IPython.core.display.HTML object>"
            ]
          },
          "metadata": {},
          "output_type": "display_data"
        },
        {
          "data": {
            "text/html": [
              "Run data is saved locally in <code>/content/wandb/run-20230417_172251-tzls882n</code>"
            ],
            "text/plain": [
              "<IPython.core.display.HTML object>"
            ]
          },
          "metadata": {},
          "output_type": "display_data"
        },
        {
          "data": {
            "text/html": [
              "Syncing run <strong><a href='https://wandb.ai/mukul_dl/final_lab_8/runs/tzls882n' target=\"_blank\">curious-sweep-20</a></strong> to <a href='https://wandb.ai/mukul_dl/final_lab_8' target=\"_blank\">Weights & Biases</a> (<a href='https://wandb.me/run' target=\"_blank\">docs</a>)<br/>Sweep page: <a href='https://wandb.ai/mukul_dl/final_lab_8/sweeps/rxkozgms' target=\"_blank\">https://wandb.ai/mukul_dl/final_lab_8/sweeps/rxkozgms</a>"
            ],
            "text/plain": [
              "<IPython.core.display.HTML object>"
            ]
          },
          "metadata": {},
          "output_type": "display_data"
        },
        {
          "data": {
            "text/html": [
              " View project at <a href='https://wandb.ai/mukul_dl/final_lab_8' target=\"_blank\">https://wandb.ai/mukul_dl/final_lab_8</a>"
            ],
            "text/plain": [
              "<IPython.core.display.HTML object>"
            ]
          },
          "metadata": {},
          "output_type": "display_data"
        },
        {
          "data": {
            "text/html": [
              " View sweep at <a href='https://wandb.ai/mukul_dl/final_lab_8/sweeps/rxkozgms' target=\"_blank\">https://wandb.ai/mukul_dl/final_lab_8/sweeps/rxkozgms</a>"
            ],
            "text/plain": [
              "<IPython.core.display.HTML object>"
            ]
          },
          "metadata": {},
          "output_type": "display_data"
        },
        {
          "data": {
            "text/html": [
              " View run at <a href='https://wandb.ai/mukul_dl/final_lab_8/runs/tzls882n' target=\"_blank\">https://wandb.ai/mukul_dl/final_lab_8/runs/tzls882n</a>"
            ],
            "text/plain": [
              "<IPython.core.display.HTML object>"
            ]
          },
          "metadata": {},
          "output_type": "display_data"
        },
        {
          "metadata": {
            "tags": null
          },
          "name": "stderr",
          "output_type": "stream",
          "text": [
            "Training Epoch 0: 100%|██████████| 235/235 [00:23<00:00, 10.17batch/s, loss=0.086]\n",
            "Testing: 100%|██████████| 40/40 [00:02<00:00, 13.57batch/s, loss=0.0725]\n"
          ]
        },
        {
          "metadata": {
            "tags": null
          },
          "name": "stdout",
          "output_type": "stream",
          "text": [
            "\n",
            "Epoch:  1 Train Loss:  0.0006732801863302787 Train Acc top 1:  0.9915333333333334 Test Loss:  0.0005803597017191351 Test Acc top 1:  0.9784\n",
            "Train Acc top 5:  1.0 Test Acc top 5:  1.0\n",
            "\n"
          ]
        },
        {
          "metadata": {
            "tags": null
          },
          "name": "stderr",
          "output_type": "stream",
          "text": [
            "Training Epoch 1: 100%|██████████| 235/235 [00:22<00:00, 10.39batch/s, loss=0.079]\n",
            "Testing: 100%|██████████| 40/40 [00:02<00:00, 13.95batch/s, loss=0.0693]\n"
          ]
        },
        {
          "metadata": {
            "tags": null
          },
          "name": "stdout",
          "output_type": "stream",
          "text": [
            "\n",
            "Epoch:  2 Train Loss:  0.0006188370643804471 Train Acc top 1:  0.9940333333333334 Test Loss:  0.0005540608231443912 Test Acc top 1:  0.9796\n",
            "Train Acc top 5:  1.0 Test Acc top 5:  1.0\n",
            "\n"
          ]
        },
        {
          "metadata": {
            "tags": null
          },
          "name": "stderr",
          "output_type": "stream",
          "text": [
            "Training Epoch 2: 100%|██████████| 235/235 [00:23<00:00,  9.99batch/s, loss=0.0756]\n",
            "Testing: 100%|██████████| 40/40 [00:02<00:00, 13.67batch/s, loss=0.0738]\n"
          ]
        },
        {
          "metadata": {
            "tags": null
          },
          "name": "stdout",
          "output_type": "stream",
          "text": [
            "\n",
            "Epoch:  3 Train Loss:  0.0005924032328029474 Train Acc top 1:  0.9953000000000001 Test Loss:  0.0005901932688429952 Test Acc top 1:  0.9802\n",
            "Train Acc top 5:  1.0 Test Acc top 5:  1.0\n",
            "\n"
          ]
        },
        {
          "metadata": {
            "tags": null
          },
          "name": "stderr",
          "output_type": "stream",
          "text": [
            "Training Epoch 3: 100%|██████████| 235/235 [00:23<00:00, 10.10batch/s, loss=0.0734]\n",
            "Testing: 100%|██████████| 40/40 [00:02<00:00, 14.36batch/s, loss=0.0657]\n"
          ]
        },
        {
          "metadata": {
            "tags": null
          },
          "name": "stdout",
          "output_type": "stream",
          "text": [
            "\n",
            "Epoch:  4 Train Loss:  0.0005752790220081806 Train Acc top 1:  0.9956333333333334 Test Loss:  0.0005258445548359305 Test Acc top 1:  0.9808\n",
            "Train Acc top 5:  1.0 Test Acc top 5:  1.0\n",
            "\n"
          ]
        },
        {
          "metadata": {
            "tags": null
          },
          "name": "stderr",
          "output_type": "stream",
          "text": [
            "Training Epoch 4: 100%|██████████| 235/235 [00:23<00:00, 10.13batch/s, loss=0.072]\n",
            "Testing: 100%|██████████| 40/40 [00:02<00:00, 13.61batch/s, loss=0.0655]\n"
          ]
        },
        {
          "metadata": {
            "tags": null
          },
          "name": "stdout",
          "output_type": "stream",
          "text": [
            "\n",
            "Epoch:  5 Train Loss:  0.0005641688066224257 Train Acc top 1:  0.9965333333333334 Test Loss:  0.0005236299207434058 Test Acc top 1:  0.9808\n",
            "Train Acc top 5:  1.0 Test Acc top 5:  1.0\n",
            "\n"
          ]
        },
        {
          "metadata": {
            "tags": null
          },
          "name": "stderr",
          "output_type": "stream",
          "text": [
            "Training Epoch 5: 100%|██████████| 235/235 [00:22<00:00, 10.37batch/s, loss=0.0708]\n",
            "Testing: 100%|██████████| 40/40 [00:03<00:00, 13.33batch/s, loss=0.0654]\n"
          ]
        },
        {
          "metadata": {
            "tags": null
          },
          "name": "stdout",
          "output_type": "stream",
          "text": [
            "\n",
            "Epoch:  6 Train Loss:  0.0005546376826862494 Train Acc top 1:  0.9967333333333334 Test Loss:  0.0005234667452285066 Test Acc top 1:  0.9804\n",
            "Train Acc top 5:  1.0 Test Acc top 5:  1.0\n",
            "\n"
          ]
        },
        {
          "metadata": {
            "tags": null
          },
          "name": "stderr",
          "output_type": "stream",
          "text": [
            "Training Epoch 6: 100%|██████████| 235/235 [00:23<00:00,  9.95batch/s, loss=0.0696]\n",
            "Testing: 100%|██████████| 40/40 [00:02<00:00, 13.59batch/s, loss=0.0671]\n"
          ]
        },
        {
          "metadata": {
            "tags": null
          },
          "name": "stdout",
          "output_type": "stream",
          "text": [
            "\n",
            "Epoch:  7 Train Loss:  0.0005448396975795428 Train Acc top 1:  0.9969333333333333 Test Loss:  0.0005367082677781582 Test Acc top 1:  0.9804\n",
            "Train Acc top 5:  1.0 Test Acc top 5:  1.0\n",
            "\n"
          ]
        },
        {
          "metadata": {
            "tags": null
          },
          "name": "stderr",
          "output_type": "stream",
          "text": [
            "Training Epoch 7: 100%|██████████| 235/235 [00:23<00:00, 10.13batch/s, loss=0.0693]\n",
            "Testing: 100%|██████████| 40/40 [00:02<00:00, 13.64batch/s, loss=0.0668]\n"
          ]
        },
        {
          "metadata": {
            "tags": null
          },
          "name": "stdout",
          "output_type": "stream",
          "text": [
            "\n",
            "Epoch:  8 Train Loss:  0.0005425352477778991 Train Acc top 1:  0.9976 Test Loss:  0.0005344970893114805 Test Acc top 1:  0.9812\n",
            "Train Acc top 5:  1.0 Test Acc top 5:  1.0\n",
            "\n"
          ]
        },
        {
          "metadata": {
            "tags": null
          },
          "name": "stderr",
          "output_type": "stream",
          "text": [
            "Training Epoch 8: 100%|██████████| 235/235 [00:22<00:00, 10.32batch/s, loss=0.0675]\n",
            "Testing: 100%|██████████| 40/40 [00:03<00:00, 13.17batch/s, loss=0.0666]\n"
          ]
        },
        {
          "metadata": {
            "tags": null
          },
          "name": "stdout",
          "output_type": "stream",
          "text": [
            "\n",
            "Epoch:  9 Train Loss:  0.0005289165619760752 Train Acc top 1:  0.9979 Test Loss:  0.0005330683683045208 Test Acc top 1:  0.9808\n",
            "Train Acc top 5:  1.0 Test Acc top 5:  1.0\n",
            "\n"
          ]
        },
        {
          "metadata": {
            "tags": null
          },
          "name": "stderr",
          "output_type": "stream",
          "text": [
            "Training Epoch 9: 100%|██████████| 235/235 [00:22<00:00, 10.25batch/s, loss=0.0666]\n",
            "Testing: 100%|██████████| 40/40 [00:03<00:00, 13.04batch/s, loss=0.0699]\n"
          ]
        },
        {
          "metadata": {
            "tags": null
          },
          "name": "stdout",
          "output_type": "stream",
          "text": [
            "\n",
            "Epoch:  10 Train Loss:  0.0005220159852256377 Train Acc top 1:  0.9983333333333334 Test Loss:  0.0005594376318156719 Test Acc top 1:  0.9816\n",
            "Train Acc top 5:  1.0 Test Acc top 5:  1.0\n",
            "\n"
          ]
        },
        {
          "metadata": {
            "tags": null
          },
          "name": "stderr",
          "output_type": "stream",
          "text": [
            "Training Epoch 10: 100%|██████████| 235/235 [00:22<00:00, 10.38batch/s, loss=0.0664]\n",
            "Testing: 100%|██████████| 40/40 [00:03<00:00, 13.10batch/s, loss=0.068]\n"
          ]
        },
        {
          "metadata": {
            "tags": null
          },
          "name": "stdout",
          "output_type": "stream",
          "text": [
            "\n",
            "Epoch:  11 Train Loss:  0.0005202474695940812 Train Acc top 1:  0.9982333333333334 Test Loss:  0.0005437321872217581 Test Acc top 1:  0.9804\n",
            "Train Acc top 5:  1.0 Test Acc top 5:  1.0\n",
            "\n"
          ]
        },
        {
          "metadata": {
            "tags": null
          },
          "name": "stderr",
          "output_type": "stream",
          "text": [
            "Training Epoch 11: 100%|██████████| 235/235 [00:23<00:00,  9.91batch/s, loss=0.0661]\n",
            "Testing: 100%|██████████| 40/40 [00:03<00:00, 13.19batch/s, loss=0.0683]\n"
          ]
        },
        {
          "metadata": {
            "tags": null
          },
          "name": "stdout",
          "output_type": "stream",
          "text": [
            "\n",
            "Epoch:  12 Train Loss:  0.0005176371021817128 Train Acc top 1:  0.9982666666666667 Test Loss:  0.0005467278722207993 Test Acc top 1:  0.9812\n",
            "Train Acc top 5:  1.0 Test Acc top 5:  1.0\n",
            "\n"
          ]
        },
        {
          "metadata": {
            "tags": null
          },
          "name": "stderr",
          "output_type": "stream",
          "text": [
            "Training Epoch 12: 100%|██████████| 235/235 [00:23<00:00, 10.05batch/s, loss=0.065]\n",
            "Testing: 100%|██████████| 40/40 [00:03<00:00, 12.95batch/s, loss=0.0685]\n"
          ]
        },
        {
          "metadata": {
            "tags": null
          },
          "name": "stdout",
          "output_type": "stream",
          "text": [
            "\n",
            "Epoch:  13 Train Loss:  0.0005091203869630893 Train Acc top 1:  0.9984666666666667 Test Loss:  0.0005479438531212509 Test Acc top 1:  0.9812\n",
            "Train Acc top 5:  1.0 Test Acc top 5:  1.0\n",
            "\n"
          ]
        },
        {
          "metadata": {
            "tags": null
          },
          "name": "stderr",
          "output_type": "stream",
          "text": [
            "Training Epoch 13: 100%|██████████| 235/235 [00:23<00:00, 10.18batch/s, loss=0.0647]\n",
            "Testing: 100%|██████████| 40/40 [00:03<00:00, 12.43batch/s, loss=0.0693]\n"
          ]
        },
        {
          "metadata": {
            "tags": null
          },
          "name": "stdout",
          "output_type": "stream",
          "text": [
            "\n",
            "Epoch:  14 Train Loss:  0.0005071433008958896 Train Acc top 1:  0.9986666666666667 Test Loss:  0.0005544026286108419 Test Acc top 1:  0.9812\n",
            "Train Acc top 5:  1.0 Test Acc top 5:  1.0\n",
            "\n"
          ]
        },
        {
          "metadata": {
            "tags": null
          },
          "name": "stderr",
          "output_type": "stream",
          "text": [
            "Training Epoch 14: 100%|██████████| 235/235 [00:22<00:00, 10.30batch/s, loss=0.0641]\n",
            "Testing: 100%|██████████| 40/40 [00:03<00:00, 12.88batch/s, loss=0.0682]\n"
          ]
        },
        {
          "metadata": {
            "tags": null
          },
          "name": "stdout",
          "output_type": "stream",
          "text": [
            "\n",
            "Epoch:  15 Train Loss:  0.0005018177737792333 Train Acc top 1:  0.9988 Test Loss:  0.0005454860252095386 Test Acc top 1:  0.9812\n",
            "Train Acc top 5:  1.0 Test Acc top 5:  1.0\n",
            "\n"
          ]
        },
        {
          "metadata": {
            "tags": null
          },
          "name": "stderr",
          "output_type": "stream",
          "text": [
            "Training Epoch 15: 100%|██████████| 235/235 [00:22<00:00, 10.24batch/s, loss=0.0635]\n",
            "Testing: 100%|██████████| 40/40 [00:03<00:00, 12.27batch/s, loss=0.0699]\n"
          ]
        },
        {
          "metadata": {
            "tags": null
          },
          "name": "stdout",
          "output_type": "stream",
          "text": [
            "\n",
            "Epoch:  16 Train Loss:  0.000497298281143109 Train Acc top 1:  0.9988 Test Loss:  0.0005593545115087182 Test Acc top 1:  0.981\n",
            "Train Acc top 5:  1.0 Test Acc top 5:  1.0\n",
            "\n"
          ]
        },
        {
          "metadata": {
            "tags": null
          },
          "name": "stderr",
          "output_type": "stream",
          "text": [
            "Training Epoch 16: 100%|██████████| 235/235 [00:23<00:00,  9.92batch/s, loss=0.0631]\n",
            "Testing: 100%|██████████| 40/40 [00:03<00:00, 11.26batch/s, loss=0.0706]\n"
          ]
        },
        {
          "metadata": {
            "tags": null
          },
          "name": "stdout",
          "output_type": "stream",
          "text": [
            "\n",
            "Epoch:  17 Train Loss:  0.0004939605366438627 Train Acc top 1:  0.9989 Test Loss:  0.000564613243099302 Test Acc top 1:  0.9814\n",
            "Train Acc top 5:  1.0 Test Acc top 5:  1.0\n",
            "\n"
          ]
        },
        {
          "metadata": {
            "tags": null
          },
          "name": "stderr",
          "output_type": "stream",
          "text": [
            "Training Epoch 17: 100%|██████████| 235/235 [00:22<00:00, 10.33batch/s, loss=0.0627]\n",
            "Testing: 100%|██████████| 40/40 [00:03<00:00, 11.33batch/s, loss=0.0957]\n"
          ]
        },
        {
          "metadata": {
            "tags": null
          },
          "name": "stdout",
          "output_type": "stream",
          "text": [
            "\n",
            "Epoch:  18 Train Loss:  0.00049132570301493 Train Acc top 1:  0.9989 Test Loss:  0.0007659486359916628 Test Acc top 1:  0.9816\n",
            "Train Acc top 5:  1.0 Test Acc top 5:  1.0\n",
            "\n"
          ]
        },
        {
          "metadata": {
            "tags": null
          },
          "name": "stderr",
          "output_type": "stream",
          "text": [
            "Training Epoch 18: 100%|██████████| 235/235 [00:23<00:00, 10.02batch/s, loss=0.0621]\n",
            "Testing: 100%|██████████| 40/40 [00:03<00:00, 11.73batch/s, loss=0.0724]\n"
          ]
        },
        {
          "metadata": {
            "tags": null
          },
          "name": "stdout",
          "output_type": "stream",
          "text": [
            "\n",
            "Epoch:  19 Train Loss:  0.0004868151524414619 Train Acc top 1:  0.9992333333333334 Test Loss:  0.0005794493165798485 Test Acc top 1:  0.9814\n",
            "Train Acc top 5:  1.0 Test Acc top 5:  1.0\n",
            "\n"
          ]
        },
        {
          "metadata": {
            "tags": null
          },
          "name": "stderr",
          "output_type": "stream",
          "text": [
            "Training Epoch 19: 100%|██████████| 235/235 [00:22<00:00, 10.31batch/s, loss=0.0612]\n",
            "Testing: 100%|██████████| 40/40 [00:03<00:00, 11.60batch/s, loss=0.0729]\n"
          ]
        },
        {
          "metadata": {
            "tags": null
          },
          "name": "stdout",
          "output_type": "stream",
          "text": [
            "\n",
            "Epoch:  20 Train Loss:  0.00047928214681645237 Train Acc top 1:  0.9995333333333334 Test Loss:  0.0005833094433415682 Test Acc top 1:  0.9816\n",
            "Train Acc top 5:  1.0 Test Acc top 5:  1.0\n",
            "\n"
          ]
        },
        {
          "metadata": {
            "tags": null
          },
          "name": "stderr",
          "output_type": "stream",
          "text": [
            "Training Epoch 20: 100%|██████████| 235/235 [00:23<00:00, 10.09batch/s, loss=0.061]\n",
            "Testing: 100%|██████████| 40/40 [00:03<00:00, 11.48batch/s, loss=0.0728]\n"
          ]
        },
        {
          "metadata": {
            "tags": null
          },
          "name": "stdout",
          "output_type": "stream",
          "text": [
            "\n",
            "Epoch:  21 Train Loss:  0.0004778841968625784 Train Acc top 1:  0.9995 Test Loss:  0.0005827488597016781 Test Acc top 1:  0.982\n",
            "Train Acc top 5:  1.0 Test Acc top 5:  1.0\n",
            "\n"
          ]
        },
        {
          "metadata": {
            "tags": null
          },
          "name": "stderr",
          "output_type": "stream",
          "text": [
            "Training Epoch 21: 100%|██████████| 235/235 [00:23<00:00,  9.97batch/s, loss=0.0606]\n",
            "Testing: 100%|██████████| 40/40 [00:03<00:00, 12.91batch/s, loss=0.0739]\n"
          ]
        },
        {
          "metadata": {
            "tags": null
          },
          "name": "stdout",
          "output_type": "stream",
          "text": [
            "\n",
            "Epoch:  22 Train Loss:  0.0004746160255124172 Train Acc top 1:  0.9996 Test Loss:  0.0005912182163912803 Test Acc top 1:  0.982\n",
            "Train Acc top 5:  1.0 Test Acc top 5:  1.0\n",
            "\n"
          ]
        },
        {
          "metadata": {
            "tags": null
          },
          "name": "stderr",
          "output_type": "stream",
          "text": [
            "Training Epoch 22: 100%|██████████| 235/235 [00:24<00:00,  9.62batch/s, loss=0.0603]\n",
            "Testing: 100%|██████████| 40/40 [00:03<00:00, 13.22batch/s, loss=0.0742]\n"
          ]
        },
        {
          "metadata": {
            "tags": null
          },
          "name": "stdout",
          "output_type": "stream",
          "text": [
            "\n",
            "Epoch:  23 Train Loss:  0.0004726446104546388 Train Acc top 1:  0.9995333333333334 Test Loss:  0.0005936106317676604 Test Acc top 1:  0.982\n",
            "Train Acc top 5:  1.0 Test Acc top 5:  1.0\n",
            "\n"
          ]
        },
        {
          "metadata": {
            "tags": null
          },
          "name": "stderr",
          "output_type": "stream",
          "text": [
            "Training Epoch 23: 100%|██████████| 235/235 [00:25<00:00,  9.38batch/s, loss=0.0601]\n",
            "Testing: 100%|██████████| 40/40 [00:02<00:00, 13.99batch/s, loss=0.0759]\n"
          ]
        },
        {
          "metadata": {
            "tags": null
          },
          "name": "stdout",
          "output_type": "stream",
          "text": [
            "\n",
            "Epoch:  24 Train Loss:  0.00047049223805467285 Train Acc top 1:  0.9994000000000001 Test Loss:  0.0006071148568298668 Test Acc top 1:  0.9818\n",
            "Train Acc top 5:  1.0 Test Acc top 5:  1.0\n",
            "\n"
          ]
        },
        {
          "metadata": {
            "tags": null
          },
          "name": "stderr",
          "output_type": "stream",
          "text": [
            "Training Epoch 24: 100%|██████████| 235/235 [00:24<00:00,  9.59batch/s, loss=0.0593]\n",
            "Testing: 100%|██████████| 40/40 [00:02<00:00, 13.84batch/s, loss=0.0756]\n"
          ]
        },
        {
          "metadata": {
            "tags": null
          },
          "name": "stdout",
          "output_type": "stream",
          "text": [
            "\n",
            "Epoch:  25 Train Loss:  0.00046431301484505335 Train Acc top 1:  0.9997333333333334 Test Loss:  0.0006045702148228883 Test Acc top 1:  0.9826\n",
            "Train Acc top 5:  1.0 Test Acc top 5:  1.0\n",
            "\n"
          ]
        },
        {
          "metadata": {
            "tags": null
          },
          "name": "stderr",
          "output_type": "stream",
          "text": [
            "Training Epoch 25: 100%|██████████| 235/235 [00:24<00:00,  9.67batch/s, loss=0.0594]\n",
            "Testing: 100%|██████████| 40/40 [00:02<00:00, 14.71batch/s, loss=0.0745]\n"
          ]
        },
        {
          "metadata": {
            "tags": null
          },
          "name": "stdout",
          "output_type": "stream",
          "text": [
            "\n",
            "Epoch:  26 Train Loss:  0.00046513439454138277 Train Acc top 1:  0.9996666666666667 Test Loss:  0.0005959771242458373 Test Acc top 1:  0.9818\n",
            "Train Acc top 5:  1.0 Test Acc top 5:  1.0\n",
            "\n"
          ]
        },
        {
          "metadata": {
            "tags": null
          },
          "name": "stderr",
          "output_type": "stream",
          "text": [
            "Training Epoch 26: 100%|██████████| 235/235 [00:23<00:00,  9.87batch/s, loss=0.0588]\n",
            "Testing: 100%|██████████| 40/40 [00:02<00:00, 14.41batch/s, loss=0.0766]\n"
          ]
        },
        {
          "metadata": {
            "tags": null
          },
          "name": "stdout",
          "output_type": "stream",
          "text": [
            "\n",
            "Epoch:  27 Train Loss:  0.0004607342006017764 Train Acc top 1:  0.9998333333333334 Test Loss:  0.0006130228582769632 Test Acc top 1:  0.9818\n",
            "Train Acc top 5:  1.0 Test Acc top 5:  1.0\n",
            "\n"
          ]
        },
        {
          "metadata": {
            "tags": null
          },
          "name": "stderr",
          "output_type": "stream",
          "text": [
            "Training Epoch 27: 100%|██████████| 235/235 [00:24<00:00,  9.79batch/s, loss=0.0587]\n",
            "Testing: 100%|██████████| 40/40 [00:02<00:00, 14.48batch/s, loss=0.0794]\n"
          ]
        },
        {
          "metadata": {
            "tags": null
          },
          "name": "stdout",
          "output_type": "stream",
          "text": [
            "\n",
            "Epoch:  28 Train Loss:  0.00045985635171333947 Train Acc top 1:  0.9997666666666667 Test Loss:  0.0006352154943160713 Test Acc top 1:  0.9816\n",
            "Train Acc top 5:  1.0 Test Acc top 5:  1.0\n",
            "\n"
          ]
        },
        {
          "metadata": {
            "tags": null
          },
          "name": "stderr",
          "output_type": "stream",
          "text": [
            "Training Epoch 28: 100%|██████████| 235/235 [00:23<00:00, 10.19batch/s, loss=0.0582]\n",
            "Testing: 100%|██████████| 40/40 [00:02<00:00, 14.71batch/s, loss=0.0777]\n"
          ]
        },
        {
          "metadata": {
            "tags": null
          },
          "name": "stdout",
          "output_type": "stream",
          "text": [
            "\n",
            "Epoch:  29 Train Loss:  0.00045563549399375917 Train Acc top 1:  0.9999 Test Loss:  0.0006218687961809337 Test Acc top 1:  0.982\n",
            "Train Acc top 5:  1.0 Test Acc top 5:  1.0\n",
            "\n"
          ]
        },
        {
          "metadata": {
            "tags": null
          },
          "name": "stderr",
          "output_type": "stream",
          "text": [
            "Training Epoch 29: 100%|██████████| 235/235 [00:23<00:00, 10.16batch/s, loss=0.0579]\n",
            "Testing: 100%|██████████| 40/40 [00:02<00:00, 14.36batch/s, loss=0.0824]"
          ]
        },
        {
          "metadata": {
            "tags": null
          },
          "name": "stdout",
          "output_type": "stream",
          "text": [
            "\n",
            "Epoch:  30 Train Loss:  0.0004535416865100463 Train Acc top 1:  0.9998666666666667 Test Loss:  0.0006592051570303738 Test Acc top 1:  0.9822\n",
            "Train Acc top 5:  1.0 Test Acc top 5:  1.0\n",
            "\n"
          ]
        },
        {
          "metadata": {
            "tags": null
          },
          "name": "stderr",
          "output_type": "stream",
          "text": [
            "\n"
          ]
        },
        {
          "data": {
            "text/html": [
              "Waiting for W&B process to finish... <strong style=\"color:green\">(success).</strong>"
            ],
            "text/plain": [
              "<IPython.core.display.HTML object>"
            ]
          },
          "metadata": {},
          "output_type": "display_data"
        },
        {
          "data": {
            "text/html": [
              "<style>\n",
              "    table.wandb td:nth-child(1) { padding: 0 10px; text-align: left ; width: auto;} td:nth-child(2) {text-align: left ; width: 100%}\n",
              "    .wandb-row { display: flex; flex-direction: row; flex-wrap: wrap; justify-content: flex-start; width: 100% }\n",
              "    .wandb-col { display: flex; flex-direction: column; flex-basis: 100%; flex: 1; padding: 10px; }\n",
              "    </style>\n",
              "<div class=\"wandb-row\"><div class=\"wandb-col\"><h3>Run history:</h3><br/><table class=\"wandb\"><tr><td>epoch</td><td>▁▁▁▂▂▂▂▃▃▃▃▄▄▄▄▅▅▅▅▆▆▆▆▇▇▇▇███</td></tr><tr><td>test_acc</td><td>▁▃▄▅▅▄▄▆▅▆▄▆▆▆▆▅▆▆▆▆▇▇▇▇█▇▇▆▇▇</td></tr><tr><td>test_loss</td><td>▃▂▃▁▁▁▁▁▁▂▂▂▂▂▂▂▂█▃▃▃▃▃▃▃▃▄▄▄▅</td></tr><tr><td>train_acc_top1</td><td>▁▃▄▄▅▅▆▆▆▇▇▇▇▇▇▇▇▇▇███████████</td></tr><tr><td>train_loss</td><td>█▆▅▅▅▄▄▄▃▃▃▃▃▃▃▂▂▂▂▂▂▂▂▂▁▁▁▁▁▁</td></tr></table><br/></div><div class=\"wandb-col\"><h3>Run summary:</h3><br/><table class=\"wandb\"><tr><td>epoch</td><td>29</td></tr><tr><td>test_acc</td><td>0.9822</td></tr><tr><td>test_loss</td><td>0.00066</td></tr><tr><td>train_acc_top1</td><td>0.99987</td></tr><tr><td>train_loss</td><td>0.0579</td></tr></table><br/></div></div>"
            ],
            "text/plain": [
              "<IPython.core.display.HTML object>"
            ]
          },
          "metadata": {},
          "output_type": "display_data"
        },
        {
          "data": {
            "text/html": [
              " View run <strong style=\"color:#cdcd00\">curious-sweep-20</strong> at: <a href='https://wandb.ai/mukul_dl/final_lab_8/runs/tzls882n' target=\"_blank\">https://wandb.ai/mukul_dl/final_lab_8/runs/tzls882n</a><br/>Synced 5 W&B file(s), 0 media file(s), 0 artifact file(s) and 0 other file(s)"
            ],
            "text/plain": [
              "<IPython.core.display.HTML object>"
            ]
          },
          "metadata": {},
          "output_type": "display_data"
        },
        {
          "data": {
            "text/html": [
              "Find logs at: <code>./wandb/run-20230417_172251-tzls882n/logs</code>"
            ],
            "text/plain": [
              "<IPython.core.display.HTML object>"
            ]
          },
          "metadata": {},
          "output_type": "display_data"
        },
        {
          "metadata": {
            "tags": null
          },
          "name": "stderr",
          "output_type": "stream",
          "text": [
            "\u001b[34m\u001b[1mwandb\u001b[0m: Agent Starting Run: vot1y1wh with config:\n",
            "\u001b[34m\u001b[1mwandb\u001b[0m: \tactivation: Softmax\n",
            "\u001b[34m\u001b[1mwandb\u001b[0m: \tlearning_rate: 3e-05\n",
            "\u001b[34m\u001b[1mwandb\u001b[0m: \toptimizer: Adam\n",
            "\u001b[34m\u001b[1mwandb\u001b[0m: \u001b[33mWARNING\u001b[0m Ignored wandb.init() arg project when running a sweep.\n"
          ]
        },
        {
          "data": {
            "text/html": [
              "Tracking run with wandb version 0.14.2"
            ],
            "text/plain": [
              "<IPython.core.display.HTML object>"
            ]
          },
          "metadata": {},
          "output_type": "display_data"
        },
        {
          "data": {
            "text/html": [
              "Run data is saved locally in <code>/content/wandb/run-20230417_173627-vot1y1wh</code>"
            ],
            "text/plain": [
              "<IPython.core.display.HTML object>"
            ]
          },
          "metadata": {},
          "output_type": "display_data"
        },
        {
          "data": {
            "text/html": [
              "Syncing run <strong><a href='https://wandb.ai/mukul_dl/final_lab_8/runs/vot1y1wh' target=\"_blank\">still-sweep-21</a></strong> to <a href='https://wandb.ai/mukul_dl/final_lab_8' target=\"_blank\">Weights & Biases</a> (<a href='https://wandb.me/run' target=\"_blank\">docs</a>)<br/>Sweep page: <a href='https://wandb.ai/mukul_dl/final_lab_8/sweeps/rxkozgms' target=\"_blank\">https://wandb.ai/mukul_dl/final_lab_8/sweeps/rxkozgms</a>"
            ],
            "text/plain": [
              "<IPython.core.display.HTML object>"
            ]
          },
          "metadata": {},
          "output_type": "display_data"
        },
        {
          "data": {
            "text/html": [
              " View project at <a href='https://wandb.ai/mukul_dl/final_lab_8' target=\"_blank\">https://wandb.ai/mukul_dl/final_lab_8</a>"
            ],
            "text/plain": [
              "<IPython.core.display.HTML object>"
            ]
          },
          "metadata": {},
          "output_type": "display_data"
        },
        {
          "data": {
            "text/html": [
              " View sweep at <a href='https://wandb.ai/mukul_dl/final_lab_8/sweeps/rxkozgms' target=\"_blank\">https://wandb.ai/mukul_dl/final_lab_8/sweeps/rxkozgms</a>"
            ],
            "text/plain": [
              "<IPython.core.display.HTML object>"
            ]
          },
          "metadata": {},
          "output_type": "display_data"
        },
        {
          "data": {
            "text/html": [
              " View run at <a href='https://wandb.ai/mukul_dl/final_lab_8/runs/vot1y1wh' target=\"_blank\">https://wandb.ai/mukul_dl/final_lab_8/runs/vot1y1wh</a>"
            ],
            "text/plain": [
              "<IPython.core.display.HTML object>"
            ]
          },
          "metadata": {},
          "output_type": "display_data"
        },
        {
          "metadata": {
            "tags": null
          },
          "name": "stderr",
          "output_type": "stream",
          "text": [
            "Training Epoch 0: 100%|██████████| 235/235 [00:23<00:00,  9.83batch/s, loss=0.0576]\n",
            "Testing: 100%|██████████| 40/40 [00:02<00:00, 13.74batch/s, loss=0.0783]\n"
          ]
        },
        {
          "metadata": {
            "tags": null
          },
          "name": "stdout",
          "output_type": "stream",
          "text": [
            "\n",
            "Epoch:  1 Train Loss:  0.0004509411742289861 Train Acc top 1:  0.9997666666666667 Test Loss:  0.0006266868377104402 Test Acc top 1:  0.9822\n",
            "Train Acc top 5:  1.0 Test Acc top 5:  1.0\n",
            "\n"
          ]
        },
        {
          "metadata": {
            "tags": null
          },
          "name": "stderr",
          "output_type": "stream",
          "text": [
            "Training Epoch 1: 100%|██████████| 235/235 [00:23<00:00,  9.85batch/s, loss=0.0566]\n",
            "Testing: 100%|██████████| 40/40 [00:02<00:00, 14.15batch/s, loss=0.0805]\n"
          ]
        },
        {
          "metadata": {
            "tags": null
          },
          "name": "stdout",
          "output_type": "stream",
          "text": [
            "\n",
            "Epoch:  2 Train Loss:  0.00044325253205994763 Train Acc top 1:  0.9998 Test Loss:  0.000644388868380338 Test Acc top 1:  0.9814\n",
            "Train Acc top 5:  1.0 Test Acc top 5:  1.0\n",
            "\n"
          ]
        },
        {
          "metadata": {
            "tags": null
          },
          "name": "stderr",
          "output_type": "stream",
          "text": [
            "Training Epoch 2: 100%|██████████| 235/235 [00:23<00:00, 10.03batch/s, loss=0.0557]\n",
            "Testing: 100%|██████████| 40/40 [00:02<00:00, 13.49batch/s, loss=0.0819]\n"
          ]
        },
        {
          "metadata": {
            "tags": null
          },
          "name": "stdout",
          "output_type": "stream",
          "text": [
            "\n",
            "Epoch:  3 Train Loss:  0.0004366417162120342 Train Acc top 1:  0.9999666666666667 Test Loss:  0.0006555493387393653 Test Acc top 1:  0.9826\n",
            "Train Acc top 5:  1.0 Test Acc top 5:  1.0\n",
            "\n"
          ]
        },
        {
          "metadata": {
            "tags": null
          },
          "name": "stderr",
          "output_type": "stream",
          "text": [
            "Training Epoch 3: 100%|██████████| 235/235 [00:23<00:00, 10.04batch/s, loss=0.0551]\n",
            "Testing: 100%|██████████| 40/40 [00:02<00:00, 13.81batch/s, loss=0.0852]\n"
          ]
        },
        {
          "metadata": {
            "tags": null
          },
          "name": "stdout",
          "output_type": "stream",
          "text": [
            "\n",
            "Epoch:  4 Train Loss:  0.00043195537341137727 Train Acc top 1:  0.9998 Test Loss:  0.000681508596916683 Test Acc top 1:  0.9814\n",
            "Train Acc top 5:  1.0 Test Acc top 5:  1.0\n",
            "\n"
          ]
        },
        {
          "metadata": {
            "tags": null
          },
          "name": "stderr",
          "output_type": "stream",
          "text": [
            "Training Epoch 4: 100%|██████████| 235/235 [00:23<00:00, 10.15batch/s, loss=0.0544]\n",
            "Testing: 100%|██████████| 40/40 [00:02<00:00, 13.43batch/s, loss=0.0849]\n"
          ]
        },
        {
          "metadata": {
            "tags": null
          },
          "name": "stdout",
          "output_type": "stream",
          "text": [
            "\n",
            "Epoch:  5 Train Loss:  0.00042601303681731226 Train Acc top 1:  0.9999666666666667 Test Loss:  0.0006795677210669964 Test Acc top 1:  0.9816\n",
            "Train Acc top 5:  1.0 Test Acc top 5:  1.0\n",
            "\n"
          ]
        },
        {
          "metadata": {
            "tags": null
          },
          "name": "stderr",
          "output_type": "stream",
          "text": [
            "Training Epoch 5: 100%|██████████| 235/235 [00:23<00:00,  9.98batch/s, loss=0.0537]\n",
            "Testing: 100%|██████████| 40/40 [00:03<00:00, 13.00batch/s, loss=0.0842]\n"
          ]
        },
        {
          "metadata": {
            "tags": null
          },
          "name": "stdout",
          "output_type": "stream",
          "text": [
            "\n",
            "Epoch:  6 Train Loss:  0.00042101985899110634 Train Acc top 1:  0.9999666666666667 Test Loss:  0.0006735564481234178 Test Acc top 1:  0.9826\n",
            "Train Acc top 5:  1.0 Test Acc top 5:  1.0\n",
            "\n"
          ]
        },
        {
          "metadata": {
            "tags": null
          },
          "name": "stderr",
          "output_type": "stream",
          "text": [
            "Training Epoch 6: 100%|██████████| 235/235 [00:23<00:00,  9.98batch/s, loss=0.053]\n",
            "Testing: 100%|██████████| 40/40 [00:03<00:00, 12.57batch/s, loss=0.0869]\n"
          ]
        },
        {
          "metadata": {
            "tags": null
          },
          "name": "stdout",
          "output_type": "stream",
          "text": [
            "\n",
            "Epoch:  7 Train Loss:  0.0004155214379231135 Train Acc top 1:  1.0 Test Loss:  0.0006954895818606019 Test Acc top 1:  0.9826\n",
            "Train Acc top 5:  1.0 Test Acc top 5:  1.0\n",
            "\n"
          ]
        },
        {
          "metadata": {
            "tags": null
          },
          "name": "stderr",
          "output_type": "stream",
          "text": [
            "Training Epoch 7: 100%|██████████| 235/235 [00:24<00:00,  9.77batch/s, loss=0.0524]\n",
            "Testing: 100%|██████████| 40/40 [00:03<00:00, 11.42batch/s, loss=0.086]\n"
          ]
        },
        {
          "metadata": {
            "tags": null
          },
          "name": "stdout",
          "output_type": "stream",
          "text": [
            "\n",
            "Epoch:  8 Train Loss:  0.00041008497749765716 Train Acc top 1:  1.0 Test Loss:  0.0006883774046320468 Test Acc top 1:  0.982\n",
            "Train Acc top 5:  1.0 Test Acc top 5:  1.0\n",
            "\n"
          ]
        },
        {
          "metadata": {
            "tags": null
          },
          "name": "stderr",
          "output_type": "stream",
          "text": [
            "Training Epoch 8: 100%|██████████| 235/235 [00:23<00:00,  9.94batch/s, loss=0.0519]\n",
            "Testing: 100%|██████████| 40/40 [00:03<00:00, 11.54batch/s, loss=0.0869]\n"
          ]
        },
        {
          "metadata": {
            "tags": null
          },
          "name": "stdout",
          "output_type": "stream",
          "text": [
            "\n",
            "Epoch:  9 Train Loss:  0.0004066474442680677 Train Acc top 1:  0.9999333333333333 Test Loss:  0.0006955212746979669 Test Acc top 1:  0.9824\n",
            "Train Acc top 5:  1.0 Test Acc top 5:  1.0\n",
            "\n"
          ]
        },
        {
          "metadata": {
            "tags": null
          },
          "name": "stderr",
          "output_type": "stream",
          "text": [
            "Training Epoch 9: 100%|██████████| 235/235 [00:23<00:00,  9.97batch/s, loss=0.0515]\n",
            "Testing: 100%|██████████| 40/40 [00:03<00:00, 11.69batch/s, loss=0.0895]\n"
          ]
        },
        {
          "metadata": {
            "tags": null
          },
          "name": "stdout",
          "output_type": "stream",
          "text": [
            "\n",
            "Epoch:  10 Train Loss:  0.0004034513951589664 Train Acc top 1:  0.9998666666666667 Test Loss:  0.000716030524019152 Test Acc top 1:  0.9814\n",
            "Train Acc top 5:  1.0 Test Acc top 5:  1.0\n",
            "\n"
          ]
        },
        {
          "metadata": {
            "tags": null
          },
          "name": "stderr",
          "output_type": "stream",
          "text": [
            "Training Epoch 10: 100%|██████████| 235/235 [00:23<00:00,  9.97batch/s, loss=0.0507]\n",
            "Testing: 100%|██████████| 40/40 [00:03<00:00, 12.09batch/s, loss=0.108]\n"
          ]
        },
        {
          "metadata": {
            "tags": null
          },
          "name": "stdout",
          "output_type": "stream",
          "text": [
            "\n",
            "Epoch:  11 Train Loss:  0.00039682591843108337 Train Acc top 1:  1.0 Test Loss:  0.0008664087333716452 Test Acc top 1:  0.9818\n",
            "Train Acc top 5:  1.0 Test Acc top 5:  1.0\n",
            "\n"
          ]
        },
        {
          "metadata": {
            "tags": null
          },
          "name": "stderr",
          "output_type": "stream",
          "text": [
            "Training Epoch 11: 100%|██████████| 235/235 [00:25<00:00,  9.36batch/s, loss=0.0502]\n",
            "Testing: 100%|██████████| 40/40 [00:02<00:00, 13.64batch/s, loss=0.0873]\n"
          ]
        },
        {
          "metadata": {
            "tags": null
          },
          "name": "stdout",
          "output_type": "stream",
          "text": [
            "\n",
            "Epoch:  12 Train Loss:  0.0003930199978252252 Train Acc top 1:  0.9999666666666667 Test Loss:  0.000698257711599581 Test Acc top 1:  0.9814\n",
            "Train Acc top 5:  1.0 Test Acc top 5:  1.0\n",
            "\n"
          ]
        },
        {
          "metadata": {
            "tags": null
          },
          "name": "stderr",
          "output_type": "stream",
          "text": [
            "Training Epoch 12: 100%|██████████| 235/235 [00:25<00:00,  9.34batch/s, loss=0.0496]\n",
            "Testing: 100%|██████████| 40/40 [00:02<00:00, 13.44batch/s, loss=0.11]\n"
          ]
        },
        {
          "metadata": {
            "tags": null
          },
          "name": "stdout",
          "output_type": "stream",
          "text": [
            "\n",
            "Epoch:  13 Train Loss:  0.0003887567718823751 Train Acc top 1:  1.0 Test Loss:  0.0008769600320607424 Test Acc top 1:  0.9814\n",
            "Train Acc top 5:  1.0 Test Acc top 5:  1.0\n",
            "\n"
          ]
        },
        {
          "metadata": {
            "tags": null
          },
          "name": "stderr",
          "output_type": "stream",
          "text": [
            "Training Epoch 13: 100%|██████████| 235/235 [00:25<00:00,  9.22batch/s, loss=0.0491]\n",
            "Testing: 100%|██████████| 40/40 [00:02<00:00, 14.01batch/s, loss=0.0898]\n"
          ]
        },
        {
          "metadata": {
            "tags": null
          },
          "name": "stdout",
          "output_type": "stream",
          "text": [
            "\n",
            "Epoch:  14 Train Loss:  0.0003845698518057664 Train Acc top 1:  1.0 Test Loss:  0.000718426392134279 Test Acc top 1:  0.9818\n",
            "Train Acc top 5:  1.0 Test Acc top 5:  1.0\n",
            "\n"
          ]
        },
        {
          "metadata": {
            "tags": null
          },
          "name": "stderr",
          "output_type": "stream",
          "text": [
            "Training Epoch 14: 100%|██████████| 235/235 [00:26<00:00,  9.02batch/s, loss=0.0485]\n",
            "Testing: 100%|██████████| 40/40 [00:03<00:00, 12.84batch/s, loss=0.0911]\n"
          ]
        },
        {
          "metadata": {
            "tags": null
          },
          "name": "stdout",
          "output_type": "stream",
          "text": [
            "\n",
            "Epoch:  15 Train Loss:  0.00037973316175242265 Train Acc top 1:  1.0 Test Loss:  0.0007285474521573633 Test Acc top 1:  0.9818\n",
            "Train Acc top 5:  1.0 Test Acc top 5:  1.0\n",
            "\n"
          ]
        },
        {
          "metadata": {
            "tags": null
          },
          "name": "stderr",
          "output_type": "stream",
          "text": [
            "Training Epoch 15: 100%|██████████| 235/235 [00:23<00:00,  9.97batch/s, loss=0.0478]\n",
            "Testing: 100%|██████████| 40/40 [00:03<00:00, 12.38batch/s, loss=0.0936]\n"
          ]
        },
        {
          "metadata": {
            "tags": null
          },
          "name": "stdout",
          "output_type": "stream",
          "text": [
            "\n",
            "Epoch:  16 Train Loss:  0.0003747125918666522 Train Acc top 1:  1.0 Test Loss:  0.0007486886218655855 Test Acc top 1:  0.982\n",
            "Train Acc top 5:  1.0 Test Acc top 5:  1.0\n",
            "\n"
          ]
        },
        {
          "metadata": {
            "tags": null
          },
          "name": "stderr",
          "output_type": "stream",
          "text": [
            "Training Epoch 16: 100%|██████████| 235/235 [00:24<00:00,  9.78batch/s, loss=0.0473]\n",
            "Testing: 100%|██████████| 40/40 [00:03<00:00, 11.08batch/s, loss=0.0942]\n"
          ]
        },
        {
          "metadata": {
            "tags": null
          },
          "name": "stdout",
          "output_type": "stream",
          "text": [
            "\n",
            "Epoch:  17 Train Loss:  0.00037042674124240874 Train Acc top 1:  1.0 Test Loss:  0.0007533838215516881 Test Acc top 1:  0.981\n",
            "Train Acc top 5:  1.0 Test Acc top 5:  1.0\n",
            "\n"
          ]
        },
        {
          "metadata": {
            "tags": null
          },
          "name": "stderr",
          "output_type": "stream",
          "text": [
            "Training Epoch 17: 100%|██████████| 235/235 [00:23<00:00,  9.94batch/s, loss=0.0468]\n",
            "Testing: 100%|██████████| 40/40 [00:03<00:00, 11.59batch/s, loss=0.101]\n"
          ]
        },
        {
          "metadata": {
            "tags": null
          },
          "name": "stdout",
          "output_type": "stream",
          "text": [
            "\n",
            "Epoch:  18 Train Loss:  0.0003665953293442726 Train Acc top 1:  0.9999666666666667 Test Loss:  0.0008055189095437527 Test Acc top 1:  0.9824\n",
            "Train Acc top 5:  1.0 Test Acc top 5:  1.0\n",
            "\n"
          ]
        },
        {
          "metadata": {
            "tags": null
          },
          "name": "stderr",
          "output_type": "stream",
          "text": [
            "Training Epoch 18: 100%|██████████| 235/235 [00:24<00:00,  9.63batch/s, loss=0.0466]\n",
            "Testing: 100%|██████████| 40/40 [00:03<00:00, 12.61batch/s, loss=0.0965]\n"
          ]
        },
        {
          "metadata": {
            "tags": null
          },
          "name": "stdout",
          "output_type": "stream",
          "text": [
            "\n",
            "Epoch:  19 Train Loss:  0.0003650317738453547 Train Acc top 1:  0.9999666666666667 Test Loss:  0.000771844439394772 Test Acc top 1:  0.9812\n",
            "Train Acc top 5:  1.0 Test Acc top 5:  1.0\n",
            "\n"
          ]
        },
        {
          "metadata": {
            "tags": null
          },
          "name": "stderr",
          "output_type": "stream",
          "text": [
            "Training Epoch 19: 100%|██████████| 235/235 [00:23<00:00,  9.82batch/s, loss=0.0459]\n",
            "Testing: 100%|██████████| 40/40 [00:02<00:00, 13.61batch/s, loss=0.0938]\n"
          ]
        },
        {
          "metadata": {
            "tags": null
          },
          "name": "stdout",
          "output_type": "stream",
          "text": [
            "\n",
            "Epoch:  20 Train Loss:  0.00035921143889427185 Train Acc top 1:  1.0 Test Loss:  0.0007503448699600994 Test Acc top 1:  0.9818\n",
            "Train Acc top 5:  1.0 Test Acc top 5:  1.0\n",
            "\n"
          ]
        },
        {
          "metadata": {
            "tags": null
          },
          "name": "stderr",
          "output_type": "stream",
          "text": [
            "Training Epoch 20: 100%|██████████| 235/235 [00:23<00:00,  9.81batch/s, loss=0.0453]\n",
            "Testing: 100%|██████████| 40/40 [00:02<00:00, 13.85batch/s, loss=0.0968]\n"
          ]
        },
        {
          "metadata": {
            "tags": null
          },
          "name": "stdout",
          "output_type": "stream",
          "text": [
            "\n",
            "Epoch:  21 Train Loss:  0.00035501233364144963 Train Acc top 1:  1.0 Test Loss:  0.0007742800299078227 Test Acc top 1:  0.9816\n",
            "Train Acc top 5:  1.0 Test Acc top 5:  1.0\n",
            "\n"
          ]
        },
        {
          "metadata": {
            "tags": null
          },
          "name": "stderr",
          "output_type": "stream",
          "text": [
            "Training Epoch 21: 100%|██████████| 235/235 [00:24<00:00,  9.48batch/s, loss=0.0453]\n",
            "Testing: 100%|██████████| 40/40 [00:02<00:00, 13.85batch/s, loss=0.103]\n"
          ]
        },
        {
          "metadata": {
            "tags": null
          },
          "name": "stdout",
          "output_type": "stream",
          "text": [
            "\n",
            "Epoch:  22 Train Loss:  0.00035508816267053285 Train Acc top 1:  0.9998 Test Loss:  0.0008244567210786045 Test Acc top 1:  0.9808\n",
            "Train Acc top 5:  1.0 Test Acc top 5:  1.0\n",
            "\n"
          ]
        },
        {
          "metadata": {
            "tags": null
          },
          "name": "stderr",
          "output_type": "stream",
          "text": [
            "Training Epoch 22: 100%|██████████| 235/235 [00:25<00:00,  9.26batch/s, loss=0.0456]\n",
            "Testing: 100%|██████████| 40/40 [00:02<00:00, 13.67batch/s, loss=0.0934]\n"
          ]
        },
        {
          "metadata": {
            "tags": null
          },
          "name": "stdout",
          "output_type": "stream",
          "text": [
            "\n",
            "Epoch:  23 Train Loss:  0.0003575732822219531 Train Acc top 1:  0.9996 Test Loss:  0.0007473082526121288 Test Acc top 1:  0.9822\n",
            "Train Acc top 5:  1.0 Test Acc top 5:  1.0\n",
            "\n"
          ]
        },
        {
          "metadata": {
            "tags": null
          },
          "name": "stderr",
          "output_type": "stream",
          "text": [
            "Training Epoch 23: 100%|██████████| 235/235 [00:25<00:00,  9.32batch/s, loss=0.0448]\n",
            "Testing: 100%|██████████| 40/40 [00:02<00:00, 13.54batch/s, loss=0.0929]\n"
          ]
        },
        {
          "metadata": {
            "tags": null
          },
          "name": "stdout",
          "output_type": "stream",
          "text": [
            "\n",
            "Epoch:  24 Train Loss:  0.000350879646713535 Train Acc top 1:  0.9998666666666667 Test Loss:  0.000743568813148886 Test Acc top 1:  0.9824\n",
            "Train Acc top 5:  1.0 Test Acc top 5:  1.0\n",
            "\n"
          ]
        },
        {
          "metadata": {
            "tags": null
          },
          "name": "stderr",
          "output_type": "stream",
          "text": [
            "Training Epoch 24: 100%|██████████| 235/235 [00:25<00:00,  9.26batch/s, loss=0.0443]\n",
            "Testing: 100%|██████████| 40/40 [00:03<00:00, 11.27batch/s, loss=0.092]\n"
          ]
        },
        {
          "metadata": {
            "tags": null
          },
          "name": "stdout",
          "output_type": "stream",
          "text": [
            "\n",
            "Epoch:  25 Train Loss:  0.00034666247107088566 Train Acc top 1:  1.0 Test Loss:  0.0007356257118284703 Test Acc top 1:  0.9818\n",
            "Train Acc top 5:  1.0 Test Acc top 5:  1.0\n",
            "\n"
          ]
        },
        {
          "metadata": {
            "tags": null
          },
          "name": "stderr",
          "output_type": "stream",
          "text": [
            "Training Epoch 25: 100%|██████████| 235/235 [00:24<00:00,  9.53batch/s, loss=0.044]\n",
            "Testing: 100%|██████████| 40/40 [00:03<00:00, 11.79batch/s, loss=0.109]\n"
          ]
        },
        {
          "metadata": {
            "tags": null
          },
          "name": "stdout",
          "output_type": "stream",
          "text": [
            "\n",
            "Epoch:  26 Train Loss:  0.0003447776592026154 Train Acc top 1:  1.0 Test Loss:  0.0008703747851774097 Test Acc top 1:  0.9822\n",
            "Train Acc top 5:  1.0 Test Acc top 5:  1.0\n",
            "\n"
          ]
        },
        {
          "metadata": {
            "tags": null
          },
          "name": "stderr",
          "output_type": "stream",
          "text": [
            "Training Epoch 26: 100%|██████████| 235/235 [00:24<00:00,  9.73batch/s, loss=0.0439]\n",
            "Testing: 100%|██████████| 40/40 [00:03<00:00, 12.00batch/s, loss=0.0952]\n"
          ]
        },
        {
          "metadata": {
            "tags": null
          },
          "name": "stdout",
          "output_type": "stream",
          "text": [
            "\n",
            "Epoch:  27 Train Loss:  0.0003436088806639115 Train Acc top 1:  1.0 Test Loss:  0.0007616813313681632 Test Acc top 1:  0.981\n",
            "Train Acc top 5:  1.0 Test Acc top 5:  1.0\n",
            "\n"
          ]
        },
        {
          "metadata": {
            "tags": null
          },
          "name": "stderr",
          "output_type": "stream",
          "text": [
            "Training Epoch 27: 100%|██████████| 235/235 [00:24<00:00,  9.71batch/s, loss=0.0436]\n",
            "Testing: 100%|██████████| 40/40 [00:02<00:00, 14.12batch/s, loss=0.0956]\n"
          ]
        },
        {
          "metadata": {
            "tags": null
          },
          "name": "stdout",
          "output_type": "stream",
          "text": [
            "\n",
            "Epoch:  28 Train Loss:  0.0003415944370130698 Train Acc top 1:  1.0 Test Loss:  0.0007648803474381566 Test Acc top 1:  0.9824\n",
            "Train Acc top 5:  1.0 Test Acc top 5:  1.0\n",
            "\n"
          ]
        },
        {
          "metadata": {
            "tags": null
          },
          "name": "stderr",
          "output_type": "stream",
          "text": [
            "Training Epoch 28: 100%|██████████| 235/235 [00:25<00:00,  9.38batch/s, loss=0.0433]\n",
            "Testing: 100%|██████████| 40/40 [00:02<00:00, 13.42batch/s, loss=0.0932]\n"
          ]
        },
        {
          "metadata": {
            "tags": null
          },
          "name": "stdout",
          "output_type": "stream",
          "text": [
            "\n",
            "Epoch:  29 Train Loss:  0.00033917051690320174 Train Acc top 1:  1.0 Test Loss:  0.0007454912792425603 Test Acc top 1:  0.9816\n",
            "Train Acc top 5:  1.0 Test Acc top 5:  1.0\n",
            "\n"
          ]
        },
        {
          "metadata": {
            "tags": null
          },
          "name": "stderr",
          "output_type": "stream",
          "text": [
            "Training Epoch 29: 100%|██████████| 235/235 [00:24<00:00,  9.51batch/s, loss=0.043]\n",
            "Testing: 100%|██████████| 40/40 [00:02<00:00, 14.71batch/s, loss=0.108]"
          ]
        },
        {
          "metadata": {
            "tags": null
          },
          "name": "stdout",
          "output_type": "stream",
          "text": [
            "\n",
            "Epoch:  30 Train Loss:  0.00033669771899779636 Train Acc top 1:  1.0 Test Loss:  0.0008653578649275005 Test Acc top 1:  0.9818\n",
            "Train Acc top 5:  1.0 Test Acc top 5:  1.0\n",
            "\n"
          ]
        },
        {
          "metadata": {
            "tags": null
          },
          "name": "stderr",
          "output_type": "stream",
          "text": [
            "\n"
          ]
        },
        {
          "data": {
            "text/html": [
              "Waiting for W&B process to finish... <strong style=\"color:green\">(success).</strong>"
            ],
            "text/plain": [
              "<IPython.core.display.HTML object>"
            ]
          },
          "metadata": {},
          "output_type": "display_data"
        },
        {
          "data": {
            "application/vnd.jupyter.widget-view+json": {
              "model_id": "f6c071d5a0ab45a2b7d04ea9685e27fa",
              "version_major": 2,
              "version_minor": 0
            },
            "text/plain": [
              "VBox(children=(Label(value='0.001 MB of 0.021 MB uploaded (0.000 MB deduped)\\r'), FloatProgress(value=0.052643…"
            ]
          },
          "metadata": {},
          "output_type": "display_data"
        },
        {
          "data": {
            "text/html": [
              "<style>\n",
              "    table.wandb td:nth-child(1) { padding: 0 10px; text-align: left ; width: auto;} td:nth-child(2) {text-align: left ; width: 100%}\n",
              "    .wandb-row { display: flex; flex-direction: row; flex-wrap: wrap; justify-content: flex-start; width: 100% }\n",
              "    .wandb-col { display: flex; flex-direction: column; flex-basis: 100%; flex: 1; padding: 10px; }\n",
              "    </style>\n",
              "<div class=\"wandb-row\"><div class=\"wandb-col\"><h3>Run history:</h3><br/><table class=\"wandb\"><tr><td>epoch</td><td>▁▁▁▂▂▂▂▃▃▃▃▄▄▄▄▅▅▅▅▆▆▆▆▇▇▇▇███</td></tr><tr><td>test_acc</td><td>▆▃█▃▄██▆▇▃▅▃▃▅▅▆▂▇▃▅▄▁▆▇▅▆▂▇▄▅</td></tr><tr><td>test_loss</td><td>▁▁▂▃▂▂▃▃▃▃█▃█▄▄▄▅▆▅▄▅▇▄▄▄█▅▅▄█</td></tr><tr><td>train_acc_top1</td><td>▄▅▇▅▇▇██▇▆█▇█████▇▇██▅▁▆██████</td></tr><tr><td>train_loss</td><td>██▇▇▆▆▆▅▅▅▅▄▄▄▄▃▃▃▃▂▂▂▂▂▂▁▁▁▁▁</td></tr></table><br/></div><div class=\"wandb-col\"><h3>Run summary:</h3><br/><table class=\"wandb\"><tr><td>epoch</td><td>29</td></tr><tr><td>test_acc</td><td>0.9818</td></tr><tr><td>test_loss</td><td>0.00087</td></tr><tr><td>train_acc_top1</td><td>1.0</td></tr><tr><td>train_loss</td><td>0.04298</td></tr></table><br/></div></div>"
            ],
            "text/plain": [
              "<IPython.core.display.HTML object>"
            ]
          },
          "metadata": {},
          "output_type": "display_data"
        },
        {
          "data": {
            "text/html": [
              " View run <strong style=\"color:#cdcd00\">still-sweep-21</strong> at: <a href='https://wandb.ai/mukul_dl/final_lab_8/runs/vot1y1wh' target=\"_blank\">https://wandb.ai/mukul_dl/final_lab_8/runs/vot1y1wh</a><br/>Synced 5 W&B file(s), 0 media file(s), 0 artifact file(s) and 0 other file(s)"
            ],
            "text/plain": [
              "<IPython.core.display.HTML object>"
            ]
          },
          "metadata": {},
          "output_type": "display_data"
        },
        {
          "data": {
            "text/html": [
              "Find logs at: <code>./wandb/run-20230417_173627-vot1y1wh/logs</code>"
            ],
            "text/plain": [
              "<IPython.core.display.HTML object>"
            ]
          },
          "metadata": {},
          "output_type": "display_data"
        },
        {
          "metadata": {
            "tags": null
          },
          "name": "stderr",
          "output_type": "stream",
          "text": [
            "\u001b[34m\u001b[1mwandb\u001b[0m: Sweep Agent: Waiting for job.\n",
            "\u001b[34m\u001b[1mwandb\u001b[0m: Job received.\n",
            "\u001b[34m\u001b[1mwandb\u001b[0m: Agent Starting Run: 1ftsd2m5 with config:\n",
            "\u001b[34m\u001b[1mwandb\u001b[0m: \tactivation: Tanh\n",
            "\u001b[34m\u001b[1mwandb\u001b[0m: \tlearning_rate: 1e-05\n",
            "\u001b[34m\u001b[1mwandb\u001b[0m: \toptimizer: RMSprop\n",
            "\u001b[34m\u001b[1mwandb\u001b[0m: \u001b[33mWARNING\u001b[0m Ignored wandb.init() arg project when running a sweep.\n"
          ]
        },
        {
          "data": {
            "text/html": [
              "Tracking run with wandb version 0.14.2"
            ],
            "text/plain": [
              "<IPython.core.display.HTML object>"
            ]
          },
          "metadata": {},
          "output_type": "display_data"
        },
        {
          "data": {
            "text/html": [
              "Run data is saved locally in <code>/content/wandb/run-20230417_175036-1ftsd2m5</code>"
            ],
            "text/plain": [
              "<IPython.core.display.HTML object>"
            ]
          },
          "metadata": {},
          "output_type": "display_data"
        },
        {
          "data": {
            "text/html": [
              "Syncing run <strong><a href='https://wandb.ai/mukul_dl/final_lab_8/runs/1ftsd2m5' target=\"_blank\">frosty-sweep-22</a></strong> to <a href='https://wandb.ai/mukul_dl/final_lab_8' target=\"_blank\">Weights & Biases</a> (<a href='https://wandb.me/run' target=\"_blank\">docs</a>)<br/>Sweep page: <a href='https://wandb.ai/mukul_dl/final_lab_8/sweeps/rxkozgms' target=\"_blank\">https://wandb.ai/mukul_dl/final_lab_8/sweeps/rxkozgms</a>"
            ],
            "text/plain": [
              "<IPython.core.display.HTML object>"
            ]
          },
          "metadata": {},
          "output_type": "display_data"
        },
        {
          "data": {
            "text/html": [
              " View project at <a href='https://wandb.ai/mukul_dl/final_lab_8' target=\"_blank\">https://wandb.ai/mukul_dl/final_lab_8</a>"
            ],
            "text/plain": [
              "<IPython.core.display.HTML object>"
            ]
          },
          "metadata": {},
          "output_type": "display_data"
        },
        {
          "data": {
            "text/html": [
              " View sweep at <a href='https://wandb.ai/mukul_dl/final_lab_8/sweeps/rxkozgms' target=\"_blank\">https://wandb.ai/mukul_dl/final_lab_8/sweeps/rxkozgms</a>"
            ],
            "text/plain": [
              "<IPython.core.display.HTML object>"
            ]
          },
          "metadata": {},
          "output_type": "display_data"
        },
        {
          "data": {
            "text/html": [
              " View run at <a href='https://wandb.ai/mukul_dl/final_lab_8/runs/1ftsd2m5' target=\"_blank\">https://wandb.ai/mukul_dl/final_lab_8/runs/1ftsd2m5</a>"
            ],
            "text/plain": [
              "<IPython.core.display.HTML object>"
            ]
          },
          "metadata": {},
          "output_type": "display_data"
        },
        {
          "metadata": {
            "tags": null
          },
          "name": "stderr",
          "output_type": "stream",
          "text": [
            "Training Epoch 0: 100%|██████████| 235/235 [00:24<00:00,  9.55batch/s, loss=0.0422]\n",
            "Testing: 100%|██████████| 40/40 [00:03<00:00, 13.01batch/s, loss=0.0936]\n"
          ]
        },
        {
          "metadata": {
            "tags": null
          },
          "name": "stdout",
          "output_type": "stream",
          "text": [
            "\n",
            "Epoch:  1 Train Loss:  0.0003308087440828482 Train Acc top 1:  1.0 Test Loss:  0.0007484767829999328 Test Acc top 1:  0.9826\n",
            "Train Acc top 5:  1.0 Test Acc top 5:  1.0\n",
            "\n"
          ]
        },
        {
          "metadata": {
            "tags": null
          },
          "name": "stderr",
          "output_type": "stream",
          "text": [
            "Training Epoch 1: 100%|██████████| 235/235 [00:23<00:00,  9.81batch/s, loss=0.0417]\n",
            "Testing: 100%|██████████| 40/40 [00:03<00:00, 12.08batch/s, loss=0.0967]\n"
          ]
        },
        {
          "metadata": {
            "tags": null
          },
          "name": "stdout",
          "output_type": "stream",
          "text": [
            "\n",
            "Epoch:  2 Train Loss:  0.00032697124170760316 Train Acc top 1:  1.0 Test Loss:  0.0007735501877497882 Test Acc top 1:  0.982\n",
            "Train Acc top 5:  1.0 Test Acc top 5:  1.0\n",
            "\n"
          ]
        },
        {
          "metadata": {
            "tags": null
          },
          "name": "stderr",
          "output_type": "stream",
          "text": [
            "Training Epoch 2: 100%|██████████| 235/235 [00:23<00:00, 10.10batch/s, loss=0.0413]\n",
            "Testing: 100%|██████████| 40/40 [00:03<00:00, 10.84batch/s, loss=0.0943]\n"
          ]
        },
        {
          "metadata": {
            "tags": null
          },
          "name": "stdout",
          "output_type": "stream",
          "text": [
            "\n",
            "Epoch:  3 Train Loss:  0.00032385668493807313 Train Acc top 1:  1.0 Test Loss:  0.0007542905232869088 Test Acc top 1:  0.982\n",
            "Train Acc top 5:  1.0 Test Acc top 5:  1.0\n",
            "\n"
          ]
        },
        {
          "metadata": {
            "tags": null
          },
          "name": "stderr",
          "output_type": "stream",
          "text": [
            "Training Epoch 3: 100%|██████████| 235/235 [00:24<00:00,  9.63batch/s, loss=0.0409]\n",
            "Testing: 100%|██████████| 40/40 [00:03<00:00, 11.39batch/s, loss=0.0951]\n"
          ]
        },
        {
          "metadata": {
            "tags": null
          },
          "name": "stdout",
          "output_type": "stream",
          "text": [
            "\n",
            "Epoch:  4 Train Loss:  0.00032072697517772516 Train Acc top 1:  1.0 Test Loss:  0.0007605181927792728 Test Acc top 1:  0.9822\n",
            "Train Acc top 5:  1.0 Test Acc top 5:  1.0\n",
            "\n"
          ]
        },
        {
          "metadata": {
            "tags": null
          },
          "name": "stderr",
          "output_type": "stream",
          "text": [
            "Training Epoch 4: 100%|██████████| 235/235 [00:25<00:00,  9.26batch/s, loss=0.0406]\n",
            "Testing: 100%|██████████| 40/40 [00:02<00:00, 13.58batch/s, loss=0.0934]\n"
          ]
        },
        {
          "metadata": {
            "tags": null
          },
          "name": "stdout",
          "output_type": "stream",
          "text": [
            "\n",
            "Epoch:  5 Train Loss:  0.0003183575799067815 Train Acc top 1:  1.0 Test Loss:  0.0007473090273793786 Test Acc top 1:  0.982\n",
            "Train Acc top 5:  1.0 Test Acc top 5:  1.0\n",
            "\n"
          ]
        },
        {
          "metadata": {
            "tags": null
          },
          "name": "stderr",
          "output_type": "stream",
          "text": [
            "Training Epoch 5: 100%|██████████| 235/235 [00:25<00:00,  9.12batch/s, loss=0.0404]\n",
            "Testing: 100%|██████████| 40/40 [00:02<00:00, 13.56batch/s, loss=0.0944]\n"
          ]
        },
        {
          "metadata": {
            "tags": null
          },
          "name": "stdout",
          "output_type": "stream",
          "text": [
            "\n",
            "Epoch:  6 Train Loss:  0.00031629526217778525 Train Acc top 1:  1.0 Test Loss:  0.0007549953069537877 Test Acc top 1:  0.982\n",
            "Train Acc top 5:  1.0 Test Acc top 5:  1.0\n",
            "\n"
          ]
        },
        {
          "metadata": {
            "tags": null
          },
          "name": "stderr",
          "output_type": "stream",
          "text": [
            "Training Epoch 6: 100%|██████████| 235/235 [00:25<00:00,  9.22batch/s, loss=0.04]\n",
            "Testing: 100%|██████████| 40/40 [00:02<00:00, 13.39batch/s, loss=0.124]\n"
          ]
        },
        {
          "metadata": {
            "tags": null
          },
          "name": "stdout",
          "output_type": "stream",
          "text": [
            "\n",
            "Epoch:  7 Train Loss:  0.00031348356852928797 Train Acc top 1:  1.0 Test Loss:  0.000991420132247731 Test Acc top 1:  0.9818\n",
            "Train Acc top 5:  1.0 Test Acc top 5:  1.0\n",
            "\n"
          ]
        },
        {
          "metadata": {
            "tags": null
          },
          "name": "stderr",
          "output_type": "stream",
          "text": [
            "Training Epoch 7: 100%|██████████| 235/235 [00:26<00:00,  8.89batch/s, loss=0.0397]\n",
            "Testing: 100%|██████████| 40/40 [00:03<00:00, 11.79batch/s, loss=0.0945]\n"
          ]
        },
        {
          "metadata": {
            "tags": null
          },
          "name": "stdout",
          "output_type": "stream",
          "text": [
            "\n",
            "Epoch:  8 Train Loss:  0.000311209711804986 Train Acc top 1:  1.0 Test Loss:  0.0007557072094874456 Test Acc top 1:  0.9822\n",
            "Train Acc top 5:  1.0 Test Acc top 5:  1.0\n",
            "\n"
          ]
        },
        {
          "metadata": {
            "tags": null
          },
          "name": "stderr",
          "output_type": "stream",
          "text": [
            "Training Epoch 8: 100%|██████████| 235/235 [00:26<00:00,  8.98batch/s, loss=0.0394]\n",
            "Testing: 100%|██████████| 40/40 [00:03<00:00, 11.75batch/s, loss=0.0929]\n"
          ]
        },
        {
          "metadata": {
            "tags": null
          },
          "name": "stdout",
          "output_type": "stream",
          "text": [
            "\n",
            "Epoch:  9 Train Loss:  0.00030832649419705073 Train Acc top 1:  1.0 Test Loss:  0.0007435109553858638 Test Acc top 1:  0.9816\n",
            "Train Acc top 5:  1.0 Test Acc top 5:  1.0\n",
            "\n"
          ]
        },
        {
          "metadata": {
            "tags": null
          },
          "name": "stderr",
          "output_type": "stream",
          "text": [
            "Training Epoch 9: 100%|██████████| 235/235 [00:26<00:00,  8.90batch/s, loss=0.039]\n",
            "Testing: 100%|██████████| 40/40 [00:02<00:00, 13.44batch/s, loss=0.0931]\n"
          ]
        },
        {
          "metadata": {
            "tags": null
          },
          "name": "stdout",
          "output_type": "stream",
          "text": [
            "\n",
            "Epoch:  10 Train Loss:  0.00030580834212402504 Train Acc top 1:  1.0 Test Loss:  0.0007451659041456878 Test Acc top 1:  0.982\n",
            "Train Acc top 5:  1.0 Test Acc top 5:  1.0\n",
            "\n"
          ]
        },
        {
          "metadata": {
            "tags": null
          },
          "name": "stderr",
          "output_type": "stream",
          "text": [
            "Training Epoch 10: 100%|██████████| 235/235 [00:24<00:00,  9.50batch/s, loss=0.0388]\n",
            "Testing: 100%|██████████| 40/40 [00:02<00:00, 13.87batch/s, loss=0.0944]\n"
          ]
        },
        {
          "metadata": {
            "tags": null
          },
          "name": "stdout",
          "output_type": "stream",
          "text": [
            "\n",
            "Epoch:  11 Train Loss:  0.0003040709091971318 Train Acc top 1:  1.0 Test Loss:  0.0007554195908596739 Test Acc top 1:  0.9816\n",
            "Train Acc top 5:  1.0 Test Acc top 5:  1.0\n",
            "\n"
          ]
        },
        {
          "metadata": {
            "tags": null
          },
          "name": "stderr",
          "output_type": "stream",
          "text": [
            "Training Epoch 11: 100%|██████████| 235/235 [00:24<00:00,  9.65batch/s, loss=0.0384]\n",
            "Testing: 100%|██████████| 40/40 [00:02<00:00, 14.11batch/s, loss=0.0947]\n"
          ]
        },
        {
          "metadata": {
            "tags": null
          },
          "name": "stdout",
          "output_type": "stream",
          "text": [
            "\n",
            "Epoch:  12 Train Loss:  0.00030065006675819556 Train Acc top 1:  1.0 Test Loss:  0.0007579910842236132 Test Acc top 1:  0.9816\n",
            "Train Acc top 5:  1.0 Test Acc top 5:  1.0\n",
            "\n"
          ]
        },
        {
          "metadata": {
            "tags": null
          },
          "name": "stderr",
          "output_type": "stream",
          "text": [
            "Training Epoch 12: 100%|██████████| 235/235 [00:23<00:00,  9.87batch/s, loss=0.0381]\n",
            "Testing: 100%|██████████| 40/40 [00:02<00:00, 13.45batch/s, loss=0.104]\n"
          ]
        },
        {
          "metadata": {
            "tags": null
          },
          "name": "stdout",
          "output_type": "stream",
          "text": [
            "\n",
            "Epoch:  13 Train Loss:  0.0002981422372162342 Train Acc top 1:  1.0 Test Loss:  0.0008298686368390918 Test Acc top 1:  0.9822\n",
            "Train Acc top 5:  1.0 Test Acc top 5:  1.0\n",
            "\n"
          ]
        },
        {
          "metadata": {
            "tags": null
          },
          "name": "stderr",
          "output_type": "stream",
          "text": [
            "Training Epoch 13: 100%|██████████| 235/235 [00:24<00:00,  9.75batch/s, loss=0.0379]\n",
            "Testing: 100%|██████████| 40/40 [00:02<00:00, 13.81batch/s, loss=0.0945]\n"
          ]
        },
        {
          "metadata": {
            "tags": null
          },
          "name": "stdout",
          "output_type": "stream",
          "text": [
            "\n",
            "Epoch:  14 Train Loss:  0.0002970054032901923 Train Acc top 1:  1.0 Test Loss:  0.0007556721351807937 Test Acc top 1:  0.9812\n",
            "Train Acc top 5:  1.0 Test Acc top 5:  1.0\n",
            "\n"
          ]
        },
        {
          "metadata": {
            "tags": null
          },
          "name": "stderr",
          "output_type": "stream",
          "text": [
            "Training Epoch 14: 100%|██████████| 235/235 [00:24<00:00,  9.70batch/s, loss=0.0376]\n",
            "Testing: 100%|██████████| 40/40 [00:03<00:00, 13.32batch/s, loss=0.118]\n"
          ]
        },
        {
          "metadata": {
            "tags": null
          },
          "name": "stdout",
          "output_type": "stream",
          "text": [
            "\n",
            "Epoch:  15 Train Loss:  0.000294782014315327 Train Acc top 1:  1.0 Test Loss:  0.0009411612333729863 Test Acc top 1:  0.9812\n",
            "Train Acc top 5:  1.0 Test Acc top 5:  1.0\n",
            "\n"
          ]
        },
        {
          "metadata": {
            "tags": null
          },
          "name": "stderr",
          "output_type": "stream",
          "text": [
            "Training Epoch 15: 100%|██████████| 235/235 [00:23<00:00,  9.92batch/s, loss=0.0373]\n",
            "Testing: 100%|██████████| 40/40 [00:03<00:00, 12.97batch/s, loss=0.0947]\n"
          ]
        },
        {
          "metadata": {
            "tags": null
          },
          "name": "stdout",
          "output_type": "stream",
          "text": [
            "\n",
            "Epoch:  16 Train Loss:  0.0002918439014504353 Train Acc top 1:  1.0 Test Loss:  0.0007576901139458641 Test Acc top 1:  0.9808\n",
            "Train Acc top 5:  1.0 Test Acc top 5:  1.0\n",
            "\n"
          ]
        },
        {
          "metadata": {
            "tags": null
          },
          "name": "stderr",
          "output_type": "stream",
          "text": [
            "Training Epoch 16: 100%|██████████| 235/235 [00:23<00:00, 10.21batch/s, loss=0.0368]\n",
            "Testing: 100%|██████████| 40/40 [00:02<00:00, 13.63batch/s, loss=0.0921]\n"
          ]
        },
        {
          "metadata": {
            "tags": null
          },
          "name": "stdout",
          "output_type": "stream",
          "text": [
            "\n",
            "Epoch:  17 Train Loss:  0.0002886437928924958 Train Acc top 1:  1.0 Test Loss:  0.0007369187697768211 Test Acc top 1:  0.9822\n",
            "Train Acc top 5:  1.0 Test Acc top 5:  1.0\n",
            "\n"
          ]
        },
        {
          "metadata": {
            "tags": null
          },
          "name": "stderr",
          "output_type": "stream",
          "text": [
            "Training Epoch 17: 100%|██████████| 235/235 [00:23<00:00, 10.07batch/s, loss=0.0365]\n",
            "Testing: 100%|██████████| 40/40 [00:03<00:00, 13.09batch/s, loss=0.0948]\n"
          ]
        },
        {
          "metadata": {
            "tags": null
          },
          "name": "stdout",
          "output_type": "stream",
          "text": [
            "\n",
            "Epoch:  18 Train Loss:  0.0002856040334949891 Train Acc top 1:  1.0 Test Loss:  0.0007583464175928384 Test Acc top 1:  0.9816\n",
            "Train Acc top 5:  1.0 Test Acc top 5:  1.0\n",
            "\n"
          ]
        },
        {
          "metadata": {
            "tags": null
          },
          "name": "stderr",
          "output_type": "stream",
          "text": [
            "Training Epoch 18: 100%|██████████| 235/235 [00:23<00:00, 10.13batch/s, loss=0.0362]\n",
            "Testing: 100%|██████████| 40/40 [00:03<00:00, 12.82batch/s, loss=0.0939]\n"
          ]
        },
        {
          "metadata": {
            "tags": null
          },
          "name": "stdout",
          "output_type": "stream",
          "text": [
            "\n",
            "Epoch:  19 Train Loss:  0.00028375223850210507 Train Acc top 1:  1.0 Test Loss:  0.0007508471722016111 Test Acc top 1:  0.9808\n",
            "Train Acc top 5:  1.0 Test Acc top 5:  1.0\n",
            "\n"
          ]
        },
        {
          "metadata": {
            "tags": null
          },
          "name": "stderr",
          "output_type": "stream",
          "text": [
            "Training Epoch 19: 100%|██████████| 235/235 [00:23<00:00, 10.17batch/s, loss=0.036]\n",
            "Testing: 100%|██████████| 40/40 [00:02<00:00, 13.44batch/s, loss=0.0945]\n"
          ]
        },
        {
          "metadata": {
            "tags": null
          },
          "name": "stdout",
          "output_type": "stream",
          "text": [
            "\n",
            "Epoch:  20 Train Loss:  0.0002818797955910365 Train Acc top 1:  1.0 Test Loss:  0.000755937685444951 Test Acc top 1:  0.981\n",
            "Train Acc top 5:  1.0 Test Acc top 5:  1.0\n",
            "\n"
          ]
        },
        {
          "metadata": {
            "tags": null
          },
          "name": "stderr",
          "output_type": "stream",
          "text": [
            "Training Epoch 20: 100%|██████████| 235/235 [00:23<00:00, 10.20batch/s, loss=0.0357]\n",
            "Testing: 100%|██████████| 40/40 [00:02<00:00, 13.37batch/s, loss=0.0954]\n"
          ]
        },
        {
          "metadata": {
            "tags": null
          },
          "name": "stdout",
          "output_type": "stream",
          "text": [
            "\n",
            "Epoch:  21 Train Loss:  0.0002797876367966334 Train Acc top 1:  1.0 Test Loss:  0.0007634841169696301 Test Acc top 1:  0.9814\n",
            "Train Acc top 5:  1.0 Test Acc top 5:  1.0\n",
            "\n"
          ]
        },
        {
          "metadata": {
            "tags": null
          },
          "name": "stderr",
          "output_type": "stream",
          "text": [
            "Training Epoch 21: 100%|██████████| 235/235 [00:22<00:00, 10.33batch/s, loss=0.0354]\n",
            "Testing: 100%|██████████| 40/40 [00:02<00:00, 13.57batch/s, loss=0.0952]\n"
          ]
        },
        {
          "metadata": {
            "tags": null
          },
          "name": "stdout",
          "output_type": "stream",
          "text": [
            "\n",
            "Epoch:  22 Train Loss:  0.0002774850820501645 Train Acc top 1:  1.0 Test Loss:  0.0007617236881051212 Test Acc top 1:  0.982\n",
            "Train Acc top 5:  1.0 Test Acc top 5:  1.0\n",
            "\n"
          ]
        },
        {
          "metadata": {
            "tags": null
          },
          "name": "stderr",
          "output_type": "stream",
          "text": [
            "Training Epoch 22: 100%|██████████| 235/235 [00:23<00:00,  9.97batch/s, loss=0.0352]\n",
            "Testing: 100%|██████████| 40/40 [00:03<00:00, 13.26batch/s, loss=0.0944]\n"
          ]
        },
        {
          "metadata": {
            "tags": null
          },
          "name": "stdout",
          "output_type": "stream",
          "text": [
            "\n",
            "Epoch:  23 Train Loss:  0.00027565342088540395 Train Acc top 1:  1.0 Test Loss:  0.0007549304814543575 Test Acc top 1:  0.9806\n",
            "Train Acc top 5:  1.0 Test Acc top 5:  1.0\n",
            "\n"
          ]
        },
        {
          "metadata": {
            "tags": null
          },
          "name": "stderr",
          "output_type": "stream",
          "text": [
            "Training Epoch 23: 100%|██████████| 235/235 [00:23<00:00, 10.15batch/s, loss=0.035]\n",
            "Testing: 100%|██████████| 40/40 [00:02<00:00, 13.79batch/s, loss=0.0946]\n"
          ]
        },
        {
          "metadata": {
            "tags": null
          },
          "name": "stdout",
          "output_type": "stream",
          "text": [
            "\n",
            "Epoch:  24 Train Loss:  0.00027420771035055317 Train Acc top 1:  1.0 Test Loss:  0.0007565485042985529 Test Acc top 1:  0.981\n",
            "Train Acc top 5:  1.0 Test Acc top 5:  1.0\n",
            "\n"
          ]
        },
        {
          "metadata": {
            "tags": null
          },
          "name": "stderr",
          "output_type": "stream",
          "text": [
            "Training Epoch 24: 100%|██████████| 235/235 [00:23<00:00, 10.08batch/s, loss=0.0348]\n",
            "Testing: 100%|██████████| 40/40 [00:03<00:00, 12.62batch/s, loss=0.0967]\n"
          ]
        },
        {
          "metadata": {
            "tags": null
          },
          "name": "stdout",
          "output_type": "stream",
          "text": [
            "\n",
            "Epoch:  25 Train Loss:  0.00027245414927601813 Train Acc top 1:  1.0 Test Loss:  0.0007738154127262533 Test Acc top 1:  0.9808\n",
            "Train Acc top 5:  1.0 Test Acc top 5:  1.0\n",
            "\n"
          ]
        },
        {
          "metadata": {
            "tags": null
          },
          "name": "stderr",
          "output_type": "stream",
          "text": [
            "Training Epoch 25: 100%|██████████| 235/235 [00:23<00:00,  9.85batch/s, loss=0.0346]\n",
            "Testing: 100%|██████████| 40/40 [00:03<00:00, 12.63batch/s, loss=0.0947]\n"
          ]
        },
        {
          "metadata": {
            "tags": null
          },
          "name": "stdout",
          "output_type": "stream",
          "text": [
            "\n",
            "Epoch:  26 Train Loss:  0.0002711319511135419 Train Acc top 1:  1.0 Test Loss:  0.0007576918251812458 Test Acc top 1:  0.9818\n",
            "Train Acc top 5:  1.0 Test Acc top 5:  1.0\n",
            "\n"
          ]
        },
        {
          "metadata": {
            "tags": null
          },
          "name": "stderr",
          "output_type": "stream",
          "text": [
            "Training Epoch 26: 100%|██████████| 235/235 [00:23<00:00, 10.07batch/s, loss=0.0344]\n",
            "Testing: 100%|██████████| 40/40 [00:03<00:00, 11.87batch/s, loss=0.0932]\n"
          ]
        },
        {
          "metadata": {
            "tags": null
          },
          "name": "stdout",
          "output_type": "stream",
          "text": [
            "\n",
            "Epoch:  27 Train Loss:  0.00026943656094372275 Train Acc top 1:  1.0 Test Loss:  0.0007454442892223597 Test Acc top 1:  0.9814\n",
            "Train Acc top 5:  1.0 Test Acc top 5:  1.0\n",
            "\n"
          ]
        },
        {
          "metadata": {
            "tags": null
          },
          "name": "stderr",
          "output_type": "stream",
          "text": [
            "Training Epoch 27: 100%|██████████| 235/235 [00:23<00:00,  9.91batch/s, loss=0.0341]\n",
            "Testing: 100%|██████████| 40/40 [00:03<00:00, 11.33batch/s, loss=0.0938]\n"
          ]
        },
        {
          "metadata": {
            "tags": null
          },
          "name": "stdout",
          "output_type": "stream",
          "text": [
            "\n",
            "Epoch:  28 Train Loss:  0.0002671486262232065 Train Acc top 1:  1.0 Test Loss:  0.000750341542204842 Test Acc top 1:  0.9814\n",
            "Train Acc top 5:  1.0 Test Acc top 5:  1.0\n",
            "\n"
          ]
        },
        {
          "metadata": {
            "tags": null
          },
          "name": "stderr",
          "output_type": "stream",
          "text": [
            "Training Epoch 28: 100%|██████████| 235/235 [00:22<00:00, 10.36batch/s, loss=0.0338]\n",
            "Testing: 100%|██████████| 40/40 [00:03<00:00, 12.07batch/s, loss=0.0962]\n"
          ]
        },
        {
          "metadata": {
            "tags": null
          },
          "name": "stdout",
          "output_type": "stream",
          "text": [
            "\n",
            "Epoch:  29 Train Loss:  0.0002650461807847023 Train Acc top 1:  1.0 Test Loss:  0.0007699236700311303 Test Acc top 1:  0.9816\n",
            "Train Acc top 5:  1.0 Test Acc top 5:  1.0\n",
            "\n"
          ]
        },
        {
          "metadata": {
            "tags": null
          },
          "name": "stderr",
          "output_type": "stream",
          "text": [
            "Training Epoch 29: 100%|██████████| 235/235 [00:23<00:00, 10.20batch/s, loss=0.0336]\n",
            "Testing: 100%|██████████| 40/40 [00:03<00:00, 11.99batch/s, loss=0.0945]"
          ]
        },
        {
          "metadata": {
            "tags": null
          },
          "name": "stdout",
          "output_type": "stream",
          "text": [
            "\n",
            "Epoch:  30 Train Loss:  0.000263038324440519 Train Acc top 1:  1.0 Test Loss:  0.0007561044743517413 Test Acc top 1:  0.981\n",
            "Train Acc top 5:  1.0 Test Acc top 5:  1.0\n",
            "\n"
          ]
        },
        {
          "metadata": {
            "tags": null
          },
          "name": "stderr",
          "output_type": "stream",
          "text": [
            "\n"
          ]
        },
        {
          "data": {
            "text/html": [
              "Waiting for W&B process to finish... <strong style=\"color:green\">(success).</strong>"
            ],
            "text/plain": [
              "<IPython.core.display.HTML object>"
            ]
          },
          "metadata": {},
          "output_type": "display_data"
        },
        {
          "data": {
            "application/vnd.jupyter.widget-view+json": {
              "model_id": "e17cb51c7236421b823f7732a7957df8",
              "version_major": 2,
              "version_minor": 0
            },
            "text/plain": [
              "VBox(children=(Label(value='0.001 MB of 0.001 MB uploaded (0.000 MB deduped)\\r'), FloatProgress(value=1.0, max…"
            ]
          },
          "metadata": {},
          "output_type": "display_data"
        },
        {
          "data": {
            "text/html": [
              "<style>\n",
              "    table.wandb td:nth-child(1) { padding: 0 10px; text-align: left ; width: auto;} td:nth-child(2) {text-align: left ; width: 100%}\n",
              "    .wandb-row { display: flex; flex-direction: row; flex-wrap: wrap; justify-content: flex-start; width: 100% }\n",
              "    .wandb-col { display: flex; flex-direction: column; flex-basis: 100%; flex: 1; padding: 10px; }\n",
              "    </style>\n",
              "<div class=\"wandb-row\"><div class=\"wandb-col\"><h3>Run history:</h3><br/><table class=\"wandb\"><tr><td>epoch</td><td>▁▁▁▂▂▂▂▃▃▃▃▄▄▄▄▅▅▅▅▆▆▆▆▇▇▇▇███</td></tr><tr><td>test_acc</td><td>█▆▆▇▆▆▅▇▅▆▅▅▇▃▃▂▇▅▂▂▄▆▁▂▂▅▄▄▅▂</td></tr><tr><td>test_loss</td><td>▁▂▁▂▁▁█▂▁▁▂▂▄▂▇▂▁▂▁▂▂▂▁▂▂▂▁▁▂▂</td></tr><tr><td>train_acc_top1</td><td>▁▁▁▁▁▁▁▁▁▁▁▁▁▁▁▁▁▁▁▁▁▁▁▁▁▁▁▁▁▁</td></tr><tr><td>train_loss</td><td>██▇▇▇▇▆▆▆▅▅▅▅▅▄▄▄▃▃▃▃▂▂▂▂▂▂▁▁▁</td></tr></table><br/></div><div class=\"wandb-col\"><h3>Run summary:</h3><br/><table class=\"wandb\"><tr><td>epoch</td><td>29</td></tr><tr><td>test_acc</td><td>0.981</td></tr><tr><td>test_loss</td><td>0.00076</td></tr><tr><td>train_acc_top1</td><td>1.0</td></tr><tr><td>train_loss</td><td>0.03358</td></tr></table><br/></div></div>"
            ],
            "text/plain": [
              "<IPython.core.display.HTML object>"
            ]
          },
          "metadata": {},
          "output_type": "display_data"
        },
        {
          "data": {
            "text/html": [
              " View run <strong style=\"color:#cdcd00\">frosty-sweep-22</strong> at: <a href='https://wandb.ai/mukul_dl/final_lab_8/runs/1ftsd2m5' target=\"_blank\">https://wandb.ai/mukul_dl/final_lab_8/runs/1ftsd2m5</a><br/>Synced 5 W&B file(s), 0 media file(s), 0 artifact file(s) and 0 other file(s)"
            ],
            "text/plain": [
              "<IPython.core.display.HTML object>"
            ]
          },
          "metadata": {},
          "output_type": "display_data"
        },
        {
          "data": {
            "text/html": [
              "Find logs at: <code>./wandb/run-20230417_175036-1ftsd2m5/logs</code>"
            ],
            "text/plain": [
              "<IPython.core.display.HTML object>"
            ]
          },
          "metadata": {},
          "output_type": "display_data"
        },
        {
          "metadata": {
            "tags": null
          },
          "name": "stderr",
          "output_type": "stream",
          "text": [
            "\u001b[34m\u001b[1mwandb\u001b[0m: Agent Starting Run: e6ntkvhs with config:\n",
            "\u001b[34m\u001b[1mwandb\u001b[0m: \tactivation: ReLU\n",
            "\u001b[34m\u001b[1mwandb\u001b[0m: \tlearning_rate: 0.0003\n",
            "\u001b[34m\u001b[1mwandb\u001b[0m: \toptimizer: SGD\n",
            "\u001b[34m\u001b[1mwandb\u001b[0m: \u001b[33mWARNING\u001b[0m Ignored wandb.init() arg project when running a sweep.\n"
          ]
        },
        {
          "data": {
            "text/html": [
              "Tracking run with wandb version 0.14.2"
            ],
            "text/plain": [
              "<IPython.core.display.HTML object>"
            ]
          },
          "metadata": {},
          "output_type": "display_data"
        },
        {
          "data": {
            "text/html": [
              "Run data is saved locally in <code>/content/wandb/run-20230417_180434-e6ntkvhs</code>"
            ],
            "text/plain": [
              "<IPython.core.display.HTML object>"
            ]
          },
          "metadata": {},
          "output_type": "display_data"
        },
        {
          "data": {
            "text/html": [
              "Syncing run <strong><a href='https://wandb.ai/mukul_dl/final_lab_8/runs/e6ntkvhs' target=\"_blank\">dry-sweep-23</a></strong> to <a href='https://wandb.ai/mukul_dl/final_lab_8' target=\"_blank\">Weights & Biases</a> (<a href='https://wandb.me/run' target=\"_blank\">docs</a>)<br/>Sweep page: <a href='https://wandb.ai/mukul_dl/final_lab_8/sweeps/rxkozgms' target=\"_blank\">https://wandb.ai/mukul_dl/final_lab_8/sweeps/rxkozgms</a>"
            ],
            "text/plain": [
              "<IPython.core.display.HTML object>"
            ]
          },
          "metadata": {},
          "output_type": "display_data"
        },
        {
          "data": {
            "text/html": [
              " View project at <a href='https://wandb.ai/mukul_dl/final_lab_8' target=\"_blank\">https://wandb.ai/mukul_dl/final_lab_8</a>"
            ],
            "text/plain": [
              "<IPython.core.display.HTML object>"
            ]
          },
          "metadata": {},
          "output_type": "display_data"
        },
        {
          "data": {
            "text/html": [
              " View sweep at <a href='https://wandb.ai/mukul_dl/final_lab_8/sweeps/rxkozgms' target=\"_blank\">https://wandb.ai/mukul_dl/final_lab_8/sweeps/rxkozgms</a>"
            ],
            "text/plain": [
              "<IPython.core.display.HTML object>"
            ]
          },
          "metadata": {},
          "output_type": "display_data"
        },
        {
          "data": {
            "text/html": [
              " View run at <a href='https://wandb.ai/mukul_dl/final_lab_8/runs/e6ntkvhs' target=\"_blank\">https://wandb.ai/mukul_dl/final_lab_8/runs/e6ntkvhs</a>"
            ],
            "text/plain": [
              "<IPython.core.display.HTML object>"
            ]
          },
          "metadata": {},
          "output_type": "display_data"
        },
        {
          "metadata": {
            "tags": null
          },
          "name": "stderr",
          "output_type": "stream",
          "text": [
            "Training Epoch 0: 100%|██████████| 235/235 [00:23<00:00,  9.82batch/s, loss=0.0335]\n",
            "Testing: 100%|██████████| 40/40 [00:03<00:00, 13.03batch/s, loss=0.0949]\n"
          ]
        },
        {
          "metadata": {
            "tags": null
          },
          "name": "stdout",
          "output_type": "stream",
          "text": [
            "\n",
            "Epoch:  1 Train Loss:  0.0002622860840211312 Train Acc top 1:  1.0 Test Loss:  0.0007591833716258406 Test Acc top 1:  0.9816\n",
            "Train Acc top 5:  1.0 Test Acc top 5:  1.0\n",
            "\n"
          ]
        },
        {
          "metadata": {
            "tags": null
          },
          "name": "stderr",
          "output_type": "stream",
          "text": [
            "Training Epoch 1: 100%|██████████| 235/235 [00:23<00:00,  9.93batch/s, loss=0.0334]\n",
            "Testing: 100%|██████████| 40/40 [00:03<00:00, 12.91batch/s, loss=0.0946]\n"
          ]
        },
        {
          "metadata": {
            "tags": null
          },
          "name": "stdout",
          "output_type": "stream",
          "text": [
            "\n",
            "Epoch:  2 Train Loss:  0.0002619271645943324 Train Acc top 1:  1.0 Test Loss:  0.0007566336642485112 Test Acc top 1:  0.9812\n",
            "Train Acc top 5:  1.0 Test Acc top 5:  1.0\n",
            "\n"
          ]
        },
        {
          "metadata": {
            "tags": null
          },
          "name": "stderr",
          "output_type": "stream",
          "text": [
            "Training Epoch 2: 100%|██████████| 235/235 [00:24<00:00,  9.58batch/s, loss=0.0334]\n",
            "Testing: 100%|██████████| 40/40 [00:03<00:00, 11.11batch/s, loss=0.0949]\n"
          ]
        },
        {
          "metadata": {
            "tags": null
          },
          "name": "stdout",
          "output_type": "stream",
          "text": [
            "\n",
            "Epoch:  3 Train Loss:  0.0002618184828509887 Train Acc top 1:  1.0 Test Loss:  0.000759358609537594 Test Acc top 1:  0.9822\n",
            "Train Acc top 5:  1.0 Test Acc top 5:  1.0\n",
            "\n"
          ]
        },
        {
          "metadata": {
            "tags": null
          },
          "name": "stderr",
          "output_type": "stream",
          "text": [
            "Training Epoch 3: 100%|██████████| 235/235 [00:25<00:00,  9.37batch/s, loss=0.0335]\n",
            "Testing: 100%|██████████| 40/40 [00:03<00:00, 12.08batch/s, loss=0.095]\n"
          ]
        },
        {
          "metadata": {
            "tags": null
          },
          "name": "stdout",
          "output_type": "stream",
          "text": [
            "\n",
            "Epoch:  4 Train Loss:  0.00026204625107347965 Train Acc top 1:  1.0 Test Loss:  0.0007597523474600166 Test Acc top 1:  0.982\n",
            "Train Acc top 5:  1.0 Test Acc top 5:  1.0\n",
            "\n"
          ]
        },
        {
          "metadata": {
            "tags": null
          },
          "name": "stderr",
          "output_type": "stream",
          "text": [
            "Training Epoch 4: 100%|██████████| 235/235 [00:24<00:00,  9.43batch/s, loss=0.0334]\n",
            "Testing: 100%|██████████| 40/40 [00:03<00:00, 12.97batch/s, loss=0.0931]\n"
          ]
        },
        {
          "metadata": {
            "tags": null
          },
          "name": "stdout",
          "output_type": "stream",
          "text": [
            "\n",
            "Epoch:  5 Train Loss:  0.00026140486064056556 Train Acc top 1:  1.0 Test Loss:  0.0007449157241266221 Test Acc top 1:  0.9822\n",
            "Train Acc top 5:  1.0 Test Acc top 5:  1.0\n",
            "\n"
          ]
        },
        {
          "metadata": {
            "tags": null
          },
          "name": "stderr",
          "output_type": "stream",
          "text": [
            "Training Epoch 5: 100%|██████████| 235/235 [00:26<00:00,  8.98batch/s, loss=0.0333]\n",
            "Testing: 100%|██████████| 40/40 [00:02<00:00, 13.45batch/s, loss=0.0967]\n"
          ]
        },
        {
          "metadata": {
            "tags": null
          },
          "name": "stdout",
          "output_type": "stream",
          "text": [
            "\n",
            "Epoch:  6 Train Loss:  0.00026116423470278583 Train Acc top 1:  1.0 Test Loss:  0.0007732164972927421 Test Acc top 1:  0.9816\n",
            "Train Acc top 5:  1.0 Test Acc top 5:  1.0\n",
            "\n"
          ]
        },
        {
          "metadata": {
            "tags": null
          },
          "name": "stderr",
          "output_type": "stream",
          "text": [
            "Training Epoch 6: 100%|██████████| 235/235 [00:24<00:00,  9.64batch/s, loss=0.0333]\n",
            "Testing: 100%|██████████| 40/40 [00:02<00:00, 13.69batch/s, loss=0.0934]\n"
          ]
        },
        {
          "metadata": {
            "tags": null
          },
          "name": "stdout",
          "output_type": "stream",
          "text": [
            "\n",
            "Epoch:  7 Train Loss:  0.0002611496713012457 Train Acc top 1:  1.0 Test Loss:  0.0007469757598359138 Test Acc top 1:  0.9824\n",
            "Train Acc top 5:  1.0 Test Acc top 5:  1.0\n",
            "\n"
          ]
        },
        {
          "metadata": {
            "tags": null
          },
          "name": "stderr",
          "output_type": "stream",
          "text": [
            "Training Epoch 7: 100%|██████████| 235/235 [00:24<00:00,  9.43batch/s, loss=0.0333]\n",
            "Testing: 100%|██████████| 40/40 [00:02<00:00, 14.10batch/s, loss=0.0937]\n"
          ]
        },
        {
          "metadata": {
            "tags": null
          },
          "name": "stdout",
          "output_type": "stream",
          "text": [
            "\n",
            "Epoch:  8 Train Loss:  0.0002610534610847632 Train Acc top 1:  1.0 Test Loss:  0.0007494766919873655 Test Acc top 1:  0.9824\n",
            "Train Acc top 5:  1.0 Test Acc top 5:  1.0\n",
            "\n"
          ]
        },
        {
          "metadata": {
            "tags": null
          },
          "name": "stderr",
          "output_type": "stream",
          "text": [
            "Training Epoch 8: 100%|██████████| 235/235 [00:23<00:00,  9.94batch/s, loss=0.0333]\n",
            "Testing: 100%|██████████| 40/40 [00:02<00:00, 13.58batch/s, loss=0.0938]\n"
          ]
        },
        {
          "metadata": {
            "tags": null
          },
          "name": "stdout",
          "output_type": "stream",
          "text": [
            "\n",
            "Epoch:  9 Train Loss:  0.00026064381053050357 Train Acc top 1:  1.0 Test Loss:  0.0007504922462627291 Test Acc top 1:  0.9822\n",
            "Train Acc top 5:  1.0 Test Acc top 5:  1.0\n",
            "\n"
          ]
        },
        {
          "metadata": {
            "tags": null
          },
          "name": "stderr",
          "output_type": "stream",
          "text": [
            "Training Epoch 9: 100%|██████████| 235/235 [00:23<00:00,  9.98batch/s, loss=0.0333]\n",
            "Testing: 100%|██████████| 40/40 [00:02<00:00, 14.33batch/s, loss=0.0933]\n"
          ]
        },
        {
          "metadata": {
            "tags": null
          },
          "name": "stdout",
          "output_type": "stream",
          "text": [
            "\n",
            "Epoch:  10 Train Loss:  0.00026089800956348577 Train Acc top 1:  1.0 Test Loss:  0.0007463877863250673 Test Acc top 1:  0.9822\n",
            "Train Acc top 5:  1.0 Test Acc top 5:  1.0\n",
            "\n"
          ]
        },
        {
          "metadata": {
            "tags": null
          },
          "name": "stderr",
          "output_type": "stream",
          "text": [
            "Training Epoch 10: 100%|██████████| 235/235 [00:23<00:00,  9.83batch/s, loss=0.0332]\n",
            "Testing: 100%|██████████| 40/40 [00:02<00:00, 14.17batch/s, loss=0.0917]\n"
          ]
        },
        {
          "metadata": {
            "tags": null
          },
          "name": "stdout",
          "output_type": "stream",
          "text": [
            "\n",
            "Epoch:  11 Train Loss:  0.00025979538448154925 Train Acc top 1:  1.0 Test Loss:  0.0007335986397927627 Test Acc top 1:  0.9826\n",
            "Train Acc top 5:  1.0 Test Acc top 5:  1.0\n",
            "\n"
          ]
        },
        {
          "metadata": {
            "tags": null
          },
          "name": "stderr",
          "output_type": "stream",
          "text": [
            "Training Epoch 11: 100%|██████████| 235/235 [00:24<00:00,  9.72batch/s, loss=0.0332]\n",
            "Testing: 100%|██████████| 40/40 [00:02<00:00, 13.63batch/s, loss=0.0938]\n"
          ]
        },
        {
          "metadata": {
            "tags": null
          },
          "name": "stdout",
          "output_type": "stream",
          "text": [
            "\n",
            "Epoch:  12 Train Loss:  0.00025971503145992753 Train Acc top 1:  1.0 Test Loss:  0.0007501024037599563 Test Acc top 1:  0.982\n",
            "Train Acc top 5:  1.0 Test Acc top 5:  1.0\n",
            "\n"
          ]
        },
        {
          "metadata": {
            "tags": null
          },
          "name": "stderr",
          "output_type": "stream",
          "text": [
            "Training Epoch 12: 100%|██████████| 235/235 [00:23<00:00,  9.81batch/s, loss=0.0331]\n",
            "Testing: 100%|██████████| 40/40 [00:02<00:00, 13.50batch/s, loss=0.0952]\n"
          ]
        },
        {
          "metadata": {
            "tags": null
          },
          "name": "stdout",
          "output_type": "stream",
          "text": [
            "\n",
            "Epoch:  13 Train Loss:  0.0002591465874264638 Train Acc top 1:  1.0 Test Loss:  0.0007616300402209162 Test Acc top 1:  0.982\n",
            "Train Acc top 5:  1.0 Test Acc top 5:  1.0\n",
            "\n"
          ]
        },
        {
          "metadata": {
            "tags": null
          },
          "name": "stderr",
          "output_type": "stream",
          "text": [
            "Training Epoch 13: 100%|██████████| 235/235 [00:23<00:00,  9.98batch/s, loss=0.0331]\n",
            "Testing: 100%|██████████| 40/40 [00:03<00:00, 12.87batch/s, loss=0.107]\n"
          ]
        },
        {
          "metadata": {
            "tags": null
          },
          "name": "stdout",
          "output_type": "stream",
          "text": [
            "\n",
            "Epoch:  14 Train Loss:  0.0002594999523212512 Train Acc top 1:  1.0 Test Loss:  0.0008579277052544057 Test Acc top 1:  0.9822\n",
            "Train Acc top 5:  1.0 Test Acc top 5:  1.0\n",
            "\n"
          ]
        },
        {
          "metadata": {
            "tags": null
          },
          "name": "stderr",
          "output_type": "stream",
          "text": [
            "Training Epoch 14: 100%|██████████| 235/235 [00:23<00:00,  9.93batch/s, loss=0.033]\n",
            "Testing: 100%|██████████| 40/40 [00:03<00:00, 12.77batch/s, loss=0.0933]\n"
          ]
        },
        {
          "metadata": {
            "tags": null
          },
          "name": "stdout",
          "output_type": "stream",
          "text": [
            "\n",
            "Epoch:  15 Train Loss:  0.0002583078060299158 Train Acc top 1:  1.0 Test Loss:  0.0007467277673771605 Test Acc top 1:  0.9824\n",
            "Train Acc top 5:  1.0 Test Acc top 5:  1.0\n",
            "\n"
          ]
        },
        {
          "metadata": {
            "tags": null
          },
          "name": "stderr",
          "output_type": "stream",
          "text": [
            "Training Epoch 15: 100%|██████████| 235/235 [00:23<00:00, 10.16batch/s, loss=0.033]\n",
            "Testing: 100%|██████████| 40/40 [00:03<00:00, 12.36batch/s, loss=0.0933]\n"
          ]
        },
        {
          "metadata": {
            "tags": null
          },
          "name": "stdout",
          "output_type": "stream",
          "text": [
            "\n",
            "Epoch:  16 Train Loss:  0.00025821588275333246 Train Acc top 1:  1.0 Test Loss:  0.0007467520905658603 Test Acc top 1:  0.982\n",
            "Train Acc top 5:  1.0 Test Acc top 5:  1.0\n",
            "\n"
          ]
        },
        {
          "metadata": {
            "tags": null
          },
          "name": "stderr",
          "output_type": "stream",
          "text": [
            "Training Epoch 16: 100%|██████████| 235/235 [00:23<00:00, 10.04batch/s, loss=0.033]\n",
            "Testing: 100%|██████████| 40/40 [00:03<00:00, 11.70batch/s, loss=0.0935]\n"
          ]
        },
        {
          "metadata": {
            "tags": null
          },
          "name": "stdout",
          "output_type": "stream",
          "text": [
            "\n",
            "Epoch:  17 Train Loss:  0.0002582932072381179 Train Acc top 1:  1.0 Test Loss:  0.0007477821555687115 Test Acc top 1:  0.9814\n",
            "Train Acc top 5:  1.0 Test Acc top 5:  1.0\n",
            "\n"
          ]
        },
        {
          "metadata": {
            "tags": null
          },
          "name": "stderr",
          "output_type": "stream",
          "text": [
            "Training Epoch 17: 100%|██████████| 235/235 [00:22<00:00, 10.36batch/s, loss=0.033]\n",
            "Testing: 100%|██████████| 40/40 [00:03<00:00, 12.05batch/s, loss=0.0914]\n"
          ]
        },
        {
          "metadata": {
            "tags": null
          },
          "name": "stdout",
          "output_type": "stream",
          "text": [
            "\n",
            "Epoch:  18 Train Loss:  0.0002586544434229533 Train Acc top 1:  1.0 Test Loss:  0.000730862204078585 Test Acc top 1:  0.9822\n",
            "Train Acc top 5:  1.0 Test Acc top 5:  1.0\n",
            "\n"
          ]
        },
        {
          "metadata": {
            "tags": null
          },
          "name": "stderr",
          "output_type": "stream",
          "text": [
            "Training Epoch 18: 100%|██████████| 235/235 [00:23<00:00,  9.84batch/s, loss=0.033]\n",
            "Testing: 100%|██████████| 40/40 [00:03<00:00, 10.64batch/s, loss=0.0931]\n"
          ]
        },
        {
          "metadata": {
            "tags": null
          },
          "name": "stdout",
          "output_type": "stream",
          "text": [
            "\n",
            "Epoch:  19 Train Loss:  0.0002586084132393201 Train Acc top 1:  1.0 Test Loss:  0.0007449981587938964 Test Acc top 1:  0.981\n",
            "Train Acc top 5:  1.0 Test Acc top 5:  1.0\n",
            "\n"
          ]
        },
        {
          "metadata": {
            "tags": null
          },
          "name": "stderr",
          "output_type": "stream",
          "text": [
            "Training Epoch 19: 100%|██████████| 235/235 [00:22<00:00, 10.22batch/s, loss=0.0329]\n",
            "Testing: 100%|██████████| 40/40 [00:03<00:00, 11.00batch/s, loss=0.0928]\n"
          ]
        },
        {
          "metadata": {
            "tags": null
          },
          "name": "stdout",
          "output_type": "stream",
          "text": [
            "\n",
            "Epoch:  20 Train Loss:  0.00025770058122773963 Train Acc top 1:  1.0 Test Loss:  0.0007424052181188017 Test Acc top 1:  0.9812\n",
            "Train Acc top 5:  1.0 Test Acc top 5:  1.0\n",
            "\n"
          ]
        },
        {
          "metadata": {
            "tags": null
          },
          "name": "stderr",
          "output_type": "stream",
          "text": [
            "Training Epoch 20: 100%|██████████| 235/235 [00:22<00:00, 10.26batch/s, loss=0.0329]\n",
            "Testing: 100%|██████████| 40/40 [00:03<00:00, 11.30batch/s, loss=0.0931]\n"
          ]
        },
        {
          "metadata": {
            "tags": null
          },
          "name": "stdout",
          "output_type": "stream",
          "text": [
            "\n",
            "Epoch:  21 Train Loss:  0.0002575944962600867 Train Acc top 1:  1.0 Test Loss:  0.0007447553798090666 Test Acc top 1:  0.9816\n",
            "Train Acc top 5:  1.0 Test Acc top 5:  1.0\n",
            "\n"
          ]
        },
        {
          "metadata": {
            "tags": null
          },
          "name": "stderr",
          "output_type": "stream",
          "text": [
            "Training Epoch 21: 100%|██████████| 235/235 [00:22<00:00, 10.39batch/s, loss=0.0328]\n",
            "Testing: 100%|██████████| 40/40 [00:03<00:00, 11.37batch/s, loss=0.0932]\n"
          ]
        },
        {
          "metadata": {
            "tags": null
          },
          "name": "stdout",
          "output_type": "stream",
          "text": [
            "\n",
            "Epoch:  22 Train Loss:  0.0002569871524969737 Train Acc top 1:  1.0 Test Loss:  0.0007452253061812371 Test Acc top 1:  0.9816\n",
            "Train Acc top 5:  1.0 Test Acc top 5:  1.0\n",
            "\n"
          ]
        },
        {
          "metadata": {
            "tags": null
          },
          "name": "stderr",
          "output_type": "stream",
          "text": [
            "Training Epoch 22: 100%|██████████| 235/235 [00:22<00:00, 10.39batch/s, loss=0.0328]\n",
            "Testing: 100%|██████████| 40/40 [00:03<00:00, 11.40batch/s, loss=0.114]\n"
          ]
        },
        {
          "metadata": {
            "tags": null
          },
          "name": "stdout",
          "output_type": "stream",
          "text": [
            "\n",
            "Epoch:  23 Train Loss:  0.0002572298102080822 Train Acc top 1:  1.0 Test Loss:  0.0009084249048028142 Test Acc top 1:  0.9816\n",
            "Train Acc top 5:  1.0 Test Acc top 5:  1.0\n",
            "\n"
          ]
        },
        {
          "metadata": {
            "tags": null
          },
          "name": "stderr",
          "output_type": "stream",
          "text": [
            "Training Epoch 23: 100%|██████████| 235/235 [00:22<00:00, 10.34batch/s, loss=0.0327]\n",
            "Testing: 100%|██████████| 40/40 [00:03<00:00, 11.62batch/s, loss=0.0955]\n"
          ]
        },
        {
          "metadata": {
            "tags": null
          },
          "name": "stdout",
          "output_type": "stream",
          "text": [
            "\n",
            "Epoch:  24 Train Loss:  0.00025645209675033886 Train Acc top 1:  1.0 Test Loss:  0.000763649930479005 Test Acc top 1:  0.9816\n",
            "Train Acc top 5:  1.0 Test Acc top 5:  1.0\n",
            "\n"
          ]
        },
        {
          "metadata": {
            "tags": null
          },
          "name": "stderr",
          "output_type": "stream",
          "text": [
            "Training Epoch 24: 100%|██████████| 235/235 [00:23<00:00, 10.06batch/s, loss=0.0328]\n",
            "Testing: 100%|██████████| 40/40 [00:03<00:00, 11.37batch/s, loss=0.0928]\n"
          ]
        },
        {
          "metadata": {
            "tags": null
          },
          "name": "stdout",
          "output_type": "stream",
          "text": [
            "\n",
            "Epoch:  25 Train Loss:  0.0002565669005115827 Train Acc top 1:  1.0 Test Loss:  0.0007422581917606294 Test Acc top 1:  0.9818\n",
            "Train Acc top 5:  1.0 Test Acc top 5:  1.0\n",
            "\n"
          ]
        },
        {
          "metadata": {
            "tags": null
          },
          "name": "stderr",
          "output_type": "stream",
          "text": [
            "Training Epoch 25: 100%|██████████| 235/235 [00:24<00:00,  9.43batch/s, loss=0.0327]\n",
            "Testing: 100%|██████████| 40/40 [00:03<00:00, 12.84batch/s, loss=0.094]\n"
          ]
        },
        {
          "metadata": {
            "tags": null
          },
          "name": "stdout",
          "output_type": "stream",
          "text": [
            "\n",
            "Epoch:  26 Train Loss:  0.0002562894803782304 Train Acc top 1:  1.0 Test Loss:  0.0007521297249943018 Test Acc top 1:  0.9818\n",
            "Train Acc top 5:  1.0 Test Acc top 5:  1.0\n",
            "\n"
          ]
        },
        {
          "metadata": {
            "tags": null
          },
          "name": "stderr",
          "output_type": "stream",
          "text": [
            "Training Epoch 26: 100%|██████████| 235/235 [00:24<00:00,  9.43batch/s, loss=0.0327]\n",
            "Testing: 100%|██████████| 40/40 [00:02<00:00, 13.68batch/s, loss=0.0976]\n"
          ]
        },
        {
          "metadata": {
            "tags": null
          },
          "name": "stdout",
          "output_type": "stream",
          "text": [
            "\n",
            "Epoch:  27 Train Loss:  0.0002561993776510159 Train Acc top 1:  1.0 Test Loss:  0.0007811555974651128 Test Acc top 1:  0.9818\n",
            "Train Acc top 5:  1.0 Test Acc top 5:  1.0\n",
            "\n"
          ]
        },
        {
          "metadata": {
            "tags": null
          },
          "name": "stderr",
          "output_type": "stream",
          "text": [
            "Training Epoch 27: 100%|██████████| 235/235 [00:25<00:00,  9.38batch/s, loss=0.0326]\n",
            "Testing: 100%|██████████| 40/40 [00:02<00:00, 14.08batch/s, loss=0.0942]\n"
          ]
        },
        {
          "metadata": {
            "tags": null
          },
          "name": "stdout",
          "output_type": "stream",
          "text": [
            "\n",
            "Epoch:  28 Train Loss:  0.0002556536881874005 Train Acc top 1:  1.0 Test Loss:  0.0007532270092051476 Test Acc top 1:  0.9818\n",
            "Train Acc top 5:  1.0 Test Acc top 5:  1.0\n",
            "\n"
          ]
        },
        {
          "metadata": {
            "tags": null
          },
          "name": "stderr",
          "output_type": "stream",
          "text": [
            "Training Epoch 28: 100%|██████████| 235/235 [00:23<00:00,  9.81batch/s, loss=0.0326]\n",
            "Testing: 100%|██████████| 40/40 [00:02<00:00, 14.36batch/s, loss=0.0937]\n"
          ]
        },
        {
          "metadata": {
            "tags": null
          },
          "name": "stdout",
          "output_type": "stream",
          "text": [
            "\n",
            "Epoch:  29 Train Loss:  0.00025545195875068503 Train Acc top 1:  1.0 Test Loss:  0.0007499910577666015 Test Acc top 1:  0.9814\n",
            "Train Acc top 5:  1.0 Test Acc top 5:  1.0\n",
            "\n"
          ]
        },
        {
          "metadata": {
            "tags": null
          },
          "name": "stderr",
          "output_type": "stream",
          "text": [
            "Training Epoch 29: 100%|██████████| 235/235 [00:23<00:00, 10.11batch/s, loss=0.0326]\n",
            "Testing: 100%|██████████| 40/40 [00:02<00:00, 14.20batch/s, loss=0.0925]"
          ]
        },
        {
          "metadata": {
            "tags": null
          },
          "name": "stdout",
          "output_type": "stream",
          "text": [
            "\n",
            "Epoch:  30 Train Loss:  0.00025508082086841266 Train Acc top 1:  1.0 Test Loss:  0.0007397707913536578 Test Acc top 1:  0.9818\n",
            "Train Acc top 5:  1.0 Test Acc top 5:  1.0\n",
            "\n"
          ]
        },
        {
          "metadata": {
            "tags": null
          },
          "name": "stderr",
          "output_type": "stream",
          "text": [
            "\n"
          ]
        },
        {
          "data": {
            "text/html": [
              "Waiting for W&B process to finish... <strong style=\"color:green\">(success).</strong>"
            ],
            "text/plain": [
              "<IPython.core.display.HTML object>"
            ]
          },
          "metadata": {},
          "output_type": "display_data"
        },
        {
          "data": {
            "application/vnd.jupyter.widget-view+json": {
              "model_id": "159c96a0da114560af7148fa91d4c327",
              "version_major": 2,
              "version_minor": 0
            },
            "text/plain": [
              "VBox(children=(Label(value='0.001 MB of 0.001 MB uploaded (0.000 MB deduped)\\r'), FloatProgress(value=1.0, max…"
            ]
          },
          "metadata": {},
          "output_type": "display_data"
        },
        {
          "data": {
            "text/html": [
              "<style>\n",
              "    table.wandb td:nth-child(1) { padding: 0 10px; text-align: left ; width: auto;} td:nth-child(2) {text-align: left ; width: 100%}\n",
              "    .wandb-row { display: flex; flex-direction: row; flex-wrap: wrap; justify-content: flex-start; width: 100% }\n",
              "    .wandb-col { display: flex; flex-direction: column; flex-basis: 100%; flex: 1; padding: 10px; }\n",
              "    </style>\n",
              "<div class=\"wandb-row\"><div class=\"wandb-col\"><h3>Run history:</h3><br/><table class=\"wandb\"><tr><td>epoch</td><td>▁▁▁▂▂▂▂▃▃▃▃▄▄▄▄▅▅▅▅▆▆▆▆▇▇▇▇███</td></tr><tr><td>test_acc</td><td>▄▂▆▅▆▄▇▇▆▆█▅▅▆▇▅▃▆▁▂▄▄▄▄▅▅▅▅▃▅</td></tr><tr><td>test_loss</td><td>▂▂▂▂▂▃▂▂▂▂▁▂▂▆▂▂▂▁▂▁▂▂█▂▁▂▃▂▂▁</td></tr><tr><td>train_acc_top1</td><td>▁▁▁▁▁▁▁▁▁▁▁▁▁▁▁▁▁▁▁▁▁▁▁▁▁▁▁▁▁▁</td></tr><tr><td>train_loss</td><td>████▇▇▇▇▆▇▆▆▅▅▄▄▄▄▄▄▃▃▃▂▂▂▂▂▁▁</td></tr></table><br/></div><div class=\"wandb-col\"><h3>Run summary:</h3><br/><table class=\"wandb\"><tr><td>epoch</td><td>29</td></tr><tr><td>test_acc</td><td>0.9818</td></tr><tr><td>test_loss</td><td>0.00074</td></tr><tr><td>train_acc_top1</td><td>1.0</td></tr><tr><td>train_loss</td><td>0.03256</td></tr></table><br/></div></div>"
            ],
            "text/plain": [
              "<IPython.core.display.HTML object>"
            ]
          },
          "metadata": {},
          "output_type": "display_data"
        },
        {
          "data": {
            "text/html": [
              " View run <strong style=\"color:#cdcd00\">dry-sweep-23</strong> at: <a href='https://wandb.ai/mukul_dl/final_lab_8/runs/e6ntkvhs' target=\"_blank\">https://wandb.ai/mukul_dl/final_lab_8/runs/e6ntkvhs</a><br/>Synced 5 W&B file(s), 0 media file(s), 0 artifact file(s) and 0 other file(s)"
            ],
            "text/plain": [
              "<IPython.core.display.HTML object>"
            ]
          },
          "metadata": {},
          "output_type": "display_data"
        },
        {
          "data": {
            "text/html": [
              "Find logs at: <code>./wandb/run-20230417_180434-e6ntkvhs/logs</code>"
            ],
            "text/plain": [
              "<IPython.core.display.HTML object>"
            ]
          },
          "metadata": {},
          "output_type": "display_data"
        },
        {
          "metadata": {
            "tags": null
          },
          "name": "stderr",
          "output_type": "stream",
          "text": [
            "\u001b[34m\u001b[1mwandb\u001b[0m: Agent Starting Run: gy5molcj with config:\n",
            "\u001b[34m\u001b[1mwandb\u001b[0m: \tactivation: ReLU\n",
            "\u001b[34m\u001b[1mwandb\u001b[0m: \tlearning_rate: 0.0003\n",
            "\u001b[34m\u001b[1mwandb\u001b[0m: \toptimizer: RMSprop\n",
            "\u001b[34m\u001b[1mwandb\u001b[0m: \u001b[33mWARNING\u001b[0m Ignored wandb.init() arg project when running a sweep.\n"
          ]
        },
        {
          "data": {
            "text/html": [
              "Tracking run with wandb version 0.14.2"
            ],
            "text/plain": [
              "<IPython.core.display.HTML object>"
            ]
          },
          "metadata": {},
          "output_type": "display_data"
        },
        {
          "data": {
            "text/html": [
              "Run data is saved locally in <code>/content/wandb/run-20230417_181828-gy5molcj</code>"
            ],
            "text/plain": [
              "<IPython.core.display.HTML object>"
            ]
          },
          "metadata": {},
          "output_type": "display_data"
        },
        {
          "data": {
            "text/html": [
              "Syncing run <strong><a href='https://wandb.ai/mukul_dl/final_lab_8/runs/gy5molcj' target=\"_blank\">devoted-sweep-24</a></strong> to <a href='https://wandb.ai/mukul_dl/final_lab_8' target=\"_blank\">Weights & Biases</a> (<a href='https://wandb.me/run' target=\"_blank\">docs</a>)<br/>Sweep page: <a href='https://wandb.ai/mukul_dl/final_lab_8/sweeps/rxkozgms' target=\"_blank\">https://wandb.ai/mukul_dl/final_lab_8/sweeps/rxkozgms</a>"
            ],
            "text/plain": [
              "<IPython.core.display.HTML object>"
            ]
          },
          "metadata": {},
          "output_type": "display_data"
        },
        {
          "data": {
            "text/html": [
              " View project at <a href='https://wandb.ai/mukul_dl/final_lab_8' target=\"_blank\">https://wandb.ai/mukul_dl/final_lab_8</a>"
            ],
            "text/plain": [
              "<IPython.core.display.HTML object>"
            ]
          },
          "metadata": {},
          "output_type": "display_data"
        },
        {
          "data": {
            "text/html": [
              " View sweep at <a href='https://wandb.ai/mukul_dl/final_lab_8/sweeps/rxkozgms' target=\"_blank\">https://wandb.ai/mukul_dl/final_lab_8/sweeps/rxkozgms</a>"
            ],
            "text/plain": [
              "<IPython.core.display.HTML object>"
            ]
          },
          "metadata": {},
          "output_type": "display_data"
        },
        {
          "data": {
            "text/html": [
              " View run at <a href='https://wandb.ai/mukul_dl/final_lab_8/runs/gy5molcj' target=\"_blank\">https://wandb.ai/mukul_dl/final_lab_8/runs/gy5molcj</a>"
            ],
            "text/plain": [
              "<IPython.core.display.HTML object>"
            ]
          },
          "metadata": {},
          "output_type": "display_data"
        },
        {
          "metadata": {
            "tags": null
          },
          "name": "stderr",
          "output_type": "stream",
          "text": [
            "Training Epoch 0: 100%|██████████| 235/235 [00:24<00:00,  9.49batch/s, loss=0.0692]\n",
            "Testing: 100%|██████████| 40/40 [00:02<00:00, 13.38batch/s, loss=0.0731]\n"
          ]
        },
        {
          "metadata": {
            "tags": null
          },
          "name": "stdout",
          "output_type": "stream",
          "text": [
            "\n",
            "Epoch:  1 Train Loss:  0.0005418021785716215 Train Acc top 1:  0.9891333333333334 Test Loss:  0.0005849336385261268 Test Acc top 1:  0.98\n",
            "Train Acc top 5:  1.0 Test Acc top 5:  1.0\n",
            "\n"
          ]
        },
        {
          "metadata": {
            "tags": null
          },
          "name": "stderr",
          "output_type": "stream",
          "text": [
            "Training Epoch 1: 100%|██████████| 235/235 [00:23<00:00,  9.81batch/s, loss=0.0489]\n",
            "Testing: 100%|██████████| 40/40 [00:02<00:00, 14.11batch/s, loss=0.0821]\n"
          ]
        },
        {
          "metadata": {
            "tags": null
          },
          "name": "stdout",
          "output_type": "stream",
          "text": [
            "\n",
            "Epoch:  2 Train Loss:  0.000383437031134963 Train Acc top 1:  0.9946333333333334 Test Loss:  0.0006569637754233554 Test Acc top 1:  0.9764\n",
            "Train Acc top 5:  1.0 Test Acc top 5:  1.0\n",
            "\n"
          ]
        },
        {
          "metadata": {
            "tags": null
          },
          "name": "stderr",
          "output_type": "stream",
          "text": [
            "Training Epoch 2: 100%|██████████| 235/235 [00:24<00:00,  9.70batch/s, loss=0.0485]\n",
            "Testing: 100%|██████████| 40/40 [00:02<00:00, 13.84batch/s, loss=0.0825]\n"
          ]
        },
        {
          "metadata": {
            "tags": null
          },
          "name": "stdout",
          "output_type": "stream",
          "text": [
            "\n",
            "Epoch:  3 Train Loss:  0.00037970598017175993 Train Acc top 1:  0.9952666666666667 Test Loss:  0.0006601272844243795 Test Acc top 1:  0.9794\n",
            "Train Acc top 5:  1.0 Test Acc top 5:  1.0\n",
            "\n"
          ]
        },
        {
          "metadata": {
            "tags": null
          },
          "name": "stderr",
          "output_type": "stream",
          "text": [
            "Training Epoch 3: 100%|██████████| 235/235 [00:24<00:00,  9.78batch/s, loss=0.0471]\n",
            "Testing: 100%|██████████| 40/40 [00:02<00:00, 14.09batch/s, loss=0.0778]\n"
          ]
        },
        {
          "metadata": {
            "tags": null
          },
          "name": "stdout",
          "output_type": "stream",
          "text": [
            "\n",
            "Epoch:  4 Train Loss:  0.00036931645547350246 Train Acc top 1:  0.9951666666666668 Test Loss:  0.0006226530921179802 Test Acc top 1:  0.9798\n",
            "Train Acc top 5:  1.0 Test Acc top 5:  1.0\n",
            "\n"
          ]
        },
        {
          "metadata": {
            "tags": null
          },
          "name": "stderr",
          "output_type": "stream",
          "text": [
            "Training Epoch 4: 100%|██████████| 235/235 [00:23<00:00,  9.98batch/s, loss=0.0469]\n",
            "Testing: 100%|██████████| 40/40 [00:02<00:00, 13.95batch/s, loss=0.104]\n"
          ]
        },
        {
          "metadata": {
            "tags": null
          },
          "name": "stdout",
          "output_type": "stream",
          "text": [
            "\n",
            "Epoch:  5 Train Loss:  0.0003676014078160127 Train Acc top 1:  0.9952666666666667 Test Loss:  0.0008327353468164802 Test Acc top 1:  0.9798\n",
            "Train Acc top 5:  1.0 Test Acc top 5:  1.0\n",
            "\n"
          ]
        },
        {
          "metadata": {
            "tags": null
          },
          "name": "stderr",
          "output_type": "stream",
          "text": [
            "Training Epoch 5: 100%|██████████| 235/235 [00:24<00:00,  9.67batch/s, loss=0.0449]\n",
            "Testing: 100%|██████████| 40/40 [00:02<00:00, 14.08batch/s, loss=0.0829]\n"
          ]
        },
        {
          "metadata": {
            "tags": null
          },
          "name": "stdout",
          "output_type": "stream",
          "text": [
            "\n",
            "Epoch:  6 Train Loss:  0.00035208063287039596 Train Acc top 1:  0.9965 Test Loss:  0.0006631732540205121 Test Acc top 1:  0.9798\n",
            "Train Acc top 5:  1.0 Test Acc top 5:  1.0\n",
            "\n"
          ]
        },
        {
          "metadata": {
            "tags": null
          },
          "name": "stderr",
          "output_type": "stream",
          "text": [
            "Training Epoch 6: 100%|██████████| 235/235 [00:24<00:00,  9.78batch/s, loss=0.0442]\n",
            "Testing: 100%|██████████| 40/40 [00:02<00:00, 13.83batch/s, loss=0.0938]\n"
          ]
        },
        {
          "metadata": {
            "tags": null
          },
          "name": "stdout",
          "output_type": "stream",
          "text": [
            "\n",
            "Epoch:  7 Train Loss:  0.00034662068026761216 Train Acc top 1:  0.9967 Test Loss:  0.0007500470306258649 Test Acc top 1:  0.9816\n",
            "Train Acc top 5:  1.0 Test Acc top 5:  1.0\n",
            "\n"
          ]
        },
        {
          "metadata": {
            "tags": null
          },
          "name": "stderr",
          "output_type": "stream",
          "text": [
            "Training Epoch 7: 100%|██████████| 235/235 [00:23<00:00, 10.03batch/s, loss=0.0463]\n",
            "Testing: 100%|██████████| 40/40 [00:02<00:00, 13.69batch/s, loss=0.0809]\n"
          ]
        },
        {
          "metadata": {
            "tags": null
          },
          "name": "stdout",
          "output_type": "stream",
          "text": [
            "\n",
            "Epoch:  8 Train Loss:  0.00036229468025267123 Train Acc top 1:  0.9959 Test Loss:  0.0006471245368942618 Test Acc top 1:  0.9812\n",
            "Train Acc top 5:  1.0 Test Acc top 5:  1.0\n",
            "\n"
          ]
        },
        {
          "metadata": {
            "tags": null
          },
          "name": "stderr",
          "output_type": "stream",
          "text": [
            "Training Epoch 8: 100%|██████████| 235/235 [00:23<00:00, 10.03batch/s, loss=0.0443]\n",
            "Testing: 100%|██████████| 40/40 [00:02<00:00, 13.63batch/s, loss=0.0928]\n"
          ]
        },
        {
          "metadata": {
            "tags": null
          },
          "name": "stdout",
          "output_type": "stream",
          "text": [
            "\n",
            "Epoch:  9 Train Loss:  0.0003468950964510441 Train Acc top 1:  0.9968333333333333 Test Loss:  0.0007421789624262601 Test Acc top 1:  0.979\n",
            "Train Acc top 5:  1.0 Test Acc top 5:  1.0\n",
            "\n"
          ]
        },
        {
          "metadata": {
            "tags": null
          },
          "name": "stderr",
          "output_type": "stream",
          "text": [
            "Training Epoch 9: 100%|██████████| 235/235 [00:23<00:00, 10.10batch/s, loss=0.0455]\n",
            "Testing: 100%|██████████| 40/40 [00:02<00:00, 13.99batch/s, loss=0.101]\n"
          ]
        },
        {
          "metadata": {
            "tags": null
          },
          "name": "stdout",
          "output_type": "stream",
          "text": [
            "\n",
            "Epoch:  10 Train Loss:  0.00035643771116932235 Train Acc top 1:  0.9962333333333334 Test Loss:  0.0008048686755821109 Test Acc top 1:  0.9806\n",
            "Train Acc top 5:  1.0 Test Acc top 5:  1.0\n",
            "\n"
          ]
        },
        {
          "metadata": {
            "tags": null
          },
          "name": "stderr",
          "output_type": "stream",
          "text": [
            "Training Epoch 10: 100%|██████████| 235/235 [00:23<00:00, 10.00batch/s, loss=0.0432]\n",
            "Testing: 100%|██████████| 40/40 [00:03<00:00, 13.18batch/s, loss=0.0895]\n"
          ]
        },
        {
          "metadata": {
            "tags": null
          },
          "name": "stdout",
          "output_type": "stream",
          "text": [
            "\n",
            "Epoch:  11 Train Loss:  0.00033861223186055817 Train Acc top 1:  0.9973333333333334 Test Loss:  0.0007161365252919495 Test Acc top 1:  0.9796\n",
            "Train Acc top 5:  1.0 Test Acc top 5:  1.0\n",
            "\n"
          ]
        },
        {
          "metadata": {
            "tags": null
          },
          "name": "stderr",
          "output_type": "stream",
          "text": [
            "Training Epoch 11: 100%|██████████| 235/235 [00:23<00:00,  9.91batch/s, loss=0.0438]\n",
            "Testing: 100%|██████████| 40/40 [00:03<00:00, 12.31batch/s, loss=0.088]\n"
          ]
        },
        {
          "metadata": {
            "tags": null
          },
          "name": "stdout",
          "output_type": "stream",
          "text": [
            "\n",
            "Epoch:  12 Train Loss:  0.00034291964359581473 Train Acc top 1:  0.9973666666666667 Test Loss:  0.0007038422320969403 Test Acc top 1:  0.98\n",
            "Train Acc top 5:  1.0 Test Acc top 5:  1.0\n",
            "\n"
          ]
        },
        {
          "metadata": {
            "tags": null
          },
          "name": "stderr",
          "output_type": "stream",
          "text": [
            "Training Epoch 12: 100%|██████████| 235/235 [00:23<00:00, 10.02batch/s, loss=0.0447]\n",
            "Testing: 100%|██████████| 40/40 [00:03<00:00, 13.15batch/s, loss=0.0899]\n"
          ]
        },
        {
          "metadata": {
            "tags": null
          },
          "name": "stdout",
          "output_type": "stream",
          "text": [
            "\n",
            "Epoch:  13 Train Loss:  0.0003503904184947411 Train Acc top 1:  0.9969333333333333 Test Loss:  0.0007194479437079281 Test Acc top 1:  0.9792\n",
            "Train Acc top 5:  1.0 Test Acc top 5:  1.0\n",
            "\n"
          ]
        },
        {
          "metadata": {
            "tags": null
          },
          "name": "stderr",
          "output_type": "stream",
          "text": [
            "Training Epoch 13: 100%|██████████| 235/235 [00:23<00:00, 10.12batch/s, loss=0.044]\n",
            "Testing: 100%|██████████| 40/40 [00:03<00:00, 12.58batch/s, loss=0.0933]\n"
          ]
        },
        {
          "metadata": {
            "tags": null
          },
          "name": "stdout",
          "output_type": "stream",
          "text": [
            "\n",
            "Epoch:  14 Train Loss:  0.0003446383545796076 Train Acc top 1:  0.9972333333333334 Test Loss:  0.0007463926302734762 Test Acc top 1:  0.979\n",
            "Train Acc top 5:  1.0 Test Acc top 5:  1.0\n",
            "\n"
          ]
        },
        {
          "metadata": {
            "tags": null
          },
          "name": "stderr",
          "output_type": "stream",
          "text": [
            "Training Epoch 14: 100%|██████████| 235/235 [00:23<00:00, 10.10batch/s, loss=0.0454]\n",
            "Testing: 100%|██████████| 40/40 [00:03<00:00, 12.29batch/s, loss=0.0764]\n"
          ]
        },
        {
          "metadata": {
            "tags": null
          },
          "name": "stdout",
          "output_type": "stream",
          "text": [
            "\n",
            "Epoch:  15 Train Loss:  0.0003554479410250982 Train Acc top 1:  0.9968666666666667 Test Loss:  0.000610879231709987 Test Acc top 1:  0.9822\n",
            "Train Acc top 5:  1.0 Test Acc top 5:  1.0\n",
            "\n"
          ]
        },
        {
          "metadata": {
            "tags": null
          },
          "name": "stderr",
          "output_type": "stream",
          "text": [
            "Training Epoch 15: 100%|██████████| 235/235 [00:22<00:00, 10.25batch/s, loss=0.0432]\n",
            "Testing: 100%|██████████| 40/40 [00:03<00:00, 12.45batch/s, loss=0.0894]\n"
          ]
        },
        {
          "metadata": {
            "tags": null
          },
          "name": "stdout",
          "output_type": "stream",
          "text": [
            "\n",
            "Epoch:  16 Train Loss:  0.00033805279197792214 Train Acc top 1:  0.9977333333333334 Test Loss:  0.0007149836726952345 Test Acc top 1:  0.9794\n",
            "Train Acc top 5:  1.0 Test Acc top 5:  1.0\n",
            "\n"
          ]
        },
        {
          "metadata": {
            "tags": null
          },
          "name": "stderr",
          "output_type": "stream",
          "text": [
            "Training Epoch 16: 100%|██████████| 235/235 [00:22<00:00, 10.30batch/s, loss=0.0452]\n",
            "Testing: 100%|██████████| 40/40 [00:03<00:00, 12.22batch/s, loss=0.0921]\n"
          ]
        },
        {
          "metadata": {
            "tags": null
          },
          "name": "stdout",
          "output_type": "stream",
          "text": [
            "\n",
            "Epoch:  17 Train Loss:  0.00035377704290052254 Train Acc top 1:  0.9971000000000001 Test Loss:  0.0007371791516430676 Test Acc top 1:  0.9792\n",
            "Train Acc top 5:  1.0 Test Acc top 5:  1.0\n",
            "\n"
          ]
        },
        {
          "metadata": {
            "tags": null
          },
          "name": "stderr",
          "output_type": "stream",
          "text": [
            "Training Epoch 17: 100%|██████████| 235/235 [00:23<00:00, 10.09batch/s, loss=0.0442]\n",
            "Testing: 100%|██████████| 40/40 [00:03<00:00, 12.47batch/s, loss=0.0832]\n"
          ]
        },
        {
          "metadata": {
            "tags": null
          },
          "name": "stdout",
          "output_type": "stream",
          "text": [
            "\n",
            "Epoch:  18 Train Loss:  0.0003461769169817368 Train Acc top 1:  0.9971666666666668 Test Loss:  0.0006658694697078317 Test Acc top 1:  0.9774\n",
            "Train Acc top 5:  1.0 Test Acc top 5:  1.0\n",
            "\n"
          ]
        },
        {
          "metadata": {
            "tags": null
          },
          "name": "stderr",
          "output_type": "stream",
          "text": [
            "Training Epoch 18: 100%|██████████| 235/235 [00:22<00:00, 10.33batch/s, loss=0.0433]\n",
            "Testing: 100%|██████████| 40/40 [00:03<00:00, 12.70batch/s, loss=0.0912]\n"
          ]
        },
        {
          "metadata": {
            "tags": null
          },
          "name": "stdout",
          "output_type": "stream",
          "text": [
            "\n",
            "Epoch:  19 Train Loss:  0.0003390195870151122 Train Acc top 1:  0.9977666666666667 Test Loss:  0.0007298086716327816 Test Acc top 1:  0.9804\n",
            "Train Acc top 5:  1.0 Test Acc top 5:  1.0\n",
            "\n"
          ]
        },
        {
          "metadata": {
            "tags": null
          },
          "name": "stderr",
          "output_type": "stream",
          "text": [
            "Training Epoch 19: 100%|██████████| 235/235 [00:23<00:00, 10.11batch/s, loss=0.044]\n",
            "Testing: 100%|██████████| 40/40 [00:03<00:00, 12.81batch/s, loss=0.0956]\n"
          ]
        },
        {
          "metadata": {
            "tags": null
          },
          "name": "stdout",
          "output_type": "stream",
          "text": [
            "\n",
            "Epoch:  20 Train Loss:  0.00034495068714022635 Train Acc top 1:  0.9972666666666667 Test Loss:  0.0007648024994879961 Test Acc top 1:  0.9784\n",
            "Train Acc top 5:  1.0 Test Acc top 5:  1.0\n",
            "\n"
          ]
        },
        {
          "metadata": {
            "tags": null
          },
          "name": "stderr",
          "output_type": "stream",
          "text": [
            "Training Epoch 20: 100%|██████████| 235/235 [00:23<00:00, 10.12batch/s, loss=0.0433]\n",
            "Testing: 100%|██████████| 40/40 [00:03<00:00, 12.29batch/s, loss=0.0906]\n"
          ]
        },
        {
          "metadata": {
            "tags": null
          },
          "name": "stdout",
          "output_type": "stream",
          "text": [
            "\n",
            "Epoch:  21 Train Loss:  0.00033905234610040984 Train Acc top 1:  0.9978 Test Loss:  0.0007247957992600277 Test Acc top 1:  0.9798\n",
            "Train Acc top 5:  1.0 Test Acc top 5:  1.0\n",
            "\n"
          ]
        },
        {
          "metadata": {
            "tags": null
          },
          "name": "stderr",
          "output_type": "stream",
          "text": [
            "Training Epoch 21: 100%|██████████| 235/235 [00:23<00:00, 10.20batch/s, loss=0.0437]\n",
            "Testing: 100%|██████████| 40/40 [00:03<00:00, 12.94batch/s, loss=0.0947]\n"
          ]
        },
        {
          "metadata": {
            "tags": null
          },
          "name": "stdout",
          "output_type": "stream",
          "text": [
            "\n",
            "Epoch:  22 Train Loss:  0.00034243424125015735 Train Acc top 1:  0.9977 Test Loss:  0.0007579882523510605 Test Acc top 1:  0.9794\n",
            "Train Acc top 5:  1.0 Test Acc top 5:  1.0\n",
            "\n"
          ]
        },
        {
          "metadata": {
            "tags": null
          },
          "name": "stderr",
          "output_type": "stream",
          "text": [
            "Training Epoch 22: 100%|██████████| 235/235 [00:22<00:00, 10.26batch/s, loss=0.0457]\n",
            "Testing: 100%|██████████| 40/40 [00:03<00:00, 12.82batch/s, loss=0.0878]\n"
          ]
        },
        {
          "metadata": {
            "tags": null
          },
          "name": "stdout",
          "output_type": "stream",
          "text": [
            "\n",
            "Epoch:  23 Train Loss:  0.00035779649044076603 Train Acc top 1:  0.9972000000000001 Test Loss:  0.000702004177775234 Test Acc top 1:  0.9806\n",
            "Train Acc top 5:  1.0 Test Acc top 5:  1.0\n",
            "\n"
          ]
        },
        {
          "metadata": {
            "tags": null
          },
          "name": "stderr",
          "output_type": "stream",
          "text": [
            "Training Epoch 23: 100%|██████████| 235/235 [00:22<00:00, 10.23batch/s, loss=0.0453]\n",
            "Testing: 100%|██████████| 40/40 [00:03<00:00, 12.76batch/s, loss=0.0879]\n"
          ]
        },
        {
          "metadata": {
            "tags": null
          },
          "name": "stdout",
          "output_type": "stream",
          "text": [
            "\n",
            "Epoch:  24 Train Loss:  0.0003552176744987567 Train Acc top 1:  0.9968666666666667 Test Loss:  0.0007032010929193347 Test Acc top 1:  0.9802\n",
            "Train Acc top 5:  1.0 Test Acc top 5:  1.0\n",
            "\n"
          ]
        },
        {
          "metadata": {
            "tags": null
          },
          "name": "stderr",
          "output_type": "stream",
          "text": [
            "Training Epoch 24: 100%|██████████| 235/235 [00:23<00:00, 10.09batch/s, loss=0.0432]\n",
            "Testing: 100%|██████████| 40/40 [00:03<00:00, 12.64batch/s, loss=0.0972]\n"
          ]
        },
        {
          "metadata": {
            "tags": null
          },
          "name": "stdout",
          "output_type": "stream",
          "text": [
            "\n",
            "Epoch:  25 Train Loss:  0.000338362097988526 Train Acc top 1:  0.998 Test Loss:  0.00077724240119569 Test Acc top 1:  0.9786\n",
            "Train Acc top 5:  1.0 Test Acc top 5:  1.0\n",
            "\n"
          ]
        },
        {
          "metadata": {
            "tags": null
          },
          "name": "stderr",
          "output_type": "stream",
          "text": [
            "Training Epoch 25: 100%|██████████| 235/235 [00:23<00:00, 10.13batch/s, loss=0.0437]\n",
            "Testing: 100%|██████████| 40/40 [00:03<00:00, 13.03batch/s, loss=0.0908]\n"
          ]
        },
        {
          "metadata": {
            "tags": null
          },
          "name": "stdout",
          "output_type": "stream",
          "text": [
            "\n",
            "Epoch:  26 Train Loss:  0.0003423874944448471 Train Acc top 1:  0.9973666666666667 Test Loss:  0.0007265249591320753 Test Acc top 1:  0.9784\n",
            "Train Acc top 5:  1.0 Test Acc top 5:  1.0\n",
            "\n"
          ]
        },
        {
          "metadata": {
            "tags": null
          },
          "name": "stderr",
          "output_type": "stream",
          "text": [
            "Training Epoch 26: 100%|██████████| 235/235 [00:23<00:00, 10.08batch/s, loss=0.0436]\n",
            "Testing: 100%|██████████| 40/40 [00:03<00:00, 12.87batch/s, loss=0.0802]\n"
          ]
        },
        {
          "metadata": {
            "tags": null
          },
          "name": "stdout",
          "output_type": "stream",
          "text": [
            "\n",
            "Epoch:  27 Train Loss:  0.0003412545128415028 Train Acc top 1:  0.9979 Test Loss:  0.0006414975263178349 Test Acc top 1:  0.98\n",
            "Train Acc top 5:  1.0 Test Acc top 5:  1.0\n",
            "\n"
          ]
        },
        {
          "metadata": {
            "tags": null
          },
          "name": "stderr",
          "output_type": "stream",
          "text": [
            "Training Epoch 27: 100%|██████████| 235/235 [00:23<00:00,  9.99batch/s, loss=0.0437]\n",
            "Testing: 100%|██████████| 40/40 [00:02<00:00, 13.42batch/s, loss=0.0814]\n"
          ]
        },
        {
          "metadata": {
            "tags": null
          },
          "name": "stdout",
          "output_type": "stream",
          "text": [
            "\n",
            "Epoch:  28 Train Loss:  0.00034230635923643906 Train Acc top 1:  0.9976666666666667 Test Loss:  0.0006513564591761679 Test Acc top 1:  0.9794\n",
            "Train Acc top 5:  1.0 Test Acc top 5:  1.0\n",
            "\n"
          ]
        },
        {
          "metadata": {
            "tags": null
          },
          "name": "stderr",
          "output_type": "stream",
          "text": [
            "Training Epoch 28: 100%|██████████| 235/235 [00:23<00:00,  9.98batch/s, loss=0.0428]\n",
            "Testing: 100%|██████████| 40/40 [00:03<00:00, 12.57batch/s, loss=0.097]\n"
          ]
        },
        {
          "metadata": {
            "tags": null
          },
          "name": "stdout",
          "output_type": "stream",
          "text": [
            "\n",
            "Epoch:  29 Train Loss:  0.00033542072561879954 Train Acc top 1:  0.9983000000000001 Test Loss:  0.0007756367188179866 Test Acc top 1:  0.9764\n",
            "Train Acc top 5:  1.0 Test Acc top 5:  1.0\n",
            "\n"
          ]
        },
        {
          "metadata": {
            "tags": null
          },
          "name": "stderr",
          "output_type": "stream",
          "text": [
            "Training Epoch 29: 100%|██████████| 235/235 [00:23<00:00, 10.13batch/s, loss=0.0443]\n",
            "Testing: 100%|██████████| 40/40 [00:03<00:00, 12.16batch/s, loss=0.0949]"
          ]
        },
        {
          "metadata": {
            "tags": null
          },
          "name": "stdout",
          "output_type": "stream",
          "text": [
            "\n",
            "Epoch:  30 Train Loss:  0.00034677682432035604 Train Acc top 1:  0.9978 Test Loss:  0.0007594107787590473 Test Acc top 1:  0.9778\n",
            "Train Acc top 5:  1.0 Test Acc top 5:  1.0\n",
            "\n"
          ]
        },
        {
          "metadata": {
            "tags": null
          },
          "name": "stderr",
          "output_type": "stream",
          "text": [
            "\n"
          ]
        },
        {
          "data": {
            "text/html": [
              "Waiting for W&B process to finish... <strong style=\"color:green\">(success).</strong>"
            ],
            "text/plain": [
              "<IPython.core.display.HTML object>"
            ]
          },
          "metadata": {},
          "output_type": "display_data"
        },
        {
          "data": {
            "text/html": [
              "<style>\n",
              "    table.wandb td:nth-child(1) { padding: 0 10px; text-align: left ; width: auto;} td:nth-child(2) {text-align: left ; width: 100%}\n",
              "    .wandb-row { display: flex; flex-direction: row; flex-wrap: wrap; justify-content: flex-start; width: 100% }\n",
              "    .wandb-col { display: flex; flex-direction: column; flex-basis: 100%; flex: 1; padding: 10px; }\n",
              "    </style>\n",
              "<div class=\"wandb-row\"><div class=\"wandb-col\"><h3>Run history:</h3><br/><table class=\"wandb\"><tr><td>epoch</td><td>▁▁▁▂▂▂▂▃▃▃▃▄▄▄▄▅▅▅▅▆▆▆▆▇▇▇▇███</td></tr><tr><td>test_acc</td><td>▅▁▅▅▅▅▇▇▄▆▅▅▄▄█▅▄▂▆▃▅▅▆▆▄▃▅▅▁▃</td></tr><tr><td>test_loss</td><td>▁▃▃▂█▃▆▃▅▇▅▄▅▆▂▅▅▃▅▆▅▆▄▄▆▅▃▃▆▆</td></tr><tr><td>train_acc_top1</td><td>▁▅▆▆▆▇▇▆▇▆▇▇▇▇▇█▇▇█▇██▇▇█▇████</td></tr><tr><td>train_loss</td><td>█▃▃▂▂▂▁▂▁▂▁▁▂▁▂▁▂▁▁▁▁▁▂▂▁▁▁▁▁▁</td></tr></table><br/></div><div class=\"wandb-col\"><h3>Run summary:</h3><br/><table class=\"wandb\"><tr><td>epoch</td><td>29</td></tr><tr><td>test_acc</td><td>0.9778</td></tr><tr><td>test_loss</td><td>0.00076</td></tr><tr><td>train_acc_top1</td><td>0.9978</td></tr><tr><td>train_loss</td><td>0.04427</td></tr></table><br/></div></div>"
            ],
            "text/plain": [
              "<IPython.core.display.HTML object>"
            ]
          },
          "metadata": {},
          "output_type": "display_data"
        },
        {
          "data": {
            "text/html": [
              " View run <strong style=\"color:#cdcd00\">devoted-sweep-24</strong> at: <a href='https://wandb.ai/mukul_dl/final_lab_8/runs/gy5molcj' target=\"_blank\">https://wandb.ai/mukul_dl/final_lab_8/runs/gy5molcj</a><br/>Synced 5 W&B file(s), 0 media file(s), 0 artifact file(s) and 0 other file(s)"
            ],
            "text/plain": [
              "<IPython.core.display.HTML object>"
            ]
          },
          "metadata": {},
          "output_type": "display_data"
        },
        {
          "data": {
            "text/html": [
              "Find logs at: <code>./wandb/run-20230417_181828-gy5molcj/logs</code>"
            ],
            "text/plain": [
              "<IPython.core.display.HTML object>"
            ]
          },
          "metadata": {},
          "output_type": "display_data"
        },
        {
          "metadata": {
            "tags": null
          },
          "name": "stderr",
          "output_type": "stream",
          "text": [
            "\u001b[34m\u001b[1mwandb\u001b[0m: Agent Starting Run: gsl22u36 with config:\n",
            "\u001b[34m\u001b[1mwandb\u001b[0m: \tactivation: Tanh\n",
            "\u001b[34m\u001b[1mwandb\u001b[0m: \tlearning_rate: 1e-05\n",
            "\u001b[34m\u001b[1mwandb\u001b[0m: \toptimizer: Adam\n",
            "\u001b[34m\u001b[1mwandb\u001b[0m: \u001b[33mWARNING\u001b[0m Ignored wandb.init() arg project when running a sweep.\n"
          ]
        },
        {
          "data": {
            "text/html": [
              "Tracking run with wandb version 0.14.2"
            ],
            "text/plain": [
              "<IPython.core.display.HTML object>"
            ]
          },
          "metadata": {},
          "output_type": "display_data"
        },
        {
          "data": {
            "text/html": [
              "Run data is saved locally in <code>/content/wandb/run-20230417_183203-gsl22u36</code>"
            ],
            "text/plain": [
              "<IPython.core.display.HTML object>"
            ]
          },
          "metadata": {},
          "output_type": "display_data"
        },
        {
          "data": {
            "text/html": [
              "Syncing run <strong><a href='https://wandb.ai/mukul_dl/final_lab_8/runs/gsl22u36' target=\"_blank\">bumbling-sweep-25</a></strong> to <a href='https://wandb.ai/mukul_dl/final_lab_8' target=\"_blank\">Weights & Biases</a> (<a href='https://wandb.me/run' target=\"_blank\">docs</a>)<br/>Sweep page: <a href='https://wandb.ai/mukul_dl/final_lab_8/sweeps/rxkozgms' target=\"_blank\">https://wandb.ai/mukul_dl/final_lab_8/sweeps/rxkozgms</a>"
            ],
            "text/plain": [
              "<IPython.core.display.HTML object>"
            ]
          },
          "metadata": {},
          "output_type": "display_data"
        },
        {
          "data": {
            "text/html": [
              " View project at <a href='https://wandb.ai/mukul_dl/final_lab_8' target=\"_blank\">https://wandb.ai/mukul_dl/final_lab_8</a>"
            ],
            "text/plain": [
              "<IPython.core.display.HTML object>"
            ]
          },
          "metadata": {},
          "output_type": "display_data"
        },
        {
          "data": {
            "text/html": [
              " View sweep at <a href='https://wandb.ai/mukul_dl/final_lab_8/sweeps/rxkozgms' target=\"_blank\">https://wandb.ai/mukul_dl/final_lab_8/sweeps/rxkozgms</a>"
            ],
            "text/plain": [
              "<IPython.core.display.HTML object>"
            ]
          },
          "metadata": {},
          "output_type": "display_data"
        },
        {
          "data": {
            "text/html": [
              " View run at <a href='https://wandb.ai/mukul_dl/final_lab_8/runs/gsl22u36' target=\"_blank\">https://wandb.ai/mukul_dl/final_lab_8/runs/gsl22u36</a>"
            ],
            "text/plain": [
              "<IPython.core.display.HTML object>"
            ]
          },
          "metadata": {},
          "output_type": "display_data"
        },
        {
          "metadata": {
            "tags": null
          },
          "name": "stderr",
          "output_type": "stream",
          "text": [
            "Training Epoch 0: 100%|██████████| 235/235 [00:24<00:00,  9.56batch/s, loss=0.0406]\n",
            "Testing: 100%|██████████| 40/40 [00:02<00:00, 14.42batch/s, loss=0.0913]\n"
          ]
        },
        {
          "metadata": {
            "tags": null
          },
          "name": "stdout",
          "output_type": "stream",
          "text": [
            "\n",
            "Epoch:  1 Train Loss:  0.00031767336800694467 Train Acc top 1:  0.9989333333333333 Test Loss:  0.0007302403347566724 Test Acc top 1:  0.9794\n",
            "Train Acc top 5:  1.0 Test Acc top 5:  1.0\n",
            "\n"
          ]
        },
        {
          "metadata": {
            "tags": null
          },
          "name": "stderr",
          "output_type": "stream",
          "text": [
            "Training Epoch 1: 100%|██████████| 235/235 [00:23<00:00,  9.82batch/s, loss=0.0389]\n",
            "Testing: 100%|██████████| 40/40 [00:02<00:00, 14.31batch/s, loss=0.0908]\n"
          ]
        },
        {
          "metadata": {
            "tags": null
          },
          "name": "stdout",
          "output_type": "stream",
          "text": [
            "\n",
            "Epoch:  2 Train Loss:  0.0003051059385140737 Train Acc top 1:  0.9995 Test Loss:  0.0007267818180844188 Test Acc top 1:  0.979\n",
            "Train Acc top 5:  1.0 Test Acc top 5:  1.0\n",
            "\n"
          ]
        },
        {
          "metadata": {
            "tags": null
          },
          "name": "stderr",
          "output_type": "stream",
          "text": [
            "Training Epoch 2: 100%|██████████| 235/235 [00:23<00:00,  9.85batch/s, loss=0.0378]\n",
            "Testing: 100%|██████████| 40/40 [00:02<00:00, 14.59batch/s, loss=0.107]\n"
          ]
        },
        {
          "metadata": {
            "tags": null
          },
          "name": "stdout",
          "output_type": "stream",
          "text": [
            "\n",
            "Epoch:  3 Train Loss:  0.0002960019085556269 Train Acc top 1:  0.9997333333333334 Test Loss:  0.0008599386004731059 Test Acc top 1:  0.9802\n",
            "Train Acc top 5:  1.0 Test Acc top 5:  1.0\n",
            "\n"
          ]
        },
        {
          "metadata": {
            "tags": null
          },
          "name": "stderr",
          "output_type": "stream",
          "text": [
            "Training Epoch 3: 100%|██████████| 235/235 [00:24<00:00,  9.66batch/s, loss=0.0376]\n",
            "Testing: 100%|██████████| 40/40 [00:02<00:00, 13.92batch/s, loss=0.0907]\n"
          ]
        },
        {
          "metadata": {
            "tags": null
          },
          "name": "stdout",
          "output_type": "stream",
          "text": [
            "\n",
            "Epoch:  4 Train Loss:  0.0002946384864548842 Train Acc top 1:  0.9999 Test Loss:  0.0007252315964084118 Test Acc top 1:  0.9796\n",
            "Train Acc top 5:  1.0 Test Acc top 5:  1.0\n",
            "\n"
          ]
        },
        {
          "metadata": {
            "tags": null
          },
          "name": "stderr",
          "output_type": "stream",
          "text": [
            "Training Epoch 4: 100%|██████████| 235/235 [00:25<00:00,  9.30batch/s, loss=0.0373]\n",
            "Testing: 100%|██████████| 40/40 [00:03<00:00, 12.98batch/s, loss=0.0894]\n"
          ]
        },
        {
          "metadata": {
            "tags": null
          },
          "name": "stdout",
          "output_type": "stream",
          "text": [
            "\n",
            "Epoch:  5 Train Loss:  0.0002920025824258725 Train Acc top 1:  0.9999666666666667 Test Loss:  0.0007149206015281379 Test Acc top 1:  0.9806\n",
            "Train Acc top 5:  1.0 Test Acc top 5:  1.0\n",
            "\n"
          ]
        },
        {
          "metadata": {
            "tags": null
          },
          "name": "stderr",
          "output_type": "stream",
          "text": [
            "Training Epoch 5: 100%|██████████| 235/235 [00:24<00:00,  9.50batch/s, loss=0.037]\n",
            "Testing: 100%|██████████| 40/40 [00:03<00:00, 11.02batch/s, loss=0.0913]\n"
          ]
        },
        {
          "metadata": {
            "tags": null
          },
          "name": "stdout",
          "output_type": "stream",
          "text": [
            "\n",
            "Epoch:  6 Train Loss:  0.0002898215344796578 Train Acc top 1:  1.0 Test Loss:  0.0007300107716582716 Test Acc top 1:  0.9804\n",
            "Train Acc top 5:  1.0 Test Acc top 5:  1.0\n",
            "\n"
          ]
        },
        {
          "metadata": {
            "tags": null
          },
          "name": "stderr",
          "output_type": "stream",
          "text": [
            "Training Epoch 6: 100%|██████████| 235/235 [00:26<00:00,  8.97batch/s, loss=0.0369]\n",
            "Testing: 100%|██████████| 40/40 [00:02<00:00, 13.46batch/s, loss=0.0933]\n"
          ]
        },
        {
          "metadata": {
            "tags": null
          },
          "name": "stdout",
          "output_type": "stream",
          "text": [
            "\n",
            "Epoch:  7 Train Loss:  0.00028931503233810263 Train Acc top 1:  1.0 Test Loss:  0.0007465945456642658 Test Acc top 1:  0.9804\n",
            "Train Acc top 5:  1.0 Test Acc top 5:  1.0\n",
            "\n"
          ]
        },
        {
          "metadata": {
            "tags": null
          },
          "name": "stderr",
          "output_type": "stream",
          "text": [
            "Training Epoch 7: 100%|██████████| 235/235 [00:25<00:00,  9.38batch/s, loss=0.0367]\n",
            "Testing: 100%|██████████| 40/40 [00:02<00:00, 13.43batch/s, loss=0.0915]\n"
          ]
        },
        {
          "metadata": {
            "tags": null
          },
          "name": "stdout",
          "output_type": "stream",
          "text": [
            "\n",
            "Epoch:  8 Train Loss:  0.0002878391192605098 Train Acc top 1:  1.0 Test Loss:  0.0007319655416999012 Test Acc top 1:  0.9804\n",
            "Train Acc top 5:  1.0 Test Acc top 5:  1.0\n",
            "\n"
          ]
        },
        {
          "metadata": {
            "tags": null
          },
          "name": "stderr",
          "output_type": "stream",
          "text": [
            "Training Epoch 8: 100%|██████████| 235/235 [00:25<00:00,  9.31batch/s, loss=0.0366]\n",
            "Testing: 100%|██████████| 40/40 [00:02<00:00, 13.51batch/s, loss=0.0929]\n"
          ]
        },
        {
          "metadata": {
            "tags": null
          },
          "name": "stdout",
          "output_type": "stream",
          "text": [
            "\n",
            "Epoch:  9 Train Loss:  0.0002867246667544047 Train Acc top 1:  1.0 Test Loss:  0.0007433313597925008 Test Acc top 1:  0.9806\n",
            "Train Acc top 5:  1.0 Test Acc top 5:  1.0\n",
            "\n"
          ]
        },
        {
          "metadata": {
            "tags": null
          },
          "name": "stderr",
          "output_type": "stream",
          "text": [
            "Training Epoch 9: 100%|██████████| 235/235 [00:24<00:00,  9.52batch/s, loss=0.0366]\n",
            "Testing: 100%|██████████| 40/40 [00:02<00:00, 13.88batch/s, loss=0.0908]\n"
          ]
        },
        {
          "metadata": {
            "tags": null
          },
          "name": "stdout",
          "output_type": "stream",
          "text": [
            "\n",
            "Epoch:  10 Train Loss:  0.0002864251827200254 Train Acc top 1:  1.0 Test Loss:  0.0007265683183446526 Test Acc top 1:  0.9802\n",
            "Train Acc top 5:  1.0 Test Acc top 5:  1.0\n",
            "\n"
          ]
        },
        {
          "metadata": {
            "tags": null
          },
          "name": "stderr",
          "output_type": "stream",
          "text": [
            "Training Epoch 10: 100%|██████████| 235/235 [00:24<00:00,  9.46batch/s, loss=0.0365]\n",
            "Testing: 100%|██████████| 40/40 [00:02<00:00, 13.89batch/s, loss=0.0932]\n"
          ]
        },
        {
          "metadata": {
            "tags": null
          },
          "name": "stdout",
          "output_type": "stream",
          "text": [
            "\n",
            "Epoch:  11 Train Loss:  0.0002855555356790622 Train Acc top 1:  1.0 Test Loss:  0.0007457864777650684 Test Acc top 1:  0.9814\n",
            "Train Acc top 5:  1.0 Test Acc top 5:  1.0\n",
            "\n"
          ]
        },
        {
          "metadata": {
            "tags": null
          },
          "name": "stderr",
          "output_type": "stream",
          "text": [
            "Training Epoch 11: 100%|██████████| 235/235 [00:24<00:00,  9.49batch/s, loss=0.0363]\n",
            "Testing: 100%|██████████| 40/40 [00:02<00:00, 13.59batch/s, loss=0.0917]\n"
          ]
        },
        {
          "metadata": {
            "tags": null
          },
          "name": "stdout",
          "output_type": "stream",
          "text": [
            "\n",
            "Epoch:  12 Train Loss:  0.00028459619109829265 Train Acc top 1:  1.0 Test Loss:  0.0007336379299638793 Test Acc top 1:  0.9814\n",
            "Train Acc top 5:  1.0 Test Acc top 5:  1.0\n",
            "\n"
          ]
        },
        {
          "metadata": {
            "tags": null
          },
          "name": "stderr",
          "output_type": "stream",
          "text": [
            "Training Epoch 12: 100%|██████████| 235/235 [00:24<00:00,  9.70batch/s, loss=0.0362]\n",
            "Testing: 100%|██████████| 40/40 [00:03<00:00, 11.13batch/s, loss=0.0905]\n"
          ]
        },
        {
          "metadata": {
            "tags": null
          },
          "name": "stdout",
          "output_type": "stream",
          "text": [
            "\n",
            "Epoch:  13 Train Loss:  0.00028379643720885116 Train Acc top 1:  1.0 Test Loss:  0.0007236099408473819 Test Acc top 1:  0.9808\n",
            "Train Acc top 5:  1.0 Test Acc top 5:  1.0\n",
            "\n"
          ]
        },
        {
          "metadata": {
            "tags": null
          },
          "name": "stderr",
          "output_type": "stream",
          "text": [
            "Training Epoch 13: 100%|██████████| 235/235 [00:26<00:00,  8.92batch/s, loss=0.0362]\n",
            "Testing: 100%|██████████| 40/40 [00:03<00:00, 12.11batch/s, loss=0.0921]\n"
          ]
        },
        {
          "metadata": {
            "tags": null
          },
          "name": "stdout",
          "output_type": "stream",
          "text": [
            "\n",
            "Epoch:  14 Train Loss:  0.0002835840461154779 Train Acc top 1:  1.0 Test Loss:  0.0007369577154982836 Test Acc top 1:  0.9812\n",
            "Train Acc top 5:  1.0 Test Acc top 5:  1.0\n",
            "\n"
          ]
        },
        {
          "metadata": {
            "tags": null
          },
          "name": "stderr",
          "output_type": "stream",
          "text": [
            "Training Epoch 14: 100%|██████████| 235/235 [00:25<00:00,  9.27batch/s, loss=0.036]\n",
            "Testing: 100%|██████████| 40/40 [00:02<00:00, 13.72batch/s, loss=0.0937]\n"
          ]
        },
        {
          "metadata": {
            "tags": null
          },
          "name": "stdout",
          "output_type": "stream",
          "text": [
            "\n",
            "Epoch:  15 Train Loss:  0.00028215750480691594 Train Acc top 1:  1.0 Test Loss:  0.0007496112599503249 Test Acc top 1:  0.9818\n",
            "Train Acc top 5:  1.0 Test Acc top 5:  1.0\n",
            "\n"
          ]
        },
        {
          "metadata": {
            "tags": null
          },
          "name": "stderr",
          "output_type": "stream",
          "text": [
            "Training Epoch 15: 100%|██████████| 235/235 [00:25<00:00,  9.32batch/s, loss=0.0359]\n",
            "Testing: 100%|██████████| 40/40 [00:02<00:00, 13.59batch/s, loss=0.0939]\n"
          ]
        },
        {
          "metadata": {
            "tags": null
          },
          "name": "stdout",
          "output_type": "stream",
          "text": [
            "\n",
            "Epoch:  16 Train Loss:  0.0002815430539349715 Train Acc top 1:  1.0 Test Loss:  0.000751190430764109 Test Acc top 1:  0.9818\n",
            "Train Acc top 5:  1.0 Test Acc top 5:  1.0\n",
            "\n"
          ]
        },
        {
          "metadata": {
            "tags": null
          },
          "name": "stderr",
          "output_type": "stream",
          "text": [
            "Training Epoch 16: 100%|██████████| 235/235 [00:26<00:00,  8.84batch/s, loss=0.0358]\n",
            "Testing: 100%|██████████| 40/40 [00:02<00:00, 13.36batch/s, loss=0.0923]\n"
          ]
        },
        {
          "metadata": {
            "tags": null
          },
          "name": "stdout",
          "output_type": "stream",
          "text": [
            "\n",
            "Epoch:  17 Train Loss:  0.0002803861368447542 Train Acc top 1:  1.0 Test Loss:  0.00073860071352683 Test Acc top 1:  0.9818\n",
            "Train Acc top 5:  1.0 Test Acc top 5:  1.0\n",
            "\n"
          ]
        },
        {
          "metadata": {
            "tags": null
          },
          "name": "stderr",
          "output_type": "stream",
          "text": [
            "Training Epoch 17: 100%|██████████| 235/235 [00:26<00:00,  8.83batch/s, loss=0.0357]\n",
            "Testing: 100%|██████████| 40/40 [00:03<00:00, 11.75batch/s, loss=0.0926]\n"
          ]
        },
        {
          "metadata": {
            "tags": null
          },
          "name": "stdout",
          "output_type": "stream",
          "text": [
            "\n",
            "Epoch:  18 Train Loss:  0.00027974034994840625 Train Acc top 1:  1.0 Test Loss:  0.0007406090429052711 Test Acc top 1:  0.9814\n",
            "Train Acc top 5:  1.0 Test Acc top 5:  1.0\n",
            "\n"
          ]
        },
        {
          "metadata": {
            "tags": null
          },
          "name": "stderr",
          "output_type": "stream",
          "text": [
            "Training Epoch 18: 100%|██████████| 235/235 [00:26<00:00,  8.91batch/s, loss=0.0356]\n",
            "Testing: 100%|██████████| 40/40 [00:03<00:00, 11.75batch/s, loss=0.0941]\n"
          ]
        },
        {
          "metadata": {
            "tags": null
          },
          "name": "stdout",
          "output_type": "stream",
          "text": [
            "\n",
            "Epoch:  19 Train Loss:  0.00027853729104002317 Train Acc top 1:  1.0 Test Loss:  0.0007528327006381005 Test Acc top 1:  0.9818\n",
            "Train Acc top 5:  1.0 Test Acc top 5:  1.0\n",
            "\n"
          ]
        },
        {
          "metadata": {
            "tags": null
          },
          "name": "stderr",
          "output_type": "stream",
          "text": [
            "Training Epoch 19: 100%|██████████| 235/235 [00:25<00:00,  9.09batch/s, loss=0.0354]\n",
            "Testing: 100%|██████████| 40/40 [00:02<00:00, 13.83batch/s, loss=0.0917]\n"
          ]
        },
        {
          "metadata": {
            "tags": null
          },
          "name": "stdout",
          "output_type": "stream",
          "text": [
            "\n",
            "Epoch:  20 Train Loss:  0.0002773973306020101 Train Acc top 1:  1.0 Test Loss:  0.0007337586770532653 Test Acc top 1:  0.9816\n",
            "Train Acc top 5:  1.0 Test Acc top 5:  1.0\n",
            "\n"
          ]
        },
        {
          "metadata": {
            "tags": null
          },
          "name": "stderr",
          "output_type": "stream",
          "text": [
            "Training Epoch 20: 100%|██████████| 235/235 [00:25<00:00,  9.08batch/s, loss=0.0353]\n",
            "Testing: 100%|██████████| 40/40 [00:02<00:00, 14.04batch/s, loss=0.0939]\n"
          ]
        },
        {
          "metadata": {
            "tags": null
          },
          "name": "stdout",
          "output_type": "stream",
          "text": [
            "\n",
            "Epoch:  21 Train Loss:  0.00027619421432415646 Train Acc top 1:  1.0 Test Loss:  0.0007510054907994345 Test Acc top 1:  0.9816\n",
            "Train Acc top 5:  1.0 Test Acc top 5:  1.0\n",
            "\n"
          ]
        },
        {
          "metadata": {
            "tags": null
          },
          "name": "stderr",
          "output_type": "stream",
          "text": [
            "Training Epoch 21: 100%|██████████| 235/235 [00:24<00:00,  9.43batch/s, loss=0.0351]\n",
            "Testing: 100%|██████████| 40/40 [00:02<00:00, 14.21batch/s, loss=0.0941]\n"
          ]
        },
        {
          "metadata": {
            "tags": null
          },
          "name": "stdout",
          "output_type": "stream",
          "text": [
            "\n",
            "Epoch:  22 Train Loss:  0.00027488781362771986 Train Acc top 1:  1.0 Test Loss:  0.0007525210005231202 Test Acc top 1:  0.9822\n",
            "Train Acc top 5:  1.0 Test Acc top 5:  1.0\n",
            "\n"
          ]
        },
        {
          "metadata": {
            "tags": null
          },
          "name": "stderr",
          "output_type": "stream",
          "text": [
            "Training Epoch 22: 100%|██████████| 235/235 [00:24<00:00,  9.58batch/s, loss=0.035]\n",
            "Testing: 100%|██████████| 40/40 [00:02<00:00, 13.61batch/s, loss=0.0951]\n"
          ]
        },
        {
          "metadata": {
            "tags": null
          },
          "name": "stdout",
          "output_type": "stream",
          "text": [
            "\n",
            "Epoch:  23 Train Loss:  0.0002739049016187588 Train Acc top 1:  1.0 Test Loss:  0.0007606165278237313 Test Acc top 1:  0.9822\n",
            "Train Acc top 5:  1.0 Test Acc top 5:  1.0\n",
            "\n"
          ]
        },
        {
          "metadata": {
            "tags": null
          },
          "name": "stderr",
          "output_type": "stream",
          "text": [
            "Training Epoch 23: 100%|██████████| 235/235 [00:24<00:00,  9.56batch/s, loss=0.0348]\n",
            "Testing: 100%|██████████| 40/40 [00:03<00:00, 12.97batch/s, loss=0.0933]\n"
          ]
        },
        {
          "metadata": {
            "tags": null
          },
          "name": "stdout",
          "output_type": "stream",
          "text": [
            "\n",
            "Epoch:  24 Train Loss:  0.000272900669897596 Train Acc top 1:  1.0 Test Loss:  0.0007466009718133137 Test Acc top 1:  0.9826\n",
            "Train Acc top 5:  1.0 Test Acc top 5:  1.0\n",
            "\n"
          ]
        },
        {
          "metadata": {
            "tags": null
          },
          "name": "stderr",
          "output_type": "stream",
          "text": [
            "Training Epoch 24: 100%|██████████| 235/235 [00:23<00:00,  9.87batch/s, loss=0.0346]\n",
            "Testing: 100%|██████████| 40/40 [00:03<00:00, 12.61batch/s, loss=0.092]\n"
          ]
        },
        {
          "metadata": {
            "tags": null
          },
          "name": "stdout",
          "output_type": "stream",
          "text": [
            "\n",
            "Epoch:  25 Train Loss:  0.00027095733880996706 Train Acc top 1:  1.0 Test Loss:  0.0007359304878860712 Test Acc top 1:  0.9822\n",
            "Train Acc top 5:  1.0 Test Acc top 5:  1.0\n",
            "\n"
          ]
        },
        {
          "metadata": {
            "tags": null
          },
          "name": "stderr",
          "output_type": "stream",
          "text": [
            "Training Epoch 25: 100%|██████████| 235/235 [00:24<00:00,  9.45batch/s, loss=0.0345]\n",
            "Testing: 100%|██████████| 40/40 [00:03<00:00, 11.53batch/s, loss=0.0926]\n"
          ]
        },
        {
          "metadata": {
            "tags": null
          },
          "name": "stdout",
          "output_type": "stream",
          "text": [
            "\n",
            "Epoch:  26 Train Loss:  0.00027032575644552706 Train Acc top 1:  1.0 Test Loss:  0.0007407647488638758 Test Acc top 1:  0.9818\n",
            "Train Acc top 5:  1.0 Test Acc top 5:  1.0\n",
            "\n"
          ]
        },
        {
          "metadata": {
            "tags": null
          },
          "name": "stderr",
          "output_type": "stream",
          "text": [
            "Training Epoch 26: 100%|██████████| 235/235 [00:25<00:00,  9.15batch/s, loss=0.0343]\n",
            "Testing: 100%|██████████| 40/40 [00:02<00:00, 13.81batch/s, loss=0.0936]\n"
          ]
        },
        {
          "metadata": {
            "tags": null
          },
          "name": "stdout",
          "output_type": "stream",
          "text": [
            "\n",
            "Epoch:  27 Train Loss:  0.000268729172522823 Train Acc top 1:  1.0 Test Loss:  0.0007490219749277457 Test Acc top 1:  0.9812\n",
            "Train Acc top 5:  1.0 Test Acc top 5:  1.0\n",
            "\n"
          ]
        },
        {
          "metadata": {
            "tags": null
          },
          "name": "stderr",
          "output_type": "stream",
          "text": [
            "Training Epoch 27: 100%|██████████| 235/235 [00:24<00:00,  9.40batch/s, loss=0.0341]\n",
            "Testing: 100%|██████████| 40/40 [00:02<00:00, 13.34batch/s, loss=0.0936]\n"
          ]
        },
        {
          "metadata": {
            "tags": null
          },
          "name": "stdout",
          "output_type": "stream",
          "text": [
            "\n",
            "Epoch:  28 Train Loss:  0.00026709255414704484 Train Acc top 1:  1.0 Test Loss:  0.000748646986996755 Test Acc top 1:  0.9824\n",
            "Train Acc top 5:  1.0 Test Acc top 5:  1.0\n",
            "\n"
          ]
        },
        {
          "metadata": {
            "tags": null
          },
          "name": "stderr",
          "output_type": "stream",
          "text": [
            "Training Epoch 28: 100%|██████████| 235/235 [00:25<00:00,  9.25batch/s, loss=0.0339]\n",
            "Testing: 100%|██████████| 40/40 [00:02<00:00, 14.01batch/s, loss=0.0932]\n"
          ]
        },
        {
          "metadata": {
            "tags": null
          },
          "name": "stdout",
          "output_type": "stream",
          "text": [
            "\n",
            "Epoch:  29 Train Loss:  0.00026534635399778683 Train Acc top 1:  1.0 Test Loss:  0.0007454348707105964 Test Acc top 1:  0.9826\n",
            "Train Acc top 5:  1.0 Test Acc top 5:  1.0\n",
            "\n"
          ]
        },
        {
          "metadata": {
            "tags": null
          },
          "name": "stderr",
          "output_type": "stream",
          "text": [
            "Training Epoch 29: 100%|██████████| 235/235 [00:25<00:00,  9.18batch/s, loss=0.0337]\n",
            "Testing: 100%|██████████| 40/40 [00:02<00:00, 13.77batch/s, loss=0.117]"
          ]
        },
        {
          "metadata": {
            "tags": null
          },
          "name": "stdout",
          "output_type": "stream",
          "text": [
            "\n",
            "Epoch:  30 Train Loss:  0.00026427191781500976 Train Acc top 1:  1.0 Test Loss:  0.0009322953497525304 Test Acc top 1:  0.9822\n",
            "Train Acc top 5:  1.0 Test Acc top 5:  1.0\n",
            "\n"
          ]
        },
        {
          "metadata": {
            "tags": null
          },
          "name": "stderr",
          "output_type": "stream",
          "text": [
            "\n"
          ]
        },
        {
          "data": {
            "text/html": [
              "Waiting for W&B process to finish... <strong style=\"color:green\">(success).</strong>"
            ],
            "text/plain": [
              "<IPython.core.display.HTML object>"
            ]
          },
          "metadata": {},
          "output_type": "display_data"
        },
        {
          "data": {
            "application/vnd.jupyter.widget-view+json": {
              "model_id": "b8e4e5d509c54cabb6892660fca95c66",
              "version_major": 2,
              "version_minor": 0
            },
            "text/plain": [
              "VBox(children=(Label(value='0.001 MB of 0.001 MB uploaded (0.000 MB deduped)\\r'), FloatProgress(value=1.0, max…"
            ]
          },
          "metadata": {},
          "output_type": "display_data"
        },
        {
          "data": {
            "text/html": [
              "<style>\n",
              "    table.wandb td:nth-child(1) { padding: 0 10px; text-align: left ; width: auto;} td:nth-child(2) {text-align: left ; width: 100%}\n",
              "    .wandb-row { display: flex; flex-direction: row; flex-wrap: wrap; justify-content: flex-start; width: 100% }\n",
              "    .wandb-col { display: flex; flex-direction: column; flex-basis: 100%; flex: 1; padding: 10px; }\n",
              "    </style>\n",
              "<div class=\"wandb-row\"><div class=\"wandb-col\"><h3>Run history:</h3><br/><table class=\"wandb\"><tr><td>epoch</td><td>▁▁▁▂▂▂▂▃▃▃▃▄▄▄▄▅▅▅▅▆▆▆▆▇▇▇▇███</td></tr><tr><td>test_acc</td><td>▂▁▃▂▄▄▄▄▄▃▆▆▅▅▆▆▆▆▆▆▆▇▇█▇▆▅██▇</td></tr><tr><td>test_loss</td><td>▁▁▆▁▁▁▂▂▂▁▂▂▁▂▂▂▂▂▂▂▂▂▂▂▂▂▂▂▂█</td></tr><tr><td>train_acc_top1</td><td>▁▅▆▇██████████████████████████</td></tr><tr><td>train_loss</td><td>█▆▅▅▅▄▄▄▄▄▄▄▄▄▃▃▃▃▃▃▃▂▂▂▂▂▂▁▁▁</td></tr></table><br/></div><div class=\"wandb-col\"><h3>Run summary:</h3><br/><table class=\"wandb\"><tr><td>epoch</td><td>29</td></tr><tr><td>test_acc</td><td>0.9822</td></tr><tr><td>test_loss</td><td>0.00093</td></tr><tr><td>train_acc_top1</td><td>1.0</td></tr><tr><td>train_loss</td><td>0.03374</td></tr></table><br/></div></div>"
            ],
            "text/plain": [
              "<IPython.core.display.HTML object>"
            ]
          },
          "metadata": {},
          "output_type": "display_data"
        },
        {
          "data": {
            "text/html": [
              " View run <strong style=\"color:#cdcd00\">bumbling-sweep-25</strong> at: <a href='https://wandb.ai/mukul_dl/final_lab_8/runs/gsl22u36' target=\"_blank\">https://wandb.ai/mukul_dl/final_lab_8/runs/gsl22u36</a><br/>Synced 5 W&B file(s), 0 media file(s), 0 artifact file(s) and 0 other file(s)"
            ],
            "text/plain": [
              "<IPython.core.display.HTML object>"
            ]
          },
          "metadata": {},
          "output_type": "display_data"
        },
        {
          "data": {
            "text/html": [
              "Find logs at: <code>./wandb/run-20230417_183203-gsl22u36/logs</code>"
            ],
            "text/plain": [
              "<IPython.core.display.HTML object>"
            ]
          },
          "metadata": {},
          "output_type": "display_data"
        },
        {
          "metadata": {
            "tags": null
          },
          "name": "stderr",
          "output_type": "stream",
          "text": [
            "\u001b[34m\u001b[1mwandb\u001b[0m: Agent Starting Run: 6ksuds0s with config:\n",
            "\u001b[34m\u001b[1mwandb\u001b[0m: \tactivation: Tanh\n",
            "\u001b[34m\u001b[1mwandb\u001b[0m: \tlearning_rate: 0.001\n",
            "\u001b[34m\u001b[1mwandb\u001b[0m: \toptimizer: SGD\n",
            "\u001b[34m\u001b[1mwandb\u001b[0m: \u001b[33mWARNING\u001b[0m Ignored wandb.init() arg project when running a sweep.\n"
          ]
        },
        {
          "data": {
            "text/html": [
              "Tracking run with wandb version 0.14.2"
            ],
            "text/plain": [
              "<IPython.core.display.HTML object>"
            ]
          },
          "metadata": {},
          "output_type": "display_data"
        },
        {
          "data": {
            "text/html": [
              "Run data is saved locally in <code>/content/wandb/run-20230417_184629-6ksuds0s</code>"
            ],
            "text/plain": [
              "<IPython.core.display.HTML object>"
            ]
          },
          "metadata": {},
          "output_type": "display_data"
        },
        {
          "data": {
            "text/html": [
              "Syncing run <strong><a href='https://wandb.ai/mukul_dl/final_lab_8/runs/6ksuds0s' target=\"_blank\">atomic-sweep-26</a></strong> to <a href='https://wandb.ai/mukul_dl/final_lab_8' target=\"_blank\">Weights & Biases</a> (<a href='https://wandb.me/run' target=\"_blank\">docs</a>)<br/>Sweep page: <a href='https://wandb.ai/mukul_dl/final_lab_8/sweeps/rxkozgms' target=\"_blank\">https://wandb.ai/mukul_dl/final_lab_8/sweeps/rxkozgms</a>"
            ],
            "text/plain": [
              "<IPython.core.display.HTML object>"
            ]
          },
          "metadata": {},
          "output_type": "display_data"
        },
        {
          "data": {
            "text/html": [
              " View project at <a href='https://wandb.ai/mukul_dl/final_lab_8' target=\"_blank\">https://wandb.ai/mukul_dl/final_lab_8</a>"
            ],
            "text/plain": [
              "<IPython.core.display.HTML object>"
            ]
          },
          "metadata": {},
          "output_type": "display_data"
        },
        {
          "data": {
            "text/html": [
              " View sweep at <a href='https://wandb.ai/mukul_dl/final_lab_8/sweeps/rxkozgms' target=\"_blank\">https://wandb.ai/mukul_dl/final_lab_8/sweeps/rxkozgms</a>"
            ],
            "text/plain": [
              "<IPython.core.display.HTML object>"
            ]
          },
          "metadata": {},
          "output_type": "display_data"
        },
        {
          "data": {
            "text/html": [
              " View run at <a href='https://wandb.ai/mukul_dl/final_lab_8/runs/6ksuds0s' target=\"_blank\">https://wandb.ai/mukul_dl/final_lab_8/runs/6ksuds0s</a>"
            ],
            "text/plain": [
              "<IPython.core.display.HTML object>"
            ]
          },
          "metadata": {},
          "output_type": "display_data"
        },
        {
          "metadata": {
            "tags": null
          },
          "name": "stderr",
          "output_type": "stream",
          "text": [
            "Training Epoch 0: 100%|██████████| 235/235 [00:24<00:00,  9.48batch/s, loss=0.0335]\n",
            "Testing: 100%|██████████| 40/40 [00:02<00:00, 13.63batch/s, loss=0.0967]\n"
          ]
        },
        {
          "metadata": {
            "tags": null
          },
          "name": "stdout",
          "output_type": "stream",
          "text": [
            "\n",
            "Epoch:  1 Train Loss:  0.00026235317314664524 Train Acc top 1:  1.0 Test Loss:  0.0007739165330771356 Test Acc top 1:  0.9818\n",
            "Train Acc top 5:  1.0 Test Acc top 5:  1.0\n",
            "\n"
          ]
        },
        {
          "metadata": {
            "tags": null
          },
          "name": "stderr",
          "output_type": "stream",
          "text": [
            "Training Epoch 1: 100%|██████████| 235/235 [00:23<00:00,  9.92batch/s, loss=0.0334]\n",
            "Testing: 100%|██████████| 40/40 [00:02<00:00, 13.81batch/s, loss=0.0941]\n"
          ]
        },
        {
          "metadata": {
            "tags": null
          },
          "name": "stdout",
          "output_type": "stream",
          "text": [
            "\n",
            "Epoch:  2 Train Loss:  0.0002617350029448668 Train Acc top 1:  1.0 Test Loss:  0.0007524034175556153 Test Acc top 1:  0.9818\n",
            "Train Acc top 5:  1.0 Test Acc top 5:  1.0\n",
            "\n"
          ]
        },
        {
          "metadata": {
            "tags": null
          },
          "name": "stderr",
          "output_type": "stream",
          "text": [
            "Training Epoch 2: 100%|██████████| 235/235 [00:23<00:00,  9.84batch/s, loss=0.0333]\n",
            "Testing: 100%|██████████| 40/40 [00:02<00:00, 13.65batch/s, loss=0.0956]\n"
          ]
        },
        {
          "metadata": {
            "tags": null
          },
          "name": "stdout",
          "output_type": "stream",
          "text": [
            "\n",
            "Epoch:  3 Train Loss:  0.0002609447030971448 Train Acc top 1:  1.0 Test Loss:  0.0007647346661891788 Test Acc top 1:  0.9812\n",
            "Train Acc top 5:  1.0 Test Acc top 5:  1.0\n",
            "\n"
          ]
        },
        {
          "metadata": {
            "tags": null
          },
          "name": "stderr",
          "output_type": "stream",
          "text": [
            "Training Epoch 3: 100%|██████████| 235/235 [00:24<00:00,  9.52batch/s, loss=0.0332]\n",
            "Testing: 100%|██████████| 40/40 [00:02<00:00, 13.55batch/s, loss=0.094]\n"
          ]
        },
        {
          "metadata": {
            "tags": null
          },
          "name": "stdout",
          "output_type": "stream",
          "text": [
            "\n",
            "Epoch:  4 Train Loss:  0.0002599536559234063 Train Acc top 1:  1.0 Test Loss:  0.0007523748198058456 Test Acc top 1:  0.9822\n",
            "Train Acc top 5:  1.0 Test Acc top 5:  1.0\n",
            "\n"
          ]
        },
        {
          "metadata": {
            "tags": null
          },
          "name": "stderr",
          "output_type": "stream",
          "text": [
            "Training Epoch 4: 100%|██████████| 235/235 [00:24<00:00,  9.78batch/s, loss=0.0331]\n",
            "Testing: 100%|██████████| 40/40 [00:02<00:00, 13.65batch/s, loss=0.0927]\n"
          ]
        },
        {
          "metadata": {
            "tags": null
          },
          "name": "stdout",
          "output_type": "stream",
          "text": [
            "\n",
            "Epoch:  5 Train Loss:  0.0002589604392647743 Train Acc top 1:  1.0 Test Loss:  0.0007415277859661729 Test Acc top 1:  0.9822\n",
            "Train Acc top 5:  1.0 Test Acc top 5:  1.0\n",
            "\n"
          ]
        },
        {
          "metadata": {
            "tags": null
          },
          "name": "stderr",
          "output_type": "stream",
          "text": [
            "Training Epoch 5: 100%|██████████| 235/235 [00:24<00:00,  9.73batch/s, loss=0.033]\n",
            "Testing: 100%|██████████| 40/40 [00:02<00:00, 13.56batch/s, loss=0.093]\n"
          ]
        },
        {
          "metadata": {
            "tags": null
          },
          "name": "stdout",
          "output_type": "stream",
          "text": [
            "\n",
            "Epoch:  6 Train Loss:  0.00025846958868205546 Train Acc top 1:  1.0 Test Loss:  0.0007440765243023634 Test Acc top 1:  0.982\n",
            "Train Acc top 5:  1.0 Test Acc top 5:  1.0\n",
            "\n"
          ]
        },
        {
          "metadata": {
            "tags": null
          },
          "name": "stderr",
          "output_type": "stream",
          "text": [
            "Training Epoch 6: 100%|██████████| 235/235 [00:24<00:00,  9.60batch/s, loss=0.0328]\n",
            "Testing: 100%|██████████| 40/40 [00:02<00:00, 13.48batch/s, loss=0.0938]\n"
          ]
        },
        {
          "metadata": {
            "tags": null
          },
          "name": "stdout",
          "output_type": "stream",
          "text": [
            "\n",
            "Epoch:  7 Train Loss:  0.0002570709280669689 Train Acc top 1:  1.0 Test Loss:  0.0007500217435183003 Test Acc top 1:  0.9818\n",
            "Train Acc top 5:  1.0 Test Acc top 5:  1.0\n",
            "\n"
          ]
        },
        {
          "metadata": {
            "tags": null
          },
          "name": "stderr",
          "output_type": "stream",
          "text": [
            "Training Epoch 7: 100%|██████████| 235/235 [00:23<00:00,  9.88batch/s, loss=0.0328]\n",
            "Testing: 100%|██████████| 40/40 [00:03<00:00, 12.16batch/s, loss=0.0948]\n"
          ]
        },
        {
          "metadata": {
            "tags": null
          },
          "name": "stdout",
          "output_type": "stream",
          "text": [
            "\n",
            "Epoch:  8 Train Loss:  0.00025660598625739414 Train Acc top 1:  1.0 Test Loss:  0.0007580201575066894 Test Acc top 1:  0.9822\n",
            "Train Acc top 5:  1.0 Test Acc top 5:  1.0\n",
            "\n"
          ]
        },
        {
          "metadata": {
            "tags": null
          },
          "name": "stderr",
          "output_type": "stream",
          "text": [
            "Training Epoch 8: 100%|██████████| 235/235 [00:23<00:00,  9.84batch/s, loss=0.0327]\n",
            "Testing: 100%|██████████| 40/40 [00:03<00:00, 11.90batch/s, loss=0.093]\n"
          ]
        },
        {
          "metadata": {
            "tags": null
          },
          "name": "stdout",
          "output_type": "stream",
          "text": [
            "\n",
            "Epoch:  9 Train Loss:  0.00025596392353375755 Train Acc top 1:  1.0 Test Loss:  0.0007441433243453502 Test Acc top 1:  0.9824\n",
            "Train Acc top 5:  1.0 Test Acc top 5:  1.0\n",
            "\n"
          ]
        },
        {
          "metadata": {
            "tags": null
          },
          "name": "stderr",
          "output_type": "stream",
          "text": [
            "Training Epoch 9: 100%|██████████| 235/235 [00:23<00:00,  9.87batch/s, loss=0.0326]\n",
            "Testing: 100%|██████████| 40/40 [00:03<00:00, 11.12batch/s, loss=0.0933]\n"
          ]
        },
        {
          "metadata": {
            "tags": null
          },
          "name": "stdout",
          "output_type": "stream",
          "text": [
            "\n",
            "Epoch:  10 Train Loss:  0.00025529969508449236 Train Acc top 1:  1.0 Test Loss:  0.0007465148685965687 Test Acc top 1:  0.9822\n",
            "Train Acc top 5:  1.0 Test Acc top 5:  1.0\n",
            "\n"
          ]
        },
        {
          "output_type": "stream",
          "name": "stderr",
          "text": [
            "Training Epoch 10: 100%|██████████| 235/235 [00:22<00:00, 10.30batch/s, loss=0.0324]\n",
            "Testing: 100%|██████████| 40/40 [00:03<00:00, 11.16batch/s, loss=0.0916]\n"
          ]
        },
        {
          "output_type": "stream",
          "name": "stdout",
          "text": [
            "\n",
            "Epoch:  11 Train Loss:  0.0002536862832804521 Train Acc top 1:  1.0 Test Loss:  0.0007331429972779006 Test Acc top 1:  0.9818\n",
            "Train Acc top 5:  1.0 Test Acc top 5:  1.0\n",
            "\n"
          ]
        },
        {
          "output_type": "stream",
          "name": "stderr",
          "text": [
            "Training Epoch 11: 100%|██████████| 235/235 [00:22<00:00, 10.27batch/s, loss=0.0324]\n",
            "Testing: 100%|██████████| 40/40 [00:03<00:00, 11.30batch/s, loss=0.0923]\n"
          ]
        },
        {
          "output_type": "stream",
          "name": "stdout",
          "text": [
            "\n",
            "Epoch:  12 Train Loss:  0.00025382155428330106 Train Acc top 1:  1.0 Test Loss:  0.0007380089091137052 Test Acc top 1:  0.9818\n",
            "Train Acc top 5:  1.0 Test Acc top 5:  1.0\n",
            "\n"
          ]
        },
        {
          "output_type": "stream",
          "name": "stderr",
          "text": [
            "Training Epoch 12: 100%|██████████| 235/235 [00:23<00:00, 10.13batch/s, loss=0.0323]\n",
            "Testing: 100%|██████████| 40/40 [00:03<00:00, 11.32batch/s, loss=0.0956]\n"
          ]
        },
        {
          "output_type": "stream",
          "name": "stdout",
          "text": [
            "\n",
            "Epoch:  13 Train Loss:  0.0002531723462045193 Train Acc top 1:  1.0 Test Loss:  0.0007648159245960414 Test Acc top 1:  0.9814\n",
            "Train Acc top 5:  1.0 Test Acc top 5:  1.0\n",
            "\n"
          ]
        },
        {
          "output_type": "stream",
          "name": "stderr",
          "text": [
            "Training Epoch 13: 100%|██████████| 235/235 [00:23<00:00, 10.18batch/s, loss=0.0322]\n",
            "Testing: 100%|██████████| 40/40 [00:03<00:00, 11.33batch/s, loss=0.104]\n"
          ]
        },
        {
          "output_type": "stream",
          "name": "stdout",
          "text": [
            "\n",
            "Epoch:  14 Train Loss:  0.00025233771676818527 Train Acc top 1:  1.0 Test Loss:  0.0008288071541115642 Test Acc top 1:  0.9818\n",
            "Train Acc top 5:  1.0 Test Acc top 5:  1.0\n",
            "\n"
          ]
        },
        {
          "output_type": "stream",
          "name": "stderr",
          "text": [
            "Training Epoch 14: 100%|██████████| 235/235 [00:23<00:00, 10.20batch/s, loss=0.0321]\n",
            "Testing: 100%|██████████| 40/40 [00:03<00:00, 11.79batch/s, loss=0.0937]\n"
          ]
        },
        {
          "output_type": "stream",
          "name": "stdout",
          "text": [
            "\n",
            "Epoch:  15 Train Loss:  0.00025110060113171735 Train Acc top 1:  1.0 Test Loss:  0.0007494253332493827 Test Acc top 1:  0.982\n",
            "Train Acc top 5:  1.0 Test Acc top 5:  1.0\n",
            "\n"
          ]
        },
        {
          "output_type": "stream",
          "name": "stderr",
          "text": [
            "Training Epoch 15:  84%|████████▍ | 198/235 [00:19<00:03, 10.69batch/s, loss=0.032]"
          ]
        }
      ],
      "source": [
        "def sweep_agent():\n",
        "  wandb.agent(sweep_id, function=train_and_test) \n",
        "\n",
        "sweep_agent()"
      ]
    },
    {
      "cell_type": "code",
      "execution_count": null,
      "metadata": {
        "id": "GmmJu-S2GNxy"
      },
      "outputs": [],
      "source": [
        "def log_image_table(images, predicted, lables, probs):\n",
        "  table = wandb.Table(columns = [\"image\", \"pred\", \"target\"]+[f\"score+{i}\" for i in range(10)])\n",
        "  for img,pred,targ,prob in zip(images.to('cpu'), predicted.to('cpu'), lables.to('cpu'), probs.to('cpu')):\n",
        "    table.add_data(wandb.Image(img[0].numpy()*255), pred, targ, *prob.numpy())\n",
        "  wandb.log({'predcitions table': table}, commit = False)"
      ]
    }
  ],
  "metadata": {
    "colab": {
      "provenance": []
    },
    "kernelspec": {
      "display_name": "Python 3",
      "name": "python3"
    },
    "language_info": {
      "name": "python"
    },
    "widgets": {
      "application/vnd.jupyter.widget-state+json": {
        "b9c68704d7ac49589b09abf40e802c34": {
          "model_module": "@jupyter-widgets/controls",
          "model_name": "VBoxModel",
          "model_module_version": "1.5.0",
          "state": {
            "_dom_classes": [],
            "_model_module": "@jupyter-widgets/controls",
            "_model_module_version": "1.5.0",
            "_model_name": "VBoxModel",
            "_view_count": null,
            "_view_module": "@jupyter-widgets/controls",
            "_view_module_version": "1.5.0",
            "_view_name": "VBoxView",
            "box_style": "",
            "children": [
              "IPY_MODEL_bc6bd264779f4798aad2c4cbeff1bb9b",
              "IPY_MODEL_6a351d80a19047f6be9ce3fdc872fa0a"
            ],
            "layout": "IPY_MODEL_3a2751776a7a4993ac0a6f499406c31d"
          }
        },
        "bc6bd264779f4798aad2c4cbeff1bb9b": {
          "model_module": "@jupyter-widgets/controls",
          "model_name": "LabelModel",
          "model_module_version": "1.5.0",
          "state": {
            "_dom_classes": [],
            "_model_module": "@jupyter-widgets/controls",
            "_model_module_version": "1.5.0",
            "_model_name": "LabelModel",
            "_view_count": null,
            "_view_module": "@jupyter-widgets/controls",
            "_view_module_version": "1.5.0",
            "_view_name": "LabelView",
            "description": "",
            "description_tooltip": null,
            "layout": "IPY_MODEL_7b3ef6dba6974fc98fb1da28a2882c9b",
            "placeholder": "​",
            "style": "IPY_MODEL_b7f5caf6703c4708876abd31af1a3e91",
            "value": "0.001 MB of 0.021 MB uploaded (0.000 MB deduped)\r"
          }
        },
        "6a351d80a19047f6be9ce3fdc872fa0a": {
          "model_module": "@jupyter-widgets/controls",
          "model_name": "FloatProgressModel",
          "model_module_version": "1.5.0",
          "state": {
            "_dom_classes": [],
            "_model_module": "@jupyter-widgets/controls",
            "_model_module_version": "1.5.0",
            "_model_name": "FloatProgressModel",
            "_view_count": null,
            "_view_module": "@jupyter-widgets/controls",
            "_view_module_version": "1.5.0",
            "_view_name": "ProgressView",
            "bar_style": "",
            "description": "",
            "description_tooltip": null,
            "layout": "IPY_MODEL_c17ed5e2e8814a838f8b59222f1731f6",
            "max": 1,
            "min": 0,
            "orientation": "horizontal",
            "style": "IPY_MODEL_92fc358c99264aa8aab8ab10d9d26dba",
            "value": 0.05295241561277409
          }
        },
        "3a2751776a7a4993ac0a6f499406c31d": {
          "model_module": "@jupyter-widgets/base",
          "model_name": "LayoutModel",
          "model_module_version": "1.2.0",
          "state": {
            "_model_module": "@jupyter-widgets/base",
            "_model_module_version": "1.2.0",
            "_model_name": "LayoutModel",
            "_view_count": null,
            "_view_module": "@jupyter-widgets/base",
            "_view_module_version": "1.2.0",
            "_view_name": "LayoutView",
            "align_content": null,
            "align_items": null,
            "align_self": null,
            "border": null,
            "bottom": null,
            "display": null,
            "flex": null,
            "flex_flow": null,
            "grid_area": null,
            "grid_auto_columns": null,
            "grid_auto_flow": null,
            "grid_auto_rows": null,
            "grid_column": null,
            "grid_gap": null,
            "grid_row": null,
            "grid_template_areas": null,
            "grid_template_columns": null,
            "grid_template_rows": null,
            "height": null,
            "justify_content": null,
            "justify_items": null,
            "left": null,
            "margin": null,
            "max_height": null,
            "max_width": null,
            "min_height": null,
            "min_width": null,
            "object_fit": null,
            "object_position": null,
            "order": null,
            "overflow": null,
            "overflow_x": null,
            "overflow_y": null,
            "padding": null,
            "right": null,
            "top": null,
            "visibility": null,
            "width": null
          }
        },
        "7b3ef6dba6974fc98fb1da28a2882c9b": {
          "model_module": "@jupyter-widgets/base",
          "model_name": "LayoutModel",
          "model_module_version": "1.2.0",
          "state": {
            "_model_module": "@jupyter-widgets/base",
            "_model_module_version": "1.2.0",
            "_model_name": "LayoutModel",
            "_view_count": null,
            "_view_module": "@jupyter-widgets/base",
            "_view_module_version": "1.2.0",
            "_view_name": "LayoutView",
            "align_content": null,
            "align_items": null,
            "align_self": null,
            "border": null,
            "bottom": null,
            "display": null,
            "flex": null,
            "flex_flow": null,
            "grid_area": null,
            "grid_auto_columns": null,
            "grid_auto_flow": null,
            "grid_auto_rows": null,
            "grid_column": null,
            "grid_gap": null,
            "grid_row": null,
            "grid_template_areas": null,
            "grid_template_columns": null,
            "grid_template_rows": null,
            "height": null,
            "justify_content": null,
            "justify_items": null,
            "left": null,
            "margin": null,
            "max_height": null,
            "max_width": null,
            "min_height": null,
            "min_width": null,
            "object_fit": null,
            "object_position": null,
            "order": null,
            "overflow": null,
            "overflow_x": null,
            "overflow_y": null,
            "padding": null,
            "right": null,
            "top": null,
            "visibility": null,
            "width": null
          }
        },
        "b7f5caf6703c4708876abd31af1a3e91": {
          "model_module": "@jupyter-widgets/controls",
          "model_name": "DescriptionStyleModel",
          "model_module_version": "1.5.0",
          "state": {
            "_model_module": "@jupyter-widgets/controls",
            "_model_module_version": "1.5.0",
            "_model_name": "DescriptionStyleModel",
            "_view_count": null,
            "_view_module": "@jupyter-widgets/base",
            "_view_module_version": "1.2.0",
            "_view_name": "StyleView",
            "description_width": ""
          }
        },
        "c17ed5e2e8814a838f8b59222f1731f6": {
          "model_module": "@jupyter-widgets/base",
          "model_name": "LayoutModel",
          "model_module_version": "1.2.0",
          "state": {
            "_model_module": "@jupyter-widgets/base",
            "_model_module_version": "1.2.0",
            "_model_name": "LayoutModel",
            "_view_count": null,
            "_view_module": "@jupyter-widgets/base",
            "_view_module_version": "1.2.0",
            "_view_name": "LayoutView",
            "align_content": null,
            "align_items": null,
            "align_self": null,
            "border": null,
            "bottom": null,
            "display": null,
            "flex": null,
            "flex_flow": null,
            "grid_area": null,
            "grid_auto_columns": null,
            "grid_auto_flow": null,
            "grid_auto_rows": null,
            "grid_column": null,
            "grid_gap": null,
            "grid_row": null,
            "grid_template_areas": null,
            "grid_template_columns": null,
            "grid_template_rows": null,
            "height": null,
            "justify_content": null,
            "justify_items": null,
            "left": null,
            "margin": null,
            "max_height": null,
            "max_width": null,
            "min_height": null,
            "min_width": null,
            "object_fit": null,
            "object_position": null,
            "order": null,
            "overflow": null,
            "overflow_x": null,
            "overflow_y": null,
            "padding": null,
            "right": null,
            "top": null,
            "visibility": null,
            "width": null
          }
        },
        "92fc358c99264aa8aab8ab10d9d26dba": {
          "model_module": "@jupyter-widgets/controls",
          "model_name": "ProgressStyleModel",
          "model_module_version": "1.5.0",
          "state": {
            "_model_module": "@jupyter-widgets/controls",
            "_model_module_version": "1.5.0",
            "_model_name": "ProgressStyleModel",
            "_view_count": null,
            "_view_module": "@jupyter-widgets/base",
            "_view_module_version": "1.2.0",
            "_view_name": "StyleView",
            "bar_color": null,
            "description_width": ""
          }
        },
        "b0f708d0e3b24ea6b69b3b0522e0bfcf": {
          "model_module": "@jupyter-widgets/controls",
          "model_name": "VBoxModel",
          "model_module_version": "1.5.0",
          "state": {
            "_dom_classes": [],
            "_model_module": "@jupyter-widgets/controls",
            "_model_module_version": "1.5.0",
            "_model_name": "VBoxModel",
            "_view_count": null,
            "_view_module": "@jupyter-widgets/controls",
            "_view_module_version": "1.5.0",
            "_view_name": "VBoxView",
            "box_style": "",
            "children": [
              "IPY_MODEL_b155cc20b0f04d229ff6ca9ba1eb00b2",
              "IPY_MODEL_25ed5430f8a1415aac7f638e4357db6f"
            ],
            "layout": "IPY_MODEL_5506828040e64677bcfa2b522979d656"
          }
        },
        "b155cc20b0f04d229ff6ca9ba1eb00b2": {
          "model_module": "@jupyter-widgets/controls",
          "model_name": "LabelModel",
          "model_module_version": "1.5.0",
          "state": {
            "_dom_classes": [],
            "_model_module": "@jupyter-widgets/controls",
            "_model_module_version": "1.5.0",
            "_model_name": "LabelModel",
            "_view_count": null,
            "_view_module": "@jupyter-widgets/controls",
            "_view_module_version": "1.5.0",
            "_view_name": "LabelView",
            "description": "",
            "description_tooltip": null,
            "layout": "IPY_MODEL_930149883f1a499a92580a39ad89c305",
            "placeholder": "​",
            "style": "IPY_MODEL_cbf9189d19754db6a068f6243adf470c",
            "value": "0.001 MB of 0.021 MB uploaded (0.000 MB deduped)\r"
          }
        },
        "25ed5430f8a1415aac7f638e4357db6f": {
          "model_module": "@jupyter-widgets/controls",
          "model_name": "FloatProgressModel",
          "model_module_version": "1.5.0",
          "state": {
            "_dom_classes": [],
            "_model_module": "@jupyter-widgets/controls",
            "_model_module_version": "1.5.0",
            "_model_name": "FloatProgressModel",
            "_view_count": null,
            "_view_module": "@jupyter-widgets/controls",
            "_view_module_version": "1.5.0",
            "_view_name": "ProgressView",
            "bar_style": "",
            "description": "",
            "description_tooltip": null,
            "layout": "IPY_MODEL_3b3a16d6d4964bada9924fcb41af71ec",
            "max": 1,
            "min": 0,
            "orientation": "horizontal",
            "style": "IPY_MODEL_ef069b55d8f6432e9b22708f14b73161",
            "value": 0.05306587645315705
          }
        },
        "5506828040e64677bcfa2b522979d656": {
          "model_module": "@jupyter-widgets/base",
          "model_name": "LayoutModel",
          "model_module_version": "1.2.0",
          "state": {
            "_model_module": "@jupyter-widgets/base",
            "_model_module_version": "1.2.0",
            "_model_name": "LayoutModel",
            "_view_count": null,
            "_view_module": "@jupyter-widgets/base",
            "_view_module_version": "1.2.0",
            "_view_name": "LayoutView",
            "align_content": null,
            "align_items": null,
            "align_self": null,
            "border": null,
            "bottom": null,
            "display": null,
            "flex": null,
            "flex_flow": null,
            "grid_area": null,
            "grid_auto_columns": null,
            "grid_auto_flow": null,
            "grid_auto_rows": null,
            "grid_column": null,
            "grid_gap": null,
            "grid_row": null,
            "grid_template_areas": null,
            "grid_template_columns": null,
            "grid_template_rows": null,
            "height": null,
            "justify_content": null,
            "justify_items": null,
            "left": null,
            "margin": null,
            "max_height": null,
            "max_width": null,
            "min_height": null,
            "min_width": null,
            "object_fit": null,
            "object_position": null,
            "order": null,
            "overflow": null,
            "overflow_x": null,
            "overflow_y": null,
            "padding": null,
            "right": null,
            "top": null,
            "visibility": null,
            "width": null
          }
        },
        "930149883f1a499a92580a39ad89c305": {
          "model_module": "@jupyter-widgets/base",
          "model_name": "LayoutModel",
          "model_module_version": "1.2.0",
          "state": {
            "_model_module": "@jupyter-widgets/base",
            "_model_module_version": "1.2.0",
            "_model_name": "LayoutModel",
            "_view_count": null,
            "_view_module": "@jupyter-widgets/base",
            "_view_module_version": "1.2.0",
            "_view_name": "LayoutView",
            "align_content": null,
            "align_items": null,
            "align_self": null,
            "border": null,
            "bottom": null,
            "display": null,
            "flex": null,
            "flex_flow": null,
            "grid_area": null,
            "grid_auto_columns": null,
            "grid_auto_flow": null,
            "grid_auto_rows": null,
            "grid_column": null,
            "grid_gap": null,
            "grid_row": null,
            "grid_template_areas": null,
            "grid_template_columns": null,
            "grid_template_rows": null,
            "height": null,
            "justify_content": null,
            "justify_items": null,
            "left": null,
            "margin": null,
            "max_height": null,
            "max_width": null,
            "min_height": null,
            "min_width": null,
            "object_fit": null,
            "object_position": null,
            "order": null,
            "overflow": null,
            "overflow_x": null,
            "overflow_y": null,
            "padding": null,
            "right": null,
            "top": null,
            "visibility": null,
            "width": null
          }
        },
        "cbf9189d19754db6a068f6243adf470c": {
          "model_module": "@jupyter-widgets/controls",
          "model_name": "DescriptionStyleModel",
          "model_module_version": "1.5.0",
          "state": {
            "_model_module": "@jupyter-widgets/controls",
            "_model_module_version": "1.5.0",
            "_model_name": "DescriptionStyleModel",
            "_view_count": null,
            "_view_module": "@jupyter-widgets/base",
            "_view_module_version": "1.2.0",
            "_view_name": "StyleView",
            "description_width": ""
          }
        },
        "3b3a16d6d4964bada9924fcb41af71ec": {
          "model_module": "@jupyter-widgets/base",
          "model_name": "LayoutModel",
          "model_module_version": "1.2.0",
          "state": {
            "_model_module": "@jupyter-widgets/base",
            "_model_module_version": "1.2.0",
            "_model_name": "LayoutModel",
            "_view_count": null,
            "_view_module": "@jupyter-widgets/base",
            "_view_module_version": "1.2.0",
            "_view_name": "LayoutView",
            "align_content": null,
            "align_items": null,
            "align_self": null,
            "border": null,
            "bottom": null,
            "display": null,
            "flex": null,
            "flex_flow": null,
            "grid_area": null,
            "grid_auto_columns": null,
            "grid_auto_flow": null,
            "grid_auto_rows": null,
            "grid_column": null,
            "grid_gap": null,
            "grid_row": null,
            "grid_template_areas": null,
            "grid_template_columns": null,
            "grid_template_rows": null,
            "height": null,
            "justify_content": null,
            "justify_items": null,
            "left": null,
            "margin": null,
            "max_height": null,
            "max_width": null,
            "min_height": null,
            "min_width": null,
            "object_fit": null,
            "object_position": null,
            "order": null,
            "overflow": null,
            "overflow_x": null,
            "overflow_y": null,
            "padding": null,
            "right": null,
            "top": null,
            "visibility": null,
            "width": null
          }
        },
        "ef069b55d8f6432e9b22708f14b73161": {
          "model_module": "@jupyter-widgets/controls",
          "model_name": "ProgressStyleModel",
          "model_module_version": "1.5.0",
          "state": {
            "_model_module": "@jupyter-widgets/controls",
            "_model_module_version": "1.5.0",
            "_model_name": "ProgressStyleModel",
            "_view_count": null,
            "_view_module": "@jupyter-widgets/base",
            "_view_module_version": "1.2.0",
            "_view_name": "StyleView",
            "bar_color": null,
            "description_width": ""
          }
        },
        "519ec68207d64635960732b888e4cd76": {
          "model_module": "@jupyter-widgets/controls",
          "model_name": "VBoxModel",
          "model_module_version": "1.5.0",
          "state": {
            "_dom_classes": [],
            "_model_module": "@jupyter-widgets/controls",
            "_model_module_version": "1.5.0",
            "_model_name": "VBoxModel",
            "_view_count": null,
            "_view_module": "@jupyter-widgets/controls",
            "_view_module_version": "1.5.0",
            "_view_name": "VBoxView",
            "box_style": "",
            "children": [
              "IPY_MODEL_7b4f954cc5734bcebdf6e950b853038a",
              "IPY_MODEL_451e92d4961d4635b7ead6401a1bc0b7"
            ],
            "layout": "IPY_MODEL_cacf675ce6e74b3abd5db292c03de502"
          }
        },
        "7b4f954cc5734bcebdf6e950b853038a": {
          "model_module": "@jupyter-widgets/controls",
          "model_name": "LabelModel",
          "model_module_version": "1.5.0",
          "state": {
            "_dom_classes": [],
            "_model_module": "@jupyter-widgets/controls",
            "_model_module_version": "1.5.0",
            "_model_name": "LabelModel",
            "_view_count": null,
            "_view_module": "@jupyter-widgets/controls",
            "_view_module_version": "1.5.0",
            "_view_name": "LabelView",
            "description": "",
            "description_tooltip": null,
            "layout": "IPY_MODEL_b6f3107b137643a6aa0061e789c011dd",
            "placeholder": "​",
            "style": "IPY_MODEL_9a01e4ae8a234ca59ae3565569a55edf",
            "value": "0.014 MB of 0.021 MB uploaded (0.000 MB deduped)\r"
          }
        },
        "451e92d4961d4635b7ead6401a1bc0b7": {
          "model_module": "@jupyter-widgets/controls",
          "model_name": "FloatProgressModel",
          "model_module_version": "1.5.0",
          "state": {
            "_dom_classes": [],
            "_model_module": "@jupyter-widgets/controls",
            "_model_module_version": "1.5.0",
            "_model_name": "FloatProgressModel",
            "_view_count": null,
            "_view_module": "@jupyter-widgets/controls",
            "_view_module_version": "1.5.0",
            "_view_name": "ProgressView",
            "bar_style": "",
            "description": "",
            "description_tooltip": null,
            "layout": "IPY_MODEL_1f2af43914b54a00ab88bd6fd5b63f4f",
            "max": 1,
            "min": 0,
            "orientation": "horizontal",
            "style": "IPY_MODEL_c995aeeab5844983b7ea538fcf929cea",
            "value": 0.6604976810560114
          }
        },
        "cacf675ce6e74b3abd5db292c03de502": {
          "model_module": "@jupyter-widgets/base",
          "model_name": "LayoutModel",
          "model_module_version": "1.2.0",
          "state": {
            "_model_module": "@jupyter-widgets/base",
            "_model_module_version": "1.2.0",
            "_model_name": "LayoutModel",
            "_view_count": null,
            "_view_module": "@jupyter-widgets/base",
            "_view_module_version": "1.2.0",
            "_view_name": "LayoutView",
            "align_content": null,
            "align_items": null,
            "align_self": null,
            "border": null,
            "bottom": null,
            "display": null,
            "flex": null,
            "flex_flow": null,
            "grid_area": null,
            "grid_auto_columns": null,
            "grid_auto_flow": null,
            "grid_auto_rows": null,
            "grid_column": null,
            "grid_gap": null,
            "grid_row": null,
            "grid_template_areas": null,
            "grid_template_columns": null,
            "grid_template_rows": null,
            "height": null,
            "justify_content": null,
            "justify_items": null,
            "left": null,
            "margin": null,
            "max_height": null,
            "max_width": null,
            "min_height": null,
            "min_width": null,
            "object_fit": null,
            "object_position": null,
            "order": null,
            "overflow": null,
            "overflow_x": null,
            "overflow_y": null,
            "padding": null,
            "right": null,
            "top": null,
            "visibility": null,
            "width": null
          }
        },
        "b6f3107b137643a6aa0061e789c011dd": {
          "model_module": "@jupyter-widgets/base",
          "model_name": "LayoutModel",
          "model_module_version": "1.2.0",
          "state": {
            "_model_module": "@jupyter-widgets/base",
            "_model_module_version": "1.2.0",
            "_model_name": "LayoutModel",
            "_view_count": null,
            "_view_module": "@jupyter-widgets/base",
            "_view_module_version": "1.2.0",
            "_view_name": "LayoutView",
            "align_content": null,
            "align_items": null,
            "align_self": null,
            "border": null,
            "bottom": null,
            "display": null,
            "flex": null,
            "flex_flow": null,
            "grid_area": null,
            "grid_auto_columns": null,
            "grid_auto_flow": null,
            "grid_auto_rows": null,
            "grid_column": null,
            "grid_gap": null,
            "grid_row": null,
            "grid_template_areas": null,
            "grid_template_columns": null,
            "grid_template_rows": null,
            "height": null,
            "justify_content": null,
            "justify_items": null,
            "left": null,
            "margin": null,
            "max_height": null,
            "max_width": null,
            "min_height": null,
            "min_width": null,
            "object_fit": null,
            "object_position": null,
            "order": null,
            "overflow": null,
            "overflow_x": null,
            "overflow_y": null,
            "padding": null,
            "right": null,
            "top": null,
            "visibility": null,
            "width": null
          }
        },
        "9a01e4ae8a234ca59ae3565569a55edf": {
          "model_module": "@jupyter-widgets/controls",
          "model_name": "DescriptionStyleModel",
          "model_module_version": "1.5.0",
          "state": {
            "_model_module": "@jupyter-widgets/controls",
            "_model_module_version": "1.5.0",
            "_model_name": "DescriptionStyleModel",
            "_view_count": null,
            "_view_module": "@jupyter-widgets/base",
            "_view_module_version": "1.2.0",
            "_view_name": "StyleView",
            "description_width": ""
          }
        },
        "1f2af43914b54a00ab88bd6fd5b63f4f": {
          "model_module": "@jupyter-widgets/base",
          "model_name": "LayoutModel",
          "model_module_version": "1.2.0",
          "state": {
            "_model_module": "@jupyter-widgets/base",
            "_model_module_version": "1.2.0",
            "_model_name": "LayoutModel",
            "_view_count": null,
            "_view_module": "@jupyter-widgets/base",
            "_view_module_version": "1.2.0",
            "_view_name": "LayoutView",
            "align_content": null,
            "align_items": null,
            "align_self": null,
            "border": null,
            "bottom": null,
            "display": null,
            "flex": null,
            "flex_flow": null,
            "grid_area": null,
            "grid_auto_columns": null,
            "grid_auto_flow": null,
            "grid_auto_rows": null,
            "grid_column": null,
            "grid_gap": null,
            "grid_row": null,
            "grid_template_areas": null,
            "grid_template_columns": null,
            "grid_template_rows": null,
            "height": null,
            "justify_content": null,
            "justify_items": null,
            "left": null,
            "margin": null,
            "max_height": null,
            "max_width": null,
            "min_height": null,
            "min_width": null,
            "object_fit": null,
            "object_position": null,
            "order": null,
            "overflow": null,
            "overflow_x": null,
            "overflow_y": null,
            "padding": null,
            "right": null,
            "top": null,
            "visibility": null,
            "width": null
          }
        },
        "c995aeeab5844983b7ea538fcf929cea": {
          "model_module": "@jupyter-widgets/controls",
          "model_name": "ProgressStyleModel",
          "model_module_version": "1.5.0",
          "state": {
            "_model_module": "@jupyter-widgets/controls",
            "_model_module_version": "1.5.0",
            "_model_name": "ProgressStyleModel",
            "_view_count": null,
            "_view_module": "@jupyter-widgets/base",
            "_view_module_version": "1.2.0",
            "_view_name": "StyleView",
            "bar_color": null,
            "description_width": ""
          }
        },
        "d208b19540384e359f184524b6596f5b": {
          "model_module": "@jupyter-widgets/controls",
          "model_name": "VBoxModel",
          "model_module_version": "1.5.0",
          "state": {
            "_dom_classes": [],
            "_model_module": "@jupyter-widgets/controls",
            "_model_module_version": "1.5.0",
            "_model_name": "VBoxModel",
            "_view_count": null,
            "_view_module": "@jupyter-widgets/controls",
            "_view_module_version": "1.5.0",
            "_view_name": "VBoxView",
            "box_style": "",
            "children": [
              "IPY_MODEL_5d4e200b4b484c3a8d229f6cc0bbd385",
              "IPY_MODEL_b5231f4a5e77433bbd3bd5bc0f322504"
            ],
            "layout": "IPY_MODEL_3aeeb0e508fd48b9a5095f0377d2fbcb"
          }
        },
        "5d4e200b4b484c3a8d229f6cc0bbd385": {
          "model_module": "@jupyter-widgets/controls",
          "model_name": "LabelModel",
          "model_module_version": "1.5.0",
          "state": {
            "_dom_classes": [],
            "_model_module": "@jupyter-widgets/controls",
            "_model_module_version": "1.5.0",
            "_model_name": "LabelModel",
            "_view_count": null,
            "_view_module": "@jupyter-widgets/controls",
            "_view_module_version": "1.5.0",
            "_view_name": "LabelView",
            "description": "",
            "description_tooltip": null,
            "layout": "IPY_MODEL_e5bf44c173534a898c0f4e9957f1c336",
            "placeholder": "​",
            "style": "IPY_MODEL_9654a36f672842988784edce7c7080d1",
            "value": "0.001 MB of 0.021 MB uploaded (0.000 MB deduped)\r"
          }
        },
        "b5231f4a5e77433bbd3bd5bc0f322504": {
          "model_module": "@jupyter-widgets/controls",
          "model_name": "FloatProgressModel",
          "model_module_version": "1.5.0",
          "state": {
            "_dom_classes": [],
            "_model_module": "@jupyter-widgets/controls",
            "_model_module_version": "1.5.0",
            "_model_name": "FloatProgressModel",
            "_view_count": null,
            "_view_module": "@jupyter-widgets/controls",
            "_view_module_version": "1.5.0",
            "_view_name": "ProgressView",
            "bar_style": "",
            "description": "",
            "description_tooltip": null,
            "layout": "IPY_MODEL_0de936b6752a45028dea98f9763c909c",
            "max": 1,
            "min": 0,
            "orientation": "horizontal",
            "style": "IPY_MODEL_ddfecf9c65454c3ab63f3d9850c12c1d",
            "value": 0.05221135731586974
          }
        },
        "3aeeb0e508fd48b9a5095f0377d2fbcb": {
          "model_module": "@jupyter-widgets/base",
          "model_name": "LayoutModel",
          "model_module_version": "1.2.0",
          "state": {
            "_model_module": "@jupyter-widgets/base",
            "_model_module_version": "1.2.0",
            "_model_name": "LayoutModel",
            "_view_count": null,
            "_view_module": "@jupyter-widgets/base",
            "_view_module_version": "1.2.0",
            "_view_name": "LayoutView",
            "align_content": null,
            "align_items": null,
            "align_self": null,
            "border": null,
            "bottom": null,
            "display": null,
            "flex": null,
            "flex_flow": null,
            "grid_area": null,
            "grid_auto_columns": null,
            "grid_auto_flow": null,
            "grid_auto_rows": null,
            "grid_column": null,
            "grid_gap": null,
            "grid_row": null,
            "grid_template_areas": null,
            "grid_template_columns": null,
            "grid_template_rows": null,
            "height": null,
            "justify_content": null,
            "justify_items": null,
            "left": null,
            "margin": null,
            "max_height": null,
            "max_width": null,
            "min_height": null,
            "min_width": null,
            "object_fit": null,
            "object_position": null,
            "order": null,
            "overflow": null,
            "overflow_x": null,
            "overflow_y": null,
            "padding": null,
            "right": null,
            "top": null,
            "visibility": null,
            "width": null
          }
        },
        "e5bf44c173534a898c0f4e9957f1c336": {
          "model_module": "@jupyter-widgets/base",
          "model_name": "LayoutModel",
          "model_module_version": "1.2.0",
          "state": {
            "_model_module": "@jupyter-widgets/base",
            "_model_module_version": "1.2.0",
            "_model_name": "LayoutModel",
            "_view_count": null,
            "_view_module": "@jupyter-widgets/base",
            "_view_module_version": "1.2.0",
            "_view_name": "LayoutView",
            "align_content": null,
            "align_items": null,
            "align_self": null,
            "border": null,
            "bottom": null,
            "display": null,
            "flex": null,
            "flex_flow": null,
            "grid_area": null,
            "grid_auto_columns": null,
            "grid_auto_flow": null,
            "grid_auto_rows": null,
            "grid_column": null,
            "grid_gap": null,
            "grid_row": null,
            "grid_template_areas": null,
            "grid_template_columns": null,
            "grid_template_rows": null,
            "height": null,
            "justify_content": null,
            "justify_items": null,
            "left": null,
            "margin": null,
            "max_height": null,
            "max_width": null,
            "min_height": null,
            "min_width": null,
            "object_fit": null,
            "object_position": null,
            "order": null,
            "overflow": null,
            "overflow_x": null,
            "overflow_y": null,
            "padding": null,
            "right": null,
            "top": null,
            "visibility": null,
            "width": null
          }
        },
        "9654a36f672842988784edce7c7080d1": {
          "model_module": "@jupyter-widgets/controls",
          "model_name": "DescriptionStyleModel",
          "model_module_version": "1.5.0",
          "state": {
            "_model_module": "@jupyter-widgets/controls",
            "_model_module_version": "1.5.0",
            "_model_name": "DescriptionStyleModel",
            "_view_count": null,
            "_view_module": "@jupyter-widgets/base",
            "_view_module_version": "1.2.0",
            "_view_name": "StyleView",
            "description_width": ""
          }
        },
        "0de936b6752a45028dea98f9763c909c": {
          "model_module": "@jupyter-widgets/base",
          "model_name": "LayoutModel",
          "model_module_version": "1.2.0",
          "state": {
            "_model_module": "@jupyter-widgets/base",
            "_model_module_version": "1.2.0",
            "_model_name": "LayoutModel",
            "_view_count": null,
            "_view_module": "@jupyter-widgets/base",
            "_view_module_version": "1.2.0",
            "_view_name": "LayoutView",
            "align_content": null,
            "align_items": null,
            "align_self": null,
            "border": null,
            "bottom": null,
            "display": null,
            "flex": null,
            "flex_flow": null,
            "grid_area": null,
            "grid_auto_columns": null,
            "grid_auto_flow": null,
            "grid_auto_rows": null,
            "grid_column": null,
            "grid_gap": null,
            "grid_row": null,
            "grid_template_areas": null,
            "grid_template_columns": null,
            "grid_template_rows": null,
            "height": null,
            "justify_content": null,
            "justify_items": null,
            "left": null,
            "margin": null,
            "max_height": null,
            "max_width": null,
            "min_height": null,
            "min_width": null,
            "object_fit": null,
            "object_position": null,
            "order": null,
            "overflow": null,
            "overflow_x": null,
            "overflow_y": null,
            "padding": null,
            "right": null,
            "top": null,
            "visibility": null,
            "width": null
          }
        },
        "ddfecf9c65454c3ab63f3d9850c12c1d": {
          "model_module": "@jupyter-widgets/controls",
          "model_name": "ProgressStyleModel",
          "model_module_version": "1.5.0",
          "state": {
            "_model_module": "@jupyter-widgets/controls",
            "_model_module_version": "1.5.0",
            "_model_name": "ProgressStyleModel",
            "_view_count": null,
            "_view_module": "@jupyter-widgets/base",
            "_view_module_version": "1.2.0",
            "_view_name": "StyleView",
            "bar_color": null,
            "description_width": ""
          }
        },
        "4cf834e02d9040edb0082b1a3a621c92": {
          "model_module": "@jupyter-widgets/controls",
          "model_name": "VBoxModel",
          "model_module_version": "1.5.0",
          "state": {
            "_dom_classes": [],
            "_model_module": "@jupyter-widgets/controls",
            "_model_module_version": "1.5.0",
            "_model_name": "VBoxModel",
            "_view_count": null,
            "_view_module": "@jupyter-widgets/controls",
            "_view_module_version": "1.5.0",
            "_view_name": "VBoxView",
            "box_style": "",
            "children": [
              "IPY_MODEL_ba40ee95c8144119a0c21e2293075f36",
              "IPY_MODEL_00158aa7a74349d0b638d3030fa22e95"
            ],
            "layout": "IPY_MODEL_4e2292d5bef44306a6373e05a2828799"
          }
        },
        "ba40ee95c8144119a0c21e2293075f36": {
          "model_module": "@jupyter-widgets/controls",
          "model_name": "LabelModel",
          "model_module_version": "1.5.0",
          "state": {
            "_dom_classes": [],
            "_model_module": "@jupyter-widgets/controls",
            "_model_module_version": "1.5.0",
            "_model_name": "LabelModel",
            "_view_count": null,
            "_view_module": "@jupyter-widgets/controls",
            "_view_module_version": "1.5.0",
            "_view_name": "LabelView",
            "description": "",
            "description_tooltip": null,
            "layout": "IPY_MODEL_494b0278675f442bba779cdc3664ea8b",
            "placeholder": "​",
            "style": "IPY_MODEL_ab8807a228d64982a95fec4f4cf9bda8",
            "value": "0.001 MB of 0.001 MB uploaded (0.000 MB deduped)\r"
          }
        },
        "00158aa7a74349d0b638d3030fa22e95": {
          "model_module": "@jupyter-widgets/controls",
          "model_name": "FloatProgressModel",
          "model_module_version": "1.5.0",
          "state": {
            "_dom_classes": [],
            "_model_module": "@jupyter-widgets/controls",
            "_model_module_version": "1.5.0",
            "_model_name": "FloatProgressModel",
            "_view_count": null,
            "_view_module": "@jupyter-widgets/controls",
            "_view_module_version": "1.5.0",
            "_view_name": "ProgressView",
            "bar_style": "",
            "description": "",
            "description_tooltip": null,
            "layout": "IPY_MODEL_28f90ef3b7b14a4cb53c7051f5d2b946",
            "max": 1,
            "min": 0,
            "orientation": "horizontal",
            "style": "IPY_MODEL_29f5c6e76e294ba187486d17ab822dae",
            "value": 1
          }
        },
        "4e2292d5bef44306a6373e05a2828799": {
          "model_module": "@jupyter-widgets/base",
          "model_name": "LayoutModel",
          "model_module_version": "1.2.0",
          "state": {
            "_model_module": "@jupyter-widgets/base",
            "_model_module_version": "1.2.0",
            "_model_name": "LayoutModel",
            "_view_count": null,
            "_view_module": "@jupyter-widgets/base",
            "_view_module_version": "1.2.0",
            "_view_name": "LayoutView",
            "align_content": null,
            "align_items": null,
            "align_self": null,
            "border": null,
            "bottom": null,
            "display": null,
            "flex": null,
            "flex_flow": null,
            "grid_area": null,
            "grid_auto_columns": null,
            "grid_auto_flow": null,
            "grid_auto_rows": null,
            "grid_column": null,
            "grid_gap": null,
            "grid_row": null,
            "grid_template_areas": null,
            "grid_template_columns": null,
            "grid_template_rows": null,
            "height": null,
            "justify_content": null,
            "justify_items": null,
            "left": null,
            "margin": null,
            "max_height": null,
            "max_width": null,
            "min_height": null,
            "min_width": null,
            "object_fit": null,
            "object_position": null,
            "order": null,
            "overflow": null,
            "overflow_x": null,
            "overflow_y": null,
            "padding": null,
            "right": null,
            "top": null,
            "visibility": null,
            "width": null
          }
        },
        "494b0278675f442bba779cdc3664ea8b": {
          "model_module": "@jupyter-widgets/base",
          "model_name": "LayoutModel",
          "model_module_version": "1.2.0",
          "state": {
            "_model_module": "@jupyter-widgets/base",
            "_model_module_version": "1.2.0",
            "_model_name": "LayoutModel",
            "_view_count": null,
            "_view_module": "@jupyter-widgets/base",
            "_view_module_version": "1.2.0",
            "_view_name": "LayoutView",
            "align_content": null,
            "align_items": null,
            "align_self": null,
            "border": null,
            "bottom": null,
            "display": null,
            "flex": null,
            "flex_flow": null,
            "grid_area": null,
            "grid_auto_columns": null,
            "grid_auto_flow": null,
            "grid_auto_rows": null,
            "grid_column": null,
            "grid_gap": null,
            "grid_row": null,
            "grid_template_areas": null,
            "grid_template_columns": null,
            "grid_template_rows": null,
            "height": null,
            "justify_content": null,
            "justify_items": null,
            "left": null,
            "margin": null,
            "max_height": null,
            "max_width": null,
            "min_height": null,
            "min_width": null,
            "object_fit": null,
            "object_position": null,
            "order": null,
            "overflow": null,
            "overflow_x": null,
            "overflow_y": null,
            "padding": null,
            "right": null,
            "top": null,
            "visibility": null,
            "width": null
          }
        },
        "ab8807a228d64982a95fec4f4cf9bda8": {
          "model_module": "@jupyter-widgets/controls",
          "model_name": "DescriptionStyleModel",
          "model_module_version": "1.5.0",
          "state": {
            "_model_module": "@jupyter-widgets/controls",
            "_model_module_version": "1.5.0",
            "_model_name": "DescriptionStyleModel",
            "_view_count": null,
            "_view_module": "@jupyter-widgets/base",
            "_view_module_version": "1.2.0",
            "_view_name": "StyleView",
            "description_width": ""
          }
        },
        "28f90ef3b7b14a4cb53c7051f5d2b946": {
          "model_module": "@jupyter-widgets/base",
          "model_name": "LayoutModel",
          "model_module_version": "1.2.0",
          "state": {
            "_model_module": "@jupyter-widgets/base",
            "_model_module_version": "1.2.0",
            "_model_name": "LayoutModel",
            "_view_count": null,
            "_view_module": "@jupyter-widgets/base",
            "_view_module_version": "1.2.0",
            "_view_name": "LayoutView",
            "align_content": null,
            "align_items": null,
            "align_self": null,
            "border": null,
            "bottom": null,
            "display": null,
            "flex": null,
            "flex_flow": null,
            "grid_area": null,
            "grid_auto_columns": null,
            "grid_auto_flow": null,
            "grid_auto_rows": null,
            "grid_column": null,
            "grid_gap": null,
            "grid_row": null,
            "grid_template_areas": null,
            "grid_template_columns": null,
            "grid_template_rows": null,
            "height": null,
            "justify_content": null,
            "justify_items": null,
            "left": null,
            "margin": null,
            "max_height": null,
            "max_width": null,
            "min_height": null,
            "min_width": null,
            "object_fit": null,
            "object_position": null,
            "order": null,
            "overflow": null,
            "overflow_x": null,
            "overflow_y": null,
            "padding": null,
            "right": null,
            "top": null,
            "visibility": null,
            "width": null
          }
        },
        "29f5c6e76e294ba187486d17ab822dae": {
          "model_module": "@jupyter-widgets/controls",
          "model_name": "ProgressStyleModel",
          "model_module_version": "1.5.0",
          "state": {
            "_model_module": "@jupyter-widgets/controls",
            "_model_module_version": "1.5.0",
            "_model_name": "ProgressStyleModel",
            "_view_count": null,
            "_view_module": "@jupyter-widgets/base",
            "_view_module_version": "1.2.0",
            "_view_name": "StyleView",
            "bar_color": null,
            "description_width": ""
          }
        },
        "52919264e99945d891c47d8422b45fb2": {
          "model_module": "@jupyter-widgets/controls",
          "model_name": "VBoxModel",
          "model_module_version": "1.5.0",
          "state": {
            "_dom_classes": [],
            "_model_module": "@jupyter-widgets/controls",
            "_model_module_version": "1.5.0",
            "_model_name": "VBoxModel",
            "_view_count": null,
            "_view_module": "@jupyter-widgets/controls",
            "_view_module_version": "1.5.0",
            "_view_name": "VBoxView",
            "box_style": "",
            "children": [
              "IPY_MODEL_bb0afa8f3a1c471fa4c7d31ef343f140",
              "IPY_MODEL_94c178501a9c4f59afdd6ecdfe7fe03e"
            ],
            "layout": "IPY_MODEL_8389c14a76bd4a67af53c96e34e2df1c"
          }
        },
        "bb0afa8f3a1c471fa4c7d31ef343f140": {
          "model_module": "@jupyter-widgets/controls",
          "model_name": "LabelModel",
          "model_module_version": "1.5.0",
          "state": {
            "_dom_classes": [],
            "_model_module": "@jupyter-widgets/controls",
            "_model_module_version": "1.5.0",
            "_model_name": "LabelModel",
            "_view_count": null,
            "_view_module": "@jupyter-widgets/controls",
            "_view_module_version": "1.5.0",
            "_view_name": "LabelView",
            "description": "",
            "description_tooltip": null,
            "layout": "IPY_MODEL_bbcad3a35a4e433c9d62d73338d77fb8",
            "placeholder": "​",
            "style": "IPY_MODEL_406d8bea68904bbdb4cec0c486f0077b",
            "value": "Waiting for wandb.init()...\r"
          }
        },
        "94c178501a9c4f59afdd6ecdfe7fe03e": {
          "model_module": "@jupyter-widgets/controls",
          "model_name": "FloatProgressModel",
          "model_module_version": "1.5.0",
          "state": {
            "_dom_classes": [],
            "_model_module": "@jupyter-widgets/controls",
            "_model_module_version": "1.5.0",
            "_model_name": "FloatProgressModel",
            "_view_count": null,
            "_view_module": "@jupyter-widgets/controls",
            "_view_module_version": "1.5.0",
            "_view_name": "ProgressView",
            "bar_style": "",
            "description": "",
            "description_tooltip": null,
            "layout": "IPY_MODEL_75f232e7308f4dc3a57ecf22b89b825c",
            "max": 1,
            "min": 0,
            "orientation": "horizontal",
            "style": "IPY_MODEL_511deaabc9f34758841ba9cf51921296",
            "value": 1
          }
        },
        "8389c14a76bd4a67af53c96e34e2df1c": {
          "model_module": "@jupyter-widgets/base",
          "model_name": "LayoutModel",
          "model_module_version": "1.2.0",
          "state": {
            "_model_module": "@jupyter-widgets/base",
            "_model_module_version": "1.2.0",
            "_model_name": "LayoutModel",
            "_view_count": null,
            "_view_module": "@jupyter-widgets/base",
            "_view_module_version": "1.2.0",
            "_view_name": "LayoutView",
            "align_content": null,
            "align_items": null,
            "align_self": null,
            "border": null,
            "bottom": null,
            "display": null,
            "flex": null,
            "flex_flow": null,
            "grid_area": null,
            "grid_auto_columns": null,
            "grid_auto_flow": null,
            "grid_auto_rows": null,
            "grid_column": null,
            "grid_gap": null,
            "grid_row": null,
            "grid_template_areas": null,
            "grid_template_columns": null,
            "grid_template_rows": null,
            "height": null,
            "justify_content": null,
            "justify_items": null,
            "left": null,
            "margin": null,
            "max_height": null,
            "max_width": null,
            "min_height": null,
            "min_width": null,
            "object_fit": null,
            "object_position": null,
            "order": null,
            "overflow": null,
            "overflow_x": null,
            "overflow_y": null,
            "padding": null,
            "right": null,
            "top": null,
            "visibility": null,
            "width": null
          }
        },
        "bbcad3a35a4e433c9d62d73338d77fb8": {
          "model_module": "@jupyter-widgets/base",
          "model_name": "LayoutModel",
          "model_module_version": "1.2.0",
          "state": {
            "_model_module": "@jupyter-widgets/base",
            "_model_module_version": "1.2.0",
            "_model_name": "LayoutModel",
            "_view_count": null,
            "_view_module": "@jupyter-widgets/base",
            "_view_module_version": "1.2.0",
            "_view_name": "LayoutView",
            "align_content": null,
            "align_items": null,
            "align_self": null,
            "border": null,
            "bottom": null,
            "display": null,
            "flex": null,
            "flex_flow": null,
            "grid_area": null,
            "grid_auto_columns": null,
            "grid_auto_flow": null,
            "grid_auto_rows": null,
            "grid_column": null,
            "grid_gap": null,
            "grid_row": null,
            "grid_template_areas": null,
            "grid_template_columns": null,
            "grid_template_rows": null,
            "height": null,
            "justify_content": null,
            "justify_items": null,
            "left": null,
            "margin": null,
            "max_height": null,
            "max_width": null,
            "min_height": null,
            "min_width": null,
            "object_fit": null,
            "object_position": null,
            "order": null,
            "overflow": null,
            "overflow_x": null,
            "overflow_y": null,
            "padding": null,
            "right": null,
            "top": null,
            "visibility": null,
            "width": null
          }
        },
        "406d8bea68904bbdb4cec0c486f0077b": {
          "model_module": "@jupyter-widgets/controls",
          "model_name": "DescriptionStyleModel",
          "model_module_version": "1.5.0",
          "state": {
            "_model_module": "@jupyter-widgets/controls",
            "_model_module_version": "1.5.0",
            "_model_name": "DescriptionStyleModel",
            "_view_count": null,
            "_view_module": "@jupyter-widgets/base",
            "_view_module_version": "1.2.0",
            "_view_name": "StyleView",
            "description_width": ""
          }
        },
        "75f232e7308f4dc3a57ecf22b89b825c": {
          "model_module": "@jupyter-widgets/base",
          "model_name": "LayoutModel",
          "model_module_version": "1.2.0",
          "state": {
            "_model_module": "@jupyter-widgets/base",
            "_model_module_version": "1.2.0",
            "_model_name": "LayoutModel",
            "_view_count": null,
            "_view_module": "@jupyter-widgets/base",
            "_view_module_version": "1.2.0",
            "_view_name": "LayoutView",
            "align_content": null,
            "align_items": null,
            "align_self": null,
            "border": null,
            "bottom": null,
            "display": null,
            "flex": null,
            "flex_flow": null,
            "grid_area": null,
            "grid_auto_columns": null,
            "grid_auto_flow": null,
            "grid_auto_rows": null,
            "grid_column": null,
            "grid_gap": null,
            "grid_row": null,
            "grid_template_areas": null,
            "grid_template_columns": null,
            "grid_template_rows": null,
            "height": null,
            "justify_content": null,
            "justify_items": null,
            "left": null,
            "margin": null,
            "max_height": null,
            "max_width": null,
            "min_height": null,
            "min_width": null,
            "object_fit": null,
            "object_position": null,
            "order": null,
            "overflow": null,
            "overflow_x": null,
            "overflow_y": null,
            "padding": null,
            "right": null,
            "top": null,
            "visibility": null,
            "width": null
          }
        },
        "511deaabc9f34758841ba9cf51921296": {
          "model_module": "@jupyter-widgets/controls",
          "model_name": "ProgressStyleModel",
          "model_module_version": "1.5.0",
          "state": {
            "_model_module": "@jupyter-widgets/controls",
            "_model_module_version": "1.5.0",
            "_model_name": "ProgressStyleModel",
            "_view_count": null,
            "_view_module": "@jupyter-widgets/base",
            "_view_module_version": "1.2.0",
            "_view_name": "StyleView",
            "bar_color": null,
            "description_width": ""
          }
        },
        "9e0cbbbf71a549e1a4e21a8324d6ce9e": {
          "model_module": "@jupyter-widgets/controls",
          "model_name": "VBoxModel",
          "model_module_version": "1.5.0",
          "state": {
            "_dom_classes": [],
            "_model_module": "@jupyter-widgets/controls",
            "_model_module_version": "1.5.0",
            "_model_name": "VBoxModel",
            "_view_count": null,
            "_view_module": "@jupyter-widgets/controls",
            "_view_module_version": "1.5.0",
            "_view_name": "VBoxView",
            "box_style": "",
            "children": [
              "IPY_MODEL_09bf18ddf2b141168ba793a03d6d27d5",
              "IPY_MODEL_f34b1806bf2d4cca8e12f060a0e06c46"
            ],
            "layout": "IPY_MODEL_1955456547cc4fe796c376f0032c7988"
          }
        },
        "09bf18ddf2b141168ba793a03d6d27d5": {
          "model_module": "@jupyter-widgets/controls",
          "model_name": "LabelModel",
          "model_module_version": "1.5.0",
          "state": {
            "_dom_classes": [],
            "_model_module": "@jupyter-widgets/controls",
            "_model_module_version": "1.5.0",
            "_model_name": "LabelModel",
            "_view_count": null,
            "_view_module": "@jupyter-widgets/controls",
            "_view_module_version": "1.5.0",
            "_view_name": "LabelView",
            "description": "",
            "description_tooltip": null,
            "layout": "IPY_MODEL_314bfbcb03874e32b1a19958f8e84494",
            "placeholder": "​",
            "style": "IPY_MODEL_2fabda47d80945868298657e89ab4db8",
            "value": "0.001 MB of 0.021 MB uploaded (0.000 MB deduped)\r"
          }
        },
        "f34b1806bf2d4cca8e12f060a0e06c46": {
          "model_module": "@jupyter-widgets/controls",
          "model_name": "FloatProgressModel",
          "model_module_version": "1.5.0",
          "state": {
            "_dom_classes": [],
            "_model_module": "@jupyter-widgets/controls",
            "_model_module_version": "1.5.0",
            "_model_name": "FloatProgressModel",
            "_view_count": null,
            "_view_module": "@jupyter-widgets/controls",
            "_view_module_version": "1.5.0",
            "_view_name": "ProgressView",
            "bar_style": "",
            "description": "",
            "description_tooltip": null,
            "layout": "IPY_MODEL_82d52cd001724e0185033c540ba209e0",
            "max": 1,
            "min": 0,
            "orientation": "horizontal",
            "style": "IPY_MODEL_a7598e5ba1154c0b96bdd032b9341a2d",
            "value": 0.05176627416129749
          }
        },
        "1955456547cc4fe796c376f0032c7988": {
          "model_module": "@jupyter-widgets/base",
          "model_name": "LayoutModel",
          "model_module_version": "1.2.0",
          "state": {
            "_model_module": "@jupyter-widgets/base",
            "_model_module_version": "1.2.0",
            "_model_name": "LayoutModel",
            "_view_count": null,
            "_view_module": "@jupyter-widgets/base",
            "_view_module_version": "1.2.0",
            "_view_name": "LayoutView",
            "align_content": null,
            "align_items": null,
            "align_self": null,
            "border": null,
            "bottom": null,
            "display": null,
            "flex": null,
            "flex_flow": null,
            "grid_area": null,
            "grid_auto_columns": null,
            "grid_auto_flow": null,
            "grid_auto_rows": null,
            "grid_column": null,
            "grid_gap": null,
            "grid_row": null,
            "grid_template_areas": null,
            "grid_template_columns": null,
            "grid_template_rows": null,
            "height": null,
            "justify_content": null,
            "justify_items": null,
            "left": null,
            "margin": null,
            "max_height": null,
            "max_width": null,
            "min_height": null,
            "min_width": null,
            "object_fit": null,
            "object_position": null,
            "order": null,
            "overflow": null,
            "overflow_x": null,
            "overflow_y": null,
            "padding": null,
            "right": null,
            "top": null,
            "visibility": null,
            "width": null
          }
        },
        "314bfbcb03874e32b1a19958f8e84494": {
          "model_module": "@jupyter-widgets/base",
          "model_name": "LayoutModel",
          "model_module_version": "1.2.0",
          "state": {
            "_model_module": "@jupyter-widgets/base",
            "_model_module_version": "1.2.0",
            "_model_name": "LayoutModel",
            "_view_count": null,
            "_view_module": "@jupyter-widgets/base",
            "_view_module_version": "1.2.0",
            "_view_name": "LayoutView",
            "align_content": null,
            "align_items": null,
            "align_self": null,
            "border": null,
            "bottom": null,
            "display": null,
            "flex": null,
            "flex_flow": null,
            "grid_area": null,
            "grid_auto_columns": null,
            "grid_auto_flow": null,
            "grid_auto_rows": null,
            "grid_column": null,
            "grid_gap": null,
            "grid_row": null,
            "grid_template_areas": null,
            "grid_template_columns": null,
            "grid_template_rows": null,
            "height": null,
            "justify_content": null,
            "justify_items": null,
            "left": null,
            "margin": null,
            "max_height": null,
            "max_width": null,
            "min_height": null,
            "min_width": null,
            "object_fit": null,
            "object_position": null,
            "order": null,
            "overflow": null,
            "overflow_x": null,
            "overflow_y": null,
            "padding": null,
            "right": null,
            "top": null,
            "visibility": null,
            "width": null
          }
        },
        "2fabda47d80945868298657e89ab4db8": {
          "model_module": "@jupyter-widgets/controls",
          "model_name": "DescriptionStyleModel",
          "model_module_version": "1.5.0",
          "state": {
            "_model_module": "@jupyter-widgets/controls",
            "_model_module_version": "1.5.0",
            "_model_name": "DescriptionStyleModel",
            "_view_count": null,
            "_view_module": "@jupyter-widgets/base",
            "_view_module_version": "1.2.0",
            "_view_name": "StyleView",
            "description_width": ""
          }
        },
        "82d52cd001724e0185033c540ba209e0": {
          "model_module": "@jupyter-widgets/base",
          "model_name": "LayoutModel",
          "model_module_version": "1.2.0",
          "state": {
            "_model_module": "@jupyter-widgets/base",
            "_model_module_version": "1.2.0",
            "_model_name": "LayoutModel",
            "_view_count": null,
            "_view_module": "@jupyter-widgets/base",
            "_view_module_version": "1.2.0",
            "_view_name": "LayoutView",
            "align_content": null,
            "align_items": null,
            "align_self": null,
            "border": null,
            "bottom": null,
            "display": null,
            "flex": null,
            "flex_flow": null,
            "grid_area": null,
            "grid_auto_columns": null,
            "grid_auto_flow": null,
            "grid_auto_rows": null,
            "grid_column": null,
            "grid_gap": null,
            "grid_row": null,
            "grid_template_areas": null,
            "grid_template_columns": null,
            "grid_template_rows": null,
            "height": null,
            "justify_content": null,
            "justify_items": null,
            "left": null,
            "margin": null,
            "max_height": null,
            "max_width": null,
            "min_height": null,
            "min_width": null,
            "object_fit": null,
            "object_position": null,
            "order": null,
            "overflow": null,
            "overflow_x": null,
            "overflow_y": null,
            "padding": null,
            "right": null,
            "top": null,
            "visibility": null,
            "width": null
          }
        },
        "a7598e5ba1154c0b96bdd032b9341a2d": {
          "model_module": "@jupyter-widgets/controls",
          "model_name": "ProgressStyleModel",
          "model_module_version": "1.5.0",
          "state": {
            "_model_module": "@jupyter-widgets/controls",
            "_model_module_version": "1.5.0",
            "_model_name": "ProgressStyleModel",
            "_view_count": null,
            "_view_module": "@jupyter-widgets/base",
            "_view_module_version": "1.2.0",
            "_view_name": "StyleView",
            "bar_color": null,
            "description_width": ""
          }
        },
        "f6c071d5a0ab45a2b7d04ea9685e27fa": {
          "model_module": "@jupyter-widgets/controls",
          "model_name": "VBoxModel",
          "model_module_version": "1.5.0",
          "state": {
            "_dom_classes": [],
            "_model_module": "@jupyter-widgets/controls",
            "_model_module_version": "1.5.0",
            "_model_name": "VBoxModel",
            "_view_count": null,
            "_view_module": "@jupyter-widgets/controls",
            "_view_module_version": "1.5.0",
            "_view_name": "VBoxView",
            "box_style": "",
            "children": [
              "IPY_MODEL_874829e16fd144b1998d503a933d2a5b",
              "IPY_MODEL_ae30223a1306444e98e5d269a8332bf9"
            ],
            "layout": "IPY_MODEL_565233cc67974b808427d20880354ba0"
          }
        },
        "874829e16fd144b1998d503a933d2a5b": {
          "model_module": "@jupyter-widgets/controls",
          "model_name": "LabelModel",
          "model_module_version": "1.5.0",
          "state": {
            "_dom_classes": [],
            "_model_module": "@jupyter-widgets/controls",
            "_model_module_version": "1.5.0",
            "_model_name": "LabelModel",
            "_view_count": null,
            "_view_module": "@jupyter-widgets/controls",
            "_view_module_version": "1.5.0",
            "_view_name": "LabelView",
            "description": "",
            "description_tooltip": null,
            "layout": "IPY_MODEL_3f5afd90b73046da80b491885eb7fdd7",
            "placeholder": "​",
            "style": "IPY_MODEL_df923aa5d7774924afd66b33f581b279",
            "value": "0.001 MB of 0.021 MB uploaded (0.000 MB deduped)\r"
          }
        },
        "ae30223a1306444e98e5d269a8332bf9": {
          "model_module": "@jupyter-widgets/controls",
          "model_name": "FloatProgressModel",
          "model_module_version": "1.5.0",
          "state": {
            "_dom_classes": [],
            "_model_module": "@jupyter-widgets/controls",
            "_model_module_version": "1.5.0",
            "_model_name": "FloatProgressModel",
            "_view_count": null,
            "_view_module": "@jupyter-widgets/controls",
            "_view_module_version": "1.5.0",
            "_view_name": "ProgressView",
            "bar_style": "",
            "description": "",
            "description_tooltip": null,
            "layout": "IPY_MODEL_d536a15f0dd6471aaff98c1d0d89399b",
            "max": 1,
            "min": 0,
            "orientation": "horizontal",
            "style": "IPY_MODEL_47abf427dd194559927d029be835207c",
            "value": 0.05264350110995333
          }
        },
        "565233cc67974b808427d20880354ba0": {
          "model_module": "@jupyter-widgets/base",
          "model_name": "LayoutModel",
          "model_module_version": "1.2.0",
          "state": {
            "_model_module": "@jupyter-widgets/base",
            "_model_module_version": "1.2.0",
            "_model_name": "LayoutModel",
            "_view_count": null,
            "_view_module": "@jupyter-widgets/base",
            "_view_module_version": "1.2.0",
            "_view_name": "LayoutView",
            "align_content": null,
            "align_items": null,
            "align_self": null,
            "border": null,
            "bottom": null,
            "display": null,
            "flex": null,
            "flex_flow": null,
            "grid_area": null,
            "grid_auto_columns": null,
            "grid_auto_flow": null,
            "grid_auto_rows": null,
            "grid_column": null,
            "grid_gap": null,
            "grid_row": null,
            "grid_template_areas": null,
            "grid_template_columns": null,
            "grid_template_rows": null,
            "height": null,
            "justify_content": null,
            "justify_items": null,
            "left": null,
            "margin": null,
            "max_height": null,
            "max_width": null,
            "min_height": null,
            "min_width": null,
            "object_fit": null,
            "object_position": null,
            "order": null,
            "overflow": null,
            "overflow_x": null,
            "overflow_y": null,
            "padding": null,
            "right": null,
            "top": null,
            "visibility": null,
            "width": null
          }
        },
        "3f5afd90b73046da80b491885eb7fdd7": {
          "model_module": "@jupyter-widgets/base",
          "model_name": "LayoutModel",
          "model_module_version": "1.2.0",
          "state": {
            "_model_module": "@jupyter-widgets/base",
            "_model_module_version": "1.2.0",
            "_model_name": "LayoutModel",
            "_view_count": null,
            "_view_module": "@jupyter-widgets/base",
            "_view_module_version": "1.2.0",
            "_view_name": "LayoutView",
            "align_content": null,
            "align_items": null,
            "align_self": null,
            "border": null,
            "bottom": null,
            "display": null,
            "flex": null,
            "flex_flow": null,
            "grid_area": null,
            "grid_auto_columns": null,
            "grid_auto_flow": null,
            "grid_auto_rows": null,
            "grid_column": null,
            "grid_gap": null,
            "grid_row": null,
            "grid_template_areas": null,
            "grid_template_columns": null,
            "grid_template_rows": null,
            "height": null,
            "justify_content": null,
            "justify_items": null,
            "left": null,
            "margin": null,
            "max_height": null,
            "max_width": null,
            "min_height": null,
            "min_width": null,
            "object_fit": null,
            "object_position": null,
            "order": null,
            "overflow": null,
            "overflow_x": null,
            "overflow_y": null,
            "padding": null,
            "right": null,
            "top": null,
            "visibility": null,
            "width": null
          }
        },
        "df923aa5d7774924afd66b33f581b279": {
          "model_module": "@jupyter-widgets/controls",
          "model_name": "DescriptionStyleModel",
          "model_module_version": "1.5.0",
          "state": {
            "_model_module": "@jupyter-widgets/controls",
            "_model_module_version": "1.5.0",
            "_model_name": "DescriptionStyleModel",
            "_view_count": null,
            "_view_module": "@jupyter-widgets/base",
            "_view_module_version": "1.2.0",
            "_view_name": "StyleView",
            "description_width": ""
          }
        },
        "d536a15f0dd6471aaff98c1d0d89399b": {
          "model_module": "@jupyter-widgets/base",
          "model_name": "LayoutModel",
          "model_module_version": "1.2.0",
          "state": {
            "_model_module": "@jupyter-widgets/base",
            "_model_module_version": "1.2.0",
            "_model_name": "LayoutModel",
            "_view_count": null,
            "_view_module": "@jupyter-widgets/base",
            "_view_module_version": "1.2.0",
            "_view_name": "LayoutView",
            "align_content": null,
            "align_items": null,
            "align_self": null,
            "border": null,
            "bottom": null,
            "display": null,
            "flex": null,
            "flex_flow": null,
            "grid_area": null,
            "grid_auto_columns": null,
            "grid_auto_flow": null,
            "grid_auto_rows": null,
            "grid_column": null,
            "grid_gap": null,
            "grid_row": null,
            "grid_template_areas": null,
            "grid_template_columns": null,
            "grid_template_rows": null,
            "height": null,
            "justify_content": null,
            "justify_items": null,
            "left": null,
            "margin": null,
            "max_height": null,
            "max_width": null,
            "min_height": null,
            "min_width": null,
            "object_fit": null,
            "object_position": null,
            "order": null,
            "overflow": null,
            "overflow_x": null,
            "overflow_y": null,
            "padding": null,
            "right": null,
            "top": null,
            "visibility": null,
            "width": null
          }
        },
        "47abf427dd194559927d029be835207c": {
          "model_module": "@jupyter-widgets/controls",
          "model_name": "ProgressStyleModel",
          "model_module_version": "1.5.0",
          "state": {
            "_model_module": "@jupyter-widgets/controls",
            "_model_module_version": "1.5.0",
            "_model_name": "ProgressStyleModel",
            "_view_count": null,
            "_view_module": "@jupyter-widgets/base",
            "_view_module_version": "1.2.0",
            "_view_name": "StyleView",
            "bar_color": null,
            "description_width": ""
          }
        },
        "e17cb51c7236421b823f7732a7957df8": {
          "model_module": "@jupyter-widgets/controls",
          "model_name": "VBoxModel",
          "model_module_version": "1.5.0",
          "state": {
            "_dom_classes": [],
            "_model_module": "@jupyter-widgets/controls",
            "_model_module_version": "1.5.0",
            "_model_name": "VBoxModel",
            "_view_count": null,
            "_view_module": "@jupyter-widgets/controls",
            "_view_module_version": "1.5.0",
            "_view_name": "VBoxView",
            "box_style": "",
            "children": [
              "IPY_MODEL_7e67a6568e6d44a59d128cf440b2b409",
              "IPY_MODEL_855cff6e452a4ce5bbe860306ac5b658"
            ],
            "layout": "IPY_MODEL_90e7a5333409459a9a32935efb45d23e"
          }
        },
        "7e67a6568e6d44a59d128cf440b2b409": {
          "model_module": "@jupyter-widgets/controls",
          "model_name": "LabelModel",
          "model_module_version": "1.5.0",
          "state": {
            "_dom_classes": [],
            "_model_module": "@jupyter-widgets/controls",
            "_model_module_version": "1.5.0",
            "_model_name": "LabelModel",
            "_view_count": null,
            "_view_module": "@jupyter-widgets/controls",
            "_view_module_version": "1.5.0",
            "_view_name": "LabelView",
            "description": "",
            "description_tooltip": null,
            "layout": "IPY_MODEL_ea67f447ff12461bae627d9d1cdfa897",
            "placeholder": "​",
            "style": "IPY_MODEL_064b91bbeecf4b6983942728bd41bb1b",
            "value": "0.014 MB of 0.021 MB uploaded (0.000 MB deduped)\r"
          }
        },
        "855cff6e452a4ce5bbe860306ac5b658": {
          "model_module": "@jupyter-widgets/controls",
          "model_name": "FloatProgressModel",
          "model_module_version": "1.5.0",
          "state": {
            "_dom_classes": [],
            "_model_module": "@jupyter-widgets/controls",
            "_model_module_version": "1.5.0",
            "_model_name": "FloatProgressModel",
            "_view_count": null,
            "_view_module": "@jupyter-widgets/controls",
            "_view_module_version": "1.5.0",
            "_view_name": "ProgressView",
            "bar_style": "",
            "description": "",
            "description_tooltip": null,
            "layout": "IPY_MODEL_50b3d93a8bfe4af89d5f14bcb7295eaf",
            "max": 1,
            "min": 0,
            "orientation": "horizontal",
            "style": "IPY_MODEL_48b055bcf8d64e0f9ddf42e860df5f95",
            "value": 0.6554735937005023
          }
        },
        "90e7a5333409459a9a32935efb45d23e": {
          "model_module": "@jupyter-widgets/base",
          "model_name": "LayoutModel",
          "model_module_version": "1.2.0",
          "state": {
            "_model_module": "@jupyter-widgets/base",
            "_model_module_version": "1.2.0",
            "_model_name": "LayoutModel",
            "_view_count": null,
            "_view_module": "@jupyter-widgets/base",
            "_view_module_version": "1.2.0",
            "_view_name": "LayoutView",
            "align_content": null,
            "align_items": null,
            "align_self": null,
            "border": null,
            "bottom": null,
            "display": null,
            "flex": null,
            "flex_flow": null,
            "grid_area": null,
            "grid_auto_columns": null,
            "grid_auto_flow": null,
            "grid_auto_rows": null,
            "grid_column": null,
            "grid_gap": null,
            "grid_row": null,
            "grid_template_areas": null,
            "grid_template_columns": null,
            "grid_template_rows": null,
            "height": null,
            "justify_content": null,
            "justify_items": null,
            "left": null,
            "margin": null,
            "max_height": null,
            "max_width": null,
            "min_height": null,
            "min_width": null,
            "object_fit": null,
            "object_position": null,
            "order": null,
            "overflow": null,
            "overflow_x": null,
            "overflow_y": null,
            "padding": null,
            "right": null,
            "top": null,
            "visibility": null,
            "width": null
          }
        },
        "ea67f447ff12461bae627d9d1cdfa897": {
          "model_module": "@jupyter-widgets/base",
          "model_name": "LayoutModel",
          "model_module_version": "1.2.0",
          "state": {
            "_model_module": "@jupyter-widgets/base",
            "_model_module_version": "1.2.0",
            "_model_name": "LayoutModel",
            "_view_count": null,
            "_view_module": "@jupyter-widgets/base",
            "_view_module_version": "1.2.0",
            "_view_name": "LayoutView",
            "align_content": null,
            "align_items": null,
            "align_self": null,
            "border": null,
            "bottom": null,
            "display": null,
            "flex": null,
            "flex_flow": null,
            "grid_area": null,
            "grid_auto_columns": null,
            "grid_auto_flow": null,
            "grid_auto_rows": null,
            "grid_column": null,
            "grid_gap": null,
            "grid_row": null,
            "grid_template_areas": null,
            "grid_template_columns": null,
            "grid_template_rows": null,
            "height": null,
            "justify_content": null,
            "justify_items": null,
            "left": null,
            "margin": null,
            "max_height": null,
            "max_width": null,
            "min_height": null,
            "min_width": null,
            "object_fit": null,
            "object_position": null,
            "order": null,
            "overflow": null,
            "overflow_x": null,
            "overflow_y": null,
            "padding": null,
            "right": null,
            "top": null,
            "visibility": null,
            "width": null
          }
        },
        "064b91bbeecf4b6983942728bd41bb1b": {
          "model_module": "@jupyter-widgets/controls",
          "model_name": "DescriptionStyleModel",
          "model_module_version": "1.5.0",
          "state": {
            "_model_module": "@jupyter-widgets/controls",
            "_model_module_version": "1.5.0",
            "_model_name": "DescriptionStyleModel",
            "_view_count": null,
            "_view_module": "@jupyter-widgets/base",
            "_view_module_version": "1.2.0",
            "_view_name": "StyleView",
            "description_width": ""
          }
        },
        "50b3d93a8bfe4af89d5f14bcb7295eaf": {
          "model_module": "@jupyter-widgets/base",
          "model_name": "LayoutModel",
          "model_module_version": "1.2.0",
          "state": {
            "_model_module": "@jupyter-widgets/base",
            "_model_module_version": "1.2.0",
            "_model_name": "LayoutModel",
            "_view_count": null,
            "_view_module": "@jupyter-widgets/base",
            "_view_module_version": "1.2.0",
            "_view_name": "LayoutView",
            "align_content": null,
            "align_items": null,
            "align_self": null,
            "border": null,
            "bottom": null,
            "display": null,
            "flex": null,
            "flex_flow": null,
            "grid_area": null,
            "grid_auto_columns": null,
            "grid_auto_flow": null,
            "grid_auto_rows": null,
            "grid_column": null,
            "grid_gap": null,
            "grid_row": null,
            "grid_template_areas": null,
            "grid_template_columns": null,
            "grid_template_rows": null,
            "height": null,
            "justify_content": null,
            "justify_items": null,
            "left": null,
            "margin": null,
            "max_height": null,
            "max_width": null,
            "min_height": null,
            "min_width": null,
            "object_fit": null,
            "object_position": null,
            "order": null,
            "overflow": null,
            "overflow_x": null,
            "overflow_y": null,
            "padding": null,
            "right": null,
            "top": null,
            "visibility": null,
            "width": null
          }
        },
        "48b055bcf8d64e0f9ddf42e860df5f95": {
          "model_module": "@jupyter-widgets/controls",
          "model_name": "ProgressStyleModel",
          "model_module_version": "1.5.0",
          "state": {
            "_model_module": "@jupyter-widgets/controls",
            "_model_module_version": "1.5.0",
            "_model_name": "ProgressStyleModel",
            "_view_count": null,
            "_view_module": "@jupyter-widgets/base",
            "_view_module_version": "1.2.0",
            "_view_name": "StyleView",
            "bar_color": null,
            "description_width": ""
          }
        },
        "159c96a0da114560af7148fa91d4c327": {
          "model_module": "@jupyter-widgets/controls",
          "model_name": "VBoxModel",
          "model_module_version": "1.5.0",
          "state": {
            "_dom_classes": [],
            "_model_module": "@jupyter-widgets/controls",
            "_model_module_version": "1.5.0",
            "_model_name": "VBoxModel",
            "_view_count": null,
            "_view_module": "@jupyter-widgets/controls",
            "_view_module_version": "1.5.0",
            "_view_name": "VBoxView",
            "box_style": "",
            "children": [
              "IPY_MODEL_4c5fbed6d29046a68396f603a0c3082a",
              "IPY_MODEL_a672bad0e7054181b51ec4a892dd07e1"
            ],
            "layout": "IPY_MODEL_ae57ead32a6440ab9c76bbfd93cffc57"
          }
        },
        "4c5fbed6d29046a68396f603a0c3082a": {
          "model_module": "@jupyter-widgets/controls",
          "model_name": "LabelModel",
          "model_module_version": "1.5.0",
          "state": {
            "_dom_classes": [],
            "_model_module": "@jupyter-widgets/controls",
            "_model_module_version": "1.5.0",
            "_model_name": "LabelModel",
            "_view_count": null,
            "_view_module": "@jupyter-widgets/controls",
            "_view_module_version": "1.5.0",
            "_view_name": "LabelView",
            "description": "",
            "description_tooltip": null,
            "layout": "IPY_MODEL_0db5aa063a634cb9b2d15f37f92d3d1d",
            "placeholder": "​",
            "style": "IPY_MODEL_630f62d1f72f423484372e6212214e6f",
            "value": "0.014 MB of 0.021 MB uploaded (0.000 MB deduped)\r"
          }
        },
        "a672bad0e7054181b51ec4a892dd07e1": {
          "model_module": "@jupyter-widgets/controls",
          "model_name": "FloatProgressModel",
          "model_module_version": "1.5.0",
          "state": {
            "_dom_classes": [],
            "_model_module": "@jupyter-widgets/controls",
            "_model_module_version": "1.5.0",
            "_model_name": "FloatProgressModel",
            "_view_count": null,
            "_view_module": "@jupyter-widgets/controls",
            "_view_module_version": "1.5.0",
            "_view_name": "ProgressView",
            "bar_style": "",
            "description": "",
            "description_tooltip": null,
            "layout": "IPY_MODEL_aa10af1ffb76428a8234257dc7ebece8",
            "max": 1,
            "min": 0,
            "orientation": "horizontal",
            "style": "IPY_MODEL_321d30d87a8344ad8576701f568b4d10",
            "value": 0.6550833635375136
          }
        },
        "ae57ead32a6440ab9c76bbfd93cffc57": {
          "model_module": "@jupyter-widgets/base",
          "model_name": "LayoutModel",
          "model_module_version": "1.2.0",
          "state": {
            "_model_module": "@jupyter-widgets/base",
            "_model_module_version": "1.2.0",
            "_model_name": "LayoutModel",
            "_view_count": null,
            "_view_module": "@jupyter-widgets/base",
            "_view_module_version": "1.2.0",
            "_view_name": "LayoutView",
            "align_content": null,
            "align_items": null,
            "align_self": null,
            "border": null,
            "bottom": null,
            "display": null,
            "flex": null,
            "flex_flow": null,
            "grid_area": null,
            "grid_auto_columns": null,
            "grid_auto_flow": null,
            "grid_auto_rows": null,
            "grid_column": null,
            "grid_gap": null,
            "grid_row": null,
            "grid_template_areas": null,
            "grid_template_columns": null,
            "grid_template_rows": null,
            "height": null,
            "justify_content": null,
            "justify_items": null,
            "left": null,
            "margin": null,
            "max_height": null,
            "max_width": null,
            "min_height": null,
            "min_width": null,
            "object_fit": null,
            "object_position": null,
            "order": null,
            "overflow": null,
            "overflow_x": null,
            "overflow_y": null,
            "padding": null,
            "right": null,
            "top": null,
            "visibility": null,
            "width": null
          }
        },
        "0db5aa063a634cb9b2d15f37f92d3d1d": {
          "model_module": "@jupyter-widgets/base",
          "model_name": "LayoutModel",
          "model_module_version": "1.2.0",
          "state": {
            "_model_module": "@jupyter-widgets/base",
            "_model_module_version": "1.2.0",
            "_model_name": "LayoutModel",
            "_view_count": null,
            "_view_module": "@jupyter-widgets/base",
            "_view_module_version": "1.2.0",
            "_view_name": "LayoutView",
            "align_content": null,
            "align_items": null,
            "align_self": null,
            "border": null,
            "bottom": null,
            "display": null,
            "flex": null,
            "flex_flow": null,
            "grid_area": null,
            "grid_auto_columns": null,
            "grid_auto_flow": null,
            "grid_auto_rows": null,
            "grid_column": null,
            "grid_gap": null,
            "grid_row": null,
            "grid_template_areas": null,
            "grid_template_columns": null,
            "grid_template_rows": null,
            "height": null,
            "justify_content": null,
            "justify_items": null,
            "left": null,
            "margin": null,
            "max_height": null,
            "max_width": null,
            "min_height": null,
            "min_width": null,
            "object_fit": null,
            "object_position": null,
            "order": null,
            "overflow": null,
            "overflow_x": null,
            "overflow_y": null,
            "padding": null,
            "right": null,
            "top": null,
            "visibility": null,
            "width": null
          }
        },
        "630f62d1f72f423484372e6212214e6f": {
          "model_module": "@jupyter-widgets/controls",
          "model_name": "DescriptionStyleModel",
          "model_module_version": "1.5.0",
          "state": {
            "_model_module": "@jupyter-widgets/controls",
            "_model_module_version": "1.5.0",
            "_model_name": "DescriptionStyleModel",
            "_view_count": null,
            "_view_module": "@jupyter-widgets/base",
            "_view_module_version": "1.2.0",
            "_view_name": "StyleView",
            "description_width": ""
          }
        },
        "aa10af1ffb76428a8234257dc7ebece8": {
          "model_module": "@jupyter-widgets/base",
          "model_name": "LayoutModel",
          "model_module_version": "1.2.0",
          "state": {
            "_model_module": "@jupyter-widgets/base",
            "_model_module_version": "1.2.0",
            "_model_name": "LayoutModel",
            "_view_count": null,
            "_view_module": "@jupyter-widgets/base",
            "_view_module_version": "1.2.0",
            "_view_name": "LayoutView",
            "align_content": null,
            "align_items": null,
            "align_self": null,
            "border": null,
            "bottom": null,
            "display": null,
            "flex": null,
            "flex_flow": null,
            "grid_area": null,
            "grid_auto_columns": null,
            "grid_auto_flow": null,
            "grid_auto_rows": null,
            "grid_column": null,
            "grid_gap": null,
            "grid_row": null,
            "grid_template_areas": null,
            "grid_template_columns": null,
            "grid_template_rows": null,
            "height": null,
            "justify_content": null,
            "justify_items": null,
            "left": null,
            "margin": null,
            "max_height": null,
            "max_width": null,
            "min_height": null,
            "min_width": null,
            "object_fit": null,
            "object_position": null,
            "order": null,
            "overflow": null,
            "overflow_x": null,
            "overflow_y": null,
            "padding": null,
            "right": null,
            "top": null,
            "visibility": null,
            "width": null
          }
        },
        "321d30d87a8344ad8576701f568b4d10": {
          "model_module": "@jupyter-widgets/controls",
          "model_name": "ProgressStyleModel",
          "model_module_version": "1.5.0",
          "state": {
            "_model_module": "@jupyter-widgets/controls",
            "_model_module_version": "1.5.0",
            "_model_name": "ProgressStyleModel",
            "_view_count": null,
            "_view_module": "@jupyter-widgets/base",
            "_view_module_version": "1.2.0",
            "_view_name": "StyleView",
            "bar_color": null,
            "description_width": ""
          }
        },
        "b8e4e5d509c54cabb6892660fca95c66": {
          "model_module": "@jupyter-widgets/controls",
          "model_name": "VBoxModel",
          "model_module_version": "1.5.0",
          "state": {
            "_dom_classes": [],
            "_model_module": "@jupyter-widgets/controls",
            "_model_module_version": "1.5.0",
            "_model_name": "VBoxModel",
            "_view_count": null,
            "_view_module": "@jupyter-widgets/controls",
            "_view_module_version": "1.5.0",
            "_view_name": "VBoxView",
            "box_style": "",
            "children": [
              "IPY_MODEL_b0e7df4bb52549d8a1b1ba902eeae718",
              "IPY_MODEL_160eadad34344a01ad6aedb7635f796e"
            ],
            "layout": "IPY_MODEL_fdce1eee1cbd40e4a2e9cf2784cf95e7"
          }
        },
        "b0e7df4bb52549d8a1b1ba902eeae718": {
          "model_module": "@jupyter-widgets/controls",
          "model_name": "LabelModel",
          "model_module_version": "1.5.0",
          "state": {
            "_dom_classes": [],
            "_model_module": "@jupyter-widgets/controls",
            "_model_module_version": "1.5.0",
            "_model_name": "LabelModel",
            "_view_count": null,
            "_view_module": "@jupyter-widgets/controls",
            "_view_module_version": "1.5.0",
            "_view_name": "LabelView",
            "description": "",
            "description_tooltip": null,
            "layout": "IPY_MODEL_b20125f5c98045cb92d76e8f49d5eb70",
            "placeholder": "​",
            "style": "IPY_MODEL_ae35530478ab43759b937c9f92fe2826",
            "value": "0.001 MB of 0.021 MB uploaded (0.000 MB deduped)\r"
          }
        },
        "160eadad34344a01ad6aedb7635f796e": {
          "model_module": "@jupyter-widgets/controls",
          "model_name": "FloatProgressModel",
          "model_module_version": "1.5.0",
          "state": {
            "_dom_classes": [],
            "_model_module": "@jupyter-widgets/controls",
            "_model_module_version": "1.5.0",
            "_model_name": "FloatProgressModel",
            "_view_count": null,
            "_view_module": "@jupyter-widgets/controls",
            "_view_module_version": "1.5.0",
            "_view_name": "ProgressView",
            "bar_style": "",
            "description": "",
            "description_tooltip": null,
            "layout": "IPY_MODEL_8d273c8999614a66bbd229ec64d9030d",
            "max": 1,
            "min": 0,
            "orientation": "horizontal",
            "style": "IPY_MODEL_d0a8a0edc2c44bd78bb9ccaaeadea65e",
            "value": 0.05407752788443957
          }
        },
        "fdce1eee1cbd40e4a2e9cf2784cf95e7": {
          "model_module": "@jupyter-widgets/base",
          "model_name": "LayoutModel",
          "model_module_version": "1.2.0",
          "state": {
            "_model_module": "@jupyter-widgets/base",
            "_model_module_version": "1.2.0",
            "_model_name": "LayoutModel",
            "_view_count": null,
            "_view_module": "@jupyter-widgets/base",
            "_view_module_version": "1.2.0",
            "_view_name": "LayoutView",
            "align_content": null,
            "align_items": null,
            "align_self": null,
            "border": null,
            "bottom": null,
            "display": null,
            "flex": null,
            "flex_flow": null,
            "grid_area": null,
            "grid_auto_columns": null,
            "grid_auto_flow": null,
            "grid_auto_rows": null,
            "grid_column": null,
            "grid_gap": null,
            "grid_row": null,
            "grid_template_areas": null,
            "grid_template_columns": null,
            "grid_template_rows": null,
            "height": null,
            "justify_content": null,
            "justify_items": null,
            "left": null,
            "margin": null,
            "max_height": null,
            "max_width": null,
            "min_height": null,
            "min_width": null,
            "object_fit": null,
            "object_position": null,
            "order": null,
            "overflow": null,
            "overflow_x": null,
            "overflow_y": null,
            "padding": null,
            "right": null,
            "top": null,
            "visibility": null,
            "width": null
          }
        },
        "b20125f5c98045cb92d76e8f49d5eb70": {
          "model_module": "@jupyter-widgets/base",
          "model_name": "LayoutModel",
          "model_module_version": "1.2.0",
          "state": {
            "_model_module": "@jupyter-widgets/base",
            "_model_module_version": "1.2.0",
            "_model_name": "LayoutModel",
            "_view_count": null,
            "_view_module": "@jupyter-widgets/base",
            "_view_module_version": "1.2.0",
            "_view_name": "LayoutView",
            "align_content": null,
            "align_items": null,
            "align_self": null,
            "border": null,
            "bottom": null,
            "display": null,
            "flex": null,
            "flex_flow": null,
            "grid_area": null,
            "grid_auto_columns": null,
            "grid_auto_flow": null,
            "grid_auto_rows": null,
            "grid_column": null,
            "grid_gap": null,
            "grid_row": null,
            "grid_template_areas": null,
            "grid_template_columns": null,
            "grid_template_rows": null,
            "height": null,
            "justify_content": null,
            "justify_items": null,
            "left": null,
            "margin": null,
            "max_height": null,
            "max_width": null,
            "min_height": null,
            "min_width": null,
            "object_fit": null,
            "object_position": null,
            "order": null,
            "overflow": null,
            "overflow_x": null,
            "overflow_y": null,
            "padding": null,
            "right": null,
            "top": null,
            "visibility": null,
            "width": null
          }
        },
        "ae35530478ab43759b937c9f92fe2826": {
          "model_module": "@jupyter-widgets/controls",
          "model_name": "DescriptionStyleModel",
          "model_module_version": "1.5.0",
          "state": {
            "_model_module": "@jupyter-widgets/controls",
            "_model_module_version": "1.5.0",
            "_model_name": "DescriptionStyleModel",
            "_view_count": null,
            "_view_module": "@jupyter-widgets/base",
            "_view_module_version": "1.2.0",
            "_view_name": "StyleView",
            "description_width": ""
          }
        },
        "8d273c8999614a66bbd229ec64d9030d": {
          "model_module": "@jupyter-widgets/base",
          "model_name": "LayoutModel",
          "model_module_version": "1.2.0",
          "state": {
            "_model_module": "@jupyter-widgets/base",
            "_model_module_version": "1.2.0",
            "_model_name": "LayoutModel",
            "_view_count": null,
            "_view_module": "@jupyter-widgets/base",
            "_view_module_version": "1.2.0",
            "_view_name": "LayoutView",
            "align_content": null,
            "align_items": null,
            "align_self": null,
            "border": null,
            "bottom": null,
            "display": null,
            "flex": null,
            "flex_flow": null,
            "grid_area": null,
            "grid_auto_columns": null,
            "grid_auto_flow": null,
            "grid_auto_rows": null,
            "grid_column": null,
            "grid_gap": null,
            "grid_row": null,
            "grid_template_areas": null,
            "grid_template_columns": null,
            "grid_template_rows": null,
            "height": null,
            "justify_content": null,
            "justify_items": null,
            "left": null,
            "margin": null,
            "max_height": null,
            "max_width": null,
            "min_height": null,
            "min_width": null,
            "object_fit": null,
            "object_position": null,
            "order": null,
            "overflow": null,
            "overflow_x": null,
            "overflow_y": null,
            "padding": null,
            "right": null,
            "top": null,
            "visibility": null,
            "width": null
          }
        },
        "d0a8a0edc2c44bd78bb9ccaaeadea65e": {
          "model_module": "@jupyter-widgets/controls",
          "model_name": "ProgressStyleModel",
          "model_module_version": "1.5.0",
          "state": {
            "_model_module": "@jupyter-widgets/controls",
            "_model_module_version": "1.5.0",
            "_model_name": "ProgressStyleModel",
            "_view_count": null,
            "_view_module": "@jupyter-widgets/base",
            "_view_module_version": "1.2.0",
            "_view_name": "StyleView",
            "bar_color": null,
            "description_width": ""
          }
        }
      }
    },
    "accelerator": "GPU",
    "gpuClass": "standard"
  },
  "nbformat": 4,
  "nbformat_minor": 0
}